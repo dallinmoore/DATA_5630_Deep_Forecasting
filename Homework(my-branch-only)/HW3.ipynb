{
  "cells": [
    {
      "cell_type": "markdown",
      "metadata": {
        "id": "seQOxDPKMrV1"
      },
      "source": [
        "# Homework 3\n",
        "DATA 5630 - Deep Forecasting\n",
        "\n",
        "Dallin Moore & Alesandro Rodriguez\n",
        "\n",
        "## Install Dependencies\n"
      ]
    },
    {
      "cell_type": "code",
      "execution_count": 35,
      "metadata": {
        "id": "-tR1r1qoNmfb"
      },
      "outputs": [],
      "source": [
        "import pandas as pd\n",
        "import matplotlib.pyplot as plt\n",
        "from pycaret.time_series import *\n",
        "from sklearn.metrics import r2_score"
      ]
    },
    {
      "cell_type": "markdown",
      "metadata": {
        "id": "3ApFPH0xMMUe"
      },
      "source": [
        "# Part 1- Exponential Smoothing Methods"
      ]
    },
    {
      "cell_type": "markdown",
      "metadata": {
        "id": "oRSfsXTJNQl0"
      },
      "source": [
        "## 1. Read in the CSV"
      ]
    },
    {
      "cell_type": "code",
      "execution_count": 36,
      "metadata": {
        "colab": {
          "base_uri": "https://localhost:8080/",
          "height": 206
        },
        "id": "rOtcad27OUTa",
        "outputId": "3ca0aa40-838f-4e39-f72e-a2159cd9e5be"
      },
      "outputs": [
        {
          "data": {
            "text/html": [
              "<div>\n",
              "<style scoped>\n",
              "    .dataframe tbody tr th:only-of-type {\n",
              "        vertical-align: middle;\n",
              "    }\n",
              "\n",
              "    .dataframe tbody tr th {\n",
              "        vertical-align: top;\n",
              "    }\n",
              "\n",
              "    .dataframe thead th {\n",
              "        text-align: right;\n",
              "    }\n",
              "</style>\n",
              "<table border=\"1\" class=\"dataframe\">\n",
              "  <thead>\n",
              "    <tr style=\"text-align: right;\">\n",
              "      <th></th>\n",
              "      <th>realgdp</th>\n",
              "      <th>realcons</th>\n",
              "      <th>realinv</th>\n",
              "      <th>realgovt</th>\n",
              "      <th>realdpi</th>\n",
              "      <th>cpi</th>\n",
              "      <th>m1</th>\n",
              "      <th>tbilrate</th>\n",
              "      <th>unemp</th>\n",
              "      <th>pop</th>\n",
              "      <th>infl</th>\n",
              "      <th>realint</th>\n",
              "    </tr>\n",
              "  </thead>\n",
              "  <tbody>\n",
              "    <tr>\n",
              "      <th>1959-03-31</th>\n",
              "      <td>2710.349</td>\n",
              "      <td>1707.4</td>\n",
              "      <td>286.898</td>\n",
              "      <td>470.045</td>\n",
              "      <td>1886.9</td>\n",
              "      <td>28.98</td>\n",
              "      <td>139.7</td>\n",
              "      <td>2.82</td>\n",
              "      <td>5.8</td>\n",
              "      <td>177.146</td>\n",
              "      <td>0.00</td>\n",
              "      <td>0.00</td>\n",
              "    </tr>\n",
              "    <tr>\n",
              "      <th>1959-06-30</th>\n",
              "      <td>2778.801</td>\n",
              "      <td>1733.7</td>\n",
              "      <td>310.859</td>\n",
              "      <td>481.301</td>\n",
              "      <td>1919.7</td>\n",
              "      <td>29.15</td>\n",
              "      <td>141.7</td>\n",
              "      <td>3.08</td>\n",
              "      <td>5.1</td>\n",
              "      <td>177.830</td>\n",
              "      <td>2.34</td>\n",
              "      <td>0.74</td>\n",
              "    </tr>\n",
              "    <tr>\n",
              "      <th>1959-09-30</th>\n",
              "      <td>2775.488</td>\n",
              "      <td>1751.8</td>\n",
              "      <td>289.226</td>\n",
              "      <td>491.260</td>\n",
              "      <td>1916.4</td>\n",
              "      <td>29.35</td>\n",
              "      <td>140.5</td>\n",
              "      <td>3.82</td>\n",
              "      <td>5.3</td>\n",
              "      <td>178.657</td>\n",
              "      <td>2.74</td>\n",
              "      <td>1.09</td>\n",
              "    </tr>\n",
              "    <tr>\n",
              "      <th>1959-12-31</th>\n",
              "      <td>2785.204</td>\n",
              "      <td>1753.7</td>\n",
              "      <td>299.356</td>\n",
              "      <td>484.052</td>\n",
              "      <td>1931.3</td>\n",
              "      <td>29.37</td>\n",
              "      <td>140.0</td>\n",
              "      <td>4.33</td>\n",
              "      <td>5.6</td>\n",
              "      <td>179.386</td>\n",
              "      <td>0.27</td>\n",
              "      <td>4.06</td>\n",
              "    </tr>\n",
              "    <tr>\n",
              "      <th>1960-03-31</th>\n",
              "      <td>2847.699</td>\n",
              "      <td>1770.5</td>\n",
              "      <td>331.722</td>\n",
              "      <td>462.199</td>\n",
              "      <td>1955.5</td>\n",
              "      <td>29.54</td>\n",
              "      <td>139.6</td>\n",
              "      <td>3.50</td>\n",
              "      <td>5.2</td>\n",
              "      <td>180.007</td>\n",
              "      <td>2.31</td>\n",
              "      <td>1.19</td>\n",
              "    </tr>\n",
              "  </tbody>\n",
              "</table>\n",
              "</div>"
            ],
            "text/plain": [
              "             realgdp  realcons  realinv  realgovt  realdpi    cpi     m1  \\\n",
              "1959-03-31  2710.349    1707.4  286.898   470.045   1886.9  28.98  139.7   \n",
              "1959-06-30  2778.801    1733.7  310.859   481.301   1919.7  29.15  141.7   \n",
              "1959-09-30  2775.488    1751.8  289.226   491.260   1916.4  29.35  140.5   \n",
              "1959-12-31  2785.204    1753.7  299.356   484.052   1931.3  29.37  140.0   \n",
              "1960-03-31  2847.699    1770.5  331.722   462.199   1955.5  29.54  139.6   \n",
              "\n",
              "            tbilrate  unemp      pop  infl  realint  \n",
              "1959-03-31      2.82    5.8  177.146  0.00     0.00  \n",
              "1959-06-30      3.08    5.1  177.830  2.34     0.74  \n",
              "1959-09-30      3.82    5.3  178.657  2.74     1.09  \n",
              "1959-12-31      4.33    5.6  179.386  0.27     4.06  \n",
              "1960-03-31      3.50    5.2  180.007  2.31     1.19  "
            ]
          },
          "execution_count": 36,
          "metadata": {},
          "output_type": "execute_result"
        }
      ],
      "source": [
        "df = pd.read_csv(\"https://raw.githubusercontent.com/PJalgotrader/Deep_forecasting-USU/main/data/US_macro_Quarterly.csv\", index_col=0)\n",
        "df.head()"
      ]
    },
    {
      "cell_type": "markdown",
      "metadata": {
        "id": "uEfBp-8TNaBO"
      },
      "source": [
        "## 2. Change the index to 'Period Index' (Quarterly)"
      ]
    },
    {
      "cell_type": "code",
      "execution_count": 37,
      "metadata": {
        "colab": {
          "base_uri": "https://localhost:8080/"
        },
        "id": "nOznHMdKPIeH",
        "outputId": "a20e9b51-58ca-4d15-f9c6-fc925106f6a4"
      },
      "outputs": [
        {
          "data": {
            "text/plain": [
              "PeriodIndex(['1959Q1', '1959Q2', '1959Q3', '1959Q4', '1960Q1', '1960Q2',\n",
              "             '1960Q3', '1960Q4', '1961Q1', '1961Q2',\n",
              "             ...\n",
              "             '2007Q2', '2007Q3', '2007Q4', '2008Q1', '2008Q2', '2008Q3',\n",
              "             '2008Q4', '2009Q1', '2009Q2', '2009Q3'],\n",
              "            dtype='period[Q-DEC]', length=203)"
            ]
          },
          "execution_count": 37,
          "metadata": {},
          "output_type": "execute_result"
        }
      ],
      "source": [
        "df.index = pd.to_datetime(df.index).to_period('Q')\n",
        "df.index"
      ]
    },
    {
      "cell_type": "markdown",
      "metadata": {
        "id": "bjWR09UVNvG2"
      },
      "source": [
        "## 3. Drop all columns except Consumer Price Index ('cpi')"
      ]
    },
    {
      "cell_type": "code",
      "execution_count": 38,
      "metadata": {
        "colab": {
          "base_uri": "https://localhost:8080/",
          "height": 206
        },
        "id": "MAOzeuLJPi55",
        "outputId": "5fe4d131-e22b-49a4-c9db-5da21abdf3bd"
      },
      "outputs": [
        {
          "data": {
            "text/html": [
              "<div>\n",
              "<style scoped>\n",
              "    .dataframe tbody tr th:only-of-type {\n",
              "        vertical-align: middle;\n",
              "    }\n",
              "\n",
              "    .dataframe tbody tr th {\n",
              "        vertical-align: top;\n",
              "    }\n",
              "\n",
              "    .dataframe thead th {\n",
              "        text-align: right;\n",
              "    }\n",
              "</style>\n",
              "<table border=\"1\" class=\"dataframe\">\n",
              "  <thead>\n",
              "    <tr style=\"text-align: right;\">\n",
              "      <th></th>\n",
              "      <th>cpi</th>\n",
              "    </tr>\n",
              "  </thead>\n",
              "  <tbody>\n",
              "    <tr>\n",
              "      <th>1959Q1</th>\n",
              "      <td>28.98</td>\n",
              "    </tr>\n",
              "    <tr>\n",
              "      <th>1959Q2</th>\n",
              "      <td>29.15</td>\n",
              "    </tr>\n",
              "    <tr>\n",
              "      <th>1959Q3</th>\n",
              "      <td>29.35</td>\n",
              "    </tr>\n",
              "    <tr>\n",
              "      <th>1959Q4</th>\n",
              "      <td>29.37</td>\n",
              "    </tr>\n",
              "    <tr>\n",
              "      <th>1960Q1</th>\n",
              "      <td>29.54</td>\n",
              "    </tr>\n",
              "  </tbody>\n",
              "</table>\n",
              "</div>"
            ],
            "text/plain": [
              "          cpi\n",
              "1959Q1  28.98\n",
              "1959Q2  29.15\n",
              "1959Q3  29.35\n",
              "1959Q4  29.37\n",
              "1960Q1  29.54"
            ]
          },
          "execution_count": 38,
          "metadata": {},
          "output_type": "execute_result"
        }
      ],
      "source": [
        "df = df.loc[:, ['cpi']]\n",
        "df.head()"
      ]
    },
    {
      "cell_type": "markdown",
      "metadata": {
        "id": "hWWx__3HN-9m"
      },
      "source": [
        "## 4. Plot Consumer Price Index"
      ]
    },
    {
      "cell_type": "code",
      "execution_count": 39,
      "metadata": {
        "colab": {
          "base_uri": "https://localhost:8080/",
          "height": 562
        },
        "id": "rv1DRmk2PyxJ",
        "outputId": "b6a6bf85-1709-49fc-daad-c2ab7fa1734f"
      },
      "outputs": [
        {
          "data": {
            "image/png": "[encoded data removed]",
            "text/plain": [
              "<Figure size 1200x600 with 1 Axes>"
            ]
          },
          "metadata": {},
          "output_type": "display_data"
        }
      ],
      "source": [
        "df.plot(figsize=(12,6))\n",
        "#adding months to the x-axis\n",
        "plt.xlabel('Month')\n",
        "plt.ylabel('CPI')\n",
        "plt.title('US Macro Quarterly Data')\n",
        "plt.show()"
      ]
    },
    {
      "cell_type": "markdown",
      "metadata": {
        "id": "t3CxFgVqQbbK"
      },
      "source": [
        "There is no seasonality, just an upwards trend. The best model looks like it will be Holt's Linear Method."
      ]
    },
    {
      "cell_type": "markdown",
      "metadata": {
        "id": "XYGE2b-hOiJK"
      },
      "source": [
        "## 5. Setup the PyCaret experiment"
      ]
    },
    {
      "cell_type": "code",
      "execution_count": 40,
      "metadata": {
        "colab": {
          "base_uri": "https://localhost:8080/",
          "height": 1000
        },
        "id": "g-fJT4zaQo6l",
        "outputId": "dbddf432-1802-46f0-d75d-8bbb29afe6b9"
      },
      "outputs": [
        {
          "ename": "AttributeError",
          "evalue": "module 'dask.dataframe.core' has no attribute 'DataFrame'",
          "output_type": "error",
          "traceback": [
            "\u001b[1;31m---------------------------------------------------------------------------\u001b[0m",
            "\u001b[1;31mAttributeError\u001b[0m                            Traceback (most recent call last)",
            "Cell \u001b[1;32mIn[40], line 2\u001b[0m\n\u001b[0;32m      1\u001b[0m exp \u001b[38;5;241m=\u001b[39m TSForecastingExperiment()\n\u001b[1;32m----> 2\u001b[0m \u001b[43mexp\u001b[49m\u001b[38;5;241;43m.\u001b[39;49m\u001b[43msetup\u001b[49m\u001b[43m(\u001b[49m\u001b[43mdata\u001b[49m\u001b[43m \u001b[49m\u001b[38;5;241;43m=\u001b[39;49m\u001b[43m \u001b[49m\u001b[43mdf\u001b[49m\u001b[43m,\u001b[49m\u001b[43m \u001b[49m\u001b[43mtarget\u001b[49m\u001b[38;5;241;43m=\u001b[39;49m\u001b[38;5;124;43m'\u001b[39;49m\u001b[38;5;124;43mcpi\u001b[39;49m\u001b[38;5;124;43m'\u001b[39;49m\u001b[43m \u001b[49m\u001b[43m,\u001b[49m\u001b[43m  \u001b[49m\u001b[43mfh\u001b[49m\u001b[43m \u001b[49m\u001b[38;5;241;43m=\u001b[39;49m\u001b[43m \u001b[49m\u001b[38;5;241;43m24\u001b[39;49m\u001b[43m)\u001b[49m\n",
            "File \u001b[1;32mc:\\Users\\04drm\\anaconda3\\envs\\deep_forecasting\\Lib\\site-packages\\pycaret\\time_series\\forecasting\\oop.py:2119\u001b[0m, in \u001b[0;36mTSForecastingExperiment.setup\u001b[1;34m(self, data, data_func, target, index, ignore_features, numeric_imputation_target, numeric_imputation_exogenous, transform_target, transform_exogenous, scale_target, scale_exogenous, fe_target_rr, fe_exogenous, fold_strategy, fold, fh, hyperparameter_split, seasonal_period, ignore_seasonality_test, sp_detection, max_sp_to_consider, remove_harmonics, harmonic_order_method, num_sps_to_use, seasonality_type, point_alpha, coverage, enforce_exogenous, n_jobs, use_gpu, custom_pipeline, html, session_id, system_log, log_experiment, experiment_name, experiment_custom_tags, log_plots, log_profile, log_data, engine, verbose, profile, profile_kwargs, fig_kwargs)\u001b[0m\n\u001b[0;32m   2091\u001b[0m \u001b[38;5;66;03m# Features to be ignored (are not read by self.dataset, self.X, etc...)\u001b[39;00m\n\u001b[0;32m   2092\u001b[0m \u001b[38;5;28mself\u001b[39m\u001b[38;5;241m.\u001b[39m_fxs \u001b[38;5;241m=\u001b[39m {\u001b[38;5;124m\"\u001b[39m\u001b[38;5;124mIgnore\u001b[39m\u001b[38;5;124m\"\u001b[39m: ignore_features \u001b[38;5;129;01mor\u001b[39;00m []}\n\u001b[0;32m   2094\u001b[0m (\n\u001b[0;32m   2095\u001b[0m     \u001b[38;5;28;43mself\u001b[39;49m\u001b[38;5;241;43m.\u001b[39;49m\u001b[43m_initialize_setup\u001b[49m\u001b[43m(\u001b[49m\n\u001b[0;32m   2096\u001b[0m \u001b[43m        \u001b[49m\u001b[43mn_jobs\u001b[49m\u001b[38;5;241;43m=\u001b[39;49m\u001b[43mn_jobs\u001b[49m\u001b[43m,\u001b[49m\n\u001b[0;32m   2097\u001b[0m \u001b[43m        \u001b[49m\u001b[43muse_gpu\u001b[49m\u001b[38;5;241;43m=\u001b[39;49m\u001b[43muse_gpu\u001b[49m\u001b[43m,\u001b[49m\n\u001b[0;32m   2098\u001b[0m \u001b[43m        \u001b[49m\u001b[43mhtml\u001b[49m\u001b[38;5;241;43m=\u001b[39;49m\u001b[43mhtml\u001b[49m\u001b[43m,\u001b[49m\n\u001b[0;32m   2099\u001b[0m \u001b[43m        \u001b[49m\u001b[43msession_id\u001b[49m\u001b[38;5;241;43m=\u001b[39;49m\u001b[43msession_id\u001b[49m\u001b[43m,\u001b[49m\n\u001b[0;32m   2100\u001b[0m \u001b[43m        \u001b[49m\u001b[43msystem_log\u001b[49m\u001b[38;5;241;43m=\u001b[39;49m\u001b[43msystem_log\u001b[49m\u001b[43m,\u001b[49m\n\u001b[0;32m   2101\u001b[0m \u001b[43m        \u001b[49m\u001b[43mlog_experiment\u001b[49m\u001b[38;5;241;43m=\u001b[39;49m\u001b[43mlog_experiment\u001b[49m\u001b[43m,\u001b[49m\n\u001b[0;32m   2102\u001b[0m \u001b[43m        \u001b[49m\u001b[43mexperiment_name\u001b[49m\u001b[38;5;241;43m=\u001b[39;49m\u001b[43mexperiment_name\u001b[49m\u001b[43m,\u001b[49m\n\u001b[0;32m   2103\u001b[0m \u001b[43m        \u001b[49m\u001b[43mmemory\u001b[49m\u001b[38;5;241;43m=\u001b[39;49m\u001b[38;5;28;43;01mTrue\u001b[39;49;00m\u001b[43m,\u001b[49m\n\u001b[0;32m   2104\u001b[0m \u001b[43m        \u001b[49m\u001b[43mverbose\u001b[49m\u001b[38;5;241;43m=\u001b[39;49m\u001b[43mverbose\u001b[49m\u001b[43m,\u001b[49m\n\u001b[0;32m   2105\u001b[0m \u001b[43m    \u001b[49m\u001b[43m)\u001b[49m\n\u001b[0;32m   2106\u001b[0m \u001b[43m    \u001b[49m\u001b[38;5;241;43m.\u001b[39;49m\u001b[43m_check_clean_and_set_data\u001b[49m\u001b[43m(\u001b[49m\u001b[43mdata\u001b[49m\u001b[43m)\u001b[49m\n\u001b[0;32m   2107\u001b[0m \u001b[43m    \u001b[49m\u001b[38;5;241;43m.\u001b[39;49m\u001b[43m_check_and_clean_index\u001b[49m\u001b[43m(\u001b[49m\u001b[43mindex\u001b[49m\u001b[38;5;241;43m=\u001b[39;49m\u001b[43mindex\u001b[49m\u001b[43m,\u001b[49m\u001b[43m \u001b[49m\u001b[43mseasonal_period\u001b[49m\u001b[38;5;241;43m=\u001b[39;49m\u001b[43mseasonal_period\u001b[49m\u001b[43m)\u001b[49m\n\u001b[0;32m   2108\u001b[0m \u001b[43m    \u001b[49m\u001b[38;5;241;43m.\u001b[39;49m\u001b[43m_check_and_set_targets\u001b[49m\u001b[43m(\u001b[49m\u001b[43mtarget\u001b[49m\u001b[38;5;241;43m=\u001b[39;49m\u001b[43mtarget\u001b[49m\u001b[43m)\u001b[49m\n\u001b[0;32m   2109\u001b[0m \u001b[43m    \u001b[49m\u001b[38;5;241;43m.\u001b[39;49m\u001b[43m_set_exogenous_names\u001b[49m\u001b[43m(\u001b[49m\u001b[43m)\u001b[49m\n\u001b[0;32m   2110\u001b[0m \u001b[43m    \u001b[49m\u001b[38;5;241;43m.\u001b[39;49m\u001b[43m_check_and_set_forecasting_types\u001b[49m\u001b[43m(\u001b[49m\u001b[43m)\u001b[49m\n\u001b[0;32m   2111\u001b[0m \u001b[43m    \u001b[49m\u001b[38;5;241;43m.\u001b[39;49m\u001b[43m_check_and_set_fh\u001b[49m\u001b[43m(\u001b[49m\u001b[43mfh\u001b[49m\u001b[38;5;241;43m=\u001b[39;49m\u001b[43mfh\u001b[49m\u001b[43m)\u001b[49m\n\u001b[0;32m   2112\u001b[0m \u001b[43m    \u001b[49m\u001b[38;5;241;43m.\u001b[39;49m\u001b[43m_set_point_alpha_intervals_enforce_pi\u001b[49m\u001b[43m(\u001b[49m\n\u001b[0;32m   2113\u001b[0m \u001b[43m        \u001b[49m\u001b[43mpoint_alpha\u001b[49m\u001b[38;5;241;43m=\u001b[39;49m\u001b[43mpoint_alpha\u001b[49m\u001b[43m,\u001b[49m\u001b[43m \u001b[49m\u001b[43mcoverage\u001b[49m\u001b[38;5;241;43m=\u001b[39;49m\u001b[43mcoverage\u001b[49m\n\u001b[0;32m   2114\u001b[0m \u001b[43m    \u001b[49m\u001b[43m)\u001b[49m\n\u001b[0;32m   2115\u001b[0m \u001b[43m    \u001b[49m\u001b[38;5;241;43m.\u001b[39;49m\u001b[43m_setup_train_test_split\u001b[49m\u001b[43m(\u001b[49m\u001b[43m)\u001b[49m\n\u001b[0;32m   2116\u001b[0m \u001b[43m    \u001b[49m\u001b[38;5;241;43m.\u001b[39;49m\u001b[43m_set_fold_generator\u001b[49m\u001b[43m(\u001b[49m\u001b[43m)\u001b[49m\n\u001b[0;32m   2117\u001b[0m \u001b[43m    \u001b[49m\u001b[38;5;241;43m.\u001b[39;49m\u001b[43m_set_should_preprocess_data\u001b[49m\u001b[43m(\u001b[49m\u001b[43m)\u001b[49m\n\u001b[0;32m   2118\u001b[0m \u001b[43m    \u001b[49m\u001b[38;5;241;43m.\u001b[39;49m\u001b[43m_set_missingness\u001b[49m\u001b[43m(\u001b[49m\u001b[43m)\u001b[49m\n\u001b[1;32m-> 2119\u001b[0m \u001b[43m    \u001b[49m\u001b[38;5;241;43m.\u001b[39;49m\u001b[43m_initialize_pipeline\u001b[49m\u001b[43m(\u001b[49m\u001b[43m)\u001b[49m\n\u001b[0;32m   2120\u001b[0m     \u001b[38;5;66;03m##################################################################\u001b[39;00m\n\u001b[0;32m   2121\u001b[0m     \u001b[38;5;66;03m# Do these after the preprocessing pipeline has been setup.\u001b[39;00m\n\u001b[0;32m   2122\u001b[0m     \u001b[38;5;66;03m# Since the model will see transformed data, these parameters\u001b[39;00m\n\u001b[0;32m   2123\u001b[0m     \u001b[38;5;66;03m# should also be derived from the transformed data.\u001b[39;00m\n\u001b[0;32m   2124\u001b[0m     \u001b[38;5;66;03m##################################################################\u001b[39;00m\n\u001b[0;32m   2125\u001b[0m     \u001b[38;5;241m.\u001b[39m_check_and_set_seasonal_period()\n\u001b[0;32m   2126\u001b[0m     \u001b[38;5;241m.\u001b[39m_set_seasonal_type(seasonality_type\u001b[38;5;241m=\u001b[39mseasonality_type)\n\u001b[0;32m   2127\u001b[0m     \u001b[38;5;241m.\u001b[39m_perform_setup_eda()\n\u001b[0;32m   2128\u001b[0m     \u001b[38;5;241m.\u001b[39m_setup_display_container()\n\u001b[0;32m   2129\u001b[0m     \u001b[38;5;241m.\u001b[39m_profile(profile, profile_kwargs)\n\u001b[0;32m   2130\u001b[0m     \u001b[38;5;241m.\u001b[39m_set_exp_model_engines(\n\u001b[0;32m   2131\u001b[0m         container_default_engines\u001b[38;5;241m=\u001b[39mget_container_default_engines(),\n\u001b[0;32m   2132\u001b[0m         engine\u001b[38;5;241m=\u001b[39mengine,\n\u001b[0;32m   2133\u001b[0m     )\n\u001b[0;32m   2134\u001b[0m     \u001b[38;5;241m.\u001b[39m_set_all_models()\n\u001b[0;32m   2135\u001b[0m     \u001b[38;5;241m.\u001b[39m_set_all_metrics()\n\u001b[0;32m   2136\u001b[0m )\n\u001b[0;32m   2138\u001b[0m runtime \u001b[38;5;241m=\u001b[39m np\u001b[38;5;241m.\u001b[39marray(time\u001b[38;5;241m.\u001b[39mtime() \u001b[38;5;241m-\u001b[39m runtime_start)\u001b[38;5;241m.\u001b[39mround(\u001b[38;5;241m2\u001b[39m)\n\u001b[0;32m   2140\u001b[0m \u001b[38;5;28mself\u001b[39m\u001b[38;5;241m.\u001b[39m_set_up_logging(\n\u001b[0;32m   2141\u001b[0m     runtime,\n\u001b[0;32m   2142\u001b[0m     log_data,\n\u001b[0;32m   2143\u001b[0m     log_profile,\n\u001b[0;32m   2144\u001b[0m     experiment_custom_tags\u001b[38;5;241m=\u001b[39mexperiment_custom_tags,\n\u001b[0;32m   2145\u001b[0m )\n",
            "File \u001b[1;32mc:\\Users\\04drm\\anaconda3\\envs\\deep_forecasting\\Lib\\site-packages\\pycaret\\time_series\\forecasting\\oop.py:1137\u001b[0m, in \u001b[0;36mTSForecastingExperiment._initialize_pipeline\u001b[1;34m(self)\u001b[0m\n\u001b[0;32m   1134\u001b[0m \u001b[38;5;28mself\u001b[39m\u001b[38;5;241m.\u001b[39mpipeline_fully_trained \u001b[38;5;241m=\u001b[39m deepcopy(\u001b[38;5;28mself\u001b[39m\u001b[38;5;241m.\u001b[39mpipeline)\n\u001b[0;32m   1136\u001b[0m \u001b[38;5;66;03m# Fit pipelines\u001b[39;00m\n\u001b[1;32m-> 1137\u001b[0m \u001b[38;5;28;43mself\u001b[39;49m\u001b[38;5;241;43m.\u001b[39;49m\u001b[43mpipeline\u001b[49m\u001b[38;5;241;43m.\u001b[39;49m\u001b[43mfit\u001b[49m\u001b[43m(\u001b[49m\u001b[43my\u001b[49m\u001b[38;5;241;43m=\u001b[39;49m\u001b[38;5;28;43mself\u001b[39;49m\u001b[38;5;241;43m.\u001b[39;49m\u001b[43my_train\u001b[49m\u001b[43m,\u001b[49m\u001b[43m \u001b[49m\u001b[43mX\u001b[49m\u001b[38;5;241;43m=\u001b[39;49m\u001b[38;5;28;43mself\u001b[39;49m\u001b[38;5;241;43m.\u001b[39;49m\u001b[43mX_train\u001b[49m\u001b[43m,\u001b[49m\u001b[43m \u001b[49m\u001b[43mfh\u001b[49m\u001b[38;5;241;43m=\u001b[39;49m\u001b[38;5;28;43mself\u001b[39;49m\u001b[38;5;241;43m.\u001b[39;49m\u001b[43mfh\u001b[49m\u001b[43m)\u001b[49m\n\u001b[0;32m   1138\u001b[0m \u001b[38;5;28mself\u001b[39m\u001b[38;5;241m.\u001b[39mpipeline_fully_trained\u001b[38;5;241m.\u001b[39mfit(y\u001b[38;5;241m=\u001b[39m\u001b[38;5;28mself\u001b[39m\u001b[38;5;241m.\u001b[39my, X\u001b[38;5;241m=\u001b[39m\u001b[38;5;28mself\u001b[39m\u001b[38;5;241m.\u001b[39mX, fh\u001b[38;5;241m=\u001b[39m\u001b[38;5;28mself\u001b[39m\u001b[38;5;241m.\u001b[39mfh)\n\u001b[0;32m   1140\u001b[0m \u001b[38;5;28mself\u001b[39m\u001b[38;5;241m.\u001b[39m_check_transformations()\n",
            "File \u001b[1;32mc:\\Users\\04drm\\anaconda3\\envs\\deep_forecasting\\Lib\\site-packages\\sktime\\forecasting\\base\\_base.py:365\u001b[0m, in \u001b[0;36mBaseForecaster.fit\u001b[1;34m(self, y, X, fh)\u001b[0m\n\u001b[0;32m    362\u001b[0m \u001b[38;5;28mself\u001b[39m\u001b[38;5;241m.\u001b[39mreset()\n\u001b[0;32m    364\u001b[0m \u001b[38;5;66;03m# check and convert X/y\u001b[39;00m\n\u001b[1;32m--> 365\u001b[0m X_inner, y_inner \u001b[38;5;241m=\u001b[39m \u001b[38;5;28;43mself\u001b[39;49m\u001b[38;5;241;43m.\u001b[39;49m\u001b[43m_check_X_y\u001b[49m\u001b[43m(\u001b[49m\u001b[43mX\u001b[49m\u001b[38;5;241;43m=\u001b[39;49m\u001b[43mX\u001b[49m\u001b[43m,\u001b[49m\u001b[43m \u001b[49m\u001b[43my\u001b[49m\u001b[38;5;241;43m=\u001b[39;49m\u001b[43my\u001b[49m\u001b[43m)\u001b[49m\n\u001b[0;32m    367\u001b[0m \u001b[38;5;66;03m# set internal X/y to the new X/y\u001b[39;00m\n\u001b[0;32m    368\u001b[0m \u001b[38;5;66;03m# this also updates cutoff from y\u001b[39;00m\n\u001b[0;32m    369\u001b[0m \u001b[38;5;28mself\u001b[39m\u001b[38;5;241m.\u001b[39m_update_y_X(y_inner, X_inner)\n",
            "File \u001b[1;32mc:\\Users\\04drm\\anaconda3\\envs\\deep_forecasting\\Lib\\site-packages\\sktime\\forecasting\\base\\_base.py:1388\u001b[0m, in \u001b[0;36mBaseForecaster._check_X_y\u001b[1;34m(self, X, y)\u001b[0m\n\u001b[0;32m   1385\u001b[0m \u001b[38;5;28;01mif\u001b[39;00m \u001b[38;5;129;01mnot\u001b[39;00m \u001b[38;5;28mself\u001b[39m\u001b[38;5;241m.\u001b[39mget_tag(\u001b[38;5;124m\"\u001b[39m\u001b[38;5;124mhandles-missing-data\u001b[39m\u001b[38;5;124m\"\u001b[39m):\n\u001b[0;32m   1386\u001b[0m     y_metadata_required \u001b[38;5;241m+\u001b[39m\u001b[38;5;241m=\u001b[39m [\u001b[38;5;124m\"\u001b[39m\u001b[38;5;124mhas_nans\u001b[39m\u001b[38;5;124m\"\u001b[39m]\n\u001b[1;32m-> 1388\u001b[0m y_valid, _, y_metadata \u001b[38;5;241m=\u001b[39m \u001b[43mcheck_is_scitype\u001b[49m\u001b[43m(\u001b[49m\n\u001b[0;32m   1389\u001b[0m \u001b[43m    \u001b[49m\u001b[43my\u001b[49m\u001b[43m,\u001b[49m\n\u001b[0;32m   1390\u001b[0m \u001b[43m    \u001b[49m\u001b[43mscitype\u001b[49m\u001b[38;5;241;43m=\u001b[39;49m\u001b[43mALLOWED_SCITYPES\u001b[49m\u001b[43m,\u001b[49m\n\u001b[0;32m   1391\u001b[0m \u001b[43m    \u001b[49m\u001b[43mreturn_metadata\u001b[49m\u001b[38;5;241;43m=\u001b[39;49m\u001b[43my_metadata_required\u001b[49m\u001b[43m,\u001b[49m\n\u001b[0;32m   1392\u001b[0m \u001b[43m    \u001b[49m\u001b[43mvar_name\u001b[49m\u001b[38;5;241;43m=\u001b[39;49m\u001b[38;5;124;43m\"\u001b[39;49m\u001b[38;5;124;43my\u001b[39;49m\u001b[38;5;124;43m\"\u001b[39;49m\u001b[43m,\u001b[49m\n\u001b[0;32m   1393\u001b[0m \u001b[43m\u001b[49m\u001b[43m)\u001b[49m\n\u001b[0;32m   1394\u001b[0m msg \u001b[38;5;241m=\u001b[39m (\n\u001b[0;32m   1395\u001b[0m     \u001b[38;5;124m\"\u001b[39m\u001b[38;5;124my must be in an sktime compatible format, \u001b[39m\u001b[38;5;124m\"\u001b[39m\n\u001b[0;32m   1396\u001b[0m     \u001b[38;5;124mf\u001b[39m\u001b[38;5;124m\"\u001b[39m\u001b[38;5;124mof scitype \u001b[39m\u001b[38;5;132;01m{\u001b[39;00m\u001b[38;5;124m'\u001b[39m\u001b[38;5;124m, \u001b[39m\u001b[38;5;124m'\u001b[39m\u001b[38;5;241m.\u001b[39mjoin(ALLOWED_SCITYPES)\u001b[38;5;132;01m}\u001b[39;00m\u001b[38;5;124m, \u001b[39m\u001b[38;5;124m\"\u001b[39m\n\u001b[1;32m   (...)\u001b[0m\n\u001b[0;32m   1404\u001b[0m     \u001b[38;5;124m\"\u001b[39m\u001b[38;5;124mPossible mtype specification strings are as follows: \u001b[39m\u001b[38;5;124m\"\u001b[39m\n\u001b[0;32m   1405\u001b[0m )\n\u001b[0;32m   1406\u001b[0m \u001b[38;5;28;01mif\u001b[39;00m \u001b[38;5;129;01mnot\u001b[39;00m y_valid:\n",
            "File \u001b[1;32mc:\\Users\\04drm\\anaconda3\\envs\\deep_forecasting\\Lib\\site-packages\\sktime\\datatypes\\_check.py:431\u001b[0m, in \u001b[0;36mcheck_is_scitype\u001b[1;34m(obj, scitype, return_metadata, var_name, exclude_mtypes)\u001b[0m\n\u001b[0;32m    428\u001b[0m found_scitype \u001b[38;5;241m=\u001b[39m []\n\u001b[0;32m    430\u001b[0m \u001b[38;5;28;01mfor\u001b[39;00m key \u001b[38;5;129;01min\u001b[39;00m keys:\n\u001b[1;32m--> 431\u001b[0m     res \u001b[38;5;241m=\u001b[39m \u001b[43mcheck_dict\u001b[49m\u001b[43m[\u001b[49m\u001b[43mkey\u001b[49m\u001b[43m]\u001b[49m\u001b[43m(\u001b[49m\u001b[43mobj\u001b[49m\u001b[43m,\u001b[49m\u001b[43m \u001b[49m\u001b[43mreturn_metadata\u001b[49m\u001b[38;5;241;43m=\u001b[39;49m\u001b[43mreturn_metadata\u001b[49m\u001b[43m,\u001b[49m\u001b[43m \u001b[49m\u001b[43mvar_name\u001b[49m\u001b[38;5;241;43m=\u001b[39;49m\u001b[43mvar_name\u001b[49m\u001b[43m)\u001b[49m\n\u001b[0;32m    433\u001b[0m     \u001b[38;5;28;01mif\u001b[39;00m _metadata_requested(return_metadata):\n\u001b[0;32m    434\u001b[0m         check_passed \u001b[38;5;241m=\u001b[39m res[\u001b[38;5;241m0\u001b[39m]\n",
            "File \u001b[1;32mc:\\Users\\04drm\\anaconda3\\envs\\deep_forecasting\\Lib\\site-packages\\sktime\\datatypes\\_series\\_check.py:353\u001b[0m, in \u001b[0;36mcheck_dask_series\u001b[1;34m(obj, return_metadata, var_name)\u001b[0m\n\u001b[0;32m    352\u001b[0m \u001b[38;5;28;01mdef\u001b[39;00m\u001b[38;5;250m \u001b[39m\u001b[38;5;21mcheck_dask_series\u001b[39m(obj, return_metadata\u001b[38;5;241m=\u001b[39m\u001b[38;5;28;01mFalse\u001b[39;00m, var_name\u001b[38;5;241m=\u001b[39m\u001b[38;5;124m\"\u001b[39m\u001b[38;5;124mobj\u001b[39m\u001b[38;5;124m\"\u001b[39m):\n\u001b[1;32m--> 353\u001b[0m     \u001b[38;5;28;01mreturn\u001b[39;00m \u001b[43mcheck_dask_frame\u001b[49m\u001b[43m(\u001b[49m\n\u001b[0;32m    354\u001b[0m \u001b[43m        \u001b[49m\u001b[43mobj\u001b[49m\u001b[38;5;241;43m=\u001b[39;49m\u001b[43mobj\u001b[49m\u001b[43m,\u001b[49m\n\u001b[0;32m    355\u001b[0m \u001b[43m        \u001b[49m\u001b[43mreturn_metadata\u001b[49m\u001b[38;5;241;43m=\u001b[39;49m\u001b[43mreturn_metadata\u001b[49m\u001b[43m,\u001b[49m\n\u001b[0;32m    356\u001b[0m \u001b[43m        \u001b[49m\u001b[43mvar_name\u001b[49m\u001b[38;5;241;43m=\u001b[39;49m\u001b[43mvar_name\u001b[49m\u001b[43m,\u001b[49m\n\u001b[0;32m    357\u001b[0m \u001b[43m        \u001b[49m\u001b[43mfreq_set_check\u001b[49m\u001b[38;5;241;43m=\u001b[39;49m\u001b[43mFREQ_SET_CHECK\u001b[49m\u001b[43m,\u001b[49m\n\u001b[0;32m    358\u001b[0m \u001b[43m        \u001b[49m\u001b[43mscitype\u001b[49m\u001b[38;5;241;43m=\u001b[39;49m\u001b[38;5;124;43m\"\u001b[39;49m\u001b[38;5;124;43mSeries\u001b[39;49m\u001b[38;5;124;43m\"\u001b[39;49m\u001b[43m,\u001b[49m\n\u001b[0;32m    359\u001b[0m \u001b[43m    \u001b[49m\u001b[43m)\u001b[49m\n",
            "File \u001b[1;32mc:\\Users\\04drm\\anaconda3\\envs\\deep_forecasting\\Lib\\site-packages\\sktime\\datatypes\\_adapter\\dask_to_pd.py:137\u001b[0m, in \u001b[0;36mcheck_dask_frame\u001b[1;34m(obj, return_metadata, var_name, freq_set_check, scitype)\u001b[0m\n\u001b[0;32m    133\u001b[0m \u001b[38;5;28;01mimport\u001b[39;00m\u001b[38;5;250m \u001b[39m\u001b[38;5;21;01mdask\u001b[39;00m\n\u001b[0;32m    135\u001b[0m metadata \u001b[38;5;241m=\u001b[39m {}\n\u001b[1;32m--> 137\u001b[0m \u001b[38;5;28;01mif\u001b[39;00m \u001b[38;5;129;01mnot\u001b[39;00m \u001b[38;5;28misinstance\u001b[39m(obj, \u001b[43mdask\u001b[49m\u001b[38;5;241;43m.\u001b[39;49m\u001b[43mdataframe\u001b[49m\u001b[38;5;241;43m.\u001b[39;49m\u001b[43mcore\u001b[49m\u001b[38;5;241;43m.\u001b[39;49m\u001b[43mDataFrame\u001b[49m):\n\u001b[0;32m    138\u001b[0m     msg \u001b[38;5;241m=\u001b[39m \u001b[38;5;124mf\u001b[39m\u001b[38;5;124m\"\u001b[39m\u001b[38;5;132;01m{\u001b[39;00mvar_name\u001b[38;5;132;01m}\u001b[39;00m\u001b[38;5;124m must be a dask DataFrame, found \u001b[39m\u001b[38;5;132;01m{\u001b[39;00m\u001b[38;5;28mtype\u001b[39m(obj)\u001b[38;5;132;01m}\u001b[39;00m\u001b[38;5;124m\"\u001b[39m\n\u001b[0;32m    139\u001b[0m     \u001b[38;5;28;01mreturn\u001b[39;00m ret(\u001b[38;5;28;01mFalse\u001b[39;00m, msg, \u001b[38;5;28;01mNone\u001b[39;00m, return_metadata)\n",
            "\u001b[1;31mAttributeError\u001b[0m: module 'dask.dataframe.core' has no attribute 'DataFrame'"
          ]
        }
      ],
      "source": [
        "exp = TSForecastingExperiment()\n",
        "exp.setup(data = df, target='cpi' ,  fh = 24)"
      ]
    },
    {
      "cell_type": "markdown",
      "metadata": {
        "id": "rRisOKhgRbua"
      },
      "source": [
        "\n",
        "There are 179 in-sample observations, with 24 hold out observations."
      ]
    },
    {
      "cell_type": "markdown",
      "metadata": {
        "id": "x3K8E8oqOoV5"
      },
      "source": [
        "## 6. Plot the Train-Test Split and the Decomposition Plots"
      ]
    },
    {
      "cell_type": "code",
      "execution_count": null,
      "metadata": {
        "colab": {
          "base_uri": "https://localhost:8080/",
          "height": 542
        },
        "id": "2sRchRkaSqM3",
        "outputId": "5115c643-1929-4b77-b326-b3a9f9d4e84a"
      },
      "outputs": [
        {
          "ename": "RuntimeError",
          "evalue": "This function/method requires the users to run setup() first.\nMore info: https://pycaret.gitbook.io/docs/get-started/quickstart",
          "output_type": "error",
          "traceback": [
            "\u001b[1;31m---------------------------------------------------------------------------\u001b[0m",
            "\u001b[1;31mRuntimeError\u001b[0m                              Traceback (most recent call last)",
            "Cell \u001b[1;32mIn[28], line 1\u001b[0m\n\u001b[1;32m----> 1\u001b[0m \u001b[43mexp\u001b[49m\u001b[38;5;241;43m.\u001b[39;49m\u001b[43mplot_model\u001b[49m\u001b[43m(\u001b[49m\u001b[43mplot\u001b[49m\u001b[38;5;241;43m=\u001b[39;49m\u001b[38;5;124;43m'\u001b[39;49m\u001b[38;5;124;43mtrain_test_split\u001b[39;49m\u001b[38;5;124;43m'\u001b[39;49m\u001b[43m)\u001b[49m\n",
            "File \u001b[1;32mc:\\Users\\04drm\\anaconda3\\envs\\deep_forecasting\\Lib\\site-packages\\pycaret\\time_series\\forecasting\\oop.py:4198\u001b[0m, in \u001b[0;36mTSForecastingExperiment.plot_model\u001b[1;34m(self, estimator, plot, return_fig, return_data, verbose, display_format, data_kwargs, fig_kwargs, save)\u001b[0m\n\u001b[0;32m   4195\u001b[0m system \u001b[38;5;241m=\u001b[39m os\u001b[38;5;241m.\u001b[39menviron\u001b[38;5;241m.\u001b[39mget(\u001b[38;5;124m\"\u001b[39m\u001b[38;5;124mPYCARET_TESTING\u001b[39m\u001b[38;5;124m\"\u001b[39m, \u001b[38;5;124m\"\u001b[39m\u001b[38;5;124m0\u001b[39m\u001b[38;5;124m\"\u001b[39m)\n\u001b[0;32m   4196\u001b[0m system \u001b[38;5;241m=\u001b[39m system \u001b[38;5;241m==\u001b[39m \u001b[38;5;124m\"\u001b[39m\u001b[38;5;124m0\u001b[39m\u001b[38;5;124m\"\u001b[39m\n\u001b[1;32m-> 4198\u001b[0m \u001b[38;5;28;01mreturn\u001b[39;00m \u001b[38;5;28;43mself\u001b[39;49m\u001b[38;5;241;43m.\u001b[39;49m\u001b[43m_plot_model\u001b[49m\u001b[43m(\u001b[49m\n\u001b[0;32m   4199\u001b[0m \u001b[43m    \u001b[49m\u001b[43mestimator\u001b[49m\u001b[38;5;241;43m=\u001b[39;49m\u001b[43mestimator\u001b[49m\u001b[43m,\u001b[49m\n\u001b[0;32m   4200\u001b[0m \u001b[43m    \u001b[49m\u001b[43mplot\u001b[49m\u001b[38;5;241;43m=\u001b[39;49m\u001b[43mplot\u001b[49m\u001b[43m,\u001b[49m\n\u001b[0;32m   4201\u001b[0m \u001b[43m    \u001b[49m\u001b[43mreturn_fig\u001b[49m\u001b[38;5;241;43m=\u001b[39;49m\u001b[43mreturn_fig\u001b[49m\u001b[43m,\u001b[49m\n\u001b[0;32m   4202\u001b[0m \u001b[43m    \u001b[49m\u001b[43mreturn_data\u001b[49m\u001b[38;5;241;43m=\u001b[39;49m\u001b[43mreturn_data\u001b[49m\u001b[43m,\u001b[49m\n\u001b[0;32m   4203\u001b[0m \u001b[43m    \u001b[49m\u001b[43mverbose\u001b[49m\u001b[38;5;241;43m=\u001b[39;49m\u001b[43mverbose\u001b[49m\u001b[43m,\u001b[49m\n\u001b[0;32m   4204\u001b[0m \u001b[43m    \u001b[49m\u001b[43mdisplay_format\u001b[49m\u001b[38;5;241;43m=\u001b[39;49m\u001b[43mdisplay_format\u001b[49m\u001b[43m,\u001b[49m\n\u001b[0;32m   4205\u001b[0m \u001b[43m    \u001b[49m\u001b[43mdata_kwargs\u001b[49m\u001b[38;5;241;43m=\u001b[39;49m\u001b[43mdata_kwargs\u001b[49m\u001b[43m,\u001b[49m\n\u001b[0;32m   4206\u001b[0m \u001b[43m    \u001b[49m\u001b[43mfig_kwargs\u001b[49m\u001b[38;5;241;43m=\u001b[39;49m\u001b[43mfig_kwargs\u001b[49m\u001b[43m,\u001b[49m\n\u001b[0;32m   4207\u001b[0m \u001b[43m    \u001b[49m\u001b[43msave\u001b[49m\u001b[38;5;241;43m=\u001b[39;49m\u001b[43msave\u001b[49m\u001b[43m,\u001b[49m\n\u001b[0;32m   4208\u001b[0m \u001b[43m    \u001b[49m\u001b[43msystem\u001b[49m\u001b[38;5;241;43m=\u001b[39;49m\u001b[43msystem\u001b[49m\u001b[43m,\u001b[49m\n\u001b[0;32m   4209\u001b[0m \u001b[43m\u001b[49m\u001b[43m)\u001b[49m\n",
            "File \u001b[1;32mc:\\Users\\04drm\\anaconda3\\envs\\deep_forecasting\\Lib\\site-packages\\pycaret\\time_series\\forecasting\\oop.py:3594\u001b[0m, in \u001b[0;36mTSForecastingExperiment._plot_model\u001b[1;34m(self, estimator, plot, return_fig, return_data, verbose, display_format, data_kwargs, fig_kwargs, system, save)\u001b[0m\n\u001b[0;32m   3579\u001b[0m \u001b[38;5;28;01mdef\u001b[39;00m\u001b[38;5;250m \u001b[39m\u001b[38;5;21m_plot_model\u001b[39m(\n\u001b[0;32m   3580\u001b[0m     \u001b[38;5;28mself\u001b[39m,\n\u001b[0;32m   3581\u001b[0m     estimator: Optional[Any] \u001b[38;5;241m=\u001b[39m \u001b[38;5;28;01mNone\u001b[39;00m,\n\u001b[1;32m   (...)\u001b[0m\n\u001b[0;32m   3590\u001b[0m     save: Union[\u001b[38;5;28mstr\u001b[39m, \u001b[38;5;28mbool\u001b[39m] \u001b[38;5;241m=\u001b[39m \u001b[38;5;28;01mFalse\u001b[39;00m,\n\u001b[0;32m   3591\u001b[0m ) \u001b[38;5;241m-\u001b[39m\u001b[38;5;241m>\u001b[39m Optional[Tuple[\u001b[38;5;28mstr\u001b[39m, Any]]:\n\u001b[0;32m   3592\u001b[0m \u001b[38;5;250m    \u001b[39m\u001b[38;5;124;03m\"\"\"Internal version of ``plot_model`` with ``system`` arg.\"\"\"\u001b[39;00m\n\u001b[1;32m-> 3594\u001b[0m     \u001b[38;5;28;43mself\u001b[39;49m\u001b[38;5;241;43m.\u001b[39;49m\u001b[43m_check_setup_ran\u001b[49m\u001b[43m(\u001b[49m\u001b[43m)\u001b[49m\n\u001b[0;32m   3596\u001b[0m     \u001b[38;5;66;03m# checking display_format parameter\u001b[39;00m\n\u001b[0;32m   3597\u001b[0m     \u001b[38;5;28mself\u001b[39m\u001b[38;5;241m.\u001b[39mplot_model_check_display_format_(display_format\u001b[38;5;241m=\u001b[39mdisplay_format)\n",
            "File \u001b[1;32mc:\\Users\\04drm\\anaconda3\\envs\\deep_forecasting\\Lib\\site-packages\\pycaret\\internal\\pycaret_experiment\\pycaret_experiment.py:138\u001b[0m, in \u001b[0;36m_PyCaretExperiment._check_setup_ran\u001b[1;34m(self)\u001b[0m\n\u001b[0;32m    127\u001b[0m \u001b[38;5;250m\u001b[39m\u001b[38;5;124;03m\"\"\"Checks to see if setup has been run or not. If it has not been run, then\u001b[39;00m\n\u001b[0;32m    128\u001b[0m \u001b[38;5;124;03man error is raised. Useful for operations that require setup to be run before\u001b[39;00m\n\u001b[0;32m    129\u001b[0m \u001b[38;5;124;03mthey can be executed. e.g. in some experiments, setup must be run first before\u001b[39;00m\n\u001b[1;32m   (...)\u001b[0m\n\u001b[0;32m    135\u001b[0m \u001b[38;5;124;03m    If setup has not been run.\u001b[39;00m\n\u001b[0;32m    136\u001b[0m \u001b[38;5;124;03m\"\"\"\u001b[39;00m\n\u001b[0;32m    137\u001b[0m \u001b[38;5;28;01mif\u001b[39;00m \u001b[38;5;129;01mnot\u001b[39;00m \u001b[38;5;28mself\u001b[39m\u001b[38;5;241m.\u001b[39m_setup_ran:\n\u001b[1;32m--> 138\u001b[0m     \u001b[38;5;28;01mraise\u001b[39;00m \u001b[38;5;167;01mRuntimeError\u001b[39;00m(\n\u001b[0;32m    139\u001b[0m         \u001b[38;5;124m\"\u001b[39m\u001b[38;5;124mThis function/method requires the users to run setup() first.\u001b[39m\u001b[38;5;124m\"\u001b[39m\n\u001b[0;32m    140\u001b[0m         \u001b[38;5;124m\"\u001b[39m\u001b[38;5;130;01m\\n\u001b[39;00m\u001b[38;5;124mMore info: https://pycaret.gitbook.io/docs/get-started/quickstart\u001b[39m\u001b[38;5;124m\"\u001b[39m\n\u001b[0;32m    141\u001b[0m     )\n",
            "\u001b[1;31mRuntimeError\u001b[0m: This function/method requires the users to run setup() first.\nMore info: https://pycaret.gitbook.io/docs/get-started/quickstart"
          ]
        }
      ],
      "source": [
        "exp.plot_model(plot='train_test_split')"
      ]
    },
    {
      "cell_type": "code",
      "execution_count": null,
      "metadata": {
        "colab": {
          "base_uri": "https://localhost:8080/",
          "height": 542
        },
        "id": "CSsXfXQVS9Mp",
        "outputId": "91cce8e5-5807-4597-b73d-5aa04c758355"
      },
      "outputs": [
        {
          "data": {
            "text/html": [
              "<html>\n",
              "<head><meta charset=\"utf-8\" /></head>\n",
              "<body>\n",
              "    <div>            <script src=\"https://cdnjs.cloudflare.com/ajax/libs/mathjax/2.7.5/MathJax.js?config=TeX-AMS-MML_SVG\"></script><script type=\"text/javascript\">if (window.MathJax && window.MathJax.Hub && window.MathJax.Hub.Config) {window.MathJax.Hub.Config({SVG: {font: \"STIX-Web\"}});}</script>                <script type=\"text/javascript\">window.PlotlyConfig = {MathJaxConfig: 'local'};</script>\n",
              "        <script charset=\"utf-8\" src=\"https://cdn.plot.ly/plotly-2.35.2.min.js\"></script>                <div id=\"a2221067-02cf-4ada-a39a-c5b56e7b7980\" class=\"plotly-graph-div\" style=\"height:525px; width:100%;\"></div>            <script type=\"text/javascript\">                                    window.PLOTLYENV=window.PLOTLYENV || {};                                    if (document.getElementById(\"a2221067-02cf-4ada-a39a-c5b56e7b7980\")) {                    Plotly.newPlot(                        \"a2221067-02cf-4ada-a39a-c5b56e7b7980\",                        [{\"line\":{\"color\":\"rgb(31, 119, 180)\",\"width\":2},\"marker\":{\"size\":2},\"mode\":\"lines+markers\",\"name\":\"Actual\",\"x\":[\"1959-01-01T00:00:00\",\"1959-04-01T00:00:00\",\"1959-07-01T00:00:00\",\"1959-10-01T00:00:00\",\"1960-01-01T00:00:00\",\"1960-04-01T00:00:00\",\"1960-07-01T00:00:00\",\"1960-10-01T00:00:00\",\"1961-01-01T00:00:00\",\"1961-04-01T00:00:00\",\"1961-07-01T00:00:00\",\"1961-10-01T00:00:00\",\"1962-01-01T00:00:00\",\"1962-04-01T00:00:00\",\"1962-07-01T00:00:00\",\"1962-10-01T00:00:00\",\"1963-01-01T00:00:00\",\"1963-04-01T00:00:00\",\"1963-07-01T00:00:00\",\"1963-10-01T00:00:00\",\"1964-01-01T00:00:00\",\"1964-04-01T00:00:00\",\"1964-07-01T00:00:00\",\"1964-10-01T00:00:00\",\"1965-01-01T00:00:00\",\"1965-04-01T00:00:00\",\"1965-07-01T00:00:00\",\"1965-10-01T00:00:00\",\"1966-01-01T00:00:00\",\"1966-04-01T00:00:00\",\"1966-07-01T00:00:00\",\"1966-10-01T00:00:00\",\"1967-01-01T00:00:00\",\"1967-04-01T00:00:00\",\"1967-07-01T00:00:00\",\"1967-10-01T00:00:00\",\"1968-01-01T00:00:00\",\"1968-04-01T00:00:00\",\"1968-07-01T00:00:00\",\"1968-10-01T00:00:00\",\"1969-01-01T00:00:00\",\"1969-04-01T00:00:00\",\"1969-07-01T00:00:00\",\"1969-10-01T00:00:00\",\"1970-01-01T00:00:00\",\"1970-04-01T00:00:00\",\"1970-07-01T00:00:00\",\"1970-10-01T00:00:00\",\"1971-01-01T00:00:00\",\"1971-04-01T00:00:00\",\"1971-07-01T00:00:00\",\"1971-10-01T00:00:00\",\"1972-01-01T00:00:00\",\"1972-04-01T00:00:00\",\"1972-07-01T00:00:00\",\"1972-10-01T00:00:00\",\"1973-01-01T00:00:00\",\"1973-04-01T00:00:00\",\"1973-07-01T00:00:00\",\"1973-10-01T00:00:00\",\"1974-01-01T00:00:00\",\"1974-04-01T00:00:00\",\"1974-07-01T00:00:00\",\"1974-10-01T00:00:00\",\"1975-01-01T00:00:00\",\"1975-04-01T00:00:00\",\"1975-07-01T00:00:00\",\"1975-10-01T00:00:00\",\"1976-01-01T00:00:00\",\"1976-04-01T00:00:00\",\"1976-07-01T00:00:00\",\"1976-10-01T00:00:00\",\"1977-01-01T00:00:00\",\"1977-04-01T00:00:00\",\"1977-07-01T00:00:00\",\"1977-10-01T00:00:00\",\"1978-01-01T00:00:00\",\"1978-04-01T00:00:00\",\"1978-07-01T00:00:00\",\"1978-10-01T00:00:00\",\"1979-01-01T00:00:00\",\"1979-04-01T00:00:00\",\"1979-07-01T00:00:00\",\"1979-10-01T00:00:00\",\"1980-01-01T00:00:00\",\"1980-04-01T00:00:00\",\"1980-07-01T00:00:00\",\"1980-10-01T00:00:00\",\"1981-01-01T00:00:00\",\"1981-04-01T00:00:00\",\"1981-07-01T00:00:00\",\"1981-10-01T00:00:00\",\"1982-01-01T00:00:00\",\"1982-04-01T00:00:00\",\"1982-07-01T00:00:00\",\"1982-10-01T00:00:00\",\"1983-01-01T00:00:00\",\"1983-04-01T00:00:00\",\"1983-07-01T00:00:00\",\"1983-10-01T00:00:00\",\"1984-01-01T00:00:00\",\"1984-04-01T00:00:00\",\"1984-07-01T00:00:00\",\"1984-10-01T00:00:00\",\"1985-01-01T00:00:00\",\"1985-04-01T00:00:00\",\"1985-07-01T00:00:00\",\"1985-10-01T00:00:00\",\"1986-01-01T00:00:00\",\"1986-04-01T00:00:00\",\"1986-07-01T00:00:00\",\"1986-10-01T00:00:00\",\"1987-01-01T00:00:00\",\"1987-04-01T00:00:00\",\"1987-07-01T00:00:00\",\"1987-10-01T00:00:00\",\"1988-01-01T00:00:00\",\"1988-04-01T00:00:00\",\"1988-07-01T00:00:00\",\"1988-10-01T00:00:00\",\"1989-01-01T00:00:00\",\"1989-04-01T00:00:00\",\"1989-07-01T00:00:00\",\"1989-10-01T00:00:00\",\"1990-01-01T00:00:00\",\"1990-04-01T00:00:00\",\"1990-07-01T00:00:00\",\"1990-10-01T00:00:00\",\"1991-01-01T00:00:00\",\"1991-04-01T00:00:00\",\"1991-07-01T00:00:00\",\"1991-10-01T00:00:00\",\"1992-01-01T00:00:00\",\"1992-04-01T00:00:00\",\"1992-07-01T00:00:00\",\"1992-10-01T00:00:00\",\"1993-01-01T00:00:00\",\"1993-04-01T00:00:00\",\"1993-07-01T00:00:00\",\"1993-10-01T00:00:00\",\"1994-01-01T00:00:00\",\"1994-04-01T00:00:00\",\"1994-07-01T00:00:00\",\"1994-10-01T00:00:00\",\"1995-01-01T00:00:00\",\"1995-04-01T00:00:00\",\"1995-07-01T00:00:00\",\"1995-10-01T00:00:00\",\"1996-01-01T00:00:00\",\"1996-04-01T00:00:00\",\"1996-07-01T00:00:00\",\"1996-10-01T00:00:00\",\"1997-01-01T00:00:00\",\"1997-04-01T00:00:00\",\"1997-07-01T00:00:00\",\"1997-10-01T00:00:00\",\"1998-01-01T00:00:00\",\"1998-04-01T00:00:00\",\"1998-07-01T00:00:00\",\"1998-10-01T00:00:00\",\"1999-01-01T00:00:00\",\"1999-04-01T00:00:00\",\"1999-07-01T00:00:00\",\"1999-10-01T00:00:00\",\"2000-01-01T00:00:00\",\"2000-04-01T00:00:00\",\"2000-07-01T00:00:00\",\"2000-10-01T00:00:00\",\"2001-01-01T00:00:00\",\"2001-04-01T00:00:00\",\"2001-07-01T00:00:00\",\"2001-10-01T00:00:00\",\"2002-01-01T00:00:00\",\"2002-04-01T00:00:00\",\"2002-07-01T00:00:00\",\"2002-10-01T00:00:00\",\"2003-01-01T00:00:00\",\"2003-04-01T00:00:00\",\"2003-07-01T00:00:00\",\"2003-10-01T00:00:00\",\"2004-01-01T00:00:00\",\"2004-04-01T00:00:00\",\"2004-07-01T00:00:00\",\"2004-10-01T00:00:00\",\"2005-01-01T00:00:00\",\"2005-04-01T00:00:00\",\"2005-07-01T00:00:00\",\"2005-10-01T00:00:00\",\"2006-01-01T00:00:00\",\"2006-04-01T00:00:00\",\"2006-07-01T00:00:00\",\"2006-10-01T00:00:00\",\"2007-01-01T00:00:00\",\"2007-04-01T00:00:00\",\"2007-07-01T00:00:00\",\"2007-10-01T00:00:00\",\"2008-01-01T00:00:00\",\"2008-04-01T00:00:00\",\"2008-07-01T00:00:00\",\"2008-10-01T00:00:00\",\"2009-01-01T00:00:00\",\"2009-04-01T00:00:00\",\"2009-07-01T00:00:00\"],\"y\":[28.98,29.15,29.35,29.37,29.54,29.55,29.75,29.84,29.81,29.92,29.98,30.04,30.21,30.22,30.38,30.44,30.48,30.69,30.75,30.94,30.95,31.02,31.12,31.28,31.38,31.58,31.65,31.88,32.28,32.45,32.85,32.9,33.1,33.4,33.7,34.1,34.4,34.9,35.3,35.7,36.3,36.8,37.3,37.9,38.5,38.9,39.4,39.9,40.1,40.6,40.9,41.2,41.5,41.8,42.2,42.7,43.7,44.2,45.6,46.8,48.1,49.3,51.0,52.3,53.0,54.0,54.9,55.8,56.1,57.0,57.9,58.7,60.0,60.8,61.6,62.7,63.9,65.5,67.1,68.5,70.6,73.0,75.2,78.0,80.9,82.6,84.7,87.2,89.1,91.5,93.4,94.4,95.0,97.5,98.1,97.9,98.8,99.8,100.8,102.1,103.3,104.1,105.1,105.7,107.0,107.7,108.5,109.9,108.7,109.5,110.2,111.4,112.7,113.8,115.0,116.0,117.2,118.5,119.9,121.2,123.1,124.5,125.4,127.5,128.9,130.5,133.4,134.7,135.1,136.2,137.2,138.3,139.4,140.5,141.7,142.8,143.8,144.5,145.6,146.3,147.2,148.4,149.4,150.5,151.8,152.6,153.5,154.7,156.1,157.0,158.2,159.4,159.9,160.4,161.5,162.0,162.2,163.2,163.9,164.7,165.9,166.7,168.1,169.3,170.9,172.7,173.9,175.6,176.4,177.4,177.6,177.7,179.3,180.0,181.2,182.6,183.2,183.7,184.9,186.3,187.4,189.1,190.8,191.8,193.8,194.7,199.2,199.4,200.7,202.7,201.9,203.574,205.92,207.338,209.133,212.495,213.997,218.61,216.889,212.174,212.671,214.469,216.385],\"type\":\"scattergl\",\"xaxis\":\"x\",\"yaxis\":\"y\"},{\"line\":{\"color\":\"rgb(255, 127, 14)\",\"width\":2},\"marker\":{\"size\":2},\"mode\":\"lines+markers\",\"name\":\"Seasonal\",\"x\":[\"1959-01-01T00:00:00\",\"1959-04-01T00:00:00\",\"1959-07-01T00:00:00\",\"1959-10-01T00:00:00\",\"1960-01-01T00:00:00\",\"1960-04-01T00:00:00\",\"1960-07-01T00:00:00\",\"1960-10-01T00:00:00\",\"1961-01-01T00:00:00\",\"1961-04-01T00:00:00\",\"1961-07-01T00:00:00\",\"1961-10-01T00:00:00\",\"1962-01-01T00:00:00\",\"1962-04-01T00:00:00\",\"1962-07-01T00:00:00\",\"1962-10-01T00:00:00\",\"1963-01-01T00:00:00\",\"1963-04-01T00:00:00\",\"1963-07-01T00:00:00\",\"1963-10-01T00:00:00\",\"1964-01-01T00:00:00\",\"1964-04-01T00:00:00\",\"1964-07-01T00:00:00\",\"1964-10-01T00:00:00\",\"1965-01-01T00:00:00\",\"1965-04-01T00:00:00\",\"1965-07-01T00:00:00\",\"1965-10-01T00:00:00\",\"1966-01-01T00:00:00\",\"1966-04-01T00:00:00\",\"1966-07-01T00:00:00\",\"1966-10-01T00:00:00\",\"1967-01-01T00:00:00\",\"1967-04-01T00:00:00\",\"1967-07-01T00:00:00\",\"1967-10-01T00:00:00\",\"1968-01-01T00:00:00\",\"1968-04-01T00:00:00\",\"1968-07-01T00:00:00\",\"1968-10-01T00:00:00\",\"1969-01-01T00:00:00\",\"1969-04-01T00:00:00\",\"1969-07-01T00:00:00\",\"1969-10-01T00:00:00\",\"1970-01-01T00:00:00\",\"1970-04-01T00:00:00\",\"1970-07-01T00:00:00\",\"1970-10-01T00:00:00\",\"1971-01-01T00:00:00\",\"1971-04-01T00:00:00\",\"1971-07-01T00:00:00\",\"1971-10-01T00:00:00\",\"1972-01-01T00:00:00\",\"1972-04-01T00:00:00\",\"1972-07-01T00:00:00\",\"1972-10-01T00:00:00\",\"1973-01-01T00:00:00\",\"1973-04-01T00:00:00\",\"1973-07-01T00:00:00\",\"1973-10-01T00:00:00\",\"1974-01-01T00:00:00\",\"1974-04-01T00:00:00\",\"1974-07-01T00:00:00\",\"1974-10-01T00:00:00\",\"1975-01-01T00:00:00\",\"1975-04-01T00:00:00\",\"1975-07-01T00:00:00\",\"1975-10-01T00:00:00\",\"1976-01-01T00:00:00\",\"1976-04-01T00:00:00\",\"1976-07-01T00:00:00\",\"1976-10-01T00:00:00\",\"1977-01-01T00:00:00\",\"1977-04-01T00:00:00\",\"1977-07-01T00:00:00\",\"1977-10-01T00:00:00\",\"1978-01-01T00:00:00\",\"1978-04-01T00:00:00\",\"1978-07-01T00:00:00\",\"1978-10-01T00:00:00\",\"1979-01-01T00:00:00\",\"1979-04-01T00:00:00\",\"1979-07-01T00:00:00\",\"1979-10-01T00:00:00\",\"1980-01-01T00:00:00\",\"1980-04-01T00:00:00\",\"1980-07-01T00:00:00\",\"1980-10-01T00:00:00\",\"1981-01-01T00:00:00\",\"1981-04-01T00:00:00\",\"1981-07-01T00:00:00\",\"1981-10-01T00:00:00\",\"1982-01-01T00:00:00\",\"1982-04-01T00:00:00\",\"1982-07-01T00:00:00\",\"1982-10-01T00:00:00\",\"1983-01-01T00:00:00\",\"1983-04-01T00:00:00\",\"1983-07-01T00:00:00\",\"1983-10-01T00:00:00\",\"1984-01-01T00:00:00\",\"1984-04-01T00:00:00\",\"1984-07-01T00:00:00\",\"1984-10-01T00:00:00\",\"1985-01-01T00:00:00\",\"1985-04-01T00:00:00\",\"1985-07-01T00:00:00\",\"1985-10-01T00:00:00\",\"1986-01-01T00:00:00\",\"1986-04-01T00:00:00\",\"1986-07-01T00:00:00\",\"1986-10-01T00:00:00\",\"1987-01-01T00:00:00\",\"1987-04-01T00:00:00\",\"1987-07-01T00:00:00\",\"1987-10-01T00:00:00\",\"1988-01-01T00:00:00\",\"1988-04-01T00:00:00\",\"1988-07-01T00:00:00\",\"1988-10-01T00:00:00\",\"1989-01-01T00:00:00\",\"1989-04-01T00:00:00\",\"1989-07-01T00:00:00\",\"1989-10-01T00:00:00\",\"1990-01-01T00:00:00\",\"1990-04-01T00:00:00\",\"1990-07-01T00:00:00\",\"1990-10-01T00:00:00\",\"1991-01-01T00:00:00\",\"1991-04-01T00:00:00\",\"1991-07-01T00:00:00\",\"1991-10-01T00:00:00\",\"1992-01-01T00:00:00\",\"1992-04-01T00:00:00\",\"1992-07-01T00:00:00\",\"1992-10-01T00:00:00\",\"1993-01-01T00:00:00\",\"1993-04-01T00:00:00\",\"1993-07-01T00:00:00\",\"1993-10-01T00:00:00\",\"1994-01-01T00:00:00\",\"1994-04-01T00:00:00\",\"1994-07-01T00:00:00\",\"1994-10-01T00:00:00\",\"1995-01-01T00:00:00\",\"1995-04-01T00:00:00\",\"1995-07-01T00:00:00\",\"1995-10-01T00:00:00\",\"1996-01-01T00:00:00\",\"1996-04-01T00:00:00\",\"1996-07-01T00:00:00\",\"1996-10-01T00:00:00\",\"1997-01-01T00:00:00\",\"1997-04-01T00:00:00\",\"1997-07-01T00:00:00\",\"1997-10-01T00:00:00\",\"1998-01-01T00:00:00\",\"1998-04-01T00:00:00\",\"1998-07-01T00:00:00\",\"1998-10-01T00:00:00\",\"1999-01-01T00:00:00\",\"1999-04-01T00:00:00\",\"1999-07-01T00:00:00\",\"1999-10-01T00:00:00\",\"2000-01-01T00:00:00\",\"2000-04-01T00:00:00\",\"2000-07-01T00:00:00\",\"2000-10-01T00:00:00\",\"2001-01-01T00:00:00\",\"2001-04-01T00:00:00\",\"2001-07-01T00:00:00\",\"2001-10-01T00:00:00\",\"2002-01-01T00:00:00\",\"2002-04-01T00:00:00\",\"2002-07-01T00:00:00\",\"2002-10-01T00:00:00\",\"2003-01-01T00:00:00\",\"2003-04-01T00:00:00\",\"2003-07-01T00:00:00\",\"2003-10-01T00:00:00\",\"2004-01-01T00:00:00\",\"2004-04-01T00:00:00\",\"2004-07-01T00:00:00\",\"2004-10-01T00:00:00\",\"2005-01-01T00:00:00\",\"2005-04-01T00:00:00\",\"2005-07-01T00:00:00\",\"2005-10-01T00:00:00\",\"2006-01-01T00:00:00\",\"2006-04-01T00:00:00\",\"2006-07-01T00:00:00\",\"2006-10-01T00:00:00\",\"2007-01-01T00:00:00\",\"2007-04-01T00:00:00\",\"2007-07-01T00:00:00\",\"2007-10-01T00:00:00\",\"2008-01-01T00:00:00\",\"2008-04-01T00:00:00\",\"2008-07-01T00:00:00\",\"2008-10-01T00:00:00\",\"2009-01-01T00:00:00\",\"2009-04-01T00:00:00\",\"2009-07-01T00:00:00\"],\"y\":[0.07291542288557301,-0.03846766169154237,-0.034447761194030646,0.07291542288557301,-0.03846766169154237,-0.034447761194030646,0.07291542288557301,-0.03846766169154237,-0.034447761194030646,0.07291542288557301,-0.03846766169154237,-0.034447761194030646,0.07291542288557301,-0.03846766169154237,-0.034447761194030646,0.07291542288557301,-0.03846766169154237,-0.034447761194030646,0.07291542288557301,-0.03846766169154237,-0.034447761194030646,0.07291542288557301,-0.03846766169154237,-0.034447761194030646,0.07291542288557301,-0.03846766169154237,-0.034447761194030646,0.07291542288557301,-0.03846766169154237,-0.034447761194030646,0.07291542288557301,-0.03846766169154237,-0.034447761194030646,0.07291542288557301,-0.03846766169154237,-0.034447761194030646,0.07291542288557301,-0.03846766169154237,-0.034447761194030646,0.07291542288557301,-0.03846766169154237,-0.034447761194030646,0.07291542288557301,-0.03846766169154237,-0.034447761194030646,0.07291542288557301,-0.03846766169154237,-0.034447761194030646,0.07291542288557301,-0.03846766169154237,-0.034447761194030646,0.07291542288557301,-0.03846766169154237,-0.034447761194030646,0.07291542288557301,-0.03846766169154237,-0.034447761194030646,0.07291542288557301,-0.03846766169154237,-0.034447761194030646,0.07291542288557301,-0.03846766169154237,-0.034447761194030646,0.07291542288557301,-0.03846766169154237,-0.034447761194030646,0.07291542288557301,-0.03846766169154237,-0.034447761194030646,0.07291542288557301,-0.03846766169154237,-0.034447761194030646,0.07291542288557301,-0.03846766169154237,-0.034447761194030646,0.07291542288557301,-0.03846766169154237,-0.034447761194030646,0.07291542288557301,-0.03846766169154237,-0.034447761194030646,0.07291542288557301,-0.03846766169154237,-0.034447761194030646,0.07291542288557301,-0.03846766169154237,-0.034447761194030646,0.07291542288557301,-0.03846766169154237,-0.034447761194030646,0.07291542288557301,-0.03846766169154237,-0.034447761194030646,0.07291542288557301,-0.03846766169154237,-0.034447761194030646,0.07291542288557301,-0.03846766169154237,-0.034447761194030646,0.07291542288557301,-0.03846766169154237,-0.034447761194030646,0.07291542288557301,-0.03846766169154237,-0.034447761194030646,0.07291542288557301,-0.03846766169154237,-0.034447761194030646,0.07291542288557301,-0.03846766169154237,-0.034447761194030646,0.07291542288557301,-0.03846766169154237,-0.034447761194030646,0.07291542288557301,-0.03846766169154237,-0.034447761194030646,0.07291542288557301,-0.03846766169154237,-0.034447761194030646,0.07291542288557301,-0.03846766169154237,-0.034447761194030646,0.07291542288557301,-0.03846766169154237,-0.034447761194030646,0.07291542288557301,-0.03846766169154237,-0.034447761194030646,0.07291542288557301,-0.03846766169154237,-0.034447761194030646,0.07291542288557301,-0.03846766169154237,-0.034447761194030646,0.07291542288557301,-0.03846766169154237,-0.034447761194030646,0.07291542288557301,-0.03846766169154237,-0.034447761194030646,0.07291542288557301,-0.03846766169154237,-0.034447761194030646,0.07291542288557301,-0.03846766169154237,-0.034447761194030646,0.07291542288557301,-0.03846766169154237,-0.034447761194030646,0.07291542288557301,-0.03846766169154237,-0.034447761194030646,0.07291542288557301,-0.03846766169154237,-0.034447761194030646,0.07291542288557301,-0.03846766169154237,-0.034447761194030646,0.07291542288557301,-0.03846766169154237,-0.034447761194030646,0.07291542288557301,-0.03846766169154237,-0.034447761194030646,0.07291542288557301,-0.03846766169154237,-0.034447761194030646,0.07291542288557301,-0.03846766169154237,-0.034447761194030646,0.07291542288557301,-0.03846766169154237,-0.034447761194030646,0.07291542288557301,-0.03846766169154237,-0.034447761194030646,0.07291542288557301,-0.03846766169154237,-0.034447761194030646,0.07291542288557301,-0.03846766169154237,-0.034447761194030646,0.07291542288557301,-0.03846766169154237,-0.034447761194030646,0.07291542288557301,-0.03846766169154237,-0.034447761194030646,0.07291542288557301,-0.03846766169154237,-0.034447761194030646,0.07291542288557301,-0.03846766169154237,-0.034447761194030646,0.07291542288557301,-0.03846766169154237,-0.034447761194030646,0.07291542288557301,-0.03846766169154237,-0.034447761194030646,0.07291542288557301,-0.03846766169154237],\"type\":\"scattergl\",\"xaxis\":\"x2\",\"yaxis\":\"y2\"},{\"line\":{\"color\":\"rgb(44, 160, 44)\",\"width\":2},\"marker\":{\"size\":2},\"mode\":\"lines+markers\",\"name\":\"Trend\",\"x\":[\"1959-01-01T00:00:00\",\"1959-04-01T00:00:00\",\"1959-07-01T00:00:00\",\"1959-10-01T00:00:00\",\"1960-01-01T00:00:00\",\"1960-04-01T00:00:00\",\"1960-07-01T00:00:00\",\"1960-10-01T00:00:00\",\"1961-01-01T00:00:00\",\"1961-04-01T00:00:00\",\"1961-07-01T00:00:00\",\"1961-10-01T00:00:00\",\"1962-01-01T00:00:00\",\"1962-04-01T00:00:00\",\"1962-07-01T00:00:00\",\"1962-10-01T00:00:00\",\"1963-01-01T00:00:00\",\"1963-04-01T00:00:00\",\"1963-07-01T00:00:00\",\"1963-10-01T00:00:00\",\"1964-01-01T00:00:00\",\"1964-04-01T00:00:00\",\"1964-07-01T00:00:00\",\"1964-10-01T00:00:00\",\"1965-01-01T00:00:00\",\"1965-04-01T00:00:00\",\"1965-07-01T00:00:00\",\"1965-10-01T00:00:00\",\"1966-01-01T00:00:00\",\"1966-04-01T00:00:00\",\"1966-07-01T00:00:00\",\"1966-10-01T00:00:00\",\"1967-01-01T00:00:00\",\"1967-04-01T00:00:00\",\"1967-07-01T00:00:00\",\"1967-10-01T00:00:00\",\"1968-01-01T00:00:00\",\"1968-04-01T00:00:00\",\"1968-07-01T00:00:00\",\"1968-10-01T00:00:00\",\"1969-01-01T00:00:00\",\"1969-04-01T00:00:00\",\"1969-07-01T00:00:00\",\"1969-10-01T00:00:00\",\"1970-01-01T00:00:00\",\"1970-04-01T00:00:00\",\"1970-07-01T00:00:00\",\"1970-10-01T00:00:00\",\"1971-01-01T00:00:00\",\"1971-04-01T00:00:00\",\"1971-07-01T00:00:00\",\"1971-10-01T00:00:00\",\"1972-01-01T00:00:00\",\"1972-04-01T00:00:00\",\"1972-07-01T00:00:00\",\"1972-10-01T00:00:00\",\"1973-01-01T00:00:00\",\"1973-04-01T00:00:00\",\"1973-07-01T00:00:00\",\"1973-10-01T00:00:00\",\"1974-01-01T00:00:00\",\"1974-04-01T00:00:00\",\"1974-07-01T00:00:00\",\"1974-10-01T00:00:00\",\"1975-01-01T00:00:00\",\"1975-04-01T00:00:00\",\"1975-07-01T00:00:00\",\"1975-10-01T00:00:00\",\"1976-01-01T00:00:00\",\"1976-04-01T00:00:00\",\"1976-07-01T00:00:00\",\"1976-10-01T00:00:00\",\"1977-01-01T00:00:00\",\"1977-04-01T00:00:00\",\"1977-07-01T00:00:00\",\"1977-10-01T00:00:00\",\"1978-01-01T00:00:00\",\"1978-04-01T00:00:00\",\"1978-07-01T00:00:00\",\"1978-10-01T00:00:00\",\"1979-01-01T00:00:00\",\"1979-04-01T00:00:00\",\"1979-07-01T00:00:00\",\"1979-10-01T00:00:00\",\"1980-01-01T00:00:00\",\"1980-04-01T00:00:00\",\"1980-07-01T00:00:00\",\"1980-10-01T00:00:00\",\"1981-01-01T00:00:00\",\"1981-04-01T00:00:00\",\"1981-07-01T00:00:00\",\"1981-10-01T00:00:00\",\"1982-01-01T00:00:00\",\"1982-04-01T00:00:00\",\"1982-07-01T00:00:00\",\"1982-10-01T00:00:00\",\"1983-01-01T00:00:00\",\"1983-04-01T00:00:00\",\"1983-07-01T00:00:00\",\"1983-10-01T00:00:00\",\"1984-01-01T00:00:00\",\"1984-04-01T00:00:00\",\"1984-07-01T00:00:00\",\"1984-10-01T00:00:00\",\"1985-01-01T00:00:00\",\"1985-04-01T00:00:00\",\"1985-07-01T00:00:00\",\"1985-10-01T00:00:00\",\"1986-01-01T00:00:00\",\"1986-04-01T00:00:00\",\"1986-07-01T00:00:00\",\"1986-10-01T00:00:00\",\"1987-01-01T00:00:00\",\"1987-04-01T00:00:00\",\"1987-07-01T00:00:00\",\"1987-10-01T00:00:00\",\"1988-01-01T00:00:00\",\"1988-04-01T00:00:00\",\"1988-07-01T00:00:00\",\"1988-10-01T00:00:00\",\"1989-01-01T00:00:00\",\"1989-04-01T00:00:00\",\"1989-07-01T00:00:00\",\"1989-10-01T00:00:00\",\"1990-01-01T00:00:00\",\"1990-04-01T00:00:00\",\"1990-07-01T00:00:00\",\"1990-10-01T00:00:00\",\"1991-01-01T00:00:00\",\"1991-04-01T00:00:00\",\"1991-07-01T00:00:00\",\"1991-10-01T00:00:00\",\"1992-01-01T00:00:00\",\"1992-04-01T00:00:00\",\"1992-07-01T00:00:00\",\"1992-10-01T00:00:00\",\"1993-01-01T00:00:00\",\"1993-04-01T00:00:00\",\"1993-07-01T00:00:00\",\"1993-10-01T00:00:00\",\"1994-01-01T00:00:00\",\"1994-04-01T00:00:00\",\"1994-07-01T00:00:00\",\"1994-10-01T00:00:00\",\"1995-01-01T00:00:00\",\"1995-04-01T00:00:00\",\"1995-07-01T00:00:00\",\"1995-10-01T00:00:00\",\"1996-01-01T00:00:00\",\"1996-04-01T00:00:00\",\"1996-07-01T00:00:00\",\"1996-10-01T00:00:00\",\"1997-01-01T00:00:00\",\"1997-04-01T00:00:00\",\"1997-07-01T00:00:00\",\"1997-10-01T00:00:00\",\"1998-01-01T00:00:00\",\"1998-04-01T00:00:00\",\"1998-07-01T00:00:00\",\"1998-10-01T00:00:00\",\"1999-01-01T00:00:00\",\"1999-04-01T00:00:00\",\"1999-07-01T00:00:00\",\"1999-10-01T00:00:00\",\"2000-01-01T00:00:00\",\"2000-04-01T00:00:00\",\"2000-07-01T00:00:00\",\"2000-10-01T00:00:00\",\"2001-01-01T00:00:00\",\"2001-04-01T00:00:00\",\"2001-07-01T00:00:00\",\"2001-10-01T00:00:00\",\"2002-01-01T00:00:00\",\"2002-04-01T00:00:00\",\"2002-07-01T00:00:00\",\"2002-10-01T00:00:00\",\"2003-01-01T00:00:00\",\"2003-04-01T00:00:00\",\"2003-07-01T00:00:00\",\"2003-10-01T00:00:00\",\"2004-01-01T00:00:00\",\"2004-04-01T00:00:00\",\"2004-07-01T00:00:00\",\"2004-10-01T00:00:00\",\"2005-01-01T00:00:00\",\"2005-04-01T00:00:00\",\"2005-07-01T00:00:00\",\"2005-10-01T00:00:00\",\"2006-01-01T00:00:00\",\"2006-04-01T00:00:00\",\"2006-07-01T00:00:00\",\"2006-10-01T00:00:00\",\"2007-01-01T00:00:00\",\"2007-04-01T00:00:00\",\"2007-07-01T00:00:00\",\"2007-10-01T00:00:00\",\"2008-01-01T00:00:00\",\"2008-04-01T00:00:00\",\"2008-07-01T00:00:00\",\"2008-10-01T00:00:00\",\"2009-01-01T00:00:00\",\"2009-04-01T00:00:00\",\"2009-07-01T00:00:00\"],\"y\":[null,29.159999999999997,29.29,29.419999999999995,29.486666666666665,29.61333333333333,29.71333333333333,29.799999999999997,29.856666666666666,29.90333333333333,29.979999999999997,30.076666666666664,30.156666666666666,30.269999999999996,30.346666666666664,30.433333333333334,30.536666666666665,30.64,30.793333333333333,30.88,30.97,31.03,31.139999999999997,31.259999999999998,31.413333333333327,31.53666666666666,31.70333333333333,31.93666666666666,32.20333333333333,32.52666666666667,32.733333333333334,32.949999999999996,33.13333333333333,33.4,33.733333333333334,34.06666666666666,34.46666666666667,34.86666666666666,35.3,35.766666666666666,36.266666666666666,36.8,37.33333333333333,37.89999999999999,38.43333333333333,38.93333333333333,39.4,39.8,40.199999999999996,40.53333333333333,40.9,41.2,41.5,41.83333333333333,42.233333333333334,42.86666666666667,43.53333333333333,44.5,45.53333333333333,46.83333333333333,48.06666666666666,49.46666666666666,50.86666666666666,52.099999999999994,53.099999999999994,53.96666666666666,54.89999999999999,55.599999999999994,56.3,57.0,57.86666666666666,58.86666666666666,59.83333333333333,60.8,61.699999999999996,62.73333333333333,64.03333333333333,65.49999999999999,67.03333333333333,68.73333333333332,70.69999999999999,72.93333333333332,75.4,78.03333333333333,80.5,82.73333333333333,84.83333333333333,87.0,89.26666666666667,91.33333333333333,93.1,94.26666666666667,95.63333333333333,96.86666666666665,97.83333333333331,98.26666666666665,98.83333333333333,99.79999999999998,100.89999999999999,102.06666666666666,103.16666666666666,104.16666666666666,104.96666666666665,105.93333333333334,106.80000000000001,107.73333333333332,108.69999999999999,109.03333333333333,109.36666666666667,109.46666666666667,110.36666666666667,111.43333333333334,112.63333333333333,113.83333333333333,114.93333333333331,116.06666666666666,117.23333333333332,118.53333333333333,119.86666666666667,121.4,122.93333333333334,124.33333333333333,125.8,127.26666666666667,128.96666666666667,130.93333333333334,132.86666666666667,134.39999999999998,135.33333333333331,136.16666666666666,137.23333333333332,138.3,139.39999999999998,140.53333333333333,141.66666666666666,142.76666666666665,143.7,144.63333333333333,145.46666666666664,146.36666666666667,147.3,148.33333333333331,149.43333333333334,150.56666666666666,151.63333333333333,152.63333333333333,153.6,154.76666666666665,155.93333333333334,157.1,158.2,159.16666666666666,159.9,160.6,161.3,161.89999999999998,162.46666666666664,163.1,163.93333333333334,164.83333333333331,165.76666666666665,166.89999999999998,168.03333333333333,169.43333333333334,170.96666666666667,172.5,174.06666666666666,175.3,176.46666666666667,177.13333333333333,177.56666666666666,178.2,179.0,180.16666666666666,181.26666666666665,182.33333333333331,183.16666666666666,183.9333333333333,184.96666666666667,186.2,187.6,189.1,190.56666666666666,192.13333333333333,193.43333333333334,195.89999999999998,197.76666666666665,199.76666666666665,200.93333333333334,201.76666666666665,202.72466666666668,203.798,205.61066666666665,207.46366666666665,209.65533333333332,211.875,215.034,216.49866666666668,215.89100000000002,213.91133333333335,213.10466666666667,214.50833333333333,null],\"type\":\"scattergl\",\"xaxis\":\"x3\",\"yaxis\":\"y3\"},{\"line\":{\"color\":\"rgb(214, 39, 40)\",\"width\":2},\"marker\":{\"size\":4},\"mode\":\"markers\",\"name\":\"Residuals\",\"x\":[\"1959-01-01T00:00:00\",\"1959-04-01T00:00:00\",\"1959-07-01T00:00:00\",\"1959-10-01T00:00:00\",\"1960-01-01T00:00:00\",\"1960-04-01T00:00:00\",\"1960-07-01T00:00:00\",\"1960-10-01T00:00:00\",\"1961-01-01T00:00:00\",\"1961-04-01T00:00:00\",\"1961-07-01T00:00:00\",\"1961-10-01T00:00:00\",\"1962-01-01T00:00:00\",\"1962-04-01T00:00:00\",\"1962-07-01T00:00:00\",\"1962-10-01T00:00:00\",\"1963-01-01T00:00:00\",\"1963-04-01T00:00:00\",\"1963-07-01T00:00:00\",\"1963-10-01T00:00:00\",\"1964-01-01T00:00:00\",\"1964-04-01T00:00:00\",\"1964-07-01T00:00:00\",\"1964-10-01T00:00:00\",\"1965-01-01T00:00:00\",\"1965-04-01T00:00:00\",\"1965-07-01T00:00:00\",\"1965-10-01T00:00:00\",\"1966-01-01T00:00:00\",\"1966-04-01T00:00:00\",\"1966-07-01T00:00:00\",\"1966-10-01T00:00:00\",\"1967-01-01T00:00:00\",\"1967-04-01T00:00:00\",\"1967-07-01T00:00:00\",\"1967-10-01T00:00:00\",\"1968-01-01T00:00:00\",\"1968-04-01T00:00:00\",\"1968-07-01T00:00:00\",\"1968-10-01T00:00:00\",\"1969-01-01T00:00:00\",\"1969-04-01T00:00:00\",\"1969-07-01T00:00:00\",\"1969-10-01T00:00:00\",\"1970-01-01T00:00:00\",\"1970-04-01T00:00:00\",\"1970-07-01T00:00:00\",\"1970-10-01T00:00:00\",\"1971-01-01T00:00:00\",\"1971-04-01T00:00:00\",\"1971-07-01T00:00:00\",\"1971-10-01T00:00:00\",\"1972-01-01T00:00:00\",\"1972-04-01T00:00:00\",\"1972-07-01T00:00:00\",\"1972-10-01T00:00:00\",\"1973-01-01T00:00:00\",\"1973-04-01T00:00:00\",\"1973-07-01T00:00:00\",\"1973-10-01T00:00:00\",\"1974-01-01T00:00:00\",\"1974-04-01T00:00:00\",\"1974-07-01T00:00:00\",\"1974-10-01T00:00:00\",\"1975-01-01T00:00:00\",\"1975-04-01T00:00:00\",\"1975-07-01T00:00:00\",\"1975-10-01T00:00:00\",\"1976-01-01T00:00:00\",\"1976-04-01T00:00:00\",\"1976-07-01T00:00:00\",\"1976-10-01T00:00:00\",\"1977-01-01T00:00:00\",\"1977-04-01T00:00:00\",\"1977-07-01T00:00:00\",\"1977-10-01T00:00:00\",\"1978-01-01T00:00:00\",\"1978-04-01T00:00:00\",\"1978-07-01T00:00:00\",\"1978-10-01T00:00:00\",\"1979-01-01T00:00:00\",\"1979-04-01T00:00:00\",\"1979-07-01T00:00:00\",\"1979-10-01T00:00:00\",\"1980-01-01T00:00:00\",\"1980-04-01T00:00:00\",\"1980-07-01T00:00:00\",\"1980-10-01T00:00:00\",\"1981-01-01T00:00:00\",\"1981-04-01T00:00:00\",\"1981-07-01T00:00:00\",\"1981-10-01T00:00:00\",\"1982-01-01T00:00:00\",\"1982-04-01T00:00:00\",\"1982-07-01T00:00:00\",\"1982-10-01T00:00:00\",\"1983-01-01T00:00:00\",\"1983-04-01T00:00:00\",\"1983-07-01T00:00:00\",\"1983-10-01T00:00:00\",\"1984-01-01T00:00:00\",\"1984-04-01T00:00:00\",\"1984-07-01T00:00:00\",\"1984-10-01T00:00:00\",\"1985-01-01T00:00:00\",\"1985-04-01T00:00:00\",\"1985-07-01T00:00:00\",\"1985-10-01T00:00:00\",\"1986-01-01T00:00:00\",\"1986-04-01T00:00:00\",\"1986-07-01T00:00:00\",\"1986-10-01T00:00:00\",\"1987-01-01T00:00:00\",\"1987-04-01T00:00:00\",\"1987-07-01T00:00:00\",\"1987-10-01T00:00:00\",\"1988-01-01T00:00:00\",\"1988-04-01T00:00:00\",\"1988-07-01T00:00:00\",\"1988-10-01T00:00:00\",\"1989-01-01T00:00:00\",\"1989-04-01T00:00:00\",\"1989-07-01T00:00:00\",\"1989-10-01T00:00:00\",\"1990-01-01T00:00:00\",\"1990-04-01T00:00:00\",\"1990-07-01T00:00:00\",\"1990-10-01T00:00:00\",\"1991-01-01T00:00:00\",\"1991-04-01T00:00:00\",\"1991-07-01T00:00:00\",\"1991-10-01T00:00:00\",\"1992-01-01T00:00:00\",\"1992-04-01T00:00:00\",\"1992-07-01T00:00:00\",\"1992-10-01T00:00:00\",\"1993-01-01T00:00:00\",\"1993-04-01T00:00:00\",\"1993-07-01T00:00:00\",\"1993-10-01T00:00:00\",\"1994-01-01T00:00:00\",\"1994-04-01T00:00:00\",\"1994-07-01T00:00:00\",\"1994-10-01T00:00:00\",\"1995-01-01T00:00:00\",\"1995-04-01T00:00:00\",\"1995-07-01T00:00:00\",\"1995-10-01T00:00:00\",\"1996-01-01T00:00:00\",\"1996-04-01T00:00:00\",\"1996-07-01T00:00:00\",\"1996-10-01T00:00:00\",\"1997-01-01T00:00:00\",\"1997-04-01T00:00:00\",\"1997-07-01T00:00:00\",\"1997-10-01T00:00:00\",\"1998-01-01T00:00:00\",\"1998-04-01T00:00:00\",\"1998-07-01T00:00:00\",\"1998-10-01T00:00:00\",\"1999-01-01T00:00:00\",\"1999-04-01T00:00:00\",\"1999-07-01T00:00:00\",\"1999-10-01T00:00:00\",\"2000-01-01T00:00:00\",\"2000-04-01T00:00:00\",\"2000-07-01T00:00:00\",\"2000-10-01T00:00:00\",\"2001-01-01T00:00:00\",\"2001-04-01T00:00:00\",\"2001-07-01T00:00:00\",\"2001-10-01T00:00:00\",\"2002-01-01T00:00:00\",\"2002-04-01T00:00:00\",\"2002-07-01T00:00:00\",\"2002-10-01T00:00:00\",\"2003-01-01T00:00:00\",\"2003-04-01T00:00:00\",\"2003-07-01T00:00:00\",\"2003-10-01T00:00:00\",\"2004-01-01T00:00:00\",\"2004-04-01T00:00:00\",\"2004-07-01T00:00:00\",\"2004-10-01T00:00:00\",\"2005-01-01T00:00:00\",\"2005-04-01T00:00:00\",\"2005-07-01T00:00:00\",\"2005-10-01T00:00:00\",\"2006-01-01T00:00:00\",\"2006-04-01T00:00:00\",\"2006-07-01T00:00:00\",\"2006-10-01T00:00:00\",\"2007-01-01T00:00:00\",\"2007-04-01T00:00:00\",\"2007-07-01T00:00:00\",\"2007-10-01T00:00:00\",\"2008-01-01T00:00:00\",\"2008-04-01T00:00:00\",\"2008-07-01T00:00:00\",\"2008-10-01T00:00:00\",\"2009-01-01T00:00:00\",\"2009-04-01T00:00:00\",\"2009-07-01T00:00:00\"],\"y\":[null,0.02846766169154436,0.09444776119403292,-0.12291542288556662,0.09180099502487693,-0.028885572139298377,-0.036248756218904166,0.07846766169154507,-0.01221890547263621,-0.05624875621890019,0.038467661691545925,-0.002218905472634647,-0.019582089552238446,-0.011532338308454786,0.06778109452736564,-0.0662487562189053,-0.018199004975122494,0.08444776119403136,-0.11624875621890601,0.09846766169154464,0.014447761194031072,-0.08291542288557457,0.01846766169154635,0.05444776119403377,-0.1062487562189009,0.08180099502487892,-0.018885572139300366,-0.12958208955223433,0.11513432835821036,-0.04221890547263735,0.04375124378109413,-0.011532338308454786,0.0011144278606992075,-0.07291542288557301,0.005134328358210934,0.06778109452736919,-0.139582089552243,0.07180099502488091,0.034447761194030646,-0.1395820895522359,0.0718009950248738,0.034447761194030646,-0.10624875621890445,0.03846766169154948,0.10111442786070063,-0.10624875621890445,0.03846766169154237,0.13444776119403207,-0.17291542288556733,0.10513432835821235,0.034447761194030646,-0.07291542288557301,0.03846766169154237,0.0011144278606992075,-0.10624875621890445,-0.12819900497512193,0.20111442786070205,-0.37291542288557017,0.10513432835821235,0.0011144278606992075,-0.03958208955223447,-0.12819900497512193,0.1677810945273706,0.12708457711442983,-0.06153233830845194,0.06778109452736919,-0.0729154228855659,0.2384676616915452,-0.1655522388059651,-0.07291542288557301,0.07180099502488091,-0.13221890547262655,0.09375124378109839,0.03846766169154237,-0.06555223880596367,-0.10624875621889734,-0.0948656716417905,0.03444776119404486,-0.006248756218910134,-0.1948656716417777,-0.06555223880596367,-0.006248756218895923,-0.16153233830846048,0.0011144278606992075,0.3270845771144327,-0.0948656716417976,-0.09888557213929511,0.12708457711442983,-0.12819900497512904,0.20111442786070205,0.22708457711443836,0.17180099502488233,-0.5988855721392952,0.5604179104477811,0.3051343283582223,-0.3322189054726152,-0.10624875621890445,0.03846766169155658,-0.06555223880596367,-0.03958208955224157,0.17180099502488233,-0.03221890547263223,0.060417910447766954,-0.19486567164179192,0.23444776119401928,-0.10624875621889024,-0.16153233830844627,0.9011144278607048,-0.7395820895522445,0.0718009950248738,-0.13221890547264076,-0.10624875621890445,0.10513432835821945,0.0011144278606992075,-0.0062487562188817125,-0.028199004975120505,0.0011144278607134184,-0.10624875621890445,0.0718009950248738,-0.1655522388059722,0.09375124378108418,0.20513432835821377,-0.3655522388059608,0.16041791044776127,-0.028199004975120505,-0.3988855721393065,0.4604179104477584,0.33846766169155373,-0.19888557213928942,-0.03958208955224157,0.005134328358210934,0.034447761194030646,-0.07291542288554459,0.005134328358210934,0.06778109452736208,-0.03958208955221315,0.1384676616915651,-0.09888557213929511,0.060417910447781165,-0.028199004975120505,-0.06555223880599209,-0.0062487562188817125,0.005134328358210934,-0.03221890547263223,0.0937512437811126,0.005134328358210934,-0.06555223880596367,-0.1395820895522359,0.20513432835819956,-0.06555223880596367,-0.07291542288557301,0.27180099502489086,0.034447761194030646,-0.27291542288556164,0.238467661691531,0.13444776119405338,-0.3395820895522245,0.13846766169153668,0.0011144278606992075,-0.20624875621889877,0.17180099502489654,-0.16555223880595799,-0.006248756218910134,-0.09486567164178339,-0.03221890547263223,0.12708457711441562,-0.12819900497511483,0.3344477611940136,-0.1395820895522359,0.3051343283582223,0.06778109452736208,-0.5729154228855731,0.33846766169155373,-0.13221890547262655,-0.1395820895522359,0.3051343283582223,0.06778109452736208,-0.3062487562188931,-0.028199004975120505,0.13444776119405338,-0.27291542288556164,0.03846766169154237,0.26778109452737914,-0.4062487562188874,0.4051343283582166,-1.165552238805958,1.360417910447764,-0.32819900497510346,-0.19888557213931785,0.8604179104477641,-0.7861990049751303,-0.1895522388059589,0.2364179104477689,-0.08719900497511801,-0.4878855721392767,0.5470845771144315,-0.9985323383084354,2.145781094527365,0.9250845771144174,-1.6988656716417967,-0.3992189054726509,-0.11224875621890468,null],\"type\":\"scattergl\",\"xaxis\":\"x4\",\"yaxis\":\"y4\"}],                        {\"template\":{\"data\":{\"barpolar\":[{\"marker\":{\"line\":{\"color\":\"rgb(237,237,237)\",\"width\":0.5},\"pattern\":{\"fillmode\":\"overlay\",\"size\":10,\"solidity\":0.2}},\"type\":\"barpolar\"}],\"bar\":[{\"error_x\":{\"color\":\"rgb(51,51,51)\"},\"error_y\":{\"color\":\"rgb(51,51,51)\"},\"marker\":{\"line\":{\"color\":\"rgb(237,237,237)\",\"width\":0.5},\"pattern\":{\"fillmode\":\"overlay\",\"size\":10,\"solidity\":0.2}},\"type\":\"bar\"}],\"carpet\":[{\"aaxis\":{\"endlinecolor\":\"rgb(51,51,51)\",\"gridcolor\":\"white\",\"linecolor\":\"white\",\"minorgridcolor\":\"white\",\"startlinecolor\":\"rgb(51,51,51)\"},\"baxis\":{\"endlinecolor\":\"rgb(51,51,51)\",\"gridcolor\":\"white\",\"linecolor\":\"white\",\"minorgridcolor\":\"white\",\"startlinecolor\":\"rgb(51,51,51)\"},\"type\":\"carpet\"}],\"choropleth\":[{\"colorbar\":{\"outlinewidth\":0,\"tickcolor\":\"rgb(237,237,237)\",\"ticklen\":6,\"ticks\":\"inside\"},\"type\":\"choropleth\"}],\"contourcarpet\":[{\"colorbar\":{\"outlinewidth\":0,\"tickcolor\":\"rgb(237,237,237)\",\"ticklen\":6,\"ticks\":\"inside\"},\"type\":\"contourcarpet\"}],\"contour\":[{\"colorbar\":{\"outlinewidth\":0,\"tickcolor\":\"rgb(237,237,237)\",\"ticklen\":6,\"ticks\":\"inside\"},\"colorscale\":[[0,\"rgb(20,44,66)\"],[1,\"rgb(90,179,244)\"]],\"type\":\"contour\"}],\"heatmapgl\":[{\"colorbar\":{\"outlinewidth\":0,\"tickcolor\":\"rgb(237,237,237)\",\"ticklen\":6,\"ticks\":\"inside\"},\"colorscale\":[[0,\"rgb(20,44,66)\"],[1,\"rgb(90,179,244)\"]],\"type\":\"heatmapgl\"}],\"heatmap\":[{\"colorbar\":{\"outlinewidth\":0,\"tickcolor\":\"rgb(237,237,237)\",\"ticklen\":6,\"ticks\":\"inside\"},\"colorscale\":[[0,\"rgb(20,44,66)\"],[1,\"rgb(90,179,244)\"]],\"type\":\"heatmap\"}],\"histogram2dcontour\":[{\"colorbar\":{\"outlinewidth\":0,\"tickcolor\":\"rgb(237,237,237)\",\"ticklen\":6,\"ticks\":\"inside\"},\"colorscale\":[[0,\"rgb(20,44,66)\"],[1,\"rgb(90,179,244)\"]],\"type\":\"histogram2dcontour\"}],\"histogram2d\":[{\"colorbar\":{\"outlinewidth\":0,\"tickcolor\":\"rgb(237,237,237)\",\"ticklen\":6,\"ticks\":\"inside\"},\"colorscale\":[[0,\"rgb(20,44,66)\"],[1,\"rgb(90,179,244)\"]],\"type\":\"histogram2d\"}],\"histogram\":[{\"marker\":{\"pattern\":{\"fillmode\":\"overlay\",\"size\":10,\"solidity\":0.2}},\"type\":\"histogram\"}],\"mesh3d\":[{\"colorbar\":{\"outlinewidth\":0,\"tickcolor\":\"rgb(237,237,237)\",\"ticklen\":6,\"ticks\":\"inside\"},\"type\":\"mesh3d\"}],\"parcoords\":[{\"line\":{\"colorbar\":{\"outlinewidth\":0,\"tickcolor\":\"rgb(237,237,237)\",\"ticklen\":6,\"ticks\":\"inside\"}},\"type\":\"parcoords\"}],\"pie\":[{\"automargin\":true,\"type\":\"pie\"}],\"scatter3d\":[{\"line\":{\"colorbar\":{\"outlinewidth\":0,\"tickcolor\":\"rgb(237,237,237)\",\"ticklen\":6,\"ticks\":\"inside\"}},\"marker\":{\"colorbar\":{\"outlinewidth\":0,\"tickcolor\":\"rgb(237,237,237)\",\"ticklen\":6,\"ticks\":\"inside\"}},\"type\":\"scatter3d\"}],\"scattercarpet\":[{\"marker\":{\"colorbar\":{\"outlinewidth\":0,\"tickcolor\":\"rgb(237,237,237)\",\"ticklen\":6,\"ticks\":\"inside\"}},\"type\":\"scattercarpet\"}],\"scattergeo\":[{\"marker\":{\"colorbar\":{\"outlinewidth\":0,\"tickcolor\":\"rgb(237,237,237)\",\"ticklen\":6,\"ticks\":\"inside\"}},\"type\":\"scattergeo\"}],\"scattergl\":[{\"marker\":{\"colorbar\":{\"outlinewidth\":0,\"tickcolor\":\"rgb(237,237,237)\",\"ticklen\":6,\"ticks\":\"inside\"}},\"type\":\"scattergl\"}],\"scattermapbox\":[{\"marker\":{\"colorbar\":{\"outlinewidth\":0,\"tickcolor\":\"rgb(237,237,237)\",\"ticklen\":6,\"ticks\":\"inside\"}},\"type\":\"scattermapbox\"}],\"scatterpolargl\":[{\"marker\":{\"colorbar\":{\"outlinewidth\":0,\"tickcolor\":\"rgb(237,237,237)\",\"ticklen\":6,\"ticks\":\"inside\"}},\"type\":\"scatterpolargl\"}],\"scatterpolar\":[{\"marker\":{\"colorbar\":{\"outlinewidth\":0,\"tickcolor\":\"rgb(237,237,237)\",\"ticklen\":6,\"ticks\":\"inside\"}},\"type\":\"scatterpolar\"}],\"scatter\":[{\"fillpattern\":{\"fillmode\":\"overlay\",\"size\":10,\"solidity\":0.2},\"type\":\"scatter\"}],\"scatterternary\":[{\"marker\":{\"colorbar\":{\"outlinewidth\":0,\"tickcolor\":\"rgb(237,237,237)\",\"ticklen\":6,\"ticks\":\"inside\"}},\"type\":\"scatterternary\"}],\"surface\":[{\"colorbar\":{\"outlinewidth\":0,\"tickcolor\":\"rgb(237,237,237)\",\"ticklen\":6,\"ticks\":\"inside\"},\"colorscale\":[[0,\"rgb(20,44,66)\"],[1,\"rgb(90,179,244)\"]],\"type\":\"surface\"}],\"table\":[{\"cells\":{\"fill\":{\"color\":\"rgb(237,237,237)\"},\"line\":{\"color\":\"white\"}},\"header\":{\"fill\":{\"color\":\"rgb(217,217,217)\"},\"line\":{\"color\":\"white\"}},\"type\":\"table\"}]},\"layout\":{\"annotationdefaults\":{\"arrowhead\":0,\"arrowwidth\":1},\"autotypenumbers\":\"strict\",\"coloraxis\":{\"colorbar\":{\"outlinewidth\":0,\"tickcolor\":\"rgb(237,237,237)\",\"ticklen\":6,\"ticks\":\"inside\"}},\"colorscale\":{\"sequential\":[[0,\"rgb(20,44,66)\"],[1,\"rgb(90,179,244)\"]],\"sequentialminus\":[[0,\"rgb(20,44,66)\"],[1,\"rgb(90,179,244)\"]]},\"colorway\":[\"#F8766D\",\"#A3A500\",\"#00BF7D\",\"#00B0F6\",\"#E76BF3\"],\"font\":{\"color\":\"rgb(51,51,51)\"},\"geo\":{\"bgcolor\":\"white\",\"lakecolor\":\"white\",\"landcolor\":\"rgb(237,237,237)\",\"showlakes\":true,\"showland\":true,\"subunitcolor\":\"white\"},\"hoverlabel\":{\"align\":\"left\"},\"hovermode\":\"closest\",\"paper_bgcolor\":\"white\",\"plot_bgcolor\":\"rgb(237,237,237)\",\"polar\":{\"angularaxis\":{\"gridcolor\":\"white\",\"linecolor\":\"white\",\"showgrid\":true,\"tickcolor\":\"rgb(51,51,51)\",\"ticks\":\"outside\"},\"bgcolor\":\"rgb(237,237,237)\",\"radialaxis\":{\"gridcolor\":\"white\",\"linecolor\":\"white\",\"showgrid\":true,\"tickcolor\":\"rgb(51,51,51)\",\"ticks\":\"outside\"}},\"scene\":{\"xaxis\":{\"backgroundcolor\":\"rgb(237,237,237)\",\"gridcolor\":\"white\",\"gridwidth\":2,\"linecolor\":\"white\",\"showbackground\":true,\"showgrid\":true,\"tickcolor\":\"rgb(51,51,51)\",\"ticks\":\"outside\",\"zerolinecolor\":\"white\"},\"yaxis\":{\"backgroundcolor\":\"rgb(237,237,237)\",\"gridcolor\":\"white\",\"gridwidth\":2,\"linecolor\":\"white\",\"showbackground\":true,\"showgrid\":true,\"tickcolor\":\"rgb(51,51,51)\",\"ticks\":\"outside\",\"zerolinecolor\":\"white\"},\"zaxis\":{\"backgroundcolor\":\"rgb(237,237,237)\",\"gridcolor\":\"white\",\"gridwidth\":2,\"linecolor\":\"white\",\"showbackground\":true,\"showgrid\":true,\"tickcolor\":\"rgb(51,51,51)\",\"ticks\":\"outside\",\"zerolinecolor\":\"white\"}},\"shapedefaults\":{\"fillcolor\":\"black\",\"line\":{\"width\":0},\"opacity\":0.3},\"ternary\":{\"aaxis\":{\"gridcolor\":\"white\",\"linecolor\":\"white\",\"showgrid\":true,\"tickcolor\":\"rgb(51,51,51)\",\"ticks\":\"outside\"},\"baxis\":{\"gridcolor\":\"white\",\"linecolor\":\"white\",\"showgrid\":true,\"tickcolor\":\"rgb(51,51,51)\",\"ticks\":\"outside\"},\"bgcolor\":\"rgb(237,237,237)\",\"caxis\":{\"gridcolor\":\"white\",\"linecolor\":\"white\",\"showgrid\":true,\"tickcolor\":\"rgb(51,51,51)\",\"ticks\":\"outside\"}},\"xaxis\":{\"automargin\":true,\"gridcolor\":\"white\",\"linecolor\":\"white\",\"showgrid\":true,\"tickcolor\":\"rgb(51,51,51)\",\"ticks\":\"outside\",\"title\":{\"standoff\":15},\"zerolinecolor\":\"white\"},\"yaxis\":{\"automargin\":true,\"gridcolor\":\"white\",\"linecolor\":\"white\",\"showgrid\":true,\"tickcolor\":\"rgb(51,51,51)\",\"ticks\":\"outside\",\"title\":{\"standoff\":15},\"zerolinecolor\":\"white\"}}},\"xaxis\":{\"anchor\":\"y\",\"domain\":[0.0,0.98],\"matches\":\"x4\",\"showticklabels\":false},\"yaxis\":{\"anchor\":\"x\",\"domain\":[0.80625,1.0]},\"xaxis2\":{\"anchor\":\"y2\",\"domain\":[0.0,0.98],\"matches\":\"x4\",\"showticklabels\":false},\"yaxis2\":{\"anchor\":\"x2\",\"domain\":[0.5375,0.73125]},\"xaxis3\":{\"anchor\":\"y3\",\"domain\":[0.0,0.98],\"matches\":\"x4\",\"showticklabels\":false},\"yaxis3\":{\"anchor\":\"x3\",\"domain\":[0.26875,0.4625]},\"xaxis4\":{\"anchor\":\"y4\",\"domain\":[0.0,0.98]},\"yaxis4\":{\"anchor\":\"x4\",\"domain\":[0.0,0.19375]},\"annotations\":[{\"font\":{\"size\":16},\"showarrow\":false,\"text\":\"cpi (transformed)\",\"x\":0.49,\"xanchor\":\"center\",\"xref\":\"paper\",\"y\":1.0,\"yanchor\":\"bottom\",\"yref\":\"paper\"},{\"font\":{\"size\":16},\"showarrow\":false,\"text\":\"Actual\",\"textangle\":90,\"x\":0.98,\"xanchor\":\"left\",\"xref\":\"paper\",\"y\":0.903125,\"yanchor\":\"middle\",\"yref\":\"paper\"},{\"font\":{\"size\":16},\"showarrow\":false,\"text\":\"Seasonal\",\"textangle\":90,\"x\":0.98,\"xanchor\":\"left\",\"xref\":\"paper\",\"y\":0.6343749999999999,\"yanchor\":\"middle\",\"yref\":\"paper\"},{\"font\":{\"size\":16},\"showarrow\":false,\"text\":\"Trend\",\"textangle\":90,\"x\":0.98,\"xanchor\":\"left\",\"xref\":\"paper\",\"y\":0.365625,\"yanchor\":\"middle\",\"yref\":\"paper\"},{\"font\":{\"size\":16},\"showarrow\":false,\"text\":\"Residual\",\"textangle\":90,\"x\":0.98,\"xanchor\":\"left\",\"xref\":\"paper\",\"y\":0.096875,\"yanchor\":\"middle\",\"yref\":\"paper\"}],\"title\":{\"text\":\"Classical Decomposition (additive) | cpi\\u003cbr\\u003eSeasonal Period = 3\"},\"showlegend\":false},                        {\"responsive\": true}                    ).then(function(){\n",
              "                            \n",
              "var gd = document.getElementById('a2221067-02cf-4ada-a39a-c5b56e7b7980');\n",
              "var x = new MutationObserver(function (mutations, observer) {{\n",
              "        var display = window.getComputedStyle(gd).display;\n",
              "        if (!display || display === 'none') {{\n",
              "            console.log([gd, 'removed!']);\n",
              "            Plotly.purge(gd);\n",
              "            observer.disconnect();\n",
              "        }}\n",
              "}});\n",
              "\n",
              "// Listen for the removal of the full notebook cells\n",
              "var notebookContainer = gd.closest('#notebook-container');\n",
              "if (notebookContainer) {{\n",
              "    x.observe(notebookContainer, {childList: true});\n",
              "}}\n",
              "\n",
              "// Listen for the clearing of the current output cell\n",
              "var outputEl = gd.closest('.output');\n",
              "if (outputEl) {{\n",
              "    x.observe(outputEl, {childList: true});\n",
              "}}\n",
              "\n",
              "                        })                };                            </script>        </div>\n",
              "</body>\n",
              "</html>"
            ]
          },
          "metadata": {},
          "output_type": "display_data"
        }
      ],
      "source": [
        "exp.plot_model(plot='decomp')"
      ]
    },
    {
      "cell_type": "markdown",
      "metadata": {
        "id": "ntgqbHGBeuwL"
      },
      "source": [
        "## 7. Models\n",
        "### SES"
      ]
    },
    {
      "cell_type": "markdown",
      "metadata": {
        "id": "D8q689U9bZYi"
      },
      "source": [
        "Does the following show metrics in the holdout set?"
      ]
    },
    {
      "cell_type": "code",
      "execution_count": null,
      "metadata": {
        "colab": {
          "base_uri": "https://localhost:8080/",
          "height": 81,
          "referenced_widgets": [
            "c536ac9cb0c8498a867443f25356f815",
            "bc86e012f87e4accbda1e8532fb6c4a8",
            "60c5f7c8184a4250b91efe5403679454",
            "eea1ee61c91e471884fabff41a4e9089",
            "c54f588d8b0444039276217a9b7e38da",
            "d84a5f601db2415ca8384bc67477c673",
            "b700dafed8b04b4db4e94c686c3ed885",
            "3d9a63e5f8b64a13b8fe1361c482ff93",
            "fdbf5e598278415cb8fee4d28fc165f0",
            "b2c1b7e2f82444b3b5846a08f06f3101",
            "5c0dd300afd443e08510d44df1849364"
          ]
        },
        "id": "r8mstXP1Tljg",
        "outputId": "15cfe638-37ae-4cae-8f03-01aa0dfb16fd"
      },
      "outputs": [
        {
          "data": {
            "text/html": [],
            "text/plain": [
              "<IPython.core.display.HTML object>"
            ]
          },
          "metadata": {},
          "output_type": "display_data"
        },
        {
          "data": {
            "text/html": [
              "<style type=\"text/css\">\n",
              "</style>\n",
              "<table id=\"T_fa178\" class=\"dataframe\">\n",
              "  <thead>\n",
              "    <tr>\n",
              "      <th class=\"blank level0\" >&nbsp;</th>\n",
              "      <th id=\"T_fa178_level0_col0\" class=\"col_heading level0 col0\" >MASE</th>\n",
              "      <th id=\"T_fa178_level0_col1\" class=\"col_heading level0 col1\" >RMSSE</th>\n",
              "      <th id=\"T_fa178_level0_col2\" class=\"col_heading level0 col2\" >MAE</th>\n",
              "      <th id=\"T_fa178_level0_col3\" class=\"col_heading level0 col3\" >RMSE</th>\n",
              "      <th id=\"T_fa178_level0_col4\" class=\"col_heading level0 col4\" >MAPE</th>\n",
              "      <th id=\"T_fa178_level0_col5\" class=\"col_heading level0 col5\" >SMAPE</th>\n",
              "      <th id=\"T_fa178_level0_col6\" class=\"col_heading level0 col6\" >R2</th>\n",
              "    </tr>\n",
              "  </thead>\n",
              "  <tbody>\n",
              "    <tr>\n",
              "      <th id=\"T_fa178_level0_row0\" class=\"row_heading level0 row0\" >Test</th>\n",
              "      <td id=\"T_fa178_row0_col0\" class=\"data row0 col0\" >7.0101</td>\n",
              "      <td id=\"T_fa178_row0_col1\" class=\"data row0 col1\" >6.6746</td>\n",
              "      <td id=\"T_fa178_row0_col2\" class=\"data row0 col2\" >18.4940</td>\n",
              "      <td id=\"T_fa178_row0_col3\" class=\"data row0 col3\" >20.9995</td>\n",
              "      <td id=\"T_fa178_row0_col4\" class=\"data row0 col4\" >0.0887</td>\n",
              "      <td id=\"T_fa178_row0_col5\" class=\"data row0 col5\" >0.0940</td>\n",
              "      <td id=\"T_fa178_row0_col6\" class=\"data row0 col6\" >-3.4564</td>\n",
              "    </tr>\n",
              "  </tbody>\n",
              "</table>\n"
            ],
            "text/plain": [
              "<pandas.io.formats.style.Styler at 0x798a872026d0>"
            ]
          },
          "metadata": {},
          "output_type": "display_data"
        },
        {
          "data": {
            "application/vnd.jupyter.widget-view+json": {
              "model_id": "c536ac9cb0c8498a867443f25356f815",
              "version_major": 2,
              "version_minor": 0
            },
            "text/plain": [
              "Processing:   0%|          | 0/4 [00:00<?, ?it/s]"
            ]
          },
          "metadata": {
            "application/vnd.jupyter.widget-view+json": {
              "colab": {
                "custom_widget_manager": {
                  "url": "https://ssl.gstatic.com/colaboratory-static/widgets/colab-cdn-widget-manager/2b70e893a8ba7c0f/manager.min.js"
                }
              }
            }
          },
          "output_type": "display_data"
        },
        {
          "data": {
            "text/html": [],
            "text/plain": [
              "<IPython.core.display.HTML object>"
            ]
          },
          "metadata": {},
          "output_type": "display_data"
        }
      ],
      "source": [
        "ses = exp.create_model('exp_smooth', trend=None, seasonal=None, sp=None, cross_validation=False )"
      ]
    },
    {
      "cell_type": "markdown",
      "metadata": {
        "id": "z7IbCTAAHoBJ"
      },
      "source": [
        "$R^2$ in the holdout set:\n",
        "\n"
      ]
    },
    {
      "cell_type": "code",
      "execution_count": null,
      "metadata": {
        "colab": {
          "base_uri": "https://localhost:8080/"
        },
        "id": "eY2bKJI0HVfV",
        "outputId": "2771866e-8760-4b76-db4b-cc2bd0616ae3"
      },
      "outputs": [
        {
          "data": {
            "text/plain": [
              "-3.4564495299846314"
            ]
          },
          "execution_count": 58,
          "metadata": {},
          "output_type": "execute_result"
        }
      ],
      "source": [
        "r2_score(df['cpi'][-24:], ses.predict(df.index[-24:]))"
      ]
    },
    {
      "cell_type": "markdown",
      "metadata": {
        "id": "Sbkp3Qz6bc30"
      },
      "source": [
        "$R^2$ in the train set:\n",
        "\n"
      ]
    },
    {
      "cell_type": "code",
      "execution_count": null,
      "metadata": {
        "colab": {
          "base_uri": "https://localhost:8080/"
        },
        "id": "PYv99c5aG4-H",
        "outputId": "05d7ff12-0a60-4ba3-de9c-699ae341d985"
      },
      "outputs": [
        {
          "data": {
            "text/plain": [
              "0.9995696422397906"
            ]
          },
          "execution_count": 59,
          "metadata": {},
          "output_type": "execute_result"
        }
      ],
      "source": [
        "r2_score(df['cpi'][:-24], ses.predict(df.index[:-24]))"
      ]
    },
    {
      "cell_type": "markdown",
      "metadata": {
        "id": "9VMqiJhbezKU"
      },
      "source": [
        "### Holt's Linear"
      ]
    },
    {
      "cell_type": "code",
      "execution_count": null,
      "metadata": {
        "colab": {
          "base_uri": "https://localhost:8080/",
          "height": 81,
          "referenced_widgets": [
            "33e50aa50ddd4b18ac254300f47401d9",
            "c730b775240b4593bac36347ae76260e",
            "cd6160c31cc94715989913e78bdbdc5e",
            "82383a38ebdb437fb96e119dfa984aa9",
            "70ab7f267f224b5d94a58aa3106d6317",
            "b7246196441c41839afefb4e6819fb17",
            "f059cfdab6104b69b2f54d45e8f849b2",
            "8ca6b73f1512465b8a940d2f564e0483",
            "d7bbe44110954867a2ea553bea49dc1a",
            "6c0e20f45991468ebf301ef837657f34",
            "4e3cb40dfbd84b76b8eb76fc2f8053ee"
          ]
        },
        "id": "OjqlA292UxDM",
        "outputId": "99333599-ad7d-45c8-8f4e-acedc4771db1"
      },
      "outputs": [
        {
          "data": {
            "text/html": [],
            "text/plain": [
              "<IPython.core.display.HTML object>"
            ]
          },
          "metadata": {},
          "output_type": "display_data"
        },
        {
          "data": {
            "text/html": [
              "<style type=\"text/css\">\n",
              "</style>\n",
              "<table id=\"T_c653c\" class=\"dataframe\">\n",
              "  <thead>\n",
              "    <tr>\n",
              "      <th class=\"blank level0\" >&nbsp;</th>\n",
              "      <th id=\"T_c653c_level0_col0\" class=\"col_heading level0 col0\" >MASE</th>\n",
              "      <th id=\"T_c653c_level0_col1\" class=\"col_heading level0 col1\" >RMSSE</th>\n",
              "      <th id=\"T_c653c_level0_col2\" class=\"col_heading level0 col2\" >MAE</th>\n",
              "      <th id=\"T_c653c_level0_col3\" class=\"col_heading level0 col3\" >RMSE</th>\n",
              "      <th id=\"T_c653c_level0_col4\" class=\"col_heading level0 col4\" >MAPE</th>\n",
              "      <th id=\"T_c653c_level0_col5\" class=\"col_heading level0 col5\" >SMAPE</th>\n",
              "      <th id=\"T_c653c_level0_col6\" class=\"col_heading level0 col6\" >R2</th>\n",
              "    </tr>\n",
              "  </thead>\n",
              "  <tbody>\n",
              "    <tr>\n",
              "      <th id=\"T_c653c_level0_row0\" class=\"row_heading level0 row0\" >Test</th>\n",
              "      <td id=\"T_c653c_row0_col0\" class=\"data row0 col0\" >2.6604</td>\n",
              "      <td id=\"T_c653c_row0_col1\" class=\"data row0 col1\" >2.5729</td>\n",
              "      <td id=\"T_c653c_row0_col2\" class=\"data row0 col2\" >7.0187</td>\n",
              "      <td id=\"T_c653c_row0_col3\" class=\"data row0 col3\" >8.0947</td>\n",
              "      <td id=\"T_c653c_row0_col4\" class=\"data row0 col4\" >0.0337</td>\n",
              "      <td id=\"T_c653c_row0_col5\" class=\"data row0 col5\" >0.0344</td>\n",
              "      <td id=\"T_c653c_row0_col6\" class=\"data row0 col6\" >0.3378</td>\n",
              "    </tr>\n",
              "  </tbody>\n",
              "</table>\n"
            ],
            "text/plain": [
              "<pandas.io.formats.style.Styler at 0x798a8a9cae50>"
            ]
          },
          "metadata": {},
          "output_type": "display_data"
        },
        {
          "data": {
            "application/vnd.jupyter.widget-view+json": {
              "model_id": "33e50aa50ddd4b18ac254300f47401d9",
              "version_major": 2,
              "version_minor": 0
            },
            "text/plain": [
              "Processing:   0%|          | 0/4 [00:00<?, ?it/s]"
            ]
          },
          "metadata": {
            "application/vnd.jupyter.widget-view+json": {
              "colab": {
                "custom_widget_manager": {
                  "url": "https://ssl.gstatic.com/colaboratory-static/widgets/colab-cdn-widget-manager/2b70e893a8ba7c0f/manager.min.js"
                }
              }
            }
          },
          "output_type": "display_data"
        },
        {
          "data": {
            "text/html": [],
            "text/plain": [
              "<IPython.core.display.HTML object>"
            ]
          },
          "metadata": {},
          "output_type": "display_data"
        }
      ],
      "source": [
        "ht = exp.create_model('exp_smooth', trend='add', seasonal=None, sp = None, cross_validation=False)"
      ]
    },
    {
      "cell_type": "markdown",
      "metadata": {
        "id": "Eb7McDkQIFsh"
      },
      "source": [
        "$R^2$ in the holdout set:\n",
        "\n"
      ]
    },
    {
      "cell_type": "code",
      "execution_count": null,
      "metadata": {
        "colab": {
          "base_uri": "https://localhost:8080/"
        },
        "id": "uBggaow5IFsi",
        "outputId": "e4669b34-06b8-40dd-dec1-d842be05c504"
      },
      "outputs": [
        {
          "data": {
            "text/plain": [
              "0.3378208854975925"
            ]
          },
          "execution_count": 61,
          "metadata": {},
          "output_type": "execute_result"
        }
      ],
      "source": [
        "r2_score(df['cpi'][-24:], ht.predict(df.index[-24:]))"
      ]
    },
    {
      "cell_type": "markdown",
      "metadata": {
        "id": "ykfa-5jkIFsj"
      },
      "source": [
        "$R^2$ in the train set:\n",
        "\n"
      ]
    },
    {
      "cell_type": "code",
      "execution_count": null,
      "metadata": {
        "colab": {
          "base_uri": "https://localhost:8080/"
        },
        "id": "3x8pkm6kIFsj",
        "outputId": "57654d0e-4d2d-4361-8ee1-caf2ce69e63c"
      },
      "outputs": [
        {
          "data": {
            "text/plain": [
              "0.9999281715411054"
            ]
          },
          "execution_count": 62,
          "metadata": {},
          "output_type": "execute_result"
        }
      ],
      "source": [
        "r2_score(df['cpi'][:-24], ht.predict(df.index[:-24]))"
      ]
    },
    {
      "cell_type": "markdown",
      "metadata": {
        "id": "K8Pmu0ETe3PG"
      },
      "source": [
        "### Holt-Winters (Additive)"
      ]
    },
    {
      "cell_type": "code",
      "execution_count": null,
      "metadata": {
        "colab": {
          "base_uri": "https://localhost:8080/",
          "height": 81,
          "referenced_widgets": [
            "925451e4081d4b5db919a63b45587957",
            "70f420bf7ece48c3af13ca79282db26a",
            "84c9abc7f0034e569bac074f0de707a2",
            "74607ed4978b46ecb9abb2dadf840afa",
            "0e2e5e65477f4330a02f189aa2666552",
            "0a13ff1e436f4844b31d0d2c771a9bc9",
            "a86457626a0d483686e41d9d73fbe7ad",
            "bb10d177a0504eaf966b7c2f891b5259",
            "4a71f78a1f8c47d0856fab104f653458",
            "064439defd0a450192ce3e011fbdae06",
            "61c6f50c59194807ad50b8b870985f03"
          ]
        },
        "id": "JG6gGcUnVi89",
        "outputId": "fefc0d8a-2051-4ce6-addf-ec920e308627"
      },
      "outputs": [
        {
          "data": {
            "text/html": [],
            "text/plain": [
              "<IPython.core.display.HTML object>"
            ]
          },
          "metadata": {},
          "output_type": "display_data"
        },
        {
          "data": {
            "text/html": [
              "<style type=\"text/css\">\n",
              "</style>\n",
              "<table id=\"T_953f8\" class=\"dataframe\">\n",
              "  <thead>\n",
              "    <tr>\n",
              "      <th class=\"blank level0\" >&nbsp;</th>\n",
              "      <th id=\"T_953f8_level0_col0\" class=\"col_heading level0 col0\" >MASE</th>\n",
              "      <th id=\"T_953f8_level0_col1\" class=\"col_heading level0 col1\" >RMSSE</th>\n",
              "      <th id=\"T_953f8_level0_col2\" class=\"col_heading level0 col2\" >MAE</th>\n",
              "      <th id=\"T_953f8_level0_col3\" class=\"col_heading level0 col3\" >RMSE</th>\n",
              "      <th id=\"T_953f8_level0_col4\" class=\"col_heading level0 col4\" >MAPE</th>\n",
              "      <th id=\"T_953f8_level0_col5\" class=\"col_heading level0 col5\" >SMAPE</th>\n",
              "      <th id=\"T_953f8_level0_col6\" class=\"col_heading level0 col6\" >R2</th>\n",
              "    </tr>\n",
              "  </thead>\n",
              "  <tbody>\n",
              "    <tr>\n",
              "      <th id=\"T_953f8_level0_row0\" class=\"row_heading level0 row0\" >Test</th>\n",
              "      <td id=\"T_953f8_row0_col0\" class=\"data row0 col0\" >2.7001</td>\n",
              "      <td id=\"T_953f8_row0_col1\" class=\"data row0 col1\" >2.6076</td>\n",
              "      <td id=\"T_953f8_row0_col2\" class=\"data row0 col2\" >7.1233</td>\n",
              "      <td id=\"T_953f8_row0_col3\" class=\"data row0 col3\" >8.2041</td>\n",
              "      <td id=\"T_953f8_row0_col4\" class=\"data row0 col4\" >0.0342</td>\n",
              "      <td id=\"T_953f8_row0_col5\" class=\"data row0 col5\" >0.0350</td>\n",
              "      <td id=\"T_953f8_row0_col6\" class=\"data row0 col6\" >0.3198</td>\n",
              "    </tr>\n",
              "  </tbody>\n",
              "</table>\n"
            ],
            "text/plain": [
              "<pandas.io.formats.style.Styler at 0x798a7669e890>"
            ]
          },
          "metadata": {},
          "output_type": "display_data"
        },
        {
          "data": {
            "application/vnd.jupyter.widget-view+json": {
              "model_id": "925451e4081d4b5db919a63b45587957",
              "version_major": 2,
              "version_minor": 0
            },
            "text/plain": [
              "Processing:   0%|          | 0/4 [00:00<?, ?it/s]"
            ]
          },
          "metadata": {
            "application/vnd.jupyter.widget-view+json": {
              "colab": {
                "custom_widget_manager": {
                  "url": "https://ssl.gstatic.com/colaboratory-static/widgets/colab-cdn-widget-manager/2b70e893a8ba7c0f/manager.min.js"
                }
              }
            }
          },
          "output_type": "display_data"
        },
        {
          "data": {
            "text/html": [],
            "text/plain": [
              "<IPython.core.display.HTML object>"
            ]
          },
          "metadata": {},
          "output_type": "display_data"
        }
      ],
      "source": [
        "hw_add = exp.create_model('exp_smooth', trend='add', seasonal='add', sp= 12, cross_validation=False)"
      ]
    },
    {
      "cell_type": "markdown",
      "metadata": {
        "id": "H8AGQ65MIGyJ"
      },
      "source": [
        "$R^2$ in the holdout set:\n",
        "\n"
      ]
    },
    {
      "cell_type": "code",
      "execution_count": null,
      "metadata": {
        "colab": {
          "base_uri": "https://localhost:8080/"
        },
        "id": "Bgpvhe0-IGyK",
        "outputId": "0ccc882a-03d5-4139-e723-2b06ebbeab9b"
      },
      "outputs": [
        {
          "data": {
            "text/plain": [
              "0.3198085025549944"
            ]
          },
          "execution_count": 64,
          "metadata": {},
          "output_type": "execute_result"
        }
      ],
      "source": [
        "r2_score(df['cpi'][-24:], hw_add.predict(df.index[-24:]))"
      ]
    },
    {
      "cell_type": "markdown",
      "metadata": {
        "id": "qHizJjX0IGyK"
      },
      "source": [
        "$R^2$ in the train set:\n",
        "\n"
      ]
    },
    {
      "cell_type": "code",
      "execution_count": null,
      "metadata": {
        "colab": {
          "base_uri": "https://localhost:8080/"
        },
        "id": "T4JQvTYQIGyK",
        "outputId": "b1e88130-ea82-4f3f-9fd9-f981b0ca3594"
      },
      "outputs": [
        {
          "data": {
            "text/plain": [
              "0.9999292973221766"
            ]
          },
          "execution_count": 65,
          "metadata": {},
          "output_type": "execute_result"
        }
      ],
      "source": [
        "r2_score(df['cpi'][:-24], hw_add.predict(df.index[:-24]))"
      ]
    },
    {
      "cell_type": "markdown",
      "metadata": {
        "id": "Qi5naZEIe7Bf"
      },
      "source": [
        "### Holt-Winters (Multiplicitive)"
      ]
    },
    {
      "cell_type": "code",
      "execution_count": null,
      "metadata": {
        "colab": {
          "base_uri": "https://localhost:8080/",
          "height": 81,
          "referenced_widgets": [
            "0e27b09e28674c59946d2d3812d83376",
            "8d6a2eca4a3d4684ae905f830135335e",
            "e73c8608e08b4ec497e9b7ed0e018245",
            "cdab82afb21b432ca80bd645467f1461",
            "466581acf1054b3ba529fe858179a7f3",
            "32fb6f8731b346d4866acc651550365d",
            "d8522de32042457c8137b0d3b81cecd9",
            "a66125127e634ec78368b0805036052b",
            "ada4d83bcf2742ab87d3d82ccb49d4a5",
            "fb25d04a565641a98243c002f29f50ac",
            "b7bf9e706de64112b958f4041592f129"
          ]
        },
        "id": "02Gt7HF1V53X",
        "outputId": "175a8fdd-2de1-43a4-9b12-2df3e928dcd1"
      },
      "outputs": [
        {
          "data": {
            "text/html": [],
            "text/plain": [
              "<IPython.core.display.HTML object>"
            ]
          },
          "metadata": {},
          "output_type": "display_data"
        },
        {
          "data": {
            "text/html": [
              "<style type=\"text/css\">\n",
              "</style>\n",
              "<table id=\"T_dfbd3\" class=\"dataframe\">\n",
              "  <thead>\n",
              "    <tr>\n",
              "      <th class=\"blank level0\" >&nbsp;</th>\n",
              "      <th id=\"T_dfbd3_level0_col0\" class=\"col_heading level0 col0\" >MASE</th>\n",
              "      <th id=\"T_dfbd3_level0_col1\" class=\"col_heading level0 col1\" >RMSSE</th>\n",
              "      <th id=\"T_dfbd3_level0_col2\" class=\"col_heading level0 col2\" >MAE</th>\n",
              "      <th id=\"T_dfbd3_level0_col3\" class=\"col_heading level0 col3\" >RMSE</th>\n",
              "      <th id=\"T_dfbd3_level0_col4\" class=\"col_heading level0 col4\" >MAPE</th>\n",
              "      <th id=\"T_dfbd3_level0_col5\" class=\"col_heading level0 col5\" >SMAPE</th>\n",
              "      <th id=\"T_dfbd3_level0_col6\" class=\"col_heading level0 col6\" >R2</th>\n",
              "    </tr>\n",
              "  </thead>\n",
              "  <tbody>\n",
              "    <tr>\n",
              "      <th id=\"T_dfbd3_level0_row0\" class=\"row_heading level0 row0\" >Test</th>\n",
              "      <td id=\"T_dfbd3_row0_col0\" class=\"data row0 col0\" >2.8172</td>\n",
              "      <td id=\"T_dfbd3_row0_col1\" class=\"data row0 col1\" >2.7121</td>\n",
              "      <td id=\"T_dfbd3_row0_col2\" class=\"data row0 col2\" >7.4323</td>\n",
              "      <td id=\"T_dfbd3_row0_col3\" class=\"data row0 col3\" >8.5326</td>\n",
              "      <td id=\"T_dfbd3_row0_col4\" class=\"data row0 col4\" >0.0357</td>\n",
              "      <td id=\"T_dfbd3_row0_col5\" class=\"data row0 col5\" >0.0365</td>\n",
              "      <td id=\"T_dfbd3_row0_col6\" class=\"data row0 col6\" >0.2642</td>\n",
              "    </tr>\n",
              "  </tbody>\n",
              "</table>\n"
            ],
            "text/plain": [
              "<pandas.io.formats.style.Styler at 0x798a8a9ca910>"
            ]
          },
          "metadata": {},
          "output_type": "display_data"
        },
        {
          "data": {
            "application/vnd.jupyter.widget-view+json": {
              "model_id": "0e27b09e28674c59946d2d3812d83376",
              "version_major": 2,
              "version_minor": 0
            },
            "text/plain": [
              "Processing:   0%|          | 0/4 [00:00<?, ?it/s]"
            ]
          },
          "metadata": {
            "application/vnd.jupyter.widget-view+json": {
              "colab": {
                "custom_widget_manager": {
                  "url": "https://ssl.gstatic.com/colaboratory-static/widgets/colab-cdn-widget-manager/2b70e893a8ba7c0f/manager.min.js"
                }
              }
            }
          },
          "output_type": "display_data"
        },
        {
          "data": {
            "text/html": [],
            "text/plain": [
              "<IPython.core.display.HTML object>"
            ]
          },
          "metadata": {},
          "output_type": "display_data"
        }
      ],
      "source": [
        "hw_mul = exp.create_model('exp_smooth', trend='add', seasonal='mul', sp= 12, cross_validation=False)"
      ]
    },
    {
      "cell_type": "markdown",
      "metadata": {
        "id": "80nZ8WhdIHtd"
      },
      "source": [
        "$R^2$ in the holdout set:\n",
        "\n"
      ]
    },
    {
      "cell_type": "code",
      "execution_count": null,
      "metadata": {
        "colab": {
          "base_uri": "https://localhost:8080/"
        },
        "id": "TcL6IoLrIHte",
        "outputId": "2253ad5f-f09d-4506-92cc-026480079631"
      },
      "outputs": [
        {
          "data": {
            "text/plain": [
              "0.2642398883445336"
            ]
          },
          "execution_count": 67,
          "metadata": {},
          "output_type": "execute_result"
        }
      ],
      "source": [
        "r2_score(df['cpi'][-24:], hw_mul.predict(df.index[-24:]))"
      ]
    },
    {
      "cell_type": "markdown",
      "metadata": {
        "id": "zeA1Br0gIHte"
      },
      "source": [
        "$R^2$ in the train set:\n",
        "\n"
      ]
    },
    {
      "cell_type": "code",
      "execution_count": null,
      "metadata": {
        "colab": {
          "base_uri": "https://localhost:8080/"
        },
        "id": "vH89AomBIHtf",
        "outputId": "16112bbe-978c-4465-9fda-c9b35f6c85d7"
      },
      "outputs": [
        {
          "data": {
            "text/plain": [
              "0.99992996835566"
            ]
          },
          "execution_count": 68,
          "metadata": {},
          "output_type": "execute_result"
        }
      ],
      "source": [
        "r2_score(df['cpi'][:-24], hw_mul.predict(df.index[:-24]))"
      ]
    },
    {
      "cell_type": "markdown",
      "metadata": {
        "id": "ICvdwH3Gj_zY"
      },
      "source": [
        "## 8. Which method has the highest R-squared in the in-sample and the holdout set?\n",
        "**In-sample/train set:** Holt's Linear Trend - 0.3378\n",
        "\n",
        "**Holdout/test set:** Holt-Winters' Mutiplicitive - 0.999929\n",
        "\n"
      ]
    },
    {
      "cell_type": "markdown",
      "metadata": {
        "id": "PI1l5it-QdNx"
      },
      "source": [
        "## 9. Plot the in-sample predictions"
      ]
    },
    {
      "cell_type": "code",
      "execution_count": null,
      "metadata": {
        "colab": {
          "base_uri": "https://localhost:8080/",
          "height": 542
        },
        "id": "8kQYreZOj7uu",
        "outputId": "986fbf92-06bf-4585-e458-1fd3d013ada1"
      },
      "outputs": [
        {
          "data": {
            "text/html": [
              "<html>\n",
              "<head><meta charset=\"utf-8\" /></head>\n",
              "<body>\n",
              "    <div>            <script src=\"https://cdnjs.cloudflare.com/ajax/libs/mathjax/2.7.5/MathJax.js?config=TeX-AMS-MML_SVG\"></script><script type=\"text/javascript\">if (window.MathJax && window.MathJax.Hub && window.MathJax.Hub.Config) {window.MathJax.Hub.Config({SVG: {font: \"STIX-Web\"}});}</script>                <script type=\"text/javascript\">window.PlotlyConfig = {MathJaxConfig: 'local'};</script>\n",
              "        <script charset=\"utf-8\" src=\"https://cdn.plot.ly/plotly-2.35.2.min.js\"></script>                <div id=\"f126cff2-6840-4587-b9be-aaef01fb5c25\" class=\"plotly-graph-div\" style=\"height:525px; width:100%;\"></div>            <script type=\"text/javascript\">                                    window.PLOTLYENV=window.PLOTLYENV || {};                                    if (document.getElementById(\"f126cff2-6840-4587-b9be-aaef01fb5c25\")) {                    Plotly.newPlot(                        \"f126cff2-6840-4587-b9be-aaef01fb5c25\",                        [{\"line\":{\"color\":\"rgb(31, 119, 180)\",\"width\":2},\"marker\":{\"color\":\"rgb(31, 119, 180)\",\"size\":5},\"mode\":\"lines+markers\",\"name\":\"cpi\",\"x\":[\"1959-01-01T00:00:00\",\"1959-04-01T00:00:00\",\"1959-07-01T00:00:00\",\"1959-10-01T00:00:00\",\"1960-01-01T00:00:00\",\"1960-04-01T00:00:00\",\"1960-07-01T00:00:00\",\"1960-10-01T00:00:00\",\"1961-01-01T00:00:00\",\"1961-04-01T00:00:00\",\"1961-07-01T00:00:00\",\"1961-10-01T00:00:00\",\"1962-01-01T00:00:00\",\"1962-04-01T00:00:00\",\"1962-07-01T00:00:00\",\"1962-10-01T00:00:00\",\"1963-01-01T00:00:00\",\"1963-04-01T00:00:00\",\"1963-07-01T00:00:00\",\"1963-10-01T00:00:00\",\"1964-01-01T00:00:00\",\"1964-04-01T00:00:00\",\"1964-07-01T00:00:00\",\"1964-10-01T00:00:00\",\"1965-01-01T00:00:00\",\"1965-04-01T00:00:00\",\"1965-07-01T00:00:00\",\"1965-10-01T00:00:00\",\"1966-01-01T00:00:00\",\"1966-04-01T00:00:00\",\"1966-07-01T00:00:00\",\"1966-10-01T00:00:00\",\"1967-01-01T00:00:00\",\"1967-04-01T00:00:00\",\"1967-07-01T00:00:00\",\"1967-10-01T00:00:00\",\"1968-01-01T00:00:00\",\"1968-04-01T00:00:00\",\"1968-07-01T00:00:00\",\"1968-10-01T00:00:00\",\"1969-01-01T00:00:00\",\"1969-04-01T00:00:00\",\"1969-07-01T00:00:00\",\"1969-10-01T00:00:00\",\"1970-01-01T00:00:00\",\"1970-04-01T00:00:00\",\"1970-07-01T00:00:00\",\"1970-10-01T00:00:00\",\"1971-01-01T00:00:00\",\"1971-04-01T00:00:00\",\"1971-07-01T00:00:00\",\"1971-10-01T00:00:00\",\"1972-01-01T00:00:00\",\"1972-04-01T00:00:00\",\"1972-07-01T00:00:00\",\"1972-10-01T00:00:00\",\"1973-01-01T00:00:00\",\"1973-04-01T00:00:00\",\"1973-07-01T00:00:00\",\"1973-10-01T00:00:00\",\"1974-01-01T00:00:00\",\"1974-04-01T00:00:00\",\"1974-07-01T00:00:00\",\"1974-10-01T00:00:00\",\"1975-01-01T00:00:00\",\"1975-04-01T00:00:00\",\"1975-07-01T00:00:00\",\"1975-10-01T00:00:00\",\"1976-01-01T00:00:00\",\"1976-04-01T00:00:00\",\"1976-07-01T00:00:00\",\"1976-10-01T00:00:00\",\"1977-01-01T00:00:00\",\"1977-04-01T00:00:00\",\"1977-07-01T00:00:00\",\"1977-10-01T00:00:00\",\"1978-01-01T00:00:00\",\"1978-04-01T00:00:00\",\"1978-07-01T00:00:00\",\"1978-10-01T00:00:00\",\"1979-01-01T00:00:00\",\"1979-04-01T00:00:00\",\"1979-07-01T00:00:00\",\"1979-10-01T00:00:00\",\"1980-01-01T00:00:00\",\"1980-04-01T00:00:00\",\"1980-07-01T00:00:00\",\"1980-10-01T00:00:00\",\"1981-01-01T00:00:00\",\"1981-04-01T00:00:00\",\"1981-07-01T00:00:00\",\"1981-10-01T00:00:00\",\"1982-01-01T00:00:00\",\"1982-04-01T00:00:00\",\"1982-07-01T00:00:00\",\"1982-10-01T00:00:00\",\"1983-01-01T00:00:00\",\"1983-04-01T00:00:00\",\"1983-07-01T00:00:00\",\"1983-10-01T00:00:00\",\"1984-01-01T00:00:00\",\"1984-04-01T00:00:00\",\"1984-07-01T00:00:00\",\"1984-10-01T00:00:00\",\"1985-01-01T00:00:00\",\"1985-04-01T00:00:00\",\"1985-07-01T00:00:00\",\"1985-10-01T00:00:00\",\"1986-01-01T00:00:00\",\"1986-04-01T00:00:00\",\"1986-07-01T00:00:00\",\"1986-10-01T00:00:00\",\"1987-01-01T00:00:00\",\"1987-04-01T00:00:00\",\"1987-07-01T00:00:00\",\"1987-10-01T00:00:00\",\"1988-01-01T00:00:00\",\"1988-04-01T00:00:00\",\"1988-07-01T00:00:00\",\"1988-10-01T00:00:00\",\"1989-01-01T00:00:00\",\"1989-04-01T00:00:00\",\"1989-07-01T00:00:00\",\"1989-10-01T00:00:00\",\"1990-01-01T00:00:00\",\"1990-04-01T00:00:00\",\"1990-07-01T00:00:00\",\"1990-10-01T00:00:00\",\"1991-01-01T00:00:00\",\"1991-04-01T00:00:00\",\"1991-07-01T00:00:00\",\"1991-10-01T00:00:00\",\"1992-01-01T00:00:00\",\"1992-04-01T00:00:00\",\"1992-07-01T00:00:00\",\"1992-10-01T00:00:00\",\"1993-01-01T00:00:00\",\"1993-04-01T00:00:00\",\"1993-07-01T00:00:00\",\"1993-10-01T00:00:00\",\"1994-01-01T00:00:00\",\"1994-04-01T00:00:00\",\"1994-07-01T00:00:00\",\"1994-10-01T00:00:00\",\"1995-01-01T00:00:00\",\"1995-04-01T00:00:00\",\"1995-07-01T00:00:00\",\"1995-10-01T00:00:00\",\"1996-01-01T00:00:00\",\"1996-04-01T00:00:00\",\"1996-07-01T00:00:00\",\"1996-10-01T00:00:00\",\"1997-01-01T00:00:00\",\"1997-04-01T00:00:00\",\"1997-07-01T00:00:00\",\"1997-10-01T00:00:00\",\"1998-01-01T00:00:00\",\"1998-04-01T00:00:00\",\"1998-07-01T00:00:00\",\"1998-10-01T00:00:00\",\"1999-01-01T00:00:00\",\"1999-04-01T00:00:00\",\"1999-07-01T00:00:00\",\"1999-10-01T00:00:00\",\"2000-01-01T00:00:00\",\"2000-04-01T00:00:00\",\"2000-07-01T00:00:00\",\"2000-10-01T00:00:00\",\"2001-01-01T00:00:00\",\"2001-04-01T00:00:00\",\"2001-07-01T00:00:00\",\"2001-10-01T00:00:00\",\"2002-01-01T00:00:00\",\"2002-04-01T00:00:00\",\"2002-07-01T00:00:00\",\"2002-10-01T00:00:00\",\"2003-01-01T00:00:00\",\"2003-04-01T00:00:00\",\"2003-07-01T00:00:00\",\"2003-10-01T00:00:00\",\"2004-01-01T00:00:00\",\"2004-04-01T00:00:00\",\"2004-07-01T00:00:00\",\"2004-10-01T00:00:00\",\"2005-01-01T00:00:00\",\"2005-04-01T00:00:00\",\"2005-07-01T00:00:00\",\"2005-10-01T00:00:00\",\"2006-01-01T00:00:00\",\"2006-04-01T00:00:00\",\"2006-07-01T00:00:00\",\"2006-10-01T00:00:00\",\"2007-01-01T00:00:00\",\"2007-04-01T00:00:00\",\"2007-07-01T00:00:00\",\"2007-10-01T00:00:00\",\"2008-01-01T00:00:00\",\"2008-04-01T00:00:00\",\"2008-07-01T00:00:00\",\"2008-10-01T00:00:00\",\"2009-01-01T00:00:00\",\"2009-04-01T00:00:00\",\"2009-07-01T00:00:00\"],\"y\":[28.98,29.15,29.35,29.37,29.54,29.55,29.75,29.84,29.81,29.92,29.98,30.04,30.21,30.22,30.38,30.44,30.48,30.69,30.75,30.94,30.95,31.02,31.12,31.28,31.38,31.58,31.65,31.88,32.28,32.45,32.85,32.9,33.1,33.4,33.7,34.1,34.4,34.9,35.3,35.7,36.3,36.8,37.3,37.9,38.5,38.9,39.4,39.9,40.1,40.6,40.9,41.2,41.5,41.8,42.2,42.7,43.7,44.2,45.6,46.8,48.1,49.3,51.0,52.3,53.0,54.0,54.9,55.8,56.1,57.0,57.9,58.7,60.0,60.8,61.6,62.7,63.9,65.5,67.1,68.5,70.6,73.0,75.2,78.0,80.9,82.6,84.7,87.2,89.1,91.5,93.4,94.4,95.0,97.5,98.1,97.9,98.8,99.8,100.8,102.1,103.3,104.1,105.1,105.7,107.0,107.7,108.5,109.9,108.7,109.5,110.2,111.4,112.7,113.8,115.0,116.0,117.2,118.5,119.9,121.2,123.1,124.5,125.4,127.5,128.9,130.5,133.4,134.7,135.1,136.2,137.2,138.3,139.4,140.5,141.7,142.8,143.8,144.5,145.6,146.3,147.2,148.4,149.4,150.5,151.8,152.6,153.5,154.7,156.1,157.0,158.2,159.4,159.9,160.4,161.5,162.0,162.2,163.2,163.9,164.7,165.9,166.7,168.1,169.3,170.9,172.7,173.9,175.6,176.4,177.4,177.6,177.7,179.3,180.0,181.2,182.6,183.2,183.7,184.9,186.3,187.4,189.1,190.8,191.8,193.8,194.7,199.2,199.4,200.7,202.7,201.9,203.574,205.92,207.338,209.133,212.495,213.997,218.61,216.889,212.174,212.671,214.469,216.385],\"type\":\"scattergl\",\"xaxis\":\"x\",\"yaxis\":\"y\"},{\"line\":{\"color\":\"rgb(255, 127, 14)\",\"width\":2},\"marker\":{\"color\":\"rgb(255, 127, 14)\",\"size\":5},\"mode\":\"lines+markers\",\"name\":\"SES\",\"x\":[\"1959-01-01T00:00:00\",\"1959-04-01T00:00:00\",\"1959-07-01T00:00:00\",\"1959-10-01T00:00:00\",\"1960-01-01T00:00:00\",\"1960-04-01T00:00:00\",\"1960-07-01T00:00:00\",\"1960-10-01T00:00:00\",\"1961-01-01T00:00:00\",\"1961-04-01T00:00:00\",\"1961-07-01T00:00:00\",\"1961-10-01T00:00:00\",\"1962-01-01T00:00:00\",\"1962-04-01T00:00:00\",\"1962-07-01T00:00:00\",\"1962-10-01T00:00:00\",\"1963-01-01T00:00:00\",\"1963-04-01T00:00:00\",\"1963-07-01T00:00:00\",\"1963-10-01T00:00:00\",\"1964-01-01T00:00:00\",\"1964-04-01T00:00:00\",\"1964-07-01T00:00:00\",\"1964-10-01T00:00:00\",\"1965-01-01T00:00:00\",\"1965-04-01T00:00:00\",\"1965-07-01T00:00:00\",\"1965-10-01T00:00:00\",\"1966-01-01T00:00:00\",\"1966-04-01T00:00:00\",\"1966-07-01T00:00:00\",\"1966-10-01T00:00:00\",\"1967-01-01T00:00:00\",\"1967-04-01T00:00:00\",\"1967-07-01T00:00:00\",\"1967-10-01T00:00:00\",\"1968-01-01T00:00:00\",\"1968-04-01T00:00:00\",\"1968-07-01T00:00:00\",\"1968-10-01T00:00:00\",\"1969-01-01T00:00:00\",\"1969-04-01T00:00:00\",\"1969-07-01T00:00:00\",\"1969-10-01T00:00:00\",\"1970-01-01T00:00:00\",\"1970-04-01T00:00:00\",\"1970-07-01T00:00:00\",\"1970-10-01T00:00:00\",\"1971-01-01T00:00:00\",\"1971-04-01T00:00:00\",\"1971-07-01T00:00:00\",\"1971-10-01T00:00:00\",\"1972-01-01T00:00:00\",\"1972-04-01T00:00:00\",\"1972-07-01T00:00:00\",\"1972-10-01T00:00:00\",\"1973-01-01T00:00:00\",\"1973-04-01T00:00:00\",\"1973-07-01T00:00:00\",\"1973-10-01T00:00:00\",\"1974-01-01T00:00:00\",\"1974-04-01T00:00:00\",\"1974-07-01T00:00:00\",\"1974-10-01T00:00:00\",\"1975-01-01T00:00:00\",\"1975-04-01T00:00:00\",\"1975-07-01T00:00:00\",\"1975-10-01T00:00:00\",\"1976-01-01T00:00:00\",\"1976-04-01T00:00:00\",\"1976-07-01T00:00:00\",\"1976-10-01T00:00:00\",\"1977-01-01T00:00:00\",\"1977-04-01T00:00:00\",\"1977-07-01T00:00:00\",\"1977-10-01T00:00:00\",\"1978-01-01T00:00:00\",\"1978-04-01T00:00:00\",\"1978-07-01T00:00:00\",\"1978-10-01T00:00:00\",\"1979-01-01T00:00:00\",\"1979-04-01T00:00:00\",\"1979-07-01T00:00:00\",\"1979-10-01T00:00:00\",\"1980-01-01T00:00:00\",\"1980-04-01T00:00:00\",\"1980-07-01T00:00:00\",\"1980-10-01T00:00:00\",\"1981-01-01T00:00:00\",\"1981-04-01T00:00:00\",\"1981-07-01T00:00:00\",\"1981-10-01T00:00:00\",\"1982-01-01T00:00:00\",\"1982-04-01T00:00:00\",\"1982-07-01T00:00:00\",\"1982-10-01T00:00:00\",\"1983-01-01T00:00:00\",\"1983-04-01T00:00:00\",\"1983-07-01T00:00:00\",\"1983-10-01T00:00:00\",\"1984-01-01T00:00:00\",\"1984-04-01T00:00:00\",\"1984-07-01T00:00:00\",\"1984-10-01T00:00:00\",\"1985-01-01T00:00:00\",\"1985-04-01T00:00:00\",\"1985-07-01T00:00:00\",\"1985-10-01T00:00:00\",\"1986-01-01T00:00:00\",\"1986-04-01T00:00:00\",\"1986-07-01T00:00:00\",\"1986-10-01T00:00:00\",\"1987-01-01T00:00:00\",\"1987-04-01T00:00:00\",\"1987-07-01T00:00:00\",\"1987-10-01T00:00:00\",\"1988-01-01T00:00:00\",\"1988-04-01T00:00:00\",\"1988-07-01T00:00:00\",\"1988-10-01T00:00:00\",\"1989-01-01T00:00:00\",\"1989-04-01T00:00:00\",\"1989-07-01T00:00:00\",\"1989-10-01T00:00:00\",\"1990-01-01T00:00:00\",\"1990-04-01T00:00:00\",\"1990-07-01T00:00:00\",\"1990-10-01T00:00:00\",\"1991-01-01T00:00:00\",\"1991-04-01T00:00:00\",\"1991-07-01T00:00:00\",\"1991-10-01T00:00:00\",\"1992-01-01T00:00:00\",\"1992-04-01T00:00:00\",\"1992-07-01T00:00:00\",\"1992-10-01T00:00:00\",\"1993-01-01T00:00:00\",\"1993-04-01T00:00:00\",\"1993-07-01T00:00:00\",\"1993-10-01T00:00:00\",\"1994-01-01T00:00:00\",\"1994-04-01T00:00:00\",\"1994-07-01T00:00:00\",\"1994-10-01T00:00:00\",\"1995-01-01T00:00:00\",\"1995-04-01T00:00:00\",\"1995-07-01T00:00:00\",\"1995-10-01T00:00:00\",\"1996-01-01T00:00:00\",\"1996-04-01T00:00:00\",\"1996-07-01T00:00:00\",\"1996-10-01T00:00:00\",\"1997-01-01T00:00:00\",\"1997-04-01T00:00:00\",\"1997-07-01T00:00:00\",\"1997-10-01T00:00:00\",\"1998-01-01T00:00:00\",\"1998-04-01T00:00:00\",\"1998-07-01T00:00:00\",\"1998-10-01T00:00:00\",\"1999-01-01T00:00:00\",\"1999-04-01T00:00:00\",\"1999-07-01T00:00:00\",\"1999-10-01T00:00:00\",\"2000-01-01T00:00:00\",\"2000-04-01T00:00:00\",\"2000-07-01T00:00:00\",\"2000-10-01T00:00:00\",\"2001-01-01T00:00:00\",\"2001-04-01T00:00:00\",\"2001-07-01T00:00:00\",\"2001-10-01T00:00:00\",\"2002-01-01T00:00:00\",\"2002-04-01T00:00:00\",\"2002-07-01T00:00:00\",\"2002-10-01T00:00:00\",\"2003-01-01T00:00:00\",\"2003-04-01T00:00:00\",\"2003-07-01T00:00:00\",\"2003-10-01T00:00:00\",\"2004-01-01T00:00:00\",\"2004-04-01T00:00:00\",\"2004-07-01T00:00:00\",\"2004-10-01T00:00:00\",\"2005-01-01T00:00:00\",\"2005-04-01T00:00:00\",\"2005-07-01T00:00:00\",\"2005-10-01T00:00:00\",\"2006-01-01T00:00:00\",\"2006-04-01T00:00:00\",\"2006-07-01T00:00:00\",\"2006-10-01T00:00:00\",\"2007-01-01T00:00:00\",\"2007-04-01T00:00:00\",\"2007-07-01T00:00:00\",\"2007-10-01T00:00:00\",\"2008-01-01T00:00:00\",\"2008-04-01T00:00:00\",\"2008-07-01T00:00:00\",\"2008-10-01T00:00:00\",\"2009-01-01T00:00:00\",\"2009-04-01T00:00:00\",\"2009-07-01T00:00:00\"],\"y\":[28.98,28.98,29.15,29.35,29.37,29.54,29.55,29.75,29.84,29.81,29.92,29.98,30.04,30.21,30.22,30.38,30.44,30.48,30.69,30.75,30.94,30.95,31.02,31.12,31.28,31.38,31.58,31.65,31.88,32.28,32.45,32.85,32.9,33.1,33.4,33.7,34.1,34.4,34.9,35.3,35.7,36.3,36.8,37.3,37.9,38.5,38.9,39.4,39.9,40.1,40.6,40.9,41.2,41.5,41.8,42.2,42.7,43.7,44.2,45.6,46.8,48.1,49.3,51.0,52.3,53.0,54.0,54.9,55.8,56.1,57.0,57.9,58.7,60.0,60.8,61.6,62.7,63.9,65.5,67.1,68.5,70.6,73.0,75.2,78.0,80.9,82.6,84.7,87.2,89.1,91.5,93.4,94.4,95.0,97.5,98.1,97.9,98.8,99.8,100.8,102.1,103.3,104.1,105.1,105.7,107.0,107.7,108.5,109.9,108.7,109.5,110.2,111.4,112.7,113.8,115.0,116.0,117.2,118.5,119.9,121.2,123.1,124.5,125.4,127.5,128.9,130.5,133.4,134.7,135.1,136.2,137.2,138.3,139.4,140.5,141.7,142.8,143.8,144.5,145.6,146.3,147.2,148.4,149.4,150.5,151.8,152.6,153.5,154.7,156.1,157.0,158.2,159.4,159.9,160.4,161.5,162.0,162.2,163.2,163.9,164.7,165.9,166.7,168.1,169.3,170.9,172.7,173.9,175.6,176.4,177.4,177.6,177.7,179.3,180.0,181.2,182.6,183.2,183.7,null,null,null,null,null,null,null,null,null,null,null,null,null,null,null,null,null,null,null,null,null,null,null,null],\"type\":\"scattergl\",\"xaxis\":\"x\",\"yaxis\":\"y\"},{\"line\":{\"color\":\"rgb(44, 160, 44)\",\"width\":2},\"marker\":{\"color\":\"rgb(44, 160, 44)\",\"size\":5},\"mode\":\"lines+markers\",\"name\":\"Holt\",\"x\":[\"1959-01-01T00:00:00\",\"1959-04-01T00:00:00\",\"1959-07-01T00:00:00\",\"1959-10-01T00:00:00\",\"1960-01-01T00:00:00\",\"1960-04-01T00:00:00\",\"1960-07-01T00:00:00\",\"1960-10-01T00:00:00\",\"1961-01-01T00:00:00\",\"1961-04-01T00:00:00\",\"1961-07-01T00:00:00\",\"1961-10-01T00:00:00\",\"1962-01-01T00:00:00\",\"1962-04-01T00:00:00\",\"1962-07-01T00:00:00\",\"1962-10-01T00:00:00\",\"1963-01-01T00:00:00\",\"1963-04-01T00:00:00\",\"1963-07-01T00:00:00\",\"1963-10-01T00:00:00\",\"1964-01-01T00:00:00\",\"1964-04-01T00:00:00\",\"1964-07-01T00:00:00\",\"1964-10-01T00:00:00\",\"1965-01-01T00:00:00\",\"1965-04-01T00:00:00\",\"1965-07-01T00:00:00\",\"1965-10-01T00:00:00\",\"1966-01-01T00:00:00\",\"1966-04-01T00:00:00\",\"1966-07-01T00:00:00\",\"1966-10-01T00:00:00\",\"1967-01-01T00:00:00\",\"1967-04-01T00:00:00\",\"1967-07-01T00:00:00\",\"1967-10-01T00:00:00\",\"1968-01-01T00:00:00\",\"1968-04-01T00:00:00\",\"1968-07-01T00:00:00\",\"1968-10-01T00:00:00\",\"1969-01-01T00:00:00\",\"1969-04-01T00:00:00\",\"1969-07-01T00:00:00\",\"1969-10-01T00:00:00\",\"1970-01-01T00:00:00\",\"1970-04-01T00:00:00\",\"1970-07-01T00:00:00\",\"1970-10-01T00:00:00\",\"1971-01-01T00:00:00\",\"1971-04-01T00:00:00\",\"1971-07-01T00:00:00\",\"1971-10-01T00:00:00\",\"1972-01-01T00:00:00\",\"1972-04-01T00:00:00\",\"1972-07-01T00:00:00\",\"1972-10-01T00:00:00\",\"1973-01-01T00:00:00\",\"1973-04-01T00:00:00\",\"1973-07-01T00:00:00\",\"1973-10-01T00:00:00\",\"1974-01-01T00:00:00\",\"1974-04-01T00:00:00\",\"1974-07-01T00:00:00\",\"1974-10-01T00:00:00\",\"1975-01-01T00:00:00\",\"1975-04-01T00:00:00\",\"1975-07-01T00:00:00\",\"1975-10-01T00:00:00\",\"1976-01-01T00:00:00\",\"1976-04-01T00:00:00\",\"1976-07-01T00:00:00\",\"1976-10-01T00:00:00\",\"1977-01-01T00:00:00\",\"1977-04-01T00:00:00\",\"1977-07-01T00:00:00\",\"1977-10-01T00:00:00\",\"1978-01-01T00:00:00\",\"1978-04-01T00:00:00\",\"1978-07-01T00:00:00\",\"1978-10-01T00:00:00\",\"1979-01-01T00:00:00\",\"1979-04-01T00:00:00\",\"1979-07-01T00:00:00\",\"1979-10-01T00:00:00\",\"1980-01-01T00:00:00\",\"1980-04-01T00:00:00\",\"1980-07-01T00:00:00\",\"1980-10-01T00:00:00\",\"1981-01-01T00:00:00\",\"1981-04-01T00:00:00\",\"1981-07-01T00:00:00\",\"1981-10-01T00:00:00\",\"1982-01-01T00:00:00\",\"1982-04-01T00:00:00\",\"1982-07-01T00:00:00\",\"1982-10-01T00:00:00\",\"1983-01-01T00:00:00\",\"1983-04-01T00:00:00\",\"1983-07-01T00:00:00\",\"1983-10-01T00:00:00\",\"1984-01-01T00:00:00\",\"1984-04-01T00:00:00\",\"1984-07-01T00:00:00\",\"1984-10-01T00:00:00\",\"1985-01-01T00:00:00\",\"1985-04-01T00:00:00\",\"1985-07-01T00:00:00\",\"1985-10-01T00:00:00\",\"1986-01-01T00:00:00\",\"1986-04-01T00:00:00\",\"1986-07-01T00:00:00\",\"1986-10-01T00:00:00\",\"1987-01-01T00:00:00\",\"1987-04-01T00:00:00\",\"1987-07-01T00:00:00\",\"1987-10-01T00:00:00\",\"1988-01-01T00:00:00\",\"1988-04-01T00:00:00\",\"1988-07-01T00:00:00\",\"1988-10-01T00:00:00\",\"1989-01-01T00:00:00\",\"1989-04-01T00:00:00\",\"1989-07-01T00:00:00\",\"1989-10-01T00:00:00\",\"1990-01-01T00:00:00\",\"1990-04-01T00:00:00\",\"1990-07-01T00:00:00\",\"1990-10-01T00:00:00\",\"1991-01-01T00:00:00\",\"1991-04-01T00:00:00\",\"1991-07-01T00:00:00\",\"1991-10-01T00:00:00\",\"1992-01-01T00:00:00\",\"1992-04-01T00:00:00\",\"1992-07-01T00:00:00\",\"1992-10-01T00:00:00\",\"1993-01-01T00:00:00\",\"1993-04-01T00:00:00\",\"1993-07-01T00:00:00\",\"1993-10-01T00:00:00\",\"1994-01-01T00:00:00\",\"1994-04-01T00:00:00\",\"1994-07-01T00:00:00\",\"1994-10-01T00:00:00\",\"1995-01-01T00:00:00\",\"1995-04-01T00:00:00\",\"1995-07-01T00:00:00\",\"1995-10-01T00:00:00\",\"1996-01-01T00:00:00\",\"1996-04-01T00:00:00\",\"1996-07-01T00:00:00\",\"1996-10-01T00:00:00\",\"1997-01-01T00:00:00\",\"1997-04-01T00:00:00\",\"1997-07-01T00:00:00\",\"1997-10-01T00:00:00\",\"1998-01-01T00:00:00\",\"1998-04-01T00:00:00\",\"1998-07-01T00:00:00\",\"1998-10-01T00:00:00\",\"1999-01-01T00:00:00\",\"1999-04-01T00:00:00\",\"1999-07-01T00:00:00\",\"1999-10-01T00:00:00\",\"2000-01-01T00:00:00\",\"2000-04-01T00:00:00\",\"2000-07-01T00:00:00\",\"2000-10-01T00:00:00\",\"2001-01-01T00:00:00\",\"2001-04-01T00:00:00\",\"2001-07-01T00:00:00\",\"2001-10-01T00:00:00\",\"2002-01-01T00:00:00\",\"2002-04-01T00:00:00\",\"2002-07-01T00:00:00\",\"2002-10-01T00:00:00\",\"2003-01-01T00:00:00\",\"2003-04-01T00:00:00\",\"2003-07-01T00:00:00\",\"2003-10-01T00:00:00\",\"2004-01-01T00:00:00\",\"2004-04-01T00:00:00\",\"2004-07-01T00:00:00\",\"2004-10-01T00:00:00\",\"2005-01-01T00:00:00\",\"2005-04-01T00:00:00\",\"2005-07-01T00:00:00\",\"2005-10-01T00:00:00\",\"2006-01-01T00:00:00\",\"2006-04-01T00:00:00\",\"2006-07-01T00:00:00\",\"2006-10-01T00:00:00\",\"2007-01-01T00:00:00\",\"2007-04-01T00:00:00\",\"2007-07-01T00:00:00\",\"2007-10-01T00:00:00\",\"2008-01-01T00:00:00\",\"2008-04-01T00:00:00\",\"2008-07-01T00:00:00\",\"2008-10-01T00:00:00\",\"2009-01-01T00:00:00\",\"2009-04-01T00:00:00\",\"2009-07-01T00:00:00\"],\"y\":[28.9834,29.1233,29.3018,29.5192,29.4935,29.6693,29.6433,29.8706,29.9573,29.8773,29.9919,30.0507,30.1065,30.3096,30.2969,30.4784,30.5311,30.552,30.8038,30.855,31.0693,31.0457,31.0998,31.2048,31.3906,31.4919,31.72,31.7727,32.0333,32.5206,32.6832,33.1332,33.1176,33.2971,33.6296,33.9591,34.4095,34.7153,35.275,35.6948,36.0981,36.7644,37.2887,37.7947,38.4298,39.0594,39.4118,39.8979,40.3978,40.5007,41.0143,41.2833,41.5489,41.8276,42.1155,42.5414,43.0985,44.3049,44.8087,46.4604,47.8213,49.2337,50.473,52.3493,53.6665,54.1457,55.0561,55.8959,56.7547,56.8349,57.7475,58.7077,59.5148,60.9728,61.747,62.4881,63.648,64.9437,66.7412,68.4935,69.9183,72.2413,74.9321,77.2675,80.3236,83.4581,84.9143,86.8901,89.4778,91.274,93.7239,95.5324,96.1422,96.2977,99.1182,99.4616,98.6874,99.5256,100.6223,101.6976,103.1402,104.4178,105.1241,106.0962,106.5653,107.9822,108.6175,109.3613,110.9298,109.0357,109.8465,110.6913,112.145,113.671,114.8482,116.1059,117.0809,118.3131,119.6817,121.1648,122.4901,124.5914,126.0001,126.6984,129.0222,130.4329,132.0471,135.3931,136.5522,136.4343,137.3661,138.297,139.3875,140.4918,141.5953,142.83,143.9268,144.8835,145.4503,146.5749,147.1946,148.079,149.3842,150.4096,151.5401,152.9307,153.6391,154.4728,155.7382,157.2707,158.1052,159.319,160.5515,160.8438,161.1578,162.3415,162.7516,162.7499,163.862,164.6029,165.437,166.7943,167.5928,169.1524,170.4326,172.1946,174.1891,175.3266,177.0976,177.6871,178.5493,178.4212,178.2257,180.131,180.8561,182.1601,183.7255,184.1817,184.4912,null,null,null,null,null,null,null,null,null,null,null,null,null,null,null,null,null,null,null,null,null,null,null,null],\"type\":\"scattergl\",\"xaxis\":\"x\",\"yaxis\":\"y\"},{\"line\":{\"color\":\"rgb(214, 39, 40)\",\"width\":2},\"marker\":{\"color\":\"rgb(214, 39, 40)\",\"size\":5},\"mode\":\"lines+markers\",\"name\":\"Holt-Winters Add\",\"x\":[\"1959-01-01T00:00:00\",\"1959-04-01T00:00:00\",\"1959-07-01T00:00:00\",\"1959-10-01T00:00:00\",\"1960-01-01T00:00:00\",\"1960-04-01T00:00:00\",\"1960-07-01T00:00:00\",\"1960-10-01T00:00:00\",\"1961-01-01T00:00:00\",\"1961-04-01T00:00:00\",\"1961-07-01T00:00:00\",\"1961-10-01T00:00:00\",\"1962-01-01T00:00:00\",\"1962-04-01T00:00:00\",\"1962-07-01T00:00:00\",\"1962-10-01T00:00:00\",\"1963-01-01T00:00:00\",\"1963-04-01T00:00:00\",\"1963-07-01T00:00:00\",\"1963-10-01T00:00:00\",\"1964-01-01T00:00:00\",\"1964-04-01T00:00:00\",\"1964-07-01T00:00:00\",\"1964-10-01T00:00:00\",\"1965-01-01T00:00:00\",\"1965-04-01T00:00:00\",\"1965-07-01T00:00:00\",\"1965-10-01T00:00:00\",\"1966-01-01T00:00:00\",\"1966-04-01T00:00:00\",\"1966-07-01T00:00:00\",\"1966-10-01T00:00:00\",\"1967-01-01T00:00:00\",\"1967-04-01T00:00:00\",\"1967-07-01T00:00:00\",\"1967-10-01T00:00:00\",\"1968-01-01T00:00:00\",\"1968-04-01T00:00:00\",\"1968-07-01T00:00:00\",\"1968-10-01T00:00:00\",\"1969-01-01T00:00:00\",\"1969-04-01T00:00:00\",\"1969-07-01T00:00:00\",\"1969-10-01T00:00:00\",\"1970-01-01T00:00:00\",\"1970-04-01T00:00:00\",\"1970-07-01T00:00:00\",\"1970-10-01T00:00:00\",\"1971-01-01T00:00:00\",\"1971-04-01T00:00:00\",\"1971-07-01T00:00:00\",\"1971-10-01T00:00:00\",\"1972-01-01T00:00:00\",\"1972-04-01T00:00:00\",\"1972-07-01T00:00:00\",\"1972-10-01T00:00:00\",\"1973-01-01T00:00:00\",\"1973-04-01T00:00:00\",\"1973-07-01T00:00:00\",\"1973-10-01T00:00:00\",\"1974-01-01T00:00:00\",\"1974-04-01T00:00:00\",\"1974-07-01T00:00:00\",\"1974-10-01T00:00:00\",\"1975-01-01T00:00:00\",\"1975-04-01T00:00:00\",\"1975-07-01T00:00:00\",\"1975-10-01T00:00:00\",\"1976-01-01T00:00:00\",\"1976-04-01T00:00:00\",\"1976-07-01T00:00:00\",\"1976-10-01T00:00:00\",\"1977-01-01T00:00:00\",\"1977-04-01T00:00:00\",\"1977-07-01T00:00:00\",\"1977-10-01T00:00:00\",\"1978-01-01T00:00:00\",\"1978-04-01T00:00:00\",\"1978-07-01T00:00:00\",\"1978-10-01T00:00:00\",\"1979-01-01T00:00:00\",\"1979-04-01T00:00:00\",\"1979-07-01T00:00:00\",\"1979-10-01T00:00:00\",\"1980-01-01T00:00:00\",\"1980-04-01T00:00:00\",\"1980-07-01T00:00:00\",\"1980-10-01T00:00:00\",\"1981-01-01T00:00:00\",\"1981-04-01T00:00:00\",\"1981-07-01T00:00:00\",\"1981-10-01T00:00:00\",\"1982-01-01T00:00:00\",\"1982-04-01T00:00:00\",\"1982-07-01T00:00:00\",\"1982-10-01T00:00:00\",\"1983-01-01T00:00:00\",\"1983-04-01T00:00:00\",\"1983-07-01T00:00:00\",\"1983-10-01T00:00:00\",\"1984-01-01T00:00:00\",\"1984-04-01T00:00:00\",\"1984-07-01T00:00:00\",\"1984-10-01T00:00:00\",\"1985-01-01T00:00:00\",\"1985-04-01T00:00:00\",\"1985-07-01T00:00:00\",\"1985-10-01T00:00:00\",\"1986-01-01T00:00:00\",\"1986-04-01T00:00:00\",\"1986-07-01T00:00:00\",\"1986-10-01T00:00:00\",\"1987-01-01T00:00:00\",\"1987-04-01T00:00:00\",\"1987-07-01T00:00:00\",\"1987-10-01T00:00:00\",\"1988-01-01T00:00:00\",\"1988-04-01T00:00:00\",\"1988-07-01T00:00:00\",\"1988-10-01T00:00:00\",\"1989-01-01T00:00:00\",\"1989-04-01T00:00:00\",\"1989-07-01T00:00:00\",\"1989-10-01T00:00:00\",\"1990-01-01T00:00:00\",\"1990-04-01T00:00:00\",\"1990-07-01T00:00:00\",\"1990-10-01T00:00:00\",\"1991-01-01T00:00:00\",\"1991-04-01T00:00:00\",\"1991-07-01T00:00:00\",\"1991-10-01T00:00:00\",\"1992-01-01T00:00:00\",\"1992-04-01T00:00:00\",\"1992-07-01T00:00:00\",\"1992-10-01T00:00:00\",\"1993-01-01T00:00:00\",\"1993-04-01T00:00:00\",\"1993-07-01T00:00:00\",\"1993-10-01T00:00:00\",\"1994-01-01T00:00:00\",\"1994-04-01T00:00:00\",\"1994-07-01T00:00:00\",\"1994-10-01T00:00:00\",\"1995-01-01T00:00:00\",\"1995-04-01T00:00:00\",\"1995-07-01T00:00:00\",\"1995-10-01T00:00:00\",\"1996-01-01T00:00:00\",\"1996-04-01T00:00:00\",\"1996-07-01T00:00:00\",\"1996-10-01T00:00:00\",\"1997-01-01T00:00:00\",\"1997-04-01T00:00:00\",\"1997-07-01T00:00:00\",\"1997-10-01T00:00:00\",\"1998-01-01T00:00:00\",\"1998-04-01T00:00:00\",\"1998-07-01T00:00:00\",\"1998-10-01T00:00:00\",\"1999-01-01T00:00:00\",\"1999-04-01T00:00:00\",\"1999-07-01T00:00:00\",\"1999-10-01T00:00:00\",\"2000-01-01T00:00:00\",\"2000-04-01T00:00:00\",\"2000-07-01T00:00:00\",\"2000-10-01T00:00:00\",\"2001-01-01T00:00:00\",\"2001-04-01T00:00:00\",\"2001-07-01T00:00:00\",\"2001-10-01T00:00:00\",\"2002-01-01T00:00:00\",\"2002-04-01T00:00:00\",\"2002-07-01T00:00:00\",\"2002-10-01T00:00:00\",\"2003-01-01T00:00:00\",\"2003-04-01T00:00:00\",\"2003-07-01T00:00:00\",\"2003-10-01T00:00:00\",\"2004-01-01T00:00:00\",\"2004-04-01T00:00:00\",\"2004-07-01T00:00:00\",\"2004-10-01T00:00:00\",\"2005-01-01T00:00:00\",\"2005-04-01T00:00:00\",\"2005-07-01T00:00:00\",\"2005-10-01T00:00:00\",\"2006-01-01T00:00:00\",\"2006-04-01T00:00:00\",\"2006-07-01T00:00:00\",\"2006-10-01T00:00:00\",\"2007-01-01T00:00:00\",\"2007-04-01T00:00:00\",\"2007-07-01T00:00:00\",\"2007-10-01T00:00:00\",\"2008-01-01T00:00:00\",\"2008-04-01T00:00:00\",\"2008-07-01T00:00:00\",\"2008-10-01T00:00:00\",\"2009-01-01T00:00:00\",\"2009-04-01T00:00:00\",\"2009-07-01T00:00:00\"],\"y\":[28.9825,29.1335,29.2475,29.5976,29.4937,29.6049,29.7138,29.8695,29.8903,29.9464,29.9896,29.9835,30.1766,30.3077,30.2288,30.5492,30.5279,30.4842,30.8752,30.8517,31.0028,31.1148,31.0967,31.1377,31.4615,31.489,31.6535,31.8422,32.0314,32.4556,32.7526,33.1317,33.0481,33.367,33.6277,33.8925,34.481,34.7124,35.2093,35.7652,36.0952,36.6988,37.3592,37.7918,38.3633,39.1301,39.4074,39.8303,40.468,40.4952,40.9479,41.3525,41.5453,41.76,42.1855,42.5394,43.0327,44.3806,44.8048,46.4,47.8944,49.233,50.4059,52.4238,53.6629,54.072,55.1246,55.8918,56.6867,56.8993,57.7462,58.6422,59.5851,60.9743,61.6782,62.5567,63.647,64.8787,66.8164,68.4938,69.8507,72.3173,74.936,77.2023,80.3998,83.46,84.8386,86.9576,89.4777,91.2034,93.796,95.5268,96.0646,96.3575,99.1267,99.3861,98.7433,99.524,100.5585,101.77,103.1413,104.352,105.1912,106.0929,106.4944,108.0563,108.6123,109.2929,111.0049,109.0128,109.783,110.7655,112.149,113.6089,114.9192,116.104,117.0123,118.3841,119.6804,121.0993,122.5604,124.5939,125.9319,126.7627,129.0264,130.3648,132.1176,135.4024,136.4787,136.4905,137.3608,138.2288,139.4582,140.4894,141.5283,142.9012,143.9238,144.815,145.5169,146.5735,147.1251,148.1493,149.3844,150.3426,151.611,152.9301,153.5688,154.5415,155.7374,157.2068,158.1728,159.3168,160.4849,160.9081,161.1508,162.2775,162.8191,162.7421,163.799,164.6738,165.435,166.7312,167.662,169.1539,170.3666,172.2687,174.1907,175.2564,177.1698,177.6778,178.4791,178.4829,178.2165,180.074,180.9258,182.1603,183.6622,184.2469,184.4836,null,null,null,null,null,null,null,null,null,null,null,null,null,null,null,null,null,null,null,null,null,null,null,null],\"type\":\"scattergl\",\"xaxis\":\"x\",\"yaxis\":\"y\"},{\"line\":{\"color\":\"rgb(148, 103, 189)\",\"width\":2},\"marker\":{\"color\":\"rgb(148, 103, 189)\",\"size\":5},\"mode\":\"lines+markers\",\"name\":\"Holt-Winters Mul\",\"x\":[\"1959-01-01T00:00:00\",\"1959-04-01T00:00:00\",\"1959-07-01T00:00:00\",\"1959-10-01T00:00:00\",\"1960-01-01T00:00:00\",\"1960-04-01T00:00:00\",\"1960-07-01T00:00:00\",\"1960-10-01T00:00:00\",\"1961-01-01T00:00:00\",\"1961-04-01T00:00:00\",\"1961-07-01T00:00:00\",\"1961-10-01T00:00:00\",\"1962-01-01T00:00:00\",\"1962-04-01T00:00:00\",\"1962-07-01T00:00:00\",\"1962-10-01T00:00:00\",\"1963-01-01T00:00:00\",\"1963-04-01T00:00:00\",\"1963-07-01T00:00:00\",\"1963-10-01T00:00:00\",\"1964-01-01T00:00:00\",\"1964-04-01T00:00:00\",\"1964-07-01T00:00:00\",\"1964-10-01T00:00:00\",\"1965-01-01T00:00:00\",\"1965-04-01T00:00:00\",\"1965-07-01T00:00:00\",\"1965-10-01T00:00:00\",\"1966-01-01T00:00:00\",\"1966-04-01T00:00:00\",\"1966-07-01T00:00:00\",\"1966-10-01T00:00:00\",\"1967-01-01T00:00:00\",\"1967-04-01T00:00:00\",\"1967-07-01T00:00:00\",\"1967-10-01T00:00:00\",\"1968-01-01T00:00:00\",\"1968-04-01T00:00:00\",\"1968-07-01T00:00:00\",\"1968-10-01T00:00:00\",\"1969-01-01T00:00:00\",\"1969-04-01T00:00:00\",\"1969-07-01T00:00:00\",\"1969-10-01T00:00:00\",\"1970-01-01T00:00:00\",\"1970-04-01T00:00:00\",\"1970-07-01T00:00:00\",\"1970-10-01T00:00:00\",\"1971-01-01T00:00:00\",\"1971-04-01T00:00:00\",\"1971-07-01T00:00:00\",\"1971-10-01T00:00:00\",\"1972-01-01T00:00:00\",\"1972-04-01T00:00:00\",\"1972-07-01T00:00:00\",\"1972-10-01T00:00:00\",\"1973-01-01T00:00:00\",\"1973-04-01T00:00:00\",\"1973-07-01T00:00:00\",\"1973-10-01T00:00:00\",\"1974-01-01T00:00:00\",\"1974-04-01T00:00:00\",\"1974-07-01T00:00:00\",\"1974-10-01T00:00:00\",\"1975-01-01T00:00:00\",\"1975-04-01T00:00:00\",\"1975-07-01T00:00:00\",\"1975-10-01T00:00:00\",\"1976-01-01T00:00:00\",\"1976-04-01T00:00:00\",\"1976-07-01T00:00:00\",\"1976-10-01T00:00:00\",\"1977-01-01T00:00:00\",\"1977-04-01T00:00:00\",\"1977-07-01T00:00:00\",\"1977-10-01T00:00:00\",\"1978-01-01T00:00:00\",\"1978-04-01T00:00:00\",\"1978-07-01T00:00:00\",\"1978-10-01T00:00:00\",\"1979-01-01T00:00:00\",\"1979-04-01T00:00:00\",\"1979-07-01T00:00:00\",\"1979-10-01T00:00:00\",\"1980-01-01T00:00:00\",\"1980-04-01T00:00:00\",\"1980-07-01T00:00:00\",\"1980-10-01T00:00:00\",\"1981-01-01T00:00:00\",\"1981-04-01T00:00:00\",\"1981-07-01T00:00:00\",\"1981-10-01T00:00:00\",\"1982-01-01T00:00:00\",\"1982-04-01T00:00:00\",\"1982-07-01T00:00:00\",\"1982-10-01T00:00:00\",\"1983-01-01T00:00:00\",\"1983-04-01T00:00:00\",\"1983-07-01T00:00:00\",\"1983-10-01T00:00:00\",\"1984-01-01T00:00:00\",\"1984-04-01T00:00:00\",\"1984-07-01T00:00:00\",\"1984-10-01T00:00:00\",\"1985-01-01T00:00:00\",\"1985-04-01T00:00:00\",\"1985-07-01T00:00:00\",\"1985-10-01T00:00:00\",\"1986-01-01T00:00:00\",\"1986-04-01T00:00:00\",\"1986-07-01T00:00:00\",\"1986-10-01T00:00:00\",\"1987-01-01T00:00:00\",\"1987-04-01T00:00:00\",\"1987-07-01T00:00:00\",\"1987-10-01T00:00:00\",\"1988-01-01T00:00:00\",\"1988-04-01T00:00:00\",\"1988-07-01T00:00:00\",\"1988-10-01T00:00:00\",\"1989-01-01T00:00:00\",\"1989-04-01T00:00:00\",\"1989-07-01T00:00:00\",\"1989-10-01T00:00:00\",\"1990-01-01T00:00:00\",\"1990-04-01T00:00:00\",\"1990-07-01T00:00:00\",\"1990-10-01T00:00:00\",\"1991-01-01T00:00:00\",\"1991-04-01T00:00:00\",\"1991-07-01T00:00:00\",\"1991-10-01T00:00:00\",\"1992-01-01T00:00:00\",\"1992-04-01T00:00:00\",\"1992-07-01T00:00:00\",\"1992-10-01T00:00:00\",\"1993-01-01T00:00:00\",\"1993-04-01T00:00:00\",\"1993-07-01T00:00:00\",\"1993-10-01T00:00:00\",\"1994-01-01T00:00:00\",\"1994-04-01T00:00:00\",\"1994-07-01T00:00:00\",\"1994-10-01T00:00:00\",\"1995-01-01T00:00:00\",\"1995-04-01T00:00:00\",\"1995-07-01T00:00:00\",\"1995-10-01T00:00:00\",\"1996-01-01T00:00:00\",\"1996-04-01T00:00:00\",\"1996-07-01T00:00:00\",\"1996-10-01T00:00:00\",\"1997-01-01T00:00:00\",\"1997-04-01T00:00:00\",\"1997-07-01T00:00:00\",\"1997-10-01T00:00:00\",\"1998-01-01T00:00:00\",\"1998-04-01T00:00:00\",\"1998-07-01T00:00:00\",\"1998-10-01T00:00:00\",\"1999-01-01T00:00:00\",\"1999-04-01T00:00:00\",\"1999-07-01T00:00:00\",\"1999-10-01T00:00:00\",\"2000-01-01T00:00:00\",\"2000-04-01T00:00:00\",\"2000-07-01T00:00:00\",\"2000-10-01T00:00:00\",\"2001-01-01T00:00:00\",\"2001-04-01T00:00:00\",\"2001-07-01T00:00:00\",\"2001-10-01T00:00:00\",\"2002-01-01T00:00:00\",\"2002-04-01T00:00:00\",\"2002-07-01T00:00:00\",\"2002-10-01T00:00:00\",\"2003-01-01T00:00:00\",\"2003-04-01T00:00:00\",\"2003-07-01T00:00:00\",\"2003-10-01T00:00:00\",\"2004-01-01T00:00:00\",\"2004-04-01T00:00:00\",\"2004-07-01T00:00:00\",\"2004-10-01T00:00:00\",\"2005-01-01T00:00:00\",\"2005-04-01T00:00:00\",\"2005-07-01T00:00:00\",\"2005-10-01T00:00:00\",\"2006-01-01T00:00:00\",\"2006-04-01T00:00:00\",\"2006-07-01T00:00:00\",\"2006-10-01T00:00:00\",\"2007-01-01T00:00:00\",\"2007-04-01T00:00:00\",\"2007-07-01T00:00:00\",\"2007-10-01T00:00:00\",\"2008-01-01T00:00:00\",\"2008-04-01T00:00:00\",\"2008-07-01T00:00:00\",\"2008-10-01T00:00:00\",\"2009-01-01T00:00:00\",\"2009-04-01T00:00:00\",\"2009-07-01T00:00:00\"],\"y\":[28.9778,29.1346,29.2785,29.541,29.5016,29.6426,29.6614,29.8801,29.9295,29.895,30.0005,30.0227,30.1257,30.3192,30.2681,30.4988,30.5395,30.523,30.8251,30.8634,31.0415,31.0647,31.1081,31.1759,31.4117,31.5009,31.6916,31.7927,32.0435,32.4936,32.7042,33.1446,33.0849,33.318,33.64,33.9287,34.4335,34.7256,35.2447,35.7187,36.1087,36.7329,37.3137,37.8059,38.3958,39.0855,39.4216,39.8607,40.4236,40.5088,40.9766,41.3084,41.5593,41.788,42.1419,42.5541,43.0605,44.3404,44.8221,46.427,47.858,49.253,50.4293,52.3893,53.6832,54.0895,55.088,55.909,56.7005,56.8633,57.7633,58.6547,59.5529,60.9954,61.6896,62.5265,63.668,64.8872,66.7908,68.5189,69.8562,72.2956,74.9642,77.2032,80.3847,83.4914,84.8304,86.9418,89.5057,91.1867,93.7849,95.5562,96.0404,96.343,99.1545,99.3599,98.7309,99.5492,100.53,101.7645,103.174,104.3244,105.1891,106.1255,106.4622,108.0551,108.6458,109.2583,111.0064,109.0432,109.7437,110.7652,112.1848,113.5741,114.9259,116.142,116.9728,118.3907,119.7181,121.0561,122.57,124.634,125.8849,126.7737,129.0662,130.313,132.1328,135.4468,136.4229,136.5056,137.3982,138.1648,139.4754,140.5308,141.4639,142.9227,143.9673,144.748,145.5393,146.6167,147.0552,148.1735,149.4295,150.2713,151.6389,152.9772,153.4943,154.5702,155.7842,157.1296,158.2051,159.3649,160.404,160.9406,161.1967,162.1928,162.8528,162.7887,163.713,164.7098,165.485,166.6453,167.7012,169.2063,170.2783,172.3117,174.2459,175.1637,177.2147,177.7307,178.3793,178.5242,178.2647,179.9722,180.9725,182.2154,183.5613,184.2963,184.5373,null,null,null,null,null,null,null,null,null,null,null,null,null,null,null,null,null,null,null,null,null,null,null,null],\"type\":\"scattergl\",\"xaxis\":\"x\",\"yaxis\":\"y\"}],                        {\"template\":{\"data\":{\"barpolar\":[{\"marker\":{\"line\":{\"color\":\"rgb(237,237,237)\",\"width\":0.5},\"pattern\":{\"fillmode\":\"overlay\",\"size\":10,\"solidity\":0.2}},\"type\":\"barpolar\"}],\"bar\":[{\"error_x\":{\"color\":\"rgb(51,51,51)\"},\"error_y\":{\"color\":\"rgb(51,51,51)\"},\"marker\":{\"line\":{\"color\":\"rgb(237,237,237)\",\"width\":0.5},\"pattern\":{\"fillmode\":\"overlay\",\"size\":10,\"solidity\":0.2}},\"type\":\"bar\"}],\"carpet\":[{\"aaxis\":{\"endlinecolor\":\"rgb(51,51,51)\",\"gridcolor\":\"white\",\"linecolor\":\"white\",\"minorgridcolor\":\"white\",\"startlinecolor\":\"rgb(51,51,51)\"},\"baxis\":{\"endlinecolor\":\"rgb(51,51,51)\",\"gridcolor\":\"white\",\"linecolor\":\"white\",\"minorgridcolor\":\"white\",\"startlinecolor\":\"rgb(51,51,51)\"},\"type\":\"carpet\"}],\"choropleth\":[{\"colorbar\":{\"outlinewidth\":0,\"tickcolor\":\"rgb(237,237,237)\",\"ticklen\":6,\"ticks\":\"inside\"},\"type\":\"choropleth\"}],\"contourcarpet\":[{\"colorbar\":{\"outlinewidth\":0,\"tickcolor\":\"rgb(237,237,237)\",\"ticklen\":6,\"ticks\":\"inside\"},\"type\":\"contourcarpet\"}],\"contour\":[{\"colorbar\":{\"outlinewidth\":0,\"tickcolor\":\"rgb(237,237,237)\",\"ticklen\":6,\"ticks\":\"inside\"},\"colorscale\":[[0,\"rgb(20,44,66)\"],[1,\"rgb(90,179,244)\"]],\"type\":\"contour\"}],\"heatmapgl\":[{\"colorbar\":{\"outlinewidth\":0,\"tickcolor\":\"rgb(237,237,237)\",\"ticklen\":6,\"ticks\":\"inside\"},\"colorscale\":[[0,\"rgb(20,44,66)\"],[1,\"rgb(90,179,244)\"]],\"type\":\"heatmapgl\"}],\"heatmap\":[{\"colorbar\":{\"outlinewidth\":0,\"tickcolor\":\"rgb(237,237,237)\",\"ticklen\":6,\"ticks\":\"inside\"},\"colorscale\":[[0,\"rgb(20,44,66)\"],[1,\"rgb(90,179,244)\"]],\"type\":\"heatmap\"}],\"histogram2dcontour\":[{\"colorbar\":{\"outlinewidth\":0,\"tickcolor\":\"rgb(237,237,237)\",\"ticklen\":6,\"ticks\":\"inside\"},\"colorscale\":[[0,\"rgb(20,44,66)\"],[1,\"rgb(90,179,244)\"]],\"type\":\"histogram2dcontour\"}],\"histogram2d\":[{\"colorbar\":{\"outlinewidth\":0,\"tickcolor\":\"rgb(237,237,237)\",\"ticklen\":6,\"ticks\":\"inside\"},\"colorscale\":[[0,\"rgb(20,44,66)\"],[1,\"rgb(90,179,244)\"]],\"type\":\"histogram2d\"}],\"histogram\":[{\"marker\":{\"pattern\":{\"fillmode\":\"overlay\",\"size\":10,\"solidity\":0.2}},\"type\":\"histogram\"}],\"mesh3d\":[{\"colorbar\":{\"outlinewidth\":0,\"tickcolor\":\"rgb(237,237,237)\",\"ticklen\":6,\"ticks\":\"inside\"},\"type\":\"mesh3d\"}],\"parcoords\":[{\"line\":{\"colorbar\":{\"outlinewidth\":0,\"tickcolor\":\"rgb(237,237,237)\",\"ticklen\":6,\"ticks\":\"inside\"}},\"type\":\"parcoords\"}],\"pie\":[{\"automargin\":true,\"type\":\"pie\"}],\"scatter3d\":[{\"line\":{\"colorbar\":{\"outlinewidth\":0,\"tickcolor\":\"rgb(237,237,237)\",\"ticklen\":6,\"ticks\":\"inside\"}},\"marker\":{\"colorbar\":{\"outlinewidth\":0,\"tickcolor\":\"rgb(237,237,237)\",\"ticklen\":6,\"ticks\":\"inside\"}},\"type\":\"scatter3d\"}],\"scattercarpet\":[{\"marker\":{\"colorbar\":{\"outlinewidth\":0,\"tickcolor\":\"rgb(237,237,237)\",\"ticklen\":6,\"ticks\":\"inside\"}},\"type\":\"scattercarpet\"}],\"scattergeo\":[{\"marker\":{\"colorbar\":{\"outlinewidth\":0,\"tickcolor\":\"rgb(237,237,237)\",\"ticklen\":6,\"ticks\":\"inside\"}},\"type\":\"scattergeo\"}],\"scattergl\":[{\"marker\":{\"colorbar\":{\"outlinewidth\":0,\"tickcolor\":\"rgb(237,237,237)\",\"ticklen\":6,\"ticks\":\"inside\"}},\"type\":\"scattergl\"}],\"scattermapbox\":[{\"marker\":{\"colorbar\":{\"outlinewidth\":0,\"tickcolor\":\"rgb(237,237,237)\",\"ticklen\":6,\"ticks\":\"inside\"}},\"type\":\"scattermapbox\"}],\"scatterpolargl\":[{\"marker\":{\"colorbar\":{\"outlinewidth\":0,\"tickcolor\":\"rgb(237,237,237)\",\"ticklen\":6,\"ticks\":\"inside\"}},\"type\":\"scatterpolargl\"}],\"scatterpolar\":[{\"marker\":{\"colorbar\":{\"outlinewidth\":0,\"tickcolor\":\"rgb(237,237,237)\",\"ticklen\":6,\"ticks\":\"inside\"}},\"type\":\"scatterpolar\"}],\"scatter\":[{\"fillpattern\":{\"fillmode\":\"overlay\",\"size\":10,\"solidity\":0.2},\"type\":\"scatter\"}],\"scatterternary\":[{\"marker\":{\"colorbar\":{\"outlinewidth\":0,\"tickcolor\":\"rgb(237,237,237)\",\"ticklen\":6,\"ticks\":\"inside\"}},\"type\":\"scatterternary\"}],\"surface\":[{\"colorbar\":{\"outlinewidth\":0,\"tickcolor\":\"rgb(237,237,237)\",\"ticklen\":6,\"ticks\":\"inside\"},\"colorscale\":[[0,\"rgb(20,44,66)\"],[1,\"rgb(90,179,244)\"]],\"type\":\"surface\"}],\"table\":[{\"cells\":{\"fill\":{\"color\":\"rgb(237,237,237)\"},\"line\":{\"color\":\"white\"}},\"header\":{\"fill\":{\"color\":\"rgb(217,217,217)\"},\"line\":{\"color\":\"white\"}},\"type\":\"table\"}]},\"layout\":{\"annotationdefaults\":{\"arrowhead\":0,\"arrowwidth\":1},\"autotypenumbers\":\"strict\",\"coloraxis\":{\"colorbar\":{\"outlinewidth\":0,\"tickcolor\":\"rgb(237,237,237)\",\"ticklen\":6,\"ticks\":\"inside\"}},\"colorscale\":{\"sequential\":[[0,\"rgb(20,44,66)\"],[1,\"rgb(90,179,244)\"]],\"sequentialminus\":[[0,\"rgb(20,44,66)\"],[1,\"rgb(90,179,244)\"]]},\"colorway\":[\"#F8766D\",\"#A3A500\",\"#00BF7D\",\"#00B0F6\",\"#E76BF3\"],\"font\":{\"color\":\"rgb(51,51,51)\"},\"geo\":{\"bgcolor\":\"white\",\"lakecolor\":\"white\",\"landcolor\":\"rgb(237,237,237)\",\"showlakes\":true,\"showland\":true,\"subunitcolor\":\"white\"},\"hoverlabel\":{\"align\":\"left\"},\"hovermode\":\"closest\",\"paper_bgcolor\":\"white\",\"plot_bgcolor\":\"rgb(237,237,237)\",\"polar\":{\"angularaxis\":{\"gridcolor\":\"white\",\"linecolor\":\"white\",\"showgrid\":true,\"tickcolor\":\"rgb(51,51,51)\",\"ticks\":\"outside\"},\"bgcolor\":\"rgb(237,237,237)\",\"radialaxis\":{\"gridcolor\":\"white\",\"linecolor\":\"white\",\"showgrid\":true,\"tickcolor\":\"rgb(51,51,51)\",\"ticks\":\"outside\"}},\"scene\":{\"xaxis\":{\"backgroundcolor\":\"rgb(237,237,237)\",\"gridcolor\":\"white\",\"gridwidth\":2,\"linecolor\":\"white\",\"showbackground\":true,\"showgrid\":true,\"tickcolor\":\"rgb(51,51,51)\",\"ticks\":\"outside\",\"zerolinecolor\":\"white\"},\"yaxis\":{\"backgroundcolor\":\"rgb(237,237,237)\",\"gridcolor\":\"white\",\"gridwidth\":2,\"linecolor\":\"white\",\"showbackground\":true,\"showgrid\":true,\"tickcolor\":\"rgb(51,51,51)\",\"ticks\":\"outside\",\"zerolinecolor\":\"white\"},\"zaxis\":{\"backgroundcolor\":\"rgb(237,237,237)\",\"gridcolor\":\"white\",\"gridwidth\":2,\"linecolor\":\"white\",\"showbackground\":true,\"showgrid\":true,\"tickcolor\":\"rgb(51,51,51)\",\"ticks\":\"outside\",\"zerolinecolor\":\"white\"}},\"shapedefaults\":{\"fillcolor\":\"black\",\"line\":{\"width\":0},\"opacity\":0.3},\"ternary\":{\"aaxis\":{\"gridcolor\":\"white\",\"linecolor\":\"white\",\"showgrid\":true,\"tickcolor\":\"rgb(51,51,51)\",\"ticks\":\"outside\"},\"baxis\":{\"gridcolor\":\"white\",\"linecolor\":\"white\",\"showgrid\":true,\"tickcolor\":\"rgb(51,51,51)\",\"ticks\":\"outside\"},\"bgcolor\":\"rgb(237,237,237)\",\"caxis\":{\"gridcolor\":\"white\",\"linecolor\":\"white\",\"showgrid\":true,\"tickcolor\":\"rgb(51,51,51)\",\"ticks\":\"outside\"}},\"xaxis\":{\"automargin\":true,\"gridcolor\":\"white\",\"linecolor\":\"white\",\"showgrid\":true,\"tickcolor\":\"rgb(51,51,51)\",\"ticks\":\"outside\",\"title\":{\"standoff\":15},\"zerolinecolor\":\"white\"},\"yaxis\":{\"automargin\":true,\"gridcolor\":\"white\",\"linecolor\":\"white\",\"showgrid\":true,\"tickcolor\":\"rgb(51,51,51)\",\"ticks\":\"outside\",\"title\":{\"standoff\":15},\"zerolinecolor\":\"white\"}}},\"xaxis\":{\"anchor\":\"y\",\"domain\":[0.0,1.0]},\"yaxis\":{\"anchor\":\"x\",\"domain\":[0.0,1.0]},\"showlegend\":true,\"title\":{\"text\":\"Actual vs. Forecast (In-Sample)\"}},                        {\"responsive\": true}                    ).then(function(){\n",
              "                            \n",
              "var gd = document.getElementById('f126cff2-6840-4587-b9be-aaef01fb5c25');\n",
              "var x = new MutationObserver(function (mutations, observer) {{\n",
              "        var display = window.getComputedStyle(gd).display;\n",
              "        if (!display || display === 'none') {{\n",
              "            console.log([gd, 'removed!']);\n",
              "            Plotly.purge(gd);\n",
              "            observer.disconnect();\n",
              "        }}\n",
              "}});\n",
              "\n",
              "// Listen for the removal of the full notebook cells\n",
              "var notebookContainer = gd.closest('#notebook-container');\n",
              "if (notebookContainer) {{\n",
              "    x.observe(notebookContainer, {childList: true});\n",
              "}}\n",
              "\n",
              "// Listen for the clearing of the current output cell\n",
              "var outputEl = gd.closest('.output');\n",
              "if (outputEl) {{\n",
              "    x.observe(outputEl, {childList: true});\n",
              "}}\n",
              "\n",
              "                        })                };                            </script>        </div>\n",
              "</body>\n",
              "</html>"
            ]
          },
          "metadata": {},
          "output_type": "display_data"
        }
      ],
      "source": [
        "exp.plot_model([ses, ht, hw_add, hw_mul], plot='insample', data_kwargs={'labels':[\"SES\", \"Holt\", \"Holt-Winters Add\", \"Holt-Winters Mul\"]})\n"
      ]
    },
    {
      "cell_type": "markdown",
      "metadata": {
        "id": "Odfch9luKF9L"
      },
      "source": [
        "## 10. Plot the 36-period forecasts"
      ]
    },
    {
      "cell_type": "code",
      "execution_count": null,
      "metadata": {
        "colab": {
          "base_uri": "https://localhost:8080/",
          "height": 542
        },
        "id": "lgLwAO5SKGTO",
        "outputId": "a70463a5-bf10-444f-d1c6-dc4e432af5fb"
      },
      "outputs": [
        {
          "data": {
            "text/html": [
              "<html>\n",
              "<head><meta charset=\"utf-8\" /></head>\n",
              "<body>\n",
              "    <div>            <script src=\"https://cdnjs.cloudflare.com/ajax/libs/mathjax/2.7.5/MathJax.js?config=TeX-AMS-MML_SVG\"></script><script type=\"text/javascript\">if (window.MathJax && window.MathJax.Hub && window.MathJax.Hub.Config) {window.MathJax.Hub.Config({SVG: {font: \"STIX-Web\"}});}</script>                <script type=\"text/javascript\">window.PlotlyConfig = {MathJaxConfig: 'local'};</script>\n",
              "        <script charset=\"utf-8\" src=\"https://cdn.plot.ly/plotly-2.35.2.min.js\"></script>                <div id=\"7117ad08-2963-4b54-b4ba-d39bcaf692d0\" class=\"plotly-graph-div\" style=\"height:525px; width:100%;\"></div>            <script type=\"text/javascript\">                                    window.PLOTLYENV=window.PLOTLYENV || {};                                    if (document.getElementById(\"7117ad08-2963-4b54-b4ba-d39bcaf692d0\")) {                    Plotly.newPlot(                        \"7117ad08-2963-4b54-b4ba-d39bcaf692d0\",                        [{\"line\":{\"color\":\"rgb(31, 119, 180)\",\"width\":2},\"marker\":{\"color\":\"rgb(31, 119, 180)\",\"size\":5},\"mode\":\"lines+markers\",\"name\":\"cpi\",\"x\":[\"1959-01-01T00:00:00\",\"1959-04-01T00:00:00\",\"1959-07-01T00:00:00\",\"1959-10-01T00:00:00\",\"1960-01-01T00:00:00\",\"1960-04-01T00:00:00\",\"1960-07-01T00:00:00\",\"1960-10-01T00:00:00\",\"1961-01-01T00:00:00\",\"1961-04-01T00:00:00\",\"1961-07-01T00:00:00\",\"1961-10-01T00:00:00\",\"1962-01-01T00:00:00\",\"1962-04-01T00:00:00\",\"1962-07-01T00:00:00\",\"1962-10-01T00:00:00\",\"1963-01-01T00:00:00\",\"1963-04-01T00:00:00\",\"1963-07-01T00:00:00\",\"1963-10-01T00:00:00\",\"1964-01-01T00:00:00\",\"1964-04-01T00:00:00\",\"1964-07-01T00:00:00\",\"1964-10-01T00:00:00\",\"1965-01-01T00:00:00\",\"1965-04-01T00:00:00\",\"1965-07-01T00:00:00\",\"1965-10-01T00:00:00\",\"1966-01-01T00:00:00\",\"1966-04-01T00:00:00\",\"1966-07-01T00:00:00\",\"1966-10-01T00:00:00\",\"1967-01-01T00:00:00\",\"1967-04-01T00:00:00\",\"1967-07-01T00:00:00\",\"1967-10-01T00:00:00\",\"1968-01-01T00:00:00\",\"1968-04-01T00:00:00\",\"1968-07-01T00:00:00\",\"1968-10-01T00:00:00\",\"1969-01-01T00:00:00\",\"1969-04-01T00:00:00\",\"1969-07-01T00:00:00\",\"1969-10-01T00:00:00\",\"1970-01-01T00:00:00\",\"1970-04-01T00:00:00\",\"1970-07-01T00:00:00\",\"1970-10-01T00:00:00\",\"1971-01-01T00:00:00\",\"1971-04-01T00:00:00\",\"1971-07-01T00:00:00\",\"1971-10-01T00:00:00\",\"1972-01-01T00:00:00\",\"1972-04-01T00:00:00\",\"1972-07-01T00:00:00\",\"1972-10-01T00:00:00\",\"1973-01-01T00:00:00\",\"1973-04-01T00:00:00\",\"1973-07-01T00:00:00\",\"1973-10-01T00:00:00\",\"1974-01-01T00:00:00\",\"1974-04-01T00:00:00\",\"1974-07-01T00:00:00\",\"1974-10-01T00:00:00\",\"1975-01-01T00:00:00\",\"1975-04-01T00:00:00\",\"1975-07-01T00:00:00\",\"1975-10-01T00:00:00\",\"1976-01-01T00:00:00\",\"1976-04-01T00:00:00\",\"1976-07-01T00:00:00\",\"1976-10-01T00:00:00\",\"1977-01-01T00:00:00\",\"1977-04-01T00:00:00\",\"1977-07-01T00:00:00\",\"1977-10-01T00:00:00\",\"1978-01-01T00:00:00\",\"1978-04-01T00:00:00\",\"1978-07-01T00:00:00\",\"1978-10-01T00:00:00\",\"1979-01-01T00:00:00\",\"1979-04-01T00:00:00\",\"1979-07-01T00:00:00\",\"1979-10-01T00:00:00\",\"1980-01-01T00:00:00\",\"1980-04-01T00:00:00\",\"1980-07-01T00:00:00\",\"1980-10-01T00:00:00\",\"1981-01-01T00:00:00\",\"1981-04-01T00:00:00\",\"1981-07-01T00:00:00\",\"1981-10-01T00:00:00\",\"1982-01-01T00:00:00\",\"1982-04-01T00:00:00\",\"1982-07-01T00:00:00\",\"1982-10-01T00:00:00\",\"1983-01-01T00:00:00\",\"1983-04-01T00:00:00\",\"1983-07-01T00:00:00\",\"1983-10-01T00:00:00\",\"1984-01-01T00:00:00\",\"1984-04-01T00:00:00\",\"1984-07-01T00:00:00\",\"1984-10-01T00:00:00\",\"1985-01-01T00:00:00\",\"1985-04-01T00:00:00\",\"1985-07-01T00:00:00\",\"1985-10-01T00:00:00\",\"1986-01-01T00:00:00\",\"1986-04-01T00:00:00\",\"1986-07-01T00:00:00\",\"1986-10-01T00:00:00\",\"1987-01-01T00:00:00\",\"1987-04-01T00:00:00\",\"1987-07-01T00:00:00\",\"1987-10-01T00:00:00\",\"1988-01-01T00:00:00\",\"1988-04-01T00:00:00\",\"1988-07-01T00:00:00\",\"1988-10-01T00:00:00\",\"1989-01-01T00:00:00\",\"1989-04-01T00:00:00\",\"1989-07-01T00:00:00\",\"1989-10-01T00:00:00\",\"1990-01-01T00:00:00\",\"1990-04-01T00:00:00\",\"1990-07-01T00:00:00\",\"1990-10-01T00:00:00\",\"1991-01-01T00:00:00\",\"1991-04-01T00:00:00\",\"1991-07-01T00:00:00\",\"1991-10-01T00:00:00\",\"1992-01-01T00:00:00\",\"1992-04-01T00:00:00\",\"1992-07-01T00:00:00\",\"1992-10-01T00:00:00\",\"1993-01-01T00:00:00\",\"1993-04-01T00:00:00\",\"1993-07-01T00:00:00\",\"1993-10-01T00:00:00\",\"1994-01-01T00:00:00\",\"1994-04-01T00:00:00\",\"1994-07-01T00:00:00\",\"1994-10-01T00:00:00\",\"1995-01-01T00:00:00\",\"1995-04-01T00:00:00\",\"1995-07-01T00:00:00\",\"1995-10-01T00:00:00\",\"1996-01-01T00:00:00\",\"1996-04-01T00:00:00\",\"1996-07-01T00:00:00\",\"1996-10-01T00:00:00\",\"1997-01-01T00:00:00\",\"1997-04-01T00:00:00\",\"1997-07-01T00:00:00\",\"1997-10-01T00:00:00\",\"1998-01-01T00:00:00\",\"1998-04-01T00:00:00\",\"1998-07-01T00:00:00\",\"1998-10-01T00:00:00\",\"1999-01-01T00:00:00\",\"1999-04-01T00:00:00\",\"1999-07-01T00:00:00\",\"1999-10-01T00:00:00\",\"2000-01-01T00:00:00\",\"2000-04-01T00:00:00\",\"2000-07-01T00:00:00\",\"2000-10-01T00:00:00\",\"2001-01-01T00:00:00\",\"2001-04-01T00:00:00\",\"2001-07-01T00:00:00\",\"2001-10-01T00:00:00\",\"2002-01-01T00:00:00\",\"2002-04-01T00:00:00\",\"2002-07-01T00:00:00\",\"2002-10-01T00:00:00\",\"2003-01-01T00:00:00\",\"2003-04-01T00:00:00\",\"2003-07-01T00:00:00\",\"2003-10-01T00:00:00\",\"2004-01-01T00:00:00\",\"2004-04-01T00:00:00\",\"2004-07-01T00:00:00\",\"2004-10-01T00:00:00\",\"2005-01-01T00:00:00\",\"2005-04-01T00:00:00\",\"2005-07-01T00:00:00\",\"2005-10-01T00:00:00\",\"2006-01-01T00:00:00\",\"2006-04-01T00:00:00\",\"2006-07-01T00:00:00\",\"2006-10-01T00:00:00\",\"2007-01-01T00:00:00\",\"2007-04-01T00:00:00\",\"2007-07-01T00:00:00\",\"2007-10-01T00:00:00\",\"2008-01-01T00:00:00\",\"2008-04-01T00:00:00\",\"2008-07-01T00:00:00\",\"2008-10-01T00:00:00\",\"2009-01-01T00:00:00\",\"2009-04-01T00:00:00\",\"2009-07-01T00:00:00\",\"2009-10-01T00:00:00\",\"2010-01-01T00:00:00\",\"2010-04-01T00:00:00\",\"2010-07-01T00:00:00\",\"2010-10-01T00:00:00\",\"2011-01-01T00:00:00\",\"2011-04-01T00:00:00\",\"2011-07-01T00:00:00\",\"2011-10-01T00:00:00\",\"2012-01-01T00:00:00\",\"2012-04-01T00:00:00\",\"2012-07-01T00:00:00\"],\"y\":[28.98,29.15,29.35,29.37,29.54,29.55,29.75,29.84,29.81,29.92,29.98,30.04,30.21,30.22,30.38,30.44,30.48,30.69,30.75,30.94,30.95,31.02,31.12,31.28,31.38,31.58,31.65,31.88,32.28,32.45,32.85,32.9,33.1,33.4,33.7,34.1,34.4,34.9,35.3,35.7,36.3,36.8,37.3,37.9,38.5,38.9,39.4,39.9,40.1,40.6,40.9,41.2,41.5,41.8,42.2,42.7,43.7,44.2,45.6,46.8,48.1,49.3,51.0,52.3,53.0,54.0,54.9,55.8,56.1,57.0,57.9,58.7,60.0,60.8,61.6,62.7,63.9,65.5,67.1,68.5,70.6,73.0,75.2,78.0,80.9,82.6,84.7,87.2,89.1,91.5,93.4,94.4,95.0,97.5,98.1,97.9,98.8,99.8,100.8,102.1,103.3,104.1,105.1,105.7,107.0,107.7,108.5,109.9,108.7,109.5,110.2,111.4,112.7,113.8,115.0,116.0,117.2,118.5,119.9,121.2,123.1,124.5,125.4,127.5,128.9,130.5,133.4,134.7,135.1,136.2,137.2,138.3,139.4,140.5,141.7,142.8,143.8,144.5,145.6,146.3,147.2,148.4,149.4,150.5,151.8,152.6,153.5,154.7,156.1,157.0,158.2,159.4,159.9,160.4,161.5,162.0,162.2,163.2,163.9,164.7,165.9,166.7,168.1,169.3,170.9,172.7,173.9,175.6,176.4,177.4,177.6,177.7,179.3,180.0,181.2,182.6,183.2,183.7,184.9,186.3,187.4,189.1,190.8,191.8,193.8,194.7,199.2,199.4,200.7,202.7,201.9,203.574,205.92,207.338,209.133,212.495,213.997,218.61,216.889,212.174,212.671,214.469,216.385,null,null,null,null,null,null,null,null,null,null,null,null],\"type\":\"scattergl\",\"xaxis\":\"x\",\"yaxis\":\"y\"},{\"line\":{\"color\":\"rgb(255, 127, 14)\",\"width\":2},\"marker\":{\"color\":\"rgb(255, 127, 14)\",\"size\":5},\"mode\":\"lines+markers\",\"name\":\"SES\",\"x\":[\"1959-01-01T00:00:00\",\"1959-04-01T00:00:00\",\"1959-07-01T00:00:00\",\"1959-10-01T00:00:00\",\"1960-01-01T00:00:00\",\"1960-04-01T00:00:00\",\"1960-07-01T00:00:00\",\"1960-10-01T00:00:00\",\"1961-01-01T00:00:00\",\"1961-04-01T00:00:00\",\"1961-07-01T00:00:00\",\"1961-10-01T00:00:00\",\"1962-01-01T00:00:00\",\"1962-04-01T00:00:00\",\"1962-07-01T00:00:00\",\"1962-10-01T00:00:00\",\"1963-01-01T00:00:00\",\"1963-04-01T00:00:00\",\"1963-07-01T00:00:00\",\"1963-10-01T00:00:00\",\"1964-01-01T00:00:00\",\"1964-04-01T00:00:00\",\"1964-07-01T00:00:00\",\"1964-10-01T00:00:00\",\"1965-01-01T00:00:00\",\"1965-04-01T00:00:00\",\"1965-07-01T00:00:00\",\"1965-10-01T00:00:00\",\"1966-01-01T00:00:00\",\"1966-04-01T00:00:00\",\"1966-07-01T00:00:00\",\"1966-10-01T00:00:00\",\"1967-01-01T00:00:00\",\"1967-04-01T00:00:00\",\"1967-07-01T00:00:00\",\"1967-10-01T00:00:00\",\"1968-01-01T00:00:00\",\"1968-04-01T00:00:00\",\"1968-07-01T00:00:00\",\"1968-10-01T00:00:00\",\"1969-01-01T00:00:00\",\"1969-04-01T00:00:00\",\"1969-07-01T00:00:00\",\"1969-10-01T00:00:00\",\"1970-01-01T00:00:00\",\"1970-04-01T00:00:00\",\"1970-07-01T00:00:00\",\"1970-10-01T00:00:00\",\"1971-01-01T00:00:00\",\"1971-04-01T00:00:00\",\"1971-07-01T00:00:00\",\"1971-10-01T00:00:00\",\"1972-01-01T00:00:00\",\"1972-04-01T00:00:00\",\"1972-07-01T00:00:00\",\"1972-10-01T00:00:00\",\"1973-01-01T00:00:00\",\"1973-04-01T00:00:00\",\"1973-07-01T00:00:00\",\"1973-10-01T00:00:00\",\"1974-01-01T00:00:00\",\"1974-04-01T00:00:00\",\"1974-07-01T00:00:00\",\"1974-10-01T00:00:00\",\"1975-01-01T00:00:00\",\"1975-04-01T00:00:00\",\"1975-07-01T00:00:00\",\"1975-10-01T00:00:00\",\"1976-01-01T00:00:00\",\"1976-04-01T00:00:00\",\"1976-07-01T00:00:00\",\"1976-10-01T00:00:00\",\"1977-01-01T00:00:00\",\"1977-04-01T00:00:00\",\"1977-07-01T00:00:00\",\"1977-10-01T00:00:00\",\"1978-01-01T00:00:00\",\"1978-04-01T00:00:00\",\"1978-07-01T00:00:00\",\"1978-10-01T00:00:00\",\"1979-01-01T00:00:00\",\"1979-04-01T00:00:00\",\"1979-07-01T00:00:00\",\"1979-10-01T00:00:00\",\"1980-01-01T00:00:00\",\"1980-04-01T00:00:00\",\"1980-07-01T00:00:00\",\"1980-10-01T00:00:00\",\"1981-01-01T00:00:00\",\"1981-04-01T00:00:00\",\"1981-07-01T00:00:00\",\"1981-10-01T00:00:00\",\"1982-01-01T00:00:00\",\"1982-04-01T00:00:00\",\"1982-07-01T00:00:00\",\"1982-10-01T00:00:00\",\"1983-01-01T00:00:00\",\"1983-04-01T00:00:00\",\"1983-07-01T00:00:00\",\"1983-10-01T00:00:00\",\"1984-01-01T00:00:00\",\"1984-04-01T00:00:00\",\"1984-07-01T00:00:00\",\"1984-10-01T00:00:00\",\"1985-01-01T00:00:00\",\"1985-04-01T00:00:00\",\"1985-07-01T00:00:00\",\"1985-10-01T00:00:00\",\"1986-01-01T00:00:00\",\"1986-04-01T00:00:00\",\"1986-07-01T00:00:00\",\"1986-10-01T00:00:00\",\"1987-01-01T00:00:00\",\"1987-04-01T00:00:00\",\"1987-07-01T00:00:00\",\"1987-10-01T00:00:00\",\"1988-01-01T00:00:00\",\"1988-04-01T00:00:00\",\"1988-07-01T00:00:00\",\"1988-10-01T00:00:00\",\"1989-01-01T00:00:00\",\"1989-04-01T00:00:00\",\"1989-07-01T00:00:00\",\"1989-10-01T00:00:00\",\"1990-01-01T00:00:00\",\"1990-04-01T00:00:00\",\"1990-07-01T00:00:00\",\"1990-10-01T00:00:00\",\"1991-01-01T00:00:00\",\"1991-04-01T00:00:00\",\"1991-07-01T00:00:00\",\"1991-10-01T00:00:00\",\"1992-01-01T00:00:00\",\"1992-04-01T00:00:00\",\"1992-07-01T00:00:00\",\"1992-10-01T00:00:00\",\"1993-01-01T00:00:00\",\"1993-04-01T00:00:00\",\"1993-07-01T00:00:00\",\"1993-10-01T00:00:00\",\"1994-01-01T00:00:00\",\"1994-04-01T00:00:00\",\"1994-07-01T00:00:00\",\"1994-10-01T00:00:00\",\"1995-01-01T00:00:00\",\"1995-04-01T00:00:00\",\"1995-07-01T00:00:00\",\"1995-10-01T00:00:00\",\"1996-01-01T00:00:00\",\"1996-04-01T00:00:00\",\"1996-07-01T00:00:00\",\"1996-10-01T00:00:00\",\"1997-01-01T00:00:00\",\"1997-04-01T00:00:00\",\"1997-07-01T00:00:00\",\"1997-10-01T00:00:00\",\"1998-01-01T00:00:00\",\"1998-04-01T00:00:00\",\"1998-07-01T00:00:00\",\"1998-10-01T00:00:00\",\"1999-01-01T00:00:00\",\"1999-04-01T00:00:00\",\"1999-07-01T00:00:00\",\"1999-10-01T00:00:00\",\"2000-01-01T00:00:00\",\"2000-04-01T00:00:00\",\"2000-07-01T00:00:00\",\"2000-10-01T00:00:00\",\"2001-01-01T00:00:00\",\"2001-04-01T00:00:00\",\"2001-07-01T00:00:00\",\"2001-10-01T00:00:00\",\"2002-01-01T00:00:00\",\"2002-04-01T00:00:00\",\"2002-07-01T00:00:00\",\"2002-10-01T00:00:00\",\"2003-01-01T00:00:00\",\"2003-04-01T00:00:00\",\"2003-07-01T00:00:00\",\"2003-10-01T00:00:00\",\"2004-01-01T00:00:00\",\"2004-04-01T00:00:00\",\"2004-07-01T00:00:00\",\"2004-10-01T00:00:00\",\"2005-01-01T00:00:00\",\"2005-04-01T00:00:00\",\"2005-07-01T00:00:00\",\"2005-10-01T00:00:00\",\"2006-01-01T00:00:00\",\"2006-04-01T00:00:00\",\"2006-07-01T00:00:00\",\"2006-10-01T00:00:00\",\"2007-01-01T00:00:00\",\"2007-04-01T00:00:00\",\"2007-07-01T00:00:00\",\"2007-10-01T00:00:00\",\"2008-01-01T00:00:00\",\"2008-04-01T00:00:00\",\"2008-07-01T00:00:00\",\"2008-10-01T00:00:00\",\"2009-01-01T00:00:00\",\"2009-04-01T00:00:00\",\"2009-07-01T00:00:00\",\"2009-10-01T00:00:00\",\"2010-01-01T00:00:00\",\"2010-04-01T00:00:00\",\"2010-07-01T00:00:00\",\"2010-10-01T00:00:00\",\"2011-01-01T00:00:00\",\"2011-04-01T00:00:00\",\"2011-07-01T00:00:00\",\"2011-10-01T00:00:00\",\"2012-01-01T00:00:00\",\"2012-04-01T00:00:00\",\"2012-07-01T00:00:00\"],\"y\":[null,null,null,null,null,null,null,null,null,null,null,null,null,null,null,null,null,null,null,null,null,null,null,null,null,null,null,null,null,null,null,null,null,null,null,null,null,null,null,null,null,null,null,null,null,null,null,null,null,null,null,null,null,null,null,null,null,null,null,null,null,null,null,null,null,null,null,null,null,null,null,null,null,null,null,null,null,null,null,null,null,null,null,null,null,null,null,null,null,null,null,null,null,null,null,null,null,null,null,null,null,null,null,null,null,null,null,null,null,null,null,null,null,null,null,null,null,null,null,null,null,null,null,null,null,null,null,null,null,null,null,null,null,null,null,null,null,null,null,null,null,null,null,null,null,null,null,null,null,null,null,null,null,null,null,null,null,null,null,null,null,null,null,null,null,null,null,null,null,null,null,null,null,null,null,null,null,null,null,184.9,184.9,184.9,184.9,184.9,184.9,184.9,184.9,184.9,184.9,184.9,184.9,184.9,184.9,184.9,184.9,184.9,184.9,184.9,184.9,184.9,184.9,184.9,184.9,184.9,184.9,184.9,184.9,184.9,184.9,184.9,184.9,184.9,184.9,184.9,184.9],\"type\":\"scattergl\",\"xaxis\":\"x\",\"yaxis\":\"y\"},{\"line\":{\"color\":\"rgb(44, 160, 44)\",\"width\":2},\"marker\":{\"color\":\"rgb(44, 160, 44)\",\"size\":5},\"mode\":\"lines+markers\",\"name\":\"Holt\",\"x\":[\"1959-01-01T00:00:00\",\"1959-04-01T00:00:00\",\"1959-07-01T00:00:00\",\"1959-10-01T00:00:00\",\"1960-01-01T00:00:00\",\"1960-04-01T00:00:00\",\"1960-07-01T00:00:00\",\"1960-10-01T00:00:00\",\"1961-01-01T00:00:00\",\"1961-04-01T00:00:00\",\"1961-07-01T00:00:00\",\"1961-10-01T00:00:00\",\"1962-01-01T00:00:00\",\"1962-04-01T00:00:00\",\"1962-07-01T00:00:00\",\"1962-10-01T00:00:00\",\"1963-01-01T00:00:00\",\"1963-04-01T00:00:00\",\"1963-07-01T00:00:00\",\"1963-10-01T00:00:00\",\"1964-01-01T00:00:00\",\"1964-04-01T00:00:00\",\"1964-07-01T00:00:00\",\"1964-10-01T00:00:00\",\"1965-01-01T00:00:00\",\"1965-04-01T00:00:00\",\"1965-07-01T00:00:00\",\"1965-10-01T00:00:00\",\"1966-01-01T00:00:00\",\"1966-04-01T00:00:00\",\"1966-07-01T00:00:00\",\"1966-10-01T00:00:00\",\"1967-01-01T00:00:00\",\"1967-04-01T00:00:00\",\"1967-07-01T00:00:00\",\"1967-10-01T00:00:00\",\"1968-01-01T00:00:00\",\"1968-04-01T00:00:00\",\"1968-07-01T00:00:00\",\"1968-10-01T00:00:00\",\"1969-01-01T00:00:00\",\"1969-04-01T00:00:00\",\"1969-07-01T00:00:00\",\"1969-10-01T00:00:00\",\"1970-01-01T00:00:00\",\"1970-04-01T00:00:00\",\"1970-07-01T00:00:00\",\"1970-10-01T00:00:00\",\"1971-01-01T00:00:00\",\"1971-04-01T00:00:00\",\"1971-07-01T00:00:00\",\"1971-10-01T00:00:00\",\"1972-01-01T00:00:00\",\"1972-04-01T00:00:00\",\"1972-07-01T00:00:00\",\"1972-10-01T00:00:00\",\"1973-01-01T00:00:00\",\"1973-04-01T00:00:00\",\"1973-07-01T00:00:00\",\"1973-10-01T00:00:00\",\"1974-01-01T00:00:00\",\"1974-04-01T00:00:00\",\"1974-07-01T00:00:00\",\"1974-10-01T00:00:00\",\"1975-01-01T00:00:00\",\"1975-04-01T00:00:00\",\"1975-07-01T00:00:00\",\"1975-10-01T00:00:00\",\"1976-01-01T00:00:00\",\"1976-04-01T00:00:00\",\"1976-07-01T00:00:00\",\"1976-10-01T00:00:00\",\"1977-01-01T00:00:00\",\"1977-04-01T00:00:00\",\"1977-07-01T00:00:00\",\"1977-10-01T00:00:00\",\"1978-01-01T00:00:00\",\"1978-04-01T00:00:00\",\"1978-07-01T00:00:00\",\"1978-10-01T00:00:00\",\"1979-01-01T00:00:00\",\"1979-04-01T00:00:00\",\"1979-07-01T00:00:00\",\"1979-10-01T00:00:00\",\"1980-01-01T00:00:00\",\"1980-04-01T00:00:00\",\"1980-07-01T00:00:00\",\"1980-10-01T00:00:00\",\"1981-01-01T00:00:00\",\"1981-04-01T00:00:00\",\"1981-07-01T00:00:00\",\"1981-10-01T00:00:00\",\"1982-01-01T00:00:00\",\"1982-04-01T00:00:00\",\"1982-07-01T00:00:00\",\"1982-10-01T00:00:00\",\"1983-01-01T00:00:00\",\"1983-04-01T00:00:00\",\"1983-07-01T00:00:00\",\"1983-10-01T00:00:00\",\"1984-01-01T00:00:00\",\"1984-04-01T00:00:00\",\"1984-07-01T00:00:00\",\"1984-10-01T00:00:00\",\"1985-01-01T00:00:00\",\"1985-04-01T00:00:00\",\"1985-07-01T00:00:00\",\"1985-10-01T00:00:00\",\"1986-01-01T00:00:00\",\"1986-04-01T00:00:00\",\"1986-07-01T00:00:00\",\"1986-10-01T00:00:00\",\"1987-01-01T00:00:00\",\"1987-04-01T00:00:00\",\"1987-07-01T00:00:00\",\"1987-10-01T00:00:00\",\"1988-01-01T00:00:00\",\"1988-04-01T00:00:00\",\"1988-07-01T00:00:00\",\"1988-10-01T00:00:00\",\"1989-01-01T00:00:00\",\"1989-04-01T00:00:00\",\"1989-07-01T00:00:00\",\"1989-10-01T00:00:00\",\"1990-01-01T00:00:00\",\"1990-04-01T00:00:00\",\"1990-07-01T00:00:00\",\"1990-10-01T00:00:00\",\"1991-01-01T00:00:00\",\"1991-04-01T00:00:00\",\"1991-07-01T00:00:00\",\"1991-10-01T00:00:00\",\"1992-01-01T00:00:00\",\"1992-04-01T00:00:00\",\"1992-07-01T00:00:00\",\"1992-10-01T00:00:00\",\"1993-01-01T00:00:00\",\"1993-04-01T00:00:00\",\"1993-07-01T00:00:00\",\"1993-10-01T00:00:00\",\"1994-01-01T00:00:00\",\"1994-04-01T00:00:00\",\"1994-07-01T00:00:00\",\"1994-10-01T00:00:00\",\"1995-01-01T00:00:00\",\"1995-04-01T00:00:00\",\"1995-07-01T00:00:00\",\"1995-10-01T00:00:00\",\"1996-01-01T00:00:00\",\"1996-04-01T00:00:00\",\"1996-07-01T00:00:00\",\"1996-10-01T00:00:00\",\"1997-01-01T00:00:00\",\"1997-04-01T00:00:00\",\"1997-07-01T00:00:00\",\"1997-10-01T00:00:00\",\"1998-01-01T00:00:00\",\"1998-04-01T00:00:00\",\"1998-07-01T00:00:00\",\"1998-10-01T00:00:00\",\"1999-01-01T00:00:00\",\"1999-04-01T00:00:00\",\"1999-07-01T00:00:00\",\"1999-10-01T00:00:00\",\"2000-01-01T00:00:00\",\"2000-04-01T00:00:00\",\"2000-07-01T00:00:00\",\"2000-10-01T00:00:00\",\"2001-01-01T00:00:00\",\"2001-04-01T00:00:00\",\"2001-07-01T00:00:00\",\"2001-10-01T00:00:00\",\"2002-01-01T00:00:00\",\"2002-04-01T00:00:00\",\"2002-07-01T00:00:00\",\"2002-10-01T00:00:00\",\"2003-01-01T00:00:00\",\"2003-04-01T00:00:00\",\"2003-07-01T00:00:00\",\"2003-10-01T00:00:00\",\"2004-01-01T00:00:00\",\"2004-04-01T00:00:00\",\"2004-07-01T00:00:00\",\"2004-10-01T00:00:00\",\"2005-01-01T00:00:00\",\"2005-04-01T00:00:00\",\"2005-07-01T00:00:00\",\"2005-10-01T00:00:00\",\"2006-01-01T00:00:00\",\"2006-04-01T00:00:00\",\"2006-07-01T00:00:00\",\"2006-10-01T00:00:00\",\"2007-01-01T00:00:00\",\"2007-04-01T00:00:00\",\"2007-07-01T00:00:00\",\"2007-10-01T00:00:00\",\"2008-01-01T00:00:00\",\"2008-04-01T00:00:00\",\"2008-07-01T00:00:00\",\"2008-10-01T00:00:00\",\"2009-01-01T00:00:00\",\"2009-04-01T00:00:00\",\"2009-07-01T00:00:00\",\"2009-10-01T00:00:00\",\"2010-01-01T00:00:00\",\"2010-04-01T00:00:00\",\"2010-07-01T00:00:00\",\"2010-10-01T00:00:00\",\"2011-01-01T00:00:00\",\"2011-04-01T00:00:00\",\"2011-07-01T00:00:00\",\"2011-10-01T00:00:00\",\"2012-01-01T00:00:00\",\"2012-04-01T00:00:00\",\"2012-07-01T00:00:00\"],\"y\":[null,null,null,null,null,null,null,null,null,null,null,null,null,null,null,null,null,null,null,null,null,null,null,null,null,null,null,null,null,null,null,null,null,null,null,null,null,null,null,null,null,null,null,null,null,null,null,null,null,null,null,null,null,null,null,null,null,null,null,null,null,null,null,null,null,null,null,null,null,null,null,null,null,null,null,null,null,null,null,null,null,null,null,null,null,null,null,null,null,null,null,null,null,null,null,null,null,null,null,null,null,null,null,null,null,null,null,null,null,null,null,null,null,null,null,null,null,null,null,null,null,null,null,null,null,null,null,null,null,null,null,null,null,null,null,null,null,null,null,null,null,null,null,null,null,null,null,null,null,null,null,null,null,null,null,null,null,null,null,null,null,null,null,null,null,null,null,null,null,null,null,null,null,null,null,null,null,null,null,185.7943,186.7144,187.6344,188.5545,189.4746,190.3947,191.3148,192.2349,193.1549,194.075,194.9951,195.9152,196.8353,197.7554,198.6754,199.5955,200.5156,201.4357,202.3558,203.2759,204.196,205.116,206.0361,206.9562,207.8763,208.7964,209.7165,210.6365,211.5566,212.4767,213.3968,214.3169,215.237,216.157,217.0771,217.9972],\"type\":\"scattergl\",\"xaxis\":\"x\",\"yaxis\":\"y\"},{\"line\":{\"color\":\"rgb(214, 39, 40)\",\"width\":2},\"marker\":{\"color\":\"rgb(214, 39, 40)\",\"size\":5},\"mode\":\"lines+markers\",\"name\":\"Holt-Winters Add\",\"x\":[\"1959-01-01T00:00:00\",\"1959-04-01T00:00:00\",\"1959-07-01T00:00:00\",\"1959-10-01T00:00:00\",\"1960-01-01T00:00:00\",\"1960-04-01T00:00:00\",\"1960-07-01T00:00:00\",\"1960-10-01T00:00:00\",\"1961-01-01T00:00:00\",\"1961-04-01T00:00:00\",\"1961-07-01T00:00:00\",\"1961-10-01T00:00:00\",\"1962-01-01T00:00:00\",\"1962-04-01T00:00:00\",\"1962-07-01T00:00:00\",\"1962-10-01T00:00:00\",\"1963-01-01T00:00:00\",\"1963-04-01T00:00:00\",\"1963-07-01T00:00:00\",\"1963-10-01T00:00:00\",\"1964-01-01T00:00:00\",\"1964-04-01T00:00:00\",\"1964-07-01T00:00:00\",\"1964-10-01T00:00:00\",\"1965-01-01T00:00:00\",\"1965-04-01T00:00:00\",\"1965-07-01T00:00:00\",\"1965-10-01T00:00:00\",\"1966-01-01T00:00:00\",\"1966-04-01T00:00:00\",\"1966-07-01T00:00:00\",\"1966-10-01T00:00:00\",\"1967-01-01T00:00:00\",\"1967-04-01T00:00:00\",\"1967-07-01T00:00:00\",\"1967-10-01T00:00:00\",\"1968-01-01T00:00:00\",\"1968-04-01T00:00:00\",\"1968-07-01T00:00:00\",\"1968-10-01T00:00:00\",\"1969-01-01T00:00:00\",\"1969-04-01T00:00:00\",\"1969-07-01T00:00:00\",\"1969-10-01T00:00:00\",\"1970-01-01T00:00:00\",\"1970-04-01T00:00:00\",\"1970-07-01T00:00:00\",\"1970-10-01T00:00:00\",\"1971-01-01T00:00:00\",\"1971-04-01T00:00:00\",\"1971-07-01T00:00:00\",\"1971-10-01T00:00:00\",\"1972-01-01T00:00:00\",\"1972-04-01T00:00:00\",\"1972-07-01T00:00:00\",\"1972-10-01T00:00:00\",\"1973-01-01T00:00:00\",\"1973-04-01T00:00:00\",\"1973-07-01T00:00:00\",\"1973-10-01T00:00:00\",\"1974-01-01T00:00:00\",\"1974-04-01T00:00:00\",\"1974-07-01T00:00:00\",\"1974-10-01T00:00:00\",\"1975-01-01T00:00:00\",\"1975-04-01T00:00:00\",\"1975-07-01T00:00:00\",\"1975-10-01T00:00:00\",\"1976-01-01T00:00:00\",\"1976-04-01T00:00:00\",\"1976-07-01T00:00:00\",\"1976-10-01T00:00:00\",\"1977-01-01T00:00:00\",\"1977-04-01T00:00:00\",\"1977-07-01T00:00:00\",\"1977-10-01T00:00:00\",\"1978-01-01T00:00:00\",\"1978-04-01T00:00:00\",\"1978-07-01T00:00:00\",\"1978-10-01T00:00:00\",\"1979-01-01T00:00:00\",\"1979-04-01T00:00:00\",\"1979-07-01T00:00:00\",\"1979-10-01T00:00:00\",\"1980-01-01T00:00:00\",\"1980-04-01T00:00:00\",\"1980-07-01T00:00:00\",\"1980-10-01T00:00:00\",\"1981-01-01T00:00:00\",\"1981-04-01T00:00:00\",\"1981-07-01T00:00:00\",\"1981-10-01T00:00:00\",\"1982-01-01T00:00:00\",\"1982-04-01T00:00:00\",\"1982-07-01T00:00:00\",\"1982-10-01T00:00:00\",\"1983-01-01T00:00:00\",\"1983-04-01T00:00:00\",\"1983-07-01T00:00:00\",\"1983-10-01T00:00:00\",\"1984-01-01T00:00:00\",\"1984-04-01T00:00:00\",\"1984-07-01T00:00:00\",\"1984-10-01T00:00:00\",\"1985-01-01T00:00:00\",\"1985-04-01T00:00:00\",\"1985-07-01T00:00:00\",\"1985-10-01T00:00:00\",\"1986-01-01T00:00:00\",\"1986-04-01T00:00:00\",\"1986-07-01T00:00:00\",\"1986-10-01T00:00:00\",\"1987-01-01T00:00:00\",\"1987-04-01T00:00:00\",\"1987-07-01T00:00:00\",\"1987-10-01T00:00:00\",\"1988-01-01T00:00:00\",\"1988-04-01T00:00:00\",\"1988-07-01T00:00:00\",\"1988-10-01T00:00:00\",\"1989-01-01T00:00:00\",\"1989-04-01T00:00:00\",\"1989-07-01T00:00:00\",\"1989-10-01T00:00:00\",\"1990-01-01T00:00:00\",\"1990-04-01T00:00:00\",\"1990-07-01T00:00:00\",\"1990-10-01T00:00:00\",\"1991-01-01T00:00:00\",\"1991-04-01T00:00:00\",\"1991-07-01T00:00:00\",\"1991-10-01T00:00:00\",\"1992-01-01T00:00:00\",\"1992-04-01T00:00:00\",\"1992-07-01T00:00:00\",\"1992-10-01T00:00:00\",\"1993-01-01T00:00:00\",\"1993-04-01T00:00:00\",\"1993-07-01T00:00:00\",\"1993-10-01T00:00:00\",\"1994-01-01T00:00:00\",\"1994-04-01T00:00:00\",\"1994-07-01T00:00:00\",\"1994-10-01T00:00:00\",\"1995-01-01T00:00:00\",\"1995-04-01T00:00:00\",\"1995-07-01T00:00:00\",\"1995-10-01T00:00:00\",\"1996-01-01T00:00:00\",\"1996-04-01T00:00:00\",\"1996-07-01T00:00:00\",\"1996-10-01T00:00:00\",\"1997-01-01T00:00:00\",\"1997-04-01T00:00:00\",\"1997-07-01T00:00:00\",\"1997-10-01T00:00:00\",\"1998-01-01T00:00:00\",\"1998-04-01T00:00:00\",\"1998-07-01T00:00:00\",\"1998-10-01T00:00:00\",\"1999-01-01T00:00:00\",\"1999-04-01T00:00:00\",\"1999-07-01T00:00:00\",\"1999-10-01T00:00:00\",\"2000-01-01T00:00:00\",\"2000-04-01T00:00:00\",\"2000-07-01T00:00:00\",\"2000-10-01T00:00:00\",\"2001-01-01T00:00:00\",\"2001-04-01T00:00:00\",\"2001-07-01T00:00:00\",\"2001-10-01T00:00:00\",\"2002-01-01T00:00:00\",\"2002-04-01T00:00:00\",\"2002-07-01T00:00:00\",\"2002-10-01T00:00:00\",\"2003-01-01T00:00:00\",\"2003-04-01T00:00:00\",\"2003-07-01T00:00:00\",\"2003-10-01T00:00:00\",\"2004-01-01T00:00:00\",\"2004-04-01T00:00:00\",\"2004-07-01T00:00:00\",\"2004-10-01T00:00:00\",\"2005-01-01T00:00:00\",\"2005-04-01T00:00:00\",\"2005-07-01T00:00:00\",\"2005-10-01T00:00:00\",\"2006-01-01T00:00:00\",\"2006-04-01T00:00:00\",\"2006-07-01T00:00:00\",\"2006-10-01T00:00:00\",\"2007-01-01T00:00:00\",\"2007-04-01T00:00:00\",\"2007-07-01T00:00:00\",\"2007-10-01T00:00:00\",\"2008-01-01T00:00:00\",\"2008-04-01T00:00:00\",\"2008-07-01T00:00:00\",\"2008-10-01T00:00:00\",\"2009-01-01T00:00:00\",\"2009-04-01T00:00:00\",\"2009-07-01T00:00:00\",\"2009-10-01T00:00:00\",\"2010-01-01T00:00:00\",\"2010-04-01T00:00:00\",\"2010-07-01T00:00:00\",\"2010-10-01T00:00:00\",\"2011-01-01T00:00:00\",\"2011-04-01T00:00:00\",\"2011-07-01T00:00:00\",\"2011-10-01T00:00:00\",\"2012-01-01T00:00:00\",\"2012-04-01T00:00:00\",\"2012-07-01T00:00:00\"],\"y\":[null,null,null,null,null,null,null,null,null,null,null,null,null,null,null,null,null,null,null,null,null,null,null,null,null,null,null,null,null,null,null,null,null,null,null,null,null,null,null,null,null,null,null,null,null,null,null,null,null,null,null,null,null,null,null,null,null,null,null,null,null,null,null,null,null,null,null,null,null,null,null,null,null,null,null,null,null,null,null,null,null,null,null,null,null,null,null,null,null,null,null,null,null,null,null,null,null,null,null,null,null,null,null,null,null,null,null,null,null,null,null,null,null,null,null,null,null,null,null,null,null,null,null,null,null,null,null,null,null,null,null,null,null,null,null,null,null,null,null,null,null,null,null,null,null,null,null,null,null,null,null,null,null,null,null,null,null,null,null,null,null,null,null,null,null,null,null,null,null,null,null,null,null,null,null,null,null,null,null,185.7307,186.6999,187.6158,188.4702,189.4394,190.3553,191.2098,192.179,193.0949,193.9494,194.9186,195.8345,196.689,197.6582,198.5741,199.4286,200.3978,201.3136,202.1681,203.1373,204.0532,204.9077,205.8769,206.7928,207.6473,208.6165,209.5324,210.3869,211.3561,212.272,213.1265,214.0957,215.0115,215.866,216.8352,217.7511],\"type\":\"scattergl\",\"xaxis\":\"x\",\"yaxis\":\"y\"},{\"line\":{\"color\":\"rgb(148, 103, 189)\",\"width\":2},\"marker\":{\"color\":\"rgb(148, 103, 189)\",\"size\":5},\"mode\":\"lines+markers\",\"name\":\"Holt-Winters Mul\",\"x\":[\"1959-01-01T00:00:00\",\"1959-04-01T00:00:00\",\"1959-07-01T00:00:00\",\"1959-10-01T00:00:00\",\"1960-01-01T00:00:00\",\"1960-04-01T00:00:00\",\"1960-07-01T00:00:00\",\"1960-10-01T00:00:00\",\"1961-01-01T00:00:00\",\"1961-04-01T00:00:00\",\"1961-07-01T00:00:00\",\"1961-10-01T00:00:00\",\"1962-01-01T00:00:00\",\"1962-04-01T00:00:00\",\"1962-07-01T00:00:00\",\"1962-10-01T00:00:00\",\"1963-01-01T00:00:00\",\"1963-04-01T00:00:00\",\"1963-07-01T00:00:00\",\"1963-10-01T00:00:00\",\"1964-01-01T00:00:00\",\"1964-04-01T00:00:00\",\"1964-07-01T00:00:00\",\"1964-10-01T00:00:00\",\"1965-01-01T00:00:00\",\"1965-04-01T00:00:00\",\"1965-07-01T00:00:00\",\"1965-10-01T00:00:00\",\"1966-01-01T00:00:00\",\"1966-04-01T00:00:00\",\"1966-07-01T00:00:00\",\"1966-10-01T00:00:00\",\"1967-01-01T00:00:00\",\"1967-04-01T00:00:00\",\"1967-07-01T00:00:00\",\"1967-10-01T00:00:00\",\"1968-01-01T00:00:00\",\"1968-04-01T00:00:00\",\"1968-07-01T00:00:00\",\"1968-10-01T00:00:00\",\"1969-01-01T00:00:00\",\"1969-04-01T00:00:00\",\"1969-07-01T00:00:00\",\"1969-10-01T00:00:00\",\"1970-01-01T00:00:00\",\"1970-04-01T00:00:00\",\"1970-07-01T00:00:00\",\"1970-10-01T00:00:00\",\"1971-01-01T00:00:00\",\"1971-04-01T00:00:00\",\"1971-07-01T00:00:00\",\"1971-10-01T00:00:00\",\"1972-01-01T00:00:00\",\"1972-04-01T00:00:00\",\"1972-07-01T00:00:00\",\"1972-10-01T00:00:00\",\"1973-01-01T00:00:00\",\"1973-04-01T00:00:00\",\"1973-07-01T00:00:00\",\"1973-10-01T00:00:00\",\"1974-01-01T00:00:00\",\"1974-04-01T00:00:00\",\"1974-07-01T00:00:00\",\"1974-10-01T00:00:00\",\"1975-01-01T00:00:00\",\"1975-04-01T00:00:00\",\"1975-07-01T00:00:00\",\"1975-10-01T00:00:00\",\"1976-01-01T00:00:00\",\"1976-04-01T00:00:00\",\"1976-07-01T00:00:00\",\"1976-10-01T00:00:00\",\"1977-01-01T00:00:00\",\"1977-04-01T00:00:00\",\"1977-07-01T00:00:00\",\"1977-10-01T00:00:00\",\"1978-01-01T00:00:00\",\"1978-04-01T00:00:00\",\"1978-07-01T00:00:00\",\"1978-10-01T00:00:00\",\"1979-01-01T00:00:00\",\"1979-04-01T00:00:00\",\"1979-07-01T00:00:00\",\"1979-10-01T00:00:00\",\"1980-01-01T00:00:00\",\"1980-04-01T00:00:00\",\"1980-07-01T00:00:00\",\"1980-10-01T00:00:00\",\"1981-01-01T00:00:00\",\"1981-04-01T00:00:00\",\"1981-07-01T00:00:00\",\"1981-10-01T00:00:00\",\"1982-01-01T00:00:00\",\"1982-04-01T00:00:00\",\"1982-07-01T00:00:00\",\"1982-10-01T00:00:00\",\"1983-01-01T00:00:00\",\"1983-04-01T00:00:00\",\"1983-07-01T00:00:00\",\"1983-10-01T00:00:00\",\"1984-01-01T00:00:00\",\"1984-04-01T00:00:00\",\"1984-07-01T00:00:00\",\"1984-10-01T00:00:00\",\"1985-01-01T00:00:00\",\"1985-04-01T00:00:00\",\"1985-07-01T00:00:00\",\"1985-10-01T00:00:00\",\"1986-01-01T00:00:00\",\"1986-04-01T00:00:00\",\"1986-07-01T00:00:00\",\"1986-10-01T00:00:00\",\"1987-01-01T00:00:00\",\"1987-04-01T00:00:00\",\"1987-07-01T00:00:00\",\"1987-10-01T00:00:00\",\"1988-01-01T00:00:00\",\"1988-04-01T00:00:00\",\"1988-07-01T00:00:00\",\"1988-10-01T00:00:00\",\"1989-01-01T00:00:00\",\"1989-04-01T00:00:00\",\"1989-07-01T00:00:00\",\"1989-10-01T00:00:00\",\"1990-01-01T00:00:00\",\"1990-04-01T00:00:00\",\"1990-07-01T00:00:00\",\"1990-10-01T00:00:00\",\"1991-01-01T00:00:00\",\"1991-04-01T00:00:00\",\"1991-07-01T00:00:00\",\"1991-10-01T00:00:00\",\"1992-01-01T00:00:00\",\"1992-04-01T00:00:00\",\"1992-07-01T00:00:00\",\"1992-10-01T00:00:00\",\"1993-01-01T00:00:00\",\"1993-04-01T00:00:00\",\"1993-07-01T00:00:00\",\"1993-10-01T00:00:00\",\"1994-01-01T00:00:00\",\"1994-04-01T00:00:00\",\"1994-07-01T00:00:00\",\"1994-10-01T00:00:00\",\"1995-01-01T00:00:00\",\"1995-04-01T00:00:00\",\"1995-07-01T00:00:00\",\"1995-10-01T00:00:00\",\"1996-01-01T00:00:00\",\"1996-04-01T00:00:00\",\"1996-07-01T00:00:00\",\"1996-10-01T00:00:00\",\"1997-01-01T00:00:00\",\"1997-04-01T00:00:00\",\"1997-07-01T00:00:00\",\"1997-10-01T00:00:00\",\"1998-01-01T00:00:00\",\"1998-04-01T00:00:00\",\"1998-07-01T00:00:00\",\"1998-10-01T00:00:00\",\"1999-01-01T00:00:00\",\"1999-04-01T00:00:00\",\"1999-07-01T00:00:00\",\"1999-10-01T00:00:00\",\"2000-01-01T00:00:00\",\"2000-04-01T00:00:00\",\"2000-07-01T00:00:00\",\"2000-10-01T00:00:00\",\"2001-01-01T00:00:00\",\"2001-04-01T00:00:00\",\"2001-07-01T00:00:00\",\"2001-10-01T00:00:00\",\"2002-01-01T00:00:00\",\"2002-04-01T00:00:00\",\"2002-07-01T00:00:00\",\"2002-10-01T00:00:00\",\"2003-01-01T00:00:00\",\"2003-04-01T00:00:00\",\"2003-07-01T00:00:00\",\"2003-10-01T00:00:00\",\"2004-01-01T00:00:00\",\"2004-04-01T00:00:00\",\"2004-07-01T00:00:00\",\"2004-10-01T00:00:00\",\"2005-01-01T00:00:00\",\"2005-04-01T00:00:00\",\"2005-07-01T00:00:00\",\"2005-10-01T00:00:00\",\"2006-01-01T00:00:00\",\"2006-04-01T00:00:00\",\"2006-07-01T00:00:00\",\"2006-10-01T00:00:00\",\"2007-01-01T00:00:00\",\"2007-04-01T00:00:00\",\"2007-07-01T00:00:00\",\"2007-10-01T00:00:00\",\"2008-01-01T00:00:00\",\"2008-04-01T00:00:00\",\"2008-07-01T00:00:00\",\"2008-10-01T00:00:00\",\"2009-01-01T00:00:00\",\"2009-04-01T00:00:00\",\"2009-07-01T00:00:00\",\"2009-10-01T00:00:00\",\"2010-01-01T00:00:00\",\"2010-04-01T00:00:00\",\"2010-07-01T00:00:00\",\"2010-10-01T00:00:00\",\"2011-01-01T00:00:00\",\"2011-04-01T00:00:00\",\"2011-07-01T00:00:00\",\"2011-10-01T00:00:00\",\"2012-01-01T00:00:00\",\"2012-04-01T00:00:00\",\"2012-07-01T00:00:00\"],\"y\":[null,null,null,null,null,null,null,null,null,null,null,null,null,null,null,null,null,null,null,null,null,null,null,null,null,null,null,null,null,null,null,null,null,null,null,null,null,null,null,null,null,null,null,null,null,null,null,null,null,null,null,null,null,null,null,null,null,null,null,null,null,null,null,null,null,null,null,null,null,null,null,null,null,null,null,null,null,null,null,null,null,null,null,null,null,null,null,null,null,null,null,null,null,null,null,null,null,null,null,null,null,null,null,null,null,null,null,null,null,null,null,null,null,null,null,null,null,null,null,null,null,null,null,null,null,null,null,null,null,null,null,null,null,null,null,null,null,null,null,null,null,null,null,null,null,null,null,null,null,null,null,null,null,null,null,null,null,null,null,null,null,null,null,null,null,null,null,null,null,null,null,null,null,null,null,null,null,null,null,185.625,186.6086,187.5555,188.2997,189.2846,190.2322,190.9743,191.9606,192.909,193.649,194.6366,195.5858,196.3237,197.3126,198.2626,198.9983,199.9886,200.9393,201.673,202.6645,203.6161,204.3477,205.3405,206.2929,207.0224,208.0165,208.9696,209.697,210.6925,211.6464,212.3717,213.3685,214.3232,215.0464,216.0445,217.0],\"type\":\"scattergl\",\"xaxis\":\"x\",\"yaxis\":\"y\"}],                        {\"template\":{\"data\":{\"barpolar\":[{\"marker\":{\"line\":{\"color\":\"rgb(237,237,237)\",\"width\":0.5},\"pattern\":{\"fillmode\":\"overlay\",\"size\":10,\"solidity\":0.2}},\"type\":\"barpolar\"}],\"bar\":[{\"error_x\":{\"color\":\"rgb(51,51,51)\"},\"error_y\":{\"color\":\"rgb(51,51,51)\"},\"marker\":{\"line\":{\"color\":\"rgb(237,237,237)\",\"width\":0.5},\"pattern\":{\"fillmode\":\"overlay\",\"size\":10,\"solidity\":0.2}},\"type\":\"bar\"}],\"carpet\":[{\"aaxis\":{\"endlinecolor\":\"rgb(51,51,51)\",\"gridcolor\":\"white\",\"linecolor\":\"white\",\"minorgridcolor\":\"white\",\"startlinecolor\":\"rgb(51,51,51)\"},\"baxis\":{\"endlinecolor\":\"rgb(51,51,51)\",\"gridcolor\":\"white\",\"linecolor\":\"white\",\"minorgridcolor\":\"white\",\"startlinecolor\":\"rgb(51,51,51)\"},\"type\":\"carpet\"}],\"choropleth\":[{\"colorbar\":{\"outlinewidth\":0,\"tickcolor\":\"rgb(237,237,237)\",\"ticklen\":6,\"ticks\":\"inside\"},\"type\":\"choropleth\"}],\"contourcarpet\":[{\"colorbar\":{\"outlinewidth\":0,\"tickcolor\":\"rgb(237,237,237)\",\"ticklen\":6,\"ticks\":\"inside\"},\"type\":\"contourcarpet\"}],\"contour\":[{\"colorbar\":{\"outlinewidth\":0,\"tickcolor\":\"rgb(237,237,237)\",\"ticklen\":6,\"ticks\":\"inside\"},\"colorscale\":[[0,\"rgb(20,44,66)\"],[1,\"rgb(90,179,244)\"]],\"type\":\"contour\"}],\"heatmapgl\":[{\"colorbar\":{\"outlinewidth\":0,\"tickcolor\":\"rgb(237,237,237)\",\"ticklen\":6,\"ticks\":\"inside\"},\"colorscale\":[[0,\"rgb(20,44,66)\"],[1,\"rgb(90,179,244)\"]],\"type\":\"heatmapgl\"}],\"heatmap\":[{\"colorbar\":{\"outlinewidth\":0,\"tickcolor\":\"rgb(237,237,237)\",\"ticklen\":6,\"ticks\":\"inside\"},\"colorscale\":[[0,\"rgb(20,44,66)\"],[1,\"rgb(90,179,244)\"]],\"type\":\"heatmap\"}],\"histogram2dcontour\":[{\"colorbar\":{\"outlinewidth\":0,\"tickcolor\":\"rgb(237,237,237)\",\"ticklen\":6,\"ticks\":\"inside\"},\"colorscale\":[[0,\"rgb(20,44,66)\"],[1,\"rgb(90,179,244)\"]],\"type\":\"histogram2dcontour\"}],\"histogram2d\":[{\"colorbar\":{\"outlinewidth\":0,\"tickcolor\":\"rgb(237,237,237)\",\"ticklen\":6,\"ticks\":\"inside\"},\"colorscale\":[[0,\"rgb(20,44,66)\"],[1,\"rgb(90,179,244)\"]],\"type\":\"histogram2d\"}],\"histogram\":[{\"marker\":{\"pattern\":{\"fillmode\":\"overlay\",\"size\":10,\"solidity\":0.2}},\"type\":\"histogram\"}],\"mesh3d\":[{\"colorbar\":{\"outlinewidth\":0,\"tickcolor\":\"rgb(237,237,237)\",\"ticklen\":6,\"ticks\":\"inside\"},\"type\":\"mesh3d\"}],\"parcoords\":[{\"line\":{\"colorbar\":{\"outlinewidth\":0,\"tickcolor\":\"rgb(237,237,237)\",\"ticklen\":6,\"ticks\":\"inside\"}},\"type\":\"parcoords\"}],\"pie\":[{\"automargin\":true,\"type\":\"pie\"}],\"scatter3d\":[{\"line\":{\"colorbar\":{\"outlinewidth\":0,\"tickcolor\":\"rgb(237,237,237)\",\"ticklen\":6,\"ticks\":\"inside\"}},\"marker\":{\"colorbar\":{\"outlinewidth\":0,\"tickcolor\":\"rgb(237,237,237)\",\"ticklen\":6,\"ticks\":\"inside\"}},\"type\":\"scatter3d\"}],\"scattercarpet\":[{\"marker\":{\"colorbar\":{\"outlinewidth\":0,\"tickcolor\":\"rgb(237,237,237)\",\"ticklen\":6,\"ticks\":\"inside\"}},\"type\":\"scattercarpet\"}],\"scattergeo\":[{\"marker\":{\"colorbar\":{\"outlinewidth\":0,\"tickcolor\":\"rgb(237,237,237)\",\"ticklen\":6,\"ticks\":\"inside\"}},\"type\":\"scattergeo\"}],\"scattergl\":[{\"marker\":{\"colorbar\":{\"outlinewidth\":0,\"tickcolor\":\"rgb(237,237,237)\",\"ticklen\":6,\"ticks\":\"inside\"}},\"type\":\"scattergl\"}],\"scattermapbox\":[{\"marker\":{\"colorbar\":{\"outlinewidth\":0,\"tickcolor\":\"rgb(237,237,237)\",\"ticklen\":6,\"ticks\":\"inside\"}},\"type\":\"scattermapbox\"}],\"scatterpolargl\":[{\"marker\":{\"colorbar\":{\"outlinewidth\":0,\"tickcolor\":\"rgb(237,237,237)\",\"ticklen\":6,\"ticks\":\"inside\"}},\"type\":\"scatterpolargl\"}],\"scatterpolar\":[{\"marker\":{\"colorbar\":{\"outlinewidth\":0,\"tickcolor\":\"rgb(237,237,237)\",\"ticklen\":6,\"ticks\":\"inside\"}},\"type\":\"scatterpolar\"}],\"scatter\":[{\"fillpattern\":{\"fillmode\":\"overlay\",\"size\":10,\"solidity\":0.2},\"type\":\"scatter\"}],\"scatterternary\":[{\"marker\":{\"colorbar\":{\"outlinewidth\":0,\"tickcolor\":\"rgb(237,237,237)\",\"ticklen\":6,\"ticks\":\"inside\"}},\"type\":\"scatterternary\"}],\"surface\":[{\"colorbar\":{\"outlinewidth\":0,\"tickcolor\":\"rgb(237,237,237)\",\"ticklen\":6,\"ticks\":\"inside\"},\"colorscale\":[[0,\"rgb(20,44,66)\"],[1,\"rgb(90,179,244)\"]],\"type\":\"surface\"}],\"table\":[{\"cells\":{\"fill\":{\"color\":\"rgb(237,237,237)\"},\"line\":{\"color\":\"white\"}},\"header\":{\"fill\":{\"color\":\"rgb(217,217,217)\"},\"line\":{\"color\":\"white\"}},\"type\":\"table\"}]},\"layout\":{\"annotationdefaults\":{\"arrowhead\":0,\"arrowwidth\":1},\"autotypenumbers\":\"strict\",\"coloraxis\":{\"colorbar\":{\"outlinewidth\":0,\"tickcolor\":\"rgb(237,237,237)\",\"ticklen\":6,\"ticks\":\"inside\"}},\"colorscale\":{\"sequential\":[[0,\"rgb(20,44,66)\"],[1,\"rgb(90,179,244)\"]],\"sequentialminus\":[[0,\"rgb(20,44,66)\"],[1,\"rgb(90,179,244)\"]]},\"colorway\":[\"#F8766D\",\"#A3A500\",\"#00BF7D\",\"#00B0F6\",\"#E76BF3\"],\"font\":{\"color\":\"rgb(51,51,51)\"},\"geo\":{\"bgcolor\":\"white\",\"lakecolor\":\"white\",\"landcolor\":\"rgb(237,237,237)\",\"showlakes\":true,\"showland\":true,\"subunitcolor\":\"white\"},\"hoverlabel\":{\"align\":\"left\"},\"hovermode\":\"closest\",\"paper_bgcolor\":\"white\",\"plot_bgcolor\":\"rgb(237,237,237)\",\"polar\":{\"angularaxis\":{\"gridcolor\":\"white\",\"linecolor\":\"white\",\"showgrid\":true,\"tickcolor\":\"rgb(51,51,51)\",\"ticks\":\"outside\"},\"bgcolor\":\"rgb(237,237,237)\",\"radialaxis\":{\"gridcolor\":\"white\",\"linecolor\":\"white\",\"showgrid\":true,\"tickcolor\":\"rgb(51,51,51)\",\"ticks\":\"outside\"}},\"scene\":{\"xaxis\":{\"backgroundcolor\":\"rgb(237,237,237)\",\"gridcolor\":\"white\",\"gridwidth\":2,\"linecolor\":\"white\",\"showbackground\":true,\"showgrid\":true,\"tickcolor\":\"rgb(51,51,51)\",\"ticks\":\"outside\",\"zerolinecolor\":\"white\"},\"yaxis\":{\"backgroundcolor\":\"rgb(237,237,237)\",\"gridcolor\":\"white\",\"gridwidth\":2,\"linecolor\":\"white\",\"showbackground\":true,\"showgrid\":true,\"tickcolor\":\"rgb(51,51,51)\",\"ticks\":\"outside\",\"zerolinecolor\":\"white\"},\"zaxis\":{\"backgroundcolor\":\"rgb(237,237,237)\",\"gridcolor\":\"white\",\"gridwidth\":2,\"linecolor\":\"white\",\"showbackground\":true,\"showgrid\":true,\"tickcolor\":\"rgb(51,51,51)\",\"ticks\":\"outside\",\"zerolinecolor\":\"white\"}},\"shapedefaults\":{\"fillcolor\":\"black\",\"line\":{\"width\":0},\"opacity\":0.3},\"ternary\":{\"aaxis\":{\"gridcolor\":\"white\",\"linecolor\":\"white\",\"showgrid\":true,\"tickcolor\":\"rgb(51,51,51)\",\"ticks\":\"outside\"},\"baxis\":{\"gridcolor\":\"white\",\"linecolor\":\"white\",\"showgrid\":true,\"tickcolor\":\"rgb(51,51,51)\",\"ticks\":\"outside\"},\"bgcolor\":\"rgb(237,237,237)\",\"caxis\":{\"gridcolor\":\"white\",\"linecolor\":\"white\",\"showgrid\":true,\"tickcolor\":\"rgb(51,51,51)\",\"ticks\":\"outside\"}},\"xaxis\":{\"automargin\":true,\"gridcolor\":\"white\",\"linecolor\":\"white\",\"showgrid\":true,\"tickcolor\":\"rgb(51,51,51)\",\"ticks\":\"outside\",\"title\":{\"standoff\":15},\"zerolinecolor\":\"white\"},\"yaxis\":{\"automargin\":true,\"gridcolor\":\"white\",\"linecolor\":\"white\",\"showgrid\":true,\"tickcolor\":\"rgb(51,51,51)\",\"ticks\":\"outside\",\"title\":{\"standoff\":15},\"zerolinecolor\":\"white\"}}},\"xaxis\":{\"anchor\":\"y\",\"domain\":[0.0,1.0]},\"yaxis\":{\"anchor\":\"x\",\"domain\":[0.0,1.0]},\"showlegend\":true,\"title\":{\"text\":\"Actual vs. Forecast (Out-of-Sample)\"}},                        {\"responsive\": true}                    ).then(function(){\n",
              "                            \n",
              "var gd = document.getElementById('7117ad08-2963-4b54-b4ba-d39bcaf692d0');\n",
              "var x = new MutationObserver(function (mutations, observer) {{\n",
              "        var display = window.getComputedStyle(gd).display;\n",
              "        if (!display || display === 'none') {{\n",
              "            console.log([gd, 'removed!']);\n",
              "            Plotly.purge(gd);\n",
              "            observer.disconnect();\n",
              "        }}\n",
              "}});\n",
              "\n",
              "// Listen for the removal of the full notebook cells\n",
              "var notebookContainer = gd.closest('#notebook-container');\n",
              "if (notebookContainer) {{\n",
              "    x.observe(notebookContainer, {childList: true});\n",
              "}}\n",
              "\n",
              "// Listen for the clearing of the current output cell\n",
              "var outputEl = gd.closest('.output');\n",
              "if (outputEl) {{\n",
              "    x.observe(outputEl, {childList: true});\n",
              "}}\n",
              "\n",
              "                        })                };                            </script>        </div>\n",
              "</body>\n",
              "</html>"
            ]
          },
          "metadata": {},
          "output_type": "display_data"
        }
      ],
      "source": [
        "exp.plot_model([ses, ht, hw_add, hw_mul], plot='forecast', data_kwargs={'fh':36, 'labels':[\"SES\", \"Holt\", \"Holt-Winters Add\", \"Holt-Winters Mul\"]})\n"
      ]
    },
    {
      "cell_type": "markdown",
      "metadata": {
        "id": "sEaUaQZNKx2_"
      },
      "source": [
        "## 11. Can our best model outperform a naive forecast?"
      ]
    },
    {
      "cell_type": "code",
      "execution_count": null,
      "metadata": {
        "colab": {
          "base_uri": "https://localhost:8080/",
          "height": 327,
          "referenced_widgets": [
            "4f29a02a298f4c5b89cbe6903ddae70b",
            "200fd35d23534eac868e4c1b1e728b63",
            "6e06aa7f53d04329a69caaa07c1ed8cf",
            "9840985a42264af2ab2762308f6a828c",
            "d682c3b47de34727a2ffdcf203ff8fc1",
            "36dfca6054014c399d8f9de75d2121dd",
            "ea7c76d179c04fcfbe85905f6f18d8ef",
            "a74f53a4231c4c408af5b1127a8753b6",
            "2fdbe9a5c53b4ad18d83c2f466fc3323",
            "14d1ba83291f4f9c8d34f8120c6d4299",
            "761962f310f1475ca36648b0d6f2cc54",
            "44b9c9194582439097020588e2ba3aa9",
            "f0e04fe86312493fb2f7cedcdee64d7b",
            "c59277bc3b804d4fa5f495ba6ae68e87",
            "49d268023309469f8399f2d513e1129d",
            "9a1d2bfc28a34bf89c0356089b3876d0",
            "3e3c5ba55a2c4b7081d675d8342a6404",
            "e44e2d128b0343a2926b95693c089477",
            "c507a9e61e734820a9f1ea3d26413f4f",
            "c38fa77c63994e7a80d793a1ebb977fb",
            "3efb4ca388094c6fb597db14f4194128",
            "c25cc1736c8d4439b18b130822c70d10"
          ]
        },
        "id": "uiCJkO68KxNh",
        "outputId": "c75d3862-4d47-40aa-8b66-c151d1974bc1"
      },
      "outputs": [
        {
          "data": {
            "text/html": [],
            "text/plain": [
              "<IPython.core.display.HTML object>"
            ]
          },
          "metadata": {},
          "output_type": "display_data"
        },
        {
          "data": {
            "text/html": [
              "<style type=\"text/css\">\n",
              "</style>\n",
              "<table id=\"T_69183\" class=\"dataframe\">\n",
              "  <thead>\n",
              "    <tr>\n",
              "      <th class=\"blank level0\" >&nbsp;</th>\n",
              "      <th id=\"T_69183_level0_col0\" class=\"col_heading level0 col0\" >MASE</th>\n",
              "      <th id=\"T_69183_level0_col1\" class=\"col_heading level0 col1\" >RMSSE</th>\n",
              "      <th id=\"T_69183_level0_col2\" class=\"col_heading level0 col2\" >MAE</th>\n",
              "      <th id=\"T_69183_level0_col3\" class=\"col_heading level0 col3\" >RMSE</th>\n",
              "      <th id=\"T_69183_level0_col4\" class=\"col_heading level0 col4\" >MAPE</th>\n",
              "      <th id=\"T_69183_level0_col5\" class=\"col_heading level0 col5\" >SMAPE</th>\n",
              "      <th id=\"T_69183_level0_col6\" class=\"col_heading level0 col6\" >R2</th>\n",
              "    </tr>\n",
              "  </thead>\n",
              "  <tbody>\n",
              "    <tr>\n",
              "      <th id=\"T_69183_level0_row0\" class=\"row_heading level0 row0\" >Test</th>\n",
              "      <td id=\"T_69183_row0_col0\" class=\"data row0 col0\" >7.0101</td>\n",
              "      <td id=\"T_69183_row0_col1\" class=\"data row0 col1\" >6.6746</td>\n",
              "      <td id=\"T_69183_row0_col2\" class=\"data row0 col2\" >18.4940</td>\n",
              "      <td id=\"T_69183_row0_col3\" class=\"data row0 col3\" >20.9995</td>\n",
              "      <td id=\"T_69183_row0_col4\" class=\"data row0 col4\" >0.0887</td>\n",
              "      <td id=\"T_69183_row0_col5\" class=\"data row0 col5\" >0.0940</td>\n",
              "      <td id=\"T_69183_row0_col6\" class=\"data row0 col6\" >-3.4564</td>\n",
              "    </tr>\n",
              "  </tbody>\n",
              "</table>\n"
            ],
            "text/plain": [
              "<pandas.io.formats.style.Styler at 0x798a77bd3c50>"
            ]
          },
          "metadata": {},
          "output_type": "display_data"
        },
        {
          "data": {
            "application/vnd.jupyter.widget-view+json": {
              "model_id": "4f29a02a298f4c5b89cbe6903ddae70b",
              "version_major": 2,
              "version_minor": 0
            },
            "text/plain": [
              "Processing:   0%|          | 0/4 [00:00<?, ?it/s]"
            ]
          },
          "metadata": {
            "application/vnd.jupyter.widget-view+json": {
              "colab": {
                "custom_widget_manager": {
                  "url": "https://ssl.gstatic.com/colaboratory-static/widgets/colab-cdn-widget-manager/2b70e893a8ba7c0f/manager.min.js"
                }
              }
            }
          },
          "output_type": "display_data"
        },
        {
          "data": {
            "text/html": [],
            "text/plain": [
              "<IPython.core.display.HTML object>"
            ]
          },
          "metadata": {},
          "output_type": "display_data"
        },
        {
          "data": {
            "text/html": [],
            "text/plain": [
              "<IPython.core.display.HTML object>"
            ]
          },
          "metadata": {},
          "output_type": "display_data"
        },
        {
          "data": {
            "text/html": [
              "<style type=\"text/css\">\n",
              "#T_a77e0 th {\n",
              "  text-align: left;\n",
              "}\n",
              "#T_a77e0_row0_col0, #T_a77e0_row1_col0, #T_a77e0_row1_col1, #T_a77e0_row1_col2, #T_a77e0_row1_col3, #T_a77e0_row1_col4, #T_a77e0_row1_col5, #T_a77e0_row1_col6, #T_a77e0_row1_col7, #T_a77e0_row2_col0, #T_a77e0_row2_col1, #T_a77e0_row2_col2, #T_a77e0_row2_col3, #T_a77e0_row2_col4, #T_a77e0_row2_col5, #T_a77e0_row2_col6, #T_a77e0_row2_col7, #T_a77e0_row3_col0, #T_a77e0_row3_col1, #T_a77e0_row3_col2, #T_a77e0_row3_col3, #T_a77e0_row3_col4, #T_a77e0_row3_col5, #T_a77e0_row3_col6, #T_a77e0_row3_col7, #T_a77e0_row4_col0, #T_a77e0_row4_col1, #T_a77e0_row4_col2, #T_a77e0_row4_col3, #T_a77e0_row4_col4, #T_a77e0_row4_col5, #T_a77e0_row4_col6, #T_a77e0_row4_col7 {\n",
              "  text-align: left;\n",
              "}\n",
              "#T_a77e0_row0_col1, #T_a77e0_row0_col2, #T_a77e0_row0_col3, #T_a77e0_row0_col4, #T_a77e0_row0_col5, #T_a77e0_row0_col6, #T_a77e0_row0_col7 {\n",
              "  text-align: left;\n",
              "  background-color: yellow;\n",
              "}\n",
              "#T_a77e0_row0_col8, #T_a77e0_row1_col8, #T_a77e0_row2_col8 {\n",
              "  text-align: left;\n",
              "  background-color: lightgrey;\n",
              "}\n",
              "#T_a77e0_row3_col8, #T_a77e0_row4_col8 {\n",
              "  text-align: left;\n",
              "  background-color: yellow;\n",
              "  background-color: lightgrey;\n",
              "}\n",
              "</style>\n",
              "<table id=\"T_a77e0\" class=\"dataframe\">\n",
              "  <thead>\n",
              "    <tr>\n",
              "      <th class=\"blank level0\" >&nbsp;</th>\n",
              "      <th id=\"T_a77e0_level0_col0\" class=\"col_heading level0 col0\" >Model</th>\n",
              "      <th id=\"T_a77e0_level0_col1\" class=\"col_heading level0 col1\" >MASE</th>\n",
              "      <th id=\"T_a77e0_level0_col2\" class=\"col_heading level0 col2\" >RMSSE</th>\n",
              "      <th id=\"T_a77e0_level0_col3\" class=\"col_heading level0 col3\" >MAE</th>\n",
              "      <th id=\"T_a77e0_level0_col4\" class=\"col_heading level0 col4\" >RMSE</th>\n",
              "      <th id=\"T_a77e0_level0_col5\" class=\"col_heading level0 col5\" >MAPE</th>\n",
              "      <th id=\"T_a77e0_level0_col6\" class=\"col_heading level0 col6\" >SMAPE</th>\n",
              "      <th id=\"T_a77e0_level0_col7\" class=\"col_heading level0 col7\" >R2</th>\n",
              "      <th id=\"T_a77e0_level0_col8\" class=\"col_heading level0 col8\" >TT (Sec)</th>\n",
              "    </tr>\n",
              "  </thead>\n",
              "  <tbody>\n",
              "    <tr>\n",
              "      <th id=\"T_a77e0_level0_row0\" class=\"row_heading level0 row0\" >1</th>\n",
              "      <td id=\"T_a77e0_row0_col0\" class=\"data row0 col0\" >Exponential Smoothing</td>\n",
              "      <td id=\"T_a77e0_row0_col1\" class=\"data row0 col1\" >2.6604</td>\n",
              "      <td id=\"T_a77e0_row0_col2\" class=\"data row0 col2\" >2.5729</td>\n",
              "      <td id=\"T_a77e0_row0_col3\" class=\"data row0 col3\" >7.0187</td>\n",
              "      <td id=\"T_a77e0_row0_col4\" class=\"data row0 col4\" >8.0947</td>\n",
              "      <td id=\"T_a77e0_row0_col5\" class=\"data row0 col5\" >0.0337</td>\n",
              "      <td id=\"T_a77e0_row0_col6\" class=\"data row0 col6\" >0.0344</td>\n",
              "      <td id=\"T_a77e0_row0_col7\" class=\"data row0 col7\" >0.3378</td>\n",
              "      <td id=\"T_a77e0_row0_col8\" class=\"data row0 col8\" >0.0400</td>\n",
              "    </tr>\n",
              "    <tr>\n",
              "      <th id=\"T_a77e0_level0_row1\" class=\"row_heading level0 row1\" >2</th>\n",
              "      <td id=\"T_a77e0_row1_col0\" class=\"data row1 col0\" >Exponential Smoothing</td>\n",
              "      <td id=\"T_a77e0_row1_col1\" class=\"data row1 col1\" >2.7001</td>\n",
              "      <td id=\"T_a77e0_row1_col2\" class=\"data row1 col2\" >2.6076</td>\n",
              "      <td id=\"T_a77e0_row1_col3\" class=\"data row1 col3\" >7.1233</td>\n",
              "      <td id=\"T_a77e0_row1_col4\" class=\"data row1 col4\" >8.2041</td>\n",
              "      <td id=\"T_a77e0_row1_col5\" class=\"data row1 col5\" >0.0342</td>\n",
              "      <td id=\"T_a77e0_row1_col6\" class=\"data row1 col6\" >0.0350</td>\n",
              "      <td id=\"T_a77e0_row1_col7\" class=\"data row1 col7\" >0.3198</td>\n",
              "      <td id=\"T_a77e0_row1_col8\" class=\"data row1 col8\" >0.1100</td>\n",
              "    </tr>\n",
              "    <tr>\n",
              "      <th id=\"T_a77e0_level0_row2\" class=\"row_heading level0 row2\" >3</th>\n",
              "      <td id=\"T_a77e0_row2_col0\" class=\"data row2 col0\" >Exponential Smoothing</td>\n",
              "      <td id=\"T_a77e0_row2_col1\" class=\"data row2 col1\" >2.8172</td>\n",
              "      <td id=\"T_a77e0_row2_col2\" class=\"data row2 col2\" >2.7121</td>\n",
              "      <td id=\"T_a77e0_row2_col3\" class=\"data row2 col3\" >7.4323</td>\n",
              "      <td id=\"T_a77e0_row2_col4\" class=\"data row2 col4\" >8.5326</td>\n",
              "      <td id=\"T_a77e0_row2_col5\" class=\"data row2 col5\" >0.0357</td>\n",
              "      <td id=\"T_a77e0_row2_col6\" class=\"data row2 col6\" >0.0365</td>\n",
              "      <td id=\"T_a77e0_row2_col7\" class=\"data row2 col7\" >0.2642</td>\n",
              "      <td id=\"T_a77e0_row2_col8\" class=\"data row2 col8\" >0.1300</td>\n",
              "    </tr>\n",
              "    <tr>\n",
              "      <th id=\"T_a77e0_level0_row3\" class=\"row_heading level0 row3\" >0</th>\n",
              "      <td id=\"T_a77e0_row3_col0\" class=\"data row3 col0\" >Exponential Smoothing</td>\n",
              "      <td id=\"T_a77e0_row3_col1\" class=\"data row3 col1\" >7.0101</td>\n",
              "      <td id=\"T_a77e0_row3_col2\" class=\"data row3 col2\" >6.6746</td>\n",
              "      <td id=\"T_a77e0_row3_col3\" class=\"data row3 col3\" >18.4940</td>\n",
              "      <td id=\"T_a77e0_row3_col4\" class=\"data row3 col4\" >20.9995</td>\n",
              "      <td id=\"T_a77e0_row3_col5\" class=\"data row3 col5\" >0.0887</td>\n",
              "      <td id=\"T_a77e0_row3_col6\" class=\"data row3 col6\" >0.0940</td>\n",
              "      <td id=\"T_a77e0_row3_col7\" class=\"data row3 col7\" >-3.4564</td>\n",
              "      <td id=\"T_a77e0_row3_col8\" class=\"data row3 col8\" >0.0200</td>\n",
              "    </tr>\n",
              "    <tr>\n",
              "      <th id=\"T_a77e0_level0_row4\" class=\"row_heading level0 row4\" >4</th>\n",
              "      <td id=\"T_a77e0_row4_col0\" class=\"data row4 col0\" >Naive Forecaster</td>\n",
              "      <td id=\"T_a77e0_row4_col1\" class=\"data row4 col1\" >7.0101</td>\n",
              "      <td id=\"T_a77e0_row4_col2\" class=\"data row4 col2\" >6.6746</td>\n",
              "      <td id=\"T_a77e0_row4_col3\" class=\"data row4 col3\" >18.4940</td>\n",
              "      <td id=\"T_a77e0_row4_col4\" class=\"data row4 col4\" >20.9995</td>\n",
              "      <td id=\"T_a77e0_row4_col5\" class=\"data row4 col5\" >0.0887</td>\n",
              "      <td id=\"T_a77e0_row4_col6\" class=\"data row4 col6\" >0.0940</td>\n",
              "      <td id=\"T_a77e0_row4_col7\" class=\"data row4 col7\" >-3.4564</td>\n",
              "      <td id=\"T_a77e0_row4_col8\" class=\"data row4 col8\" >0.0200</td>\n",
              "    </tr>\n",
              "  </tbody>\n",
              "</table>\n"
            ],
            "text/plain": [
              "<pandas.io.formats.style.Styler at 0x798a766ae710>"
            ]
          },
          "metadata": {},
          "output_type": "display_data"
        },
        {
          "data": {
            "application/vnd.jupyter.widget-view+json": {
              "model_id": "c25cc1736c8d4439b18b130822c70d10",
              "version_major": 2,
              "version_minor": 0
            },
            "text/plain": [
              "Processing:   0%|          | 0/25 [00:00<?, ?it/s]"
            ]
          },
          "metadata": {
            "application/vnd.jupyter.widget-view+json": {
              "colab": {
                "custom_widget_manager": {
                  "url": "https://ssl.gstatic.com/colaboratory-static/widgets/colab-cdn-widget-manager/2b70e893a8ba7c0f/manager.min.js"
                }
              }
            }
          },
          "output_type": "display_data"
        },
        {
          "data": {
            "text/html": [],
            "text/plain": [
              "<IPython.core.display.HTML object>"
            ]
          },
          "metadata": {},
          "output_type": "display_data"
        },
        {
          "data": {
            "text/html": [
              "<style>#sk-19f0454b-68bd-4e28-9572-fdee8ea84285 {color: black;background-color: white;}#sk-19f0454b-68bd-4e28-9572-fdee8ea84285 pre{padding: 0;}#sk-19f0454b-68bd-4e28-9572-fdee8ea84285 div.sk-toggleable {background-color: white;}#sk-19f0454b-68bd-4e28-9572-fdee8ea84285 label.sk-toggleable__label {cursor: pointer;display: block;width: 100%;margin-bottom: 0;padding: 0.3em;box-sizing: border-box;text-align: center;}#sk-19f0454b-68bd-4e28-9572-fdee8ea84285 label.sk-toggleable__label-arrow:before {content: \"▸\";float: left;margin-right: 0.25em;color: #696969;}#sk-19f0454b-68bd-4e28-9572-fdee8ea84285 label.sk-toggleable__label-arrow:hover:before {color: black;}#sk-19f0454b-68bd-4e28-9572-fdee8ea84285 div.sk-estimator:hover label.sk-toggleable__label-arrow:before {color: black;}#sk-19f0454b-68bd-4e28-9572-fdee8ea84285 div.sk-toggleable__content {max-height: 0;max-width: 0;overflow: hidden;text-align: left;background-color: #f0f8ff;}#sk-19f0454b-68bd-4e28-9572-fdee8ea84285 div.sk-toggleable__content pre {margin: 0.2em;color: black;border-radius: 0.25em;background-color: #f0f8ff;}#sk-19f0454b-68bd-4e28-9572-fdee8ea84285 input.sk-toggleable__control:checked~div.sk-toggleable__content {max-height: 200px;max-width: 100%;overflow: auto;}#sk-19f0454b-68bd-4e28-9572-fdee8ea84285 input.sk-toggleable__control:checked~label.sk-toggleable__label-arrow:before {content: \"▾\";}#sk-19f0454b-68bd-4e28-9572-fdee8ea84285 div.sk-estimator input.sk-toggleable__control:checked~label.sk-toggleable__label {background-color: #d4ebff;}#sk-19f0454b-68bd-4e28-9572-fdee8ea84285 div.sk-label input.sk-toggleable__control:checked~label.sk-toggleable__label {background-color: #d4ebff;}#sk-19f0454b-68bd-4e28-9572-fdee8ea84285 input.sk-hidden--visually {border: 0;clip: rect(1px 1px 1px 1px);clip: rect(1px, 1px, 1px, 1px);height: 1px;margin: -1px;overflow: hidden;padding: 0;position: absolute;width: 1px;}#sk-19f0454b-68bd-4e28-9572-fdee8ea84285 div.sk-estimator {font-family: monospace;background-color: #f0f8ff;border: 1px dotted black;border-radius: 0.25em;box-sizing: border-box;margin-bottom: 0.5em;}#sk-19f0454b-68bd-4e28-9572-fdee8ea84285 div.sk-estimator:hover {background-color: #d4ebff;}#sk-19f0454b-68bd-4e28-9572-fdee8ea84285 div.sk-parallel-item::after {content: \"\";width: 100%;border-bottom: 1px solid gray;flex-grow: 1;}#sk-19f0454b-68bd-4e28-9572-fdee8ea84285 div.sk-label:hover label.sk-toggleable__label {background-color: #d4ebff;}#sk-19f0454b-68bd-4e28-9572-fdee8ea84285 div.sk-serial::before {content: \"\";position: absolute;border-left: 1px solid gray;box-sizing: border-box;top: 2em;bottom: 0;left: 50%;}#sk-19f0454b-68bd-4e28-9572-fdee8ea84285 div.sk-serial {display: flex;flex-direction: column;align-items: center;background-color: white;padding-right: 0.2em;padding-left: 0.2em;}#sk-19f0454b-68bd-4e28-9572-fdee8ea84285 div.sk-item {z-index: 1;}#sk-19f0454b-68bd-4e28-9572-fdee8ea84285 div.sk-parallel {display: flex;align-items: stretch;justify-content: center;background-color: white;}#sk-19f0454b-68bd-4e28-9572-fdee8ea84285 div.sk-parallel::before {content: \"\";position: absolute;border-left: 1px solid gray;box-sizing: border-box;top: 2em;bottom: 0;left: 50%;}#sk-19f0454b-68bd-4e28-9572-fdee8ea84285 div.sk-parallel-item {display: flex;flex-direction: column;position: relative;background-color: white;}#sk-19f0454b-68bd-4e28-9572-fdee8ea84285 div.sk-parallel-item:first-child::after {align-self: flex-end;width: 50%;}#sk-19f0454b-68bd-4e28-9572-fdee8ea84285 div.sk-parallel-item:last-child::after {align-self: flex-start;width: 50%;}#sk-19f0454b-68bd-4e28-9572-fdee8ea84285 div.sk-parallel-item:only-child::after {width: 0;}#sk-19f0454b-68bd-4e28-9572-fdee8ea84285 div.sk-dashed-wrapped {border: 1px dashed gray;margin: 0 0.4em 0.5em 0.4em;box-sizing: border-box;padding-bottom: 0.4em;background-color: white;position: relative;}#sk-19f0454b-68bd-4e28-9572-fdee8ea84285 div.sk-label label {font-family: monospace;font-weight: bold;background-color: white;display: inline-block;line-height: 1.2em;}#sk-19f0454b-68bd-4e28-9572-fdee8ea84285 div.sk-label-container {position: relative;z-index: 2;text-align: center;}#sk-19f0454b-68bd-4e28-9572-fdee8ea84285 div.sk-container {/* jupyter's `normalize.less` sets `[hidden] { display: none; }` but bootstrap.min.css set `[hidden] { display: none !important; }` so we also need the `!important` here to be able to override the default hidden behavior on the sphinx rendered scikit-learn.org. See: https://github.com/scikit-learn/scikit-learn/issues/21755 */display: inline-block !important;position: relative;}#sk-19f0454b-68bd-4e28-9572-fdee8ea84285 div.sk-text-repr-fallback {display: none;}</style><div id='sk-19f0454b-68bd-4e28-9572-fdee8ea84285' class=\"sk-top-container\"><div class=\"sk-text-repr-fallback\"><pre>ExponentialSmoothing(trend=&#x27;add&#x27;)</pre><b>Please rerun this cell to show the HTML repr or trust the notebook.</b></div><div class=\"sk-container\" hidden><div class='sk-item'><div class=\"sk-estimator sk-toggleable\"><input class=\"sk-toggleable__control sk-hidden--visually\" id=UUID('553e372a-91ec-43bc-9a9f-f0c688c06909') type=\"checkbox\" checked><label for=UUID('553e372a-91ec-43bc-9a9f-f0c688c06909') class='sk-toggleable__label sk-toggleable__label-arrow'>ExponentialSmoothing</label><div class=\"sk-toggleable__content\"><pre>ExponentialSmoothing(trend=&#x27;add&#x27;)</pre></div></div></div></div></div>"
            ],
            "text/plain": [
              "ExponentialSmoothing(trend='add')"
            ]
          },
          "execution_count": 71,
          "metadata": {},
          "output_type": "execute_result"
        }
      ],
      "source": [
        "# Create Naive Model\n",
        "naive = exp.create_model('naive', cross_validation=False)\n",
        "\n",
        "# Compare models with naive baseline\n",
        "exp.compare_models(include=[ses, ht, hw_add, hw_mul, naive], cross_validation=False)\n"
      ]
    },
    {
      "cell_type": "markdown",
      "metadata": {
        "id": "srHAvzlzLzcQ"
      },
      "source": [
        "The top model, Holt's Linear Trend, performed better than the naive forecast."
      ]
    },
    {
      "cell_type": "markdown",
      "metadata": {
        "id": "j84wEyiZMHm3"
      },
      "source": [
        "# Part 2- ETS models"
      ]
    },
    {
      "cell_type": "markdown",
      "metadata": {
        "id": "CIJhZMASMX8j"
      },
      "source": [
        "## 1. Create the models\n",
        "Create the following models (again, make sure cross_validation=False for all the models)\n",
        "\n",
        "ETS(A,N,N). What is the hold-out MAPE? How do you interpret MAPE? (5 points)\n",
        "\n",
        "ETS(A,A,N). What is the hold-out RMSE? What is the unit of RMSE? (5 points)\n",
        "\n",
        "ETS(A,A,A). What is the hold-out sMAPE? What is sMAPE? (5 points)"
      ]
    },
    {
      "cell_type": "code",
      "execution_count": null,
      "metadata": {
        "colab": {
          "base_uri": "https://localhost:8080/",
          "height": 81,
          "referenced_widgets": [
            "891af3c485ec45fbbc24e26fda59ca82",
            "4ff86721c4e84395a5d4b8c19809e5ab",
            "7b7a9bafa1ff4c2d8495663e6464f240",
            "31e38aca2c6f437cb26655e36594c0cb",
            "036f5285e0564875952ef34edbe303aa",
            "a8c1cd74fb1d4ae697aa39aa182736a9",
            "bd4b9957c0924ef1b912c2427b7e7fa8",
            "e0bba9f1c8a94f63a484019bc48205fc",
            "49f6aeab4d15413d9d226d96be37a92b",
            "ba16bf4eb4c24bf5968fce9ad798cfa6",
            "b09940dba8e34a67a114d9a375b6170f"
          ]
        },
        "id": "CjLvTUheMG4u",
        "outputId": "f3c1dac8-33f8-422a-fb12-77aef1e4091a"
      },
      "outputs": [
        {
          "data": {
            "text/html": [],
            "text/plain": [
              "<IPython.core.display.HTML object>"
            ]
          },
          "metadata": {},
          "output_type": "display_data"
        },
        {
          "data": {
            "text/html": [
              "<style type=\"text/css\">\n",
              "</style>\n",
              "<table id=\"T_73146\" class=\"dataframe\">\n",
              "  <thead>\n",
              "    <tr>\n",
              "      <th class=\"blank level0\" >&nbsp;</th>\n",
              "      <th id=\"T_73146_level0_col0\" class=\"col_heading level0 col0\" >MASE</th>\n",
              "      <th id=\"T_73146_level0_col1\" class=\"col_heading level0 col1\" >RMSSE</th>\n",
              "      <th id=\"T_73146_level0_col2\" class=\"col_heading level0 col2\" >MAE</th>\n",
              "      <th id=\"T_73146_level0_col3\" class=\"col_heading level0 col3\" >RMSE</th>\n",
              "      <th id=\"T_73146_level0_col4\" class=\"col_heading level0 col4\" >MAPE</th>\n",
              "      <th id=\"T_73146_level0_col5\" class=\"col_heading level0 col5\" >SMAPE</th>\n",
              "      <th id=\"T_73146_level0_col6\" class=\"col_heading level0 col6\" >R2</th>\n",
              "    </tr>\n",
              "  </thead>\n",
              "  <tbody>\n",
              "    <tr>\n",
              "      <th id=\"T_73146_level0_row0\" class=\"row_heading level0 row0\" >Test</th>\n",
              "      <td id=\"T_73146_row0_col0\" class=\"data row0 col0\" >7.0102</td>\n",
              "      <td id=\"T_73146_row0_col1\" class=\"data row0 col1\" >6.6746</td>\n",
              "      <td id=\"T_73146_row0_col2\" class=\"data row0 col2\" >18.4941</td>\n",
              "      <td id=\"T_73146_row0_col3\" class=\"data row0 col3\" >20.9996</td>\n",
              "      <td id=\"T_73146_row0_col4\" class=\"data row0 col4\" >0.0887</td>\n",
              "      <td id=\"T_73146_row0_col5\" class=\"data row0 col5\" >0.0940</td>\n",
              "      <td id=\"T_73146_row0_col6\" class=\"data row0 col6\" >-3.4565</td>\n",
              "    </tr>\n",
              "  </tbody>\n",
              "</table>\n"
            ],
            "text/plain": [
              "<pandas.io.formats.style.Styler at 0x798a86d82c90>"
            ]
          },
          "metadata": {},
          "output_type": "display_data"
        },
        {
          "data": {
            "application/vnd.jupyter.widget-view+json": {
              "model_id": "891af3c485ec45fbbc24e26fda59ca82",
              "version_major": 2,
              "version_minor": 0
            },
            "text/plain": [
              "Processing:   0%|          | 0/4 [00:00<?, ?it/s]"
            ]
          },
          "metadata": {
            "application/vnd.jupyter.widget-view+json": {
              "colab": {
                "custom_widget_manager": {
                  "url": "https://ssl.gstatic.com/colaboratory-static/widgets/colab-cdn-widget-manager/2b70e893a8ba7c0f/manager.min.js"
                }
              }
            }
          },
          "output_type": "display_data"
        },
        {
          "data": {
            "text/html": [],
            "text/plain": [
              "<IPython.core.display.HTML object>"
            ]
          },
          "metadata": {},
          "output_type": "display_data"
        }
      ],
      "source": [
        "ets_ANN = exp.create_model('ets', error=\"add\", trend=None, seasonal=None ,cross_validation=False)"
      ]
    },
    {
      "cell_type": "markdown",
      "metadata": {
        "id": "Fyoanw8RNSH1"
      },
      "source": [
        "The MAPE for the model is 0.0887, meaning that the average percentage error between predicted and actual values is 8.87%. Being less than 10% is very promising for the model."
      ]
    },
    {
      "cell_type": "code",
      "execution_count": null,
      "metadata": {
        "colab": {
          "base_uri": "https://localhost:8080/",
          "height": 81,
          "referenced_widgets": [
            "b405924bfdff4841a7c7af8e5114981f",
            "6e434bbff68f451a86b1d943fcd239c5",
            "79553c4e54d14c1b86881aba3605b4ac",
            "50ddcc290d3548f88c109dee6cafc8b6",
            "f44b29c2ae654b86bd07ac79556289ab",
            "2aec7b5d3109493ea05dda005b3014ad",
            "7872490bf1964f4691f4a9cc8d42cad5",
            "2834fb31450d4b788847e233bbb3d1a8",
            "817fab0bcb724e3dbccfc6cd714c432d",
            "74bc0b3fce5245ae85a083f40078616d",
            "ac31eb6ce7944e2ba1deb6ba37a5c3c5"
          ]
        },
        "id": "RVIP798oMnaX",
        "outputId": "fb377b90-bef9-48b4-a3f2-6a569e9b671e"
      },
      "outputs": [
        {
          "data": {
            "text/html": [],
            "text/plain": [
              "<IPython.core.display.HTML object>"
            ]
          },
          "metadata": {},
          "output_type": "display_data"
        },
        {
          "data": {
            "text/html": [
              "<style type=\"text/css\">\n",
              "</style>\n",
              "<table id=\"T_a16f8\" class=\"dataframe\">\n",
              "  <thead>\n",
              "    <tr>\n",
              "      <th class=\"blank level0\" >&nbsp;</th>\n",
              "      <th id=\"T_a16f8_level0_col0\" class=\"col_heading level0 col0\" >MASE</th>\n",
              "      <th id=\"T_a16f8_level0_col1\" class=\"col_heading level0 col1\" >RMSSE</th>\n",
              "      <th id=\"T_a16f8_level0_col2\" class=\"col_heading level0 col2\" >MAE</th>\n",
              "      <th id=\"T_a16f8_level0_col3\" class=\"col_heading level0 col3\" >RMSE</th>\n",
              "      <th id=\"T_a16f8_level0_col4\" class=\"col_heading level0 col4\" >MAPE</th>\n",
              "      <th id=\"T_a16f8_level0_col5\" class=\"col_heading level0 col5\" >SMAPE</th>\n",
              "      <th id=\"T_a16f8_level0_col6\" class=\"col_heading level0 col6\" >R2</th>\n",
              "    </tr>\n",
              "  </thead>\n",
              "  <tbody>\n",
              "    <tr>\n",
              "      <th id=\"T_a16f8_level0_row0\" class=\"row_heading level0 row0\" >Test</th>\n",
              "      <td id=\"T_a16f8_row0_col0\" class=\"data row0 col0\" >2.6604</td>\n",
              "      <td id=\"T_a16f8_row0_col1\" class=\"data row0 col1\" >2.5729</td>\n",
              "      <td id=\"T_a16f8_row0_col2\" class=\"data row0 col2\" >7.0187</td>\n",
              "      <td id=\"T_a16f8_row0_col3\" class=\"data row0 col3\" >8.0947</td>\n",
              "      <td id=\"T_a16f8_row0_col4\" class=\"data row0 col4\" >0.0337</td>\n",
              "      <td id=\"T_a16f8_row0_col5\" class=\"data row0 col5\" >0.0344</td>\n",
              "      <td id=\"T_a16f8_row0_col6\" class=\"data row0 col6\" >0.3378</td>\n",
              "    </tr>\n",
              "  </tbody>\n",
              "</table>\n"
            ],
            "text/plain": [
              "<pandas.io.formats.style.Styler at 0x798a8710eed0>"
            ]
          },
          "metadata": {},
          "output_type": "display_data"
        },
        {
          "data": {
            "application/vnd.jupyter.widget-view+json": {
              "model_id": "b405924bfdff4841a7c7af8e5114981f",
              "version_major": 2,
              "version_minor": 0
            },
            "text/plain": [
              "Processing:   0%|          | 0/4 [00:00<?, ?it/s]"
            ]
          },
          "metadata": {
            "application/vnd.jupyter.widget-view+json": {
              "colab": {
                "custom_widget_manager": {
                  "url": "https://ssl.gstatic.com/colaboratory-static/widgets/colab-cdn-widget-manager/2b70e893a8ba7c0f/manager.min.js"
                }
              }
            }
          },
          "output_type": "display_data"
        },
        {
          "data": {
            "text/html": [],
            "text/plain": [
              "<IPython.core.display.HTML object>"
            ]
          },
          "metadata": {},
          "output_type": "display_data"
        }
      ],
      "source": [
        "ets_AAN = exp.create_model('ets', error=\"add\", trend=\"add\", seasonal=None ,cross_validation=False)"
      ]
    },
    {
      "cell_type": "markdown",
      "metadata": {
        "id": "O6cnDfv7Nv4E"
      },
      "source": [
        "The holdout RMSE is 8.0947 CPI index points. The unit of RMSE in the results is CPI index points."
      ]
    },
    {
      "cell_type": "code",
      "execution_count": null,
      "metadata": {
        "colab": {
          "base_uri": "https://localhost:8080/",
          "height": 81,
          "referenced_widgets": [
            "a8f3c922c94b47919ec77fdc0beeb832",
            "de53fac1316b453db888546af9e1c8ee",
            "267ddc0b23054790abd2243af04bbb5b",
            "0d2a0ca633d743bebb1ccad1045b8734",
            "c5c1836835ed486a8431126a372cbc0f",
            "a32ac573e8564cc78ec3a369cb0eacd4",
            "c045d45575f045508f82252eb951863d",
            "96ce2f8117dc4c21b729f69daa0368b5",
            "b9c0c5e7a02947b4921b6b49fc165451",
            "a0b607d886534678aff19e2fc06be9d4",
            "a39cce94f23d4d4f824dc8b2ae1b6c85"
          ]
        },
        "id": "tUEbuf0ZMpTm",
        "outputId": "3b02da1b-b162-40ba-88bf-c639b1aaa269"
      },
      "outputs": [
        {
          "data": {
            "text/html": [],
            "text/plain": [
              "<IPython.core.display.HTML object>"
            ]
          },
          "metadata": {},
          "output_type": "display_data"
        },
        {
          "data": {
            "text/html": [
              "<style type=\"text/css\">\n",
              "</style>\n",
              "<table id=\"T_c1f98\" class=\"dataframe\">\n",
              "  <thead>\n",
              "    <tr>\n",
              "      <th class=\"blank level0\" >&nbsp;</th>\n",
              "      <th id=\"T_c1f98_level0_col0\" class=\"col_heading level0 col0\" >MASE</th>\n",
              "      <th id=\"T_c1f98_level0_col1\" class=\"col_heading level0 col1\" >RMSSE</th>\n",
              "      <th id=\"T_c1f98_level0_col2\" class=\"col_heading level0 col2\" >MAE</th>\n",
              "      <th id=\"T_c1f98_level0_col3\" class=\"col_heading level0 col3\" >RMSE</th>\n",
              "      <th id=\"T_c1f98_level0_col4\" class=\"col_heading level0 col4\" >MAPE</th>\n",
              "      <th id=\"T_c1f98_level0_col5\" class=\"col_heading level0 col5\" >SMAPE</th>\n",
              "      <th id=\"T_c1f98_level0_col6\" class=\"col_heading level0 col6\" >R2</th>\n",
              "    </tr>\n",
              "  </thead>\n",
              "  <tbody>\n",
              "    <tr>\n",
              "      <th id=\"T_c1f98_level0_row0\" class=\"row_heading level0 row0\" >Test</th>\n",
              "      <td id=\"T_c1f98_row0_col0\" class=\"data row0 col0\" >2.6999</td>\n",
              "      <td id=\"T_c1f98_row0_col1\" class=\"data row0 col1\" >2.6075</td>\n",
              "      <td id=\"T_c1f98_row0_col2\" class=\"data row0 col2\" >7.1228</td>\n",
              "      <td id=\"T_c1f98_row0_col3\" class=\"data row0 col3\" >8.2035</td>\n",
              "      <td id=\"T_c1f98_row0_col4\" class=\"data row0 col4\" >0.0342</td>\n",
              "      <td id=\"T_c1f98_row0_col5\" class=\"data row0 col5\" >0.0350</td>\n",
              "      <td id=\"T_c1f98_row0_col6\" class=\"data row0 col6\" >0.3199</td>\n",
              "    </tr>\n",
              "  </tbody>\n",
              "</table>\n"
            ],
            "text/plain": [
              "<pandas.io.formats.style.Styler at 0x798a76664150>"
            ]
          },
          "metadata": {},
          "output_type": "display_data"
        },
        {
          "data": {
            "application/vnd.jupyter.widget-view+json": {
              "model_id": "a8f3c922c94b47919ec77fdc0beeb832",
              "version_major": 2,
              "version_minor": 0
            },
            "text/plain": [
              "Processing:   0%|          | 0/4 [00:00<?, ?it/s]"
            ]
          },
          "metadata": {
            "application/vnd.jupyter.widget-view+json": {
              "colab": {
                "custom_widget_manager": {
                  "url": "https://ssl.gstatic.com/colaboratory-static/widgets/colab-cdn-widget-manager/2b70e893a8ba7c0f/manager.min.js"
                }
              }
            }
          },
          "output_type": "display_data"
        },
        {
          "data": {
            "text/html": [],
            "text/plain": [
              "<IPython.core.display.HTML object>"
            ]
          },
          "metadata": {},
          "output_type": "display_data"
        }
      ],
      "source": [
        "ets_AAA = exp.create_model('ets', error=\"add\", trend=\"add\", seasonal=\"add\" ,cross_validation=False)"
      ]
    },
    {
      "cell_type": "markdown",
      "metadata": {
        "id": "4T_bFixyPIsq"
      },
      "source": [
        "The metric sMAPE is especially helpful when dealing with zero/near-zero values. It normalizes by the average of actual and predicted values, ensuring that over-predictions and under-predictions contribute equally to the error. Our sMAPE value is 0.0365, or 3.65%, which is less than 10% and very promising."
      ]
    },
    {
      "cell_type": "markdown",
      "metadata": {
        "id": "caHHOZgYPUBJ"
      },
      "source": [
        "## 2. Compare Models"
      ]
    },
    {
      "cell_type": "code",
      "execution_count": null,
      "metadata": {
        "colab": {
          "base_uri": "https://localhost:8080/",
          "height": 232,
          "referenced_widgets": [
            "1b5012189c284a358bfb69b0219bc2dc",
            "55e58a6affd64e9a828740cea7a96bcf",
            "bd02635bdcf04927a4fd30470d49faca",
            "7b061e17a42c4cb197f0f177507c6caf",
            "a861560d495b40879337fa939376165d",
            "77451b265cba40b18ee9ee906f004988",
            "c4a4a6a050044583b1058ab15a634807",
            "09acad4f2f6e4f808e06f10e0c53308a",
            "82e5d5d377db4ccdad23d68e31698895",
            "bfc8728407f64b05bfc8b1674a1b2db1",
            "ed85e049404a422aa59c45d4dc6fb2c8"
          ]
        },
        "id": "O4sWGamWPKJb",
        "outputId": "1fea71bd-1d74-4140-e655-2d91c8cb9207"
      },
      "outputs": [
        {
          "data": {
            "text/html": [],
            "text/plain": [
              "<IPython.core.display.HTML object>"
            ]
          },
          "metadata": {},
          "output_type": "display_data"
        },
        {
          "data": {
            "text/html": [
              "<style type=\"text/css\">\n",
              "#T_70b8c th {\n",
              "  text-align: left;\n",
              "}\n",
              "#T_70b8c_row0_col0, #T_70b8c_row1_col0, #T_70b8c_row1_col1, #T_70b8c_row1_col2, #T_70b8c_row1_col3, #T_70b8c_row1_col4, #T_70b8c_row1_col5, #T_70b8c_row1_col6, #T_70b8c_row1_col7, #T_70b8c_row2_col0, #T_70b8c_row2_col1, #T_70b8c_row2_col2, #T_70b8c_row2_col3, #T_70b8c_row2_col4, #T_70b8c_row2_col5, #T_70b8c_row2_col6, #T_70b8c_row2_col7, #T_70b8c_row3_col0, #T_70b8c_row3_col1, #T_70b8c_row3_col2, #T_70b8c_row3_col3, #T_70b8c_row3_col4, #T_70b8c_row3_col5, #T_70b8c_row3_col6, #T_70b8c_row3_col7 {\n",
              "  text-align: left;\n",
              "}\n",
              "#T_70b8c_row0_col1, #T_70b8c_row0_col2, #T_70b8c_row0_col3, #T_70b8c_row0_col4, #T_70b8c_row0_col5, #T_70b8c_row0_col6, #T_70b8c_row0_col7 {\n",
              "  text-align: left;\n",
              "  background-color: yellow;\n",
              "}\n",
              "#T_70b8c_row0_col8, #T_70b8c_row1_col8, #T_70b8c_row3_col8 {\n",
              "  text-align: left;\n",
              "  background-color: lightgrey;\n",
              "}\n",
              "#T_70b8c_row2_col8 {\n",
              "  text-align: left;\n",
              "  background-color: yellow;\n",
              "  background-color: lightgrey;\n",
              "}\n",
              "</style>\n",
              "<table id=\"T_70b8c\" class=\"dataframe\">\n",
              "  <thead>\n",
              "    <tr>\n",
              "      <th class=\"blank level0\" >&nbsp;</th>\n",
              "      <th id=\"T_70b8c_level0_col0\" class=\"col_heading level0 col0\" >Model</th>\n",
              "      <th id=\"T_70b8c_level0_col1\" class=\"col_heading level0 col1\" >MASE</th>\n",
              "      <th id=\"T_70b8c_level0_col2\" class=\"col_heading level0 col2\" >RMSSE</th>\n",
              "      <th id=\"T_70b8c_level0_col3\" class=\"col_heading level0 col3\" >MAE</th>\n",
              "      <th id=\"T_70b8c_level0_col4\" class=\"col_heading level0 col4\" >RMSE</th>\n",
              "      <th id=\"T_70b8c_level0_col5\" class=\"col_heading level0 col5\" >MAPE</th>\n",
              "      <th id=\"T_70b8c_level0_col6\" class=\"col_heading level0 col6\" >SMAPE</th>\n",
              "      <th id=\"T_70b8c_level0_col7\" class=\"col_heading level0 col7\" >R2</th>\n",
              "      <th id=\"T_70b8c_level0_col8\" class=\"col_heading level0 col8\" >TT (Sec)</th>\n",
              "    </tr>\n",
              "  </thead>\n",
              "  <tbody>\n",
              "    <tr>\n",
              "      <th id=\"T_70b8c_level0_row0\" class=\"row_heading level0 row0\" >1</th>\n",
              "      <td id=\"T_70b8c_row0_col0\" class=\"data row0 col0\" >ETS</td>\n",
              "      <td id=\"T_70b8c_row0_col1\" class=\"data row0 col1\" >2.6604</td>\n",
              "      <td id=\"T_70b8c_row0_col2\" class=\"data row0 col2\" >2.5729</td>\n",
              "      <td id=\"T_70b8c_row0_col3\" class=\"data row0 col3\" >7.0187</td>\n",
              "      <td id=\"T_70b8c_row0_col4\" class=\"data row0 col4\" >8.0947</td>\n",
              "      <td id=\"T_70b8c_row0_col5\" class=\"data row0 col5\" >0.0337</td>\n",
              "      <td id=\"T_70b8c_row0_col6\" class=\"data row0 col6\" >0.0344</td>\n",
              "      <td id=\"T_70b8c_row0_col7\" class=\"data row0 col7\" >0.3378</td>\n",
              "      <td id=\"T_70b8c_row0_col8\" class=\"data row0 col8\" >0.0400</td>\n",
              "    </tr>\n",
              "    <tr>\n",
              "      <th id=\"T_70b8c_level0_row1\" class=\"row_heading level0 row1\" >2</th>\n",
              "      <td id=\"T_70b8c_row1_col0\" class=\"data row1 col0\" >ETS</td>\n",
              "      <td id=\"T_70b8c_row1_col1\" class=\"data row1 col1\" >2.6999</td>\n",
              "      <td id=\"T_70b8c_row1_col2\" class=\"data row1 col2\" >2.6075</td>\n",
              "      <td id=\"T_70b8c_row1_col3\" class=\"data row1 col3\" >7.1228</td>\n",
              "      <td id=\"T_70b8c_row1_col4\" class=\"data row1 col4\" >8.2035</td>\n",
              "      <td id=\"T_70b8c_row1_col5\" class=\"data row1 col5\" >0.0342</td>\n",
              "      <td id=\"T_70b8c_row1_col6\" class=\"data row1 col6\" >0.0350</td>\n",
              "      <td id=\"T_70b8c_row1_col7\" class=\"data row1 col7\" >0.3199</td>\n",
              "      <td id=\"T_70b8c_row1_col8\" class=\"data row1 col8\" >0.0700</td>\n",
              "    </tr>\n",
              "    <tr>\n",
              "      <th id=\"T_70b8c_level0_row2\" class=\"row_heading level0 row2\" >3</th>\n",
              "      <td id=\"T_70b8c_row2_col0\" class=\"data row2 col0\" >Naive Forecaster</td>\n",
              "      <td id=\"T_70b8c_row2_col1\" class=\"data row2 col1\" >7.0101</td>\n",
              "      <td id=\"T_70b8c_row2_col2\" class=\"data row2 col2\" >6.6746</td>\n",
              "      <td id=\"T_70b8c_row2_col3\" class=\"data row2 col3\" >18.4940</td>\n",
              "      <td id=\"T_70b8c_row2_col4\" class=\"data row2 col4\" >20.9995</td>\n",
              "      <td id=\"T_70b8c_row2_col5\" class=\"data row2 col5\" >0.0887</td>\n",
              "      <td id=\"T_70b8c_row2_col6\" class=\"data row2 col6\" >0.0940</td>\n",
              "      <td id=\"T_70b8c_row2_col7\" class=\"data row2 col7\" >-3.4564</td>\n",
              "      <td id=\"T_70b8c_row2_col8\" class=\"data row2 col8\" >0.0200</td>\n",
              "    </tr>\n",
              "    <tr>\n",
              "      <th id=\"T_70b8c_level0_row3\" class=\"row_heading level0 row3\" >0</th>\n",
              "      <td id=\"T_70b8c_row3_col0\" class=\"data row3 col0\" >ETS</td>\n",
              "      <td id=\"T_70b8c_row3_col1\" class=\"data row3 col1\" >7.0102</td>\n",
              "      <td id=\"T_70b8c_row3_col2\" class=\"data row3 col2\" >6.6746</td>\n",
              "      <td id=\"T_70b8c_row3_col3\" class=\"data row3 col3\" >18.4941</td>\n",
              "      <td id=\"T_70b8c_row3_col4\" class=\"data row3 col4\" >20.9996</td>\n",
              "      <td id=\"T_70b8c_row3_col5\" class=\"data row3 col5\" >0.0887</td>\n",
              "      <td id=\"T_70b8c_row3_col6\" class=\"data row3 col6\" >0.0940</td>\n",
              "      <td id=\"T_70b8c_row3_col7\" class=\"data row3 col7\" >-3.4565</td>\n",
              "      <td id=\"T_70b8c_row3_col8\" class=\"data row3 col8\" >0.0400</td>\n",
              "    </tr>\n",
              "  </tbody>\n",
              "</table>\n"
            ],
            "text/plain": [
              "<pandas.io.formats.style.Styler at 0x798a87180590>"
            ]
          },
          "metadata": {},
          "output_type": "display_data"
        },
        {
          "data": {
            "application/vnd.jupyter.widget-view+json": {
              "model_id": "1b5012189c284a358bfb69b0219bc2dc",
              "version_major": 2,
              "version_minor": 0
            },
            "text/plain": [
              "Processing:   0%|          | 0/21 [00:00<?, ?it/s]"
            ]
          },
          "metadata": {
            "application/vnd.jupyter.widget-view+json": {
              "colab": {
                "custom_widget_manager": {
                  "url": "https://ssl.gstatic.com/colaboratory-static/widgets/colab-cdn-widget-manager/2b70e893a8ba7c0f/manager.min.js"
                }
              }
            }
          },
          "output_type": "display_data"
        },
        {
          "data": {
            "text/html": [],
            "text/plain": [
              "<IPython.core.display.HTML object>"
            ]
          },
          "metadata": {},
          "output_type": "display_data"
        },
        {
          "data": {
            "text/html": [
              "<style>#sk-f6f1d6c1-d923-4412-b43b-059a21f52e63 {color: black;background-color: white;}#sk-f6f1d6c1-d923-4412-b43b-059a21f52e63 pre{padding: 0;}#sk-f6f1d6c1-d923-4412-b43b-059a21f52e63 div.sk-toggleable {background-color: white;}#sk-f6f1d6c1-d923-4412-b43b-059a21f52e63 label.sk-toggleable__label {cursor: pointer;display: block;width: 100%;margin-bottom: 0;padding: 0.3em;box-sizing: border-box;text-align: center;}#sk-f6f1d6c1-d923-4412-b43b-059a21f52e63 label.sk-toggleable__label-arrow:before {content: \"▸\";float: left;margin-right: 0.25em;color: #696969;}#sk-f6f1d6c1-d923-4412-b43b-059a21f52e63 label.sk-toggleable__label-arrow:hover:before {color: black;}#sk-f6f1d6c1-d923-4412-b43b-059a21f52e63 div.sk-estimator:hover label.sk-toggleable__label-arrow:before {color: black;}#sk-f6f1d6c1-d923-4412-b43b-059a21f52e63 div.sk-toggleable__content {max-height: 0;max-width: 0;overflow: hidden;text-align: left;background-color: #f0f8ff;}#sk-f6f1d6c1-d923-4412-b43b-059a21f52e63 div.sk-toggleable__content pre {margin: 0.2em;color: black;border-radius: 0.25em;background-color: #f0f8ff;}#sk-f6f1d6c1-d923-4412-b43b-059a21f52e63 input.sk-toggleable__control:checked~div.sk-toggleable__content {max-height: 200px;max-width: 100%;overflow: auto;}#sk-f6f1d6c1-d923-4412-b43b-059a21f52e63 input.sk-toggleable__control:checked~label.sk-toggleable__label-arrow:before {content: \"▾\";}#sk-f6f1d6c1-d923-4412-b43b-059a21f52e63 div.sk-estimator input.sk-toggleable__control:checked~label.sk-toggleable__label {background-color: #d4ebff;}#sk-f6f1d6c1-d923-4412-b43b-059a21f52e63 div.sk-label input.sk-toggleable__control:checked~label.sk-toggleable__label {background-color: #d4ebff;}#sk-f6f1d6c1-d923-4412-b43b-059a21f52e63 input.sk-hidden--visually {border: 0;clip: rect(1px 1px 1px 1px);clip: rect(1px, 1px, 1px, 1px);height: 1px;margin: -1px;overflow: hidden;padding: 0;position: absolute;width: 1px;}#sk-f6f1d6c1-d923-4412-b43b-059a21f52e63 div.sk-estimator {font-family: monospace;background-color: #f0f8ff;border: 1px dotted black;border-radius: 0.25em;box-sizing: border-box;margin-bottom: 0.5em;}#sk-f6f1d6c1-d923-4412-b43b-059a21f52e63 div.sk-estimator:hover {background-color: #d4ebff;}#sk-f6f1d6c1-d923-4412-b43b-059a21f52e63 div.sk-parallel-item::after {content: \"\";width: 100%;border-bottom: 1px solid gray;flex-grow: 1;}#sk-f6f1d6c1-d923-4412-b43b-059a21f52e63 div.sk-label:hover label.sk-toggleable__label {background-color: #d4ebff;}#sk-f6f1d6c1-d923-4412-b43b-059a21f52e63 div.sk-serial::before {content: \"\";position: absolute;border-left: 1px solid gray;box-sizing: border-box;top: 2em;bottom: 0;left: 50%;}#sk-f6f1d6c1-d923-4412-b43b-059a21f52e63 div.sk-serial {display: flex;flex-direction: column;align-items: center;background-color: white;padding-right: 0.2em;padding-left: 0.2em;}#sk-f6f1d6c1-d923-4412-b43b-059a21f52e63 div.sk-item {z-index: 1;}#sk-f6f1d6c1-d923-4412-b43b-059a21f52e63 div.sk-parallel {display: flex;align-items: stretch;justify-content: center;background-color: white;}#sk-f6f1d6c1-d923-4412-b43b-059a21f52e63 div.sk-parallel::before {content: \"\";position: absolute;border-left: 1px solid gray;box-sizing: border-box;top: 2em;bottom: 0;left: 50%;}#sk-f6f1d6c1-d923-4412-b43b-059a21f52e63 div.sk-parallel-item {display: flex;flex-direction: column;position: relative;background-color: white;}#sk-f6f1d6c1-d923-4412-b43b-059a21f52e63 div.sk-parallel-item:first-child::after {align-self: flex-end;width: 50%;}#sk-f6f1d6c1-d923-4412-b43b-059a21f52e63 div.sk-parallel-item:last-child::after {align-self: flex-start;width: 50%;}#sk-f6f1d6c1-d923-4412-b43b-059a21f52e63 div.sk-parallel-item:only-child::after {width: 0;}#sk-f6f1d6c1-d923-4412-b43b-059a21f52e63 div.sk-dashed-wrapped {border: 1px dashed gray;margin: 0 0.4em 0.5em 0.4em;box-sizing: border-box;padding-bottom: 0.4em;background-color: white;position: relative;}#sk-f6f1d6c1-d923-4412-b43b-059a21f52e63 div.sk-label label {font-family: monospace;font-weight: bold;background-color: white;display: inline-block;line-height: 1.2em;}#sk-f6f1d6c1-d923-4412-b43b-059a21f52e63 div.sk-label-container {position: relative;z-index: 2;text-align: center;}#sk-f6f1d6c1-d923-4412-b43b-059a21f52e63 div.sk-container {/* jupyter's `normalize.less` sets `[hidden] { display: none; }` but bootstrap.min.css set `[hidden] { display: none !important; }` so we also need the `!important` here to be able to override the default hidden behavior on the sphinx rendered scikit-learn.org. See: https://github.com/scikit-learn/scikit-learn/issues/21755 */display: inline-block !important;position: relative;}#sk-f6f1d6c1-d923-4412-b43b-059a21f52e63 div.sk-text-repr-fallback {display: none;}</style><div id='sk-f6f1d6c1-d923-4412-b43b-059a21f52e63' class=\"sk-top-container\"><div class=\"sk-text-repr-fallback\"><pre>AutoETS(sp=3, trend=&#x27;add&#x27;)</pre><b>Please rerun this cell to show the HTML repr or trust the notebook.</b></div><div class=\"sk-container\" hidden><div class='sk-item'><div class=\"sk-estimator sk-toggleable\"><input class=\"sk-toggleable__control sk-hidden--visually\" id=UUID('29050950-b259-4991-90f1-8bf31acec419') type=\"checkbox\" checked><label for=UUID('29050950-b259-4991-90f1-8bf31acec419') class='sk-toggleable__label sk-toggleable__label-arrow'>AutoETS</label><div class=\"sk-toggleable__content\"><pre>AutoETS(sp=3, trend=&#x27;add&#x27;)</pre></div></div></div></div></div>"
            ],
            "text/plain": [
              "AutoETS(sp=3, trend='add')"
            ]
          },
          "execution_count": 75,
          "metadata": {},
          "output_type": "execute_result"
        }
      ],
      "source": [
        "exp.compare_models(include=[ets_ANN, ets_AAN, ets_AAA, naive], cross_validation=False)"
      ]
    },
    {
      "cell_type": "markdown",
      "metadata": {
        "id": "Ok0ELxFQP0-S"
      },
      "source": [
        "The model ETS(A,A,N) performed the best and beat the naive forecast model."
      ]
    },
    {
      "cell_type": "markdown",
      "metadata": {
        "id": "zc2HmkGLQQx2"
      },
      "source": [
        "## 3. Plot 36-period Forecast"
      ]
    },
    {
      "cell_type": "code",
      "execution_count": null,
      "metadata": {
        "colab": {
          "base_uri": "https://localhost:8080/",
          "height": 542
        },
        "id": "YqpLqlseQGuP",
        "outputId": "ffd70e1d-1bff-4860-b874-5c398f73ec0c"
      },
      "outputs": [
        {
          "data": {
            "text/html": [
              "<html>\n",
              "<head><meta charset=\"utf-8\" /></head>\n",
              "<body>\n",
              "    <div>            <script src=\"https://cdnjs.cloudflare.com/ajax/libs/mathjax/2.7.5/MathJax.js?config=TeX-AMS-MML_SVG\"></script><script type=\"text/javascript\">if (window.MathJax && window.MathJax.Hub && window.MathJax.Hub.Config) {window.MathJax.Hub.Config({SVG: {font: \"STIX-Web\"}});}</script>                <script type=\"text/javascript\">window.PlotlyConfig = {MathJaxConfig: 'local'};</script>\n",
              "        <script charset=\"utf-8\" src=\"https://cdn.plot.ly/plotly-2.35.2.min.js\"></script>                <div id=\"769f8259-d9e0-4cf7-98ec-142531080e05\" class=\"plotly-graph-div\" style=\"height:525px; width:100%;\"></div>            <script type=\"text/javascript\">                                    window.PLOTLYENV=window.PLOTLYENV || {};                                    if (document.getElementById(\"769f8259-d9e0-4cf7-98ec-142531080e05\")) {                    Plotly.newPlot(                        \"769f8259-d9e0-4cf7-98ec-142531080e05\",                        [{\"line\":{\"color\":\"rgb(31, 119, 180)\",\"width\":2},\"marker\":{\"color\":\"rgb(31, 119, 180)\",\"size\":5},\"mode\":\"lines+markers\",\"name\":\"cpi\",\"x\":[\"1959-01-01T00:00:00\",\"1959-04-01T00:00:00\",\"1959-07-01T00:00:00\",\"1959-10-01T00:00:00\",\"1960-01-01T00:00:00\",\"1960-04-01T00:00:00\",\"1960-07-01T00:00:00\",\"1960-10-01T00:00:00\",\"1961-01-01T00:00:00\",\"1961-04-01T00:00:00\",\"1961-07-01T00:00:00\",\"1961-10-01T00:00:00\",\"1962-01-01T00:00:00\",\"1962-04-01T00:00:00\",\"1962-07-01T00:00:00\",\"1962-10-01T00:00:00\",\"1963-01-01T00:00:00\",\"1963-04-01T00:00:00\",\"1963-07-01T00:00:00\",\"1963-10-01T00:00:00\",\"1964-01-01T00:00:00\",\"1964-04-01T00:00:00\",\"1964-07-01T00:00:00\",\"1964-10-01T00:00:00\",\"1965-01-01T00:00:00\",\"1965-04-01T00:00:00\",\"1965-07-01T00:00:00\",\"1965-10-01T00:00:00\",\"1966-01-01T00:00:00\",\"1966-04-01T00:00:00\",\"1966-07-01T00:00:00\",\"1966-10-01T00:00:00\",\"1967-01-01T00:00:00\",\"1967-04-01T00:00:00\",\"1967-07-01T00:00:00\",\"1967-10-01T00:00:00\",\"1968-01-01T00:00:00\",\"1968-04-01T00:00:00\",\"1968-07-01T00:00:00\",\"1968-10-01T00:00:00\",\"1969-01-01T00:00:00\",\"1969-04-01T00:00:00\",\"1969-07-01T00:00:00\",\"1969-10-01T00:00:00\",\"1970-01-01T00:00:00\",\"1970-04-01T00:00:00\",\"1970-07-01T00:00:00\",\"1970-10-01T00:00:00\",\"1971-01-01T00:00:00\",\"1971-04-01T00:00:00\",\"1971-07-01T00:00:00\",\"1971-10-01T00:00:00\",\"1972-01-01T00:00:00\",\"1972-04-01T00:00:00\",\"1972-07-01T00:00:00\",\"1972-10-01T00:00:00\",\"1973-01-01T00:00:00\",\"1973-04-01T00:00:00\",\"1973-07-01T00:00:00\",\"1973-10-01T00:00:00\",\"1974-01-01T00:00:00\",\"1974-04-01T00:00:00\",\"1974-07-01T00:00:00\",\"1974-10-01T00:00:00\",\"1975-01-01T00:00:00\",\"1975-04-01T00:00:00\",\"1975-07-01T00:00:00\",\"1975-10-01T00:00:00\",\"1976-01-01T00:00:00\",\"1976-04-01T00:00:00\",\"1976-07-01T00:00:00\",\"1976-10-01T00:00:00\",\"1977-01-01T00:00:00\",\"1977-04-01T00:00:00\",\"1977-07-01T00:00:00\",\"1977-10-01T00:00:00\",\"1978-01-01T00:00:00\",\"1978-04-01T00:00:00\",\"1978-07-01T00:00:00\",\"1978-10-01T00:00:00\",\"1979-01-01T00:00:00\",\"1979-04-01T00:00:00\",\"1979-07-01T00:00:00\",\"1979-10-01T00:00:00\",\"1980-01-01T00:00:00\",\"1980-04-01T00:00:00\",\"1980-07-01T00:00:00\",\"1980-10-01T00:00:00\",\"1981-01-01T00:00:00\",\"1981-04-01T00:00:00\",\"1981-07-01T00:00:00\",\"1981-10-01T00:00:00\",\"1982-01-01T00:00:00\",\"1982-04-01T00:00:00\",\"1982-07-01T00:00:00\",\"1982-10-01T00:00:00\",\"1983-01-01T00:00:00\",\"1983-04-01T00:00:00\",\"1983-07-01T00:00:00\",\"1983-10-01T00:00:00\",\"1984-01-01T00:00:00\",\"1984-04-01T00:00:00\",\"1984-07-01T00:00:00\",\"1984-10-01T00:00:00\",\"1985-01-01T00:00:00\",\"1985-04-01T00:00:00\",\"1985-07-01T00:00:00\",\"1985-10-01T00:00:00\",\"1986-01-01T00:00:00\",\"1986-04-01T00:00:00\",\"1986-07-01T00:00:00\",\"1986-10-01T00:00:00\",\"1987-01-01T00:00:00\",\"1987-04-01T00:00:00\",\"1987-07-01T00:00:00\",\"1987-10-01T00:00:00\",\"1988-01-01T00:00:00\",\"1988-04-01T00:00:00\",\"1988-07-01T00:00:00\",\"1988-10-01T00:00:00\",\"1989-01-01T00:00:00\",\"1989-04-01T00:00:00\",\"1989-07-01T00:00:00\",\"1989-10-01T00:00:00\",\"1990-01-01T00:00:00\",\"1990-04-01T00:00:00\",\"1990-07-01T00:00:00\",\"1990-10-01T00:00:00\",\"1991-01-01T00:00:00\",\"1991-04-01T00:00:00\",\"1991-07-01T00:00:00\",\"1991-10-01T00:00:00\",\"1992-01-01T00:00:00\",\"1992-04-01T00:00:00\",\"1992-07-01T00:00:00\",\"1992-10-01T00:00:00\",\"1993-01-01T00:00:00\",\"1993-04-01T00:00:00\",\"1993-07-01T00:00:00\",\"1993-10-01T00:00:00\",\"1994-01-01T00:00:00\",\"1994-04-01T00:00:00\",\"1994-07-01T00:00:00\",\"1994-10-01T00:00:00\",\"1995-01-01T00:00:00\",\"1995-04-01T00:00:00\",\"1995-07-01T00:00:00\",\"1995-10-01T00:00:00\",\"1996-01-01T00:00:00\",\"1996-04-01T00:00:00\",\"1996-07-01T00:00:00\",\"1996-10-01T00:00:00\",\"1997-01-01T00:00:00\",\"1997-04-01T00:00:00\",\"1997-07-01T00:00:00\",\"1997-10-01T00:00:00\",\"1998-01-01T00:00:00\",\"1998-04-01T00:00:00\",\"1998-07-01T00:00:00\",\"1998-10-01T00:00:00\",\"1999-01-01T00:00:00\",\"1999-04-01T00:00:00\",\"1999-07-01T00:00:00\",\"1999-10-01T00:00:00\",\"2000-01-01T00:00:00\",\"2000-04-01T00:00:00\",\"2000-07-01T00:00:00\",\"2000-10-01T00:00:00\",\"2001-01-01T00:00:00\",\"2001-04-01T00:00:00\",\"2001-07-01T00:00:00\",\"2001-10-01T00:00:00\",\"2002-01-01T00:00:00\",\"2002-04-01T00:00:00\",\"2002-07-01T00:00:00\",\"2002-10-01T00:00:00\",\"2003-01-01T00:00:00\",\"2003-04-01T00:00:00\",\"2003-07-01T00:00:00\",\"2003-10-01T00:00:00\",\"2004-01-01T00:00:00\",\"2004-04-01T00:00:00\",\"2004-07-01T00:00:00\",\"2004-10-01T00:00:00\",\"2005-01-01T00:00:00\",\"2005-04-01T00:00:00\",\"2005-07-01T00:00:00\",\"2005-10-01T00:00:00\",\"2006-01-01T00:00:00\",\"2006-04-01T00:00:00\",\"2006-07-01T00:00:00\",\"2006-10-01T00:00:00\",\"2007-01-01T00:00:00\",\"2007-04-01T00:00:00\",\"2007-07-01T00:00:00\",\"2007-10-01T00:00:00\",\"2008-01-01T00:00:00\",\"2008-04-01T00:00:00\",\"2008-07-01T00:00:00\",\"2008-10-01T00:00:00\",\"2009-01-01T00:00:00\",\"2009-04-01T00:00:00\",\"2009-07-01T00:00:00\",\"2009-10-01T00:00:00\",\"2010-01-01T00:00:00\",\"2010-04-01T00:00:00\",\"2010-07-01T00:00:00\",\"2010-10-01T00:00:00\",\"2011-01-01T00:00:00\",\"2011-04-01T00:00:00\",\"2011-07-01T00:00:00\",\"2011-10-01T00:00:00\",\"2012-01-01T00:00:00\",\"2012-04-01T00:00:00\",\"2012-07-01T00:00:00\"],\"y\":[28.98,29.15,29.35,29.37,29.54,29.55,29.75,29.84,29.81,29.92,29.98,30.04,30.21,30.22,30.38,30.44,30.48,30.69,30.75,30.94,30.95,31.02,31.12,31.28,31.38,31.58,31.65,31.88,32.28,32.45,32.85,32.9,33.1,33.4,33.7,34.1,34.4,34.9,35.3,35.7,36.3,36.8,37.3,37.9,38.5,38.9,39.4,39.9,40.1,40.6,40.9,41.2,41.5,41.8,42.2,42.7,43.7,44.2,45.6,46.8,48.1,49.3,51.0,52.3,53.0,54.0,54.9,55.8,56.1,57.0,57.9,58.7,60.0,60.8,61.6,62.7,63.9,65.5,67.1,68.5,70.6,73.0,75.2,78.0,80.9,82.6,84.7,87.2,89.1,91.5,93.4,94.4,95.0,97.5,98.1,97.9,98.8,99.8,100.8,102.1,103.3,104.1,105.1,105.7,107.0,107.7,108.5,109.9,108.7,109.5,110.2,111.4,112.7,113.8,115.0,116.0,117.2,118.5,119.9,121.2,123.1,124.5,125.4,127.5,128.9,130.5,133.4,134.7,135.1,136.2,137.2,138.3,139.4,140.5,141.7,142.8,143.8,144.5,145.6,146.3,147.2,148.4,149.4,150.5,151.8,152.6,153.5,154.7,156.1,157.0,158.2,159.4,159.9,160.4,161.5,162.0,162.2,163.2,163.9,164.7,165.9,166.7,168.1,169.3,170.9,172.7,173.9,175.6,176.4,177.4,177.6,177.7,179.3,180.0,181.2,182.6,183.2,183.7,184.9,186.3,187.4,189.1,190.8,191.8,193.8,194.7,199.2,199.4,200.7,202.7,201.9,203.574,205.92,207.338,209.133,212.495,213.997,218.61,216.889,212.174,212.671,214.469,216.385,null,null,null,null,null,null,null,null,null,null,null,null],\"type\":\"scattergl\",\"xaxis\":\"x\",\"yaxis\":\"y\"},{\"line\":{\"color\":\"rgb(255, 127, 14)\",\"width\":2},\"marker\":{\"color\":\"rgb(255, 127, 14)\",\"size\":5},\"mode\":\"lines+markers\",\"name\":\"ETS(A,N,N)\",\"x\":[\"1959-01-01T00:00:00\",\"1959-04-01T00:00:00\",\"1959-07-01T00:00:00\",\"1959-10-01T00:00:00\",\"1960-01-01T00:00:00\",\"1960-04-01T00:00:00\",\"1960-07-01T00:00:00\",\"1960-10-01T00:00:00\",\"1961-01-01T00:00:00\",\"1961-04-01T00:00:00\",\"1961-07-01T00:00:00\",\"1961-10-01T00:00:00\",\"1962-01-01T00:00:00\",\"1962-04-01T00:00:00\",\"1962-07-01T00:00:00\",\"1962-10-01T00:00:00\",\"1963-01-01T00:00:00\",\"1963-04-01T00:00:00\",\"1963-07-01T00:00:00\",\"1963-10-01T00:00:00\",\"1964-01-01T00:00:00\",\"1964-04-01T00:00:00\",\"1964-07-01T00:00:00\",\"1964-10-01T00:00:00\",\"1965-01-01T00:00:00\",\"1965-04-01T00:00:00\",\"1965-07-01T00:00:00\",\"1965-10-01T00:00:00\",\"1966-01-01T00:00:00\",\"1966-04-01T00:00:00\",\"1966-07-01T00:00:00\",\"1966-10-01T00:00:00\",\"1967-01-01T00:00:00\",\"1967-04-01T00:00:00\",\"1967-07-01T00:00:00\",\"1967-10-01T00:00:00\",\"1968-01-01T00:00:00\",\"1968-04-01T00:00:00\",\"1968-07-01T00:00:00\",\"1968-10-01T00:00:00\",\"1969-01-01T00:00:00\",\"1969-04-01T00:00:00\",\"1969-07-01T00:00:00\",\"1969-10-01T00:00:00\",\"1970-01-01T00:00:00\",\"1970-04-01T00:00:00\",\"1970-07-01T00:00:00\",\"1970-10-01T00:00:00\",\"1971-01-01T00:00:00\",\"1971-04-01T00:00:00\",\"1971-07-01T00:00:00\",\"1971-10-01T00:00:00\",\"1972-01-01T00:00:00\",\"1972-04-01T00:00:00\",\"1972-07-01T00:00:00\",\"1972-10-01T00:00:00\",\"1973-01-01T00:00:00\",\"1973-04-01T00:00:00\",\"1973-07-01T00:00:00\",\"1973-10-01T00:00:00\",\"1974-01-01T00:00:00\",\"1974-04-01T00:00:00\",\"1974-07-01T00:00:00\",\"1974-10-01T00:00:00\",\"1975-01-01T00:00:00\",\"1975-04-01T00:00:00\",\"1975-07-01T00:00:00\",\"1975-10-01T00:00:00\",\"1976-01-01T00:00:00\",\"1976-04-01T00:00:00\",\"1976-07-01T00:00:00\",\"1976-10-01T00:00:00\",\"1977-01-01T00:00:00\",\"1977-04-01T00:00:00\",\"1977-07-01T00:00:00\",\"1977-10-01T00:00:00\",\"1978-01-01T00:00:00\",\"1978-04-01T00:00:00\",\"1978-07-01T00:00:00\",\"1978-10-01T00:00:00\",\"1979-01-01T00:00:00\",\"1979-04-01T00:00:00\",\"1979-07-01T00:00:00\",\"1979-10-01T00:00:00\",\"1980-01-01T00:00:00\",\"1980-04-01T00:00:00\",\"1980-07-01T00:00:00\",\"1980-10-01T00:00:00\",\"1981-01-01T00:00:00\",\"1981-04-01T00:00:00\",\"1981-07-01T00:00:00\",\"1981-10-01T00:00:00\",\"1982-01-01T00:00:00\",\"1982-04-01T00:00:00\",\"1982-07-01T00:00:00\",\"1982-10-01T00:00:00\",\"1983-01-01T00:00:00\",\"1983-04-01T00:00:00\",\"1983-07-01T00:00:00\",\"1983-10-01T00:00:00\",\"1984-01-01T00:00:00\",\"1984-04-01T00:00:00\",\"1984-07-01T00:00:00\",\"1984-10-01T00:00:00\",\"1985-01-01T00:00:00\",\"1985-04-01T00:00:00\",\"1985-07-01T00:00:00\",\"1985-10-01T00:00:00\",\"1986-01-01T00:00:00\",\"1986-04-01T00:00:00\",\"1986-07-01T00:00:00\",\"1986-10-01T00:00:00\",\"1987-01-01T00:00:00\",\"1987-04-01T00:00:00\",\"1987-07-01T00:00:00\",\"1987-10-01T00:00:00\",\"1988-01-01T00:00:00\",\"1988-04-01T00:00:00\",\"1988-07-01T00:00:00\",\"1988-10-01T00:00:00\",\"1989-01-01T00:00:00\",\"1989-04-01T00:00:00\",\"1989-07-01T00:00:00\",\"1989-10-01T00:00:00\",\"1990-01-01T00:00:00\",\"1990-04-01T00:00:00\",\"1990-07-01T00:00:00\",\"1990-10-01T00:00:00\",\"1991-01-01T00:00:00\",\"1991-04-01T00:00:00\",\"1991-07-01T00:00:00\",\"1991-10-01T00:00:00\",\"1992-01-01T00:00:00\",\"1992-04-01T00:00:00\",\"1992-07-01T00:00:00\",\"1992-10-01T00:00:00\",\"1993-01-01T00:00:00\",\"1993-04-01T00:00:00\",\"1993-07-01T00:00:00\",\"1993-10-01T00:00:00\",\"1994-01-01T00:00:00\",\"1994-04-01T00:00:00\",\"1994-07-01T00:00:00\",\"1994-10-01T00:00:00\",\"1995-01-01T00:00:00\",\"1995-04-01T00:00:00\",\"1995-07-01T00:00:00\",\"1995-10-01T00:00:00\",\"1996-01-01T00:00:00\",\"1996-04-01T00:00:00\",\"1996-07-01T00:00:00\",\"1996-10-01T00:00:00\",\"1997-01-01T00:00:00\",\"1997-04-01T00:00:00\",\"1997-07-01T00:00:00\",\"1997-10-01T00:00:00\",\"1998-01-01T00:00:00\",\"1998-04-01T00:00:00\",\"1998-07-01T00:00:00\",\"1998-10-01T00:00:00\",\"1999-01-01T00:00:00\",\"1999-04-01T00:00:00\",\"1999-07-01T00:00:00\",\"1999-10-01T00:00:00\",\"2000-01-01T00:00:00\",\"2000-04-01T00:00:00\",\"2000-07-01T00:00:00\",\"2000-10-01T00:00:00\",\"2001-01-01T00:00:00\",\"2001-04-01T00:00:00\",\"2001-07-01T00:00:00\",\"2001-10-01T00:00:00\",\"2002-01-01T00:00:00\",\"2002-04-01T00:00:00\",\"2002-07-01T00:00:00\",\"2002-10-01T00:00:00\",\"2003-01-01T00:00:00\",\"2003-04-01T00:00:00\",\"2003-07-01T00:00:00\",\"2003-10-01T00:00:00\",\"2004-01-01T00:00:00\",\"2004-04-01T00:00:00\",\"2004-07-01T00:00:00\",\"2004-10-01T00:00:00\",\"2005-01-01T00:00:00\",\"2005-04-01T00:00:00\",\"2005-07-01T00:00:00\",\"2005-10-01T00:00:00\",\"2006-01-01T00:00:00\",\"2006-04-01T00:00:00\",\"2006-07-01T00:00:00\",\"2006-10-01T00:00:00\",\"2007-01-01T00:00:00\",\"2007-04-01T00:00:00\",\"2007-07-01T00:00:00\",\"2007-10-01T00:00:00\",\"2008-01-01T00:00:00\",\"2008-04-01T00:00:00\",\"2008-07-01T00:00:00\",\"2008-10-01T00:00:00\",\"2009-01-01T00:00:00\",\"2009-04-01T00:00:00\",\"2009-07-01T00:00:00\",\"2009-10-01T00:00:00\",\"2010-01-01T00:00:00\",\"2010-04-01T00:00:00\",\"2010-07-01T00:00:00\",\"2010-10-01T00:00:00\",\"2011-01-01T00:00:00\",\"2011-04-01T00:00:00\",\"2011-07-01T00:00:00\",\"2011-10-01T00:00:00\",\"2012-01-01T00:00:00\",\"2012-04-01T00:00:00\",\"2012-07-01T00:00:00\"],\"y\":[null,null,null,null,null,null,null,null,null,null,null,null,null,null,null,null,null,null,null,null,null,null,null,null,null,null,null,null,null,null,null,null,null,null,null,null,null,null,null,null,null,null,null,null,null,null,null,null,null,null,null,null,null,null,null,null,null,null,null,null,null,null,null,null,null,null,null,null,null,null,null,null,null,null,null,null,null,null,null,null,null,null,null,null,null,null,null,null,null,null,null,null,null,null,null,null,null,null,null,null,null,null,null,null,null,null,null,null,null,null,null,null,null,null,null,null,null,null,null,null,null,null,null,null,null,null,null,null,null,null,null,null,null,null,null,null,null,null,null,null,null,null,null,null,null,null,null,null,null,null,null,null,null,null,null,null,null,null,null,null,null,null,null,null,null,null,null,null,null,null,null,null,null,null,null,null,null,null,null,184.8999,184.8999,184.8999,184.8999,184.8999,184.8999,184.8999,184.8999,184.8999,184.8999,184.8999,184.8999,184.8999,184.8999,184.8999,184.8999,184.8999,184.8999,184.8999,184.8999,184.8999,184.8999,184.8999,184.8999,184.8999,184.8999,184.8999,184.8999,184.8999,184.8999,184.8999,184.8999,184.8999,184.8999,184.8999,184.8999],\"type\":\"scattergl\",\"xaxis\":\"x\",\"yaxis\":\"y\"},{\"line\":{\"color\":\"rgb(44, 160, 44)\",\"width\":2},\"marker\":{\"color\":\"rgb(44, 160, 44)\",\"size\":5},\"mode\":\"lines+markers\",\"name\":\"ETS(A,A,N)\",\"x\":[\"1959-01-01T00:00:00\",\"1959-04-01T00:00:00\",\"1959-07-01T00:00:00\",\"1959-10-01T00:00:00\",\"1960-01-01T00:00:00\",\"1960-04-01T00:00:00\",\"1960-07-01T00:00:00\",\"1960-10-01T00:00:00\",\"1961-01-01T00:00:00\",\"1961-04-01T00:00:00\",\"1961-07-01T00:00:00\",\"1961-10-01T00:00:00\",\"1962-01-01T00:00:00\",\"1962-04-01T00:00:00\",\"1962-07-01T00:00:00\",\"1962-10-01T00:00:00\",\"1963-01-01T00:00:00\",\"1963-04-01T00:00:00\",\"1963-07-01T00:00:00\",\"1963-10-01T00:00:00\",\"1964-01-01T00:00:00\",\"1964-04-01T00:00:00\",\"1964-07-01T00:00:00\",\"1964-10-01T00:00:00\",\"1965-01-01T00:00:00\",\"1965-04-01T00:00:00\",\"1965-07-01T00:00:00\",\"1965-10-01T00:00:00\",\"1966-01-01T00:00:00\",\"1966-04-01T00:00:00\",\"1966-07-01T00:00:00\",\"1966-10-01T00:00:00\",\"1967-01-01T00:00:00\",\"1967-04-01T00:00:00\",\"1967-07-01T00:00:00\",\"1967-10-01T00:00:00\",\"1968-01-01T00:00:00\",\"1968-04-01T00:00:00\",\"1968-07-01T00:00:00\",\"1968-10-01T00:00:00\",\"1969-01-01T00:00:00\",\"1969-04-01T00:00:00\",\"1969-07-01T00:00:00\",\"1969-10-01T00:00:00\",\"1970-01-01T00:00:00\",\"1970-04-01T00:00:00\",\"1970-07-01T00:00:00\",\"1970-10-01T00:00:00\",\"1971-01-01T00:00:00\",\"1971-04-01T00:00:00\",\"1971-07-01T00:00:00\",\"1971-10-01T00:00:00\",\"1972-01-01T00:00:00\",\"1972-04-01T00:00:00\",\"1972-07-01T00:00:00\",\"1972-10-01T00:00:00\",\"1973-01-01T00:00:00\",\"1973-04-01T00:00:00\",\"1973-07-01T00:00:00\",\"1973-10-01T00:00:00\",\"1974-01-01T00:00:00\",\"1974-04-01T00:00:00\",\"1974-07-01T00:00:00\",\"1974-10-01T00:00:00\",\"1975-01-01T00:00:00\",\"1975-04-01T00:00:00\",\"1975-07-01T00:00:00\",\"1975-10-01T00:00:00\",\"1976-01-01T00:00:00\",\"1976-04-01T00:00:00\",\"1976-07-01T00:00:00\",\"1976-10-01T00:00:00\",\"1977-01-01T00:00:00\",\"1977-04-01T00:00:00\",\"1977-07-01T00:00:00\",\"1977-10-01T00:00:00\",\"1978-01-01T00:00:00\",\"1978-04-01T00:00:00\",\"1978-07-01T00:00:00\",\"1978-10-01T00:00:00\",\"1979-01-01T00:00:00\",\"1979-04-01T00:00:00\",\"1979-07-01T00:00:00\",\"1979-10-01T00:00:00\",\"1980-01-01T00:00:00\",\"1980-04-01T00:00:00\",\"1980-07-01T00:00:00\",\"1980-10-01T00:00:00\",\"1981-01-01T00:00:00\",\"1981-04-01T00:00:00\",\"1981-07-01T00:00:00\",\"1981-10-01T00:00:00\",\"1982-01-01T00:00:00\",\"1982-04-01T00:00:00\",\"1982-07-01T00:00:00\",\"1982-10-01T00:00:00\",\"1983-01-01T00:00:00\",\"1983-04-01T00:00:00\",\"1983-07-01T00:00:00\",\"1983-10-01T00:00:00\",\"1984-01-01T00:00:00\",\"1984-04-01T00:00:00\",\"1984-07-01T00:00:00\",\"1984-10-01T00:00:00\",\"1985-01-01T00:00:00\",\"1985-04-01T00:00:00\",\"1985-07-01T00:00:00\",\"1985-10-01T00:00:00\",\"1986-01-01T00:00:00\",\"1986-04-01T00:00:00\",\"1986-07-01T00:00:00\",\"1986-10-01T00:00:00\",\"1987-01-01T00:00:00\",\"1987-04-01T00:00:00\",\"1987-07-01T00:00:00\",\"1987-10-01T00:00:00\",\"1988-01-01T00:00:00\",\"1988-04-01T00:00:00\",\"1988-07-01T00:00:00\",\"1988-10-01T00:00:00\",\"1989-01-01T00:00:00\",\"1989-04-01T00:00:00\",\"1989-07-01T00:00:00\",\"1989-10-01T00:00:00\",\"1990-01-01T00:00:00\",\"1990-04-01T00:00:00\",\"1990-07-01T00:00:00\",\"1990-10-01T00:00:00\",\"1991-01-01T00:00:00\",\"1991-04-01T00:00:00\",\"1991-07-01T00:00:00\",\"1991-10-01T00:00:00\",\"1992-01-01T00:00:00\",\"1992-04-01T00:00:00\",\"1992-07-01T00:00:00\",\"1992-10-01T00:00:00\",\"1993-01-01T00:00:00\",\"1993-04-01T00:00:00\",\"1993-07-01T00:00:00\",\"1993-10-01T00:00:00\",\"1994-01-01T00:00:00\",\"1994-04-01T00:00:00\",\"1994-07-01T00:00:00\",\"1994-10-01T00:00:00\",\"1995-01-01T00:00:00\",\"1995-04-01T00:00:00\",\"1995-07-01T00:00:00\",\"1995-10-01T00:00:00\",\"1996-01-01T00:00:00\",\"1996-04-01T00:00:00\",\"1996-07-01T00:00:00\",\"1996-10-01T00:00:00\",\"1997-01-01T00:00:00\",\"1997-04-01T00:00:00\",\"1997-07-01T00:00:00\",\"1997-10-01T00:00:00\",\"1998-01-01T00:00:00\",\"1998-04-01T00:00:00\",\"1998-07-01T00:00:00\",\"1998-10-01T00:00:00\",\"1999-01-01T00:00:00\",\"1999-04-01T00:00:00\",\"1999-07-01T00:00:00\",\"1999-10-01T00:00:00\",\"2000-01-01T00:00:00\",\"2000-04-01T00:00:00\",\"2000-07-01T00:00:00\",\"2000-10-01T00:00:00\",\"2001-01-01T00:00:00\",\"2001-04-01T00:00:00\",\"2001-07-01T00:00:00\",\"2001-10-01T00:00:00\",\"2002-01-01T00:00:00\",\"2002-04-01T00:00:00\",\"2002-07-01T00:00:00\",\"2002-10-01T00:00:00\",\"2003-01-01T00:00:00\",\"2003-04-01T00:00:00\",\"2003-07-01T00:00:00\",\"2003-10-01T00:00:00\",\"2004-01-01T00:00:00\",\"2004-04-01T00:00:00\",\"2004-07-01T00:00:00\",\"2004-10-01T00:00:00\",\"2005-01-01T00:00:00\",\"2005-04-01T00:00:00\",\"2005-07-01T00:00:00\",\"2005-10-01T00:00:00\",\"2006-01-01T00:00:00\",\"2006-04-01T00:00:00\",\"2006-07-01T00:00:00\",\"2006-10-01T00:00:00\",\"2007-01-01T00:00:00\",\"2007-04-01T00:00:00\",\"2007-07-01T00:00:00\",\"2007-10-01T00:00:00\",\"2008-01-01T00:00:00\",\"2008-04-01T00:00:00\",\"2008-07-01T00:00:00\",\"2008-10-01T00:00:00\",\"2009-01-01T00:00:00\",\"2009-04-01T00:00:00\",\"2009-07-01T00:00:00\",\"2009-10-01T00:00:00\",\"2010-01-01T00:00:00\",\"2010-04-01T00:00:00\",\"2010-07-01T00:00:00\",\"2010-10-01T00:00:00\",\"2011-01-01T00:00:00\",\"2011-04-01T00:00:00\",\"2011-07-01T00:00:00\",\"2011-10-01T00:00:00\",\"2012-01-01T00:00:00\",\"2012-04-01T00:00:00\",\"2012-07-01T00:00:00\"],\"y\":[null,null,null,null,null,null,null,null,null,null,null,null,null,null,null,null,null,null,null,null,null,null,null,null,null,null,null,null,null,null,null,null,null,null,null,null,null,null,null,null,null,null,null,null,null,null,null,null,null,null,null,null,null,null,null,null,null,null,null,null,null,null,null,null,null,null,null,null,null,null,null,null,null,null,null,null,null,null,null,null,null,null,null,null,null,null,null,null,null,null,null,null,null,null,null,null,null,null,null,null,null,null,null,null,null,null,null,null,null,null,null,null,null,null,null,null,null,null,null,null,null,null,null,null,null,null,null,null,null,null,null,null,null,null,null,null,null,null,null,null,null,null,null,null,null,null,null,null,null,null,null,null,null,null,null,null,null,null,null,null,null,null,null,null,null,null,null,null,null,null,null,null,null,null,null,null,null,null,null,185.7943,186.7144,187.6344,188.5545,189.4746,190.3947,191.3148,192.2349,193.1549,194.075,194.9951,195.9152,196.8353,197.7554,198.6754,199.5955,200.5156,201.4357,202.3558,203.2759,204.196,205.116,206.0361,206.9562,207.8763,208.7964,209.7165,210.6365,211.5566,212.4767,213.3968,214.3169,215.237,216.157,217.0771,217.9972],\"type\":\"scattergl\",\"xaxis\":\"x\",\"yaxis\":\"y\"},{\"line\":{\"color\":\"rgb(214, 39, 40)\",\"width\":2},\"marker\":{\"color\":\"rgb(214, 39, 40)\",\"size\":5},\"mode\":\"lines+markers\",\"name\":\"ETS(A,A,A)\",\"x\":[\"1959-01-01T00:00:00\",\"1959-04-01T00:00:00\",\"1959-07-01T00:00:00\",\"1959-10-01T00:00:00\",\"1960-01-01T00:00:00\",\"1960-04-01T00:00:00\",\"1960-07-01T00:00:00\",\"1960-10-01T00:00:00\",\"1961-01-01T00:00:00\",\"1961-04-01T00:00:00\",\"1961-07-01T00:00:00\",\"1961-10-01T00:00:00\",\"1962-01-01T00:00:00\",\"1962-04-01T00:00:00\",\"1962-07-01T00:00:00\",\"1962-10-01T00:00:00\",\"1963-01-01T00:00:00\",\"1963-04-01T00:00:00\",\"1963-07-01T00:00:00\",\"1963-10-01T00:00:00\",\"1964-01-01T00:00:00\",\"1964-04-01T00:00:00\",\"1964-07-01T00:00:00\",\"1964-10-01T00:00:00\",\"1965-01-01T00:00:00\",\"1965-04-01T00:00:00\",\"1965-07-01T00:00:00\",\"1965-10-01T00:00:00\",\"1966-01-01T00:00:00\",\"1966-04-01T00:00:00\",\"1966-07-01T00:00:00\",\"1966-10-01T00:00:00\",\"1967-01-01T00:00:00\",\"1967-04-01T00:00:00\",\"1967-07-01T00:00:00\",\"1967-10-01T00:00:00\",\"1968-01-01T00:00:00\",\"1968-04-01T00:00:00\",\"1968-07-01T00:00:00\",\"1968-10-01T00:00:00\",\"1969-01-01T00:00:00\",\"1969-04-01T00:00:00\",\"1969-07-01T00:00:00\",\"1969-10-01T00:00:00\",\"1970-01-01T00:00:00\",\"1970-04-01T00:00:00\",\"1970-07-01T00:00:00\",\"1970-10-01T00:00:00\",\"1971-01-01T00:00:00\",\"1971-04-01T00:00:00\",\"1971-07-01T00:00:00\",\"1971-10-01T00:00:00\",\"1972-01-01T00:00:00\",\"1972-04-01T00:00:00\",\"1972-07-01T00:00:00\",\"1972-10-01T00:00:00\",\"1973-01-01T00:00:00\",\"1973-04-01T00:00:00\",\"1973-07-01T00:00:00\",\"1973-10-01T00:00:00\",\"1974-01-01T00:00:00\",\"1974-04-01T00:00:00\",\"1974-07-01T00:00:00\",\"1974-10-01T00:00:00\",\"1975-01-01T00:00:00\",\"1975-04-01T00:00:00\",\"1975-07-01T00:00:00\",\"1975-10-01T00:00:00\",\"1976-01-01T00:00:00\",\"1976-04-01T00:00:00\",\"1976-07-01T00:00:00\",\"1976-10-01T00:00:00\",\"1977-01-01T00:00:00\",\"1977-04-01T00:00:00\",\"1977-07-01T00:00:00\",\"1977-10-01T00:00:00\",\"1978-01-01T00:00:00\",\"1978-04-01T00:00:00\",\"1978-07-01T00:00:00\",\"1978-10-01T00:00:00\",\"1979-01-01T00:00:00\",\"1979-04-01T00:00:00\",\"1979-07-01T00:00:00\",\"1979-10-01T00:00:00\",\"1980-01-01T00:00:00\",\"1980-04-01T00:00:00\",\"1980-07-01T00:00:00\",\"1980-10-01T00:00:00\",\"1981-01-01T00:00:00\",\"1981-04-01T00:00:00\",\"1981-07-01T00:00:00\",\"1981-10-01T00:00:00\",\"1982-01-01T00:00:00\",\"1982-04-01T00:00:00\",\"1982-07-01T00:00:00\",\"1982-10-01T00:00:00\",\"1983-01-01T00:00:00\",\"1983-04-01T00:00:00\",\"1983-07-01T00:00:00\",\"1983-10-01T00:00:00\",\"1984-01-01T00:00:00\",\"1984-04-01T00:00:00\",\"1984-07-01T00:00:00\",\"1984-10-01T00:00:00\",\"1985-01-01T00:00:00\",\"1985-04-01T00:00:00\",\"1985-07-01T00:00:00\",\"1985-10-01T00:00:00\",\"1986-01-01T00:00:00\",\"1986-04-01T00:00:00\",\"1986-07-01T00:00:00\",\"1986-10-01T00:00:00\",\"1987-01-01T00:00:00\",\"1987-04-01T00:00:00\",\"1987-07-01T00:00:00\",\"1987-10-01T00:00:00\",\"1988-01-01T00:00:00\",\"1988-04-01T00:00:00\",\"1988-07-01T00:00:00\",\"1988-10-01T00:00:00\",\"1989-01-01T00:00:00\",\"1989-04-01T00:00:00\",\"1989-07-01T00:00:00\",\"1989-10-01T00:00:00\",\"1990-01-01T00:00:00\",\"1990-04-01T00:00:00\",\"1990-07-01T00:00:00\",\"1990-10-01T00:00:00\",\"1991-01-01T00:00:00\",\"1991-04-01T00:00:00\",\"1991-07-01T00:00:00\",\"1991-10-01T00:00:00\",\"1992-01-01T00:00:00\",\"1992-04-01T00:00:00\",\"1992-07-01T00:00:00\",\"1992-10-01T00:00:00\",\"1993-01-01T00:00:00\",\"1993-04-01T00:00:00\",\"1993-07-01T00:00:00\",\"1993-10-01T00:00:00\",\"1994-01-01T00:00:00\",\"1994-04-01T00:00:00\",\"1994-07-01T00:00:00\",\"1994-10-01T00:00:00\",\"1995-01-01T00:00:00\",\"1995-04-01T00:00:00\",\"1995-07-01T00:00:00\",\"1995-10-01T00:00:00\",\"1996-01-01T00:00:00\",\"1996-04-01T00:00:00\",\"1996-07-01T00:00:00\",\"1996-10-01T00:00:00\",\"1997-01-01T00:00:00\",\"1997-04-01T00:00:00\",\"1997-07-01T00:00:00\",\"1997-10-01T00:00:00\",\"1998-01-01T00:00:00\",\"1998-04-01T00:00:00\",\"1998-07-01T00:00:00\",\"1998-10-01T00:00:00\",\"1999-01-01T00:00:00\",\"1999-04-01T00:00:00\",\"1999-07-01T00:00:00\",\"1999-10-01T00:00:00\",\"2000-01-01T00:00:00\",\"2000-04-01T00:00:00\",\"2000-07-01T00:00:00\",\"2000-10-01T00:00:00\",\"2001-01-01T00:00:00\",\"2001-04-01T00:00:00\",\"2001-07-01T00:00:00\",\"2001-10-01T00:00:00\",\"2002-01-01T00:00:00\",\"2002-04-01T00:00:00\",\"2002-07-01T00:00:00\",\"2002-10-01T00:00:00\",\"2003-01-01T00:00:00\",\"2003-04-01T00:00:00\",\"2003-07-01T00:00:00\",\"2003-10-01T00:00:00\",\"2004-01-01T00:00:00\",\"2004-04-01T00:00:00\",\"2004-07-01T00:00:00\",\"2004-10-01T00:00:00\",\"2005-01-01T00:00:00\",\"2005-04-01T00:00:00\",\"2005-07-01T00:00:00\",\"2005-10-01T00:00:00\",\"2006-01-01T00:00:00\",\"2006-04-01T00:00:00\",\"2006-07-01T00:00:00\",\"2006-10-01T00:00:00\",\"2007-01-01T00:00:00\",\"2007-04-01T00:00:00\",\"2007-07-01T00:00:00\",\"2007-10-01T00:00:00\",\"2008-01-01T00:00:00\",\"2008-04-01T00:00:00\",\"2008-07-01T00:00:00\",\"2008-10-01T00:00:00\",\"2009-01-01T00:00:00\",\"2009-04-01T00:00:00\",\"2009-07-01T00:00:00\",\"2009-10-01T00:00:00\",\"2010-01-01T00:00:00\",\"2010-04-01T00:00:00\",\"2010-07-01T00:00:00\",\"2010-10-01T00:00:00\",\"2011-01-01T00:00:00\",\"2011-04-01T00:00:00\",\"2011-07-01T00:00:00\",\"2011-10-01T00:00:00\",\"2012-01-01T00:00:00\",\"2012-04-01T00:00:00\",\"2012-07-01T00:00:00\"],\"y\":[null,null,null,null,null,null,null,null,null,null,null,null,null,null,null,null,null,null,null,null,null,null,null,null,null,null,null,null,null,null,null,null,null,null,null,null,null,null,null,null,null,null,null,null,null,null,null,null,null,null,null,null,null,null,null,null,null,null,null,null,null,null,null,null,null,null,null,null,null,null,null,null,null,null,null,null,null,null,null,null,null,null,null,null,null,null,null,null,null,null,null,null,null,null,null,null,null,null,null,null,null,null,null,null,null,null,null,null,null,null,null,null,null,null,null,null,null,null,null,null,null,null,null,null,null,null,null,null,null,null,null,null,null,null,null,null,null,null,null,null,null,null,null,null,null,null,null,null,null,null,null,null,null,null,null,null,null,null,null,null,null,null,null,null,null,null,null,null,null,null,null,null,null,null,null,null,null,null,null,185.7308,186.7,187.6159,188.4705,189.4397,190.3556,191.2102,192.1794,193.0953,193.9499,194.9191,195.835,196.6896,197.6588,198.5747,199.4293,200.3985,201.3144,202.169,203.1382,204.0541,204.9087,205.8779,206.7938,207.6484,208.6176,209.5335,210.3881,211.3573,212.2732,213.1278,214.097,215.0129,215.8675,216.8367,217.7526],\"type\":\"scattergl\",\"xaxis\":\"x\",\"yaxis\":\"y\"}],                        {\"template\":{\"data\":{\"barpolar\":[{\"marker\":{\"line\":{\"color\":\"rgb(237,237,237)\",\"width\":0.5},\"pattern\":{\"fillmode\":\"overlay\",\"size\":10,\"solidity\":0.2}},\"type\":\"barpolar\"}],\"bar\":[{\"error_x\":{\"color\":\"rgb(51,51,51)\"},\"error_y\":{\"color\":\"rgb(51,51,51)\"},\"marker\":{\"line\":{\"color\":\"rgb(237,237,237)\",\"width\":0.5},\"pattern\":{\"fillmode\":\"overlay\",\"size\":10,\"solidity\":0.2}},\"type\":\"bar\"}],\"carpet\":[{\"aaxis\":{\"endlinecolor\":\"rgb(51,51,51)\",\"gridcolor\":\"white\",\"linecolor\":\"white\",\"minorgridcolor\":\"white\",\"startlinecolor\":\"rgb(51,51,51)\"},\"baxis\":{\"endlinecolor\":\"rgb(51,51,51)\",\"gridcolor\":\"white\",\"linecolor\":\"white\",\"minorgridcolor\":\"white\",\"startlinecolor\":\"rgb(51,51,51)\"},\"type\":\"carpet\"}],\"choropleth\":[{\"colorbar\":{\"outlinewidth\":0,\"tickcolor\":\"rgb(237,237,237)\",\"ticklen\":6,\"ticks\":\"inside\"},\"type\":\"choropleth\"}],\"contourcarpet\":[{\"colorbar\":{\"outlinewidth\":0,\"tickcolor\":\"rgb(237,237,237)\",\"ticklen\":6,\"ticks\":\"inside\"},\"type\":\"contourcarpet\"}],\"contour\":[{\"colorbar\":{\"outlinewidth\":0,\"tickcolor\":\"rgb(237,237,237)\",\"ticklen\":6,\"ticks\":\"inside\"},\"colorscale\":[[0,\"rgb(20,44,66)\"],[1,\"rgb(90,179,244)\"]],\"type\":\"contour\"}],\"heatmapgl\":[{\"colorbar\":{\"outlinewidth\":0,\"tickcolor\":\"rgb(237,237,237)\",\"ticklen\":6,\"ticks\":\"inside\"},\"colorscale\":[[0,\"rgb(20,44,66)\"],[1,\"rgb(90,179,244)\"]],\"type\":\"heatmapgl\"}],\"heatmap\":[{\"colorbar\":{\"outlinewidth\":0,\"tickcolor\":\"rgb(237,237,237)\",\"ticklen\":6,\"ticks\":\"inside\"},\"colorscale\":[[0,\"rgb(20,44,66)\"],[1,\"rgb(90,179,244)\"]],\"type\":\"heatmap\"}],\"histogram2dcontour\":[{\"colorbar\":{\"outlinewidth\":0,\"tickcolor\":\"rgb(237,237,237)\",\"ticklen\":6,\"ticks\":\"inside\"},\"colorscale\":[[0,\"rgb(20,44,66)\"],[1,\"rgb(90,179,244)\"]],\"type\":\"histogram2dcontour\"}],\"histogram2d\":[{\"colorbar\":{\"outlinewidth\":0,\"tickcolor\":\"rgb(237,237,237)\",\"ticklen\":6,\"ticks\":\"inside\"},\"colorscale\":[[0,\"rgb(20,44,66)\"],[1,\"rgb(90,179,244)\"]],\"type\":\"histogram2d\"}],\"histogram\":[{\"marker\":{\"pattern\":{\"fillmode\":\"overlay\",\"size\":10,\"solidity\":0.2}},\"type\":\"histogram\"}],\"mesh3d\":[{\"colorbar\":{\"outlinewidth\":0,\"tickcolor\":\"rgb(237,237,237)\",\"ticklen\":6,\"ticks\":\"inside\"},\"type\":\"mesh3d\"}],\"parcoords\":[{\"line\":{\"colorbar\":{\"outlinewidth\":0,\"tickcolor\":\"rgb(237,237,237)\",\"ticklen\":6,\"ticks\":\"inside\"}},\"type\":\"parcoords\"}],\"pie\":[{\"automargin\":true,\"type\":\"pie\"}],\"scatter3d\":[{\"line\":{\"colorbar\":{\"outlinewidth\":0,\"tickcolor\":\"rgb(237,237,237)\",\"ticklen\":6,\"ticks\":\"inside\"}},\"marker\":{\"colorbar\":{\"outlinewidth\":0,\"tickcolor\":\"rgb(237,237,237)\",\"ticklen\":6,\"ticks\":\"inside\"}},\"type\":\"scatter3d\"}],\"scattercarpet\":[{\"marker\":{\"colorbar\":{\"outlinewidth\":0,\"tickcolor\":\"rgb(237,237,237)\",\"ticklen\":6,\"ticks\":\"inside\"}},\"type\":\"scattercarpet\"}],\"scattergeo\":[{\"marker\":{\"colorbar\":{\"outlinewidth\":0,\"tickcolor\":\"rgb(237,237,237)\",\"ticklen\":6,\"ticks\":\"inside\"}},\"type\":\"scattergeo\"}],\"scattergl\":[{\"marker\":{\"colorbar\":{\"outlinewidth\":0,\"tickcolor\":\"rgb(237,237,237)\",\"ticklen\":6,\"ticks\":\"inside\"}},\"type\":\"scattergl\"}],\"scattermapbox\":[{\"marker\":{\"colorbar\":{\"outlinewidth\":0,\"tickcolor\":\"rgb(237,237,237)\",\"ticklen\":6,\"ticks\":\"inside\"}},\"type\":\"scattermapbox\"}],\"scatterpolargl\":[{\"marker\":{\"colorbar\":{\"outlinewidth\":0,\"tickcolor\":\"rgb(237,237,237)\",\"ticklen\":6,\"ticks\":\"inside\"}},\"type\":\"scatterpolargl\"}],\"scatterpolar\":[{\"marker\":{\"colorbar\":{\"outlinewidth\":0,\"tickcolor\":\"rgb(237,237,237)\",\"ticklen\":6,\"ticks\":\"inside\"}},\"type\":\"scatterpolar\"}],\"scatter\":[{\"fillpattern\":{\"fillmode\":\"overlay\",\"size\":10,\"solidity\":0.2},\"type\":\"scatter\"}],\"scatterternary\":[{\"marker\":{\"colorbar\":{\"outlinewidth\":0,\"tickcolor\":\"rgb(237,237,237)\",\"ticklen\":6,\"ticks\":\"inside\"}},\"type\":\"scatterternary\"}],\"surface\":[{\"colorbar\":{\"outlinewidth\":0,\"tickcolor\":\"rgb(237,237,237)\",\"ticklen\":6,\"ticks\":\"inside\"},\"colorscale\":[[0,\"rgb(20,44,66)\"],[1,\"rgb(90,179,244)\"]],\"type\":\"surface\"}],\"table\":[{\"cells\":{\"fill\":{\"color\":\"rgb(237,237,237)\"},\"line\":{\"color\":\"white\"}},\"header\":{\"fill\":{\"color\":\"rgb(217,217,217)\"},\"line\":{\"color\":\"white\"}},\"type\":\"table\"}]},\"layout\":{\"annotationdefaults\":{\"arrowhead\":0,\"arrowwidth\":1},\"autotypenumbers\":\"strict\",\"coloraxis\":{\"colorbar\":{\"outlinewidth\":0,\"tickcolor\":\"rgb(237,237,237)\",\"ticklen\":6,\"ticks\":\"inside\"}},\"colorscale\":{\"sequential\":[[0,\"rgb(20,44,66)\"],[1,\"rgb(90,179,244)\"]],\"sequentialminus\":[[0,\"rgb(20,44,66)\"],[1,\"rgb(90,179,244)\"]]},\"colorway\":[\"#F8766D\",\"#A3A500\",\"#00BF7D\",\"#00B0F6\",\"#E76BF3\"],\"font\":{\"color\":\"rgb(51,51,51)\"},\"geo\":{\"bgcolor\":\"white\",\"lakecolor\":\"white\",\"landcolor\":\"rgb(237,237,237)\",\"showlakes\":true,\"showland\":true,\"subunitcolor\":\"white\"},\"hoverlabel\":{\"align\":\"left\"},\"hovermode\":\"closest\",\"paper_bgcolor\":\"white\",\"plot_bgcolor\":\"rgb(237,237,237)\",\"polar\":{\"angularaxis\":{\"gridcolor\":\"white\",\"linecolor\":\"white\",\"showgrid\":true,\"tickcolor\":\"rgb(51,51,51)\",\"ticks\":\"outside\"},\"bgcolor\":\"rgb(237,237,237)\",\"radialaxis\":{\"gridcolor\":\"white\",\"linecolor\":\"white\",\"showgrid\":true,\"tickcolor\":\"rgb(51,51,51)\",\"ticks\":\"outside\"}},\"scene\":{\"xaxis\":{\"backgroundcolor\":\"rgb(237,237,237)\",\"gridcolor\":\"white\",\"gridwidth\":2,\"linecolor\":\"white\",\"showbackground\":true,\"showgrid\":true,\"tickcolor\":\"rgb(51,51,51)\",\"ticks\":\"outside\",\"zerolinecolor\":\"white\"},\"yaxis\":{\"backgroundcolor\":\"rgb(237,237,237)\",\"gridcolor\":\"white\",\"gridwidth\":2,\"linecolor\":\"white\",\"showbackground\":true,\"showgrid\":true,\"tickcolor\":\"rgb(51,51,51)\",\"ticks\":\"outside\",\"zerolinecolor\":\"white\"},\"zaxis\":{\"backgroundcolor\":\"rgb(237,237,237)\",\"gridcolor\":\"white\",\"gridwidth\":2,\"linecolor\":\"white\",\"showbackground\":true,\"showgrid\":true,\"tickcolor\":\"rgb(51,51,51)\",\"ticks\":\"outside\",\"zerolinecolor\":\"white\"}},\"shapedefaults\":{\"fillcolor\":\"black\",\"line\":{\"width\":0},\"opacity\":0.3},\"ternary\":{\"aaxis\":{\"gridcolor\":\"white\",\"linecolor\":\"white\",\"showgrid\":true,\"tickcolor\":\"rgb(51,51,51)\",\"ticks\":\"outside\"},\"baxis\":{\"gridcolor\":\"white\",\"linecolor\":\"white\",\"showgrid\":true,\"tickcolor\":\"rgb(51,51,51)\",\"ticks\":\"outside\"},\"bgcolor\":\"rgb(237,237,237)\",\"caxis\":{\"gridcolor\":\"white\",\"linecolor\":\"white\",\"showgrid\":true,\"tickcolor\":\"rgb(51,51,51)\",\"ticks\":\"outside\"}},\"xaxis\":{\"automargin\":true,\"gridcolor\":\"white\",\"linecolor\":\"white\",\"showgrid\":true,\"tickcolor\":\"rgb(51,51,51)\",\"ticks\":\"outside\",\"title\":{\"standoff\":15},\"zerolinecolor\":\"white\"},\"yaxis\":{\"automargin\":true,\"gridcolor\":\"white\",\"linecolor\":\"white\",\"showgrid\":true,\"tickcolor\":\"rgb(51,51,51)\",\"ticks\":\"outside\",\"title\":{\"standoff\":15},\"zerolinecolor\":\"white\"}}},\"xaxis\":{\"anchor\":\"y\",\"domain\":[0.0,1.0]},\"yaxis\":{\"anchor\":\"x\",\"domain\":[0.0,1.0]},\"showlegend\":true,\"title\":{\"text\":\"Actual vs. Forecast (Out-of-Sample)\"}},                        {\"responsive\": true}                    ).then(function(){\n",
              "                            \n",
              "var gd = document.getElementById('769f8259-d9e0-4cf7-98ec-142531080e05');\n",
              "var x = new MutationObserver(function (mutations, observer) {{\n",
              "        var display = window.getComputedStyle(gd).display;\n",
              "        if (!display || display === 'none') {{\n",
              "            console.log([gd, 'removed!']);\n",
              "            Plotly.purge(gd);\n",
              "            observer.disconnect();\n",
              "        }}\n",
              "}});\n",
              "\n",
              "// Listen for the removal of the full notebook cells\n",
              "var notebookContainer = gd.closest('#notebook-container');\n",
              "if (notebookContainer) {{\n",
              "    x.observe(notebookContainer, {childList: true});\n",
              "}}\n",
              "\n",
              "// Listen for the clearing of the current output cell\n",
              "var outputEl = gd.closest('.output');\n",
              "if (outputEl) {{\n",
              "    x.observe(outputEl, {childList: true});\n",
              "}}\n",
              "\n",
              "                        })                };                            </script>        </div>\n",
              "</body>\n",
              "</html>"
            ]
          },
          "metadata": {},
          "output_type": "display_data"
        }
      ],
      "source": [
        "exp.plot_model([ets_ANN, ets_AAN, ets_AAA], plot='forecast', data_kwargs={'fh':36, 'labels':[\"ETS(A,N,N)\", \"ETS(A,A,N)\", \"ETS(A,A,A)\"]})\n"
      ]
    },
    {
      "cell_type": "markdown",
      "metadata": {
        "id": "G3UsB-X2RK72"
      },
      "source": [
        "The ETS(A,A,A) and ETS(A,A,N) are nearly overlapping, and comparing their values in the table you can see how similar they are."
      ]
    },
    {
      "cell_type": "markdown",
      "metadata": {
        "id": "AYd3PJxXRZ-c"
      },
      "source": [
        "## 4. Make a prediction\n",
        "The best prediction for the 2009, quarter 3 is the following:"
      ]
    },
    {
      "cell_type": "code",
      "execution_count": null,
      "metadata": {
        "colab": {
          "base_uri": "https://localhost:8080/",
          "height": 89
        },
        "id": "EV_5UVnbSGiv",
        "outputId": "b0eb30be-7174-4f4d-d85f-d3d1035f8e79"
      },
      "outputs": [
        {
          "data": {
            "application/vnd.google.colaboratory.intrinsic+json": {
              "summary": "{\n  \"name\": \"ets_AAN_prediction\",\n  \"rows\": 1,\n  \"fields\": [\n    {\n      \"column\": \"cpi\",\n      \"properties\": {\n        \"dtype\": \"number\",\n        \"std\": null,\n        \"min\": 206.95620397445703,\n        \"max\": 206.95620397445703,\n        \"num_unique_values\": 1,\n        \"samples\": [\n          206.95620397445703\n        ],\n        \"semantic_type\": \"\",\n        \"description\": \"\"\n      }\n    }\n  ]\n}",
              "type": "dataframe",
              "variable_name": "ets_AAN_prediction"
            },
            "text/html": [
              "\n",
              "  <div id=\"df-28427c31-5cfa-4571-9108-e760393bd41a\" class=\"colab-df-container\">\n",
              "    <div>\n",
              "<style scoped>\n",
              "    .dataframe tbody tr th:only-of-type {\n",
              "        vertical-align: middle;\n",
              "    }\n",
              "\n",
              "    .dataframe tbody tr th {\n",
              "        vertical-align: top;\n",
              "    }\n",
              "\n",
              "    .dataframe thead th {\n",
              "        text-align: right;\n",
              "    }\n",
              "</style>\n",
              "<table border=\"1\" class=\"dataframe\">\n",
              "  <thead>\n",
              "    <tr style=\"text-align: right;\">\n",
              "      <th></th>\n",
              "      <th>cpi</th>\n",
              "    </tr>\n",
              "  </thead>\n",
              "  <tbody>\n",
              "    <tr>\n",
              "      <th>2009Q3</th>\n",
              "      <td>206.956204</td>\n",
              "    </tr>\n",
              "  </tbody>\n",
              "</table>\n",
              "</div>\n",
              "    <div class=\"colab-df-buttons\">\n",
              "\n",
              "  <div class=\"colab-df-container\">\n",
              "    <button class=\"colab-df-convert\" onclick=\"convertToInteractive('df-28427c31-5cfa-4571-9108-e760393bd41a')\"\n",
              "            title=\"Convert this dataframe to an interactive table.\"\n",
              "            style=\"display:none;\">\n",
              "\n",
              "  <svg xmlns=\"http://www.w3.org/2000/svg\" height=\"24px\" viewBox=\"0 -960 960 960\">\n",
              "    <path d=\"M120-120v-720h720v720H120Zm60-500h600v-160H180v160Zm220 220h160v-160H400v160Zm0 220h160v-160H400v160ZM180-400h160v-160H180v160Zm440 0h160v-160H620v160ZM180-180h160v-160H180v160Zm440 0h160v-160H620v160Z\"/>\n",
              "  </svg>\n",
              "    </button>\n",
              "\n",
              "  <style>\n",
              "    .colab-df-container {\n",
              "      display:flex;\n",
              "      gap: 12px;\n",
              "    }\n",
              "\n",
              "    .colab-df-convert {\n",
              "      background-color: #E8F0FE;\n",
              "      border: none;\n",
              "      border-radius: 50%;\n",
              "      cursor: pointer;\n",
              "      display: none;\n",
              "      fill: #1967D2;\n",
              "      height: 32px;\n",
              "      padding: 0 0 0 0;\n",
              "      width: 32px;\n",
              "    }\n",
              "\n",
              "    .colab-df-convert:hover {\n",
              "      background-color: #E2EBFA;\n",
              "      box-shadow: 0px 1px 2px rgba(60, 64, 67, 0.3), 0px 1px 3px 1px rgba(60, 64, 67, 0.15);\n",
              "      fill: #174EA6;\n",
              "    }\n",
              "\n",
              "    .colab-df-buttons div {\n",
              "      margin-bottom: 4px;\n",
              "    }\n",
              "\n",
              "    [theme=dark] .colab-df-convert {\n",
              "      background-color: #3B4455;\n",
              "      fill: #D2E3FC;\n",
              "    }\n",
              "\n",
              "    [theme=dark] .colab-df-convert:hover {\n",
              "      background-color: #434B5C;\n",
              "      box-shadow: 0px 1px 3px 1px rgba(0, 0, 0, 0.15);\n",
              "      filter: drop-shadow(0px 1px 2px rgba(0, 0, 0, 0.3));\n",
              "      fill: #FFFFFF;\n",
              "    }\n",
              "  </style>\n",
              "\n",
              "    <script>\n",
              "      const buttonEl =\n",
              "        document.querySelector('#df-28427c31-5cfa-4571-9108-e760393bd41a button.colab-df-convert');\n",
              "      buttonEl.style.display =\n",
              "        google.colab.kernel.accessAllowed ? 'block' : 'none';\n",
              "\n",
              "      async function convertToInteractive(key) {\n",
              "        const element = document.querySelector('#df-28427c31-5cfa-4571-9108-e760393bd41a');\n",
              "        const dataTable =\n",
              "          await google.colab.kernel.invokeFunction('convertToInteractive',\n",
              "                                                    [key], {});\n",
              "        if (!dataTable) return;\n",
              "\n",
              "        const docLinkHtml = 'Like what you see? Visit the ' +\n",
              "          '<a target=\"_blank\" href=https://colab.research.google.com/notebooks/data_table.ipynb>data table notebook</a>'\n",
              "          + ' to learn more about interactive tables.';\n",
              "        element.innerHTML = '';\n",
              "        dataTable['output_type'] = 'display_data';\n",
              "        await google.colab.output.renderOutput(dataTable, element);\n",
              "        const docLink = document.createElement('div');\n",
              "        docLink.innerHTML = docLinkHtml;\n",
              "        element.appendChild(docLink);\n",
              "      }\n",
              "    </script>\n",
              "  </div>\n",
              "\n",
              "\n",
              "  <div id=\"id_3980ad30-047a-4c04-b773-88295c819e3e\">\n",
              "    <style>\n",
              "      .colab-df-generate {\n",
              "        background-color: #E8F0FE;\n",
              "        border: none;\n",
              "        border-radius: 50%;\n",
              "        cursor: pointer;\n",
              "        display: none;\n",
              "        fill: #1967D2;\n",
              "        height: 32px;\n",
              "        padding: 0 0 0 0;\n",
              "        width: 32px;\n",
              "      }\n",
              "\n",
              "      .colab-df-generate:hover {\n",
              "        background-color: #E2EBFA;\n",
              "        box-shadow: 0px 1px 2px rgba(60, 64, 67, 0.3), 0px 1px 3px 1px rgba(60, 64, 67, 0.15);\n",
              "        fill: #174EA6;\n",
              "      }\n",
              "\n",
              "      [theme=dark] .colab-df-generate {\n",
              "        background-color: #3B4455;\n",
              "        fill: #D2E3FC;\n",
              "      }\n",
              "\n",
              "      [theme=dark] .colab-df-generate:hover {\n",
              "        background-color: #434B5C;\n",
              "        box-shadow: 0px 1px 3px 1px rgba(0, 0, 0, 0.15);\n",
              "        filter: drop-shadow(0px 1px 2px rgba(0, 0, 0, 0.3));\n",
              "        fill: #FFFFFF;\n",
              "      }\n",
              "    </style>\n",
              "    <button class=\"colab-df-generate\" onclick=\"generateWithVariable('ets_AAN_prediction')\"\n",
              "            title=\"Generate code using this dataframe.\"\n",
              "            style=\"display:none;\">\n",
              "\n",
              "  <svg xmlns=\"http://www.w3.org/2000/svg\" height=\"24px\"viewBox=\"0 0 24 24\"\n",
              "       width=\"24px\">\n",
              "    <path d=\"M7,19H8.4L18.45,9,17,7.55,7,17.6ZM5,21V16.75L18.45,3.32a2,2,0,0,1,2.83,0l1.4,1.43a1.91,1.91,0,0,1,.58,1.4,1.91,1.91,0,0,1-.58,1.4L9.25,21ZM18.45,9,17,7.55Zm-12,3A5.31,5.31,0,0,0,4.9,8.1,5.31,5.31,0,0,0,1,6.5,5.31,5.31,0,0,0,4.9,4.9,5.31,5.31,0,0,0,6.5,1,5.31,5.31,0,0,0,8.1,4.9,5.31,5.31,0,0,0,12,6.5,5.46,5.46,0,0,0,6.5,12Z\"/>\n",
              "  </svg>\n",
              "    </button>\n",
              "    <script>\n",
              "      (() => {\n",
              "      const buttonEl =\n",
              "        document.querySelector('#id_3980ad30-047a-4c04-b773-88295c819e3e button.colab-df-generate');\n",
              "      buttonEl.style.display =\n",
              "        google.colab.kernel.accessAllowed ? 'block' : 'none';\n",
              "\n",
              "      buttonEl.onclick = () => {\n",
              "        google.colab.notebook.generateWithVariable('ets_AAN_prediction');\n",
              "      }\n",
              "      })();\n",
              "    </script>\n",
              "  </div>\n",
              "\n",
              "    </div>\n",
              "  </div>\n"
            ],
            "text/plain": [
              "               cpi\n",
              "2009Q3  206.956204"
            ]
          },
          "execution_count": 77,
          "metadata": {},
          "output_type": "execute_result"
        }
      ],
      "source": [
        "ets_AAN_prediction = ets_AAN.predict(pd.period_range(start='2009Q3', periods=1, freq='Q'))\n",
        "ets_AAN_prediction"
      ]
    },
    {
      "cell_type": "markdown",
      "metadata": {
        "id": "SZ1q5ANWSiIO"
      },
      "source": [
        "## 5. Finalize the best ETS model\n",
        "Forecast using the final model on 2023Q1"
      ]
    },
    {
      "cell_type": "code",
      "execution_count": null,
      "metadata": {
        "colab": {
          "base_uri": "https://localhost:8080/",
          "height": 107
        },
        "id": "i8K6ej03Sj7R",
        "outputId": "ad27d4af-d9cd-4677-ce84-3554014e6e39"
      },
      "outputs": [
        {
          "data": {
            "text/html": [
              "<style>#sk-e981b16a-b9f3-4ec7-83b4-846422a98f73 {color: black;background-color: white;}#sk-e981b16a-b9f3-4ec7-83b4-846422a98f73 pre{padding: 0;}#sk-e981b16a-b9f3-4ec7-83b4-846422a98f73 div.sk-toggleable {background-color: white;}#sk-e981b16a-b9f3-4ec7-83b4-846422a98f73 label.sk-toggleable__label {cursor: pointer;display: block;width: 100%;margin-bottom: 0;padding: 0.3em;box-sizing: border-box;text-align: center;}#sk-e981b16a-b9f3-4ec7-83b4-846422a98f73 label.sk-toggleable__label-arrow:before {content: \"▸\";float: left;margin-right: 0.25em;color: #696969;}#sk-e981b16a-b9f3-4ec7-83b4-846422a98f73 label.sk-toggleable__label-arrow:hover:before {color: black;}#sk-e981b16a-b9f3-4ec7-83b4-846422a98f73 div.sk-estimator:hover label.sk-toggleable__label-arrow:before {color: black;}#sk-e981b16a-b9f3-4ec7-83b4-846422a98f73 div.sk-toggleable__content {max-height: 0;max-width: 0;overflow: hidden;text-align: left;background-color: #f0f8ff;}#sk-e981b16a-b9f3-4ec7-83b4-846422a98f73 div.sk-toggleable__content pre {margin: 0.2em;color: black;border-radius: 0.25em;background-color: #f0f8ff;}#sk-e981b16a-b9f3-4ec7-83b4-846422a98f73 input.sk-toggleable__control:checked~div.sk-toggleable__content {max-height: 200px;max-width: 100%;overflow: auto;}#sk-e981b16a-b9f3-4ec7-83b4-846422a98f73 input.sk-toggleable__control:checked~label.sk-toggleable__label-arrow:before {content: \"▾\";}#sk-e981b16a-b9f3-4ec7-83b4-846422a98f73 div.sk-estimator input.sk-toggleable__control:checked~label.sk-toggleable__label {background-color: #d4ebff;}#sk-e981b16a-b9f3-4ec7-83b4-846422a98f73 div.sk-label input.sk-toggleable__control:checked~label.sk-toggleable__label {background-color: #d4ebff;}#sk-e981b16a-b9f3-4ec7-83b4-846422a98f73 input.sk-hidden--visually {border: 0;clip: rect(1px 1px 1px 1px);clip: rect(1px, 1px, 1px, 1px);height: 1px;margin: -1px;overflow: hidden;padding: 0;position: absolute;width: 1px;}#sk-e981b16a-b9f3-4ec7-83b4-846422a98f73 div.sk-estimator {font-family: monospace;background-color: #f0f8ff;border: 1px dotted black;border-radius: 0.25em;box-sizing: border-box;margin-bottom: 0.5em;}#sk-e981b16a-b9f3-4ec7-83b4-846422a98f73 div.sk-estimator:hover {background-color: #d4ebff;}#sk-e981b16a-b9f3-4ec7-83b4-846422a98f73 div.sk-parallel-item::after {content: \"\";width: 100%;border-bottom: 1px solid gray;flex-grow: 1;}#sk-e981b16a-b9f3-4ec7-83b4-846422a98f73 div.sk-label:hover label.sk-toggleable__label {background-color: #d4ebff;}#sk-e981b16a-b9f3-4ec7-83b4-846422a98f73 div.sk-serial::before {content: \"\";position: absolute;border-left: 1px solid gray;box-sizing: border-box;top: 2em;bottom: 0;left: 50%;}#sk-e981b16a-b9f3-4ec7-83b4-846422a98f73 div.sk-serial {display: flex;flex-direction: column;align-items: center;background-color: white;padding-right: 0.2em;padding-left: 0.2em;}#sk-e981b16a-b9f3-4ec7-83b4-846422a98f73 div.sk-item {z-index: 1;}#sk-e981b16a-b9f3-4ec7-83b4-846422a98f73 div.sk-parallel {display: flex;align-items: stretch;justify-content: center;background-color: white;}#sk-e981b16a-b9f3-4ec7-83b4-846422a98f73 div.sk-parallel::before {content: \"\";position: absolute;border-left: 1px solid gray;box-sizing: border-box;top: 2em;bottom: 0;left: 50%;}#sk-e981b16a-b9f3-4ec7-83b4-846422a98f73 div.sk-parallel-item {display: flex;flex-direction: column;position: relative;background-color: white;}#sk-e981b16a-b9f3-4ec7-83b4-846422a98f73 div.sk-parallel-item:first-child::after {align-self: flex-end;width: 50%;}#sk-e981b16a-b9f3-4ec7-83b4-846422a98f73 div.sk-parallel-item:last-child::after {align-self: flex-start;width: 50%;}#sk-e981b16a-b9f3-4ec7-83b4-846422a98f73 div.sk-parallel-item:only-child::after {width: 0;}#sk-e981b16a-b9f3-4ec7-83b4-846422a98f73 div.sk-dashed-wrapped {border: 1px dashed gray;margin: 0 0.4em 0.5em 0.4em;box-sizing: border-box;padding-bottom: 0.4em;background-color: white;position: relative;}#sk-e981b16a-b9f3-4ec7-83b4-846422a98f73 div.sk-label label {font-family: monospace;font-weight: bold;background-color: white;display: inline-block;line-height: 1.2em;}#sk-e981b16a-b9f3-4ec7-83b4-846422a98f73 div.sk-label-container {position: relative;z-index: 2;text-align: center;}#sk-e981b16a-b9f3-4ec7-83b4-846422a98f73 div.sk-container {/* jupyter's `normalize.less` sets `[hidden] { display: none; }` but bootstrap.min.css set `[hidden] { display: none !important; }` so we also need the `!important` here to be able to override the default hidden behavior on the sphinx rendered scikit-learn.org. See: https://github.com/scikit-learn/scikit-learn/issues/21755 */display: inline-block !important;position: relative;}#sk-e981b16a-b9f3-4ec7-83b4-846422a98f73 div.sk-text-repr-fallback {display: none;}</style><div id='sk-e981b16a-b9f3-4ec7-83b4-846422a98f73' class=\"sk-top-container\"><div class=\"sk-text-repr-fallback\"><pre>ForecastingPipeline(steps=[(&#x27;forecaster&#x27;,\n",
              "                            TransformedTargetForecaster(steps=[(&#x27;model&#x27;,\n",
              "                                                                AutoETS(sp=3,\n",
              "                                                                        trend=&#x27;add&#x27;))]))])</pre><b>Please rerun this cell to show the HTML repr or trust the notebook.</b></div><div class=\"sk-container\" hidden><div class=\"sk-item sk-dashed-wrapped\"><div class='sk-label-container'><div class=\"sk-label sk-toggleable\"><input class=\"sk-toggleable__control sk-hidden--visually\" id=UUID('87c4fa8f-2b56-4693-bc80-4edc5f6d8ead') type=\"checkbox\" ><label for=UUID('87c4fa8f-2b56-4693-bc80-4edc5f6d8ead') class='sk-toggleable__label sk-toggleable__label-arrow'>ForecastingPipeline</label><div class=\"sk-toggleable__content\"><pre>ForecastingPipeline(steps=[(&#x27;forecaster&#x27;,\n",
              "                            TransformedTargetForecaster(steps=[(&#x27;model&#x27;,\n",
              "                                                                AutoETS(sp=3,\n",
              "                                                                        trend=&#x27;add&#x27;))]))])</pre></div></div></div><div class=\"sk-parallel\"><div class=\"sk-parallel-item\"><div class=\"sk-item\"><div class=\"sk-serial\"><div class=\"sk-item sk-dashed-wrapped\"><div class=\"sk-parallel\"><div class=\"sk-parallel-item\"><div class=\"sk-item\"><div class=\"sk-serial\"><div class='sk-item'><div class=\"sk-estimator sk-toggleable\"><input class=\"sk-toggleable__control sk-hidden--visually\" id=UUID('2a0317fb-7bca-46e5-b88b-78aa76bb709a') type=\"checkbox\" ><label for=UUID('2a0317fb-7bca-46e5-b88b-78aa76bb709a') class='sk-toggleable__label sk-toggleable__label-arrow'>AutoETS</label><div class=\"sk-toggleable__content\"><pre>AutoETS(sp=3, trend=&#x27;add&#x27;)</pre></div></div></div></div></div></div></div></div></div></div></div></div></div></div></div>"
            ],
            "text/plain": [
              "ForecastingPipeline(steps=[('forecaster',\n",
              "                            TransformedTargetForecaster(steps=[('model',\n",
              "                                                                AutoETS(sp=3,\n",
              "                                                                        trend='add'))]))])"
            ]
          },
          "execution_count": 78,
          "metadata": {},
          "output_type": "execute_result"
        }
      ],
      "source": [
        "final_ETS = exp.finalize_model(ets_AAN)\n",
        "final_ETS"
      ]
    },
    {
      "cell_type": "code",
      "execution_count": null,
      "metadata": {
        "colab": {
          "base_uri": "https://localhost:8080/",
          "height": 115
        },
        "id": "57Lt_X_2S0So",
        "outputId": "e4afdd37-bf96-48d3-874d-cdb883c20d0f"
      },
      "outputs": [
        {
          "data": {
            "text/html": [
              "<div>\n",
              "<style scoped>\n",
              "    .dataframe tbody tr th:only-of-type {\n",
              "        vertical-align: middle;\n",
              "    }\n",
              "\n",
              "    .dataframe tbody tr th {\n",
              "        vertical-align: top;\n",
              "    }\n",
              "\n",
              "    .dataframe thead th {\n",
              "        text-align: right;\n",
              "    }\n",
              "</style>\n",
              "<table border=\"1\" class=\"dataframe\">\n",
              "  <thead>\n",
              "    <tr style=\"text-align: right;\">\n",
              "      <th></th>\n",
              "      <th>cpi</th>\n",
              "    </tr>\n",
              "  </thead>\n",
              "  <tbody>\n",
              "    <tr>\n",
              "      <th>2023Q1</th>\n",
              "      <td>268.950893</td>\n",
              "    </tr>\n",
              "  </tbody>\n",
              "</table>\n",
              "</div><br><label><b>dtype:</b> float64</label>"
            ],
            "text/plain": [
              "2023Q1    268.950893\n",
              "Freq: Q-DEC, Name: cpi, dtype: float64"
            ]
          },
          "execution_count": 79,
          "metadata": {},
          "output_type": "execute_result"
        }
      ],
      "source": [
        "final_ETS.predict(pd.period_range(start='2023Q1', periods=1, freq='Q'))"
      ]
    }
  ],
  "metadata": {
    "colab": {
      "provenance": []
    },
    "kernelspec": {
      "display_name": "deep_forecasting",
      "language": "python",
      "name": "python3"
    },
    "language_info": {
      "codemirror_mode": {
        "name": "ipython",
        "version": 3
      },
      "file_extension": ".py",
      "mimetype": "text/x-python",
      "name": "python",
      "nbconvert_exporter": "python",
      "pygments_lexer": "ipython3",
      "version": "3.11.11"
    },
    "widgets": {
      "application/vnd.jupyter.widget-state+json": {
        "036f5285e0564875952ef34edbe303aa": {
          "model_module": "@jupyter-widgets/base",
          "model_module_version": "1.2.0",
          "model_name": "LayoutModel",
          "state": {
            "_model_module": "@jupyter-widgets/base",
            "_model_module_version": "1.2.0",
            "_model_name": "LayoutModel",
            "_view_count": null,
            "_view_module": "@jupyter-widgets/base",
            "_view_module_version": "1.2.0",
            "_view_name": "LayoutView",
            "align_content": null,
            "align_items": null,
            "align_self": null,
            "border": null,
            "bottom": null,
            "display": null,
            "flex": null,
            "flex_flow": null,
            "grid_area": null,
            "grid_auto_columns": null,
            "grid_auto_flow": null,
            "grid_auto_rows": null,
            "grid_column": null,
            "grid_gap": null,
            "grid_row": null,
            "grid_template_areas": null,
            "grid_template_columns": null,
            "grid_template_rows": null,
            "height": null,
            "justify_content": null,
            "justify_items": null,
            "left": null,
            "margin": null,
            "max_height": null,
            "max_width": null,
            "min_height": null,
            "min_width": null,
            "object_fit": null,
            "object_position": null,
            "order": null,
            "overflow": null,
            "overflow_x": null,
            "overflow_y": null,
            "padding": null,
            "right": null,
            "top": null,
            "visibility": null,
            "width": null
          }
        },
        "064439defd0a450192ce3e011fbdae06": {
          "model_module": "@jupyter-widgets/base",
          "model_module_version": "1.2.0",
          "model_name": "LayoutModel",
          "state": {
            "_model_module": "@jupyter-widgets/base",
            "_model_module_version": "1.2.0",
            "_model_name": "LayoutModel",
            "_view_count": null,
            "_view_module": "@jupyter-widgets/base",
            "_view_module_version": "1.2.0",
            "_view_name": "LayoutView",
            "align_content": null,
            "align_items": null,
            "align_self": null,
            "border": null,
            "bottom": null,
            "display": null,
            "flex": null,
            "flex_flow": null,
            "grid_area": null,
            "grid_auto_columns": null,
            "grid_auto_flow": null,
            "grid_auto_rows": null,
            "grid_column": null,
            "grid_gap": null,
            "grid_row": null,
            "grid_template_areas": null,
            "grid_template_columns": null,
            "grid_template_rows": null,
            "height": null,
            "justify_content": null,
            "justify_items": null,
            "left": null,
            "margin": null,
            "max_height": null,
            "max_width": null,
            "min_height": null,
            "min_width": null,
            "object_fit": null,
            "object_position": null,
            "order": null,
            "overflow": null,
            "overflow_x": null,
            "overflow_y": null,
            "padding": null,
            "right": null,
            "top": null,
            "visibility": null,
            "width": null
          }
        },
        "09acad4f2f6e4f808e06f10e0c53308a": {
          "model_module": "@jupyter-widgets/base",
          "model_module_version": "1.2.0",
          "model_name": "LayoutModel",
          "state": {
            "_model_module": "@jupyter-widgets/base",
            "_model_module_version": "1.2.0",
            "_model_name": "LayoutModel",
            "_view_count": null,
            "_view_module": "@jupyter-widgets/base",
            "_view_module_version": "1.2.0",
            "_view_name": "LayoutView",
            "align_content": null,
            "align_items": null,
            "align_self": null,
            "border": null,
            "bottom": null,
            "display": null,
            "flex": null,
            "flex_flow": null,
            "grid_area": null,
            "grid_auto_columns": null,
            "grid_auto_flow": null,
            "grid_auto_rows": null,
            "grid_column": null,
            "grid_gap": null,
            "grid_row": null,
            "grid_template_areas": null,
            "grid_template_columns": null,
            "grid_template_rows": null,
            "height": null,
            "justify_content": null,
            "justify_items": null,
            "left": null,
            "margin": null,
            "max_height": null,
            "max_width": null,
            "min_height": null,
            "min_width": null,
            "object_fit": null,
            "object_position": null,
            "order": null,
            "overflow": null,
            "overflow_x": null,
            "overflow_y": null,
            "padding": null,
            "right": null,
            "top": null,
            "visibility": null,
            "width": null
          }
        },
        "0a13ff1e436f4844b31d0d2c771a9bc9": {
          "model_module": "@jupyter-widgets/base",
          "model_module_version": "1.2.0",
          "model_name": "LayoutModel",
          "state": {
            "_model_module": "@jupyter-widgets/base",
            "_model_module_version": "1.2.0",
            "_model_name": "LayoutModel",
            "_view_count": null,
            "_view_module": "@jupyter-widgets/base",
            "_view_module_version": "1.2.0",
            "_view_name": "LayoutView",
            "align_content": null,
            "align_items": null,
            "align_self": null,
            "border": null,
            "bottom": null,
            "display": null,
            "flex": null,
            "flex_flow": null,
            "grid_area": null,
            "grid_auto_columns": null,
            "grid_auto_flow": null,
            "grid_auto_rows": null,
            "grid_column": null,
            "grid_gap": null,
            "grid_row": null,
            "grid_template_areas": null,
            "grid_template_columns": null,
            "grid_template_rows": null,
            "height": null,
            "justify_content": null,
            "justify_items": null,
            "left": null,
            "margin": null,
            "max_height": null,
            "max_width": null,
            "min_height": null,
            "min_width": null,
            "object_fit": null,
            "object_position": null,
            "order": null,
            "overflow": null,
            "overflow_x": null,
            "overflow_y": null,
            "padding": null,
            "right": null,
            "top": null,
            "visibility": null,
            "width": null
          }
        },
        "0d2a0ca633d743bebb1ccad1045b8734": {
          "model_module": "@jupyter-widgets/controls",
          "model_module_version": "1.5.0",
          "model_name": "HTMLModel",
          "state": {
            "_dom_classes": [],
            "_model_module": "@jupyter-widgets/controls",
            "_model_module_version": "1.5.0",
            "_model_name": "HTMLModel",
            "_view_count": null,
            "_view_module": "@jupyter-widgets/controls",
            "_view_module_version": "1.5.0",
            "_view_name": "HTMLView",
            "description": "",
            "description_tooltip": null,
            "layout": "IPY_MODEL_a0b607d886534678aff19e2fc06be9d4",
            "placeholder": "​",
            "style": "IPY_MODEL_a39cce94f23d4d4f824dc8b2ae1b6c85",
            "value": " 3/4 [00:00&lt;00:00,  6.90it/s]"
          }
        },
        "0e27b09e28674c59946d2d3812d83376": {
          "model_module": "@jupyter-widgets/controls",
          "model_module_version": "1.5.0",
          "model_name": "HBoxModel",
          "state": {
            "_dom_classes": [],
            "_model_module": "@jupyter-widgets/controls",
            "_model_module_version": "1.5.0",
            "_model_name": "HBoxModel",
            "_view_count": null,
            "_view_module": "@jupyter-widgets/controls",
            "_view_module_version": "1.5.0",
            "_view_name": "HBoxView",
            "box_style": "",
            "children": [
              "IPY_MODEL_8d6a2eca4a3d4684ae905f830135335e",
              "IPY_MODEL_e73c8608e08b4ec497e9b7ed0e018245",
              "IPY_MODEL_cdab82afb21b432ca80bd645467f1461"
            ],
            "layout": "IPY_MODEL_466581acf1054b3ba529fe858179a7f3"
          }
        },
        "0e2e5e65477f4330a02f189aa2666552": {
          "model_module": "@jupyter-widgets/base",
          "model_module_version": "1.2.0",
          "model_name": "LayoutModel",
          "state": {
            "_model_module": "@jupyter-widgets/base",
            "_model_module_version": "1.2.0",
            "_model_name": "LayoutModel",
            "_view_count": null,
            "_view_module": "@jupyter-widgets/base",
            "_view_module_version": "1.2.0",
            "_view_name": "LayoutView",
            "align_content": null,
            "align_items": null,
            "align_self": null,
            "border": null,
            "bottom": null,
            "display": null,
            "flex": null,
            "flex_flow": null,
            "grid_area": null,
            "grid_auto_columns": null,
            "grid_auto_flow": null,
            "grid_auto_rows": null,
            "grid_column": null,
            "grid_gap": null,
            "grid_row": null,
            "grid_template_areas": null,
            "grid_template_columns": null,
            "grid_template_rows": null,
            "height": null,
            "justify_content": null,
            "justify_items": null,
            "left": null,
            "margin": null,
            "max_height": null,
            "max_width": null,
            "min_height": null,
            "min_width": null,
            "object_fit": null,
            "object_position": null,
            "order": null,
            "overflow": null,
            "overflow_x": null,
            "overflow_y": null,
            "padding": null,
            "right": null,
            "top": null,
            "visibility": null,
            "width": null
          }
        },
        "14d1ba83291f4f9c8d34f8120c6d4299": {
          "model_module": "@jupyter-widgets/base",
          "model_module_version": "1.2.0",
          "model_name": "LayoutModel",
          "state": {
            "_model_module": "@jupyter-widgets/base",
            "_model_module_version": "1.2.0",
            "_model_name": "LayoutModel",
            "_view_count": null,
            "_view_module": "@jupyter-widgets/base",
            "_view_module_version": "1.2.0",
            "_view_name": "LayoutView",
            "align_content": null,
            "align_items": null,
            "align_self": null,
            "border": null,
            "bottom": null,
            "display": null,
            "flex": null,
            "flex_flow": null,
            "grid_area": null,
            "grid_auto_columns": null,
            "grid_auto_flow": null,
            "grid_auto_rows": null,
            "grid_column": null,
            "grid_gap": null,
            "grid_row": null,
            "grid_template_areas": null,
            "grid_template_columns": null,
            "grid_template_rows": null,
            "height": null,
            "justify_content": null,
            "justify_items": null,
            "left": null,
            "margin": null,
            "max_height": null,
            "max_width": null,
            "min_height": null,
            "min_width": null,
            "object_fit": null,
            "object_position": null,
            "order": null,
            "overflow": null,
            "overflow_x": null,
            "overflow_y": null,
            "padding": null,
            "right": null,
            "top": null,
            "visibility": null,
            "width": null
          }
        },
        "1b5012189c284a358bfb69b0219bc2dc": {
          "model_module": "@jupyter-widgets/controls",
          "model_module_version": "1.5.0",
          "model_name": "HBoxModel",
          "state": {
            "_dom_classes": [],
            "_model_module": "@jupyter-widgets/controls",
            "_model_module_version": "1.5.0",
            "_model_name": "HBoxModel",
            "_view_count": null,
            "_view_module": "@jupyter-widgets/controls",
            "_view_module_version": "1.5.0",
            "_view_name": "HBoxView",
            "box_style": "",
            "children": [
              "IPY_MODEL_55e58a6affd64e9a828740cea7a96bcf",
              "IPY_MODEL_bd02635bdcf04927a4fd30470d49faca",
              "IPY_MODEL_7b061e17a42c4cb197f0f177507c6caf"
            ],
            "layout": "IPY_MODEL_a861560d495b40879337fa939376165d"
          }
        },
        "200fd35d23534eac868e4c1b1e728b63": {
          "model_module": "@jupyter-widgets/controls",
          "model_module_version": "1.5.0",
          "model_name": "HTMLModel",
          "state": {
            "_dom_classes": [],
            "_model_module": "@jupyter-widgets/controls",
            "_model_module_version": "1.5.0",
            "_model_name": "HTMLModel",
            "_view_count": null,
            "_view_module": "@jupyter-widgets/controls",
            "_view_module_version": "1.5.0",
            "_view_name": "HTMLView",
            "description": "",
            "description_tooltip": null,
            "layout": "IPY_MODEL_36dfca6054014c399d8f9de75d2121dd",
            "placeholder": "​",
            "style": "IPY_MODEL_ea7c76d179c04fcfbe85905f6f18d8ef",
            "value": "Processing:  75%"
          }
        },
        "267ddc0b23054790abd2243af04bbb5b": {
          "model_module": "@jupyter-widgets/controls",
          "model_module_version": "1.5.0",
          "model_name": "FloatProgressModel",
          "state": {
            "_dom_classes": [],
            "_model_module": "@jupyter-widgets/controls",
            "_model_module_version": "1.5.0",
            "_model_name": "FloatProgressModel",
            "_view_count": null,
            "_view_module": "@jupyter-widgets/controls",
            "_view_module_version": "1.5.0",
            "_view_name": "ProgressView",
            "bar_style": "danger",
            "description": "",
            "description_tooltip": null,
            "layout": "IPY_MODEL_96ce2f8117dc4c21b729f69daa0368b5",
            "max": 4,
            "min": 0,
            "orientation": "horizontal",
            "style": "IPY_MODEL_b9c0c5e7a02947b4921b6b49fc165451",
            "value": 3
          }
        },
        "2834fb31450d4b788847e233bbb3d1a8": {
          "model_module": "@jupyter-widgets/base",
          "model_module_version": "1.2.0",
          "model_name": "LayoutModel",
          "state": {
            "_model_module": "@jupyter-widgets/base",
            "_model_module_version": "1.2.0",
            "_model_name": "LayoutModel",
            "_view_count": null,
            "_view_module": "@jupyter-widgets/base",
            "_view_module_version": "1.2.0",
            "_view_name": "LayoutView",
            "align_content": null,
            "align_items": null,
            "align_self": null,
            "border": null,
            "bottom": null,
            "display": null,
            "flex": null,
            "flex_flow": null,
            "grid_area": null,
            "grid_auto_columns": null,
            "grid_auto_flow": null,
            "grid_auto_rows": null,
            "grid_column": null,
            "grid_gap": null,
            "grid_row": null,
            "grid_template_areas": null,
            "grid_template_columns": null,
            "grid_template_rows": null,
            "height": null,
            "justify_content": null,
            "justify_items": null,
            "left": null,
            "margin": null,
            "max_height": null,
            "max_width": null,
            "min_height": null,
            "min_width": null,
            "object_fit": null,
            "object_position": null,
            "order": null,
            "overflow": null,
            "overflow_x": null,
            "overflow_y": null,
            "padding": null,
            "right": null,
            "top": null,
            "visibility": null,
            "width": null
          }
        },
        "2aec7b5d3109493ea05dda005b3014ad": {
          "model_module": "@jupyter-widgets/base",
          "model_module_version": "1.2.0",
          "model_name": "LayoutModel",
          "state": {
            "_model_module": "@jupyter-widgets/base",
            "_model_module_version": "1.2.0",
            "_model_name": "LayoutModel",
            "_view_count": null,
            "_view_module": "@jupyter-widgets/base",
            "_view_module_version": "1.2.0",
            "_view_name": "LayoutView",
            "align_content": null,
            "align_items": null,
            "align_self": null,
            "border": null,
            "bottom": null,
            "display": null,
            "flex": null,
            "flex_flow": null,
            "grid_area": null,
            "grid_auto_columns": null,
            "grid_auto_flow": null,
            "grid_auto_rows": null,
            "grid_column": null,
            "grid_gap": null,
            "grid_row": null,
            "grid_template_areas": null,
            "grid_template_columns": null,
            "grid_template_rows": null,
            "height": null,
            "justify_content": null,
            "justify_items": null,
            "left": null,
            "margin": null,
            "max_height": null,
            "max_width": null,
            "min_height": null,
            "min_width": null,
            "object_fit": null,
            "object_position": null,
            "order": null,
            "overflow": null,
            "overflow_x": null,
            "overflow_y": null,
            "padding": null,
            "right": null,
            "top": null,
            "visibility": null,
            "width": null
          }
        },
        "2fdbe9a5c53b4ad18d83c2f466fc3323": {
          "model_module": "@jupyter-widgets/controls",
          "model_module_version": "1.5.0",
          "model_name": "ProgressStyleModel",
          "state": {
            "_model_module": "@jupyter-widgets/controls",
            "_model_module_version": "1.5.0",
            "_model_name": "ProgressStyleModel",
            "_view_count": null,
            "_view_module": "@jupyter-widgets/base",
            "_view_module_version": "1.2.0",
            "_view_name": "StyleView",
            "bar_color": null,
            "description_width": ""
          }
        },
        "31e38aca2c6f437cb26655e36594c0cb": {
          "model_module": "@jupyter-widgets/controls",
          "model_module_version": "1.5.0",
          "model_name": "HTMLModel",
          "state": {
            "_dom_classes": [],
            "_model_module": "@jupyter-widgets/controls",
            "_model_module_version": "1.5.0",
            "_model_name": "HTMLModel",
            "_view_count": null,
            "_view_module": "@jupyter-widgets/controls",
            "_view_module_version": "1.5.0",
            "_view_name": "HTMLView",
            "description": "",
            "description_tooltip": null,
            "layout": "IPY_MODEL_ba16bf4eb4c24bf5968fce9ad798cfa6",
            "placeholder": "​",
            "style": "IPY_MODEL_b09940dba8e34a67a114d9a375b6170f",
            "value": " 3/4 [00:00&lt;00:00,  7.18it/s]"
          }
        },
        "32fb6f8731b346d4866acc651550365d": {
          "model_module": "@jupyter-widgets/base",
          "model_module_version": "1.2.0",
          "model_name": "LayoutModel",
          "state": {
            "_model_module": "@jupyter-widgets/base",
            "_model_module_version": "1.2.0",
            "_model_name": "LayoutModel",
            "_view_count": null,
            "_view_module": "@jupyter-widgets/base",
            "_view_module_version": "1.2.0",
            "_view_name": "LayoutView",
            "align_content": null,
            "align_items": null,
            "align_self": null,
            "border": null,
            "bottom": null,
            "display": null,
            "flex": null,
            "flex_flow": null,
            "grid_area": null,
            "grid_auto_columns": null,
            "grid_auto_flow": null,
            "grid_auto_rows": null,
            "grid_column": null,
            "grid_gap": null,
            "grid_row": null,
            "grid_template_areas": null,
            "grid_template_columns": null,
            "grid_template_rows": null,
            "height": null,
            "justify_content": null,
            "justify_items": null,
            "left": null,
            "margin": null,
            "max_height": null,
            "max_width": null,
            "min_height": null,
            "min_width": null,
            "object_fit": null,
            "object_position": null,
            "order": null,
            "overflow": null,
            "overflow_x": null,
            "overflow_y": null,
            "padding": null,
            "right": null,
            "top": null,
            "visibility": null,
            "width": null
          }
        },
        "33e50aa50ddd4b18ac254300f47401d9": {
          "model_module": "@jupyter-widgets/controls",
          "model_module_version": "1.5.0",
          "model_name": "HBoxModel",
          "state": {
            "_dom_classes": [],
            "_model_module": "@jupyter-widgets/controls",
            "_model_module_version": "1.5.0",
            "_model_name": "HBoxModel",
            "_view_count": null,
            "_view_module": "@jupyter-widgets/controls",
            "_view_module_version": "1.5.0",
            "_view_name": "HBoxView",
            "box_style": "",
            "children": [
              "IPY_MODEL_c730b775240b4593bac36347ae76260e",
              "IPY_MODEL_cd6160c31cc94715989913e78bdbdc5e",
              "IPY_MODEL_82383a38ebdb437fb96e119dfa984aa9"
            ],
            "layout": "IPY_MODEL_70ab7f267f224b5d94a58aa3106d6317"
          }
        },
        "36dfca6054014c399d8f9de75d2121dd": {
          "model_module": "@jupyter-widgets/base",
          "model_module_version": "1.2.0",
          "model_name": "LayoutModel",
          "state": {
            "_model_module": "@jupyter-widgets/base",
            "_model_module_version": "1.2.0",
            "_model_name": "LayoutModel",
            "_view_count": null,
            "_view_module": "@jupyter-widgets/base",
            "_view_module_version": "1.2.0",
            "_view_name": "LayoutView",
            "align_content": null,
            "align_items": null,
            "align_self": null,
            "border": null,
            "bottom": null,
            "display": null,
            "flex": null,
            "flex_flow": null,
            "grid_area": null,
            "grid_auto_columns": null,
            "grid_auto_flow": null,
            "grid_auto_rows": null,
            "grid_column": null,
            "grid_gap": null,
            "grid_row": null,
            "grid_template_areas": null,
            "grid_template_columns": null,
            "grid_template_rows": null,
            "height": null,
            "justify_content": null,
            "justify_items": null,
            "left": null,
            "margin": null,
            "max_height": null,
            "max_width": null,
            "min_height": null,
            "min_width": null,
            "object_fit": null,
            "object_position": null,
            "order": null,
            "overflow": null,
            "overflow_x": null,
            "overflow_y": null,
            "padding": null,
            "right": null,
            "top": null,
            "visibility": null,
            "width": null
          }
        },
        "3d9a63e5f8b64a13b8fe1361c482ff93": {
          "model_module": "@jupyter-widgets/base",
          "model_module_version": "1.2.0",
          "model_name": "LayoutModel",
          "state": {
            "_model_module": "@jupyter-widgets/base",
            "_model_module_version": "1.2.0",
            "_model_name": "LayoutModel",
            "_view_count": null,
            "_view_module": "@jupyter-widgets/base",
            "_view_module_version": "1.2.0",
            "_view_name": "LayoutView",
            "align_content": null,
            "align_items": null,
            "align_self": null,
            "border": null,
            "bottom": null,
            "display": null,
            "flex": null,
            "flex_flow": null,
            "grid_area": null,
            "grid_auto_columns": null,
            "grid_auto_flow": null,
            "grid_auto_rows": null,
            "grid_column": null,
            "grid_gap": null,
            "grid_row": null,
            "grid_template_areas": null,
            "grid_template_columns": null,
            "grid_template_rows": null,
            "height": null,
            "justify_content": null,
            "justify_items": null,
            "left": null,
            "margin": null,
            "max_height": null,
            "max_width": null,
            "min_height": null,
            "min_width": null,
            "object_fit": null,
            "object_position": null,
            "order": null,
            "overflow": null,
            "overflow_x": null,
            "overflow_y": null,
            "padding": null,
            "right": null,
            "top": null,
            "visibility": null,
            "width": null
          }
        },
        "3e3c5ba55a2c4b7081d675d8342a6404": {
          "model_module": "@jupyter-widgets/controls",
          "model_module_version": "1.5.0",
          "model_name": "DescriptionStyleModel",
          "state": {
            "_model_module": "@jupyter-widgets/controls",
            "_model_module_version": "1.5.0",
            "_model_name": "DescriptionStyleModel",
            "_view_count": null,
            "_view_module": "@jupyter-widgets/base",
            "_view_module_version": "1.2.0",
            "_view_name": "StyleView",
            "description_width": ""
          }
        },
        "3efb4ca388094c6fb597db14f4194128": {
          "model_module": "@jupyter-widgets/base",
          "model_module_version": "1.2.0",
          "model_name": "LayoutModel",
          "state": {
            "_model_module": "@jupyter-widgets/base",
            "_model_module_version": "1.2.0",
            "_model_name": "LayoutModel",
            "_view_count": null,
            "_view_module": "@jupyter-widgets/base",
            "_view_module_version": "1.2.0",
            "_view_name": "LayoutView",
            "align_content": null,
            "align_items": null,
            "align_self": null,
            "border": null,
            "bottom": null,
            "display": null,
            "flex": null,
            "flex_flow": null,
            "grid_area": null,
            "grid_auto_columns": null,
            "grid_auto_flow": null,
            "grid_auto_rows": null,
            "grid_column": null,
            "grid_gap": null,
            "grid_row": null,
            "grid_template_areas": null,
            "grid_template_columns": null,
            "grid_template_rows": null,
            "height": null,
            "justify_content": null,
            "justify_items": null,
            "left": null,
            "margin": null,
            "max_height": null,
            "max_width": null,
            "min_height": null,
            "min_width": null,
            "object_fit": null,
            "object_position": null,
            "order": null,
            "overflow": null,
            "overflow_x": null,
            "overflow_y": null,
            "padding": null,
            "right": null,
            "top": null,
            "visibility": "hidden",
            "width": null
          }
        },
        "44b9c9194582439097020588e2ba3aa9": {
          "model_module": "@jupyter-widgets/base",
          "model_module_version": "1.2.0",
          "model_name": "LayoutModel",
          "state": {
            "_model_module": "@jupyter-widgets/base",
            "_model_module_version": "1.2.0",
            "_model_name": "LayoutModel",
            "_view_count": null,
            "_view_module": "@jupyter-widgets/base",
            "_view_module_version": "1.2.0",
            "_view_name": "LayoutView",
            "align_content": null,
            "align_items": null,
            "align_self": null,
            "border": null,
            "bottom": null,
            "display": null,
            "flex": null,
            "flex_flow": null,
            "grid_area": null,
            "grid_auto_columns": null,
            "grid_auto_flow": null,
            "grid_auto_rows": null,
            "grid_column": null,
            "grid_gap": null,
            "grid_row": null,
            "grid_template_areas": null,
            "grid_template_columns": null,
            "grid_template_rows": null,
            "height": null,
            "justify_content": null,
            "justify_items": null,
            "left": null,
            "margin": null,
            "max_height": null,
            "max_width": null,
            "min_height": null,
            "min_width": null,
            "object_fit": null,
            "object_position": null,
            "order": null,
            "overflow": null,
            "overflow_x": null,
            "overflow_y": null,
            "padding": null,
            "right": null,
            "top": null,
            "visibility": null,
            "width": null
          }
        },
        "466581acf1054b3ba529fe858179a7f3": {
          "model_module": "@jupyter-widgets/base",
          "model_module_version": "1.2.0",
          "model_name": "LayoutModel",
          "state": {
            "_model_module": "@jupyter-widgets/base",
            "_model_module_version": "1.2.0",
            "_model_name": "LayoutModel",
            "_view_count": null,
            "_view_module": "@jupyter-widgets/base",
            "_view_module_version": "1.2.0",
            "_view_name": "LayoutView",
            "align_content": null,
            "align_items": null,
            "align_self": null,
            "border": null,
            "bottom": null,
            "display": null,
            "flex": null,
            "flex_flow": null,
            "grid_area": null,
            "grid_auto_columns": null,
            "grid_auto_flow": null,
            "grid_auto_rows": null,
            "grid_column": null,
            "grid_gap": null,
            "grid_row": null,
            "grid_template_areas": null,
            "grid_template_columns": null,
            "grid_template_rows": null,
            "height": null,
            "justify_content": null,
            "justify_items": null,
            "left": null,
            "margin": null,
            "max_height": null,
            "max_width": null,
            "min_height": null,
            "min_width": null,
            "object_fit": null,
            "object_position": null,
            "order": null,
            "overflow": null,
            "overflow_x": null,
            "overflow_y": null,
            "padding": null,
            "right": null,
            "top": null,
            "visibility": null,
            "width": null
          }
        },
        "49d268023309469f8399f2d513e1129d": {
          "model_module": "@jupyter-widgets/controls",
          "model_module_version": "1.5.0",
          "model_name": "DescriptionStyleModel",
          "state": {
            "_model_module": "@jupyter-widgets/controls",
            "_model_module_version": "1.5.0",
            "_model_name": "DescriptionStyleModel",
            "_view_count": null,
            "_view_module": "@jupyter-widgets/base",
            "_view_module_version": "1.2.0",
            "_view_name": "StyleView",
            "description_width": ""
          }
        },
        "49f6aeab4d15413d9d226d96be37a92b": {
          "model_module": "@jupyter-widgets/controls",
          "model_module_version": "1.5.0",
          "model_name": "ProgressStyleModel",
          "state": {
            "_model_module": "@jupyter-widgets/controls",
            "_model_module_version": "1.5.0",
            "_model_name": "ProgressStyleModel",
            "_view_count": null,
            "_view_module": "@jupyter-widgets/base",
            "_view_module_version": "1.2.0",
            "_view_name": "StyleView",
            "bar_color": null,
            "description_width": ""
          }
        },
        "4a71f78a1f8c47d0856fab104f653458": {
          "model_module": "@jupyter-widgets/controls",
          "model_module_version": "1.5.0",
          "model_name": "ProgressStyleModel",
          "state": {
            "_model_module": "@jupyter-widgets/controls",
            "_model_module_version": "1.5.0",
            "_model_name": "ProgressStyleModel",
            "_view_count": null,
            "_view_module": "@jupyter-widgets/base",
            "_view_module_version": "1.2.0",
            "_view_name": "StyleView",
            "bar_color": null,
            "description_width": ""
          }
        },
        "4e3cb40dfbd84b76b8eb76fc2f8053ee": {
          "model_module": "@jupyter-widgets/controls",
          "model_module_version": "1.5.0",
          "model_name": "DescriptionStyleModel",
          "state": {
            "_model_module": "@jupyter-widgets/controls",
            "_model_module_version": "1.5.0",
            "_model_name": "DescriptionStyleModel",
            "_view_count": null,
            "_view_module": "@jupyter-widgets/base",
            "_view_module_version": "1.2.0",
            "_view_name": "StyleView",
            "description_width": ""
          }
        },
        "4f29a02a298f4c5b89cbe6903ddae70b": {
          "model_module": "@jupyter-widgets/controls",
          "model_module_version": "1.5.0",
          "model_name": "HBoxModel",
          "state": {
            "_dom_classes": [],
            "_model_module": "@jupyter-widgets/controls",
            "_model_module_version": "1.5.0",
            "_model_name": "HBoxModel",
            "_view_count": null,
            "_view_module": "@jupyter-widgets/controls",
            "_view_module_version": "1.5.0",
            "_view_name": "HBoxView",
            "box_style": "",
            "children": [
              "IPY_MODEL_200fd35d23534eac868e4c1b1e728b63",
              "IPY_MODEL_6e06aa7f53d04329a69caaa07c1ed8cf",
              "IPY_MODEL_9840985a42264af2ab2762308f6a828c"
            ],
            "layout": "IPY_MODEL_d682c3b47de34727a2ffdcf203ff8fc1"
          }
        },
        "4ff86721c4e84395a5d4b8c19809e5ab": {
          "model_module": "@jupyter-widgets/controls",
          "model_module_version": "1.5.0",
          "model_name": "HTMLModel",
          "state": {
            "_dom_classes": [],
            "_model_module": "@jupyter-widgets/controls",
            "_model_module_version": "1.5.0",
            "_model_name": "HTMLModel",
            "_view_count": null,
            "_view_module": "@jupyter-widgets/controls",
            "_view_module_version": "1.5.0",
            "_view_name": "HTMLView",
            "description": "",
            "description_tooltip": null,
            "layout": "IPY_MODEL_a8c1cd74fb1d4ae697aa39aa182736a9",
            "placeholder": "​",
            "style": "IPY_MODEL_bd4b9957c0924ef1b912c2427b7e7fa8",
            "value": "Processing:  75%"
          }
        },
        "50ddcc290d3548f88c109dee6cafc8b6": {
          "model_module": "@jupyter-widgets/controls",
          "model_module_version": "1.5.0",
          "model_name": "HTMLModel",
          "state": {
            "_dom_classes": [],
            "_model_module": "@jupyter-widgets/controls",
            "_model_module_version": "1.5.0",
            "_model_name": "HTMLModel",
            "_view_count": null,
            "_view_module": "@jupyter-widgets/controls",
            "_view_module_version": "1.5.0",
            "_view_name": "HTMLView",
            "description": "",
            "description_tooltip": null,
            "layout": "IPY_MODEL_74bc0b3fce5245ae85a083f40078616d",
            "placeholder": "​",
            "style": "IPY_MODEL_ac31eb6ce7944e2ba1deb6ba37a5c3c5",
            "value": " 3/4 [00:00&lt;00:00,  7.72it/s]"
          }
        },
        "55e58a6affd64e9a828740cea7a96bcf": {
          "model_module": "@jupyter-widgets/controls",
          "model_module_version": "1.5.0",
          "model_name": "HTMLModel",
          "state": {
            "_dom_classes": [],
            "_model_module": "@jupyter-widgets/controls",
            "_model_module_version": "1.5.0",
            "_model_name": "HTMLModel",
            "_view_count": null,
            "_view_module": "@jupyter-widgets/controls",
            "_view_module_version": "1.5.0",
            "_view_name": "HTMLView",
            "description": "",
            "description_tooltip": null,
            "layout": "IPY_MODEL_77451b265cba40b18ee9ee906f004988",
            "placeholder": "​",
            "style": "IPY_MODEL_c4a4a6a050044583b1058ab15a634807",
            "value": "Processing: 100%"
          }
        },
        "5c0dd300afd443e08510d44df1849364": {
          "model_module": "@jupyter-widgets/controls",
          "model_module_version": "1.5.0",
          "model_name": "DescriptionStyleModel",
          "state": {
            "_model_module": "@jupyter-widgets/controls",
            "_model_module_version": "1.5.0",
            "_model_name": "DescriptionStyleModel",
            "_view_count": null,
            "_view_module": "@jupyter-widgets/base",
            "_view_module_version": "1.2.0",
            "_view_name": "StyleView",
            "description_width": ""
          }
        },
        "60c5f7c8184a4250b91efe5403679454": {
          "model_module": "@jupyter-widgets/controls",
          "model_module_version": "1.5.0",
          "model_name": "FloatProgressModel",
          "state": {
            "_dom_classes": [],
            "_model_module": "@jupyter-widgets/controls",
            "_model_module_version": "1.5.0",
            "_model_name": "FloatProgressModel",
            "_view_count": null,
            "_view_module": "@jupyter-widgets/controls",
            "_view_module_version": "1.5.0",
            "_view_name": "ProgressView",
            "bar_style": "danger",
            "description": "",
            "description_tooltip": null,
            "layout": "IPY_MODEL_3d9a63e5f8b64a13b8fe1361c482ff93",
            "max": 4,
            "min": 0,
            "orientation": "horizontal",
            "style": "IPY_MODEL_fdbf5e598278415cb8fee4d28fc165f0",
            "value": 3
          }
        },
        "61c6f50c59194807ad50b8b870985f03": {
          "model_module": "@jupyter-widgets/controls",
          "model_module_version": "1.5.0",
          "model_name": "DescriptionStyleModel",
          "state": {
            "_model_module": "@jupyter-widgets/controls",
            "_model_module_version": "1.5.0",
            "_model_name": "DescriptionStyleModel",
            "_view_count": null,
            "_view_module": "@jupyter-widgets/base",
            "_view_module_version": "1.2.0",
            "_view_name": "StyleView",
            "description_width": ""
          }
        },
        "6c0e20f45991468ebf301ef837657f34": {
          "model_module": "@jupyter-widgets/base",
          "model_module_version": "1.2.0",
          "model_name": "LayoutModel",
          "state": {
            "_model_module": "@jupyter-widgets/base",
            "_model_module_version": "1.2.0",
            "_model_name": "LayoutModel",
            "_view_count": null,
            "_view_module": "@jupyter-widgets/base",
            "_view_module_version": "1.2.0",
            "_view_name": "LayoutView",
            "align_content": null,
            "align_items": null,
            "align_self": null,
            "border": null,
            "bottom": null,
            "display": null,
            "flex": null,
            "flex_flow": null,
            "grid_area": null,
            "grid_auto_columns": null,
            "grid_auto_flow": null,
            "grid_auto_rows": null,
            "grid_column": null,
            "grid_gap": null,
            "grid_row": null,
            "grid_template_areas": null,
            "grid_template_columns": null,
            "grid_template_rows": null,
            "height": null,
            "justify_content": null,
            "justify_items": null,
            "left": null,
            "margin": null,
            "max_height": null,
            "max_width": null,
            "min_height": null,
            "min_width": null,
            "object_fit": null,
            "object_position": null,
            "order": null,
            "overflow": null,
            "overflow_x": null,
            "overflow_y": null,
            "padding": null,
            "right": null,
            "top": null,
            "visibility": null,
            "width": null
          }
        },
        "6e06aa7f53d04329a69caaa07c1ed8cf": {
          "model_module": "@jupyter-widgets/controls",
          "model_module_version": "1.5.0",
          "model_name": "FloatProgressModel",
          "state": {
            "_dom_classes": [],
            "_model_module": "@jupyter-widgets/controls",
            "_model_module_version": "1.5.0",
            "_model_name": "FloatProgressModel",
            "_view_count": null,
            "_view_module": "@jupyter-widgets/controls",
            "_view_module_version": "1.5.0",
            "_view_name": "ProgressView",
            "bar_style": "danger",
            "description": "",
            "description_tooltip": null,
            "layout": "IPY_MODEL_a74f53a4231c4c408af5b1127a8753b6",
            "max": 4,
            "min": 0,
            "orientation": "horizontal",
            "style": "IPY_MODEL_2fdbe9a5c53b4ad18d83c2f466fc3323",
            "value": 3
          }
        },
        "6e434bbff68f451a86b1d943fcd239c5": {
          "model_module": "@jupyter-widgets/controls",
          "model_module_version": "1.5.0",
          "model_name": "HTMLModel",
          "state": {
            "_dom_classes": [],
            "_model_module": "@jupyter-widgets/controls",
            "_model_module_version": "1.5.0",
            "_model_name": "HTMLModel",
            "_view_count": null,
            "_view_module": "@jupyter-widgets/controls",
            "_view_module_version": "1.5.0",
            "_view_name": "HTMLView",
            "description": "",
            "description_tooltip": null,
            "layout": "IPY_MODEL_2aec7b5d3109493ea05dda005b3014ad",
            "placeholder": "​",
            "style": "IPY_MODEL_7872490bf1964f4691f4a9cc8d42cad5",
            "value": "Processing:  75%"
          }
        },
        "70ab7f267f224b5d94a58aa3106d6317": {
          "model_module": "@jupyter-widgets/base",
          "model_module_version": "1.2.0",
          "model_name": "LayoutModel",
          "state": {
            "_model_module": "@jupyter-widgets/base",
            "_model_module_version": "1.2.0",
            "_model_name": "LayoutModel",
            "_view_count": null,
            "_view_module": "@jupyter-widgets/base",
            "_view_module_version": "1.2.0",
            "_view_name": "LayoutView",
            "align_content": null,
            "align_items": null,
            "align_self": null,
            "border": null,
            "bottom": null,
            "display": null,
            "flex": null,
            "flex_flow": null,
            "grid_area": null,
            "grid_auto_columns": null,
            "grid_auto_flow": null,
            "grid_auto_rows": null,
            "grid_column": null,
            "grid_gap": null,
            "grid_row": null,
            "grid_template_areas": null,
            "grid_template_columns": null,
            "grid_template_rows": null,
            "height": null,
            "justify_content": null,
            "justify_items": null,
            "left": null,
            "margin": null,
            "max_height": null,
            "max_width": null,
            "min_height": null,
            "min_width": null,
            "object_fit": null,
            "object_position": null,
            "order": null,
            "overflow": null,
            "overflow_x": null,
            "overflow_y": null,
            "padding": null,
            "right": null,
            "top": null,
            "visibility": null,
            "width": null
          }
        },
        "70f420bf7ece48c3af13ca79282db26a": {
          "model_module": "@jupyter-widgets/controls",
          "model_module_version": "1.5.0",
          "model_name": "HTMLModel",
          "state": {
            "_dom_classes": [],
            "_model_module": "@jupyter-widgets/controls",
            "_model_module_version": "1.5.0",
            "_model_name": "HTMLModel",
            "_view_count": null,
            "_view_module": "@jupyter-widgets/controls",
            "_view_module_version": "1.5.0",
            "_view_name": "HTMLView",
            "description": "",
            "description_tooltip": null,
            "layout": "IPY_MODEL_0a13ff1e436f4844b31d0d2c771a9bc9",
            "placeholder": "​",
            "style": "IPY_MODEL_a86457626a0d483686e41d9d73fbe7ad",
            "value": "Processing:  75%"
          }
        },
        "74607ed4978b46ecb9abb2dadf840afa": {
          "model_module": "@jupyter-widgets/controls",
          "model_module_version": "1.5.0",
          "model_name": "HTMLModel",
          "state": {
            "_dom_classes": [],
            "_model_module": "@jupyter-widgets/controls",
            "_model_module_version": "1.5.0",
            "_model_name": "HTMLModel",
            "_view_count": null,
            "_view_module": "@jupyter-widgets/controls",
            "_view_module_version": "1.5.0",
            "_view_name": "HTMLView",
            "description": "",
            "description_tooltip": null,
            "layout": "IPY_MODEL_064439defd0a450192ce3e011fbdae06",
            "placeholder": "​",
            "style": "IPY_MODEL_61c6f50c59194807ad50b8b870985f03",
            "value": " 3/4 [00:00&lt;00:00,  5.44it/s]"
          }
        },
        "74bc0b3fce5245ae85a083f40078616d": {
          "model_module": "@jupyter-widgets/base",
          "model_module_version": "1.2.0",
          "model_name": "LayoutModel",
          "state": {
            "_model_module": "@jupyter-widgets/base",
            "_model_module_version": "1.2.0",
            "_model_name": "LayoutModel",
            "_view_count": null,
            "_view_module": "@jupyter-widgets/base",
            "_view_module_version": "1.2.0",
            "_view_name": "LayoutView",
            "align_content": null,
            "align_items": null,
            "align_self": null,
            "border": null,
            "bottom": null,
            "display": null,
            "flex": null,
            "flex_flow": null,
            "grid_area": null,
            "grid_auto_columns": null,
            "grid_auto_flow": null,
            "grid_auto_rows": null,
            "grid_column": null,
            "grid_gap": null,
            "grid_row": null,
            "grid_template_areas": null,
            "grid_template_columns": null,
            "grid_template_rows": null,
            "height": null,
            "justify_content": null,
            "justify_items": null,
            "left": null,
            "margin": null,
            "max_height": null,
            "max_width": null,
            "min_height": null,
            "min_width": null,
            "object_fit": null,
            "object_position": null,
            "order": null,
            "overflow": null,
            "overflow_x": null,
            "overflow_y": null,
            "padding": null,
            "right": null,
            "top": null,
            "visibility": null,
            "width": null
          }
        },
        "761962f310f1475ca36648b0d6f2cc54": {
          "model_module": "@jupyter-widgets/controls",
          "model_module_version": "1.5.0",
          "model_name": "DescriptionStyleModel",
          "state": {
            "_model_module": "@jupyter-widgets/controls",
            "_model_module_version": "1.5.0",
            "_model_name": "DescriptionStyleModel",
            "_view_count": null,
            "_view_module": "@jupyter-widgets/base",
            "_view_module_version": "1.2.0",
            "_view_name": "StyleView",
            "description_width": ""
          }
        },
        "77451b265cba40b18ee9ee906f004988": {
          "model_module": "@jupyter-widgets/base",
          "model_module_version": "1.2.0",
          "model_name": "LayoutModel",
          "state": {
            "_model_module": "@jupyter-widgets/base",
            "_model_module_version": "1.2.0",
            "_model_name": "LayoutModel",
            "_view_count": null,
            "_view_module": "@jupyter-widgets/base",
            "_view_module_version": "1.2.0",
            "_view_name": "LayoutView",
            "align_content": null,
            "align_items": null,
            "align_self": null,
            "border": null,
            "bottom": null,
            "display": null,
            "flex": null,
            "flex_flow": null,
            "grid_area": null,
            "grid_auto_columns": null,
            "grid_auto_flow": null,
            "grid_auto_rows": null,
            "grid_column": null,
            "grid_gap": null,
            "grid_row": null,
            "grid_template_areas": null,
            "grid_template_columns": null,
            "grid_template_rows": null,
            "height": null,
            "justify_content": null,
            "justify_items": null,
            "left": null,
            "margin": null,
            "max_height": null,
            "max_width": null,
            "min_height": null,
            "min_width": null,
            "object_fit": null,
            "object_position": null,
            "order": null,
            "overflow": null,
            "overflow_x": null,
            "overflow_y": null,
            "padding": null,
            "right": null,
            "top": null,
            "visibility": null,
            "width": null
          }
        },
        "7872490bf1964f4691f4a9cc8d42cad5": {
          "model_module": "@jupyter-widgets/controls",
          "model_module_version": "1.5.0",
          "model_name": "DescriptionStyleModel",
          "state": {
            "_model_module": "@jupyter-widgets/controls",
            "_model_module_version": "1.5.0",
            "_model_name": "DescriptionStyleModel",
            "_view_count": null,
            "_view_module": "@jupyter-widgets/base",
            "_view_module_version": "1.2.0",
            "_view_name": "StyleView",
            "description_width": ""
          }
        },
        "79553c4e54d14c1b86881aba3605b4ac": {
          "model_module": "@jupyter-widgets/controls",
          "model_module_version": "1.5.0",
          "model_name": "FloatProgressModel",
          "state": {
            "_dom_classes": [],
            "_model_module": "@jupyter-widgets/controls",
            "_model_module_version": "1.5.0",
            "_model_name": "FloatProgressModel",
            "_view_count": null,
            "_view_module": "@jupyter-widgets/controls",
            "_view_module_version": "1.5.0",
            "_view_name": "ProgressView",
            "bar_style": "danger",
            "description": "",
            "description_tooltip": null,
            "layout": "IPY_MODEL_2834fb31450d4b788847e233bbb3d1a8",
            "max": 4,
            "min": 0,
            "orientation": "horizontal",
            "style": "IPY_MODEL_817fab0bcb724e3dbccfc6cd714c432d",
            "value": 3
          }
        },
        "7b061e17a42c4cb197f0f177507c6caf": {
          "model_module": "@jupyter-widgets/controls",
          "model_module_version": "1.5.0",
          "model_name": "HTMLModel",
          "state": {
            "_dom_classes": [],
            "_model_module": "@jupyter-widgets/controls",
            "_model_module_version": "1.5.0",
            "_model_name": "HTMLModel",
            "_view_count": null,
            "_view_module": "@jupyter-widgets/controls",
            "_view_module_version": "1.5.0",
            "_view_name": "HTMLView",
            "description": "",
            "description_tooltip": null,
            "layout": "IPY_MODEL_bfc8728407f64b05bfc8b1674a1b2db1",
            "placeholder": "​",
            "style": "IPY_MODEL_ed85e049404a422aa59c45d4dc6fb2c8",
            "value": " 21/21 [00:03&lt;00:00,  5.48it/s]"
          }
        },
        "7b7a9bafa1ff4c2d8495663e6464f240": {
          "model_module": "@jupyter-widgets/controls",
          "model_module_version": "1.5.0",
          "model_name": "FloatProgressModel",
          "state": {
            "_dom_classes": [],
            "_model_module": "@jupyter-widgets/controls",
            "_model_module_version": "1.5.0",
            "_model_name": "FloatProgressModel",
            "_view_count": null,
            "_view_module": "@jupyter-widgets/controls",
            "_view_module_version": "1.5.0",
            "_view_name": "ProgressView",
            "bar_style": "danger",
            "description": "",
            "description_tooltip": null,
            "layout": "IPY_MODEL_e0bba9f1c8a94f63a484019bc48205fc",
            "max": 4,
            "min": 0,
            "orientation": "horizontal",
            "style": "IPY_MODEL_49f6aeab4d15413d9d226d96be37a92b",
            "value": 3
          }
        },
        "817fab0bcb724e3dbccfc6cd714c432d": {
          "model_module": "@jupyter-widgets/controls",
          "model_module_version": "1.5.0",
          "model_name": "ProgressStyleModel",
          "state": {
            "_model_module": "@jupyter-widgets/controls",
            "_model_module_version": "1.5.0",
            "_model_name": "ProgressStyleModel",
            "_view_count": null,
            "_view_module": "@jupyter-widgets/base",
            "_view_module_version": "1.2.0",
            "_view_name": "StyleView",
            "bar_color": null,
            "description_width": ""
          }
        },
        "82383a38ebdb437fb96e119dfa984aa9": {
          "model_module": "@jupyter-widgets/controls",
          "model_module_version": "1.5.0",
          "model_name": "HTMLModel",
          "state": {
            "_dom_classes": [],
            "_model_module": "@jupyter-widgets/controls",
            "_model_module_version": "1.5.0",
            "_model_name": "HTMLModel",
            "_view_count": null,
            "_view_module": "@jupyter-widgets/controls",
            "_view_module_version": "1.5.0",
            "_view_name": "HTMLView",
            "description": "",
            "description_tooltip": null,
            "layout": "IPY_MODEL_6c0e20f45991468ebf301ef837657f34",
            "placeholder": "​",
            "style": "IPY_MODEL_4e3cb40dfbd84b76b8eb76fc2f8053ee",
            "value": " 3/4 [00:00&lt;00:00,  6.49it/s]"
          }
        },
        "82e5d5d377db4ccdad23d68e31698895": {
          "model_module": "@jupyter-widgets/controls",
          "model_module_version": "1.5.0",
          "model_name": "ProgressStyleModel",
          "state": {
            "_model_module": "@jupyter-widgets/controls",
            "_model_module_version": "1.5.0",
            "_model_name": "ProgressStyleModel",
            "_view_count": null,
            "_view_module": "@jupyter-widgets/base",
            "_view_module_version": "1.2.0",
            "_view_name": "StyleView",
            "bar_color": null,
            "description_width": ""
          }
        },
        "84c9abc7f0034e569bac074f0de707a2": {
          "model_module": "@jupyter-widgets/controls",
          "model_module_version": "1.5.0",
          "model_name": "FloatProgressModel",
          "state": {
            "_dom_classes": [],
            "_model_module": "@jupyter-widgets/controls",
            "_model_module_version": "1.5.0",
            "_model_name": "FloatProgressModel",
            "_view_count": null,
            "_view_module": "@jupyter-widgets/controls",
            "_view_module_version": "1.5.0",
            "_view_name": "ProgressView",
            "bar_style": "danger",
            "description": "",
            "description_tooltip": null,
            "layout": "IPY_MODEL_bb10d177a0504eaf966b7c2f891b5259",
            "max": 4,
            "min": 0,
            "orientation": "horizontal",
            "style": "IPY_MODEL_4a71f78a1f8c47d0856fab104f653458",
            "value": 3
          }
        },
        "891af3c485ec45fbbc24e26fda59ca82": {
          "model_module": "@jupyter-widgets/controls",
          "model_module_version": "1.5.0",
          "model_name": "HBoxModel",
          "state": {
            "_dom_classes": [],
            "_model_module": "@jupyter-widgets/controls",
            "_model_module_version": "1.5.0",
            "_model_name": "HBoxModel",
            "_view_count": null,
            "_view_module": "@jupyter-widgets/controls",
            "_view_module_version": "1.5.0",
            "_view_name": "HBoxView",
            "box_style": "",
            "children": [
              "IPY_MODEL_4ff86721c4e84395a5d4b8c19809e5ab",
              "IPY_MODEL_7b7a9bafa1ff4c2d8495663e6464f240",
              "IPY_MODEL_31e38aca2c6f437cb26655e36594c0cb"
            ],
            "layout": "IPY_MODEL_036f5285e0564875952ef34edbe303aa"
          }
        },
        "8ca6b73f1512465b8a940d2f564e0483": {
          "model_module": "@jupyter-widgets/base",
          "model_module_version": "1.2.0",
          "model_name": "LayoutModel",
          "state": {
            "_model_module": "@jupyter-widgets/base",
            "_model_module_version": "1.2.0",
            "_model_name": "LayoutModel",
            "_view_count": null,
            "_view_module": "@jupyter-widgets/base",
            "_view_module_version": "1.2.0",
            "_view_name": "LayoutView",
            "align_content": null,
            "align_items": null,
            "align_self": null,
            "border": null,
            "bottom": null,
            "display": null,
            "flex": null,
            "flex_flow": null,
            "grid_area": null,
            "grid_auto_columns": null,
            "grid_auto_flow": null,
            "grid_auto_rows": null,
            "grid_column": null,
            "grid_gap": null,
            "grid_row": null,
            "grid_template_areas": null,
            "grid_template_columns": null,
            "grid_template_rows": null,
            "height": null,
            "justify_content": null,
            "justify_items": null,
            "left": null,
            "margin": null,
            "max_height": null,
            "max_width": null,
            "min_height": null,
            "min_width": null,
            "object_fit": null,
            "object_position": null,
            "order": null,
            "overflow": null,
            "overflow_x": null,
            "overflow_y": null,
            "padding": null,
            "right": null,
            "top": null,
            "visibility": null,
            "width": null
          }
        },
        "8d6a2eca4a3d4684ae905f830135335e": {
          "model_module": "@jupyter-widgets/controls",
          "model_module_version": "1.5.0",
          "model_name": "HTMLModel",
          "state": {
            "_dom_classes": [],
            "_model_module": "@jupyter-widgets/controls",
            "_model_module_version": "1.5.0",
            "_model_name": "HTMLModel",
            "_view_count": null,
            "_view_module": "@jupyter-widgets/controls",
            "_view_module_version": "1.5.0",
            "_view_name": "HTMLView",
            "description": "",
            "description_tooltip": null,
            "layout": "IPY_MODEL_32fb6f8731b346d4866acc651550365d",
            "placeholder": "​",
            "style": "IPY_MODEL_d8522de32042457c8137b0d3b81cecd9",
            "value": "Processing:  75%"
          }
        },
        "925451e4081d4b5db919a63b45587957": {
          "model_module": "@jupyter-widgets/controls",
          "model_module_version": "1.5.0",
          "model_name": "HBoxModel",
          "state": {
            "_dom_classes": [],
            "_model_module": "@jupyter-widgets/controls",
            "_model_module_version": "1.5.0",
            "_model_name": "HBoxModel",
            "_view_count": null,
            "_view_module": "@jupyter-widgets/controls",
            "_view_module_version": "1.5.0",
            "_view_name": "HBoxView",
            "box_style": "",
            "children": [
              "IPY_MODEL_70f420bf7ece48c3af13ca79282db26a",
              "IPY_MODEL_84c9abc7f0034e569bac074f0de707a2",
              "IPY_MODEL_74607ed4978b46ecb9abb2dadf840afa"
            ],
            "layout": "IPY_MODEL_0e2e5e65477f4330a02f189aa2666552"
          }
        },
        "96ce2f8117dc4c21b729f69daa0368b5": {
          "model_module": "@jupyter-widgets/base",
          "model_module_version": "1.2.0",
          "model_name": "LayoutModel",
          "state": {
            "_model_module": "@jupyter-widgets/base",
            "_model_module_version": "1.2.0",
            "_model_name": "LayoutModel",
            "_view_count": null,
            "_view_module": "@jupyter-widgets/base",
            "_view_module_version": "1.2.0",
            "_view_name": "LayoutView",
            "align_content": null,
            "align_items": null,
            "align_self": null,
            "border": null,
            "bottom": null,
            "display": null,
            "flex": null,
            "flex_flow": null,
            "grid_area": null,
            "grid_auto_columns": null,
            "grid_auto_flow": null,
            "grid_auto_rows": null,
            "grid_column": null,
            "grid_gap": null,
            "grid_row": null,
            "grid_template_areas": null,
            "grid_template_columns": null,
            "grid_template_rows": null,
            "height": null,
            "justify_content": null,
            "justify_items": null,
            "left": null,
            "margin": null,
            "max_height": null,
            "max_width": null,
            "min_height": null,
            "min_width": null,
            "object_fit": null,
            "object_position": null,
            "order": null,
            "overflow": null,
            "overflow_x": null,
            "overflow_y": null,
            "padding": null,
            "right": null,
            "top": null,
            "visibility": null,
            "width": null
          }
        },
        "9840985a42264af2ab2762308f6a828c": {
          "model_module": "@jupyter-widgets/controls",
          "model_module_version": "1.5.0",
          "model_name": "HTMLModel",
          "state": {
            "_dom_classes": [],
            "_model_module": "@jupyter-widgets/controls",
            "_model_module_version": "1.5.0",
            "_model_name": "HTMLModel",
            "_view_count": null,
            "_view_module": "@jupyter-widgets/controls",
            "_view_module_version": "1.5.0",
            "_view_name": "HTMLView",
            "description": "",
            "description_tooltip": null,
            "layout": "IPY_MODEL_14d1ba83291f4f9c8d34f8120c6d4299",
            "placeholder": "​",
            "style": "IPY_MODEL_761962f310f1475ca36648b0d6f2cc54",
            "value": " 3/4 [00:00&lt;00:00,  8.37it/s]"
          }
        },
        "9a1d2bfc28a34bf89c0356089b3876d0": {
          "model_module": "@jupyter-widgets/base",
          "model_module_version": "1.2.0",
          "model_name": "LayoutModel",
          "state": {
            "_model_module": "@jupyter-widgets/base",
            "_model_module_version": "1.2.0",
            "_model_name": "LayoutModel",
            "_view_count": null,
            "_view_module": "@jupyter-widgets/base",
            "_view_module_version": "1.2.0",
            "_view_name": "LayoutView",
            "align_content": null,
            "align_items": null,
            "align_self": null,
            "border": null,
            "bottom": null,
            "display": null,
            "flex": null,
            "flex_flow": null,
            "grid_area": null,
            "grid_auto_columns": null,
            "grid_auto_flow": null,
            "grid_auto_rows": null,
            "grid_column": null,
            "grid_gap": null,
            "grid_row": null,
            "grid_template_areas": null,
            "grid_template_columns": null,
            "grid_template_rows": null,
            "height": null,
            "justify_content": null,
            "justify_items": null,
            "left": null,
            "margin": null,
            "max_height": null,
            "max_width": null,
            "min_height": null,
            "min_width": null,
            "object_fit": null,
            "object_position": null,
            "order": null,
            "overflow": null,
            "overflow_x": null,
            "overflow_y": null,
            "padding": null,
            "right": null,
            "top": null,
            "visibility": null,
            "width": null
          }
        },
        "a0b607d886534678aff19e2fc06be9d4": {
          "model_module": "@jupyter-widgets/base",
          "model_module_version": "1.2.0",
          "model_name": "LayoutModel",
          "state": {
            "_model_module": "@jupyter-widgets/base",
            "_model_module_version": "1.2.0",
            "_model_name": "LayoutModel",
            "_view_count": null,
            "_view_module": "@jupyter-widgets/base",
            "_view_module_version": "1.2.0",
            "_view_name": "LayoutView",
            "align_content": null,
            "align_items": null,
            "align_self": null,
            "border": null,
            "bottom": null,
            "display": null,
            "flex": null,
            "flex_flow": null,
            "grid_area": null,
            "grid_auto_columns": null,
            "grid_auto_flow": null,
            "grid_auto_rows": null,
            "grid_column": null,
            "grid_gap": null,
            "grid_row": null,
            "grid_template_areas": null,
            "grid_template_columns": null,
            "grid_template_rows": null,
            "height": null,
            "justify_content": null,
            "justify_items": null,
            "left": null,
            "margin": null,
            "max_height": null,
            "max_width": null,
            "min_height": null,
            "min_width": null,
            "object_fit": null,
            "object_position": null,
            "order": null,
            "overflow": null,
            "overflow_x": null,
            "overflow_y": null,
            "padding": null,
            "right": null,
            "top": null,
            "visibility": null,
            "width": null
          }
        },
        "a32ac573e8564cc78ec3a369cb0eacd4": {
          "model_module": "@jupyter-widgets/base",
          "model_module_version": "1.2.0",
          "model_name": "LayoutModel",
          "state": {
            "_model_module": "@jupyter-widgets/base",
            "_model_module_version": "1.2.0",
            "_model_name": "LayoutModel",
            "_view_count": null,
            "_view_module": "@jupyter-widgets/base",
            "_view_module_version": "1.2.0",
            "_view_name": "LayoutView",
            "align_content": null,
            "align_items": null,
            "align_self": null,
            "border": null,
            "bottom": null,
            "display": null,
            "flex": null,
            "flex_flow": null,
            "grid_area": null,
            "grid_auto_columns": null,
            "grid_auto_flow": null,
            "grid_auto_rows": null,
            "grid_column": null,
            "grid_gap": null,
            "grid_row": null,
            "grid_template_areas": null,
            "grid_template_columns": null,
            "grid_template_rows": null,
            "height": null,
            "justify_content": null,
            "justify_items": null,
            "left": null,
            "margin": null,
            "max_height": null,
            "max_width": null,
            "min_height": null,
            "min_width": null,
            "object_fit": null,
            "object_position": null,
            "order": null,
            "overflow": null,
            "overflow_x": null,
            "overflow_y": null,
            "padding": null,
            "right": null,
            "top": null,
            "visibility": null,
            "width": null
          }
        },
        "a39cce94f23d4d4f824dc8b2ae1b6c85": {
          "model_module": "@jupyter-widgets/controls",
          "model_module_version": "1.5.0",
          "model_name": "DescriptionStyleModel",
          "state": {
            "_model_module": "@jupyter-widgets/controls",
            "_model_module_version": "1.5.0",
            "_model_name": "DescriptionStyleModel",
            "_view_count": null,
            "_view_module": "@jupyter-widgets/base",
            "_view_module_version": "1.2.0",
            "_view_name": "StyleView",
            "description_width": ""
          }
        },
        "a66125127e634ec78368b0805036052b": {
          "model_module": "@jupyter-widgets/base",
          "model_module_version": "1.2.0",
          "model_name": "LayoutModel",
          "state": {
            "_model_module": "@jupyter-widgets/base",
            "_model_module_version": "1.2.0",
            "_model_name": "LayoutModel",
            "_view_count": null,
            "_view_module": "@jupyter-widgets/base",
            "_view_module_version": "1.2.0",
            "_view_name": "LayoutView",
            "align_content": null,
            "align_items": null,
            "align_self": null,
            "border": null,
            "bottom": null,
            "display": null,
            "flex": null,
            "flex_flow": null,
            "grid_area": null,
            "grid_auto_columns": null,
            "grid_auto_flow": null,
            "grid_auto_rows": null,
            "grid_column": null,
            "grid_gap": null,
            "grid_row": null,
            "grid_template_areas": null,
            "grid_template_columns": null,
            "grid_template_rows": null,
            "height": null,
            "justify_content": null,
            "justify_items": null,
            "left": null,
            "margin": null,
            "max_height": null,
            "max_width": null,
            "min_height": null,
            "min_width": null,
            "object_fit": null,
            "object_position": null,
            "order": null,
            "overflow": null,
            "overflow_x": null,
            "overflow_y": null,
            "padding": null,
            "right": null,
            "top": null,
            "visibility": null,
            "width": null
          }
        },
        "a74f53a4231c4c408af5b1127a8753b6": {
          "model_module": "@jupyter-widgets/base",
          "model_module_version": "1.2.0",
          "model_name": "LayoutModel",
          "state": {
            "_model_module": "@jupyter-widgets/base",
            "_model_module_version": "1.2.0",
            "_model_name": "LayoutModel",
            "_view_count": null,
            "_view_module": "@jupyter-widgets/base",
            "_view_module_version": "1.2.0",
            "_view_name": "LayoutView",
            "align_content": null,
            "align_items": null,
            "align_self": null,
            "border": null,
            "bottom": null,
            "display": null,
            "flex": null,
            "flex_flow": null,
            "grid_area": null,
            "grid_auto_columns": null,
            "grid_auto_flow": null,
            "grid_auto_rows": null,
            "grid_column": null,
            "grid_gap": null,
            "grid_row": null,
            "grid_template_areas": null,
            "grid_template_columns": null,
            "grid_template_rows": null,
            "height": null,
            "justify_content": null,
            "justify_items": null,
            "left": null,
            "margin": null,
            "max_height": null,
            "max_width": null,
            "min_height": null,
            "min_width": null,
            "object_fit": null,
            "object_position": null,
            "order": null,
            "overflow": null,
            "overflow_x": null,
            "overflow_y": null,
            "padding": null,
            "right": null,
            "top": null,
            "visibility": null,
            "width": null
          }
        },
        "a861560d495b40879337fa939376165d": {
          "model_module": "@jupyter-widgets/base",
          "model_module_version": "1.2.0",
          "model_name": "LayoutModel",
          "state": {
            "_model_module": "@jupyter-widgets/base",
            "_model_module_version": "1.2.0",
            "_model_name": "LayoutModel",
            "_view_count": null,
            "_view_module": "@jupyter-widgets/base",
            "_view_module_version": "1.2.0",
            "_view_name": "LayoutView",
            "align_content": null,
            "align_items": null,
            "align_self": null,
            "border": null,
            "bottom": null,
            "display": null,
            "flex": null,
            "flex_flow": null,
            "grid_area": null,
            "grid_auto_columns": null,
            "grid_auto_flow": null,
            "grid_auto_rows": null,
            "grid_column": null,
            "grid_gap": null,
            "grid_row": null,
            "grid_template_areas": null,
            "grid_template_columns": null,
            "grid_template_rows": null,
            "height": null,
            "justify_content": null,
            "justify_items": null,
            "left": null,
            "margin": null,
            "max_height": null,
            "max_width": null,
            "min_height": null,
            "min_width": null,
            "object_fit": null,
            "object_position": null,
            "order": null,
            "overflow": null,
            "overflow_x": null,
            "overflow_y": null,
            "padding": null,
            "right": null,
            "top": null,
            "visibility": "hidden",
            "width": null
          }
        },
        "a86457626a0d483686e41d9d73fbe7ad": {
          "model_module": "@jupyter-widgets/controls",
          "model_module_version": "1.5.0",
          "model_name": "DescriptionStyleModel",
          "state": {
            "_model_module": "@jupyter-widgets/controls",
            "_model_module_version": "1.5.0",
            "_model_name": "DescriptionStyleModel",
            "_view_count": null,
            "_view_module": "@jupyter-widgets/base",
            "_view_module_version": "1.2.0",
            "_view_name": "StyleView",
            "description_width": ""
          }
        },
        "a8c1cd74fb1d4ae697aa39aa182736a9": {
          "model_module": "@jupyter-widgets/base",
          "model_module_version": "1.2.0",
          "model_name": "LayoutModel",
          "state": {
            "_model_module": "@jupyter-widgets/base",
            "_model_module_version": "1.2.0",
            "_model_name": "LayoutModel",
            "_view_count": null,
            "_view_module": "@jupyter-widgets/base",
            "_view_module_version": "1.2.0",
            "_view_name": "LayoutView",
            "align_content": null,
            "align_items": null,
            "align_self": null,
            "border": null,
            "bottom": null,
            "display": null,
            "flex": null,
            "flex_flow": null,
            "grid_area": null,
            "grid_auto_columns": null,
            "grid_auto_flow": null,
            "grid_auto_rows": null,
            "grid_column": null,
            "grid_gap": null,
            "grid_row": null,
            "grid_template_areas": null,
            "grid_template_columns": null,
            "grid_template_rows": null,
            "height": null,
            "justify_content": null,
            "justify_items": null,
            "left": null,
            "margin": null,
            "max_height": null,
            "max_width": null,
            "min_height": null,
            "min_width": null,
            "object_fit": null,
            "object_position": null,
            "order": null,
            "overflow": null,
            "overflow_x": null,
            "overflow_y": null,
            "padding": null,
            "right": null,
            "top": null,
            "visibility": null,
            "width": null
          }
        },
        "a8f3c922c94b47919ec77fdc0beeb832": {
          "model_module": "@jupyter-widgets/controls",
          "model_module_version": "1.5.0",
          "model_name": "HBoxModel",
          "state": {
            "_dom_classes": [],
            "_model_module": "@jupyter-widgets/controls",
            "_model_module_version": "1.5.0",
            "_model_name": "HBoxModel",
            "_view_count": null,
            "_view_module": "@jupyter-widgets/controls",
            "_view_module_version": "1.5.0",
            "_view_name": "HBoxView",
            "box_style": "",
            "children": [
              "IPY_MODEL_de53fac1316b453db888546af9e1c8ee",
              "IPY_MODEL_267ddc0b23054790abd2243af04bbb5b",
              "IPY_MODEL_0d2a0ca633d743bebb1ccad1045b8734"
            ],
            "layout": "IPY_MODEL_c5c1836835ed486a8431126a372cbc0f"
          }
        },
        "ac31eb6ce7944e2ba1deb6ba37a5c3c5": {
          "model_module": "@jupyter-widgets/controls",
          "model_module_version": "1.5.0",
          "model_name": "DescriptionStyleModel",
          "state": {
            "_model_module": "@jupyter-widgets/controls",
            "_model_module_version": "1.5.0",
            "_model_name": "DescriptionStyleModel",
            "_view_count": null,
            "_view_module": "@jupyter-widgets/base",
            "_view_module_version": "1.2.0",
            "_view_name": "StyleView",
            "description_width": ""
          }
        },
        "ada4d83bcf2742ab87d3d82ccb49d4a5": {
          "model_module": "@jupyter-widgets/controls",
          "model_module_version": "1.5.0",
          "model_name": "ProgressStyleModel",
          "state": {
            "_model_module": "@jupyter-widgets/controls",
            "_model_module_version": "1.5.0",
            "_model_name": "ProgressStyleModel",
            "_view_count": null,
            "_view_module": "@jupyter-widgets/base",
            "_view_module_version": "1.2.0",
            "_view_name": "StyleView",
            "bar_color": null,
            "description_width": ""
          }
        },
        "b09940dba8e34a67a114d9a375b6170f": {
          "model_module": "@jupyter-widgets/controls",
          "model_module_version": "1.5.0",
          "model_name": "DescriptionStyleModel",
          "state": {
            "_model_module": "@jupyter-widgets/controls",
            "_model_module_version": "1.5.0",
            "_model_name": "DescriptionStyleModel",
            "_view_count": null,
            "_view_module": "@jupyter-widgets/base",
            "_view_module_version": "1.2.0",
            "_view_name": "StyleView",
            "description_width": ""
          }
        },
        "b2c1b7e2f82444b3b5846a08f06f3101": {
          "model_module": "@jupyter-widgets/base",
          "model_module_version": "1.2.0",
          "model_name": "LayoutModel",
          "state": {
            "_model_module": "@jupyter-widgets/base",
            "_model_module_version": "1.2.0",
            "_model_name": "LayoutModel",
            "_view_count": null,
            "_view_module": "@jupyter-widgets/base",
            "_view_module_version": "1.2.0",
            "_view_name": "LayoutView",
            "align_content": null,
            "align_items": null,
            "align_self": null,
            "border": null,
            "bottom": null,
            "display": null,
            "flex": null,
            "flex_flow": null,
            "grid_area": null,
            "grid_auto_columns": null,
            "grid_auto_flow": null,
            "grid_auto_rows": null,
            "grid_column": null,
            "grid_gap": null,
            "grid_row": null,
            "grid_template_areas": null,
            "grid_template_columns": null,
            "grid_template_rows": null,
            "height": null,
            "justify_content": null,
            "justify_items": null,
            "left": null,
            "margin": null,
            "max_height": null,
            "max_width": null,
            "min_height": null,
            "min_width": null,
            "object_fit": null,
            "object_position": null,
            "order": null,
            "overflow": null,
            "overflow_x": null,
            "overflow_y": null,
            "padding": null,
            "right": null,
            "top": null,
            "visibility": null,
            "width": null
          }
        },
        "b405924bfdff4841a7c7af8e5114981f": {
          "model_module": "@jupyter-widgets/controls",
          "model_module_version": "1.5.0",
          "model_name": "HBoxModel",
          "state": {
            "_dom_classes": [],
            "_model_module": "@jupyter-widgets/controls",
            "_model_module_version": "1.5.0",
            "_model_name": "HBoxModel",
            "_view_count": null,
            "_view_module": "@jupyter-widgets/controls",
            "_view_module_version": "1.5.0",
            "_view_name": "HBoxView",
            "box_style": "",
            "children": [
              "IPY_MODEL_6e434bbff68f451a86b1d943fcd239c5",
              "IPY_MODEL_79553c4e54d14c1b86881aba3605b4ac",
              "IPY_MODEL_50ddcc290d3548f88c109dee6cafc8b6"
            ],
            "layout": "IPY_MODEL_f44b29c2ae654b86bd07ac79556289ab"
          }
        },
        "b700dafed8b04b4db4e94c686c3ed885": {
          "model_module": "@jupyter-widgets/controls",
          "model_module_version": "1.5.0",
          "model_name": "DescriptionStyleModel",
          "state": {
            "_model_module": "@jupyter-widgets/controls",
            "_model_module_version": "1.5.0",
            "_model_name": "DescriptionStyleModel",
            "_view_count": null,
            "_view_module": "@jupyter-widgets/base",
            "_view_module_version": "1.2.0",
            "_view_name": "StyleView",
            "description_width": ""
          }
        },
        "b7246196441c41839afefb4e6819fb17": {
          "model_module": "@jupyter-widgets/base",
          "model_module_version": "1.2.0",
          "model_name": "LayoutModel",
          "state": {
            "_model_module": "@jupyter-widgets/base",
            "_model_module_version": "1.2.0",
            "_model_name": "LayoutModel",
            "_view_count": null,
            "_view_module": "@jupyter-widgets/base",
            "_view_module_version": "1.2.0",
            "_view_name": "LayoutView",
            "align_content": null,
            "align_items": null,
            "align_self": null,
            "border": null,
            "bottom": null,
            "display": null,
            "flex": null,
            "flex_flow": null,
            "grid_area": null,
            "grid_auto_columns": null,
            "grid_auto_flow": null,
            "grid_auto_rows": null,
            "grid_column": null,
            "grid_gap": null,
            "grid_row": null,
            "grid_template_areas": null,
            "grid_template_columns": null,
            "grid_template_rows": null,
            "height": null,
            "justify_content": null,
            "justify_items": null,
            "left": null,
            "margin": null,
            "max_height": null,
            "max_width": null,
            "min_height": null,
            "min_width": null,
            "object_fit": null,
            "object_position": null,
            "order": null,
            "overflow": null,
            "overflow_x": null,
            "overflow_y": null,
            "padding": null,
            "right": null,
            "top": null,
            "visibility": null,
            "width": null
          }
        },
        "b7bf9e706de64112b958f4041592f129": {
          "model_module": "@jupyter-widgets/controls",
          "model_module_version": "1.5.0",
          "model_name": "DescriptionStyleModel",
          "state": {
            "_model_module": "@jupyter-widgets/controls",
            "_model_module_version": "1.5.0",
            "_model_name": "DescriptionStyleModel",
            "_view_count": null,
            "_view_module": "@jupyter-widgets/base",
            "_view_module_version": "1.2.0",
            "_view_name": "StyleView",
            "description_width": ""
          }
        },
        "b9c0c5e7a02947b4921b6b49fc165451": {
          "model_module": "@jupyter-widgets/controls",
          "model_module_version": "1.5.0",
          "model_name": "ProgressStyleModel",
          "state": {
            "_model_module": "@jupyter-widgets/controls",
            "_model_module_version": "1.5.0",
            "_model_name": "ProgressStyleModel",
            "_view_count": null,
            "_view_module": "@jupyter-widgets/base",
            "_view_module_version": "1.2.0",
            "_view_name": "StyleView",
            "bar_color": null,
            "description_width": ""
          }
        },
        "ba16bf4eb4c24bf5968fce9ad798cfa6": {
          "model_module": "@jupyter-widgets/base",
          "model_module_version": "1.2.0",
          "model_name": "LayoutModel",
          "state": {
            "_model_module": "@jupyter-widgets/base",
            "_model_module_version": "1.2.0",
            "_model_name": "LayoutModel",
            "_view_count": null,
            "_view_module": "@jupyter-widgets/base",
            "_view_module_version": "1.2.0",
            "_view_name": "LayoutView",
            "align_content": null,
            "align_items": null,
            "align_self": null,
            "border": null,
            "bottom": null,
            "display": null,
            "flex": null,
            "flex_flow": null,
            "grid_area": null,
            "grid_auto_columns": null,
            "grid_auto_flow": null,
            "grid_auto_rows": null,
            "grid_column": null,
            "grid_gap": null,
            "grid_row": null,
            "grid_template_areas": null,
            "grid_template_columns": null,
            "grid_template_rows": null,
            "height": null,
            "justify_content": null,
            "justify_items": null,
            "left": null,
            "margin": null,
            "max_height": null,
            "max_width": null,
            "min_height": null,
            "min_width": null,
            "object_fit": null,
            "object_position": null,
            "order": null,
            "overflow": null,
            "overflow_x": null,
            "overflow_y": null,
            "padding": null,
            "right": null,
            "top": null,
            "visibility": null,
            "width": null
          }
        },
        "bb10d177a0504eaf966b7c2f891b5259": {
          "model_module": "@jupyter-widgets/base",
          "model_module_version": "1.2.0",
          "model_name": "LayoutModel",
          "state": {
            "_model_module": "@jupyter-widgets/base",
            "_model_module_version": "1.2.0",
            "_model_name": "LayoutModel",
            "_view_count": null,
            "_view_module": "@jupyter-widgets/base",
            "_view_module_version": "1.2.0",
            "_view_name": "LayoutView",
            "align_content": null,
            "align_items": null,
            "align_self": null,
            "border": null,
            "bottom": null,
            "display": null,
            "flex": null,
            "flex_flow": null,
            "grid_area": null,
            "grid_auto_columns": null,
            "grid_auto_flow": null,
            "grid_auto_rows": null,
            "grid_column": null,
            "grid_gap": null,
            "grid_row": null,
            "grid_template_areas": null,
            "grid_template_columns": null,
            "grid_template_rows": null,
            "height": null,
            "justify_content": null,
            "justify_items": null,
            "left": null,
            "margin": null,
            "max_height": null,
            "max_width": null,
            "min_height": null,
            "min_width": null,
            "object_fit": null,
            "object_position": null,
            "order": null,
            "overflow": null,
            "overflow_x": null,
            "overflow_y": null,
            "padding": null,
            "right": null,
            "top": null,
            "visibility": null,
            "width": null
          }
        },
        "bc86e012f87e4accbda1e8532fb6c4a8": {
          "model_module": "@jupyter-widgets/controls",
          "model_module_version": "1.5.0",
          "model_name": "HTMLModel",
          "state": {
            "_dom_classes": [],
            "_model_module": "@jupyter-widgets/controls",
            "_model_module_version": "1.5.0",
            "_model_name": "HTMLModel",
            "_view_count": null,
            "_view_module": "@jupyter-widgets/controls",
            "_view_module_version": "1.5.0",
            "_view_name": "HTMLView",
            "description": "",
            "description_tooltip": null,
            "layout": "IPY_MODEL_d84a5f601db2415ca8384bc67477c673",
            "placeholder": "​",
            "style": "IPY_MODEL_b700dafed8b04b4db4e94c686c3ed885",
            "value": "Processing:  75%"
          }
        },
        "bd02635bdcf04927a4fd30470d49faca": {
          "model_module": "@jupyter-widgets/controls",
          "model_module_version": "1.5.0",
          "model_name": "FloatProgressModel",
          "state": {
            "_dom_classes": [],
            "_model_module": "@jupyter-widgets/controls",
            "_model_module_version": "1.5.0",
            "_model_name": "FloatProgressModel",
            "_view_count": null,
            "_view_module": "@jupyter-widgets/controls",
            "_view_module_version": "1.5.0",
            "_view_name": "ProgressView",
            "bar_style": "",
            "description": "",
            "description_tooltip": null,
            "layout": "IPY_MODEL_09acad4f2f6e4f808e06f10e0c53308a",
            "max": 21,
            "min": 0,
            "orientation": "horizontal",
            "style": "IPY_MODEL_82e5d5d377db4ccdad23d68e31698895",
            "value": 21
          }
        },
        "bd4b9957c0924ef1b912c2427b7e7fa8": {
          "model_module": "@jupyter-widgets/controls",
          "model_module_version": "1.5.0",
          "model_name": "DescriptionStyleModel",
          "state": {
            "_model_module": "@jupyter-widgets/controls",
            "_model_module_version": "1.5.0",
            "_model_name": "DescriptionStyleModel",
            "_view_count": null,
            "_view_module": "@jupyter-widgets/base",
            "_view_module_version": "1.2.0",
            "_view_name": "StyleView",
            "description_width": ""
          }
        },
        "bfc8728407f64b05bfc8b1674a1b2db1": {
          "model_module": "@jupyter-widgets/base",
          "model_module_version": "1.2.0",
          "model_name": "LayoutModel",
          "state": {
            "_model_module": "@jupyter-widgets/base",
            "_model_module_version": "1.2.0",
            "_model_name": "LayoutModel",
            "_view_count": null,
            "_view_module": "@jupyter-widgets/base",
            "_view_module_version": "1.2.0",
            "_view_name": "LayoutView",
            "align_content": null,
            "align_items": null,
            "align_self": null,
            "border": null,
            "bottom": null,
            "display": null,
            "flex": null,
            "flex_flow": null,
            "grid_area": null,
            "grid_auto_columns": null,
            "grid_auto_flow": null,
            "grid_auto_rows": null,
            "grid_column": null,
            "grid_gap": null,
            "grid_row": null,
            "grid_template_areas": null,
            "grid_template_columns": null,
            "grid_template_rows": null,
            "height": null,
            "justify_content": null,
            "justify_items": null,
            "left": null,
            "margin": null,
            "max_height": null,
            "max_width": null,
            "min_height": null,
            "min_width": null,
            "object_fit": null,
            "object_position": null,
            "order": null,
            "overflow": null,
            "overflow_x": null,
            "overflow_y": null,
            "padding": null,
            "right": null,
            "top": null,
            "visibility": null,
            "width": null
          }
        },
        "c045d45575f045508f82252eb951863d": {
          "model_module": "@jupyter-widgets/controls",
          "model_module_version": "1.5.0",
          "model_name": "DescriptionStyleModel",
          "state": {
            "_model_module": "@jupyter-widgets/controls",
            "_model_module_version": "1.5.0",
            "_model_name": "DescriptionStyleModel",
            "_view_count": null,
            "_view_module": "@jupyter-widgets/base",
            "_view_module_version": "1.2.0",
            "_view_name": "StyleView",
            "description_width": ""
          }
        },
        "c25cc1736c8d4439b18b130822c70d10": {
          "model_module": "@jupyter-widgets/controls",
          "model_module_version": "1.5.0",
          "model_name": "HBoxModel",
          "state": {
            "_dom_classes": [],
            "_model_module": "@jupyter-widgets/controls",
            "_model_module_version": "1.5.0",
            "_model_name": "HBoxModel",
            "_view_count": null,
            "_view_module": "@jupyter-widgets/controls",
            "_view_module_version": "1.5.0",
            "_view_name": "HBoxView",
            "box_style": "",
            "children": [
              "IPY_MODEL_e44e2d128b0343a2926b95693c089477",
              "IPY_MODEL_c507a9e61e734820a9f1ea3d26413f4f",
              "IPY_MODEL_c38fa77c63994e7a80d793a1ebb977fb"
            ],
            "layout": "IPY_MODEL_3efb4ca388094c6fb597db14f4194128"
          }
        },
        "c38fa77c63994e7a80d793a1ebb977fb": {
          "model_module": "@jupyter-widgets/controls",
          "model_module_version": "1.5.0",
          "model_name": "HTMLModel",
          "state": {
            "_dom_classes": [],
            "_model_module": "@jupyter-widgets/controls",
            "_model_module_version": "1.5.0",
            "_model_name": "HTMLModel",
            "_view_count": null,
            "_view_module": "@jupyter-widgets/controls",
            "_view_module_version": "1.5.0",
            "_view_name": "HTMLView",
            "description": "",
            "description_tooltip": null,
            "layout": "IPY_MODEL_9a1d2bfc28a34bf89c0356089b3876d0",
            "placeholder": "​",
            "style": "IPY_MODEL_3e3c5ba55a2c4b7081d675d8342a6404",
            "value": " 25/25 [00:03&lt;00:00,  5.44it/s]"
          }
        },
        "c4a4a6a050044583b1058ab15a634807": {
          "model_module": "@jupyter-widgets/controls",
          "model_module_version": "1.5.0",
          "model_name": "DescriptionStyleModel",
          "state": {
            "_model_module": "@jupyter-widgets/controls",
            "_model_module_version": "1.5.0",
            "_model_name": "DescriptionStyleModel",
            "_view_count": null,
            "_view_module": "@jupyter-widgets/base",
            "_view_module_version": "1.2.0",
            "_view_name": "StyleView",
            "description_width": ""
          }
        },
        "c507a9e61e734820a9f1ea3d26413f4f": {
          "model_module": "@jupyter-widgets/controls",
          "model_module_version": "1.5.0",
          "model_name": "FloatProgressModel",
          "state": {
            "_dom_classes": [],
            "_model_module": "@jupyter-widgets/controls",
            "_model_module_version": "1.5.0",
            "_model_name": "FloatProgressModel",
            "_view_count": null,
            "_view_module": "@jupyter-widgets/controls",
            "_view_module_version": "1.5.0",
            "_view_name": "ProgressView",
            "bar_style": "",
            "description": "",
            "description_tooltip": null,
            "layout": "IPY_MODEL_44b9c9194582439097020588e2ba3aa9",
            "max": 25,
            "min": 0,
            "orientation": "horizontal",
            "style": "IPY_MODEL_f0e04fe86312493fb2f7cedcdee64d7b",
            "value": 25
          }
        },
        "c536ac9cb0c8498a867443f25356f815": {
          "model_module": "@jupyter-widgets/controls",
          "model_module_version": "1.5.0",
          "model_name": "HBoxModel",
          "state": {
            "_dom_classes": [],
            "_model_module": "@jupyter-widgets/controls",
            "_model_module_version": "1.5.0",
            "_model_name": "HBoxModel",
            "_view_count": null,
            "_view_module": "@jupyter-widgets/controls",
            "_view_module_version": "1.5.0",
            "_view_name": "HBoxView",
            "box_style": "",
            "children": [
              "IPY_MODEL_bc86e012f87e4accbda1e8532fb6c4a8",
              "IPY_MODEL_60c5f7c8184a4250b91efe5403679454",
              "IPY_MODEL_eea1ee61c91e471884fabff41a4e9089"
            ],
            "layout": "IPY_MODEL_c54f588d8b0444039276217a9b7e38da"
          }
        },
        "c54f588d8b0444039276217a9b7e38da": {
          "model_module": "@jupyter-widgets/base",
          "model_module_version": "1.2.0",
          "model_name": "LayoutModel",
          "state": {
            "_model_module": "@jupyter-widgets/base",
            "_model_module_version": "1.2.0",
            "_model_name": "LayoutModel",
            "_view_count": null,
            "_view_module": "@jupyter-widgets/base",
            "_view_module_version": "1.2.0",
            "_view_name": "LayoutView",
            "align_content": null,
            "align_items": null,
            "align_self": null,
            "border": null,
            "bottom": null,
            "display": null,
            "flex": null,
            "flex_flow": null,
            "grid_area": null,
            "grid_auto_columns": null,
            "grid_auto_flow": null,
            "grid_auto_rows": null,
            "grid_column": null,
            "grid_gap": null,
            "grid_row": null,
            "grid_template_areas": null,
            "grid_template_columns": null,
            "grid_template_rows": null,
            "height": null,
            "justify_content": null,
            "justify_items": null,
            "left": null,
            "margin": null,
            "max_height": null,
            "max_width": null,
            "min_height": null,
            "min_width": null,
            "object_fit": null,
            "object_position": null,
            "order": null,
            "overflow": null,
            "overflow_x": null,
            "overflow_y": null,
            "padding": null,
            "right": null,
            "top": null,
            "visibility": null,
            "width": null
          }
        },
        "c59277bc3b804d4fa5f495ba6ae68e87": {
          "model_module": "@jupyter-widgets/base",
          "model_module_version": "1.2.0",
          "model_name": "LayoutModel",
          "state": {
            "_model_module": "@jupyter-widgets/base",
            "_model_module_version": "1.2.0",
            "_model_name": "LayoutModel",
            "_view_count": null,
            "_view_module": "@jupyter-widgets/base",
            "_view_module_version": "1.2.0",
            "_view_name": "LayoutView",
            "align_content": null,
            "align_items": null,
            "align_self": null,
            "border": null,
            "bottom": null,
            "display": null,
            "flex": null,
            "flex_flow": null,
            "grid_area": null,
            "grid_auto_columns": null,
            "grid_auto_flow": null,
            "grid_auto_rows": null,
            "grid_column": null,
            "grid_gap": null,
            "grid_row": null,
            "grid_template_areas": null,
            "grid_template_columns": null,
            "grid_template_rows": null,
            "height": null,
            "justify_content": null,
            "justify_items": null,
            "left": null,
            "margin": null,
            "max_height": null,
            "max_width": null,
            "min_height": null,
            "min_width": null,
            "object_fit": null,
            "object_position": null,
            "order": null,
            "overflow": null,
            "overflow_x": null,
            "overflow_y": null,
            "padding": null,
            "right": null,
            "top": null,
            "visibility": null,
            "width": null
          }
        },
        "c5c1836835ed486a8431126a372cbc0f": {
          "model_module": "@jupyter-widgets/base",
          "model_module_version": "1.2.0",
          "model_name": "LayoutModel",
          "state": {
            "_model_module": "@jupyter-widgets/base",
            "_model_module_version": "1.2.0",
            "_model_name": "LayoutModel",
            "_view_count": null,
            "_view_module": "@jupyter-widgets/base",
            "_view_module_version": "1.2.0",
            "_view_name": "LayoutView",
            "align_content": null,
            "align_items": null,
            "align_self": null,
            "border": null,
            "bottom": null,
            "display": null,
            "flex": null,
            "flex_flow": null,
            "grid_area": null,
            "grid_auto_columns": null,
            "grid_auto_flow": null,
            "grid_auto_rows": null,
            "grid_column": null,
            "grid_gap": null,
            "grid_row": null,
            "grid_template_areas": null,
            "grid_template_columns": null,
            "grid_template_rows": null,
            "height": null,
            "justify_content": null,
            "justify_items": null,
            "left": null,
            "margin": null,
            "max_height": null,
            "max_width": null,
            "min_height": null,
            "min_width": null,
            "object_fit": null,
            "object_position": null,
            "order": null,
            "overflow": null,
            "overflow_x": null,
            "overflow_y": null,
            "padding": null,
            "right": null,
            "top": null,
            "visibility": null,
            "width": null
          }
        },
        "c730b775240b4593bac36347ae76260e": {
          "model_module": "@jupyter-widgets/controls",
          "model_module_version": "1.5.0",
          "model_name": "HTMLModel",
          "state": {
            "_dom_classes": [],
            "_model_module": "@jupyter-widgets/controls",
            "_model_module_version": "1.5.0",
            "_model_name": "HTMLModel",
            "_view_count": null,
            "_view_module": "@jupyter-widgets/controls",
            "_view_module_version": "1.5.0",
            "_view_name": "HTMLView",
            "description": "",
            "description_tooltip": null,
            "layout": "IPY_MODEL_b7246196441c41839afefb4e6819fb17",
            "placeholder": "​",
            "style": "IPY_MODEL_f059cfdab6104b69b2f54d45e8f849b2",
            "value": "Processing:  75%"
          }
        },
        "cd6160c31cc94715989913e78bdbdc5e": {
          "model_module": "@jupyter-widgets/controls",
          "model_module_version": "1.5.0",
          "model_name": "FloatProgressModel",
          "state": {
            "_dom_classes": [],
            "_model_module": "@jupyter-widgets/controls",
            "_model_module_version": "1.5.0",
            "_model_name": "FloatProgressModel",
            "_view_count": null,
            "_view_module": "@jupyter-widgets/controls",
            "_view_module_version": "1.5.0",
            "_view_name": "ProgressView",
            "bar_style": "danger",
            "description": "",
            "description_tooltip": null,
            "layout": "IPY_MODEL_8ca6b73f1512465b8a940d2f564e0483",
            "max": 4,
            "min": 0,
            "orientation": "horizontal",
            "style": "IPY_MODEL_d7bbe44110954867a2ea553bea49dc1a",
            "value": 3
          }
        },
        "cdab82afb21b432ca80bd645467f1461": {
          "model_module": "@jupyter-widgets/controls",
          "model_module_version": "1.5.0",
          "model_name": "HTMLModel",
          "state": {
            "_dom_classes": [],
            "_model_module": "@jupyter-widgets/controls",
            "_model_module_version": "1.5.0",
            "_model_name": "HTMLModel",
            "_view_count": null,
            "_view_module": "@jupyter-widgets/controls",
            "_view_module_version": "1.5.0",
            "_view_name": "HTMLView",
            "description": "",
            "description_tooltip": null,
            "layout": "IPY_MODEL_fb25d04a565641a98243c002f29f50ac",
            "placeholder": "​",
            "style": "IPY_MODEL_b7bf9e706de64112b958f4041592f129",
            "value": " 3/4 [00:00&lt;00:00,  6.31it/s]"
          }
        },
        "d682c3b47de34727a2ffdcf203ff8fc1": {
          "model_module": "@jupyter-widgets/base",
          "model_module_version": "1.2.0",
          "model_name": "LayoutModel",
          "state": {
            "_model_module": "@jupyter-widgets/base",
            "_model_module_version": "1.2.0",
            "_model_name": "LayoutModel",
            "_view_count": null,
            "_view_module": "@jupyter-widgets/base",
            "_view_module_version": "1.2.0",
            "_view_name": "LayoutView",
            "align_content": null,
            "align_items": null,
            "align_self": null,
            "border": null,
            "bottom": null,
            "display": null,
            "flex": null,
            "flex_flow": null,
            "grid_area": null,
            "grid_auto_columns": null,
            "grid_auto_flow": null,
            "grid_auto_rows": null,
            "grid_column": null,
            "grid_gap": null,
            "grid_row": null,
            "grid_template_areas": null,
            "grid_template_columns": null,
            "grid_template_rows": null,
            "height": null,
            "justify_content": null,
            "justify_items": null,
            "left": null,
            "margin": null,
            "max_height": null,
            "max_width": null,
            "min_height": null,
            "min_width": null,
            "object_fit": null,
            "object_position": null,
            "order": null,
            "overflow": null,
            "overflow_x": null,
            "overflow_y": null,
            "padding": null,
            "right": null,
            "top": null,
            "visibility": null,
            "width": null
          }
        },
        "d7bbe44110954867a2ea553bea49dc1a": {
          "model_module": "@jupyter-widgets/controls",
          "model_module_version": "1.5.0",
          "model_name": "ProgressStyleModel",
          "state": {
            "_model_module": "@jupyter-widgets/controls",
            "_model_module_version": "1.5.0",
            "_model_name": "ProgressStyleModel",
            "_view_count": null,
            "_view_module": "@jupyter-widgets/base",
            "_view_module_version": "1.2.0",
            "_view_name": "StyleView",
            "bar_color": null,
            "description_width": ""
          }
        },
        "d84a5f601db2415ca8384bc67477c673": {
          "model_module": "@jupyter-widgets/base",
          "model_module_version": "1.2.0",
          "model_name": "LayoutModel",
          "state": {
            "_model_module": "@jupyter-widgets/base",
            "_model_module_version": "1.2.0",
            "_model_name": "LayoutModel",
            "_view_count": null,
            "_view_module": "@jupyter-widgets/base",
            "_view_module_version": "1.2.0",
            "_view_name": "LayoutView",
            "align_content": null,
            "align_items": null,
            "align_self": null,
            "border": null,
            "bottom": null,
            "display": null,
            "flex": null,
            "flex_flow": null,
            "grid_area": null,
            "grid_auto_columns": null,
            "grid_auto_flow": null,
            "grid_auto_rows": null,
            "grid_column": null,
            "grid_gap": null,
            "grid_row": null,
            "grid_template_areas": null,
            "grid_template_columns": null,
            "grid_template_rows": null,
            "height": null,
            "justify_content": null,
            "justify_items": null,
            "left": null,
            "margin": null,
            "max_height": null,
            "max_width": null,
            "min_height": null,
            "min_width": null,
            "object_fit": null,
            "object_position": null,
            "order": null,
            "overflow": null,
            "overflow_x": null,
            "overflow_y": null,
            "padding": null,
            "right": null,
            "top": null,
            "visibility": null,
            "width": null
          }
        },
        "d8522de32042457c8137b0d3b81cecd9": {
          "model_module": "@jupyter-widgets/controls",
          "model_module_version": "1.5.0",
          "model_name": "DescriptionStyleModel",
          "state": {
            "_model_module": "@jupyter-widgets/controls",
            "_model_module_version": "1.5.0",
            "_model_name": "DescriptionStyleModel",
            "_view_count": null,
            "_view_module": "@jupyter-widgets/base",
            "_view_module_version": "1.2.0",
            "_view_name": "StyleView",
            "description_width": ""
          }
        },
        "de53fac1316b453db888546af9e1c8ee": {
          "model_module": "@jupyter-widgets/controls",
          "model_module_version": "1.5.0",
          "model_name": "HTMLModel",
          "state": {
            "_dom_classes": [],
            "_model_module": "@jupyter-widgets/controls",
            "_model_module_version": "1.5.0",
            "_model_name": "HTMLModel",
            "_view_count": null,
            "_view_module": "@jupyter-widgets/controls",
            "_view_module_version": "1.5.0",
            "_view_name": "HTMLView",
            "description": "",
            "description_tooltip": null,
            "layout": "IPY_MODEL_a32ac573e8564cc78ec3a369cb0eacd4",
            "placeholder": "​",
            "style": "IPY_MODEL_c045d45575f045508f82252eb951863d",
            "value": "Processing:  75%"
          }
        },
        "e0bba9f1c8a94f63a484019bc48205fc": {
          "model_module": "@jupyter-widgets/base",
          "model_module_version": "1.2.0",
          "model_name": "LayoutModel",
          "state": {
            "_model_module": "@jupyter-widgets/base",
            "_model_module_version": "1.2.0",
            "_model_name": "LayoutModel",
            "_view_count": null,
            "_view_module": "@jupyter-widgets/base",
            "_view_module_version": "1.2.0",
            "_view_name": "LayoutView",
            "align_content": null,
            "align_items": null,
            "align_self": null,
            "border": null,
            "bottom": null,
            "display": null,
            "flex": null,
            "flex_flow": null,
            "grid_area": null,
            "grid_auto_columns": null,
            "grid_auto_flow": null,
            "grid_auto_rows": null,
            "grid_column": null,
            "grid_gap": null,
            "grid_row": null,
            "grid_template_areas": null,
            "grid_template_columns": null,
            "grid_template_rows": null,
            "height": null,
            "justify_content": null,
            "justify_items": null,
            "left": null,
            "margin": null,
            "max_height": null,
            "max_width": null,
            "min_height": null,
            "min_width": null,
            "object_fit": null,
            "object_position": null,
            "order": null,
            "overflow": null,
            "overflow_x": null,
            "overflow_y": null,
            "padding": null,
            "right": null,
            "top": null,
            "visibility": null,
            "width": null
          }
        },
        "e44e2d128b0343a2926b95693c089477": {
          "model_module": "@jupyter-widgets/controls",
          "model_module_version": "1.5.0",
          "model_name": "HTMLModel",
          "state": {
            "_dom_classes": [],
            "_model_module": "@jupyter-widgets/controls",
            "_model_module_version": "1.5.0",
            "_model_name": "HTMLModel",
            "_view_count": null,
            "_view_module": "@jupyter-widgets/controls",
            "_view_module_version": "1.5.0",
            "_view_name": "HTMLView",
            "description": "",
            "description_tooltip": null,
            "layout": "IPY_MODEL_c59277bc3b804d4fa5f495ba6ae68e87",
            "placeholder": "​",
            "style": "IPY_MODEL_49d268023309469f8399f2d513e1129d",
            "value": "Processing: 100%"
          }
        },
        "e73c8608e08b4ec497e9b7ed0e018245": {
          "model_module": "@jupyter-widgets/controls",
          "model_module_version": "1.5.0",
          "model_name": "FloatProgressModel",
          "state": {
            "_dom_classes": [],
            "_model_module": "@jupyter-widgets/controls",
            "_model_module_version": "1.5.0",
            "_model_name": "FloatProgressModel",
            "_view_count": null,
            "_view_module": "@jupyter-widgets/controls",
            "_view_module_version": "1.5.0",
            "_view_name": "ProgressView",
            "bar_style": "danger",
            "description": "",
            "description_tooltip": null,
            "layout": "IPY_MODEL_a66125127e634ec78368b0805036052b",
            "max": 4,
            "min": 0,
            "orientation": "horizontal",
            "style": "IPY_MODEL_ada4d83bcf2742ab87d3d82ccb49d4a5",
            "value": 3
          }
        },
        "ea7c76d179c04fcfbe85905f6f18d8ef": {
          "model_module": "@jupyter-widgets/controls",
          "model_module_version": "1.5.0",
          "model_name": "DescriptionStyleModel",
          "state": {
            "_model_module": "@jupyter-widgets/controls",
            "_model_module_version": "1.5.0",
            "_model_name": "DescriptionStyleModel",
            "_view_count": null,
            "_view_module": "@jupyter-widgets/base",
            "_view_module_version": "1.2.0",
            "_view_name": "StyleView",
            "description_width": ""
          }
        },
        "ed85e049404a422aa59c45d4dc6fb2c8": {
          "model_module": "@jupyter-widgets/controls",
          "model_module_version": "1.5.0",
          "model_name": "DescriptionStyleModel",
          "state": {
            "_model_module": "@jupyter-widgets/controls",
            "_model_module_version": "1.5.0",
            "_model_name": "DescriptionStyleModel",
            "_view_count": null,
            "_view_module": "@jupyter-widgets/base",
            "_view_module_version": "1.2.0",
            "_view_name": "StyleView",
            "description_width": ""
          }
        },
        "eea1ee61c91e471884fabff41a4e9089": {
          "model_module": "@jupyter-widgets/controls",
          "model_module_version": "1.5.0",
          "model_name": "HTMLModel",
          "state": {
            "_dom_classes": [],
            "_model_module": "@jupyter-widgets/controls",
            "_model_module_version": "1.5.0",
            "_model_name": "HTMLModel",
            "_view_count": null,
            "_view_module": "@jupyter-widgets/controls",
            "_view_module_version": "1.5.0",
            "_view_name": "HTMLView",
            "description": "",
            "description_tooltip": null,
            "layout": "IPY_MODEL_b2c1b7e2f82444b3b5846a08f06f3101",
            "placeholder": "​",
            "style": "IPY_MODEL_5c0dd300afd443e08510d44df1849364",
            "value": " 3/4 [00:00&lt;00:00,  4.82it/s]"
          }
        },
        "f059cfdab6104b69b2f54d45e8f849b2": {
          "model_module": "@jupyter-widgets/controls",
          "model_module_version": "1.5.0",
          "model_name": "DescriptionStyleModel",
          "state": {
            "_model_module": "@jupyter-widgets/controls",
            "_model_module_version": "1.5.0",
            "_model_name": "DescriptionStyleModel",
            "_view_count": null,
            "_view_module": "@jupyter-widgets/base",
            "_view_module_version": "1.2.0",
            "_view_name": "StyleView",
            "description_width": ""
          }
        },
        "f0e04fe86312493fb2f7cedcdee64d7b": {
          "model_module": "@jupyter-widgets/controls",
          "model_module_version": "1.5.0",
          "model_name": "ProgressStyleModel",
          "state": {
            "_model_module": "@jupyter-widgets/controls",
            "_model_module_version": "1.5.0",
            "_model_name": "ProgressStyleModel",
            "_view_count": null,
            "_view_module": "@jupyter-widgets/base",
            "_view_module_version": "1.2.0",
            "_view_name": "StyleView",
            "bar_color": null,
            "description_width": ""
          }
        },
        "f44b29c2ae654b86bd07ac79556289ab": {
          "model_module": "@jupyter-widgets/base",
          "model_module_version": "1.2.0",
          "model_name": "LayoutModel",
          "state": {
            "_model_module": "@jupyter-widgets/base",
            "_model_module_version": "1.2.0",
            "_model_name": "LayoutModel",
            "_view_count": null,
            "_view_module": "@jupyter-widgets/base",
            "_view_module_version": "1.2.0",
            "_view_name": "LayoutView",
            "align_content": null,
            "align_items": null,
            "align_self": null,
            "border": null,
            "bottom": null,
            "display": null,
            "flex": null,
            "flex_flow": null,
            "grid_area": null,
            "grid_auto_columns": null,
            "grid_auto_flow": null,
            "grid_auto_rows": null,
            "grid_column": null,
            "grid_gap": null,
            "grid_row": null,
            "grid_template_areas": null,
            "grid_template_columns": null,
            "grid_template_rows": null,
            "height": null,
            "justify_content": null,
            "justify_items": null,
            "left": null,
            "margin": null,
            "max_height": null,
            "max_width": null,
            "min_height": null,
            "min_width": null,
            "object_fit": null,
            "object_position": null,
            "order": null,
            "overflow": null,
            "overflow_x": null,
            "overflow_y": null,
            "padding": null,
            "right": null,
            "top": null,
            "visibility": null,
            "width": null
          }
        },
        "fb25d04a565641a98243c002f29f50ac": {
          "model_module": "@jupyter-widgets/base",
          "model_module_version": "1.2.0",
          "model_name": "LayoutModel",
          "state": {
            "_model_module": "@jupyter-widgets/base",
            "_model_module_version": "1.2.0",
            "_model_name": "LayoutModel",
            "_view_count": null,
            "_view_module": "@jupyter-widgets/base",
            "_view_module_version": "1.2.0",
            "_view_name": "LayoutView",
            "align_content": null,
            "align_items": null,
            "align_self": null,
            "border": null,
            "bottom": null,
            "display": null,
            "flex": null,
            "flex_flow": null,
            "grid_area": null,
            "grid_auto_columns": null,
            "grid_auto_flow": null,
            "grid_auto_rows": null,
            "grid_column": null,
            "grid_gap": null,
            "grid_row": null,
            "grid_template_areas": null,
            "grid_template_columns": null,
            "grid_template_rows": null,
            "height": null,
            "justify_content": null,
            "justify_items": null,
            "left": null,
            "margin": null,
            "max_height": null,
            "max_width": null,
            "min_height": null,
            "min_width": null,
            "object_fit": null,
            "object_position": null,
            "order": null,
            "overflow": null,
            "overflow_x": null,
            "overflow_y": null,
            "padding": null,
            "right": null,
            "top": null,
            "visibility": null,
            "width": null
          }
        },
        "fdbf5e598278415cb8fee4d28fc165f0": {
          "model_module": "@jupyter-widgets/controls",
          "model_module_version": "1.5.0",
          "model_name": "ProgressStyleModel",
          "state": {
            "_model_module": "@jupyter-widgets/controls",
            "_model_module_version": "1.5.0",
            "_model_name": "ProgressStyleModel",
            "_view_count": null,
            "_view_module": "@jupyter-widgets/base",
            "_view_module_version": "1.2.0",
            "_view_name": "StyleView",
            "bar_color": null,
            "description_width": ""
          }
        }
      }
    }
  },
  "nbformat": 4,
  "nbformat_minor": 0
}
