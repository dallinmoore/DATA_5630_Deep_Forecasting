{
  "nbformat": 4,
  "nbformat_minor": 0,
  "metadata": {
    "colab": {
      "provenance": [],
      "include_colab_link": true
    },
    "kernelspec": {
      "name": "python3",
      "display_name": "Python 3"
    },
    "language_info": {
      "name": "python"
    },
    "widgets": {
      "application/vnd.jupyter.widget-state+json": {
        "de7a923ebaf04c2bac73891c5042e8e0": {
          "model_module": "@jupyter-widgets/controls",
          "model_name": "HBoxModel",
          "model_module_version": "1.5.0",
          "state": {
            "_dom_classes": [],
            "_model_module": "@jupyter-widgets/controls",
            "_model_module_version": "1.5.0",
            "_model_name": "HBoxModel",
            "_view_count": null,
            "_view_module": "@jupyter-widgets/controls",
            "_view_module_version": "1.5.0",
            "_view_name": "HBoxView",
            "box_style": "",
            "children": [
              "IPY_MODEL_fd60727bea41492ca67d89da17a89b6d",
              "IPY_MODEL_7d4212aa1b0b41dea1a93a2453d95d92",
              "IPY_MODEL_c87073c030f7480a94e52a346ac449f5"
            ],
            "layout": "IPY_MODEL_a94ae21aa4cd459a92b031854553068e"
          }
        },
        "fd60727bea41492ca67d89da17a89b6d": {
          "model_module": "@jupyter-widgets/controls",
          "model_name": "HTMLModel",
          "model_module_version": "1.5.0",
          "state": {
            "_dom_classes": [],
            "_model_module": "@jupyter-widgets/controls",
            "_model_module_version": "1.5.0",
            "_model_name": "HTMLModel",
            "_view_count": null,
            "_view_module": "@jupyter-widgets/controls",
            "_view_module_version": "1.5.0",
            "_view_name": "HTMLView",
            "description": "",
            "description_tooltip": null,
            "layout": "IPY_MODEL_ffaf3867b247423a925822f25a22841a",
            "placeholder": "​",
            "style": "IPY_MODEL_e1f2b40c39fb44e2a91c2ee6d80571a3",
            "value": "Processing:  75%"
          }
        },
        "7d4212aa1b0b41dea1a93a2453d95d92": {
          "model_module": "@jupyter-widgets/controls",
          "model_name": "FloatProgressModel",
          "model_module_version": "1.5.0",
          "state": {
            "_dom_classes": [],
            "_model_module": "@jupyter-widgets/controls",
            "_model_module_version": "1.5.0",
            "_model_name": "FloatProgressModel",
            "_view_count": null,
            "_view_module": "@jupyter-widgets/controls",
            "_view_module_version": "1.5.0",
            "_view_name": "ProgressView",
            "bar_style": "danger",
            "description": "",
            "description_tooltip": null,
            "layout": "IPY_MODEL_fd92529ac6684cfa947872e1c0327063",
            "max": 4,
            "min": 0,
            "orientation": "horizontal",
            "style": "IPY_MODEL_ed60d82a530148ccb1df3bf0216c2f19",
            "value": 3
          }
        },
        "c87073c030f7480a94e52a346ac449f5": {
          "model_module": "@jupyter-widgets/controls",
          "model_name": "HTMLModel",
          "model_module_version": "1.5.0",
          "state": {
            "_dom_classes": [],
            "_model_module": "@jupyter-widgets/controls",
            "_model_module_version": "1.5.0",
            "_model_name": "HTMLModel",
            "_view_count": null,
            "_view_module": "@jupyter-widgets/controls",
            "_view_module_version": "1.5.0",
            "_view_name": "HTMLView",
            "description": "",
            "description_tooltip": null,
            "layout": "IPY_MODEL_5765593985f0488fb5123ba1a14b6db4",
            "placeholder": "​",
            "style": "IPY_MODEL_1b15be741c0543a4bc1ac1e7843616a0",
            "value": " 3/4 [00:27&lt;00:08,  8.87s/it]"
          }
        },
        "a94ae21aa4cd459a92b031854553068e": {
          "model_module": "@jupyter-widgets/base",
          "model_name": "LayoutModel",
          "model_module_version": "1.2.0",
          "state": {
            "_model_module": "@jupyter-widgets/base",
            "_model_module_version": "1.2.0",
            "_model_name": "LayoutModel",
            "_view_count": null,
            "_view_module": "@jupyter-widgets/base",
            "_view_module_version": "1.2.0",
            "_view_name": "LayoutView",
            "align_content": null,
            "align_items": null,
            "align_self": null,
            "border": null,
            "bottom": null,
            "display": null,
            "flex": null,
            "flex_flow": null,
            "grid_area": null,
            "grid_auto_columns": null,
            "grid_auto_flow": null,
            "grid_auto_rows": null,
            "grid_column": null,
            "grid_gap": null,
            "grid_row": null,
            "grid_template_areas": null,
            "grid_template_columns": null,
            "grid_template_rows": null,
            "height": null,
            "justify_content": null,
            "justify_items": null,
            "left": null,
            "margin": null,
            "max_height": null,
            "max_width": null,
            "min_height": null,
            "min_width": null,
            "object_fit": null,
            "object_position": null,
            "order": null,
            "overflow": null,
            "overflow_x": null,
            "overflow_y": null,
            "padding": null,
            "right": null,
            "top": null,
            "visibility": null,
            "width": null
          }
        },
        "ffaf3867b247423a925822f25a22841a": {
          "model_module": "@jupyter-widgets/base",
          "model_name": "LayoutModel",
          "model_module_version": "1.2.0",
          "state": {
            "_model_module": "@jupyter-widgets/base",
            "_model_module_version": "1.2.0",
            "_model_name": "LayoutModel",
            "_view_count": null,
            "_view_module": "@jupyter-widgets/base",
            "_view_module_version": "1.2.0",
            "_view_name": "LayoutView",
            "align_content": null,
            "align_items": null,
            "align_self": null,
            "border": null,
            "bottom": null,
            "display": null,
            "flex": null,
            "flex_flow": null,
            "grid_area": null,
            "grid_auto_columns": null,
            "grid_auto_flow": null,
            "grid_auto_rows": null,
            "grid_column": null,
            "grid_gap": null,
            "grid_row": null,
            "grid_template_areas": null,
            "grid_template_columns": null,
            "grid_template_rows": null,
            "height": null,
            "justify_content": null,
            "justify_items": null,
            "left": null,
            "margin": null,
            "max_height": null,
            "max_width": null,
            "min_height": null,
            "min_width": null,
            "object_fit": null,
            "object_position": null,
            "order": null,
            "overflow": null,
            "overflow_x": null,
            "overflow_y": null,
            "padding": null,
            "right": null,
            "top": null,
            "visibility": null,
            "width": null
          }
        },
        "e1f2b40c39fb44e2a91c2ee6d80571a3": {
          "model_module": "@jupyter-widgets/controls",
          "model_name": "DescriptionStyleModel",
          "model_module_version": "1.5.0",
          "state": {
            "_model_module": "@jupyter-widgets/controls",
            "_model_module_version": "1.5.0",
            "_model_name": "DescriptionStyleModel",
            "_view_count": null,
            "_view_module": "@jupyter-widgets/base",
            "_view_module_version": "1.2.0",
            "_view_name": "StyleView",
            "description_width": ""
          }
        },
        "fd92529ac6684cfa947872e1c0327063": {
          "model_module": "@jupyter-widgets/base",
          "model_name": "LayoutModel",
          "model_module_version": "1.2.0",
          "state": {
            "_model_module": "@jupyter-widgets/base",
            "_model_module_version": "1.2.0",
            "_model_name": "LayoutModel",
            "_view_count": null,
            "_view_module": "@jupyter-widgets/base",
            "_view_module_version": "1.2.0",
            "_view_name": "LayoutView",
            "align_content": null,
            "align_items": null,
            "align_self": null,
            "border": null,
            "bottom": null,
            "display": null,
            "flex": null,
            "flex_flow": null,
            "grid_area": null,
            "grid_auto_columns": null,
            "grid_auto_flow": null,
            "grid_auto_rows": null,
            "grid_column": null,
            "grid_gap": null,
            "grid_row": null,
            "grid_template_areas": null,
            "grid_template_columns": null,
            "grid_template_rows": null,
            "height": null,
            "justify_content": null,
            "justify_items": null,
            "left": null,
            "margin": null,
            "max_height": null,
            "max_width": null,
            "min_height": null,
            "min_width": null,
            "object_fit": null,
            "object_position": null,
            "order": null,
            "overflow": null,
            "overflow_x": null,
            "overflow_y": null,
            "padding": null,
            "right": null,
            "top": null,
            "visibility": null,
            "width": null
          }
        },
        "ed60d82a530148ccb1df3bf0216c2f19": {
          "model_module": "@jupyter-widgets/controls",
          "model_name": "ProgressStyleModel",
          "model_module_version": "1.5.0",
          "state": {
            "_model_module": "@jupyter-widgets/controls",
            "_model_module_version": "1.5.0",
            "_model_name": "ProgressStyleModel",
            "_view_count": null,
            "_view_module": "@jupyter-widgets/base",
            "_view_module_version": "1.2.0",
            "_view_name": "StyleView",
            "bar_color": null,
            "description_width": ""
          }
        },
        "5765593985f0488fb5123ba1a14b6db4": {
          "model_module": "@jupyter-widgets/base",
          "model_name": "LayoutModel",
          "model_module_version": "1.2.0",
          "state": {
            "_model_module": "@jupyter-widgets/base",
            "_model_module_version": "1.2.0",
            "_model_name": "LayoutModel",
            "_view_count": null,
            "_view_module": "@jupyter-widgets/base",
            "_view_module_version": "1.2.0",
            "_view_name": "LayoutView",
            "align_content": null,
            "align_items": null,
            "align_self": null,
            "border": null,
            "bottom": null,
            "display": null,
            "flex": null,
            "flex_flow": null,
            "grid_area": null,
            "grid_auto_columns": null,
            "grid_auto_flow": null,
            "grid_auto_rows": null,
            "grid_column": null,
            "grid_gap": null,
            "grid_row": null,
            "grid_template_areas": null,
            "grid_template_columns": null,
            "grid_template_rows": null,
            "height": null,
            "justify_content": null,
            "justify_items": null,
            "left": null,
            "margin": null,
            "max_height": null,
            "max_width": null,
            "min_height": null,
            "min_width": null,
            "object_fit": null,
            "object_position": null,
            "order": null,
            "overflow": null,
            "overflow_x": null,
            "overflow_y": null,
            "padding": null,
            "right": null,
            "top": null,
            "visibility": null,
            "width": null
          }
        },
        "1b15be741c0543a4bc1ac1e7843616a0": {
          "model_module": "@jupyter-widgets/controls",
          "model_name": "DescriptionStyleModel",
          "model_module_version": "1.5.0",
          "state": {
            "_model_module": "@jupyter-widgets/controls",
            "_model_module_version": "1.5.0",
            "_model_name": "DescriptionStyleModel",
            "_view_count": null,
            "_view_module": "@jupyter-widgets/base",
            "_view_module_version": "1.2.0",
            "_view_name": "StyleView",
            "description_width": ""
          }
        },
        "c058d3961c9a4e8aad740a7170eb2387": {
          "model_module": "@jupyter-widgets/base",
          "model_name": "LayoutModel",
          "model_module_version": "1.2.0",
          "state": {
            "_model_module": "@jupyter-widgets/base",
            "_model_module_version": "1.2.0",
            "_model_name": "LayoutModel",
            "_view_count": null,
            "_view_module": "@jupyter-widgets/base",
            "_view_module_version": "1.2.0",
            "_view_name": "LayoutView",
            "align_content": null,
            "align_items": null,
            "align_self": null,
            "border": null,
            "bottom": null,
            "display": null,
            "flex": null,
            "flex_flow": null,
            "grid_area": null,
            "grid_auto_columns": null,
            "grid_auto_flow": null,
            "grid_auto_rows": null,
            "grid_column": null,
            "grid_gap": null,
            "grid_row": null,
            "grid_template_areas": null,
            "grid_template_columns": null,
            "grid_template_rows": null,
            "height": null,
            "justify_content": null,
            "justify_items": null,
            "left": null,
            "margin": null,
            "max_height": null,
            "max_width": null,
            "min_height": null,
            "min_width": null,
            "object_fit": null,
            "object_position": null,
            "order": null,
            "overflow": null,
            "overflow_x": null,
            "overflow_y": null,
            "padding": null,
            "right": null,
            "top": null,
            "visibility": null,
            "width": null
          }
        },
        "6a8587ba351f441d8c72890f497a359c": {
          "model_module": "@jupyter-widgets/controls",
          "model_name": "ProgressStyleModel",
          "model_module_version": "1.5.0",
          "state": {
            "_model_module": "@jupyter-widgets/controls",
            "_model_module_version": "1.5.0",
            "_model_name": "ProgressStyleModel",
            "_view_count": null,
            "_view_module": "@jupyter-widgets/base",
            "_view_module_version": "1.2.0",
            "_view_name": "StyleView",
            "bar_color": null,
            "description_width": ""
          }
        },
        "4c04a50d3bea4a3aa393dc8d4316e0aa": {
          "model_module": "@jupyter-widgets/base",
          "model_name": "LayoutModel",
          "model_module_version": "1.2.0",
          "state": {
            "_model_module": "@jupyter-widgets/base",
            "_model_module_version": "1.2.0",
            "_model_name": "LayoutModel",
            "_view_count": null,
            "_view_module": "@jupyter-widgets/base",
            "_view_module_version": "1.2.0",
            "_view_name": "LayoutView",
            "align_content": null,
            "align_items": null,
            "align_self": null,
            "border": null,
            "bottom": null,
            "display": null,
            "flex": null,
            "flex_flow": null,
            "grid_area": null,
            "grid_auto_columns": null,
            "grid_auto_flow": null,
            "grid_auto_rows": null,
            "grid_column": null,
            "grid_gap": null,
            "grid_row": null,
            "grid_template_areas": null,
            "grid_template_columns": null,
            "grid_template_rows": null,
            "height": null,
            "justify_content": null,
            "justify_items": null,
            "left": null,
            "margin": null,
            "max_height": null,
            "max_width": null,
            "min_height": null,
            "min_width": null,
            "object_fit": null,
            "object_position": null,
            "order": null,
            "overflow": null,
            "overflow_x": null,
            "overflow_y": null,
            "padding": null,
            "right": null,
            "top": null,
            "visibility": null,
            "width": null
          }
        },
        "d7c12ab7ae0a433580d967f2f166388d": {
          "model_module": "@jupyter-widgets/controls",
          "model_name": "DescriptionStyleModel",
          "model_module_version": "1.5.0",
          "state": {
            "_model_module": "@jupyter-widgets/controls",
            "_model_module_version": "1.5.0",
            "_model_name": "DescriptionStyleModel",
            "_view_count": null,
            "_view_module": "@jupyter-widgets/base",
            "_view_module_version": "1.2.0",
            "_view_name": "StyleView",
            "description_width": ""
          }
        },
        "272c31a5dbfb43869747b0203a7c5858": {
          "model_module": "@jupyter-widgets/base",
          "model_name": "LayoutModel",
          "model_module_version": "1.2.0",
          "state": {
            "_model_module": "@jupyter-widgets/base",
            "_model_module_version": "1.2.0",
            "_model_name": "LayoutModel",
            "_view_count": null,
            "_view_module": "@jupyter-widgets/base",
            "_view_module_version": "1.2.0",
            "_view_name": "LayoutView",
            "align_content": null,
            "align_items": null,
            "align_self": null,
            "border": null,
            "bottom": null,
            "display": null,
            "flex": null,
            "flex_flow": null,
            "grid_area": null,
            "grid_auto_columns": null,
            "grid_auto_flow": null,
            "grid_auto_rows": null,
            "grid_column": null,
            "grid_gap": null,
            "grid_row": null,
            "grid_template_areas": null,
            "grid_template_columns": null,
            "grid_template_rows": null,
            "height": null,
            "justify_content": null,
            "justify_items": null,
            "left": null,
            "margin": null,
            "max_height": null,
            "max_width": null,
            "min_height": null,
            "min_width": null,
            "object_fit": null,
            "object_position": null,
            "order": null,
            "overflow": null,
            "overflow_x": null,
            "overflow_y": null,
            "padding": null,
            "right": null,
            "top": null,
            "visibility": null,
            "width": null
          }
        },
        "3da808fe3b144eecb0528eaf47cc1d98": {
          "model_module": "@jupyter-widgets/controls",
          "model_name": "DescriptionStyleModel",
          "model_module_version": "1.5.0",
          "state": {
            "_model_module": "@jupyter-widgets/controls",
            "_model_module_version": "1.5.0",
            "_model_name": "DescriptionStyleModel",
            "_view_count": null,
            "_view_module": "@jupyter-widgets/base",
            "_view_module_version": "1.2.0",
            "_view_name": "StyleView",
            "description_width": ""
          }
        },
        "c1014a1fe2ec4c118ef382c40322b0ad": {
          "model_module": "@jupyter-widgets/controls",
          "model_name": "HTMLModel",
          "model_module_version": "1.5.0",
          "state": {
            "_dom_classes": [],
            "_model_module": "@jupyter-widgets/controls",
            "_model_module_version": "1.5.0",
            "_model_name": "HTMLModel",
            "_view_count": null,
            "_view_module": "@jupyter-widgets/controls",
            "_view_module_version": "1.5.0",
            "_view_name": "HTMLView",
            "description": "",
            "description_tooltip": null,
            "layout": "IPY_MODEL_4c04a50d3bea4a3aa393dc8d4316e0aa",
            "placeholder": "​",
            "style": "IPY_MODEL_d7c12ab7ae0a433580d967f2f166388d",
            "value": "Processing:  75%"
          }
        },
        "4b0edefa90674471aa0d3c93b8acc65e": {
          "model_module": "@jupyter-widgets/controls",
          "model_name": "FloatProgressModel",
          "model_module_version": "1.5.0",
          "state": {
            "_dom_classes": [],
            "_model_module": "@jupyter-widgets/controls",
            "_model_module_version": "1.5.0",
            "_model_name": "FloatProgressModel",
            "_view_count": null,
            "_view_module": "@jupyter-widgets/controls",
            "_view_module_version": "1.5.0",
            "_view_name": "ProgressView",
            "bar_style": "danger",
            "description": "",
            "description_tooltip": null,
            "layout": "IPY_MODEL_c058d3961c9a4e8aad740a7170eb2387",
            "max": 4,
            "min": 0,
            "orientation": "horizontal",
            "style": "IPY_MODEL_6a8587ba351f441d8c72890f497a359c",
            "value": 3
          }
        },
        "d36740aaccdb4319a1ffac919f0334af": {
          "model_module": "@jupyter-widgets/controls",
          "model_name": "HTMLModel",
          "model_module_version": "1.5.0",
          "state": {
            "_dom_classes": [],
            "_model_module": "@jupyter-widgets/controls",
            "_model_module_version": "1.5.0",
            "_model_name": "HTMLModel",
            "_view_count": null,
            "_view_module": "@jupyter-widgets/controls",
            "_view_module_version": "1.5.0",
            "_view_name": "HTMLView",
            "description": "",
            "description_tooltip": null,
            "layout": "IPY_MODEL_272c31a5dbfb43869747b0203a7c5858",
            "placeholder": "​",
            "style": "IPY_MODEL_3da808fe3b144eecb0528eaf47cc1d98",
            "value": " 3/4 [00:00&lt;00:00,  6.96it/s]"
          }
        },
        "ba5969b73482467fba15ab03c13929e7": {
          "model_module": "@jupyter-widgets/base",
          "model_name": "LayoutModel",
          "model_module_version": "1.2.0",
          "state": {
            "_model_module": "@jupyter-widgets/base",
            "_model_module_version": "1.2.0",
            "_model_name": "LayoutModel",
            "_view_count": null,
            "_view_module": "@jupyter-widgets/base",
            "_view_module_version": "1.2.0",
            "_view_name": "LayoutView",
            "align_content": null,
            "align_items": null,
            "align_self": null,
            "border": null,
            "bottom": null,
            "display": null,
            "flex": null,
            "flex_flow": null,
            "grid_area": null,
            "grid_auto_columns": null,
            "grid_auto_flow": null,
            "grid_auto_rows": null,
            "grid_column": null,
            "grid_gap": null,
            "grid_row": null,
            "grid_template_areas": null,
            "grid_template_columns": null,
            "grid_template_rows": null,
            "height": null,
            "justify_content": null,
            "justify_items": null,
            "left": null,
            "margin": null,
            "max_height": null,
            "max_width": null,
            "min_height": null,
            "min_width": null,
            "object_fit": null,
            "object_position": null,
            "order": null,
            "overflow": null,
            "overflow_x": null,
            "overflow_y": null,
            "padding": null,
            "right": null,
            "top": null,
            "visibility": null,
            "width": null
          }
        },
        "0308d7ad0d4a43f291e274af15eb3f38": {
          "model_module": "@jupyter-widgets/controls",
          "model_name": "HBoxModel",
          "model_module_version": "1.5.0",
          "state": {
            "_dom_classes": [],
            "_model_module": "@jupyter-widgets/controls",
            "_model_module_version": "1.5.0",
            "_model_name": "HBoxModel",
            "_view_count": null,
            "_view_module": "@jupyter-widgets/controls",
            "_view_module_version": "1.5.0",
            "_view_name": "HBoxView",
            "box_style": "",
            "children": [
              "IPY_MODEL_c1014a1fe2ec4c118ef382c40322b0ad",
              "IPY_MODEL_4b0edefa90674471aa0d3c93b8acc65e",
              "IPY_MODEL_d36740aaccdb4319a1ffac919f0334af"
            ],
            "layout": "IPY_MODEL_ba5969b73482467fba15ab03c13929e7"
          }
        },
        "b0e5510a451a4d4d8f0aa8957064eb02": {
          "model_module": "@jupyter-widgets/controls",
          "model_name": "HBoxModel",
          "model_module_version": "1.5.0",
          "state": {
            "_dom_classes": [],
            "_model_module": "@jupyter-widgets/controls",
            "_model_module_version": "1.5.0",
            "_model_name": "HBoxModel",
            "_view_count": null,
            "_view_module": "@jupyter-widgets/controls",
            "_view_module_version": "1.5.0",
            "_view_name": "HBoxView",
            "box_style": "",
            "children": [
              "IPY_MODEL_8a279112d2e04e15a34df7442afd9b2b",
              "IPY_MODEL_1c12d0f363e94cd380620f51766723ad",
              "IPY_MODEL_a3c6c66fbcbe4d2f9499fbe5ce37b3b6"
            ],
            "layout": "IPY_MODEL_65bc7388fb89421c9c53f6793dde545e"
          }
        },
        "8a279112d2e04e15a34df7442afd9b2b": {
          "model_module": "@jupyter-widgets/controls",
          "model_name": "HTMLModel",
          "model_module_version": "1.5.0",
          "state": {
            "_dom_classes": [],
            "_model_module": "@jupyter-widgets/controls",
            "_model_module_version": "1.5.0",
            "_model_name": "HTMLModel",
            "_view_count": null,
            "_view_module": "@jupyter-widgets/controls",
            "_view_module_version": "1.5.0",
            "_view_name": "HTMLView",
            "description": "",
            "description_tooltip": null,
            "layout": "IPY_MODEL_4f81827cad124fd3932c546ac2d4cc9b",
            "placeholder": "​",
            "style": "IPY_MODEL_01403f855b2b40b8ad6fd7b9d2d31a10",
            "value": "Processing: 100%"
          }
        },
        "1c12d0f363e94cd380620f51766723ad": {
          "model_module": "@jupyter-widgets/controls",
          "model_name": "FloatProgressModel",
          "model_module_version": "1.5.0",
          "state": {
            "_dom_classes": [],
            "_model_module": "@jupyter-widgets/controls",
            "_model_module_version": "1.5.0",
            "_model_name": "FloatProgressModel",
            "_view_count": null,
            "_view_module": "@jupyter-widgets/controls",
            "_view_module_version": "1.5.0",
            "_view_name": "ProgressView",
            "bar_style": "",
            "description": "",
            "description_tooltip": null,
            "layout": "IPY_MODEL_3613c635476243fdb800cf5bd7148d68",
            "max": 17,
            "min": 0,
            "orientation": "horizontal",
            "style": "IPY_MODEL_ddd33e89e5624a42800fcb9167a25828",
            "value": 17
          }
        },
        "a3c6c66fbcbe4d2f9499fbe5ce37b3b6": {
          "model_module": "@jupyter-widgets/controls",
          "model_name": "HTMLModel",
          "model_module_version": "1.5.0",
          "state": {
            "_dom_classes": [],
            "_model_module": "@jupyter-widgets/controls",
            "_model_module_version": "1.5.0",
            "_model_name": "HTMLModel",
            "_view_count": null,
            "_view_module": "@jupyter-widgets/controls",
            "_view_module_version": "1.5.0",
            "_view_name": "HTMLView",
            "description": "",
            "description_tooltip": null,
            "layout": "IPY_MODEL_d9ff9e2d9c0c4c2a9974a1248cd5a2fd",
            "placeholder": "​",
            "style": "IPY_MODEL_92592e0504d04a5eb06430b47f609620",
            "value": " 17/17 [00:59&lt;00:00,  5.95s/it]"
          }
        },
        "65bc7388fb89421c9c53f6793dde545e": {
          "model_module": "@jupyter-widgets/base",
          "model_name": "LayoutModel",
          "model_module_version": "1.2.0",
          "state": {
            "_model_module": "@jupyter-widgets/base",
            "_model_module_version": "1.2.0",
            "_model_name": "LayoutModel",
            "_view_count": null,
            "_view_module": "@jupyter-widgets/base",
            "_view_module_version": "1.2.0",
            "_view_name": "LayoutView",
            "align_content": null,
            "align_items": null,
            "align_self": null,
            "border": null,
            "bottom": null,
            "display": null,
            "flex": null,
            "flex_flow": null,
            "grid_area": null,
            "grid_auto_columns": null,
            "grid_auto_flow": null,
            "grid_auto_rows": null,
            "grid_column": null,
            "grid_gap": null,
            "grid_row": null,
            "grid_template_areas": null,
            "grid_template_columns": null,
            "grid_template_rows": null,
            "height": null,
            "justify_content": null,
            "justify_items": null,
            "left": null,
            "margin": null,
            "max_height": null,
            "max_width": null,
            "min_height": null,
            "min_width": null,
            "object_fit": null,
            "object_position": null,
            "order": null,
            "overflow": null,
            "overflow_x": null,
            "overflow_y": null,
            "padding": null,
            "right": null,
            "top": null,
            "visibility": "hidden",
            "width": null
          }
        },
        "4f81827cad124fd3932c546ac2d4cc9b": {
          "model_module": "@jupyter-widgets/base",
          "model_name": "LayoutModel",
          "model_module_version": "1.2.0",
          "state": {
            "_model_module": "@jupyter-widgets/base",
            "_model_module_version": "1.2.0",
            "_model_name": "LayoutModel",
            "_view_count": null,
            "_view_module": "@jupyter-widgets/base",
            "_view_module_version": "1.2.0",
            "_view_name": "LayoutView",
            "align_content": null,
            "align_items": null,
            "align_self": null,
            "border": null,
            "bottom": null,
            "display": null,
            "flex": null,
            "flex_flow": null,
            "grid_area": null,
            "grid_auto_columns": null,
            "grid_auto_flow": null,
            "grid_auto_rows": null,
            "grid_column": null,
            "grid_gap": null,
            "grid_row": null,
            "grid_template_areas": null,
            "grid_template_columns": null,
            "grid_template_rows": null,
            "height": null,
            "justify_content": null,
            "justify_items": null,
            "left": null,
            "margin": null,
            "max_height": null,
            "max_width": null,
            "min_height": null,
            "min_width": null,
            "object_fit": null,
            "object_position": null,
            "order": null,
            "overflow": null,
            "overflow_x": null,
            "overflow_y": null,
            "padding": null,
            "right": null,
            "top": null,
            "visibility": null,
            "width": null
          }
        },
        "01403f855b2b40b8ad6fd7b9d2d31a10": {
          "model_module": "@jupyter-widgets/controls",
          "model_name": "DescriptionStyleModel",
          "model_module_version": "1.5.0",
          "state": {
            "_model_module": "@jupyter-widgets/controls",
            "_model_module_version": "1.5.0",
            "_model_name": "DescriptionStyleModel",
            "_view_count": null,
            "_view_module": "@jupyter-widgets/base",
            "_view_module_version": "1.2.0",
            "_view_name": "StyleView",
            "description_width": ""
          }
        },
        "3613c635476243fdb800cf5bd7148d68": {
          "model_module": "@jupyter-widgets/base",
          "model_name": "LayoutModel",
          "model_module_version": "1.2.0",
          "state": {
            "_model_module": "@jupyter-widgets/base",
            "_model_module_version": "1.2.0",
            "_model_name": "LayoutModel",
            "_view_count": null,
            "_view_module": "@jupyter-widgets/base",
            "_view_module_version": "1.2.0",
            "_view_name": "LayoutView",
            "align_content": null,
            "align_items": null,
            "align_self": null,
            "border": null,
            "bottom": null,
            "display": null,
            "flex": null,
            "flex_flow": null,
            "grid_area": null,
            "grid_auto_columns": null,
            "grid_auto_flow": null,
            "grid_auto_rows": null,
            "grid_column": null,
            "grid_gap": null,
            "grid_row": null,
            "grid_template_areas": null,
            "grid_template_columns": null,
            "grid_template_rows": null,
            "height": null,
            "justify_content": null,
            "justify_items": null,
            "left": null,
            "margin": null,
            "max_height": null,
            "max_width": null,
            "min_height": null,
            "min_width": null,
            "object_fit": null,
            "object_position": null,
            "order": null,
            "overflow": null,
            "overflow_x": null,
            "overflow_y": null,
            "padding": null,
            "right": null,
            "top": null,
            "visibility": null,
            "width": null
          }
        },
        "ddd33e89e5624a42800fcb9167a25828": {
          "model_module": "@jupyter-widgets/controls",
          "model_name": "ProgressStyleModel",
          "model_module_version": "1.5.0",
          "state": {
            "_model_module": "@jupyter-widgets/controls",
            "_model_module_version": "1.5.0",
            "_model_name": "ProgressStyleModel",
            "_view_count": null,
            "_view_module": "@jupyter-widgets/base",
            "_view_module_version": "1.2.0",
            "_view_name": "StyleView",
            "bar_color": null,
            "description_width": ""
          }
        },
        "d9ff9e2d9c0c4c2a9974a1248cd5a2fd": {
          "model_module": "@jupyter-widgets/base",
          "model_name": "LayoutModel",
          "model_module_version": "1.2.0",
          "state": {
            "_model_module": "@jupyter-widgets/base",
            "_model_module_version": "1.2.0",
            "_model_name": "LayoutModel",
            "_view_count": null,
            "_view_module": "@jupyter-widgets/base",
            "_view_module_version": "1.2.0",
            "_view_name": "LayoutView",
            "align_content": null,
            "align_items": null,
            "align_self": null,
            "border": null,
            "bottom": null,
            "display": null,
            "flex": null,
            "flex_flow": null,
            "grid_area": null,
            "grid_auto_columns": null,
            "grid_auto_flow": null,
            "grid_auto_rows": null,
            "grid_column": null,
            "grid_gap": null,
            "grid_row": null,
            "grid_template_areas": null,
            "grid_template_columns": null,
            "grid_template_rows": null,
            "height": null,
            "justify_content": null,
            "justify_items": null,
            "left": null,
            "margin": null,
            "max_height": null,
            "max_width": null,
            "min_height": null,
            "min_width": null,
            "object_fit": null,
            "object_position": null,
            "order": null,
            "overflow": null,
            "overflow_x": null,
            "overflow_y": null,
            "padding": null,
            "right": null,
            "top": null,
            "visibility": null,
            "width": null
          }
        },
        "92592e0504d04a5eb06430b47f609620": {
          "model_module": "@jupyter-widgets/controls",
          "model_name": "DescriptionStyleModel",
          "model_module_version": "1.5.0",
          "state": {
            "_model_module": "@jupyter-widgets/controls",
            "_model_module_version": "1.5.0",
            "_model_name": "DescriptionStyleModel",
            "_view_count": null,
            "_view_module": "@jupyter-widgets/base",
            "_view_module_version": "1.2.0",
            "_view_name": "StyleView",
            "description_width": ""
          }
        },
        "132ed248d6984029a5b8a2dfdb668724": {
          "model_module": "@jupyter-widgets/controls",
          "model_name": "HBoxModel",
          "model_module_version": "1.5.0",
          "state": {
            "_dom_classes": [],
            "_model_module": "@jupyter-widgets/controls",
            "_model_module_version": "1.5.0",
            "_model_name": "HBoxModel",
            "_view_count": null,
            "_view_module": "@jupyter-widgets/controls",
            "_view_module_version": "1.5.0",
            "_view_name": "HBoxView",
            "box_style": "",
            "children": [
              "IPY_MODEL_59e2d5e9e28b4d208c673ea851897a66",
              "IPY_MODEL_ed5d4bca918a4bc19e406f1995bfafcb",
              "IPY_MODEL_d3b0ecb4f8014a2888f50e007873fd87"
            ],
            "layout": "IPY_MODEL_7df56f0c369d476798a2651c893cd530"
          }
        },
        "59e2d5e9e28b4d208c673ea851897a66": {
          "model_module": "@jupyter-widgets/controls",
          "model_name": "HTMLModel",
          "model_module_version": "1.5.0",
          "state": {
            "_dom_classes": [],
            "_model_module": "@jupyter-widgets/controls",
            "_model_module_version": "1.5.0",
            "_model_name": "HTMLModel",
            "_view_count": null,
            "_view_module": "@jupyter-widgets/controls",
            "_view_module_version": "1.5.0",
            "_view_name": "HTMLView",
            "description": "",
            "description_tooltip": null,
            "layout": "IPY_MODEL_2d4bf5c371804ebb8268a343ca8cd172",
            "placeholder": "​",
            "style": "IPY_MODEL_76c63bc58b5543b0809441259d24693f",
            "value": "Processing:  75%"
          }
        },
        "ed5d4bca918a4bc19e406f1995bfafcb": {
          "model_module": "@jupyter-widgets/controls",
          "model_name": "FloatProgressModel",
          "model_module_version": "1.5.0",
          "state": {
            "_dom_classes": [],
            "_model_module": "@jupyter-widgets/controls",
            "_model_module_version": "1.5.0",
            "_model_name": "FloatProgressModel",
            "_view_count": null,
            "_view_module": "@jupyter-widgets/controls",
            "_view_module_version": "1.5.0",
            "_view_name": "ProgressView",
            "bar_style": "danger",
            "description": "",
            "description_tooltip": null,
            "layout": "IPY_MODEL_bf9e17691652432cae25b0a3cbf13f10",
            "max": 4,
            "min": 0,
            "orientation": "horizontal",
            "style": "IPY_MODEL_1cffe38fa52f4af8b1f11a947cfe78f4",
            "value": 3
          }
        },
        "d3b0ecb4f8014a2888f50e007873fd87": {
          "model_module": "@jupyter-widgets/controls",
          "model_name": "HTMLModel",
          "model_module_version": "1.5.0",
          "state": {
            "_dom_classes": [],
            "_model_module": "@jupyter-widgets/controls",
            "_model_module_version": "1.5.0",
            "_model_name": "HTMLModel",
            "_view_count": null,
            "_view_module": "@jupyter-widgets/controls",
            "_view_module_version": "1.5.0",
            "_view_name": "HTMLView",
            "description": "",
            "description_tooltip": null,
            "layout": "IPY_MODEL_66ca676cb6e5400eb3121e6413f4c5ad",
            "placeholder": "​",
            "style": "IPY_MODEL_72344141c50b45b18d97f0e7fda5870b",
            "value": " 3/4 [00:00&lt;00:00,  5.63it/s]"
          }
        },
        "7df56f0c369d476798a2651c893cd530": {
          "model_module": "@jupyter-widgets/base",
          "model_name": "LayoutModel",
          "model_module_version": "1.2.0",
          "state": {
            "_model_module": "@jupyter-widgets/base",
            "_model_module_version": "1.2.0",
            "_model_name": "LayoutModel",
            "_view_count": null,
            "_view_module": "@jupyter-widgets/base",
            "_view_module_version": "1.2.0",
            "_view_name": "LayoutView",
            "align_content": null,
            "align_items": null,
            "align_self": null,
            "border": null,
            "bottom": null,
            "display": null,
            "flex": null,
            "flex_flow": null,
            "grid_area": null,
            "grid_auto_columns": null,
            "grid_auto_flow": null,
            "grid_auto_rows": null,
            "grid_column": null,
            "grid_gap": null,
            "grid_row": null,
            "grid_template_areas": null,
            "grid_template_columns": null,
            "grid_template_rows": null,
            "height": null,
            "justify_content": null,
            "justify_items": null,
            "left": null,
            "margin": null,
            "max_height": null,
            "max_width": null,
            "min_height": null,
            "min_width": null,
            "object_fit": null,
            "object_position": null,
            "order": null,
            "overflow": null,
            "overflow_x": null,
            "overflow_y": null,
            "padding": null,
            "right": null,
            "top": null,
            "visibility": null,
            "width": null
          }
        },
        "2d4bf5c371804ebb8268a343ca8cd172": {
          "model_module": "@jupyter-widgets/base",
          "model_name": "LayoutModel",
          "model_module_version": "1.2.0",
          "state": {
            "_model_module": "@jupyter-widgets/base",
            "_model_module_version": "1.2.0",
            "_model_name": "LayoutModel",
            "_view_count": null,
            "_view_module": "@jupyter-widgets/base",
            "_view_module_version": "1.2.0",
            "_view_name": "LayoutView",
            "align_content": null,
            "align_items": null,
            "align_self": null,
            "border": null,
            "bottom": null,
            "display": null,
            "flex": null,
            "flex_flow": null,
            "grid_area": null,
            "grid_auto_columns": null,
            "grid_auto_flow": null,
            "grid_auto_rows": null,
            "grid_column": null,
            "grid_gap": null,
            "grid_row": null,
            "grid_template_areas": null,
            "grid_template_columns": null,
            "grid_template_rows": null,
            "height": null,
            "justify_content": null,
            "justify_items": null,
            "left": null,
            "margin": null,
            "max_height": null,
            "max_width": null,
            "min_height": null,
            "min_width": null,
            "object_fit": null,
            "object_position": null,
            "order": null,
            "overflow": null,
            "overflow_x": null,
            "overflow_y": null,
            "padding": null,
            "right": null,
            "top": null,
            "visibility": null,
            "width": null
          }
        },
        "76c63bc58b5543b0809441259d24693f": {
          "model_module": "@jupyter-widgets/controls",
          "model_name": "DescriptionStyleModel",
          "model_module_version": "1.5.0",
          "state": {
            "_model_module": "@jupyter-widgets/controls",
            "_model_module_version": "1.5.0",
            "_model_name": "DescriptionStyleModel",
            "_view_count": null,
            "_view_module": "@jupyter-widgets/base",
            "_view_module_version": "1.2.0",
            "_view_name": "StyleView",
            "description_width": ""
          }
        },
        "bf9e17691652432cae25b0a3cbf13f10": {
          "model_module": "@jupyter-widgets/base",
          "model_name": "LayoutModel",
          "model_module_version": "1.2.0",
          "state": {
            "_model_module": "@jupyter-widgets/base",
            "_model_module_version": "1.2.0",
            "_model_name": "LayoutModel",
            "_view_count": null,
            "_view_module": "@jupyter-widgets/base",
            "_view_module_version": "1.2.0",
            "_view_name": "LayoutView",
            "align_content": null,
            "align_items": null,
            "align_self": null,
            "border": null,
            "bottom": null,
            "display": null,
            "flex": null,
            "flex_flow": null,
            "grid_area": null,
            "grid_auto_columns": null,
            "grid_auto_flow": null,
            "grid_auto_rows": null,
            "grid_column": null,
            "grid_gap": null,
            "grid_row": null,
            "grid_template_areas": null,
            "grid_template_columns": null,
            "grid_template_rows": null,
            "height": null,
            "justify_content": null,
            "justify_items": null,
            "left": null,
            "margin": null,
            "max_height": null,
            "max_width": null,
            "min_height": null,
            "min_width": null,
            "object_fit": null,
            "object_position": null,
            "order": null,
            "overflow": null,
            "overflow_x": null,
            "overflow_y": null,
            "padding": null,
            "right": null,
            "top": null,
            "visibility": null,
            "width": null
          }
        },
        "1cffe38fa52f4af8b1f11a947cfe78f4": {
          "model_module": "@jupyter-widgets/controls",
          "model_name": "ProgressStyleModel",
          "model_module_version": "1.5.0",
          "state": {
            "_model_module": "@jupyter-widgets/controls",
            "_model_module_version": "1.5.0",
            "_model_name": "ProgressStyleModel",
            "_view_count": null,
            "_view_module": "@jupyter-widgets/base",
            "_view_module_version": "1.2.0",
            "_view_name": "StyleView",
            "bar_color": null,
            "description_width": ""
          }
        },
        "66ca676cb6e5400eb3121e6413f4c5ad": {
          "model_module": "@jupyter-widgets/base",
          "model_name": "LayoutModel",
          "model_module_version": "1.2.0",
          "state": {
            "_model_module": "@jupyter-widgets/base",
            "_model_module_version": "1.2.0",
            "_model_name": "LayoutModel",
            "_view_count": null,
            "_view_module": "@jupyter-widgets/base",
            "_view_module_version": "1.2.0",
            "_view_name": "LayoutView",
            "align_content": null,
            "align_items": null,
            "align_self": null,
            "border": null,
            "bottom": null,
            "display": null,
            "flex": null,
            "flex_flow": null,
            "grid_area": null,
            "grid_auto_columns": null,
            "grid_auto_flow": null,
            "grid_auto_rows": null,
            "grid_column": null,
            "grid_gap": null,
            "grid_row": null,
            "grid_template_areas": null,
            "grid_template_columns": null,
            "grid_template_rows": null,
            "height": null,
            "justify_content": null,
            "justify_items": null,
            "left": null,
            "margin": null,
            "max_height": null,
            "max_width": null,
            "min_height": null,
            "min_width": null,
            "object_fit": null,
            "object_position": null,
            "order": null,
            "overflow": null,
            "overflow_x": null,
            "overflow_y": null,
            "padding": null,
            "right": null,
            "top": null,
            "visibility": null,
            "width": null
          }
        },
        "72344141c50b45b18d97f0e7fda5870b": {
          "model_module": "@jupyter-widgets/controls",
          "model_name": "DescriptionStyleModel",
          "model_module_version": "1.5.0",
          "state": {
            "_model_module": "@jupyter-widgets/controls",
            "_model_module_version": "1.5.0",
            "_model_name": "DescriptionStyleModel",
            "_view_count": null,
            "_view_module": "@jupyter-widgets/base",
            "_view_module_version": "1.2.0",
            "_view_name": "StyleView",
            "description_width": ""
          }
        },
        "77332e30df86443da49630b3ef60e1b4": {
          "model_module": "@jupyter-widgets/controls",
          "model_name": "HBoxModel",
          "model_module_version": "1.5.0",
          "state": {
            "_dom_classes": [],
            "_model_module": "@jupyter-widgets/controls",
            "_model_module_version": "1.5.0",
            "_model_name": "HBoxModel",
            "_view_count": null,
            "_view_module": "@jupyter-widgets/controls",
            "_view_module_version": "1.5.0",
            "_view_name": "HBoxView",
            "box_style": "",
            "children": [
              "IPY_MODEL_da7a2a326dba441bb0c7d12fbdbcef8a",
              "IPY_MODEL_ca6bf7f1fd1f4921aeea14d61c7c35ba",
              "IPY_MODEL_f647b5e603cb48fda18aa99874a47d82"
            ],
            "layout": "IPY_MODEL_c8196e87189942eca1dd2c7bfd5b9284"
          }
        },
        "da7a2a326dba441bb0c7d12fbdbcef8a": {
          "model_module": "@jupyter-widgets/controls",
          "model_name": "HTMLModel",
          "model_module_version": "1.5.0",
          "state": {
            "_dom_classes": [],
            "_model_module": "@jupyter-widgets/controls",
            "_model_module_version": "1.5.0",
            "_model_name": "HTMLModel",
            "_view_count": null,
            "_view_module": "@jupyter-widgets/controls",
            "_view_module_version": "1.5.0",
            "_view_name": "HTMLView",
            "description": "",
            "description_tooltip": null,
            "layout": "IPY_MODEL_9da950484654403ab83507556b78de07",
            "placeholder": "​",
            "style": "IPY_MODEL_813ea31b8940445d98f7d5778282ab0f",
            "value": "Processing:  75%"
          }
        },
        "ca6bf7f1fd1f4921aeea14d61c7c35ba": {
          "model_module": "@jupyter-widgets/controls",
          "model_name": "FloatProgressModel",
          "model_module_version": "1.5.0",
          "state": {
            "_dom_classes": [],
            "_model_module": "@jupyter-widgets/controls",
            "_model_module_version": "1.5.0",
            "_model_name": "FloatProgressModel",
            "_view_count": null,
            "_view_module": "@jupyter-widgets/controls",
            "_view_module_version": "1.5.0",
            "_view_name": "ProgressView",
            "bar_style": "danger",
            "description": "",
            "description_tooltip": null,
            "layout": "IPY_MODEL_448a05dfcb6a4ece97479548afc1837f",
            "max": 4,
            "min": 0,
            "orientation": "horizontal",
            "style": "IPY_MODEL_7c69ffc54f7a446595c323fbcfc40dd4",
            "value": 3
          }
        },
        "f647b5e603cb48fda18aa99874a47d82": {
          "model_module": "@jupyter-widgets/controls",
          "model_name": "HTMLModel",
          "model_module_version": "1.5.0",
          "state": {
            "_dom_classes": [],
            "_model_module": "@jupyter-widgets/controls",
            "_model_module_version": "1.5.0",
            "_model_name": "HTMLModel",
            "_view_count": null,
            "_view_module": "@jupyter-widgets/controls",
            "_view_module_version": "1.5.0",
            "_view_name": "HTMLView",
            "description": "",
            "description_tooltip": null,
            "layout": "IPY_MODEL_9c60d4da7cd34fff823786f3488fc41a",
            "placeholder": "​",
            "style": "IPY_MODEL_f99ac8d8771c49f48f896b28565ecab9",
            "value": " 3/4 [00:00&lt;00:00,  6.68it/s]"
          }
        },
        "c8196e87189942eca1dd2c7bfd5b9284": {
          "model_module": "@jupyter-widgets/base",
          "model_name": "LayoutModel",
          "model_module_version": "1.2.0",
          "state": {
            "_model_module": "@jupyter-widgets/base",
            "_model_module_version": "1.2.0",
            "_model_name": "LayoutModel",
            "_view_count": null,
            "_view_module": "@jupyter-widgets/base",
            "_view_module_version": "1.2.0",
            "_view_name": "LayoutView",
            "align_content": null,
            "align_items": null,
            "align_self": null,
            "border": null,
            "bottom": null,
            "display": null,
            "flex": null,
            "flex_flow": null,
            "grid_area": null,
            "grid_auto_columns": null,
            "grid_auto_flow": null,
            "grid_auto_rows": null,
            "grid_column": null,
            "grid_gap": null,
            "grid_row": null,
            "grid_template_areas": null,
            "grid_template_columns": null,
            "grid_template_rows": null,
            "height": null,
            "justify_content": null,
            "justify_items": null,
            "left": null,
            "margin": null,
            "max_height": null,
            "max_width": null,
            "min_height": null,
            "min_width": null,
            "object_fit": null,
            "object_position": null,
            "order": null,
            "overflow": null,
            "overflow_x": null,
            "overflow_y": null,
            "padding": null,
            "right": null,
            "top": null,
            "visibility": null,
            "width": null
          }
        },
        "9da950484654403ab83507556b78de07": {
          "model_module": "@jupyter-widgets/base",
          "model_name": "LayoutModel",
          "model_module_version": "1.2.0",
          "state": {
            "_model_module": "@jupyter-widgets/base",
            "_model_module_version": "1.2.0",
            "_model_name": "LayoutModel",
            "_view_count": null,
            "_view_module": "@jupyter-widgets/base",
            "_view_module_version": "1.2.0",
            "_view_name": "LayoutView",
            "align_content": null,
            "align_items": null,
            "align_self": null,
            "border": null,
            "bottom": null,
            "display": null,
            "flex": null,
            "flex_flow": null,
            "grid_area": null,
            "grid_auto_columns": null,
            "grid_auto_flow": null,
            "grid_auto_rows": null,
            "grid_column": null,
            "grid_gap": null,
            "grid_row": null,
            "grid_template_areas": null,
            "grid_template_columns": null,
            "grid_template_rows": null,
            "height": null,
            "justify_content": null,
            "justify_items": null,
            "left": null,
            "margin": null,
            "max_height": null,
            "max_width": null,
            "min_height": null,
            "min_width": null,
            "object_fit": null,
            "object_position": null,
            "order": null,
            "overflow": null,
            "overflow_x": null,
            "overflow_y": null,
            "padding": null,
            "right": null,
            "top": null,
            "visibility": null,
            "width": null
          }
        },
        "813ea31b8940445d98f7d5778282ab0f": {
          "model_module": "@jupyter-widgets/controls",
          "model_name": "DescriptionStyleModel",
          "model_module_version": "1.5.0",
          "state": {
            "_model_module": "@jupyter-widgets/controls",
            "_model_module_version": "1.5.0",
            "_model_name": "DescriptionStyleModel",
            "_view_count": null,
            "_view_module": "@jupyter-widgets/base",
            "_view_module_version": "1.2.0",
            "_view_name": "StyleView",
            "description_width": ""
          }
        },
        "448a05dfcb6a4ece97479548afc1837f": {
          "model_module": "@jupyter-widgets/base",
          "model_name": "LayoutModel",
          "model_module_version": "1.2.0",
          "state": {
            "_model_module": "@jupyter-widgets/base",
            "_model_module_version": "1.2.0",
            "_model_name": "LayoutModel",
            "_view_count": null,
            "_view_module": "@jupyter-widgets/base",
            "_view_module_version": "1.2.0",
            "_view_name": "LayoutView",
            "align_content": null,
            "align_items": null,
            "align_self": null,
            "border": null,
            "bottom": null,
            "display": null,
            "flex": null,
            "flex_flow": null,
            "grid_area": null,
            "grid_auto_columns": null,
            "grid_auto_flow": null,
            "grid_auto_rows": null,
            "grid_column": null,
            "grid_gap": null,
            "grid_row": null,
            "grid_template_areas": null,
            "grid_template_columns": null,
            "grid_template_rows": null,
            "height": null,
            "justify_content": null,
            "justify_items": null,
            "left": null,
            "margin": null,
            "max_height": null,
            "max_width": null,
            "min_height": null,
            "min_width": null,
            "object_fit": null,
            "object_position": null,
            "order": null,
            "overflow": null,
            "overflow_x": null,
            "overflow_y": null,
            "padding": null,
            "right": null,
            "top": null,
            "visibility": null,
            "width": null
          }
        },
        "7c69ffc54f7a446595c323fbcfc40dd4": {
          "model_module": "@jupyter-widgets/controls",
          "model_name": "ProgressStyleModel",
          "model_module_version": "1.5.0",
          "state": {
            "_model_module": "@jupyter-widgets/controls",
            "_model_module_version": "1.5.0",
            "_model_name": "ProgressStyleModel",
            "_view_count": null,
            "_view_module": "@jupyter-widgets/base",
            "_view_module_version": "1.2.0",
            "_view_name": "StyleView",
            "bar_color": null,
            "description_width": ""
          }
        },
        "9c60d4da7cd34fff823786f3488fc41a": {
          "model_module": "@jupyter-widgets/base",
          "model_name": "LayoutModel",
          "model_module_version": "1.2.0",
          "state": {
            "_model_module": "@jupyter-widgets/base",
            "_model_module_version": "1.2.0",
            "_model_name": "LayoutModel",
            "_view_count": null,
            "_view_module": "@jupyter-widgets/base",
            "_view_module_version": "1.2.0",
            "_view_name": "LayoutView",
            "align_content": null,
            "align_items": null,
            "align_self": null,
            "border": null,
            "bottom": null,
            "display": null,
            "flex": null,
            "flex_flow": null,
            "grid_area": null,
            "grid_auto_columns": null,
            "grid_auto_flow": null,
            "grid_auto_rows": null,
            "grid_column": null,
            "grid_gap": null,
            "grid_row": null,
            "grid_template_areas": null,
            "grid_template_columns": null,
            "grid_template_rows": null,
            "height": null,
            "justify_content": null,
            "justify_items": null,
            "left": null,
            "margin": null,
            "max_height": null,
            "max_width": null,
            "min_height": null,
            "min_width": null,
            "object_fit": null,
            "object_position": null,
            "order": null,
            "overflow": null,
            "overflow_x": null,
            "overflow_y": null,
            "padding": null,
            "right": null,
            "top": null,
            "visibility": null,
            "width": null
          }
        },
        "f99ac8d8771c49f48f896b28565ecab9": {
          "model_module": "@jupyter-widgets/controls",
          "model_name": "DescriptionStyleModel",
          "model_module_version": "1.5.0",
          "state": {
            "_model_module": "@jupyter-widgets/controls",
            "_model_module_version": "1.5.0",
            "_model_name": "DescriptionStyleModel",
            "_view_count": null,
            "_view_module": "@jupyter-widgets/base",
            "_view_module_version": "1.2.0",
            "_view_name": "StyleView",
            "description_width": ""
          }
        },
        "8fb20b7991c24ac3968e5c8135c12be7": {
          "model_module": "@jupyter-widgets/controls",
          "model_name": "HBoxModel",
          "model_module_version": "1.5.0",
          "state": {
            "_dom_classes": [],
            "_model_module": "@jupyter-widgets/controls",
            "_model_module_version": "1.5.0",
            "_model_name": "HBoxModel",
            "_view_count": null,
            "_view_module": "@jupyter-widgets/controls",
            "_view_module_version": "1.5.0",
            "_view_name": "HBoxView",
            "box_style": "",
            "children": [
              "IPY_MODEL_4448040fdc824bc1b18d7c6b93d79438",
              "IPY_MODEL_b9f9118ab36745c7916ce16268e98cd0",
              "IPY_MODEL_6653e042e8ec44c7ae2dc2a2a343a07b"
            ],
            "layout": "IPY_MODEL_b24ba1176c124c669d99e015b923e790"
          }
        },
        "4448040fdc824bc1b18d7c6b93d79438": {
          "model_module": "@jupyter-widgets/controls",
          "model_name": "HTMLModel",
          "model_module_version": "1.5.0",
          "state": {
            "_dom_classes": [],
            "_model_module": "@jupyter-widgets/controls",
            "_model_module_version": "1.5.0",
            "_model_name": "HTMLModel",
            "_view_count": null,
            "_view_module": "@jupyter-widgets/controls",
            "_view_module_version": "1.5.0",
            "_view_name": "HTMLView",
            "description": "",
            "description_tooltip": null,
            "layout": "IPY_MODEL_e3d660686d9f4544930920bda1955794",
            "placeholder": "​",
            "style": "IPY_MODEL_f447ebc8e8eb4c059f7865183cfdf6c1",
            "value": "Processing:  75%"
          }
        },
        "b9f9118ab36745c7916ce16268e98cd0": {
          "model_module": "@jupyter-widgets/controls",
          "model_name": "FloatProgressModel",
          "model_module_version": "1.5.0",
          "state": {
            "_dom_classes": [],
            "_model_module": "@jupyter-widgets/controls",
            "_model_module_version": "1.5.0",
            "_model_name": "FloatProgressModel",
            "_view_count": null,
            "_view_module": "@jupyter-widgets/controls",
            "_view_module_version": "1.5.0",
            "_view_name": "ProgressView",
            "bar_style": "danger",
            "description": "",
            "description_tooltip": null,
            "layout": "IPY_MODEL_3df75a0ff9de4c39817e7f7a1a0240cf",
            "max": 4,
            "min": 0,
            "orientation": "horizontal",
            "style": "IPY_MODEL_5b03d55c11904d3ebaea2c3c6041a763",
            "value": 3
          }
        },
        "6653e042e8ec44c7ae2dc2a2a343a07b": {
          "model_module": "@jupyter-widgets/controls",
          "model_name": "HTMLModel",
          "model_module_version": "1.5.0",
          "state": {
            "_dom_classes": [],
            "_model_module": "@jupyter-widgets/controls",
            "_model_module_version": "1.5.0",
            "_model_name": "HTMLModel",
            "_view_count": null,
            "_view_module": "@jupyter-widgets/controls",
            "_view_module_version": "1.5.0",
            "_view_name": "HTMLView",
            "description": "",
            "description_tooltip": null,
            "layout": "IPY_MODEL_ec0f7fc0bce94be18aba142d69947f9d",
            "placeholder": "​",
            "style": "IPY_MODEL_f01982fd79a6444f927ba90a85f0a7bd",
            "value": " 3/4 [00:00&lt;00:00,  9.16it/s]"
          }
        },
        "b24ba1176c124c669d99e015b923e790": {
          "model_module": "@jupyter-widgets/base",
          "model_name": "LayoutModel",
          "model_module_version": "1.2.0",
          "state": {
            "_model_module": "@jupyter-widgets/base",
            "_model_module_version": "1.2.0",
            "_model_name": "LayoutModel",
            "_view_count": null,
            "_view_module": "@jupyter-widgets/base",
            "_view_module_version": "1.2.0",
            "_view_name": "LayoutView",
            "align_content": null,
            "align_items": null,
            "align_self": null,
            "border": null,
            "bottom": null,
            "display": null,
            "flex": null,
            "flex_flow": null,
            "grid_area": null,
            "grid_auto_columns": null,
            "grid_auto_flow": null,
            "grid_auto_rows": null,
            "grid_column": null,
            "grid_gap": null,
            "grid_row": null,
            "grid_template_areas": null,
            "grid_template_columns": null,
            "grid_template_rows": null,
            "height": null,
            "justify_content": null,
            "justify_items": null,
            "left": null,
            "margin": null,
            "max_height": null,
            "max_width": null,
            "min_height": null,
            "min_width": null,
            "object_fit": null,
            "object_position": null,
            "order": null,
            "overflow": null,
            "overflow_x": null,
            "overflow_y": null,
            "padding": null,
            "right": null,
            "top": null,
            "visibility": null,
            "width": null
          }
        },
        "e3d660686d9f4544930920bda1955794": {
          "model_module": "@jupyter-widgets/base",
          "model_name": "LayoutModel",
          "model_module_version": "1.2.0",
          "state": {
            "_model_module": "@jupyter-widgets/base",
            "_model_module_version": "1.2.0",
            "_model_name": "LayoutModel",
            "_view_count": null,
            "_view_module": "@jupyter-widgets/base",
            "_view_module_version": "1.2.0",
            "_view_name": "LayoutView",
            "align_content": null,
            "align_items": null,
            "align_self": null,
            "border": null,
            "bottom": null,
            "display": null,
            "flex": null,
            "flex_flow": null,
            "grid_area": null,
            "grid_auto_columns": null,
            "grid_auto_flow": null,
            "grid_auto_rows": null,
            "grid_column": null,
            "grid_gap": null,
            "grid_row": null,
            "grid_template_areas": null,
            "grid_template_columns": null,
            "grid_template_rows": null,
            "height": null,
            "justify_content": null,
            "justify_items": null,
            "left": null,
            "margin": null,
            "max_height": null,
            "max_width": null,
            "min_height": null,
            "min_width": null,
            "object_fit": null,
            "object_position": null,
            "order": null,
            "overflow": null,
            "overflow_x": null,
            "overflow_y": null,
            "padding": null,
            "right": null,
            "top": null,
            "visibility": null,
            "width": null
          }
        },
        "f447ebc8e8eb4c059f7865183cfdf6c1": {
          "model_module": "@jupyter-widgets/controls",
          "model_name": "DescriptionStyleModel",
          "model_module_version": "1.5.0",
          "state": {
            "_model_module": "@jupyter-widgets/controls",
            "_model_module_version": "1.5.0",
            "_model_name": "DescriptionStyleModel",
            "_view_count": null,
            "_view_module": "@jupyter-widgets/base",
            "_view_module_version": "1.2.0",
            "_view_name": "StyleView",
            "description_width": ""
          }
        },
        "3df75a0ff9de4c39817e7f7a1a0240cf": {
          "model_module": "@jupyter-widgets/base",
          "model_name": "LayoutModel",
          "model_module_version": "1.2.0",
          "state": {
            "_model_module": "@jupyter-widgets/base",
            "_model_module_version": "1.2.0",
            "_model_name": "LayoutModel",
            "_view_count": null,
            "_view_module": "@jupyter-widgets/base",
            "_view_module_version": "1.2.0",
            "_view_name": "LayoutView",
            "align_content": null,
            "align_items": null,
            "align_self": null,
            "border": null,
            "bottom": null,
            "display": null,
            "flex": null,
            "flex_flow": null,
            "grid_area": null,
            "grid_auto_columns": null,
            "grid_auto_flow": null,
            "grid_auto_rows": null,
            "grid_column": null,
            "grid_gap": null,
            "grid_row": null,
            "grid_template_areas": null,
            "grid_template_columns": null,
            "grid_template_rows": null,
            "height": null,
            "justify_content": null,
            "justify_items": null,
            "left": null,
            "margin": null,
            "max_height": null,
            "max_width": null,
            "min_height": null,
            "min_width": null,
            "object_fit": null,
            "object_position": null,
            "order": null,
            "overflow": null,
            "overflow_x": null,
            "overflow_y": null,
            "padding": null,
            "right": null,
            "top": null,
            "visibility": null,
            "width": null
          }
        },
        "5b03d55c11904d3ebaea2c3c6041a763": {
          "model_module": "@jupyter-widgets/controls",
          "model_name": "ProgressStyleModel",
          "model_module_version": "1.5.0",
          "state": {
            "_model_module": "@jupyter-widgets/controls",
            "_model_module_version": "1.5.0",
            "_model_name": "ProgressStyleModel",
            "_view_count": null,
            "_view_module": "@jupyter-widgets/base",
            "_view_module_version": "1.2.0",
            "_view_name": "StyleView",
            "bar_color": null,
            "description_width": ""
          }
        },
        "ec0f7fc0bce94be18aba142d69947f9d": {
          "model_module": "@jupyter-widgets/base",
          "model_name": "LayoutModel",
          "model_module_version": "1.2.0",
          "state": {
            "_model_module": "@jupyter-widgets/base",
            "_model_module_version": "1.2.0",
            "_model_name": "LayoutModel",
            "_view_count": null,
            "_view_module": "@jupyter-widgets/base",
            "_view_module_version": "1.2.0",
            "_view_name": "LayoutView",
            "align_content": null,
            "align_items": null,
            "align_self": null,
            "border": null,
            "bottom": null,
            "display": null,
            "flex": null,
            "flex_flow": null,
            "grid_area": null,
            "grid_auto_columns": null,
            "grid_auto_flow": null,
            "grid_auto_rows": null,
            "grid_column": null,
            "grid_gap": null,
            "grid_row": null,
            "grid_template_areas": null,
            "grid_template_columns": null,
            "grid_template_rows": null,
            "height": null,
            "justify_content": null,
            "justify_items": null,
            "left": null,
            "margin": null,
            "max_height": null,
            "max_width": null,
            "min_height": null,
            "min_width": null,
            "object_fit": null,
            "object_position": null,
            "order": null,
            "overflow": null,
            "overflow_x": null,
            "overflow_y": null,
            "padding": null,
            "right": null,
            "top": null,
            "visibility": null,
            "width": null
          }
        },
        "f01982fd79a6444f927ba90a85f0a7bd": {
          "model_module": "@jupyter-widgets/controls",
          "model_name": "DescriptionStyleModel",
          "model_module_version": "1.5.0",
          "state": {
            "_model_module": "@jupyter-widgets/controls",
            "_model_module_version": "1.5.0",
            "_model_name": "DescriptionStyleModel",
            "_view_count": null,
            "_view_module": "@jupyter-widgets/base",
            "_view_module_version": "1.2.0",
            "_view_name": "StyleView",
            "description_width": ""
          }
        },
        "dfa083a5d808420092c2fc5065379cc5": {
          "model_module": "@jupyter-widgets/controls",
          "model_name": "HBoxModel",
          "model_module_version": "1.5.0",
          "state": {
            "_dom_classes": [],
            "_model_module": "@jupyter-widgets/controls",
            "_model_module_version": "1.5.0",
            "_model_name": "HBoxModel",
            "_view_count": null,
            "_view_module": "@jupyter-widgets/controls",
            "_view_module_version": "1.5.0",
            "_view_name": "HBoxView",
            "box_style": "",
            "children": [
              "IPY_MODEL_dc591732f0db4833af502c5a50ae7a77",
              "IPY_MODEL_826e08fb905d4a13a2d830ebca011fbb",
              "IPY_MODEL_51022433dbdd4ee18aee720d13b01799"
            ],
            "layout": "IPY_MODEL_3215d2f543744accb8801cd27a883a2b"
          }
        },
        "dc591732f0db4833af502c5a50ae7a77": {
          "model_module": "@jupyter-widgets/controls",
          "model_name": "HTMLModel",
          "model_module_version": "1.5.0",
          "state": {
            "_dom_classes": [],
            "_model_module": "@jupyter-widgets/controls",
            "_model_module_version": "1.5.0",
            "_model_name": "HTMLModel",
            "_view_count": null,
            "_view_module": "@jupyter-widgets/controls",
            "_view_module_version": "1.5.0",
            "_view_name": "HTMLView",
            "description": "",
            "description_tooltip": null,
            "layout": "IPY_MODEL_73ba6e6e272847a4a29b79f776acf570",
            "placeholder": "​",
            "style": "IPY_MODEL_f26c6ebd810847db9f89f9f80ebdf2b1",
            "value": "Processing: 100%"
          }
        },
        "826e08fb905d4a13a2d830ebca011fbb": {
          "model_module": "@jupyter-widgets/controls",
          "model_name": "FloatProgressModel",
          "model_module_version": "1.5.0",
          "state": {
            "_dom_classes": [],
            "_model_module": "@jupyter-widgets/controls",
            "_model_module_version": "1.5.0",
            "_model_name": "FloatProgressModel",
            "_view_count": null,
            "_view_module": "@jupyter-widgets/controls",
            "_view_module_version": "1.5.0",
            "_view_name": "ProgressView",
            "bar_style": "",
            "description": "",
            "description_tooltip": null,
            "layout": "IPY_MODEL_b4bb024679c14f7ab319726a48fc2fba",
            "max": 17,
            "min": 0,
            "orientation": "horizontal",
            "style": "IPY_MODEL_4e5f07b331a34f76a706b69adc0063b5",
            "value": 17
          }
        },
        "51022433dbdd4ee18aee720d13b01799": {
          "model_module": "@jupyter-widgets/controls",
          "model_name": "HTMLModel",
          "model_module_version": "1.5.0",
          "state": {
            "_dom_classes": [],
            "_model_module": "@jupyter-widgets/controls",
            "_model_module_version": "1.5.0",
            "_model_name": "HTMLModel",
            "_view_count": null,
            "_view_module": "@jupyter-widgets/controls",
            "_view_module_version": "1.5.0",
            "_view_name": "HTMLView",
            "description": "",
            "description_tooltip": null,
            "layout": "IPY_MODEL_8c9c87e6e8fc4fc9a8567d1cc8d52254",
            "placeholder": "​",
            "style": "IPY_MODEL_8e377b5171cc45c184414d05b756f1ba",
            "value": " 17/17 [00:02&lt;00:00,  6.42it/s]"
          }
        },
        "3215d2f543744accb8801cd27a883a2b": {
          "model_module": "@jupyter-widgets/base",
          "model_name": "LayoutModel",
          "model_module_version": "1.2.0",
          "state": {
            "_model_module": "@jupyter-widgets/base",
            "_model_module_version": "1.2.0",
            "_model_name": "LayoutModel",
            "_view_count": null,
            "_view_module": "@jupyter-widgets/base",
            "_view_module_version": "1.2.0",
            "_view_name": "LayoutView",
            "align_content": null,
            "align_items": null,
            "align_self": null,
            "border": null,
            "bottom": null,
            "display": null,
            "flex": null,
            "flex_flow": null,
            "grid_area": null,
            "grid_auto_columns": null,
            "grid_auto_flow": null,
            "grid_auto_rows": null,
            "grid_column": null,
            "grid_gap": null,
            "grid_row": null,
            "grid_template_areas": null,
            "grid_template_columns": null,
            "grid_template_rows": null,
            "height": null,
            "justify_content": null,
            "justify_items": null,
            "left": null,
            "margin": null,
            "max_height": null,
            "max_width": null,
            "min_height": null,
            "min_width": null,
            "object_fit": null,
            "object_position": null,
            "order": null,
            "overflow": null,
            "overflow_x": null,
            "overflow_y": null,
            "padding": null,
            "right": null,
            "top": null,
            "visibility": "hidden",
            "width": null
          }
        },
        "73ba6e6e272847a4a29b79f776acf570": {
          "model_module": "@jupyter-widgets/base",
          "model_name": "LayoutModel",
          "model_module_version": "1.2.0",
          "state": {
            "_model_module": "@jupyter-widgets/base",
            "_model_module_version": "1.2.0",
            "_model_name": "LayoutModel",
            "_view_count": null,
            "_view_module": "@jupyter-widgets/base",
            "_view_module_version": "1.2.0",
            "_view_name": "LayoutView",
            "align_content": null,
            "align_items": null,
            "align_self": null,
            "border": null,
            "bottom": null,
            "display": null,
            "flex": null,
            "flex_flow": null,
            "grid_area": null,
            "grid_auto_columns": null,
            "grid_auto_flow": null,
            "grid_auto_rows": null,
            "grid_column": null,
            "grid_gap": null,
            "grid_row": null,
            "grid_template_areas": null,
            "grid_template_columns": null,
            "grid_template_rows": null,
            "height": null,
            "justify_content": null,
            "justify_items": null,
            "left": null,
            "margin": null,
            "max_height": null,
            "max_width": null,
            "min_height": null,
            "min_width": null,
            "object_fit": null,
            "object_position": null,
            "order": null,
            "overflow": null,
            "overflow_x": null,
            "overflow_y": null,
            "padding": null,
            "right": null,
            "top": null,
            "visibility": null,
            "width": null
          }
        },
        "f26c6ebd810847db9f89f9f80ebdf2b1": {
          "model_module": "@jupyter-widgets/controls",
          "model_name": "DescriptionStyleModel",
          "model_module_version": "1.5.0",
          "state": {
            "_model_module": "@jupyter-widgets/controls",
            "_model_module_version": "1.5.0",
            "_model_name": "DescriptionStyleModel",
            "_view_count": null,
            "_view_module": "@jupyter-widgets/base",
            "_view_module_version": "1.2.0",
            "_view_name": "StyleView",
            "description_width": ""
          }
        },
        "b4bb024679c14f7ab319726a48fc2fba": {
          "model_module": "@jupyter-widgets/base",
          "model_name": "LayoutModel",
          "model_module_version": "1.2.0",
          "state": {
            "_model_module": "@jupyter-widgets/base",
            "_model_module_version": "1.2.0",
            "_model_name": "LayoutModel",
            "_view_count": null,
            "_view_module": "@jupyter-widgets/base",
            "_view_module_version": "1.2.0",
            "_view_name": "LayoutView",
            "align_content": null,
            "align_items": null,
            "align_self": null,
            "border": null,
            "bottom": null,
            "display": null,
            "flex": null,
            "flex_flow": null,
            "grid_area": null,
            "grid_auto_columns": null,
            "grid_auto_flow": null,
            "grid_auto_rows": null,
            "grid_column": null,
            "grid_gap": null,
            "grid_row": null,
            "grid_template_areas": null,
            "grid_template_columns": null,
            "grid_template_rows": null,
            "height": null,
            "justify_content": null,
            "justify_items": null,
            "left": null,
            "margin": null,
            "max_height": null,
            "max_width": null,
            "min_height": null,
            "min_width": null,
            "object_fit": null,
            "object_position": null,
            "order": null,
            "overflow": null,
            "overflow_x": null,
            "overflow_y": null,
            "padding": null,
            "right": null,
            "top": null,
            "visibility": null,
            "width": null
          }
        },
        "4e5f07b331a34f76a706b69adc0063b5": {
          "model_module": "@jupyter-widgets/controls",
          "model_name": "ProgressStyleModel",
          "model_module_version": "1.5.0",
          "state": {
            "_model_module": "@jupyter-widgets/controls",
            "_model_module_version": "1.5.0",
            "_model_name": "ProgressStyleModel",
            "_view_count": null,
            "_view_module": "@jupyter-widgets/base",
            "_view_module_version": "1.2.0",
            "_view_name": "StyleView",
            "bar_color": null,
            "description_width": ""
          }
        },
        "8c9c87e6e8fc4fc9a8567d1cc8d52254": {
          "model_module": "@jupyter-widgets/base",
          "model_name": "LayoutModel",
          "model_module_version": "1.2.0",
          "state": {
            "_model_module": "@jupyter-widgets/base",
            "_model_module_version": "1.2.0",
            "_model_name": "LayoutModel",
            "_view_count": null,
            "_view_module": "@jupyter-widgets/base",
            "_view_module_version": "1.2.0",
            "_view_name": "LayoutView",
            "align_content": null,
            "align_items": null,
            "align_self": null,
            "border": null,
            "bottom": null,
            "display": null,
            "flex": null,
            "flex_flow": null,
            "grid_area": null,
            "grid_auto_columns": null,
            "grid_auto_flow": null,
            "grid_auto_rows": null,
            "grid_column": null,
            "grid_gap": null,
            "grid_row": null,
            "grid_template_areas": null,
            "grid_template_columns": null,
            "grid_template_rows": null,
            "height": null,
            "justify_content": null,
            "justify_items": null,
            "left": null,
            "margin": null,
            "max_height": null,
            "max_width": null,
            "min_height": null,
            "min_width": null,
            "object_fit": null,
            "object_position": null,
            "order": null,
            "overflow": null,
            "overflow_x": null,
            "overflow_y": null,
            "padding": null,
            "right": null,
            "top": null,
            "visibility": null,
            "width": null
          }
        },
        "8e377b5171cc45c184414d05b756f1ba": {
          "model_module": "@jupyter-widgets/controls",
          "model_name": "DescriptionStyleModel",
          "model_module_version": "1.5.0",
          "state": {
            "_model_module": "@jupyter-widgets/controls",
            "_model_module_version": "1.5.0",
            "_model_name": "DescriptionStyleModel",
            "_view_count": null,
            "_view_module": "@jupyter-widgets/base",
            "_view_module_version": "1.2.0",
            "_view_name": "StyleView",
            "description_width": ""
          }
        }
      }
    }
  },
  "cells": [
    {
      "cell_type": "markdown",
      "metadata": {
        "id": "view-in-github",
        "colab_type": "text"
      },
      "source": [
        "<a href=\"https://colab.research.google.com/github/dallinmoore/DATA_5630_Deep_Forecasting/blob/main/Homework(my-branch-only)/HW_4_ARIMA.ipynb\" target=\"_parent\"><img src=\"https://colab.research.google.com/assets/colab-badge.svg\" alt=\"Open In Colab\"/></a>"
      ]
    },
    {
      "cell_type": "markdown",
      "source": [
        "# HW 4 - DATA 5630\n",
        "Alesandro Rodriguez & Dallin Moore"
      ],
      "metadata": {
        "id": "bvUZUQAbjeOV"
      }
    },
    {
      "cell_type": "markdown",
      "source": [
        "## Question 1"
      ],
      "metadata": {
        "id": "T8DoTjjba7HS"
      }
    },
    {
      "cell_type": "markdown",
      "source": [
        "### 1"
      ],
      "metadata": {
        "id": "rl2HDZTLZXEc"
      }
    },
    {
      "cell_type": "code",
      "execution_count": null,
      "metadata": {
        "id": "yzPEWtx7S4rq",
        "colab": {
          "base_uri": "https://localhost:8080/",
          "height": 1000
        },
        "collapsed": true,
        "outputId": "3bc8a0d7-c465-4b65-cb33-3dfd8240fcf4"
      },
      "outputs": [
        {
          "output_type": "stream",
          "name": "stdout",
          "text": [
            "Collecting pycaret\n",
            "  Downloading pycaret-3.3.2-py3-none-any.whl.metadata (17 kB)\n",
            "Requirement already satisfied: ipython>=5.5.0 in /usr/local/lib/python3.11/dist-packages (from pycaret) (7.34.0)\n",
            "Requirement already satisfied: ipywidgets>=7.6.5 in /usr/local/lib/python3.11/dist-packages (from pycaret) (7.7.1)\n",
            "Requirement already satisfied: tqdm>=4.62.0 in /usr/local/lib/python3.11/dist-packages (from pycaret) (4.67.1)\n",
            "Requirement already satisfied: numpy<1.27,>=1.21 in /usr/local/lib/python3.11/dist-packages (from pycaret) (1.26.4)\n",
            "Collecting pandas<2.2.0 (from pycaret)\n",
            "  Downloading pandas-2.1.4-cp311-cp311-manylinux_2_17_x86_64.manylinux2014_x86_64.whl.metadata (18 kB)\n",
            "Requirement already satisfied: jinja2>=3 in /usr/local/lib/python3.11/dist-packages (from pycaret) (3.1.5)\n",
            "Collecting scipy<=1.11.4,>=1.6.1 (from pycaret)\n",
            "  Downloading scipy-1.11.4-cp311-cp311-manylinux_2_17_x86_64.manylinux2014_x86_64.whl.metadata (60 kB)\n",
            "\u001b[2K     \u001b[90m━━━━━━━━━━━━━━━━━━━━━━━━━━━━━━━━━━━━━━━━\u001b[0m \u001b[32m60.4/60.4 kB\u001b[0m \u001b[31m312.4 kB/s\u001b[0m eta \u001b[36m0:00:00\u001b[0m\n",
            "\u001b[?25hCollecting joblib<1.4,>=1.2.0 (from pycaret)\n",
            "  Downloading joblib-1.3.2-py3-none-any.whl.metadata (5.4 kB)\n",
            "Requirement already satisfied: scikit-learn>1.4.0 in /usr/local/lib/python3.11/dist-packages (from pycaret) (1.6.1)\n",
            "Collecting pyod>=1.1.3 (from pycaret)\n",
            "  Downloading pyod-2.0.3.tar.gz (169 kB)\n",
            "\u001b[2K     \u001b[90m━━━━━━━━━━━━━━━━━━━━━━━━━━━━━━━━━━━━━━━━\u001b[0m \u001b[32m169.6/169.6 kB\u001b[0m \u001b[31m5.9 MB/s\u001b[0m eta \u001b[36m0:00:00\u001b[0m\n",
            "\u001b[?25h  Preparing metadata (setup.py) ... \u001b[?25l\u001b[?25hdone\n",
            "Requirement already satisfied: imbalanced-learn>=0.12.0 in /usr/local/lib/python3.11/dist-packages (from pycaret) (0.13.0)\n",
            "Collecting category-encoders>=2.4.0 (from pycaret)\n",
            "  Downloading category_encoders-2.8.0-py3-none-any.whl.metadata (7.9 kB)\n",
            "Requirement already satisfied: lightgbm>=3.0.0 in /usr/local/lib/python3.11/dist-packages (from pycaret) (4.5.0)\n",
            "Requirement already satisfied: numba>=0.55.0 in /usr/local/lib/python3.11/dist-packages (from pycaret) (0.61.0)\n",
            "Requirement already satisfied: requests>=2.27.1 in /usr/local/lib/python3.11/dist-packages (from pycaret) (2.32.3)\n",
            "Requirement already satisfied: psutil>=5.9.0 in /usr/local/lib/python3.11/dist-packages (from pycaret) (5.9.5)\n",
            "Requirement already satisfied: markupsafe>=2.0.1 in /usr/local/lib/python3.11/dist-packages (from pycaret) (3.0.2)\n",
            "Requirement already satisfied: importlib-metadata>=4.12.0 in /usr/local/lib/python3.11/dist-packages (from pycaret) (8.6.1)\n",
            "Requirement already satisfied: nbformat>=4.2.0 in /usr/local/lib/python3.11/dist-packages (from pycaret) (5.10.4)\n",
            "Requirement already satisfied: cloudpickle in /usr/local/lib/python3.11/dist-packages (from pycaret) (3.1.1)\n",
            "Collecting deprecation>=2.1.0 (from pycaret)\n",
            "  Downloading deprecation-2.1.0-py2.py3-none-any.whl.metadata (4.6 kB)\n",
            "Collecting xxhash (from pycaret)\n",
            "  Downloading xxhash-3.5.0-cp311-cp311-manylinux_2_17_x86_64.manylinux2014_x86_64.whl.metadata (12 kB)\n",
            "Collecting matplotlib<3.8.0 (from pycaret)\n",
            "  Downloading matplotlib-3.7.5-cp311-cp311-manylinux_2_17_x86_64.manylinux2014_x86_64.whl.metadata (5.7 kB)\n",
            "Collecting scikit-plot>=0.3.7 (from pycaret)\n",
            "  Downloading scikit_plot-0.3.7-py3-none-any.whl.metadata (7.1 kB)\n",
            "Requirement already satisfied: yellowbrick>=1.4 in /usr/local/lib/python3.11/dist-packages (from pycaret) (1.5)\n",
            "Requirement already satisfied: plotly>=5.14.0 in /usr/local/lib/python3.11/dist-packages (from pycaret) (5.24.1)\n",
            "Collecting kaleido>=0.2.1 (from pycaret)\n",
            "  Downloading kaleido-0.2.1-py2.py3-none-manylinux1_x86_64.whl.metadata (15 kB)\n",
            "Collecting schemdraw==0.15 (from pycaret)\n",
            "  Downloading schemdraw-0.15-py3-none-any.whl.metadata (2.2 kB)\n",
            "Collecting plotly-resampler>=0.8.3.1 (from pycaret)\n",
            "  Downloading plotly_resampler-0.10.0-py3-none-any.whl.metadata (13 kB)\n",
            "Requirement already satisfied: statsmodels>=0.12.1 in /usr/local/lib/python3.11/dist-packages (from pycaret) (0.14.4)\n",
            "Collecting sktime==0.26.0 (from pycaret)\n",
            "  Downloading sktime-0.26.0-py3-none-any.whl.metadata (29 kB)\n",
            "Collecting tbats>=1.1.3 (from pycaret)\n",
            "  Downloading tbats-1.1.3-py3-none-any.whl.metadata (3.8 kB)\n",
            "Collecting pmdarima>=2.0.4 (from pycaret)\n",
            "  Downloading pmdarima-2.0.4-cp311-cp311-manylinux_2_17_x86_64.manylinux2014_x86_64.manylinux_2_28_x86_64.whl.metadata (7.8 kB)\n",
            "Collecting wurlitzer (from pycaret)\n",
            "  Downloading wurlitzer-3.1.1-py3-none-any.whl.metadata (2.5 kB)\n",
            "Requirement already satisfied: packaging in /usr/local/lib/python3.11/dist-packages (from sktime==0.26.0->pycaret) (24.2)\n",
            "Collecting scikit-base<0.8.0 (from sktime==0.26.0->pycaret)\n",
            "  Downloading scikit_base-0.7.8-py3-none-any.whl.metadata (8.8 kB)\n",
            "Collecting scikit-learn>1.4.0 (from pycaret)\n",
            "  Downloading scikit_learn-1.4.2-cp311-cp311-manylinux_2_17_x86_64.manylinux2014_x86_64.whl.metadata (11 kB)\n",
            "Requirement already satisfied: patsy>=0.5.1 in /usr/local/lib/python3.11/dist-packages (from category-encoders>=2.4.0->pycaret) (1.0.1)\n",
            "INFO: pip is looking at multiple versions of category-encoders to determine which version is compatible with other requirements. This could take a while.\n",
            "Collecting category-encoders>=2.4.0 (from pycaret)\n",
            "  Downloading category_encoders-2.7.0-py3-none-any.whl.metadata (7.9 kB)\n",
            "Requirement already satisfied: sklearn-compat<1,>=0.1 in /usr/local/lib/python3.11/dist-packages (from imbalanced-learn>=0.12.0->pycaret) (0.1.3)\n",
            "Requirement already satisfied: threadpoolctl<4,>=2.0.0 in /usr/local/lib/python3.11/dist-packages (from imbalanced-learn>=0.12.0->pycaret) (3.5.0)\n",
            "Requirement already satisfied: zipp>=3.20 in /usr/local/lib/python3.11/dist-packages (from importlib-metadata>=4.12.0->pycaret) (3.21.0)\n",
            "Requirement already satisfied: setuptools>=18.5 in /usr/local/lib/python3.11/dist-packages (from ipython>=5.5.0->pycaret) (75.1.0)\n",
            "Collecting jedi>=0.16 (from ipython>=5.5.0->pycaret)\n",
            "  Downloading jedi-0.19.2-py2.py3-none-any.whl.metadata (22 kB)\n",
            "Requirement already satisfied: decorator in /usr/local/lib/python3.11/dist-packages (from ipython>=5.5.0->pycaret) (4.4.2)\n",
            "Requirement already satisfied: pickleshare in /usr/local/lib/python3.11/dist-packages (from ipython>=5.5.0->pycaret) (0.7.5)\n",
            "Requirement already satisfied: traitlets>=4.2 in /usr/local/lib/python3.11/dist-packages (from ipython>=5.5.0->pycaret) (5.7.1)\n",
            "Requirement already satisfied: prompt-toolkit!=3.0.0,!=3.0.1,<3.1.0,>=2.0.0 in /usr/local/lib/python3.11/dist-packages (from ipython>=5.5.0->pycaret) (3.0.50)\n",
            "Requirement already satisfied: pygments in /usr/local/lib/python3.11/dist-packages (from ipython>=5.5.0->pycaret) (2.18.0)\n",
            "Requirement already satisfied: backcall in /usr/local/lib/python3.11/dist-packages (from ipython>=5.5.0->pycaret) (0.2.0)\n",
            "Requirement already satisfied: matplotlib-inline in /usr/local/lib/python3.11/dist-packages (from ipython>=5.5.0->pycaret) (0.1.7)\n",
            "Requirement already satisfied: pexpect>4.3 in /usr/local/lib/python3.11/dist-packages (from ipython>=5.5.0->pycaret) (4.9.0)\n",
            "Requirement already satisfied: ipykernel>=4.5.1 in /usr/local/lib/python3.11/dist-packages (from ipywidgets>=7.6.5->pycaret) (6.17.1)\n",
            "Requirement already satisfied: ipython-genutils~=0.2.0 in /usr/local/lib/python3.11/dist-packages (from ipywidgets>=7.6.5->pycaret) (0.2.0)\n",
            "Requirement already satisfied: widgetsnbextension~=3.6.0 in /usr/local/lib/python3.11/dist-packages (from ipywidgets>=7.6.5->pycaret) (3.6.10)\n",
            "Requirement already satisfied: jupyterlab-widgets>=1.0.0 in /usr/local/lib/python3.11/dist-packages (from ipywidgets>=7.6.5->pycaret) (3.0.13)\n",
            "Requirement already satisfied: contourpy>=1.0.1 in /usr/local/lib/python3.11/dist-packages (from matplotlib<3.8.0->pycaret) (1.3.1)\n",
            "Requirement already satisfied: cycler>=0.10 in /usr/local/lib/python3.11/dist-packages (from matplotlib<3.8.0->pycaret) (0.12.1)\n",
            "Requirement already satisfied: fonttools>=4.22.0 in /usr/local/lib/python3.11/dist-packages (from matplotlib<3.8.0->pycaret) (4.56.0)\n",
            "Requirement already satisfied: kiwisolver>=1.0.1 in /usr/local/lib/python3.11/dist-packages (from matplotlib<3.8.0->pycaret) (1.4.8)\n",
            "Requirement already satisfied: pillow>=6.2.0 in /usr/local/lib/python3.11/dist-packages (from matplotlib<3.8.0->pycaret) (11.1.0)\n",
            "Requirement already satisfied: pyparsing>=2.3.1 in /usr/local/lib/python3.11/dist-packages (from matplotlib<3.8.0->pycaret) (3.2.1)\n",
            "Requirement already satisfied: python-dateutil>=2.7 in /usr/local/lib/python3.11/dist-packages (from matplotlib<3.8.0->pycaret) (2.8.2)\n",
            "Requirement already satisfied: fastjsonschema>=2.15 in /usr/local/lib/python3.11/dist-packages (from nbformat>=4.2.0->pycaret) (2.21.1)\n",
            "Requirement already satisfied: jsonschema>=2.6 in /usr/local/lib/python3.11/dist-packages (from nbformat>=4.2.0->pycaret) (4.23.0)\n",
            "Requirement already satisfied: jupyter-core!=5.0.*,>=4.12 in /usr/local/lib/python3.11/dist-packages (from nbformat>=4.2.0->pycaret) (5.7.2)\n",
            "Requirement already satisfied: llvmlite<0.45,>=0.44.0dev0 in /usr/local/lib/python3.11/dist-packages (from numba>=0.55.0->pycaret) (0.44.0)\n",
            "Requirement already satisfied: pytz>=2020.1 in /usr/local/lib/python3.11/dist-packages (from pandas<2.2.0->pycaret) (2025.1)\n",
            "Requirement already satisfied: tzdata>=2022.1 in /usr/local/lib/python3.11/dist-packages (from pandas<2.2.0->pycaret) (2025.1)\n",
            "Requirement already satisfied: tenacity>=6.2.0 in /usr/local/lib/python3.11/dist-packages (from plotly>=5.14.0->pycaret) (9.0.0)\n",
            "Collecting dash>=2.9.0 (from plotly-resampler>=0.8.3.1->pycaret)\n",
            "  Downloading dash-2.18.2-py3-none-any.whl.metadata (10 kB)\n",
            "Requirement already satisfied: orjson<4.0.0,>=3.8.0 in /usr/local/lib/python3.11/dist-packages (from plotly-resampler>=0.8.3.1->pycaret) (3.10.15)\n",
            "Collecting tsdownsample>=0.1.3 (from plotly-resampler>=0.8.3.1->pycaret)\n",
            "  Downloading tsdownsample-0.1.4.1-cp311-cp311-manylinux_2_17_x86_64.manylinux2014_x86_64.whl.metadata (8.0 kB)\n",
            "Requirement already satisfied: Cython!=0.29.18,!=0.29.31,>=0.29 in /usr/local/lib/python3.11/dist-packages (from pmdarima>=2.0.4->pycaret) (3.0.12)\n",
            "Requirement already satisfied: urllib3 in /usr/local/lib/python3.11/dist-packages (from pmdarima>=2.0.4->pycaret) (2.3.0)\n",
            "Requirement already satisfied: charset-normalizer<4,>=2 in /usr/local/lib/python3.11/dist-packages (from requests>=2.27.1->pycaret) (3.4.1)\n",
            "Requirement already satisfied: idna<4,>=2.5 in /usr/local/lib/python3.11/dist-packages (from requests>=2.27.1->pycaret) (3.10)\n",
            "Requirement already satisfied: certifi>=2017.4.17 in /usr/local/lib/python3.11/dist-packages (from requests>=2.27.1->pycaret) (2025.1.31)\n",
            "Collecting Flask<3.1,>=1.0.4 (from dash>=2.9.0->plotly-resampler>=0.8.3.1->pycaret)\n",
            "  Downloading flask-3.0.3-py3-none-any.whl.metadata (3.2 kB)\n",
            "Collecting Werkzeug<3.1 (from dash>=2.9.0->plotly-resampler>=0.8.3.1->pycaret)\n",
            "  Downloading werkzeug-3.0.6-py3-none-any.whl.metadata (3.7 kB)\n",
            "Collecting dash-html-components==2.0.0 (from dash>=2.9.0->plotly-resampler>=0.8.3.1->pycaret)\n",
            "  Downloading dash_html_components-2.0.0-py3-none-any.whl.metadata (3.8 kB)\n",
            "Collecting dash-core-components==2.0.0 (from dash>=2.9.0->plotly-resampler>=0.8.3.1->pycaret)\n",
            "  Downloading dash_core_components-2.0.0-py3-none-any.whl.metadata (2.9 kB)\n",
            "Collecting dash-table==5.0.0 (from dash>=2.9.0->plotly-resampler>=0.8.3.1->pycaret)\n",
            "  Downloading dash_table-5.0.0-py3-none-any.whl.metadata (2.4 kB)\n",
            "Requirement already satisfied: typing-extensions>=4.1.1 in /usr/local/lib/python3.11/dist-packages (from dash>=2.9.0->plotly-resampler>=0.8.3.1->pycaret) (4.12.2)\n",
            "Collecting retrying (from dash>=2.9.0->plotly-resampler>=0.8.3.1->pycaret)\n",
            "  Downloading retrying-1.3.4-py3-none-any.whl.metadata (6.9 kB)\n",
            "Requirement already satisfied: nest-asyncio in /usr/local/lib/python3.11/dist-packages (from dash>=2.9.0->plotly-resampler>=0.8.3.1->pycaret) (1.6.0)\n",
            "Requirement already satisfied: debugpy>=1.0 in /usr/local/lib/python3.11/dist-packages (from ipykernel>=4.5.1->ipywidgets>=7.6.5->pycaret) (1.8.0)\n",
            "Requirement already satisfied: jupyter-client>=6.1.12 in /usr/local/lib/python3.11/dist-packages (from ipykernel>=4.5.1->ipywidgets>=7.6.5->pycaret) (6.1.12)\n",
            "Requirement already satisfied: pyzmq>=17 in /usr/local/lib/python3.11/dist-packages (from ipykernel>=4.5.1->ipywidgets>=7.6.5->pycaret) (24.0.1)\n",
            "Requirement already satisfied: tornado>=6.1 in /usr/local/lib/python3.11/dist-packages (from ipykernel>=4.5.1->ipywidgets>=7.6.5->pycaret) (6.4.2)\n",
            "Requirement already satisfied: parso<0.9.0,>=0.8.4 in /usr/local/lib/python3.11/dist-packages (from jedi>=0.16->ipython>=5.5.0->pycaret) (0.8.4)\n",
            "Requirement already satisfied: attrs>=22.2.0 in /usr/local/lib/python3.11/dist-packages (from jsonschema>=2.6->nbformat>=4.2.0->pycaret) (25.1.0)\n",
            "Requirement already satisfied: jsonschema-specifications>=2023.03.6 in /usr/local/lib/python3.11/dist-packages (from jsonschema>=2.6->nbformat>=4.2.0->pycaret) (2024.10.1)\n",
            "Requirement already satisfied: referencing>=0.28.4 in /usr/local/lib/python3.11/dist-packages (from jsonschema>=2.6->nbformat>=4.2.0->pycaret) (0.36.2)\n",
            "Requirement already satisfied: rpds-py>=0.7.1 in /usr/local/lib/python3.11/dist-packages (from jsonschema>=2.6->nbformat>=4.2.0->pycaret) (0.22.3)\n",
            "Requirement already satisfied: platformdirs>=2.5 in /usr/local/lib/python3.11/dist-packages (from jupyter-core!=5.0.*,>=4.12->nbformat>=4.2.0->pycaret) (4.3.6)\n",
            "Requirement already satisfied: ptyprocess>=0.5 in /usr/local/lib/python3.11/dist-packages (from pexpect>4.3->ipython>=5.5.0->pycaret) (0.7.0)\n",
            "Requirement already satisfied: wcwidth in /usr/local/lib/python3.11/dist-packages (from prompt-toolkit!=3.0.0,!=3.0.1,<3.1.0,>=2.0.0->ipython>=5.5.0->pycaret) (0.2.13)\n",
            "Requirement already satisfied: six>=1.5 in /usr/local/lib/python3.11/dist-packages (from python-dateutil>=2.7->matplotlib<3.8.0->pycaret) (1.17.0)\n",
            "Requirement already satisfied: notebook>=4.4.1 in /usr/local/lib/python3.11/dist-packages (from widgetsnbextension~=3.6.0->ipywidgets>=7.6.5->pycaret) (6.5.5)\n",
            "Requirement already satisfied: itsdangerous>=2.1.2 in /usr/local/lib/python3.11/dist-packages (from Flask<3.1,>=1.0.4->dash>=2.9.0->plotly-resampler>=0.8.3.1->pycaret) (2.2.0)\n",
            "Requirement already satisfied: click>=8.1.3 in /usr/local/lib/python3.11/dist-packages (from Flask<3.1,>=1.0.4->dash>=2.9.0->plotly-resampler>=0.8.3.1->pycaret) (8.1.8)\n",
            "Requirement already satisfied: blinker>=1.6.2 in /usr/local/lib/python3.11/dist-packages (from Flask<3.1,>=1.0.4->dash>=2.9.0->plotly-resampler>=0.8.3.1->pycaret) (1.9.0)\n",
            "Requirement already satisfied: argon2-cffi in /usr/local/lib/python3.11/dist-packages (from notebook>=4.4.1->widgetsnbextension~=3.6.0->ipywidgets>=7.6.5->pycaret) (23.1.0)\n",
            "Requirement already satisfied: nbconvert>=5 in /usr/local/lib/python3.11/dist-packages (from notebook>=4.4.1->widgetsnbextension~=3.6.0->ipywidgets>=7.6.5->pycaret) (7.16.6)\n",
            "Requirement already satisfied: Send2Trash>=1.8.0 in /usr/local/lib/python3.11/dist-packages (from notebook>=4.4.1->widgetsnbextension~=3.6.0->ipywidgets>=7.6.5->pycaret) (1.8.3)\n",
            "Requirement already satisfied: terminado>=0.8.3 in /usr/local/lib/python3.11/dist-packages (from notebook>=4.4.1->widgetsnbextension~=3.6.0->ipywidgets>=7.6.5->pycaret) (0.18.1)\n",
            "Requirement already satisfied: prometheus-client in /usr/local/lib/python3.11/dist-packages (from notebook>=4.4.1->widgetsnbextension~=3.6.0->ipywidgets>=7.6.5->pycaret) (0.21.1)\n",
            "Requirement already satisfied: nbclassic>=0.4.7 in /usr/local/lib/python3.11/dist-packages (from notebook>=4.4.1->widgetsnbextension~=3.6.0->ipywidgets>=7.6.5->pycaret) (1.2.0)\n",
            "Requirement already satisfied: notebook-shim>=0.2.3 in /usr/local/lib/python3.11/dist-packages (from nbclassic>=0.4.7->notebook>=4.4.1->widgetsnbextension~=3.6.0->ipywidgets>=7.6.5->pycaret) (0.2.4)\n",
            "Requirement already satisfied: beautifulsoup4 in /usr/local/lib/python3.11/dist-packages (from nbconvert>=5->notebook>=4.4.1->widgetsnbextension~=3.6.0->ipywidgets>=7.6.5->pycaret) (4.13.3)\n",
            "Requirement already satisfied: bleach!=5.0.0 in /usr/local/lib/python3.11/dist-packages (from bleach[css]!=5.0.0->nbconvert>=5->notebook>=4.4.1->widgetsnbextension~=3.6.0->ipywidgets>=7.6.5->pycaret) (6.2.0)\n",
            "Requirement already satisfied: defusedxml in /usr/local/lib/python3.11/dist-packages (from nbconvert>=5->notebook>=4.4.1->widgetsnbextension~=3.6.0->ipywidgets>=7.6.5->pycaret) (0.7.1)\n",
            "Requirement already satisfied: jupyterlab-pygments in /usr/local/lib/python3.11/dist-packages (from nbconvert>=5->notebook>=4.4.1->widgetsnbextension~=3.6.0->ipywidgets>=7.6.5->pycaret) (0.3.0)\n",
            "Requirement already satisfied: mistune<4,>=2.0.3 in /usr/local/lib/python3.11/dist-packages (from nbconvert>=5->notebook>=4.4.1->widgetsnbextension~=3.6.0->ipywidgets>=7.6.5->pycaret) (3.1.2)\n",
            "Requirement already satisfied: nbclient>=0.5.0 in /usr/local/lib/python3.11/dist-packages (from nbconvert>=5->notebook>=4.4.1->widgetsnbextension~=3.6.0->ipywidgets>=7.6.5->pycaret) (0.10.2)\n",
            "Requirement already satisfied: pandocfilters>=1.4.1 in /usr/local/lib/python3.11/dist-packages (from nbconvert>=5->notebook>=4.4.1->widgetsnbextension~=3.6.0->ipywidgets>=7.6.5->pycaret) (1.5.1)\n",
            "Requirement already satisfied: argon2-cffi-bindings in /usr/local/lib/python3.11/dist-packages (from argon2-cffi->notebook>=4.4.1->widgetsnbextension~=3.6.0->ipywidgets>=7.6.5->pycaret) (21.2.0)\n",
            "Requirement already satisfied: webencodings in /usr/local/lib/python3.11/dist-packages (from bleach!=5.0.0->bleach[css]!=5.0.0->nbconvert>=5->notebook>=4.4.1->widgetsnbextension~=3.6.0->ipywidgets>=7.6.5->pycaret) (0.5.1)\n",
            "Requirement already satisfied: tinycss2<1.5,>=1.1.0 in /usr/local/lib/python3.11/dist-packages (from bleach[css]!=5.0.0->nbconvert>=5->notebook>=4.4.1->widgetsnbextension~=3.6.0->ipywidgets>=7.6.5->pycaret) (1.4.0)\n",
            "Requirement already satisfied: jupyter-server<3,>=1.8 in /usr/local/lib/python3.11/dist-packages (from notebook-shim>=0.2.3->nbclassic>=0.4.7->notebook>=4.4.1->widgetsnbextension~=3.6.0->ipywidgets>=7.6.5->pycaret) (1.24.0)\n",
            "Requirement already satisfied: cffi>=1.0.1 in /usr/local/lib/python3.11/dist-packages (from argon2-cffi-bindings->argon2-cffi->notebook>=4.4.1->widgetsnbextension~=3.6.0->ipywidgets>=7.6.5->pycaret) (1.17.1)\n",
            "Requirement already satisfied: soupsieve>1.2 in /usr/local/lib/python3.11/dist-packages (from beautifulsoup4->nbconvert>=5->notebook>=4.4.1->widgetsnbextension~=3.6.0->ipywidgets>=7.6.5->pycaret) (2.6)\n",
            "Requirement already satisfied: pycparser in /usr/local/lib/python3.11/dist-packages (from cffi>=1.0.1->argon2-cffi-bindings->argon2-cffi->notebook>=4.4.1->widgetsnbextension~=3.6.0->ipywidgets>=7.6.5->pycaret) (2.22)\n",
            "Requirement already satisfied: anyio<4,>=3.1.0 in /usr/local/lib/python3.11/dist-packages (from jupyter-server<3,>=1.8->notebook-shim>=0.2.3->nbclassic>=0.4.7->notebook>=4.4.1->widgetsnbextension~=3.6.0->ipywidgets>=7.6.5->pycaret) (3.7.1)\n",
            "Requirement already satisfied: websocket-client in /usr/local/lib/python3.11/dist-packages (from jupyter-server<3,>=1.8->notebook-shim>=0.2.3->nbclassic>=0.4.7->notebook>=4.4.1->widgetsnbextension~=3.6.0->ipywidgets>=7.6.5->pycaret) (1.8.0)\n",
            "Requirement already satisfied: sniffio>=1.1 in /usr/local/lib/python3.11/dist-packages (from anyio<4,>=3.1.0->jupyter-server<3,>=1.8->notebook-shim>=0.2.3->nbclassic>=0.4.7->notebook>=4.4.1->widgetsnbextension~=3.6.0->ipywidgets>=7.6.5->pycaret) (1.3.1)\n",
            "Downloading pycaret-3.3.2-py3-none-any.whl (486 kB)\n",
            "\u001b[2K   \u001b[90m━━━━━━━━━━━━━━━━━━━━━━━━━━━━━━━━━━━━━━━━\u001b[0m \u001b[32m486.1/486.1 kB\u001b[0m \u001b[31m13.6 MB/s\u001b[0m eta \u001b[36m0:00:00\u001b[0m\n",
            "\u001b[?25hDownloading schemdraw-0.15-py3-none-any.whl (106 kB)\n",
            "\u001b[2K   \u001b[90m━━━━━━━━━━━━━━━━━━━━━━━━━━━━━━━━━━━━━━━━\u001b[0m \u001b[32m106.8/106.8 kB\u001b[0m \u001b[31m6.7 MB/s\u001b[0m eta \u001b[36m0:00:00\u001b[0m\n",
            "\u001b[?25hDownloading sktime-0.26.0-py3-none-any.whl (21.8 MB)\n",
            "\u001b[2K   \u001b[90m━━━━━━━━━━━━━━━━━━━━━━━━━━━━━━━━━━━━━━━━\u001b[0m \u001b[32m21.8/21.8 MB\u001b[0m \u001b[31m58.2 MB/s\u001b[0m eta \u001b[36m0:00:00\u001b[0m\n",
            "\u001b[?25hDownloading category_encoders-2.7.0-py3-none-any.whl (85 kB)\n",
            "\u001b[2K   \u001b[90m━━━━━━━━━━━━━━━━━━━━━━━━━━━━━━━━━━━━━━━━\u001b[0m \u001b[32m85.4/85.4 kB\u001b[0m \u001b[31m3.4 MB/s\u001b[0m eta \u001b[36m0:00:00\u001b[0m\n",
            "\u001b[?25hDownloading deprecation-2.1.0-py2.py3-none-any.whl (11 kB)\n",
            "Downloading joblib-1.3.2-py3-none-any.whl (302 kB)\n",
            "\u001b[2K   \u001b[90m━━━━━━━━━━━━━━━━━━━━━━━━━━━━━━━━━━━━━━━━\u001b[0m \u001b[32m302.2/302.2 kB\u001b[0m \u001b[31m16.4 MB/s\u001b[0m eta \u001b[36m0:00:00\u001b[0m\n",
            "\u001b[?25hDownloading kaleido-0.2.1-py2.py3-none-manylinux1_x86_64.whl (79.9 MB)\n",
            "\u001b[2K   \u001b[90m━━━━━━━━━━━━━━━━━━━━━━━━━━━━━━━━━━━━━━━━\u001b[0m \u001b[32m79.9/79.9 MB\u001b[0m \u001b[31m9.0 MB/s\u001b[0m eta \u001b[36m0:00:00\u001b[0m\n",
            "\u001b[?25hDownloading matplotlib-3.7.5-cp311-cp311-manylinux_2_17_x86_64.manylinux2014_x86_64.whl (11.6 MB)\n",
            "\u001b[2K   \u001b[90m━━━━━━━━━━━━━━━━━━━━━━━━━━━━━━━━━━━━━━━━\u001b[0m \u001b[32m11.6/11.6 MB\u001b[0m \u001b[31m65.7 MB/s\u001b[0m eta \u001b[36m0:00:00\u001b[0m\n",
            "\u001b[?25hDownloading pandas-2.1.4-cp311-cp311-manylinux_2_17_x86_64.manylinux2014_x86_64.whl (12.2 MB)\n",
            "\u001b[2K   \u001b[90m━━━━━━━━━━━━━━━━━━━━━━━━━━━━━━━━━━━━━━━━\u001b[0m \u001b[32m12.2/12.2 MB\u001b[0m \u001b[31m80.4 MB/s\u001b[0m eta \u001b[36m0:00:00\u001b[0m\n",
            "\u001b[?25hDownloading plotly_resampler-0.10.0-py3-none-any.whl (80 kB)\n",
            "\u001b[2K   \u001b[90m━━━━━━━━━━━━━━━━━━━━━━━━━━━━━━━━━━━━━━━━\u001b[0m \u001b[32m80.7/80.7 kB\u001b[0m \u001b[31m5.1 MB/s\u001b[0m eta \u001b[36m0:00:00\u001b[0m\n",
            "\u001b[?25hDownloading pmdarima-2.0.4-cp311-cp311-manylinux_2_17_x86_64.manylinux2014_x86_64.manylinux_2_28_x86_64.whl (2.2 MB)\n",
            "\u001b[2K   \u001b[90m━━━━━━━━━━━━━━━━━━━━━━━━━━━━━━━━━━━━━━━━\u001b[0m \u001b[32m2.2/2.2 MB\u001b[0m \u001b[31m67.6 MB/s\u001b[0m eta \u001b[36m0:00:00\u001b[0m\n",
            "\u001b[?25hDownloading scikit_learn-1.4.2-cp311-cp311-manylinux_2_17_x86_64.manylinux2014_x86_64.whl (12.1 MB)\n",
            "\u001b[2K   \u001b[90m━━━━━━━━━━━━━━━━━━━━━━━━━━━━━━━━━━━━━━━━\u001b[0m \u001b[32m12.1/12.1 MB\u001b[0m \u001b[31m75.2 MB/s\u001b[0m eta \u001b[36m0:00:00\u001b[0m\n",
            "\u001b[?25hDownloading scikit_plot-0.3.7-py3-none-any.whl (33 kB)\n",
            "Downloading scipy-1.11.4-cp311-cp311-manylinux_2_17_x86_64.manylinux2014_x86_64.whl (36.4 MB)\n",
            "\u001b[2K   \u001b[90m━━━━━━━━━━━━━━━━━━━━━━━━━━━━━━━━━━━━━━━━\u001b[0m \u001b[32m36.4/36.4 MB\u001b[0m \u001b[31m13.3 MB/s\u001b[0m eta \u001b[36m0:00:00\u001b[0m\n",
            "\u001b[?25hDownloading tbats-1.1.3-py3-none-any.whl (44 kB)\n",
            "\u001b[2K   \u001b[90m━━━━━━━━━━━━━━━━━━━━━━━━━━━━━━━━━━━━━━━━\u001b[0m \u001b[32m44.0/44.0 kB\u001b[0m \u001b[31m1.8 MB/s\u001b[0m eta \u001b[36m0:00:00\u001b[0m\n",
            "\u001b[?25hDownloading wurlitzer-3.1.1-py3-none-any.whl (8.6 kB)\n",
            "Downloading xxhash-3.5.0-cp311-cp311-manylinux_2_17_x86_64.manylinux2014_x86_64.whl (194 kB)\n",
            "\u001b[2K   \u001b[90m━━━━━━━━━━━━━━━━━━━━━━━━━━━━━━━━━━━━━━━━\u001b[0m \u001b[32m194.8/194.8 kB\u001b[0m \u001b[31m13.5 MB/s\u001b[0m eta \u001b[36m0:00:00\u001b[0m\n",
            "\u001b[?25hDownloading dash-2.18.2-py3-none-any.whl (7.8 MB)\n",
            "\u001b[2K   \u001b[90m━━━━━━━━━━━━━━━━━━━━━━━━━━━━━━━━━━━━━━━━\u001b[0m \u001b[32m7.8/7.8 MB\u001b[0m \u001b[31m87.5 MB/s\u001b[0m eta \u001b[36m0:00:00\u001b[0m\n",
            "\u001b[?25hDownloading dash_core_components-2.0.0-py3-none-any.whl (3.8 kB)\n",
            "Downloading dash_html_components-2.0.0-py3-none-any.whl (4.1 kB)\n",
            "Downloading dash_table-5.0.0-py3-none-any.whl (3.9 kB)\n",
            "Downloading jedi-0.19.2-py2.py3-none-any.whl (1.6 MB)\n",
            "\u001b[2K   \u001b[90m━━━━━━━━━━━━━━━━━━━━━━━━━━━━━━━━━━━━━━━━\u001b[0m \u001b[32m1.6/1.6 MB\u001b[0m \u001b[31m60.9 MB/s\u001b[0m eta \u001b[36m0:00:00\u001b[0m\n",
            "\u001b[?25hDownloading scikit_base-0.7.8-py3-none-any.whl (130 kB)\n",
            "\u001b[2K   \u001b[90m━━━━━━━━━━━━━━━━━━━━━━━━━━━━━━━━━━━━━━━━\u001b[0m \u001b[32m130.1/130.1 kB\u001b[0m \u001b[31m8.1 MB/s\u001b[0m eta \u001b[36m0:00:00\u001b[0m\n",
            "\u001b[?25hDownloading tsdownsample-0.1.4.1-cp311-cp311-manylinux_2_17_x86_64.manylinux2014_x86_64.whl (1.3 MB)\n",
            "\u001b[2K   \u001b[90m━━━━━━━━━━━━━━━━━━━━━━━━━━━━━━━━━━━━━━━━\u001b[0m \u001b[32m1.3/1.3 MB\u001b[0m \u001b[31m42.5 MB/s\u001b[0m eta \u001b[36m0:00:00\u001b[0m\n",
            "\u001b[?25hDownloading flask-3.0.3-py3-none-any.whl (101 kB)\n",
            "\u001b[2K   \u001b[90m━━━━━━━━━━━━━━━━━━━━━━━━━━━━━━━━━━━━━━━━\u001b[0m \u001b[32m101.7/101.7 kB\u001b[0m \u001b[31m5.8 MB/s\u001b[0m eta \u001b[36m0:00:00\u001b[0m\n",
            "\u001b[?25hDownloading werkzeug-3.0.6-py3-none-any.whl (227 kB)\n",
            "\u001b[2K   \u001b[90m━━━━━━━━━━━━━━━━━━━━━━━━━━━━━━━━━━━━━━━━\u001b[0m \u001b[32m228.0/228.0 kB\u001b[0m \u001b[31m12.7 MB/s\u001b[0m eta \u001b[36m0:00:00\u001b[0m\n",
            "\u001b[?25hDownloading retrying-1.3.4-py3-none-any.whl (11 kB)\n",
            "Building wheels for collected packages: pyod\n",
            "  Building wheel for pyod (setup.py) ... \u001b[?25l\u001b[?25hdone\n",
            "  Created wheel for pyod: filename=pyod-2.0.3-py3-none-any.whl size=200466 sha256=7ed3e79b5d1d329562b11c44942022b01217fbaee6ebed62d96aa5345c82f884\n",
            "  Stored in directory: /root/.cache/pip/wheels/2d/60/5b/f74eccd2c9c892a2c298202ca510f10995f9940647fcc2d97f\n",
            "Successfully built pyod\n",
            "Installing collected packages: kaleido, dash-table, dash-html-components, dash-core-components, xxhash, wurlitzer, Werkzeug, tsdownsample, scipy, scikit-base, schemdraw, retrying, joblib, jedi, deprecation, scikit-learn, pandas, matplotlib, Flask, sktime, scikit-plot, pyod, dash, pmdarima, plotly-resampler, category-encoders, tbats, pycaret\n",
            "  Attempting uninstall: Werkzeug\n",
            "    Found existing installation: Werkzeug 3.1.3\n",
            "    Uninstalling Werkzeug-3.1.3:\n",
            "      Successfully uninstalled Werkzeug-3.1.3\n",
            "  Attempting uninstall: scipy\n",
            "    Found existing installation: scipy 1.13.1\n",
            "    Uninstalling scipy-1.13.1:\n",
            "      Successfully uninstalled scipy-1.13.1\n",
            "  Attempting uninstall: joblib\n",
            "    Found existing installation: joblib 1.4.2\n",
            "    Uninstalling joblib-1.4.2:\n",
            "      Successfully uninstalled joblib-1.4.2\n",
            "  Attempting uninstall: scikit-learn\n",
            "    Found existing installation: scikit-learn 1.6.1\n",
            "    Uninstalling scikit-learn-1.6.1:\n",
            "      Successfully uninstalled scikit-learn-1.6.1\n",
            "  Attempting uninstall: pandas\n",
            "    Found existing installation: pandas 2.2.2\n",
            "    Uninstalling pandas-2.2.2:\n",
            "      Successfully uninstalled pandas-2.2.2\n",
            "  Attempting uninstall: matplotlib\n",
            "    Found existing installation: matplotlib 3.10.0\n",
            "    Uninstalling matplotlib-3.10.0:\n",
            "      Successfully uninstalled matplotlib-3.10.0\n",
            "  Attempting uninstall: Flask\n",
            "    Found existing installation: Flask 3.1.0\n",
            "    Uninstalling Flask-3.1.0:\n",
            "      Successfully uninstalled Flask-3.1.0\n",
            "\u001b[31mERROR: pip's dependency resolver does not currently take into account all the packages that are installed. This behaviour is the source of the following dependency conflicts.\n",
            "google-colab 1.0.0 requires pandas==2.2.2, but you have pandas 2.1.4 which is incompatible.\n",
            "mizani 0.13.1 requires pandas>=2.2.0, but you have pandas 2.1.4 which is incompatible.\n",
            "plotnine 0.14.5 requires matplotlib>=3.8.0, but you have matplotlib 3.7.5 which is incompatible.\n",
            "plotnine 0.14.5 requires pandas>=2.2.0, but you have pandas 2.1.4 which is incompatible.\u001b[0m\u001b[31m\n",
            "\u001b[0mSuccessfully installed Flask-3.0.3 Werkzeug-3.0.6 category-encoders-2.7.0 dash-2.18.2 dash-core-components-2.0.0 dash-html-components-2.0.0 dash-table-5.0.0 deprecation-2.1.0 jedi-0.19.2 joblib-1.3.2 kaleido-0.2.1 matplotlib-3.7.5 pandas-2.1.4 plotly-resampler-0.10.0 pmdarima-2.0.4 pycaret-3.3.2 pyod-2.0.3 retrying-1.3.4 schemdraw-0.15 scikit-base-0.7.8 scikit-learn-1.4.2 scikit-plot-0.3.7 scipy-1.11.4 sktime-0.26.0 tbats-1.1.3 tsdownsample-0.1.4.1 wurlitzer-3.1.1 xxhash-3.5.0\n"
          ]
        },
        {
          "output_type": "display_data",
          "data": {
            "application/vnd.colab-display-data+json": {
              "pip_warning": {
                "packages": [
                  "matplotlib",
                  "mpl_toolkits"
                ]
              },
              "id": "e65dce3c173a46169ccfb5594db74ed4"
            }
          },
          "metadata": {}
        }
      ],
      "source": [
        "!pip install pycaret"
      ]
    },
    {
      "cell_type": "code",
      "source": [
        "import pandas as pd\n",
        "import numpy as np\n",
        "import matplotlib.pyplot as plt\n",
        "from sklearn.metrics import r2_score\n",
        "\n",
        "from pycaret.time_series import *\n",
        "\n",
        "import warnings\n",
        "warnings.filterwarnings('ignore')"
      ],
      "metadata": {
        "id": "lWsenVwYT42R"
      },
      "execution_count": null,
      "outputs": []
    },
    {
      "cell_type": "code",
      "source": [
        "df = pd.read_csv(\"https://raw.githubusercontent.com/PJalgotrader/Deep_forecasting-USU/main/data/US_macro_Quarterly.csv\", index_col=0)\n",
        "df.head()"
      ],
      "metadata": {
        "colab": {
          "base_uri": "https://localhost:8080/",
          "height": 206
        },
        "id": "00Px_IwYTm_J",
        "outputId": "4bb2c316-900e-4c9f-f030-72992eb8b59b"
      },
      "execution_count": null,
      "outputs": [
        {
          "output_type": "execute_result",
          "data": {
            "text/plain": [
              "             realgdp  realcons  realinv  realgovt  realdpi    cpi     m1  \\\n",
              "1959-03-31  2710.349    1707.4  286.898   470.045   1886.9  28.98  139.7   \n",
              "1959-06-30  2778.801    1733.7  310.859   481.301   1919.7  29.15  141.7   \n",
              "1959-09-30  2775.488    1751.8  289.226   491.260   1916.4  29.35  140.5   \n",
              "1959-12-31  2785.204    1753.7  299.356   484.052   1931.3  29.37  140.0   \n",
              "1960-03-31  2847.699    1770.5  331.722   462.199   1955.5  29.54  139.6   \n",
              "\n",
              "            tbilrate  unemp      pop  infl  realint  \n",
              "1959-03-31      2.82    5.8  177.146  0.00     0.00  \n",
              "1959-06-30      3.08    5.1  177.830  2.34     0.74  \n",
              "1959-09-30      3.82    5.3  178.657  2.74     1.09  \n",
              "1959-12-31      4.33    5.6  179.386  0.27     4.06  \n",
              "1960-03-31      3.50    5.2  180.007  2.31     1.19  "
            ],
            "text/html": [
              "\n",
              "  <div id=\"df-e9f266d7-a38a-4a8e-a17f-598f6099dc89\" class=\"colab-df-container\">\n",
              "    <div>\n",
              "<style scoped>\n",
              "    .dataframe tbody tr th:only-of-type {\n",
              "        vertical-align: middle;\n",
              "    }\n",
              "\n",
              "    .dataframe tbody tr th {\n",
              "        vertical-align: top;\n",
              "    }\n",
              "\n",
              "    .dataframe thead th {\n",
              "        text-align: right;\n",
              "    }\n",
              "</style>\n",
              "<table border=\"1\" class=\"dataframe\">\n",
              "  <thead>\n",
              "    <tr style=\"text-align: right;\">\n",
              "      <th></th>\n",
              "      <th>realgdp</th>\n",
              "      <th>realcons</th>\n",
              "      <th>realinv</th>\n",
              "      <th>realgovt</th>\n",
              "      <th>realdpi</th>\n",
              "      <th>cpi</th>\n",
              "      <th>m1</th>\n",
              "      <th>tbilrate</th>\n",
              "      <th>unemp</th>\n",
              "      <th>pop</th>\n",
              "      <th>infl</th>\n",
              "      <th>realint</th>\n",
              "    </tr>\n",
              "  </thead>\n",
              "  <tbody>\n",
              "    <tr>\n",
              "      <th>1959-03-31</th>\n",
              "      <td>2710.349</td>\n",
              "      <td>1707.4</td>\n",
              "      <td>286.898</td>\n",
              "      <td>470.045</td>\n",
              "      <td>1886.9</td>\n",
              "      <td>28.98</td>\n",
              "      <td>139.7</td>\n",
              "      <td>2.82</td>\n",
              "      <td>5.8</td>\n",
              "      <td>177.146</td>\n",
              "      <td>0.00</td>\n",
              "      <td>0.00</td>\n",
              "    </tr>\n",
              "    <tr>\n",
              "      <th>1959-06-30</th>\n",
              "      <td>2778.801</td>\n",
              "      <td>1733.7</td>\n",
              "      <td>310.859</td>\n",
              "      <td>481.301</td>\n",
              "      <td>1919.7</td>\n",
              "      <td>29.15</td>\n",
              "      <td>141.7</td>\n",
              "      <td>3.08</td>\n",
              "      <td>5.1</td>\n",
              "      <td>177.830</td>\n",
              "      <td>2.34</td>\n",
              "      <td>0.74</td>\n",
              "    </tr>\n",
              "    <tr>\n",
              "      <th>1959-09-30</th>\n",
              "      <td>2775.488</td>\n",
              "      <td>1751.8</td>\n",
              "      <td>289.226</td>\n",
              "      <td>491.260</td>\n",
              "      <td>1916.4</td>\n",
              "      <td>29.35</td>\n",
              "      <td>140.5</td>\n",
              "      <td>3.82</td>\n",
              "      <td>5.3</td>\n",
              "      <td>178.657</td>\n",
              "      <td>2.74</td>\n",
              "      <td>1.09</td>\n",
              "    </tr>\n",
              "    <tr>\n",
              "      <th>1959-12-31</th>\n",
              "      <td>2785.204</td>\n",
              "      <td>1753.7</td>\n",
              "      <td>299.356</td>\n",
              "      <td>484.052</td>\n",
              "      <td>1931.3</td>\n",
              "      <td>29.37</td>\n",
              "      <td>140.0</td>\n",
              "      <td>4.33</td>\n",
              "      <td>5.6</td>\n",
              "      <td>179.386</td>\n",
              "      <td>0.27</td>\n",
              "      <td>4.06</td>\n",
              "    </tr>\n",
              "    <tr>\n",
              "      <th>1960-03-31</th>\n",
              "      <td>2847.699</td>\n",
              "      <td>1770.5</td>\n",
              "      <td>331.722</td>\n",
              "      <td>462.199</td>\n",
              "      <td>1955.5</td>\n",
              "      <td>29.54</td>\n",
              "      <td>139.6</td>\n",
              "      <td>3.50</td>\n",
              "      <td>5.2</td>\n",
              "      <td>180.007</td>\n",
              "      <td>2.31</td>\n",
              "      <td>1.19</td>\n",
              "    </tr>\n",
              "  </tbody>\n",
              "</table>\n",
              "</div>\n",
              "    <div class=\"colab-df-buttons\">\n",
              "\n",
              "  <div class=\"colab-df-container\">\n",
              "    <button class=\"colab-df-convert\" onclick=\"convertToInteractive('df-e9f266d7-a38a-4a8e-a17f-598f6099dc89')\"\n",
              "            title=\"Convert this dataframe to an interactive table.\"\n",
              "            style=\"display:none;\">\n",
              "\n",
              "  <svg xmlns=\"http://www.w3.org/2000/svg\" height=\"24px\" viewBox=\"0 -960 960 960\">\n",
              "    <path d=\"M120-120v-720h720v720H120Zm60-500h600v-160H180v160Zm220 220h160v-160H400v160Zm0 220h160v-160H400v160ZM180-400h160v-160H180v160Zm440 0h160v-160H620v160ZM180-180h160v-160H180v160Zm440 0h160v-160H620v160Z\"/>\n",
              "  </svg>\n",
              "    </button>\n",
              "\n",
              "  <style>\n",
              "    .colab-df-container {\n",
              "      display:flex;\n",
              "      gap: 12px;\n",
              "    }\n",
              "\n",
              "    .colab-df-convert {\n",
              "      background-color: #E8F0FE;\n",
              "      border: none;\n",
              "      border-radius: 50%;\n",
              "      cursor: pointer;\n",
              "      display: none;\n",
              "      fill: #1967D2;\n",
              "      height: 32px;\n",
              "      padding: 0 0 0 0;\n",
              "      width: 32px;\n",
              "    }\n",
              "\n",
              "    .colab-df-convert:hover {\n",
              "      background-color: #E2EBFA;\n",
              "      box-shadow: 0px 1px 2px rgba(60, 64, 67, 0.3), 0px 1px 3px 1px rgba(60, 64, 67, 0.15);\n",
              "      fill: #174EA6;\n",
              "    }\n",
              "\n",
              "    .colab-df-buttons div {\n",
              "      margin-bottom: 4px;\n",
              "    }\n",
              "\n",
              "    [theme=dark] .colab-df-convert {\n",
              "      background-color: #3B4455;\n",
              "      fill: #D2E3FC;\n",
              "    }\n",
              "\n",
              "    [theme=dark] .colab-df-convert:hover {\n",
              "      background-color: #434B5C;\n",
              "      box-shadow: 0px 1px 3px 1px rgba(0, 0, 0, 0.15);\n",
              "      filter: drop-shadow(0px 1px 2px rgba(0, 0, 0, 0.3));\n",
              "      fill: #FFFFFF;\n",
              "    }\n",
              "  </style>\n",
              "\n",
              "    <script>\n",
              "      const buttonEl =\n",
              "        document.querySelector('#df-e9f266d7-a38a-4a8e-a17f-598f6099dc89 button.colab-df-convert');\n",
              "      buttonEl.style.display =\n",
              "        google.colab.kernel.accessAllowed ? 'block' : 'none';\n",
              "\n",
              "      async function convertToInteractive(key) {\n",
              "        const element = document.querySelector('#df-e9f266d7-a38a-4a8e-a17f-598f6099dc89');\n",
              "        const dataTable =\n",
              "          await google.colab.kernel.invokeFunction('convertToInteractive',\n",
              "                                                    [key], {});\n",
              "        if (!dataTable) return;\n",
              "\n",
              "        const docLinkHtml = 'Like what you see? Visit the ' +\n",
              "          '<a target=\"_blank\" href=https://colab.research.google.com/notebooks/data_table.ipynb>data table notebook</a>'\n",
              "          + ' to learn more about interactive tables.';\n",
              "        element.innerHTML = '';\n",
              "        dataTable['output_type'] = 'display_data';\n",
              "        await google.colab.output.renderOutput(dataTable, element);\n",
              "        const docLink = document.createElement('div');\n",
              "        docLink.innerHTML = docLinkHtml;\n",
              "        element.appendChild(docLink);\n",
              "      }\n",
              "    </script>\n",
              "  </div>\n",
              "\n",
              "\n",
              "<div id=\"df-52d661b3-3723-40b6-8798-761dc81857ba\">\n",
              "  <button class=\"colab-df-quickchart\" onclick=\"quickchart('df-52d661b3-3723-40b6-8798-761dc81857ba')\"\n",
              "            title=\"Suggest charts\"\n",
              "            style=\"display:none;\">\n",
              "\n",
              "<svg xmlns=\"http://www.w3.org/2000/svg\" height=\"24px\"viewBox=\"0 0 24 24\"\n",
              "     width=\"24px\">\n",
              "    <g>\n",
              "        <path d=\"M19 3H5c-1.1 0-2 .9-2 2v14c0 1.1.9 2 2 2h14c1.1 0 2-.9 2-2V5c0-1.1-.9-2-2-2zM9 17H7v-7h2v7zm4 0h-2V7h2v10zm4 0h-2v-4h2v4z\"/>\n",
              "    </g>\n",
              "</svg>\n",
              "  </button>\n",
              "\n",
              "<style>\n",
              "  .colab-df-quickchart {\n",
              "      --bg-color: #E8F0FE;\n",
              "      --fill-color: #1967D2;\n",
              "      --hover-bg-color: #E2EBFA;\n",
              "      --hover-fill-color: #174EA6;\n",
              "      --disabled-fill-color: #AAA;\n",
              "      --disabled-bg-color: #DDD;\n",
              "  }\n",
              "\n",
              "  [theme=dark] .colab-df-quickchart {\n",
              "      --bg-color: #3B4455;\n",
              "      --fill-color: #D2E3FC;\n",
              "      --hover-bg-color: #434B5C;\n",
              "      --hover-fill-color: #FFFFFF;\n",
              "      --disabled-bg-color: #3B4455;\n",
              "      --disabled-fill-color: #666;\n",
              "  }\n",
              "\n",
              "  .colab-df-quickchart {\n",
              "    background-color: var(--bg-color);\n",
              "    border: none;\n",
              "    border-radius: 50%;\n",
              "    cursor: pointer;\n",
              "    display: none;\n",
              "    fill: var(--fill-color);\n",
              "    height: 32px;\n",
              "    padding: 0;\n",
              "    width: 32px;\n",
              "  }\n",
              "\n",
              "  .colab-df-quickchart:hover {\n",
              "    background-color: var(--hover-bg-color);\n",
              "    box-shadow: 0 1px 2px rgba(60, 64, 67, 0.3), 0 1px 3px 1px rgba(60, 64, 67, 0.15);\n",
              "    fill: var(--button-hover-fill-color);\n",
              "  }\n",
              "\n",
              "  .colab-df-quickchart-complete:disabled,\n",
              "  .colab-df-quickchart-complete:disabled:hover {\n",
              "    background-color: var(--disabled-bg-color);\n",
              "    fill: var(--disabled-fill-color);\n",
              "    box-shadow: none;\n",
              "  }\n",
              "\n",
              "  .colab-df-spinner {\n",
              "    border: 2px solid var(--fill-color);\n",
              "    border-color: transparent;\n",
              "    border-bottom-color: var(--fill-color);\n",
              "    animation:\n",
              "      spin 1s steps(1) infinite;\n",
              "  }\n",
              "\n",
              "  @keyframes spin {\n",
              "    0% {\n",
              "      border-color: transparent;\n",
              "      border-bottom-color: var(--fill-color);\n",
              "      border-left-color: var(--fill-color);\n",
              "    }\n",
              "    20% {\n",
              "      border-color: transparent;\n",
              "      border-left-color: var(--fill-color);\n",
              "      border-top-color: var(--fill-color);\n",
              "    }\n",
              "    30% {\n",
              "      border-color: transparent;\n",
              "      border-left-color: var(--fill-color);\n",
              "      border-top-color: var(--fill-color);\n",
              "      border-right-color: var(--fill-color);\n",
              "    }\n",
              "    40% {\n",
              "      border-color: transparent;\n",
              "      border-right-color: var(--fill-color);\n",
              "      border-top-color: var(--fill-color);\n",
              "    }\n",
              "    60% {\n",
              "      border-color: transparent;\n",
              "      border-right-color: var(--fill-color);\n",
              "    }\n",
              "    80% {\n",
              "      border-color: transparent;\n",
              "      border-right-color: var(--fill-color);\n",
              "      border-bottom-color: var(--fill-color);\n",
              "    }\n",
              "    90% {\n",
              "      border-color: transparent;\n",
              "      border-bottom-color: var(--fill-color);\n",
              "    }\n",
              "  }\n",
              "</style>\n",
              "\n",
              "  <script>\n",
              "    async function quickchart(key) {\n",
              "      const quickchartButtonEl =\n",
              "        document.querySelector('#' + key + ' button');\n",
              "      quickchartButtonEl.disabled = true;  // To prevent multiple clicks.\n",
              "      quickchartButtonEl.classList.add('colab-df-spinner');\n",
              "      try {\n",
              "        const charts = await google.colab.kernel.invokeFunction(\n",
              "            'suggestCharts', [key], {});\n",
              "      } catch (error) {\n",
              "        console.error('Error during call to suggestCharts:', error);\n",
              "      }\n",
              "      quickchartButtonEl.classList.remove('colab-df-spinner');\n",
              "      quickchartButtonEl.classList.add('colab-df-quickchart-complete');\n",
              "    }\n",
              "    (() => {\n",
              "      let quickchartButtonEl =\n",
              "        document.querySelector('#df-52d661b3-3723-40b6-8798-761dc81857ba button');\n",
              "      quickchartButtonEl.style.display =\n",
              "        google.colab.kernel.accessAllowed ? 'block' : 'none';\n",
              "    })();\n",
              "  </script>\n",
              "</div>\n",
              "\n",
              "    </div>\n",
              "  </div>\n"
            ],
            "application/vnd.google.colaboratory.intrinsic+json": {
              "type": "dataframe",
              "variable_name": "df",
              "summary": "{\n  \"name\": \"df\",\n  \"rows\": 203,\n  \"fields\": [\n    {\n      \"column\": \"realgdp\",\n      \"properties\": {\n        \"dtype\": \"number\",\n        \"std\": 3214.956043957167,\n        \"min\": 2710.349,\n        \"max\": 13415.266,\n        \"num_unique_values\": 203,\n        \"samples\": [\n          3100.563,\n          2872.005,\n          7458.022\n        ],\n        \"semantic_type\": \"\",\n        \"description\": \"\"\n      }\n    },\n    {\n      \"column\": \"realcons\",\n      \"properties\": {\n        \"dtype\": \"number\",\n        \"std\": 2313.3461921434673,\n        \"min\": 1707.4,\n        \"max\": 9363.6,\n        \"num_unique_values\": 202,\n        \"samples\": [\n          3986.6,\n          1945.1,\n          2381.5\n        ],\n        \"semantic_type\": \"\",\n        \"description\": \"\"\n      }\n    },\n    {\n      \"column\": \"realinv\",\n      \"properties\": {\n        \"dtype\": \"number\",\n        \"std\": 585.1022673538571,\n        \"min\": 259.764,\n        \"max\": 2264.721,\n        \"num_unique_values\": 203,\n        \"samples\": [\n          325.65,\n          286.246,\n          1021.98\n        ],\n        \"semantic_type\": \"\",\n        \"description\": \"\"\n      }\n    },\n    {\n      \"column\": \"realgovt\",\n      \"properties\": {\n        \"dtype\": \"number\",\n        \"std\": 140.8636547185507,\n        \"min\": 460.4,\n        \"max\": 1044.088,\n        \"num_unique_values\": 203,\n        \"samples\": [\n          535.912,\n          480.328,\n          795.467\n        ],\n        \"semantic_type\": \"\",\n        \"description\": \"\"\n      }\n    },\n    {\n      \"column\": \"realdpi\",\n      \"properties\": {\n        \"dtype\": \"number\",\n        \"std\": 2423.51597676942,\n        \"min\": 1886.9,\n        \"max\": 10077.5,\n        \"num_unique_values\": 203,\n        \"samples\": [\n          2154.6,\n          2014.4,\n          5493.1\n        ],\n        \"semantic_type\": \"\",\n        \"description\": \"\"\n      }\n    },\n    {\n      \"column\": \"cpi\",\n      \"properties\": {\n        \"dtype\": \"number\",\n        \"std\": 61.2788777293754,\n        \"min\": 28.98,\n        \"max\": 218.61,\n        \"num_unique_values\": 203,\n        \"samples\": [\n          30.44,\n          29.92,\n          116.0\n        ],\n        \"semantic_type\": \"\",\n        \"description\": \"\"\n      }\n    },\n    {\n      \"column\": \"m1\",\n      \"properties\": {\n        \"dtype\": \"number\",\n        \"std\": 455.3463814032304,\n        \"min\": 139.6,\n        \"max\": 1673.9,\n        \"num_unique_values\": 200,\n        \"samples\": [\n          477.2,\n          148.3,\n          171.2\n        ],\n        \"semantic_type\": \"\",\n        \"description\": \"\"\n      }\n    },\n    {\n      \"column\": \"tbilrate\",\n      \"properties\": {\n        \"dtype\": \"number\",\n        \"std\": 2.8030707715607166,\n        \"min\": 0.12,\n        \"max\": 15.33,\n        \"num_unique_values\": 183,\n        \"samples\": [\n          3.47,\n          6.66,\n          5.7\n        ],\n        \"semantic_type\": \"\",\n        \"description\": \"\"\n      }\n    },\n    {\n      \"column\": \"unemp\",\n      \"properties\": {\n        \"dtype\": \"number\",\n        \"std\": 1.4585742735215175,\n        \"min\": 3.4,\n        \"max\": 10.7,\n        \"num_unique_values\": 56,\n        \"samples\": [\n          5.8,\n          6.3,\n          7.8\n        ],\n        \"semantic_type\": \"\",\n        \"description\": \"\"\n      }\n    },\n    {\n      \"column\": \"pop\",\n      \"properties\": {\n        \"dtype\": \"number\",\n        \"std\": 37.39044963546054,\n        \"min\": 177.146,\n        \"max\": 308.013,\n        \"num_unique_values\": 203,\n        \"samples\": [\n          188.013,\n          183.691,\n          243.981\n        ],\n        \"semantic_type\": \"\",\n        \"description\": \"\"\n      }\n    },\n    {\n      \"column\": \"infl\",\n      \"properties\": {\n        \"dtype\": \"number\",\n        \"std\": 3.253216489743969,\n        \"min\": -8.79,\n        \"max\": 14.62,\n        \"num_unique_values\": 179,\n        \"samples\": [\n          13.37,\n          2.75,\n          2.14\n        ],\n        \"semantic_type\": \"\",\n        \"description\": \"\"\n      }\n    },\n    {\n      \"column\": \"realint\",\n      \"properties\": {\n        \"dtype\": \"number\",\n        \"std\": 2.668798647618167,\n        \"min\": -6.79,\n        \"max\": 10.95,\n        \"num_unique_values\": 177,\n        \"samples\": [\n          1.06,\n          -0.19,\n          1.49\n        ],\n        \"semantic_type\": \"\",\n        \"description\": \"\"\n      }\n    }\n  ]\n}"
            }
          },
          "metadata": {},
          "execution_count": 2
        }
      ]
    },
    {
      "cell_type": "markdown",
      "source": [
        "### 2"
      ],
      "metadata": {
        "id": "2vGP7ra7ZjpK"
      }
    },
    {
      "cell_type": "code",
      "source": [
        "df.index = pd.to_datetime(df.index).to_period('Q')\n",
        "df.index"
      ],
      "metadata": {
        "colab": {
          "base_uri": "https://localhost:8080/"
        },
        "id": "HhmxdqXwUVCu",
        "outputId": "279589b8-5b44-47ce-853a-a241dff0414b"
      },
      "execution_count": null,
      "outputs": [
        {
          "output_type": "execute_result",
          "data": {
            "text/plain": [
              "PeriodIndex(['1959Q1', '1959Q2', '1959Q3', '1959Q4', '1960Q1', '1960Q2',\n",
              "             '1960Q3', '1960Q4', '1961Q1', '1961Q2',\n",
              "             ...\n",
              "             '2007Q2', '2007Q3', '2007Q4', '2008Q1', '2008Q2', '2008Q3',\n",
              "             '2008Q4', '2009Q1', '2009Q2', '2009Q3'],\n",
              "            dtype='period[Q-DEC]', length=203)"
            ]
          },
          "metadata": {},
          "execution_count": 3
        }
      ]
    },
    {
      "cell_type": "markdown",
      "source": [
        "### 3"
      ],
      "metadata": {
        "id": "Asced36LZlBC"
      }
    },
    {
      "cell_type": "code",
      "source": [
        "df = df.loc[:, ['cpi']]\n",
        "df.head()"
      ],
      "metadata": {
        "colab": {
          "base_uri": "https://localhost:8080/",
          "height": 206
        },
        "id": "l9R39zMXUt7q",
        "outputId": "6f52e048-194c-4171-b200-1588e5460fe1"
      },
      "execution_count": null,
      "outputs": [
        {
          "output_type": "execute_result",
          "data": {
            "text/plain": [
              "          cpi\n",
              "1959Q1  28.98\n",
              "1959Q2  29.15\n",
              "1959Q3  29.35\n",
              "1959Q4  29.37\n",
              "1960Q1  29.54"
            ],
            "text/html": [
              "\n",
              "  <div id=\"df-79a83f77-d982-4e4a-8078-cba269ac9048\" class=\"colab-df-container\">\n",
              "    <div>\n",
              "<style scoped>\n",
              "    .dataframe tbody tr th:only-of-type {\n",
              "        vertical-align: middle;\n",
              "    }\n",
              "\n",
              "    .dataframe tbody tr th {\n",
              "        vertical-align: top;\n",
              "    }\n",
              "\n",
              "    .dataframe thead th {\n",
              "        text-align: right;\n",
              "    }\n",
              "</style>\n",
              "<table border=\"1\" class=\"dataframe\">\n",
              "  <thead>\n",
              "    <tr style=\"text-align: right;\">\n",
              "      <th></th>\n",
              "      <th>cpi</th>\n",
              "    </tr>\n",
              "  </thead>\n",
              "  <tbody>\n",
              "    <tr>\n",
              "      <th>1959Q1</th>\n",
              "      <td>28.98</td>\n",
              "    </tr>\n",
              "    <tr>\n",
              "      <th>1959Q2</th>\n",
              "      <td>29.15</td>\n",
              "    </tr>\n",
              "    <tr>\n",
              "      <th>1959Q3</th>\n",
              "      <td>29.35</td>\n",
              "    </tr>\n",
              "    <tr>\n",
              "      <th>1959Q4</th>\n",
              "      <td>29.37</td>\n",
              "    </tr>\n",
              "    <tr>\n",
              "      <th>1960Q1</th>\n",
              "      <td>29.54</td>\n",
              "    </tr>\n",
              "  </tbody>\n",
              "</table>\n",
              "</div>\n",
              "    <div class=\"colab-df-buttons\">\n",
              "\n",
              "  <div class=\"colab-df-container\">\n",
              "    <button class=\"colab-df-convert\" onclick=\"convertToInteractive('df-79a83f77-d982-4e4a-8078-cba269ac9048')\"\n",
              "            title=\"Convert this dataframe to an interactive table.\"\n",
              "            style=\"display:none;\">\n",
              "\n",
              "  <svg xmlns=\"http://www.w3.org/2000/svg\" height=\"24px\" viewBox=\"0 -960 960 960\">\n",
              "    <path d=\"M120-120v-720h720v720H120Zm60-500h600v-160H180v160Zm220 220h160v-160H400v160Zm0 220h160v-160H400v160ZM180-400h160v-160H180v160Zm440 0h160v-160H620v160ZM180-180h160v-160H180v160Zm440 0h160v-160H620v160Z\"/>\n",
              "  </svg>\n",
              "    </button>\n",
              "\n",
              "  <style>\n",
              "    .colab-df-container {\n",
              "      display:flex;\n",
              "      gap: 12px;\n",
              "    }\n",
              "\n",
              "    .colab-df-convert {\n",
              "      background-color: #E8F0FE;\n",
              "      border: none;\n",
              "      border-radius: 50%;\n",
              "      cursor: pointer;\n",
              "      display: none;\n",
              "      fill: #1967D2;\n",
              "      height: 32px;\n",
              "      padding: 0 0 0 0;\n",
              "      width: 32px;\n",
              "    }\n",
              "\n",
              "    .colab-df-convert:hover {\n",
              "      background-color: #E2EBFA;\n",
              "      box-shadow: 0px 1px 2px rgba(60, 64, 67, 0.3), 0px 1px 3px 1px rgba(60, 64, 67, 0.15);\n",
              "      fill: #174EA6;\n",
              "    }\n",
              "\n",
              "    .colab-df-buttons div {\n",
              "      margin-bottom: 4px;\n",
              "    }\n",
              "\n",
              "    [theme=dark] .colab-df-convert {\n",
              "      background-color: #3B4455;\n",
              "      fill: #D2E3FC;\n",
              "    }\n",
              "\n",
              "    [theme=dark] .colab-df-convert:hover {\n",
              "      background-color: #434B5C;\n",
              "      box-shadow: 0px 1px 3px 1px rgba(0, 0, 0, 0.15);\n",
              "      filter: drop-shadow(0px 1px 2px rgba(0, 0, 0, 0.3));\n",
              "      fill: #FFFFFF;\n",
              "    }\n",
              "  </style>\n",
              "\n",
              "    <script>\n",
              "      const buttonEl =\n",
              "        document.querySelector('#df-79a83f77-d982-4e4a-8078-cba269ac9048 button.colab-df-convert');\n",
              "      buttonEl.style.display =\n",
              "        google.colab.kernel.accessAllowed ? 'block' : 'none';\n",
              "\n",
              "      async function convertToInteractive(key) {\n",
              "        const element = document.querySelector('#df-79a83f77-d982-4e4a-8078-cba269ac9048');\n",
              "        const dataTable =\n",
              "          await google.colab.kernel.invokeFunction('convertToInteractive',\n",
              "                                                    [key], {});\n",
              "        if (!dataTable) return;\n",
              "\n",
              "        const docLinkHtml = 'Like what you see? Visit the ' +\n",
              "          '<a target=\"_blank\" href=https://colab.research.google.com/notebooks/data_table.ipynb>data table notebook</a>'\n",
              "          + ' to learn more about interactive tables.';\n",
              "        element.innerHTML = '';\n",
              "        dataTable['output_type'] = 'display_data';\n",
              "        await google.colab.output.renderOutput(dataTable, element);\n",
              "        const docLink = document.createElement('div');\n",
              "        docLink.innerHTML = docLinkHtml;\n",
              "        element.appendChild(docLink);\n",
              "      }\n",
              "    </script>\n",
              "  </div>\n",
              "\n",
              "\n",
              "<div id=\"df-28886a86-2b75-49bc-928e-4be372202fec\">\n",
              "  <button class=\"colab-df-quickchart\" onclick=\"quickchart('df-28886a86-2b75-49bc-928e-4be372202fec')\"\n",
              "            title=\"Suggest charts\"\n",
              "            style=\"display:none;\">\n",
              "\n",
              "<svg xmlns=\"http://www.w3.org/2000/svg\" height=\"24px\"viewBox=\"0 0 24 24\"\n",
              "     width=\"24px\">\n",
              "    <g>\n",
              "        <path d=\"M19 3H5c-1.1 0-2 .9-2 2v14c0 1.1.9 2 2 2h14c1.1 0 2-.9 2-2V5c0-1.1-.9-2-2-2zM9 17H7v-7h2v7zm4 0h-2V7h2v10zm4 0h-2v-4h2v4z\"/>\n",
              "    </g>\n",
              "</svg>\n",
              "  </button>\n",
              "\n",
              "<style>\n",
              "  .colab-df-quickchart {\n",
              "      --bg-color: #E8F0FE;\n",
              "      --fill-color: #1967D2;\n",
              "      --hover-bg-color: #E2EBFA;\n",
              "      --hover-fill-color: #174EA6;\n",
              "      --disabled-fill-color: #AAA;\n",
              "      --disabled-bg-color: #DDD;\n",
              "  }\n",
              "\n",
              "  [theme=dark] .colab-df-quickchart {\n",
              "      --bg-color: #3B4455;\n",
              "      --fill-color: #D2E3FC;\n",
              "      --hover-bg-color: #434B5C;\n",
              "      --hover-fill-color: #FFFFFF;\n",
              "      --disabled-bg-color: #3B4455;\n",
              "      --disabled-fill-color: #666;\n",
              "  }\n",
              "\n",
              "  .colab-df-quickchart {\n",
              "    background-color: var(--bg-color);\n",
              "    border: none;\n",
              "    border-radius: 50%;\n",
              "    cursor: pointer;\n",
              "    display: none;\n",
              "    fill: var(--fill-color);\n",
              "    height: 32px;\n",
              "    padding: 0;\n",
              "    width: 32px;\n",
              "  }\n",
              "\n",
              "  .colab-df-quickchart:hover {\n",
              "    background-color: var(--hover-bg-color);\n",
              "    box-shadow: 0 1px 2px rgba(60, 64, 67, 0.3), 0 1px 3px 1px rgba(60, 64, 67, 0.15);\n",
              "    fill: var(--button-hover-fill-color);\n",
              "  }\n",
              "\n",
              "  .colab-df-quickchart-complete:disabled,\n",
              "  .colab-df-quickchart-complete:disabled:hover {\n",
              "    background-color: var(--disabled-bg-color);\n",
              "    fill: var(--disabled-fill-color);\n",
              "    box-shadow: none;\n",
              "  }\n",
              "\n",
              "  .colab-df-spinner {\n",
              "    border: 2px solid var(--fill-color);\n",
              "    border-color: transparent;\n",
              "    border-bottom-color: var(--fill-color);\n",
              "    animation:\n",
              "      spin 1s steps(1) infinite;\n",
              "  }\n",
              "\n",
              "  @keyframes spin {\n",
              "    0% {\n",
              "      border-color: transparent;\n",
              "      border-bottom-color: var(--fill-color);\n",
              "      border-left-color: var(--fill-color);\n",
              "    }\n",
              "    20% {\n",
              "      border-color: transparent;\n",
              "      border-left-color: var(--fill-color);\n",
              "      border-top-color: var(--fill-color);\n",
              "    }\n",
              "    30% {\n",
              "      border-color: transparent;\n",
              "      border-left-color: var(--fill-color);\n",
              "      border-top-color: var(--fill-color);\n",
              "      border-right-color: var(--fill-color);\n",
              "    }\n",
              "    40% {\n",
              "      border-color: transparent;\n",
              "      border-right-color: var(--fill-color);\n",
              "      border-top-color: var(--fill-color);\n",
              "    }\n",
              "    60% {\n",
              "      border-color: transparent;\n",
              "      border-right-color: var(--fill-color);\n",
              "    }\n",
              "    80% {\n",
              "      border-color: transparent;\n",
              "      border-right-color: var(--fill-color);\n",
              "      border-bottom-color: var(--fill-color);\n",
              "    }\n",
              "    90% {\n",
              "      border-color: transparent;\n",
              "      border-bottom-color: var(--fill-color);\n",
              "    }\n",
              "  }\n",
              "</style>\n",
              "\n",
              "  <script>\n",
              "    async function quickchart(key) {\n",
              "      const quickchartButtonEl =\n",
              "        document.querySelector('#' + key + ' button');\n",
              "      quickchartButtonEl.disabled = true;  // To prevent multiple clicks.\n",
              "      quickchartButtonEl.classList.add('colab-df-spinner');\n",
              "      try {\n",
              "        const charts = await google.colab.kernel.invokeFunction(\n",
              "            'suggestCharts', [key], {});\n",
              "      } catch (error) {\n",
              "        console.error('Error during call to suggestCharts:', error);\n",
              "      }\n",
              "      quickchartButtonEl.classList.remove('colab-df-spinner');\n",
              "      quickchartButtonEl.classList.add('colab-df-quickchart-complete');\n",
              "    }\n",
              "    (() => {\n",
              "      let quickchartButtonEl =\n",
              "        document.querySelector('#df-28886a86-2b75-49bc-928e-4be372202fec button');\n",
              "      quickchartButtonEl.style.display =\n",
              "        google.colab.kernel.accessAllowed ? 'block' : 'none';\n",
              "    })();\n",
              "  </script>\n",
              "</div>\n",
              "\n",
              "    </div>\n",
              "  </div>\n"
            ],
            "application/vnd.google.colaboratory.intrinsic+json": {
              "type": "dataframe",
              "variable_name": "df",
              "summary": "{\n  \"name\": \"df\",\n  \"rows\": 203,\n  \"fields\": [\n    {\n      \"column\": \"cpi\",\n      \"properties\": {\n        \"dtype\": \"number\",\n        \"std\": 61.2788777293754,\n        \"min\": 28.98,\n        \"max\": 218.61,\n        \"num_unique_values\": 203,\n        \"samples\": [\n          30.44,\n          29.92,\n          116.0\n        ],\n        \"semantic_type\": \"\",\n        \"description\": \"\"\n      }\n    }\n  ]\n}"
            }
          },
          "metadata": {},
          "execution_count": 4
        }
      ]
    },
    {
      "cell_type": "markdown",
      "source": [
        "### 4"
      ],
      "metadata": {
        "id": "vNHbNl0UZrLy"
      }
    },
    {
      "cell_type": "code",
      "source": [
        "df.plot(figsize=(12,6))\n",
        "#adding months to the x-axis\n",
        "plt.xlabel('Month')\n",
        "plt.ylabel('CPI')\n",
        "plt.title('US Macro Quarterly Data')\n",
        "plt.show()"
      ],
      "metadata": {
        "colab": {
          "base_uri": "https://localhost:8080/",
          "height": 562
        },
        "id": "D6LICcZLU931",
        "outputId": "6eeb3d94-16f1-478b-a821-b43f26210eec"
      },
      "execution_count": null,
      "outputs": [
        {
          "output_type": "display_data",
          "data": {
            "text/plain": [
              "<Figure size 1200x600 with 1 Axes>"
            ],
            "image/png": "[encoded data removed]"
          },
          "metadata": {}
        }
      ]
    },
    {
      "cell_type": "markdown",
      "source": [
        "The dataset is not stationary, it has a strong upwards trend. Differencing will probably take care of it. Since we are using an ARIMA model, the non-stationarity will be taken care of."
      ],
      "metadata": {
        "id": "05mIQtJzVC1z"
      }
    },
    {
      "cell_type": "markdown",
      "source": [
        "### 5"
      ],
      "metadata": {
        "id": "KOPeN0lhZtVK"
      }
    },
    {
      "cell_type": "code",
      "source": [
        "exp = TSForecastingExperiment()\n",
        "exp.setup(data = df, target='cpi',  fh = 24)"
      ],
      "metadata": {
        "colab": {
          "base_uri": "https://localhost:8080/",
          "height": 1000
        },
        "id": "FPl5LASzVCTN",
        "outputId": "51015175-2638-48b0-fea0-30e3b1018724"
      },
      "execution_count": null,
      "outputs": [
        {
          "output_type": "display_data",
          "data": {
            "text/plain": [
              "<pandas.io.formats.style.Styler at 0x7ca673be5c90>"
            ],
            "text/html": [
              "<style type=\"text/css\">\n",
              "#T_7abe8_row25_col1 {\n",
              "  background-color: lightgreen;\n",
              "}\n",
              "</style>\n",
              "<table id=\"T_7abe8\" class=\"dataframe\">\n",
              "  <thead>\n",
              "    <tr>\n",
              "      <th class=\"blank level0\" >&nbsp;</th>\n",
              "      <th id=\"T_7abe8_level0_col0\" class=\"col_heading level0 col0\" >Description</th>\n",
              "      <th id=\"T_7abe8_level0_col1\" class=\"col_heading level0 col1\" >Value</th>\n",
              "    </tr>\n",
              "  </thead>\n",
              "  <tbody>\n",
              "    <tr>\n",
              "      <th id=\"T_7abe8_level0_row0\" class=\"row_heading level0 row0\" >0</th>\n",
              "      <td id=\"T_7abe8_row0_col0\" class=\"data row0 col0\" >session_id</td>\n",
              "      <td id=\"T_7abe8_row0_col1\" class=\"data row0 col1\" >275</td>\n",
              "    </tr>\n",
              "    <tr>\n",
              "      <th id=\"T_7abe8_level0_row1\" class=\"row_heading level0 row1\" >1</th>\n",
              "      <td id=\"T_7abe8_row1_col0\" class=\"data row1 col0\" >Target</td>\n",
              "      <td id=\"T_7abe8_row1_col1\" class=\"data row1 col1\" >cpi</td>\n",
              "    </tr>\n",
              "    <tr>\n",
              "      <th id=\"T_7abe8_level0_row2\" class=\"row_heading level0 row2\" >2</th>\n",
              "      <td id=\"T_7abe8_row2_col0\" class=\"data row2 col0\" >Approach</td>\n",
              "      <td id=\"T_7abe8_row2_col1\" class=\"data row2 col1\" >Univariate</td>\n",
              "    </tr>\n",
              "    <tr>\n",
              "      <th id=\"T_7abe8_level0_row3\" class=\"row_heading level0 row3\" >3</th>\n",
              "      <td id=\"T_7abe8_row3_col0\" class=\"data row3 col0\" >Exogenous Variables</td>\n",
              "      <td id=\"T_7abe8_row3_col1\" class=\"data row3 col1\" >Not Present</td>\n",
              "    </tr>\n",
              "    <tr>\n",
              "      <th id=\"T_7abe8_level0_row4\" class=\"row_heading level0 row4\" >4</th>\n",
              "      <td id=\"T_7abe8_row4_col0\" class=\"data row4 col0\" >Original data shape</td>\n",
              "      <td id=\"T_7abe8_row4_col1\" class=\"data row4 col1\" >(203, 1)</td>\n",
              "    </tr>\n",
              "    <tr>\n",
              "      <th id=\"T_7abe8_level0_row5\" class=\"row_heading level0 row5\" >5</th>\n",
              "      <td id=\"T_7abe8_row5_col0\" class=\"data row5 col0\" >Transformed data shape</td>\n",
              "      <td id=\"T_7abe8_row5_col1\" class=\"data row5 col1\" >(203, 1)</td>\n",
              "    </tr>\n",
              "    <tr>\n",
              "      <th id=\"T_7abe8_level0_row6\" class=\"row_heading level0 row6\" >6</th>\n",
              "      <td id=\"T_7abe8_row6_col0\" class=\"data row6 col0\" >Transformed train set shape</td>\n",
              "      <td id=\"T_7abe8_row6_col1\" class=\"data row6 col1\" >(179, 1)</td>\n",
              "    </tr>\n",
              "    <tr>\n",
              "      <th id=\"T_7abe8_level0_row7\" class=\"row_heading level0 row7\" >7</th>\n",
              "      <td id=\"T_7abe8_row7_col0\" class=\"data row7 col0\" >Transformed test set shape</td>\n",
              "      <td id=\"T_7abe8_row7_col1\" class=\"data row7 col1\" >(24, 1)</td>\n",
              "    </tr>\n",
              "    <tr>\n",
              "      <th id=\"T_7abe8_level0_row8\" class=\"row_heading level0 row8\" >8</th>\n",
              "      <td id=\"T_7abe8_row8_col0\" class=\"data row8 col0\" >Rows with missing values</td>\n",
              "      <td id=\"T_7abe8_row8_col1\" class=\"data row8 col1\" >0.0%</td>\n",
              "    </tr>\n",
              "    <tr>\n",
              "      <th id=\"T_7abe8_level0_row9\" class=\"row_heading level0 row9\" >9</th>\n",
              "      <td id=\"T_7abe8_row9_col0\" class=\"data row9 col0\" >Fold Generator</td>\n",
              "      <td id=\"T_7abe8_row9_col1\" class=\"data row9 col1\" >ExpandingWindowSplitter</td>\n",
              "    </tr>\n",
              "    <tr>\n",
              "      <th id=\"T_7abe8_level0_row10\" class=\"row_heading level0 row10\" >10</th>\n",
              "      <td id=\"T_7abe8_row10_col0\" class=\"data row10 col0\" >Fold Number</td>\n",
              "      <td id=\"T_7abe8_row10_col1\" class=\"data row10 col1\" >3</td>\n",
              "    </tr>\n",
              "    <tr>\n",
              "      <th id=\"T_7abe8_level0_row11\" class=\"row_heading level0 row11\" >11</th>\n",
              "      <td id=\"T_7abe8_row11_col0\" class=\"data row11 col0\" >Enforce Prediction Interval</td>\n",
              "      <td id=\"T_7abe8_row11_col1\" class=\"data row11 col1\" >False</td>\n",
              "    </tr>\n",
              "    <tr>\n",
              "      <th id=\"T_7abe8_level0_row12\" class=\"row_heading level0 row12\" >12</th>\n",
              "      <td id=\"T_7abe8_row12_col0\" class=\"data row12 col0\" >Splits used for hyperparameters</td>\n",
              "      <td id=\"T_7abe8_row12_col1\" class=\"data row12 col1\" >all</td>\n",
              "    </tr>\n",
              "    <tr>\n",
              "      <th id=\"T_7abe8_level0_row13\" class=\"row_heading level0 row13\" >13</th>\n",
              "      <td id=\"T_7abe8_row13_col0\" class=\"data row13 col0\" >User Defined Seasonal Period(s)</td>\n",
              "      <td id=\"T_7abe8_row13_col1\" class=\"data row13 col1\" >None</td>\n",
              "    </tr>\n",
              "    <tr>\n",
              "      <th id=\"T_7abe8_level0_row14\" class=\"row_heading level0 row14\" >14</th>\n",
              "      <td id=\"T_7abe8_row14_col0\" class=\"data row14 col0\" >Ignore Seasonality Test</td>\n",
              "      <td id=\"T_7abe8_row14_col1\" class=\"data row14 col1\" >False</td>\n",
              "    </tr>\n",
              "    <tr>\n",
              "      <th id=\"T_7abe8_level0_row15\" class=\"row_heading level0 row15\" >15</th>\n",
              "      <td id=\"T_7abe8_row15_col0\" class=\"data row15 col0\" >Seasonality Detection Algo</td>\n",
              "      <td id=\"T_7abe8_row15_col1\" class=\"data row15 col1\" >auto</td>\n",
              "    </tr>\n",
              "    <tr>\n",
              "      <th id=\"T_7abe8_level0_row16\" class=\"row_heading level0 row16\" >16</th>\n",
              "      <td id=\"T_7abe8_row16_col0\" class=\"data row16 col0\" >Max Period to Consider</td>\n",
              "      <td id=\"T_7abe8_row16_col1\" class=\"data row16 col1\" >60</td>\n",
              "    </tr>\n",
              "    <tr>\n",
              "      <th id=\"T_7abe8_level0_row17\" class=\"row_heading level0 row17\" >17</th>\n",
              "      <td id=\"T_7abe8_row17_col0\" class=\"data row17 col0\" >Seasonal Period(s) Tested</td>\n",
              "      <td id=\"T_7abe8_row17_col1\" class=\"data row17 col1\" >[3, 11]</td>\n",
              "    </tr>\n",
              "    <tr>\n",
              "      <th id=\"T_7abe8_level0_row18\" class=\"row_heading level0 row18\" >18</th>\n",
              "      <td id=\"T_7abe8_row18_col0\" class=\"data row18 col0\" >Significant Seasonal Period(s)</td>\n",
              "      <td id=\"T_7abe8_row18_col1\" class=\"data row18 col1\" >[3, 11]</td>\n",
              "    </tr>\n",
              "    <tr>\n",
              "      <th id=\"T_7abe8_level0_row19\" class=\"row_heading level0 row19\" >19</th>\n",
              "      <td id=\"T_7abe8_row19_col0\" class=\"data row19 col0\" >Significant Seasonal Period(s) without Harmonics</td>\n",
              "      <td id=\"T_7abe8_row19_col1\" class=\"data row19 col1\" >[3, 11]</td>\n",
              "    </tr>\n",
              "    <tr>\n",
              "      <th id=\"T_7abe8_level0_row20\" class=\"row_heading level0 row20\" >20</th>\n",
              "      <td id=\"T_7abe8_row20_col0\" class=\"data row20 col0\" >Remove Harmonics</td>\n",
              "      <td id=\"T_7abe8_row20_col1\" class=\"data row20 col1\" >False</td>\n",
              "    </tr>\n",
              "    <tr>\n",
              "      <th id=\"T_7abe8_level0_row21\" class=\"row_heading level0 row21\" >21</th>\n",
              "      <td id=\"T_7abe8_row21_col0\" class=\"data row21 col0\" >Harmonics Order Method</td>\n",
              "      <td id=\"T_7abe8_row21_col1\" class=\"data row21 col1\" >harmonic_max</td>\n",
              "    </tr>\n",
              "    <tr>\n",
              "      <th id=\"T_7abe8_level0_row22\" class=\"row_heading level0 row22\" >22</th>\n",
              "      <td id=\"T_7abe8_row22_col0\" class=\"data row22 col0\" >Num Seasonalities to Use</td>\n",
              "      <td id=\"T_7abe8_row22_col1\" class=\"data row22 col1\" >1</td>\n",
              "    </tr>\n",
              "    <tr>\n",
              "      <th id=\"T_7abe8_level0_row23\" class=\"row_heading level0 row23\" >23</th>\n",
              "      <td id=\"T_7abe8_row23_col0\" class=\"data row23 col0\" >All Seasonalities to Use</td>\n",
              "      <td id=\"T_7abe8_row23_col1\" class=\"data row23 col1\" >[3]</td>\n",
              "    </tr>\n",
              "    <tr>\n",
              "      <th id=\"T_7abe8_level0_row24\" class=\"row_heading level0 row24\" >24</th>\n",
              "      <td id=\"T_7abe8_row24_col0\" class=\"data row24 col0\" >Primary Seasonality</td>\n",
              "      <td id=\"T_7abe8_row24_col1\" class=\"data row24 col1\" >3</td>\n",
              "    </tr>\n",
              "    <tr>\n",
              "      <th id=\"T_7abe8_level0_row25\" class=\"row_heading level0 row25\" >25</th>\n",
              "      <td id=\"T_7abe8_row25_col0\" class=\"data row25 col0\" >Seasonality Present</td>\n",
              "      <td id=\"T_7abe8_row25_col1\" class=\"data row25 col1\" >True</td>\n",
              "    </tr>\n",
              "    <tr>\n",
              "      <th id=\"T_7abe8_level0_row26\" class=\"row_heading level0 row26\" >26</th>\n",
              "      <td id=\"T_7abe8_row26_col0\" class=\"data row26 col0\" >Seasonality Type</td>\n",
              "      <td id=\"T_7abe8_row26_col1\" class=\"data row26 col1\" >mul</td>\n",
              "    </tr>\n",
              "    <tr>\n",
              "      <th id=\"T_7abe8_level0_row27\" class=\"row_heading level0 row27\" >27</th>\n",
              "      <td id=\"T_7abe8_row27_col0\" class=\"data row27 col0\" >Target Strictly Positive</td>\n",
              "      <td id=\"T_7abe8_row27_col1\" class=\"data row27 col1\" >True</td>\n",
              "    </tr>\n",
              "    <tr>\n",
              "      <th id=\"T_7abe8_level0_row28\" class=\"row_heading level0 row28\" >28</th>\n",
              "      <td id=\"T_7abe8_row28_col0\" class=\"data row28 col0\" >Target White Noise</td>\n",
              "      <td id=\"T_7abe8_row28_col1\" class=\"data row28 col1\" >No</td>\n",
              "    </tr>\n",
              "    <tr>\n",
              "      <th id=\"T_7abe8_level0_row29\" class=\"row_heading level0 row29\" >29</th>\n",
              "      <td id=\"T_7abe8_row29_col0\" class=\"data row29 col0\" >Recommended d</td>\n",
              "      <td id=\"T_7abe8_row29_col1\" class=\"data row29 col1\" >2</td>\n",
              "    </tr>\n",
              "    <tr>\n",
              "      <th id=\"T_7abe8_level0_row30\" class=\"row_heading level0 row30\" >30</th>\n",
              "      <td id=\"T_7abe8_row30_col0\" class=\"data row30 col0\" >Recommended Seasonal D</td>\n",
              "      <td id=\"T_7abe8_row30_col1\" class=\"data row30 col1\" >0</td>\n",
              "    </tr>\n",
              "    <tr>\n",
              "      <th id=\"T_7abe8_level0_row31\" class=\"row_heading level0 row31\" >31</th>\n",
              "      <td id=\"T_7abe8_row31_col0\" class=\"data row31 col0\" >Preprocess</td>\n",
              "      <td id=\"T_7abe8_row31_col1\" class=\"data row31 col1\" >False</td>\n",
              "    </tr>\n",
              "    <tr>\n",
              "      <th id=\"T_7abe8_level0_row32\" class=\"row_heading level0 row32\" >32</th>\n",
              "      <td id=\"T_7abe8_row32_col0\" class=\"data row32 col0\" >CPU Jobs</td>\n",
              "      <td id=\"T_7abe8_row32_col1\" class=\"data row32 col1\" >-1</td>\n",
              "    </tr>\n",
              "    <tr>\n",
              "      <th id=\"T_7abe8_level0_row33\" class=\"row_heading level0 row33\" >33</th>\n",
              "      <td id=\"T_7abe8_row33_col0\" class=\"data row33 col0\" >Use GPU</td>\n",
              "      <td id=\"T_7abe8_row33_col1\" class=\"data row33 col1\" >False</td>\n",
              "    </tr>\n",
              "    <tr>\n",
              "      <th id=\"T_7abe8_level0_row34\" class=\"row_heading level0 row34\" >34</th>\n",
              "      <td id=\"T_7abe8_row34_col0\" class=\"data row34 col0\" >Log Experiment</td>\n",
              "      <td id=\"T_7abe8_row34_col1\" class=\"data row34 col1\" >False</td>\n",
              "    </tr>\n",
              "    <tr>\n",
              "      <th id=\"T_7abe8_level0_row35\" class=\"row_heading level0 row35\" >35</th>\n",
              "      <td id=\"T_7abe8_row35_col0\" class=\"data row35 col0\" >Experiment Name</td>\n",
              "      <td id=\"T_7abe8_row35_col1\" class=\"data row35 col1\" >ts-default-name</td>\n",
              "    </tr>\n",
              "    <tr>\n",
              "      <th id=\"T_7abe8_level0_row36\" class=\"row_heading level0 row36\" >36</th>\n",
              "      <td id=\"T_7abe8_row36_col0\" class=\"data row36 col0\" >USI</td>\n",
              "      <td id=\"T_7abe8_row36_col1\" class=\"data row36 col1\" >0823</td>\n",
              "    </tr>\n",
              "  </tbody>\n",
              "</table>\n"
            ]
          },
          "metadata": {}
        },
        {
          "output_type": "execute_result",
          "data": {
            "text/plain": [
              "<pycaret.time_series.forecasting.oop.TSForecastingExperiment at 0x7ca673a20c50>"
            ]
          },
          "metadata": {},
          "execution_count": 6
        }
      ]
    },
    {
      "cell_type": "markdown",
      "source": [
        "There are 179 in-sample observations, with 24 hold out observations."
      ],
      "metadata": {
        "id": "3Zqu0sizVgwb"
      }
    },
    {
      "cell_type": "markdown",
      "source": [
        "### 6 & 7"
      ],
      "metadata": {
        "id": "KedFF833Z-iJ"
      }
    },
    {
      "cell_type": "code",
      "source": [
        "exp.plot_model(plot=\"diff\", data_kwargs={\"order_list\": [1,2], \"acf\": True, \"pacf\": True})"
      ],
      "metadata": {
        "colab": {
          "base_uri": "https://localhost:8080/",
          "height": 542
        },
        "id": "EiqLPU6mVhTx",
        "outputId": "35a3e5a5-c847-4722-d8da-74fff2d6dc60"
      },
      "execution_count": null,
      "outputs": [
        {
          "output_type": "display_data",
          "data": {
            "text/html": [
              "<html>\n",
              "<head><meta charset=\"utf-8\" /></head>\n",
              "<body>\n",
              "    <div>            <script src=\"https://cdnjs.cloudflare.com/ajax/libs/mathjax/2.7.5/MathJax.js?config=TeX-AMS-MML_SVG\"></script><script type=\"text/javascript\">if (window.MathJax && window.MathJax.Hub && window.MathJax.Hub.Config) {window.MathJax.Hub.Config({SVG: {font: \"STIX-Web\"}});}</script>                <script type=\"text/javascript\">window.PlotlyConfig = {MathJaxConfig: 'local'};</script>\n",
              "        <script charset=\"utf-8\" src=\"https://cdn.plot.ly/plotly-2.35.2.min.js\"></script>                <div id=\"13000e2f-26da-471c-9bc0-c165b7f4102f\" class=\"plotly-graph-div\" style=\"height:525px; width:100%;\"></div>            <script type=\"text/javascript\">                                    window.PLOTLYENV=window.PLOTLYENV || {};                                    if (document.getElementById(\"13000e2f-26da-471c-9bc0-c165b7f4102f\")) {                    Plotly.newPlot(                        \"13000e2f-26da-471c-9bc0-c165b7f4102f\",                        [{\"line\":{\"color\":\"rgb(31, 119, 180)\",\"width\":2},\"marker\":{\"color\":\"rgb(31, 119, 180)\",\"size\":5},\"mode\":\"lines+markers\",\"name\":\"Actual\",\"x\":[\"1959-01-01T00:00:00\",\"1959-04-01T00:00:00\",\"1959-07-01T00:00:00\",\"1959-10-01T00:00:00\",\"1960-01-01T00:00:00\",\"1960-04-01T00:00:00\",\"1960-07-01T00:00:00\",\"1960-10-01T00:00:00\",\"1961-01-01T00:00:00\",\"1961-04-01T00:00:00\",\"1961-07-01T00:00:00\",\"1961-10-01T00:00:00\",\"1962-01-01T00:00:00\",\"1962-04-01T00:00:00\",\"1962-07-01T00:00:00\",\"1962-10-01T00:00:00\",\"1963-01-01T00:00:00\",\"1963-04-01T00:00:00\",\"1963-07-01T00:00:00\",\"1963-10-01T00:00:00\",\"1964-01-01T00:00:00\",\"1964-04-01T00:00:00\",\"1964-07-01T00:00:00\",\"1964-10-01T00:00:00\",\"1965-01-01T00:00:00\",\"1965-04-01T00:00:00\",\"1965-07-01T00:00:00\",\"1965-10-01T00:00:00\",\"1966-01-01T00:00:00\",\"1966-04-01T00:00:00\",\"1966-07-01T00:00:00\",\"1966-10-01T00:00:00\",\"1967-01-01T00:00:00\",\"1967-04-01T00:00:00\",\"1967-07-01T00:00:00\",\"1967-10-01T00:00:00\",\"1968-01-01T00:00:00\",\"1968-04-01T00:00:00\",\"1968-07-01T00:00:00\",\"1968-10-01T00:00:00\",\"1969-01-01T00:00:00\",\"1969-04-01T00:00:00\",\"1969-07-01T00:00:00\",\"1969-10-01T00:00:00\",\"1970-01-01T00:00:00\",\"1970-04-01T00:00:00\",\"1970-07-01T00:00:00\",\"1970-10-01T00:00:00\",\"1971-01-01T00:00:00\",\"1971-04-01T00:00:00\",\"1971-07-01T00:00:00\",\"1971-10-01T00:00:00\",\"1972-01-01T00:00:00\",\"1972-04-01T00:00:00\",\"1972-07-01T00:00:00\",\"1972-10-01T00:00:00\",\"1973-01-01T00:00:00\",\"1973-04-01T00:00:00\",\"1973-07-01T00:00:00\",\"1973-10-01T00:00:00\",\"1974-01-01T00:00:00\",\"1974-04-01T00:00:00\",\"1974-07-01T00:00:00\",\"1974-10-01T00:00:00\",\"1975-01-01T00:00:00\",\"1975-04-01T00:00:00\",\"1975-07-01T00:00:00\",\"1975-10-01T00:00:00\",\"1976-01-01T00:00:00\",\"1976-04-01T00:00:00\",\"1976-07-01T00:00:00\",\"1976-10-01T00:00:00\",\"1977-01-01T00:00:00\",\"1977-04-01T00:00:00\",\"1977-07-01T00:00:00\",\"1977-10-01T00:00:00\",\"1978-01-01T00:00:00\",\"1978-04-01T00:00:00\",\"1978-07-01T00:00:00\",\"1978-10-01T00:00:00\",\"1979-01-01T00:00:00\",\"1979-04-01T00:00:00\",\"1979-07-01T00:00:00\",\"1979-10-01T00:00:00\",\"1980-01-01T00:00:00\",\"1980-04-01T00:00:00\",\"1980-07-01T00:00:00\",\"1980-10-01T00:00:00\",\"1981-01-01T00:00:00\",\"1981-04-01T00:00:00\",\"1981-07-01T00:00:00\",\"1981-10-01T00:00:00\",\"1982-01-01T00:00:00\",\"1982-04-01T00:00:00\",\"1982-07-01T00:00:00\",\"1982-10-01T00:00:00\",\"1983-01-01T00:00:00\",\"1983-04-01T00:00:00\",\"1983-07-01T00:00:00\",\"1983-10-01T00:00:00\",\"1984-01-01T00:00:00\",\"1984-04-01T00:00:00\",\"1984-07-01T00:00:00\",\"1984-10-01T00:00:00\",\"1985-01-01T00:00:00\",\"1985-04-01T00:00:00\",\"1985-07-01T00:00:00\",\"1985-10-01T00:00:00\",\"1986-01-01T00:00:00\",\"1986-04-01T00:00:00\",\"1986-07-01T00:00:00\",\"1986-10-01T00:00:00\",\"1987-01-01T00:00:00\",\"1987-04-01T00:00:00\",\"1987-07-01T00:00:00\",\"1987-10-01T00:00:00\",\"1988-01-01T00:00:00\",\"1988-04-01T00:00:00\",\"1988-07-01T00:00:00\",\"1988-10-01T00:00:00\",\"1989-01-01T00:00:00\",\"1989-04-01T00:00:00\",\"1989-07-01T00:00:00\",\"1989-10-01T00:00:00\",\"1990-01-01T00:00:00\",\"1990-04-01T00:00:00\",\"1990-07-01T00:00:00\",\"1990-10-01T00:00:00\",\"1991-01-01T00:00:00\",\"1991-04-01T00:00:00\",\"1991-07-01T00:00:00\",\"1991-10-01T00:00:00\",\"1992-01-01T00:00:00\",\"1992-04-01T00:00:00\",\"1992-07-01T00:00:00\",\"1992-10-01T00:00:00\",\"1993-01-01T00:00:00\",\"1993-04-01T00:00:00\",\"1993-07-01T00:00:00\",\"1993-10-01T00:00:00\",\"1994-01-01T00:00:00\",\"1994-04-01T00:00:00\",\"1994-07-01T00:00:00\",\"1994-10-01T00:00:00\",\"1995-01-01T00:00:00\",\"1995-04-01T00:00:00\",\"1995-07-01T00:00:00\",\"1995-10-01T00:00:00\",\"1996-01-01T00:00:00\",\"1996-04-01T00:00:00\",\"1996-07-01T00:00:00\",\"1996-10-01T00:00:00\",\"1997-01-01T00:00:00\",\"1997-04-01T00:00:00\",\"1997-07-01T00:00:00\",\"1997-10-01T00:00:00\",\"1998-01-01T00:00:00\",\"1998-04-01T00:00:00\",\"1998-07-01T00:00:00\",\"1998-10-01T00:00:00\",\"1999-01-01T00:00:00\",\"1999-04-01T00:00:00\",\"1999-07-01T00:00:00\",\"1999-10-01T00:00:00\",\"2000-01-01T00:00:00\",\"2000-04-01T00:00:00\",\"2000-07-01T00:00:00\",\"2000-10-01T00:00:00\",\"2001-01-01T00:00:00\",\"2001-04-01T00:00:00\",\"2001-07-01T00:00:00\",\"2001-10-01T00:00:00\",\"2002-01-01T00:00:00\",\"2002-04-01T00:00:00\",\"2002-07-01T00:00:00\",\"2002-10-01T00:00:00\",\"2003-01-01T00:00:00\",\"2003-04-01T00:00:00\",\"2003-07-01T00:00:00\",\"2003-10-01T00:00:00\",\"2004-01-01T00:00:00\",\"2004-04-01T00:00:00\",\"2004-07-01T00:00:00\",\"2004-10-01T00:00:00\",\"2005-01-01T00:00:00\",\"2005-04-01T00:00:00\",\"2005-07-01T00:00:00\",\"2005-10-01T00:00:00\",\"2006-01-01T00:00:00\",\"2006-04-01T00:00:00\",\"2006-07-01T00:00:00\",\"2006-10-01T00:00:00\",\"2007-01-01T00:00:00\",\"2007-04-01T00:00:00\",\"2007-07-01T00:00:00\",\"2007-10-01T00:00:00\",\"2008-01-01T00:00:00\",\"2008-04-01T00:00:00\",\"2008-07-01T00:00:00\",\"2008-10-01T00:00:00\",\"2009-01-01T00:00:00\",\"2009-04-01T00:00:00\",\"2009-07-01T00:00:00\"],\"y\":[28.98,29.15,29.35,29.37,29.54,29.55,29.75,29.84,29.81,29.92,29.98,30.04,30.21,30.22,30.38,30.44,30.48,30.69,30.75,30.94,30.95,31.02,31.12,31.28,31.38,31.58,31.65,31.88,32.28,32.45,32.85,32.9,33.1,33.4,33.7,34.1,34.4,34.9,35.3,35.7,36.3,36.8,37.3,37.9,38.5,38.9,39.4,39.9,40.1,40.6,40.9,41.2,41.5,41.8,42.2,42.7,43.7,44.2,45.6,46.8,48.1,49.3,51.0,52.3,53.0,54.0,54.9,55.8,56.1,57.0,57.9,58.7,60.0,60.8,61.6,62.7,63.9,65.5,67.1,68.5,70.6,73.0,75.2,78.0,80.9,82.6,84.7,87.2,89.1,91.5,93.4,94.4,95.0,97.5,98.1,97.9,98.8,99.8,100.8,102.1,103.3,104.1,105.1,105.7,107.0,107.7,108.5,109.9,108.7,109.5,110.2,111.4,112.7,113.8,115.0,116.0,117.2,118.5,119.9,121.2,123.1,124.5,125.4,127.5,128.9,130.5,133.4,134.7,135.1,136.2,137.2,138.3,139.4,140.5,141.7,142.8,143.8,144.5,145.6,146.3,147.2,148.4,149.4,150.5,151.8,152.6,153.5,154.7,156.1,157.0,158.2,159.4,159.9,160.4,161.5,162.0,162.2,163.2,163.9,164.7,165.9,166.7,168.1,169.3,170.9,172.7,173.9,175.6,176.4,177.4,177.6,177.7,179.3,180.0,181.2,182.6,183.2,183.7,184.9,186.3,187.4,189.1,190.8,191.8,193.8,194.7,199.2,199.4,200.7,202.7,201.9,203.574,205.92,207.338,209.133,212.495,213.997,218.61,216.889,212.174,212.671,214.469,216.385],\"type\":\"scattergl\",\"xaxis\":\"x\",\"yaxis\":\"y\",\"showlegend\":false},{\"line\":{\"color\":\"#3f3f3f\"},\"mode\":\"lines\",\"name\":\"Actual\",\"x\":[0,0],\"y\":[0,1.0],\"type\":\"scattergl\",\"xaxis\":\"x2\",\"yaxis\":\"y2\",\"showlegend\":false},{\"line\":{\"color\":\"#3f3f3f\"},\"mode\":\"lines\",\"name\":\"Actual\",\"x\":[1,1],\"y\":[0,0.9877957417591859],\"type\":\"scattergl\",\"xaxis\":\"x2\",\"yaxis\":\"y2\",\"showlegend\":false},{\"line\":{\"color\":\"#3f3f3f\"},\"mode\":\"lines\",\"name\":\"Actual\",\"x\":[2,2],\"y\":[0,0.9755806677231829],\"type\":\"scattergl\",\"xaxis\":\"x2\",\"yaxis\":\"y2\",\"showlegend\":false},{\"line\":{\"color\":\"#3f3f3f\"},\"mode\":\"lines\",\"name\":\"Actual\",\"x\":[3,3],\"y\":[0,0.9633754916408562],\"type\":\"scattergl\",\"xaxis\":\"x2\",\"yaxis\":\"y2\",\"showlegend\":false},{\"line\":{\"color\":\"#3f3f3f\"},\"mode\":\"lines\",\"name\":\"Actual\",\"x\":[4,4],\"y\":[0,0.9509571524529443],\"type\":\"scattergl\",\"xaxis\":\"x2\",\"yaxis\":\"y2\",\"showlegend\":false},{\"line\":{\"color\":\"#3f3f3f\"},\"mode\":\"lines\",\"name\":\"Actual\",\"x\":[5,5],\"y\":[0,0.9375968243924525],\"type\":\"scattergl\",\"xaxis\":\"x2\",\"yaxis\":\"y2\",\"showlegend\":false},{\"line\":{\"color\":\"#3f3f3f\"},\"mode\":\"lines\",\"name\":\"Actual\",\"x\":[6,6],\"y\":[0,0.9236908777628566],\"type\":\"scattergl\",\"xaxis\":\"x2\",\"yaxis\":\"y2\",\"showlegend\":false},{\"line\":{\"color\":\"#3f3f3f\"},\"mode\":\"lines\",\"name\":\"Actual\",\"x\":[7,7],\"y\":[0,0.910193666648494],\"type\":\"scattergl\",\"xaxis\":\"x2\",\"yaxis\":\"y2\",\"showlegend\":false},{\"line\":{\"color\":\"#3f3f3f\"},\"mode\":\"lines\",\"name\":\"Actual\",\"x\":[8,8],\"y\":[0,0.8966577560331536],\"type\":\"scattergl\",\"xaxis\":\"x2\",\"yaxis\":\"y2\",\"showlegend\":false},{\"line\":{\"color\":\"#3f3f3f\"},\"mode\":\"lines\",\"name\":\"Actual\",\"x\":[9,9],\"y\":[0,0.883338712621009],\"type\":\"scattergl\",\"xaxis\":\"x2\",\"yaxis\":\"y2\",\"showlegend\":false},{\"line\":{\"color\":\"#3f3f3f\"},\"mode\":\"lines\",\"name\":\"Actual\",\"x\":[10,10],\"y\":[0,0.8700089095842394],\"type\":\"scattergl\",\"xaxis\":\"x2\",\"yaxis\":\"y2\",\"showlegend\":false},{\"line\":{\"color\":\"#3f3f3f\"},\"mode\":\"lines\",\"name\":\"Actual\",\"x\":[11,11],\"y\":[0,0.856637659850713],\"type\":\"scattergl\",\"xaxis\":\"x2\",\"yaxis\":\"y2\",\"showlegend\":false},{\"line\":{\"color\":\"#3f3f3f\"},\"mode\":\"lines\",\"name\":\"Actual\",\"x\":[12,12],\"y\":[0,0.8433430324599505],\"type\":\"scattergl\",\"xaxis\":\"x2\",\"yaxis\":\"y2\",\"showlegend\":false},{\"line\":{\"color\":\"#3f3f3f\"},\"mode\":\"lines\",\"name\":\"Actual\",\"x\":[13,13],\"y\":[0,0.8300670134269891],\"type\":\"scattergl\",\"xaxis\":\"x2\",\"yaxis\":\"y2\",\"showlegend\":false},{\"line\":{\"color\":\"#3f3f3f\"},\"mode\":\"lines\",\"name\":\"Actual\",\"x\":[14,14],\"y\":[0,0.8164359964648625],\"type\":\"scattergl\",\"xaxis\":\"x2\",\"yaxis\":\"y2\",\"showlegend\":false},{\"line\":{\"color\":\"#3f3f3f\"},\"mode\":\"lines\",\"name\":\"Actual\",\"x\":[15,15],\"y\":[0,0.8028594524035343],\"type\":\"scattergl\",\"xaxis\":\"x2\",\"yaxis\":\"y2\",\"showlegend\":false},{\"line\":{\"color\":\"#3f3f3f\"},\"mode\":\"lines\",\"name\":\"Actual\",\"x\":[16,16],\"y\":[0,0.7892400681626925],\"type\":\"scattergl\",\"xaxis\":\"x2\",\"yaxis\":\"y2\",\"showlegend\":false},{\"line\":{\"color\":\"#3f3f3f\"},\"mode\":\"lines\",\"name\":\"Actual\",\"x\":[17,17],\"y\":[0,0.7754001019490078],\"type\":\"scattergl\",\"xaxis\":\"x2\",\"yaxis\":\"y2\",\"showlegend\":false},{\"line\":{\"color\":\"#3f3f3f\"},\"mode\":\"lines\",\"name\":\"Actual\",\"x\":[18,18],\"y\":[0,0.7619981770855508],\"type\":\"scattergl\",\"xaxis\":\"x2\",\"yaxis\":\"y2\",\"showlegend\":false},{\"line\":{\"color\":\"#3f3f3f\"},\"mode\":\"lines\",\"name\":\"Actual\",\"x\":[19,19],\"y\":[0,0.7484998470355853],\"type\":\"scattergl\",\"xaxis\":\"x2\",\"yaxis\":\"y2\",\"showlegend\":false},{\"line\":{\"color\":\"#3f3f3f\"},\"mode\":\"lines\",\"name\":\"Actual\",\"x\":[20,20],\"y\":[0,0.7350702723384231],\"type\":\"scattergl\",\"xaxis\":\"x2\",\"yaxis\":\"y2\",\"showlegend\":false},{\"line\":{\"color\":\"#3f3f3f\"},\"mode\":\"lines\",\"name\":\"Actual\",\"x\":[21,21],\"y\":[0,0.7215482534454797],\"type\":\"scattergl\",\"xaxis\":\"x2\",\"yaxis\":\"y2\",\"showlegend\":false},{\"line\":{\"color\":\"#3f3f3f\"},\"mode\":\"lines\",\"name\":\"Actual\",\"x\":[22,22],\"y\":[0,0.7080407596996693],\"type\":\"scattergl\",\"xaxis\":\"x2\",\"yaxis\":\"y2\",\"showlegend\":false},{\"line\":{\"color\":\"#3f3f3f\"},\"mode\":\"lines\",\"name\":\"Actual\",\"x\":[23,23],\"y\":[0,0.6945462633752797],\"type\":\"scattergl\",\"xaxis\":\"x2\",\"yaxis\":\"y2\",\"showlegend\":false},{\"line\":{\"color\":\"#3f3f3f\"},\"mode\":\"lines\",\"name\":\"Actual\",\"x\":[24,24],\"y\":[0,0.680992148949223],\"type\":\"scattergl\",\"xaxis\":\"x2\",\"yaxis\":\"y2\",\"showlegend\":false},{\"line\":{\"color\":\"#3f3f3f\"},\"mode\":\"lines\",\"name\":\"Actual\",\"x\":[25,25],\"y\":[0,0.6674240883121657],\"type\":\"scattergl\",\"xaxis\":\"x2\",\"yaxis\":\"y2\",\"showlegend\":false},{\"line\":{\"color\":\"#3f3f3f\"},\"mode\":\"lines\",\"name\":\"Actual\",\"x\":[26,26],\"y\":[0,0.6538267403993814],\"type\":\"scattergl\",\"xaxis\":\"x2\",\"yaxis\":\"y2\",\"showlegend\":false},{\"line\":{\"color\":\"#3f3f3f\"},\"mode\":\"lines\",\"name\":\"Actual\",\"x\":[27,27],\"y\":[0,0.6400870864000152],\"type\":\"scattergl\",\"xaxis\":\"x2\",\"yaxis\":\"y2\",\"showlegend\":false},{\"line\":{\"color\":\"#3f3f3f\"},\"mode\":\"lines\",\"name\":\"Actual\",\"x\":[28,28],\"y\":[0,0.6262312231560635],\"type\":\"scattergl\",\"xaxis\":\"x2\",\"yaxis\":\"y2\",\"showlegend\":false},{\"line\":{\"color\":\"#3f3f3f\"},\"mode\":\"lines\",\"name\":\"Actual\",\"x\":[29,29],\"y\":[0,0.6123840730923077],\"type\":\"scattergl\",\"xaxis\":\"x2\",\"yaxis\":\"y2\",\"showlegend\":false},{\"line\":{\"color\":\"#3f3f3f\"},\"mode\":\"lines\",\"name\":\"Actual\",\"x\":[30,30],\"y\":[0,0.5984995505477169],\"type\":\"scattergl\",\"xaxis\":\"x2\",\"yaxis\":\"y2\",\"showlegend\":false},{\"line\":{\"color\":\"#3f3f3f\"},\"mode\":\"lines\",\"name\":\"Actual\",\"x\":[31,31],\"y\":[0,0.5845304723429345],\"type\":\"scattergl\",\"xaxis\":\"x2\",\"yaxis\":\"y2\",\"showlegend\":false},{\"line\":{\"color\":\"#3f3f3f\"},\"mode\":\"lines\",\"name\":\"Actual\",\"x\":[32,32],\"y\":[0,0.5705785890044242],\"type\":\"scattergl\",\"xaxis\":\"x2\",\"yaxis\":\"y2\",\"showlegend\":false},{\"line\":{\"color\":\"#3f3f3f\"},\"mode\":\"lines\",\"name\":\"Actual\",\"x\":[33,33],\"y\":[0,0.5564426051655551],\"type\":\"scattergl\",\"xaxis\":\"x2\",\"yaxis\":\"y2\",\"showlegend\":false},{\"line\":{\"color\":\"#3f3f3f\"},\"mode\":\"lines\",\"name\":\"Actual\",\"x\":[34,34],\"y\":[0,0.5421469545216182],\"type\":\"scattergl\",\"xaxis\":\"x2\",\"yaxis\":\"y2\",\"showlegend\":false},{\"line\":{\"color\":\"#3f3f3f\"},\"mode\":\"lines\",\"name\":\"Actual\",\"x\":[35,35],\"y\":[0,0.527811602301052],\"type\":\"scattergl\",\"xaxis\":\"x2\",\"yaxis\":\"y2\",\"showlegend\":false},{\"line\":{\"color\":\"#3f3f3f\"},\"mode\":\"lines\",\"name\":\"Actual\",\"x\":[36,36],\"y\":[0,0.5134157645456775],\"type\":\"scattergl\",\"xaxis\":\"x2\",\"yaxis\":\"y2\",\"showlegend\":false},{\"line\":{\"color\":\"#3f3f3f\"},\"mode\":\"lines\",\"name\":\"Actual\",\"x\":[37,37],\"y\":[0,0.499086330059511],\"type\":\"scattergl\",\"xaxis\":\"x2\",\"yaxis\":\"y2\",\"showlegend\":false},{\"line\":{\"color\":\"#3f3f3f\"},\"mode\":\"lines\",\"name\":\"Actual\",\"x\":[38,38],\"y\":[0,0.4847599424497232],\"type\":\"scattergl\",\"xaxis\":\"x2\",\"yaxis\":\"y2\",\"showlegend\":false},{\"line\":{\"color\":\"#3f3f3f\"},\"mode\":\"lines\",\"name\":\"Actual\",\"x\":[39,39],\"y\":[0,0.47051679962328335],\"type\":\"scattergl\",\"xaxis\":\"x2\",\"yaxis\":\"y2\",\"showlegend\":false},{\"line\":{\"color\":\"#3f3f3f\"},\"mode\":\"lines\",\"name\":\"Actual\",\"x\":[40,40],\"y\":[0,0.4563361105309082],\"type\":\"scattergl\",\"xaxis\":\"x2\",\"yaxis\":\"y2\",\"showlegend\":false},{\"marker\":{\"color\":\"#1f77b4\",\"size\":6},\"mode\":\"markers\",\"name\":\"Actual\",\"x\":[0,1,2,3,4,5,6,7,8,9,10,11,12,13,14,15,16,17,18,19,20,21,22,23,24,25,26,27,28,29,30,31,32,33,34,35,36,37,38,39,40],\"y\":[1.0,0.9877957417591859,0.9755806677231829,0.9633754916408562,0.9509571524529443,0.9375968243924525,0.9236908777628566,0.910193666648494,0.8966577560331536,0.883338712621009,0.8700089095842394,0.856637659850713,0.8433430324599505,0.8300670134269891,0.8164359964648625,0.8028594524035343,0.7892400681626925,0.7754001019490078,0.7619981770855508,0.7484998470355853,0.7350702723384231,0.7215482534454797,0.7080407596996693,0.6945462633752797,0.680992148949223,0.6674240883121657,0.6538267403993814,0.6400870864000152,0.6262312231560635,0.6123840730923077,0.5984995505477169,0.5845304723429345,0.5705785890044242,0.5564426051655551,0.5421469545216182,0.527811602301052,0.5134157645456775,0.499086330059511,0.4847599424497232,0.47051679962328335,0.4563361105309082],\"type\":\"scattergl\",\"xaxis\":\"x2\",\"yaxis\":\"y2\",\"showlegend\":false},{\"line\":{\"color\":\"rgba(255,255,255,0)\"},\"mode\":\"lines\",\"name\":\"UC\",\"x\":[0,1,2,3,4,5,6,7,8,9,10,11,12,13,14,15,16,17,18,19,20,21,22,23,24,25,26,27,28,29,30,31,32,33,34,35,36,37,38,39,40],\"y\":[0.0,0.1375625038536067,0.23633065427093491,0.303105988070702,0.3563686909981718,0.40152748374480673,0.4410159353225481,0.47622074768290124,0.5080753363159701,0.5371864281600858,0.5640041680219878,0.5888527791247513,0.6119809657151585,0.6335917034107931,0.6538465997505564,0.6728617156756785,0.6907520238252578,0.7076108949827948,0.7235111893184869,0.7385417405813528,0.7527600523099226,0.766222839355119,0.7789747970774145,0.7910595425342368,0.8025162486960844,0.8133780387527391,0.82367646244465,0.8334398941505781,0.8426911417191733,0.8514520565379932,0.8597463148297979,0.8675946892648012,0.8750153783185588,0.8820279708494434,0.8886460548270991,0.8948831727338269,0.9007549448066888,0.9062757574325673,0.9114619694624738,0.9163278041171852,0.920888384815798],\"type\":\"scatter\",\"xaxis\":\"x2\",\"yaxis\":\"y2\",\"showlegend\":false},{\"fill\":\"tonexty\",\"fillcolor\":\"rgba(32, 146, 230,0.3)\",\"line\":{\"color\":\"rgba(255,255,255,0)\"},\"mode\":\"lines\",\"name\":\"LC\",\"x\":[0,1,2,3,4,5,6,7,8,9,10,11,12,13,14,15,16,17,18,19,20,21,22,23,24,25,26,27,28,29,30,31,32,33,34,35,36,37,38,39,40],\"y\":[0.0,-0.13756250385360658,-0.23633065427093503,-0.303105988070702,-0.3563686909981718,-0.40152748374480673,-0.4410159353225481,-0.4762207476829011,-0.50807533631597,-0.5371864281600857,-0.5640041680219878,-0.5888527791247514,-0.6119809657151585,-0.6335917034107931,-0.6538465997505564,-0.6728617156756784,-0.6907520238252578,-0.707610894982795,-0.723511189318487,-0.7385417405813528,-0.7527600523099227,-0.766222839355119,-0.7789747970774145,-0.7910595425342368,-0.8025162486960843,-0.8133780387527391,-0.8236764624446499,-0.8334398941505781,-0.8426911417191733,-0.8514520565379932,-0.859746314829798,-0.8675946892648012,-0.8750153783185588,-0.8820279708494435,-0.8886460548270991,-0.894883172733827,-0.9007549448066888,-0.9062757574325674,-0.9114619694624738,-0.9163278041171851,-0.920888384815798],\"type\":\"scatter\",\"xaxis\":\"x2\",\"yaxis\":\"y2\",\"showlegend\":false},{\"line\":{\"color\":\"#3f3f3f\"},\"mode\":\"lines\",\"name\":\"Actual\",\"x\":[0,0],\"y\":[0,1.0],\"type\":\"scattergl\",\"xaxis\":\"x3\",\"yaxis\":\"y3\",\"showlegend\":false},{\"line\":{\"color\":\"#3f3f3f\"},\"mode\":\"lines\",\"name\":\"Actual\",\"x\":[1,1],\"y\":[0,0.992685819688687],\"type\":\"scattergl\",\"xaxis\":\"x3\",\"yaxis\":\"y3\",\"showlegend\":false},{\"line\":{\"color\":\"#3f3f3f\"},\"mode\":\"lines\",\"name\":\"Actual\",\"x\":[2,2],\"y\":[0,-0.009413368657512727],\"type\":\"scattergl\",\"xaxis\":\"x3\",\"yaxis\":\"y3\",\"showlegend\":false},{\"line\":{\"color\":\"#3f3f3f\"},\"mode\":\"lines\",\"name\":\"Actual\",\"x\":[3,3],\"y\":[0,-0.008080604755060927],\"type\":\"scattergl\",\"xaxis\":\"x3\",\"yaxis\":\"y3\",\"showlegend\":false},{\"line\":{\"color\":\"#3f3f3f\"},\"mode\":\"lines\",\"name\":\"Actual\",\"x\":[4,4],\"y\":[0,-0.02379117390670239],\"type\":\"scattergl\",\"xaxis\":\"x3\",\"yaxis\":\"y3\",\"showlegend\":false},{\"line\":{\"color\":\"#3f3f3f\"},\"mode\":\"lines\",\"name\":\"Actual\",\"x\":[5,5],\"y\":[0,-0.07538527888972621],\"type\":\"scattergl\",\"xaxis\":\"x3\",\"yaxis\":\"y3\",\"showlegend\":false},{\"line\":{\"color\":\"#3f3f3f\"},\"mode\":\"lines\",\"name\":\"Actual\",\"x\":[6,6],\"y\":[0,-0.048680361253969295],\"type\":\"scattergl\",\"xaxis\":\"x3\",\"yaxis\":\"y3\",\"showlegend\":false},{\"line\":{\"color\":\"#3f3f3f\"},\"mode\":\"lines\",\"name\":\"Actual\",\"x\":[7,7],\"y\":[0,0.01884606198334485],\"type\":\"scattergl\",\"xaxis\":\"x3\",\"yaxis\":\"y3\",\"showlegend\":false},{\"line\":{\"color\":\"#3f3f3f\"},\"mode\":\"lines\",\"name\":\"Actual\",\"x\":[8,8],\"y\":[0,-0.010974726214059621],\"type\":\"scattergl\",\"xaxis\":\"x3\",\"yaxis\":\"y3\",\"showlegend\":false},{\"line\":{\"color\":\"#3f3f3f\"},\"mode\":\"lines\",\"name\":\"Actual\",\"x\":[9,9],\"y\":[0,0.010963565193711618],\"type\":\"scattergl\",\"xaxis\":\"x3\",\"yaxis\":\"y3\",\"showlegend\":false},{\"line\":{\"color\":\"#3f3f3f\"},\"mode\":\"lines\",\"name\":\"Actual\",\"x\":[10,10],\"y\":[0,-0.006622538663354749],\"type\":\"scattergl\",\"xaxis\":\"x3\",\"yaxis\":\"y3\",\"showlegend\":false},{\"line\":{\"color\":\"#3f3f3f\"},\"mode\":\"lines\",\"name\":\"Actual\",\"x\":[11,11],\"y\":[0,-0.0156146037955434],\"type\":\"scattergl\",\"xaxis\":\"x3\",\"yaxis\":\"y3\",\"showlegend\":false},{\"line\":{\"color\":\"#3f3f3f\"},\"mode\":\"lines\",\"name\":\"Actual\",\"x\":[12,12],\"y\":[0,-0.007452954546109036],\"type\":\"scattergl\",\"xaxis\":\"x3\",\"yaxis\":\"y3\",\"showlegend\":false},{\"line\":{\"color\":\"#3f3f3f\"},\"mode\":\"lines\",\"name\":\"Actual\",\"x\":[13,13],\"y\":[0,-0.010736226783495938],\"type\":\"scattergl\",\"xaxis\":\"x3\",\"yaxis\":\"y3\",\"showlegend\":false},{\"line\":{\"color\":\"#3f3f3f\"},\"mode\":\"lines\",\"name\":\"Actual\",\"x\":[14,14],\"y\":[0,-0.038775449767178755],\"type\":\"scattergl\",\"xaxis\":\"x3\",\"yaxis\":\"y3\",\"showlegend\":false},{\"line\":{\"color\":\"#3f3f3f\"},\"mode\":\"lines\",\"name\":\"Actual\",\"x\":[15,15],\"y\":[0,-0.005906962235462679],\"type\":\"scattergl\",\"xaxis\":\"x3\",\"yaxis\":\"y3\",\"showlegend\":false},{\"line\":{\"color\":\"#3f3f3f\"},\"mode\":\"lines\",\"name\":\"Actual\",\"x\":[16,16],\"y\":[0,-0.014850491171909374],\"type\":\"scattergl\",\"xaxis\":\"x3\",\"yaxis\":\"y3\",\"showlegend\":false},{\"line\":{\"color\":\"#3f3f3f\"},\"mode\":\"lines\",\"name\":\"Actual\",\"x\":[17,17],\"y\":[0,-0.027796541768797634],\"type\":\"scattergl\",\"xaxis\":\"x3\",\"yaxis\":\"y3\",\"showlegend\":false},{\"line\":{\"color\":\"#3f3f3f\"},\"mode\":\"lines\",\"name\":\"Actual\",\"x\":[18,18],\"y\":[0,0.02515385356331762],\"type\":\"scattergl\",\"xaxis\":\"x3\",\"yaxis\":\"y3\",\"showlegend\":false},{\"line\":{\"color\":\"#3f3f3f\"},\"mode\":\"lines\",\"name\":\"Actual\",\"x\":[19,19],\"y\":[0,-0.017411620792483193],\"type\":\"scattergl\",\"xaxis\":\"x3\",\"yaxis\":\"y3\",\"showlegend\":false},{\"line\":{\"color\":\"#3f3f3f\"},\"mode\":\"lines\",\"name\":\"Actual\",\"x\":[20,20],\"y\":[0,-0.007407857262149082],\"type\":\"scattergl\",\"xaxis\":\"x3\",\"yaxis\":\"y3\",\"showlegend\":false},{\"line\":{\"color\":\"#3f3f3f\"},\"mode\":\"lines\",\"name\":\"Actual\",\"x\":[21,21],\"y\":[0,-0.017196497171828494],\"type\":\"scattergl\",\"xaxis\":\"x3\",\"yaxis\":\"y3\",\"showlegend\":false},{\"line\":{\"color\":\"#3f3f3f\"},\"mode\":\"lines\",\"name\":\"Actual\",\"x\":[22,22],\"y\":[0,-0.01571415414206752],\"type\":\"scattergl\",\"xaxis\":\"x3\",\"yaxis\":\"y3\",\"showlegend\":false},{\"line\":{\"color\":\"#3f3f3f\"},\"mode\":\"lines\",\"name\":\"Actual\",\"x\":[23,23],\"y\":[0,-0.014379396309728173],\"type\":\"scattergl\",\"xaxis\":\"x3\",\"yaxis\":\"y3\",\"showlegend\":false},{\"marker\":{\"color\":\"#1f77b4\",\"size\":6},\"mode\":\"markers\",\"name\":\"Actual\",\"x\":[0,1,2,3,4,5,6,7,8,9,10,11,12,13,14,15,16,17,18,19,20,21,22,23],\"y\":[1.0,0.992685819688687,-0.009413368657512727,-0.008080604755060927,-0.02379117390670239,-0.07538527888972621,-0.048680361253969295,0.01884606198334485,-0.010974726214059621,0.010963565193711618,-0.006622538663354749,-0.0156146037955434,-0.007452954546109036,-0.010736226783495938,-0.038775449767178755,-0.005906962235462679,-0.014850491171909374,-0.027796541768797634,0.02515385356331762,-0.017411620792483193,-0.007407857262149082,-0.017196497171828494,-0.01571415414206752,-0.014379396309728173],\"type\":\"scattergl\",\"xaxis\":\"x3\",\"yaxis\":\"y3\",\"showlegend\":false},{\"line\":{\"color\":\"rgba(255,255,255,0)\"},\"mode\":\"lines\",\"name\":\"UC\",\"x\":[0,1,2,3,4,5,6,7,8,9,10,11,12,13,14,15,16,17,18,19,20,21,22,23],\"y\":[0.0,0.13756250385360658,0.13756250385360658,0.13756250385360658,0.13756250385360658,0.13756250385360658,0.13756250385360658,0.13756250385360658,0.13756250385360658,0.13756250385360658,0.13756250385360658,0.13756250385360658,0.13756250385360658,0.13756250385360658,0.13756250385360658,0.13756250385360658,0.13756250385360658,0.13756250385360658,0.13756250385360658,0.13756250385360658,0.13756250385360658,0.13756250385360658,0.13756250385360658,0.13756250385360658],\"type\":\"scatter\",\"xaxis\":\"x3\",\"yaxis\":\"y3\",\"showlegend\":false},{\"fill\":\"tonexty\",\"fillcolor\":\"rgba(32, 146, 230,0.3)\",\"line\":{\"color\":\"rgba(255,255,255,0)\"},\"mode\":\"lines\",\"name\":\"LC\",\"x\":[0,1,2,3,4,5,6,7,8,9,10,11,12,13,14,15,16,17,18,19,20,21,22,23],\"y\":[0.0,-0.13756250385360658,-0.13756250385360658,-0.13756250385360658,-0.13756250385360658,-0.13756250385360658,-0.13756250385360658,-0.13756250385360658,-0.13756250385360658,-0.13756250385360658,-0.13756250385360658,-0.13756250385360658,-0.13756250385360658,-0.13756250385360658,-0.13756250385360658,-0.13756250385360658,-0.13756250385360658,-0.13756250385360658,-0.13756250385360658,-0.13756250385360658,-0.13756250385360658,-0.13756250385360658,-0.13756250385360658,-0.13756250385360658],\"type\":\"scatter\",\"xaxis\":\"x3\",\"yaxis\":\"y3\",\"showlegend\":false},{\"line\":{\"color\":\"rgb(31, 119, 180)\",\"width\":2},\"marker\":{\"color\":\"rgb(31, 119, 180)\",\"size\":5},\"mode\":\"lines+markers\",\"name\":\"Order=1\",\"x\":[\"1959-04-01T00:00:00\",\"1959-07-01T00:00:00\",\"1959-10-01T00:00:00\",\"1960-01-01T00:00:00\",\"1960-04-01T00:00:00\",\"1960-07-01T00:00:00\",\"1960-10-01T00:00:00\",\"1961-01-01T00:00:00\",\"1961-04-01T00:00:00\",\"1961-07-01T00:00:00\",\"1961-10-01T00:00:00\",\"1962-01-01T00:00:00\",\"1962-04-01T00:00:00\",\"1962-07-01T00:00:00\",\"1962-10-01T00:00:00\",\"1963-01-01T00:00:00\",\"1963-04-01T00:00:00\",\"1963-07-01T00:00:00\",\"1963-10-01T00:00:00\",\"1964-01-01T00:00:00\",\"1964-04-01T00:00:00\",\"1964-07-01T00:00:00\",\"1964-10-01T00:00:00\",\"1965-01-01T00:00:00\",\"1965-04-01T00:00:00\",\"1965-07-01T00:00:00\",\"1965-10-01T00:00:00\",\"1966-01-01T00:00:00\",\"1966-04-01T00:00:00\",\"1966-07-01T00:00:00\",\"1966-10-01T00:00:00\",\"1967-01-01T00:00:00\",\"1967-04-01T00:00:00\",\"1967-07-01T00:00:00\",\"1967-10-01T00:00:00\",\"1968-01-01T00:00:00\",\"1968-04-01T00:00:00\",\"1968-07-01T00:00:00\",\"1968-10-01T00:00:00\",\"1969-01-01T00:00:00\",\"1969-04-01T00:00:00\",\"1969-07-01T00:00:00\",\"1969-10-01T00:00:00\",\"1970-01-01T00:00:00\",\"1970-04-01T00:00:00\",\"1970-07-01T00:00:00\",\"1970-10-01T00:00:00\",\"1971-01-01T00:00:00\",\"1971-04-01T00:00:00\",\"1971-07-01T00:00:00\",\"1971-10-01T00:00:00\",\"1972-01-01T00:00:00\",\"1972-04-01T00:00:00\",\"1972-07-01T00:00:00\",\"1972-10-01T00:00:00\",\"1973-01-01T00:00:00\",\"1973-04-01T00:00:00\",\"1973-07-01T00:00:00\",\"1973-10-01T00:00:00\",\"1974-01-01T00:00:00\",\"1974-04-01T00:00:00\",\"1974-07-01T00:00:00\",\"1974-10-01T00:00:00\",\"1975-01-01T00:00:00\",\"1975-04-01T00:00:00\",\"1975-07-01T00:00:00\",\"1975-10-01T00:00:00\",\"1976-01-01T00:00:00\",\"1976-04-01T00:00:00\",\"1976-07-01T00:00:00\",\"1976-10-01T00:00:00\",\"1977-01-01T00:00:00\",\"1977-04-01T00:00:00\",\"1977-07-01T00:00:00\",\"1977-10-01T00:00:00\",\"1978-01-01T00:00:00\",\"1978-04-01T00:00:00\",\"1978-07-01T00:00:00\",\"1978-10-01T00:00:00\",\"1979-01-01T00:00:00\",\"1979-04-01T00:00:00\",\"1979-07-01T00:00:00\",\"1979-10-01T00:00:00\",\"1980-01-01T00:00:00\",\"1980-04-01T00:00:00\",\"1980-07-01T00:00:00\",\"1980-10-01T00:00:00\",\"1981-01-01T00:00:00\",\"1981-04-01T00:00:00\",\"1981-07-01T00:00:00\",\"1981-10-01T00:00:00\",\"1982-01-01T00:00:00\",\"1982-04-01T00:00:00\",\"1982-07-01T00:00:00\",\"1982-10-01T00:00:00\",\"1983-01-01T00:00:00\",\"1983-04-01T00:00:00\",\"1983-07-01T00:00:00\",\"1983-10-01T00:00:00\",\"1984-01-01T00:00:00\",\"1984-04-01T00:00:00\",\"1984-07-01T00:00:00\",\"1984-10-01T00:00:00\",\"1985-01-01T00:00:00\",\"1985-04-01T00:00:00\",\"1985-07-01T00:00:00\",\"1985-10-01T00:00:00\",\"1986-01-01T00:00:00\",\"1986-04-01T00:00:00\",\"1986-07-01T00:00:00\",\"1986-10-01T00:00:00\",\"1987-01-01T00:00:00\",\"1987-04-01T00:00:00\",\"1987-07-01T00:00:00\",\"1987-10-01T00:00:00\",\"1988-01-01T00:00:00\",\"1988-04-01T00:00:00\",\"1988-07-01T00:00:00\",\"1988-10-01T00:00:00\",\"1989-01-01T00:00:00\",\"1989-04-01T00:00:00\",\"1989-07-01T00:00:00\",\"1989-10-01T00:00:00\",\"1990-01-01T00:00:00\",\"1990-04-01T00:00:00\",\"1990-07-01T00:00:00\",\"1990-10-01T00:00:00\",\"1991-01-01T00:00:00\",\"1991-04-01T00:00:00\",\"1991-07-01T00:00:00\",\"1991-10-01T00:00:00\",\"1992-01-01T00:00:00\",\"1992-04-01T00:00:00\",\"1992-07-01T00:00:00\",\"1992-10-01T00:00:00\",\"1993-01-01T00:00:00\",\"1993-04-01T00:00:00\",\"1993-07-01T00:00:00\",\"1993-10-01T00:00:00\",\"1994-01-01T00:00:00\",\"1994-04-01T00:00:00\",\"1994-07-01T00:00:00\",\"1994-10-01T00:00:00\",\"1995-01-01T00:00:00\",\"1995-04-01T00:00:00\",\"1995-07-01T00:00:00\",\"1995-10-01T00:00:00\",\"1996-01-01T00:00:00\",\"1996-04-01T00:00:00\",\"1996-07-01T00:00:00\",\"1996-10-01T00:00:00\",\"1997-01-01T00:00:00\",\"1997-04-01T00:00:00\",\"1997-07-01T00:00:00\",\"1997-10-01T00:00:00\",\"1998-01-01T00:00:00\",\"1998-04-01T00:00:00\",\"1998-07-01T00:00:00\",\"1998-10-01T00:00:00\",\"1999-01-01T00:00:00\",\"1999-04-01T00:00:00\",\"1999-07-01T00:00:00\",\"1999-10-01T00:00:00\",\"2000-01-01T00:00:00\",\"2000-04-01T00:00:00\",\"2000-07-01T00:00:00\",\"2000-10-01T00:00:00\",\"2001-01-01T00:00:00\",\"2001-04-01T00:00:00\",\"2001-07-01T00:00:00\",\"2001-10-01T00:00:00\",\"2002-01-01T00:00:00\",\"2002-04-01T00:00:00\",\"2002-07-01T00:00:00\",\"2002-10-01T00:00:00\",\"2003-01-01T00:00:00\",\"2003-04-01T00:00:00\",\"2003-07-01T00:00:00\",\"2003-10-01T00:00:00\",\"2004-01-01T00:00:00\",\"2004-04-01T00:00:00\",\"2004-07-01T00:00:00\",\"2004-10-01T00:00:00\",\"2005-01-01T00:00:00\",\"2005-04-01T00:00:00\",\"2005-07-01T00:00:00\",\"2005-10-01T00:00:00\",\"2006-01-01T00:00:00\",\"2006-04-01T00:00:00\",\"2006-07-01T00:00:00\",\"2006-10-01T00:00:00\",\"2007-01-01T00:00:00\",\"2007-04-01T00:00:00\",\"2007-07-01T00:00:00\",\"2007-10-01T00:00:00\",\"2008-01-01T00:00:00\",\"2008-04-01T00:00:00\",\"2008-07-01T00:00:00\",\"2008-10-01T00:00:00\",\"2009-01-01T00:00:00\",\"2009-04-01T00:00:00\",\"2009-07-01T00:00:00\"],\"y\":[0.16999999999999815,0.20000000000000284,0.019999999999999574,0.16999999999999815,0.010000000000001563,0.1999999999999993,0.08999999999999986,-0.030000000000001137,0.11000000000000298,0.05999999999999872,0.05999999999999872,0.1700000000000017,0.00999999999999801,0.16000000000000014,0.060000000000002274,0.03999999999999915,0.21000000000000085,0.05999999999999872,0.19000000000000128,0.00999999999999801,0.07000000000000028,0.10000000000000142,0.16000000000000014,0.09999999999999787,0.1999999999999993,0.07000000000000028,0.23000000000000043,0.40000000000000213,0.1700000000000017,0.3999999999999986,0.04999999999999716,0.20000000000000284,0.29999999999999716,0.30000000000000426,0.3999999999999986,0.29999999999999716,0.5,0.3999999999999986,0.4000000000000057,0.5999999999999943,0.5,0.5,0.6000000000000014,0.6000000000000014,0.3999999999999986,0.5,0.5,0.20000000000000284,0.5,0.29999999999999716,0.30000000000000426,0.29999999999999716,0.29999999999999716,0.4000000000000057,0.5,1.0,0.5,1.3999999999999986,1.1999999999999957,1.3000000000000043,1.1999999999999957,1.7000000000000028,1.2999999999999972,0.7000000000000028,1.0,0.8999999999999986,0.8999999999999986,0.30000000000000426,0.8999999999999986,0.8999999999999986,0.8000000000000043,1.2999999999999972,0.7999999999999972,0.8000000000000043,1.1000000000000014,1.1999999999999957,1.6000000000000014,1.5999999999999943,1.4000000000000057,2.0999999999999943,2.4000000000000057,2.200000000000003,2.799999999999997,2.9000000000000057,1.6999999999999886,2.1000000000000085,2.5,1.8999999999999915,2.4000000000000057,1.9000000000000057,1.0,0.5999999999999943,2.5,0.5999999999999943,-0.19999999999998863,0.8999999999999915,1.0,1.0,1.2999999999999972,1.2000000000000028,0.7999999999999972,1.0,0.6000000000000085,1.2999999999999972,0.7000000000000028,0.7999999999999972,1.4000000000000057,-1.2000000000000028,0.7999999999999972,0.7000000000000028,1.2000000000000028,1.2999999999999972,1.0999999999999943,1.2000000000000028,1.0,1.2000000000000028,1.2999999999999972,1.4000000000000057,1.2999999999999972,1.8999999999999915,1.4000000000000057,0.9000000000000057,2.0999999999999943,1.4000000000000057,1.5999999999999943,2.9000000000000057,1.299999999999983,0.4000000000000057,1.0999999999999943,1.0,1.1000000000000227,1.0999999999999943,1.0999999999999943,1.1999999999999886,1.1000000000000227,1.0,0.6999999999999886,1.0999999999999943,0.700000000000017,0.8999999999999773,1.200000000000017,1.0,1.0999999999999943,1.3000000000000114,0.799999999999983,0.9000000000000057,1.1999999999999886,1.4000000000000057,0.9000000000000057,1.1999999999999886,1.200000000000017,0.5,0.5,1.0999999999999943,0.5,0.19999999999998863,1.0,0.700000000000017,0.799999999999983,1.200000000000017,0.799999999999983,1.4000000000000057,1.200000000000017,1.5999999999999943,1.799999999999983,1.200000000000017,1.6999999999999886,0.8000000000000114,1.0,0.19999999999998863,0.09999999999999432,1.6000000000000227,0.6999999999999886,1.1999999999999886,1.4000000000000057,0.5999999999999943,0.5,1.200000000000017,1.4000000000000057,1.0999999999999943,1.6999999999999886,1.700000000000017,1.0,2.0,0.8999999999999773,4.5,0.20000000000001705,1.299999999999983,2.0,-0.799999999999983,1.6740000000000066,2.345999999999975,1.4180000000000064,1.795000000000016,3.3619999999999948,1.5020000000000095,4.6129999999999995,-1.7210000000000036,-4.715000000000003,0.4969999999999857,1.7980000000000018,1.9159999999999968],\"type\":\"scattergl\",\"xaxis\":\"x4\",\"yaxis\":\"y4\",\"showlegend\":false},{\"line\":{\"color\":\"#3f3f3f\"},\"mode\":\"lines\",\"name\":\"Order=1\",\"x\":[0,0],\"y\":[0,1.0],\"type\":\"scattergl\",\"xaxis\":\"x5\",\"yaxis\":\"y5\",\"showlegend\":false},{\"line\":{\"color\":\"#3f3f3f\"},\"mode\":\"lines\",\"name\":\"Order=1\",\"x\":[1,1],\"y\":[0,0.3840930531279225],\"type\":\"scattergl\",\"xaxis\":\"x5\",\"yaxis\":\"y5\",\"showlegend\":false},{\"line\":{\"color\":\"#3f3f3f\"},\"mode\":\"lines\",\"name\":\"Order=1\",\"x\":[2,2],\"y\":[0,0.22470154174872442],\"type\":\"scattergl\",\"xaxis\":\"x5\",\"yaxis\":\"y5\",\"showlegend\":false},{\"line\":{\"color\":\"#3f3f3f\"},\"mode\":\"lines\",\"name\":\"Order=1\",\"x\":[3,3],\"y\":[0,0.2889487946960037],\"type\":\"scattergl\",\"xaxis\":\"x5\",\"yaxis\":\"y5\",\"showlegend\":false},{\"line\":{\"color\":\"#3f3f3f\"},\"mode\":\"lines\",\"name\":\"Order=1\",\"x\":[4,4],\"y\":[0,0.15823454375094662],\"type\":\"scattergl\",\"xaxis\":\"x5\",\"yaxis\":\"y5\",\"showlegend\":false},{\"line\":{\"color\":\"#3f3f3f\"},\"mode\":\"lines\",\"name\":\"Order=1\",\"x\":[5,5],\"y\":[0,0.2702945591318717],\"type\":\"scattergl\",\"xaxis\":\"x5\",\"yaxis\":\"y5\",\"showlegend\":false},{\"line\":{\"color\":\"#3f3f3f\"},\"mode\":\"lines\",\"name\":\"Order=1\",\"x\":[6,6],\"y\":[0,0.26523756252750547],\"type\":\"scattergl\",\"xaxis\":\"x5\",\"yaxis\":\"y5\",\"showlegend\":false},{\"line\":{\"color\":\"#3f3f3f\"},\"mode\":\"lines\",\"name\":\"Order=1\",\"x\":[7,7],\"y\":[0,0.1739549896437442],\"type\":\"scattergl\",\"xaxis\":\"x5\",\"yaxis\":\"y5\",\"showlegend\":false},{\"line\":{\"color\":\"#3f3f3f\"},\"mode\":\"lines\",\"name\":\"Order=1\",\"x\":[8,8],\"y\":[0,0.21309473875342402],\"type\":\"scattergl\",\"xaxis\":\"x5\",\"yaxis\":\"y5\",\"showlegend\":false},{\"line\":{\"color\":\"#3f3f3f\"},\"mode\":\"lines\",\"name\":\"Order=1\",\"x\":[9,9],\"y\":[0,0.27418410346303174],\"type\":\"scattergl\",\"xaxis\":\"x5\",\"yaxis\":\"y5\",\"showlegend\":false},{\"line\":{\"color\":\"#3f3f3f\"},\"mode\":\"lines\",\"name\":\"Order=1\",\"x\":[10,10],\"y\":[0,0.1371697916850843],\"type\":\"scattergl\",\"xaxis\":\"x5\",\"yaxis\":\"y5\",\"showlegend\":false},{\"line\":{\"color\":\"#3f3f3f\"},\"mode\":\"lines\",\"name\":\"Order=1\",\"x\":[11,11],\"y\":[0,0.2313400004196608],\"type\":\"scattergl\",\"xaxis\":\"x5\",\"yaxis\":\"y5\",\"showlegend\":false},{\"line\":{\"color\":\"#3f3f3f\"},\"mode\":\"lines\",\"name\":\"Order=1\",\"x\":[12,12],\"y\":[0,0.09686240425018465],\"type\":\"scattergl\",\"xaxis\":\"x5\",\"yaxis\":\"y5\",\"showlegend\":false},{\"line\":{\"color\":\"#3f3f3f\"},\"mode\":\"lines\",\"name\":\"Order=1\",\"x\":[13,13],\"y\":[0,0.06098167869911558],\"type\":\"scattergl\",\"xaxis\":\"x5\",\"yaxis\":\"y5\",\"showlegend\":false},{\"line\":{\"color\":\"#3f3f3f\"},\"mode\":\"lines\",\"name\":\"Order=1\",\"x\":[14,14],\"y\":[0,0.1459257460411369],\"type\":\"scattergl\",\"xaxis\":\"x5\",\"yaxis\":\"y5\",\"showlegend\":false},{\"line\":{\"color\":\"#3f3f3f\"},\"mode\":\"lines\",\"name\":\"Order=1\",\"x\":[15,15],\"y\":[0,0.07542588577265827],\"type\":\"scattergl\",\"xaxis\":\"x5\",\"yaxis\":\"y5\",\"showlegend\":false},{\"line\":{\"color\":\"#3f3f3f\"},\"mode\":\"lines\",\"name\":\"Order=1\",\"x\":[16,16],\"y\":[0,0.13914611969473675],\"type\":\"scattergl\",\"xaxis\":\"x5\",\"yaxis\":\"y5\",\"showlegend\":false},{\"line\":{\"color\":\"#3f3f3f\"},\"mode\":\"lines\",\"name\":\"Order=1\",\"x\":[17,17],\"y\":[0,0.11102787573079063],\"type\":\"scattergl\",\"xaxis\":\"x5\",\"yaxis\":\"y5\",\"showlegend\":false},{\"line\":{\"color\":\"#3f3f3f\"},\"mode\":\"lines\",\"name\":\"Order=1\",\"x\":[18,18],\"y\":[0,0.06924139852983678],\"type\":\"scattergl\",\"xaxis\":\"x5\",\"yaxis\":\"y5\",\"showlegend\":false},{\"line\":{\"color\":\"#3f3f3f\"},\"mode\":\"lines\",\"name\":\"Order=1\",\"x\":[19,19],\"y\":[0,0.12050679178453408],\"type\":\"scattergl\",\"xaxis\":\"x5\",\"yaxis\":\"y5\",\"showlegend\":false},{\"line\":{\"color\":\"#3f3f3f\"},\"mode\":\"lines\",\"name\":\"Order=1\",\"x\":[20,20],\"y\":[0,0.10395477125619042],\"type\":\"scattergl\",\"xaxis\":\"x5\",\"yaxis\":\"y5\",\"showlegend\":false},{\"line\":{\"color\":\"#3f3f3f\"},\"mode\":\"lines\",\"name\":\"Order=1\",\"x\":[21,21],\"y\":[0,0.11719504920926342],\"type\":\"scattergl\",\"xaxis\":\"x5\",\"yaxis\":\"y5\",\"showlegend\":false},{\"line\":{\"color\":\"#3f3f3f\"},\"mode\":\"lines\",\"name\":\"Order=1\",\"x\":[22,22],\"y\":[0,0.1436926519788355],\"type\":\"scattergl\",\"xaxis\":\"x5\",\"yaxis\":\"y5\",\"showlegend\":false},{\"line\":{\"color\":\"#3f3f3f\"},\"mode\":\"lines\",\"name\":\"Order=1\",\"x\":[23,23],\"y\":[0,0.10111593518127894],\"type\":\"scattergl\",\"xaxis\":\"x5\",\"yaxis\":\"y5\",\"showlegend\":false},{\"line\":{\"color\":\"#3f3f3f\"},\"mode\":\"lines\",\"name\":\"Order=1\",\"x\":[24,24],\"y\":[0,0.0681688923968129],\"type\":\"scattergl\",\"xaxis\":\"x5\",\"yaxis\":\"y5\",\"showlegend\":false},{\"line\":{\"color\":\"#3f3f3f\"},\"mode\":\"lines\",\"name\":\"Order=1\",\"x\":[25,25],\"y\":[0,0.05210258530907728],\"type\":\"scattergl\",\"xaxis\":\"x5\",\"yaxis\":\"y5\",\"showlegend\":false},{\"line\":{\"color\":\"#3f3f3f\"},\"mode\":\"lines\",\"name\":\"Order=1\",\"x\":[26,26],\"y\":[0,0.03706397048769508],\"type\":\"scattergl\",\"xaxis\":\"x5\",\"yaxis\":\"y5\",\"showlegend\":false},{\"line\":{\"color\":\"#3f3f3f\"},\"mode\":\"lines\",\"name\":\"Order=1\",\"x\":[27,27],\"y\":[0,0.05838404538446093],\"type\":\"scattergl\",\"xaxis\":\"x5\",\"yaxis\":\"y5\",\"showlegend\":false},{\"line\":{\"color\":\"#3f3f3f\"},\"mode\":\"lines\",\"name\":\"Order=1\",\"x\":[28,28],\"y\":[0,0.10847182157849652],\"type\":\"scattergl\",\"xaxis\":\"x5\",\"yaxis\":\"y5\",\"showlegend\":false},{\"line\":{\"color\":\"#3f3f3f\"},\"mode\":\"lines\",\"name\":\"Order=1\",\"x\":[29,29],\"y\":[0,0.08106868972237409],\"type\":\"scattergl\",\"xaxis\":\"x5\",\"yaxis\":\"y5\",\"showlegend\":false},{\"line\":{\"color\":\"#3f3f3f\"},\"mode\":\"lines\",\"name\":\"Order=1\",\"x\":[30,30],\"y\":[0,0.06733725031277572],\"type\":\"scattergl\",\"xaxis\":\"x5\",\"yaxis\":\"y5\",\"showlegend\":false},{\"line\":{\"color\":\"#3f3f3f\"},\"mode\":\"lines\",\"name\":\"Order=1\",\"x\":[31,31],\"y\":[0,0.048848887112180106],\"type\":\"scattergl\",\"xaxis\":\"x5\",\"yaxis\":\"y5\",\"showlegend\":false},{\"line\":{\"color\":\"#3f3f3f\"},\"mode\":\"lines\",\"name\":\"Order=1\",\"x\":[32,32],\"y\":[0,0.027386216262461068],\"type\":\"scattergl\",\"xaxis\":\"x5\",\"yaxis\":\"y5\",\"showlegend\":false},{\"line\":{\"color\":\"#3f3f3f\"},\"mode\":\"lines\",\"name\":\"Order=1\",\"x\":[33,33],\"y\":[0,0.026201616755714967],\"type\":\"scattergl\",\"xaxis\":\"x5\",\"yaxis\":\"y5\",\"showlegend\":false},{\"line\":{\"color\":\"#3f3f3f\"},\"mode\":\"lines\",\"name\":\"Order=1\",\"x\":[34,34],\"y\":[0,0.016199908774373207],\"type\":\"scattergl\",\"xaxis\":\"x5\",\"yaxis\":\"y5\",\"showlegend\":false},{\"line\":{\"color\":\"#3f3f3f\"},\"mode\":\"lines\",\"name\":\"Order=1\",\"x\":[35,35],\"y\":[0,0.024712078367736146],\"type\":\"scattergl\",\"xaxis\":\"x5\",\"yaxis\":\"y5\",\"showlegend\":false},{\"line\":{\"color\":\"#3f3f3f\"},\"mode\":\"lines\",\"name\":\"Order=1\",\"x\":[36,36],\"y\":[0,0.007972246832006017],\"type\":\"scattergl\",\"xaxis\":\"x5\",\"yaxis\":\"y5\",\"showlegend\":false},{\"line\":{\"color\":\"#3f3f3f\"},\"mode\":\"lines\",\"name\":\"Order=1\",\"x\":[37,37],\"y\":[0,0.05995076029467023],\"type\":\"scattergl\",\"xaxis\":\"x5\",\"yaxis\":\"y5\",\"showlegend\":false},{\"line\":{\"color\":\"#3f3f3f\"},\"mode\":\"lines\",\"name\":\"Order=1\",\"x\":[38,38],\"y\":[0,0.056981989390380586],\"type\":\"scattergl\",\"xaxis\":\"x5\",\"yaxis\":\"y5\",\"showlegend\":false},{\"line\":{\"color\":\"#3f3f3f\"},\"mode\":\"lines\",\"name\":\"Order=1\",\"x\":[39,39],\"y\":[0,0.022720789515686856],\"type\":\"scattergl\",\"xaxis\":\"x5\",\"yaxis\":\"y5\",\"showlegend\":false},{\"line\":{\"color\":\"#3f3f3f\"},\"mode\":\"lines\",\"name\":\"Order=1\",\"x\":[40,40],\"y\":[0,0.05317346297830166],\"type\":\"scattergl\",\"xaxis\":\"x5\",\"yaxis\":\"y5\",\"showlegend\":false},{\"marker\":{\"color\":\"#1f77b4\",\"size\":6},\"mode\":\"markers\",\"name\":\"Order=1\",\"x\":[0,1,2,3,4,5,6,7,8,9,10,11,12,13,14,15,16,17,18,19,20,21,22,23,24,25,26,27,28,29,30,31,32,33,34,35,36,37,38,39,40],\"y\":[1.0,0.3840930531279225,0.22470154174872442,0.2889487946960037,0.15823454375094662,0.2702945591318717,0.26523756252750547,0.1739549896437442,0.21309473875342402,0.27418410346303174,0.1371697916850843,0.2313400004196608,0.09686240425018465,0.06098167869911558,0.1459257460411369,0.07542588577265827,0.13914611969473675,0.11102787573079063,0.06924139852983678,0.12050679178453408,0.10395477125619042,0.11719504920926342,0.1436926519788355,0.10111593518127894,0.0681688923968129,0.05210258530907728,0.03706397048769508,0.05838404538446093,0.10847182157849652,0.08106868972237409,0.06733725031277572,0.048848887112180106,0.027386216262461068,0.026201616755714967,0.016199908774373207,0.024712078367736146,0.007972246832006017,0.05995076029467023,0.056981989390380586,0.022720789515686856,0.05317346297830166],\"type\":\"scattergl\",\"xaxis\":\"x5\",\"yaxis\":\"y5\",\"showlegend\":false},{\"line\":{\"color\":\"rgba(255,255,255,0)\"},\"mode\":\"lines\",\"name\":\"UC\",\"x\":[0,1,2,3,4,5,6,7,8,9,10,11,12,13,14,15,16,17,18,19,20,21,22,23,24,25,26,27,28,29,30,31,32,33,34,35,36,37,38,39,40],\"y\":[0.0,0.13790258472821815,0.15693380469210244,0.1629374048482421,0.17240687501021432,0.17514690546362333,0.18290759445480548,0.19008138779117748,0.19308511887927063,0.19750689654403758,0.2046173788586928,0.20635868542469465,0.21123312065372352,0.21207612060164793,0.21240932502258086,0.21430733744835231,0.21481157825351285,0.21651886667336678,0.21759888549472084,0.21801748843534527,0.21928053784472218,0.2202157463651052,0.22139865203921952,0.22316513659041204,0.22403472222397558,0.22442883464863075,0.22465874700313063,0.2247750023695179,0.22506321089929174,0.2260552255785216,0.2266074383425732,0.22698764282113176,0.22718747288200636,0.2272502446708361,0.22730768828372647,0.22732964335503708,0.2273807242499058,0.22738603979202882,0.22768642852354998,0.2279574629581419,0.2280005252179006],\"type\":\"scatter\",\"xaxis\":\"x5\",\"yaxis\":\"y5\",\"showlegend\":false},{\"fill\":\"tonexty\",\"fillcolor\":\"rgba(32, 146, 230,0.3)\",\"line\":{\"color\":\"rgba(255,255,255,0)\"},\"mode\":\"lines\",\"name\":\"LC\",\"x\":[0,1,2,3,4,5,6,7,8,9,10,11,12,13,14,15,16,17,18,19,20,21,22,23,24,25,26,27,28,29,30,31,32,33,34,35,36,37,38,39,40],\"y\":[0.0,-0.13790258472821817,-0.15693380469210247,-0.16293740484824212,-0.17240687501021434,-0.17514690546362333,-0.18290759445480545,-0.1900813877911775,-0.19308511887927063,-0.19750689654403758,-0.2046173788586928,-0.20635868542469468,-0.21123312065372352,-0.21207612060164793,-0.2124093250225809,-0.2143073374483523,-0.21481157825351282,-0.2165188666733668,-0.21759888549472084,-0.21801748843534524,-0.21928053784472218,-0.22021574636510524,-0.22139865203921952,-0.22316513659041204,-0.22403472222397555,-0.22442883464863075,-0.22465874700313063,-0.22477500236951786,-0.22506321089929174,-0.2260552255785216,-0.2266074383425732,-0.22698764282113174,-0.22718747288200636,-0.22725024467083613,-0.22730768828372647,-0.22732964335503708,-0.2273807242499058,-0.22738603979202882,-0.22768642852354992,-0.2279574629581419,-0.2280005252179006],\"type\":\"scatter\",\"xaxis\":\"x5\",\"yaxis\":\"y5\",\"showlegend\":false},{\"line\":{\"color\":\"#3f3f3f\"},\"mode\":\"lines\",\"name\":\"Order=1\",\"x\":[0,0],\"y\":[0,1.0],\"type\":\"scattergl\",\"xaxis\":\"x6\",\"yaxis\":\"y6\",\"showlegend\":false},{\"line\":{\"color\":\"#3f3f3f\"},\"mode\":\"lines\",\"name\":\"Order=1\",\"x\":[1,1],\"y\":[0,0.3860039638400018],\"type\":\"scattergl\",\"xaxis\":\"x6\",\"yaxis\":\"y6\",\"showlegend\":false},{\"line\":{\"color\":\"#3f3f3f\"},\"mode\":\"lines\",\"name\":\"Order=1\",\"x\":[2,2],\"y\":[0,0.09159742770107367],\"type\":\"scattergl\",\"xaxis\":\"x6\",\"yaxis\":\"y6\",\"showlegend\":false},{\"line\":{\"color\":\"#3f3f3f\"},\"mode\":\"lines\",\"name\":\"Order=1\",\"x\":[3,3],\"y\":[0,0.21137250602146496],\"type\":\"scattergl\",\"xaxis\":\"x6\",\"yaxis\":\"y6\",\"showlegend\":false},{\"line\":{\"color\":\"#3f3f3f\"},\"mode\":\"lines\",\"name\":\"Order=1\",\"x\":[4,4],\"y\":[0,-0.02641449458306333],\"type\":\"scattergl\",\"xaxis\":\"x6\",\"yaxis\":\"y6\",\"showlegend\":false},{\"line\":{\"color\":\"#3f3f3f\"},\"mode\":\"lines\",\"name\":\"Order=1\",\"x\":[5,5],\"y\":[0,0.22064479307143386],\"type\":\"scattergl\",\"xaxis\":\"x6\",\"yaxis\":\"y6\",\"showlegend\":false},{\"line\":{\"color\":\"#3f3f3f\"},\"mode\":\"lines\",\"name\":\"Order=1\",\"x\":[6,6],\"y\":[0,0.07517538107128893],\"type\":\"scattergl\",\"xaxis\":\"x6\",\"yaxis\":\"y6\",\"showlegend\":false},{\"line\":{\"color\":\"#3f3f3f\"},\"mode\":\"lines\",\"name\":\"Order=1\",\"x\":[7,7],\"y\":[0,0.027293407702502926],\"type\":\"scattergl\",\"xaxis\":\"x6\",\"yaxis\":\"y6\",\"showlegend\":false},{\"line\":{\"color\":\"#3f3f3f\"},\"mode\":\"lines\",\"name\":\"Order=1\",\"x\":[8,8],\"y\":[0,0.06427289135059641],\"type\":\"scattergl\",\"xaxis\":\"x6\",\"yaxis\":\"y6\",\"showlegend\":false},{\"line\":{\"color\":\"#3f3f3f\"},\"mode\":\"lines\",\"name\":\"Order=1\",\"x\":[9,9],\"y\":[0,0.1590649312730809],\"type\":\"scattergl\",\"xaxis\":\"x6\",\"yaxis\":\"y6\",\"showlegend\":false},{\"line\":{\"color\":\"#3f3f3f\"},\"mode\":\"lines\",\"name\":\"Order=1\",\"x\":[10,10],\"y\":[0,-0.08699808246231595],\"type\":\"scattergl\",\"xaxis\":\"x6\",\"yaxis\":\"y6\",\"showlegend\":false},{\"line\":{\"color\":\"#3f3f3f\"},\"mode\":\"lines\",\"name\":\"Order=1\",\"x\":[11,11],\"y\":[0,0.1456300493565499],\"type\":\"scattergl\",\"xaxis\":\"x6\",\"yaxis\":\"y6\",\"showlegend\":false},{\"line\":{\"color\":\"#3f3f3f\"},\"mode\":\"lines\",\"name\":\"Order=1\",\"x\":[12,12],\"y\":[0,-0.17109987045776429],\"type\":\"scattergl\",\"xaxis\":\"x6\",\"yaxis\":\"y6\",\"showlegend\":false},{\"line\":{\"color\":\"#3f3f3f\"},\"mode\":\"lines\",\"name\":\"Order=1\",\"x\":[13,13],\"y\":[0,0.031294761650249296],\"type\":\"scattergl\",\"xaxis\":\"x6\",\"yaxis\":\"y6\",\"showlegend\":false},{\"line\":{\"color\":\"#3f3f3f\"},\"mode\":\"lines\",\"name\":\"Order=1\",\"x\":[14,14],\"y\":[0,-0.034965189106946334],\"type\":\"scattergl\",\"xaxis\":\"x6\",\"yaxis\":\"y6\",\"showlegend\":false},{\"line\":{\"color\":\"#3f3f3f\"},\"mode\":\"lines\",\"name\":\"Order=1\",\"x\":[15,15],\"y\":[0,0.004999809112830506],\"type\":\"scattergl\",\"xaxis\":\"x6\",\"yaxis\":\"y6\",\"showlegend\":false},{\"line\":{\"color\":\"#3f3f3f\"},\"mode\":\"lines\",\"name\":\"Order=1\",\"x\":[16,16],\"y\":[0,0.0465615074828944],\"type\":\"scattergl\",\"xaxis\":\"x6\",\"yaxis\":\"y6\",\"showlegend\":false},{\"line\":{\"color\":\"#3f3f3f\"},\"mode\":\"lines\",\"name\":\"Order=1\",\"x\":[17,17],\"y\":[0,-0.0183389891522078],\"type\":\"scattergl\",\"xaxis\":\"x6\",\"yaxis\":\"y6\",\"showlegend\":false},{\"line\":{\"color\":\"#3f3f3f\"},\"mode\":\"lines\",\"name\":\"Order=1\",\"x\":[18,18],\"y\":[0,-0.0035544874962295074],\"type\":\"scattergl\",\"xaxis\":\"x6\",\"yaxis\":\"y6\",\"showlegend\":false},{\"line\":{\"color\":\"#3f3f3f\"},\"mode\":\"lines\",\"name\":\"Order=1\",\"x\":[19,19],\"y\":[0,0.0736334581414388],\"type\":\"scattergl\",\"xaxis\":\"x6\",\"yaxis\":\"y6\",\"showlegend\":false},{\"line\":{\"color\":\"#3f3f3f\"},\"mode\":\"lines\",\"name\":\"Order=1\",\"x\":[20,20],\"y\":[0,-0.03009993165627034],\"type\":\"scattergl\",\"xaxis\":\"x6\",\"yaxis\":\"y6\",\"showlegend\":false},{\"line\":{\"color\":\"#3f3f3f\"},\"mode\":\"lines\",\"name\":\"Order=1\",\"x\":[21,21],\"y\":[0,0.13103185113958235],\"type\":\"scattergl\",\"xaxis\":\"x6\",\"yaxis\":\"y6\",\"showlegend\":false},{\"line\":{\"color\":\"#3f3f3f\"},\"mode\":\"lines\",\"name\":\"Order=1\",\"x\":[22,22],\"y\":[0,0.0027524353218242163],\"type\":\"scattergl\",\"xaxis\":\"x6\",\"yaxis\":\"y6\",\"showlegend\":false},{\"line\":{\"color\":\"#3f3f3f\"},\"mode\":\"lines\",\"name\":\"Order=1\",\"x\":[23,23],\"y\":[0,0.04808628371234861],\"type\":\"scattergl\",\"xaxis\":\"x6\",\"yaxis\":\"y6\",\"showlegend\":false},{\"marker\":{\"color\":\"#1f77b4\",\"size\":6},\"mode\":\"markers\",\"name\":\"Order=1\",\"x\":[0,1,2,3,4,5,6,7,8,9,10,11,12,13,14,15,16,17,18,19,20,21,22,23],\"y\":[1.0,0.3860039638400018,0.09159742770107367,0.21137250602146496,-0.02641449458306333,0.22064479307143386,0.07517538107128893,0.027293407702502926,0.06427289135059641,0.1590649312730809,-0.08699808246231595,0.1456300493565499,-0.17109987045776429,0.031294761650249296,-0.034965189106946334,0.004999809112830506,0.0465615074828944,-0.0183389891522078,-0.0035544874962295074,0.0736334581414388,-0.03009993165627034,0.13103185113958235,0.0027524353218242163,0.04808628371234861],\"type\":\"scattergl\",\"xaxis\":\"x6\",\"yaxis\":\"y6\",\"showlegend\":false},{\"line\":{\"color\":\"rgba(255,255,255,0)\"},\"mode\":\"lines\",\"name\":\"UC\",\"x\":[0,1,2,3,4,5,6,7,8,9,10,11,12,13,14,15,16,17,18,19,20,21,22,23],\"y\":[0.0,0.13790258472821815,0.1379025847282182,0.13790258472821815,0.13790258472821817,0.1379025847282182,0.13790258472821817,0.13790258472821817,0.13790258472821817,0.1379025847282182,0.13790258472821817,0.13790258472821817,0.13790258472821817,0.13790258472821817,0.13790258472821817,0.13790258472821817,0.13790258472821817,0.13790258472821817,0.13790258472821817,0.1379025847282182,0.13790258472821817,0.13790258472821817,0.13790258472821817,0.13790258472821817],\"type\":\"scatter\",\"xaxis\":\"x6\",\"yaxis\":\"y6\",\"showlegend\":false},{\"fill\":\"tonexty\",\"fillcolor\":\"rgba(32, 146, 230,0.3)\",\"line\":{\"color\":\"rgba(255,255,255,0)\"},\"mode\":\"lines\",\"name\":\"LC\",\"x\":[0,1,2,3,4,5,6,7,8,9,10,11,12,13,14,15,16,17,18,19,20,21,22,23],\"y\":[0.0,-0.13790258472821817,-0.13790258472821817,-0.13790258472821817,-0.13790258472821817,-0.13790258472821817,-0.13790258472821817,-0.13790258472821817,-0.13790258472821817,-0.13790258472821817,-0.1379025847282182,-0.13790258472821817,-0.13790258472821817,-0.13790258472821817,-0.13790258472821815,-0.13790258472821817,-0.13790258472821817,-0.13790258472821817,-0.13790258472821817,-0.13790258472821817,-0.13790258472821817,-0.13790258472821817,-0.13790258472821817,-0.13790258472821817],\"type\":\"scatter\",\"xaxis\":\"x6\",\"yaxis\":\"y6\",\"showlegend\":false},{\"line\":{\"color\":\"rgb(31, 119, 180)\",\"width\":2},\"marker\":{\"color\":\"rgb(31, 119, 180)\",\"size\":5},\"mode\":\"lines+markers\",\"name\":\"Order=2\",\"x\":[\"1959-07-01T00:00:00\",\"1959-10-01T00:00:00\",\"1960-01-01T00:00:00\",\"1960-04-01T00:00:00\",\"1960-07-01T00:00:00\",\"1960-10-01T00:00:00\",\"1961-01-01T00:00:00\",\"1961-04-01T00:00:00\",\"1961-07-01T00:00:00\",\"1961-10-01T00:00:00\",\"1962-01-01T00:00:00\",\"1962-04-01T00:00:00\",\"1962-07-01T00:00:00\",\"1962-10-01T00:00:00\",\"1963-01-01T00:00:00\",\"1963-04-01T00:00:00\",\"1963-07-01T00:00:00\",\"1963-10-01T00:00:00\",\"1964-01-01T00:00:00\",\"1964-04-01T00:00:00\",\"1964-07-01T00:00:00\",\"1964-10-01T00:00:00\",\"1965-01-01T00:00:00\",\"1965-04-01T00:00:00\",\"1965-07-01T00:00:00\",\"1965-10-01T00:00:00\",\"1966-01-01T00:00:00\",\"1966-04-01T00:00:00\",\"1966-07-01T00:00:00\",\"1966-10-01T00:00:00\",\"1967-01-01T00:00:00\",\"1967-04-01T00:00:00\",\"1967-07-01T00:00:00\",\"1967-10-01T00:00:00\",\"1968-01-01T00:00:00\",\"1968-04-01T00:00:00\",\"1968-07-01T00:00:00\",\"1968-10-01T00:00:00\",\"1969-01-01T00:00:00\",\"1969-04-01T00:00:00\",\"1969-07-01T00:00:00\",\"1969-10-01T00:00:00\",\"1970-01-01T00:00:00\",\"1970-04-01T00:00:00\",\"1970-07-01T00:00:00\",\"1970-10-01T00:00:00\",\"1971-01-01T00:00:00\",\"1971-04-01T00:00:00\",\"1971-07-01T00:00:00\",\"1971-10-01T00:00:00\",\"1972-01-01T00:00:00\",\"1972-04-01T00:00:00\",\"1972-07-01T00:00:00\",\"1972-10-01T00:00:00\",\"1973-01-01T00:00:00\",\"1973-04-01T00:00:00\",\"1973-07-01T00:00:00\",\"1973-10-01T00:00:00\",\"1974-01-01T00:00:00\",\"1974-04-01T00:00:00\",\"1974-07-01T00:00:00\",\"1974-10-01T00:00:00\",\"1975-01-01T00:00:00\",\"1975-04-01T00:00:00\",\"1975-07-01T00:00:00\",\"1975-10-01T00:00:00\",\"1976-01-01T00:00:00\",\"1976-04-01T00:00:00\",\"1976-07-01T00:00:00\",\"1976-10-01T00:00:00\",\"1977-01-01T00:00:00\",\"1977-04-01T00:00:00\",\"1977-07-01T00:00:00\",\"1977-10-01T00:00:00\",\"1978-01-01T00:00:00\",\"1978-04-01T00:00:00\",\"1978-07-01T00:00:00\",\"1978-10-01T00:00:00\",\"1979-01-01T00:00:00\",\"1979-04-01T00:00:00\",\"1979-07-01T00:00:00\",\"1979-10-01T00:00:00\",\"1980-01-01T00:00:00\",\"1980-04-01T00:00:00\",\"1980-07-01T00:00:00\",\"1980-10-01T00:00:00\",\"1981-01-01T00:00:00\",\"1981-04-01T00:00:00\",\"1981-07-01T00:00:00\",\"1981-10-01T00:00:00\",\"1982-01-01T00:00:00\",\"1982-04-01T00:00:00\",\"1982-07-01T00:00:00\",\"1982-10-01T00:00:00\",\"1983-01-01T00:00:00\",\"1983-04-01T00:00:00\",\"1983-07-01T00:00:00\",\"1983-10-01T00:00:00\",\"1984-01-01T00:00:00\",\"1984-04-01T00:00:00\",\"1984-07-01T00:00:00\",\"1984-10-01T00:00:00\",\"1985-01-01T00:00:00\",\"1985-04-01T00:00:00\",\"1985-07-01T00:00:00\",\"1985-10-01T00:00:00\",\"1986-01-01T00:00:00\",\"1986-04-01T00:00:00\",\"1986-07-01T00:00:00\",\"1986-10-01T00:00:00\",\"1987-01-01T00:00:00\",\"1987-04-01T00:00:00\",\"1987-07-01T00:00:00\",\"1987-10-01T00:00:00\",\"1988-01-01T00:00:00\",\"1988-04-01T00:00:00\",\"1988-07-01T00:00:00\",\"1988-10-01T00:00:00\",\"1989-01-01T00:00:00\",\"1989-04-01T00:00:00\",\"1989-07-01T00:00:00\",\"1989-10-01T00:00:00\",\"1990-01-01T00:00:00\",\"1990-04-01T00:00:00\",\"1990-07-01T00:00:00\",\"1990-10-01T00:00:00\",\"1991-01-01T00:00:00\",\"1991-04-01T00:00:00\",\"1991-07-01T00:00:00\",\"1991-10-01T00:00:00\",\"1992-01-01T00:00:00\",\"1992-04-01T00:00:00\",\"1992-07-01T00:00:00\",\"1992-10-01T00:00:00\",\"1993-01-01T00:00:00\",\"1993-04-01T00:00:00\",\"1993-07-01T00:00:00\",\"1993-10-01T00:00:00\",\"1994-01-01T00:00:00\",\"1994-04-01T00:00:00\",\"1994-07-01T00:00:00\",\"1994-10-01T00:00:00\",\"1995-01-01T00:00:00\",\"1995-04-01T00:00:00\",\"1995-07-01T00:00:00\",\"1995-10-01T00:00:00\",\"1996-01-01T00:00:00\",\"1996-04-01T00:00:00\",\"1996-07-01T00:00:00\",\"1996-10-01T00:00:00\",\"1997-01-01T00:00:00\",\"1997-04-01T00:00:00\",\"1997-07-01T00:00:00\",\"1997-10-01T00:00:00\",\"1998-01-01T00:00:00\",\"1998-04-01T00:00:00\",\"1998-07-01T00:00:00\",\"1998-10-01T00:00:00\",\"1999-01-01T00:00:00\",\"1999-04-01T00:00:00\",\"1999-07-01T00:00:00\",\"1999-10-01T00:00:00\",\"2000-01-01T00:00:00\",\"2000-04-01T00:00:00\",\"2000-07-01T00:00:00\",\"2000-10-01T00:00:00\",\"2001-01-01T00:00:00\",\"2001-04-01T00:00:00\",\"2001-07-01T00:00:00\",\"2001-10-01T00:00:00\",\"2002-01-01T00:00:00\",\"2002-04-01T00:00:00\",\"2002-07-01T00:00:00\",\"2002-10-01T00:00:00\",\"2003-01-01T00:00:00\",\"2003-04-01T00:00:00\",\"2003-07-01T00:00:00\",\"2003-10-01T00:00:00\",\"2004-01-01T00:00:00\",\"2004-04-01T00:00:00\",\"2004-07-01T00:00:00\",\"2004-10-01T00:00:00\",\"2005-01-01T00:00:00\",\"2005-04-01T00:00:00\",\"2005-07-01T00:00:00\",\"2005-10-01T00:00:00\",\"2006-01-01T00:00:00\",\"2006-04-01T00:00:00\",\"2006-07-01T00:00:00\",\"2006-10-01T00:00:00\",\"2007-01-01T00:00:00\",\"2007-04-01T00:00:00\",\"2007-07-01T00:00:00\",\"2007-10-01T00:00:00\",\"2008-01-01T00:00:00\",\"2008-04-01T00:00:00\",\"2008-07-01T00:00:00\",\"2008-10-01T00:00:00\",\"2009-01-01T00:00:00\",\"2009-04-01T00:00:00\",\"2009-07-01T00:00:00\"],\"y\":[0.03000000000000469,-0.18000000000000327,0.14999999999999858,-0.1599999999999966,0.18999999999999773,-0.10999999999999943,-0.120000000000001,0.14000000000000412,-0.05000000000000426,0.0,0.11000000000000298,-0.1600000000000037,0.15000000000000213,-0.09999999999999787,-0.020000000000003126,0.1700000000000017,-0.15000000000000213,0.13000000000000256,-0.18000000000000327,0.060000000000002274,0.030000000000001137,0.05999999999999872,-0.060000000000002274,0.10000000000000142,-0.129999999999999,0.16000000000000014,0.1700000000000017,-0.23000000000000043,0.22999999999999687,-0.3500000000000014,0.15000000000000568,0.09999999999999432,7.105427357601002e-15,0.09999999999999432,-0.10000000000000142,0.20000000000000284,-0.10000000000000142,7.105427357601002e-15,0.19999999999998863,-0.09999999999999432,0.0,0.10000000000000142,0.0,-0.20000000000000284,0.10000000000000142,0.0,-0.29999999999999716,0.29999999999999716,-0.20000000000000284,7.105427357601002e-15,-7.105427357601002e-15,0.0,0.10000000000000853,0.09999999999999432,0.5,-0.5,0.8999999999999986,-0.20000000000000284,0.10000000000000853,-0.10000000000000853,0.5000000000000071,-0.4000000000000057,-0.5999999999999943,0.29999999999999716,-0.10000000000000142,0.0,-0.5999999999999943,0.5999999999999943,0.0,-0.09999999999999432,0.4999999999999929,-0.5,7.105427357601002e-15,0.29999999999999716,0.09999999999999432,0.4000000000000057,-7.105427357601002e-15,-0.19999999999998863,0.6999999999999886,0.30000000000001137,-0.20000000000000284,0.5999999999999943,0.10000000000000853,-1.200000000000017,0.4000000000000199,0.3999999999999915,-0.6000000000000085,0.5000000000000142,-0.5,-0.9000000000000057,-0.4000000000000057,1.9000000000000057,-1.9000000000000057,-0.799999999999983,1.09999999999998,0.10000000000000853,0.0,0.29999999999999716,-0.09999999999999432,-0.4000000000000057,0.20000000000000284,-0.3999999999999915,0.6999999999999886,-0.5999999999999943,0.09999999999999432,0.6000000000000085,-2.6000000000000085,2.0,-0.09999999999999432,0.5,0.09999999999999432,-0.20000000000000284,0.10000000000000853,-0.20000000000000284,0.20000000000000284,0.09999999999999432,0.10000000000000853,-0.10000000000000853,0.5999999999999943,-0.4999999999999858,-0.5,1.1999999999999886,-0.6999999999999886,0.19999999999998863,1.3000000000000114,-1.6000000000000227,-0.8999999999999773,0.6999999999999886,-0.09999999999999432,0.10000000000002274,-2.842170943040401e-14,0.0,0.09999999999999432,-0.0999999999999659,-0.10000000000002274,-0.30000000000001137,0.4000000000000057,-0.39999999999997726,0.1999999999999602,0.3000000000000398,-0.20000000000001705,0.09999999999999432,0.20000000000001705,-0.5000000000000284,0.10000000000002274,0.29999999999998295,0.20000000000001705,-0.5,0.29999999999998295,2.842170943040401e-14,-0.700000000000017,0.0,0.5999999999999943,-0.5999999999999943,-0.30000000000001137,0.8000000000000114,-0.29999999999998295,0.0999999999999659,0.4000000000000341,-0.4000000000000341,0.6000000000000227,-0.19999999999998863,0.39999999999997726,0.19999999999998863,-0.5999999999999659,0.4999999999999716,-0.8999999999999773,0.19999999999998863,-0.8000000000000114,-0.09999999999999432,1.5000000000000284,-0.9000000000000341,0.5,0.20000000000001705,-0.8000000000000114,-0.09999999999999432,0.700000000000017,0.19999999999998863,-0.30000000000001137,0.5999999999999943,2.842170943040401e-14,-0.700000000000017,1.0,-1.1000000000000227,3.6000000000000227,-4.299999999999983,1.099999999999966,0.700000000000017,-2.799999999999983,2.4739999999999895,0.6719999999999686,-0.9279999999999688,0.37700000000000955,1.5669999999999789,-1.8599999999999852,3.11099999999999,-6.334000000000003,-2.9939999999999998,5.211999999999989,1.3010000000000161,0.117999999999995],\"type\":\"scattergl\",\"xaxis\":\"x7\",\"yaxis\":\"y7\",\"showlegend\":false},{\"line\":{\"color\":\"#3f3f3f\"},\"mode\":\"lines\",\"name\":\"Order=2\",\"x\":[0,0],\"y\":[0,1.0],\"type\":\"scattergl\",\"xaxis\":\"x8\",\"yaxis\":\"y8\",\"showlegend\":false},{\"line\":{\"color\":\"#3f3f3f\"},\"mode\":\"lines\",\"name\":\"Order=2\",\"x\":[1,1],\"y\":[0,-0.37292492470514155],\"type\":\"scattergl\",\"xaxis\":\"x8\",\"yaxis\":\"y8\",\"showlegend\":false},{\"line\":{\"color\":\"#3f3f3f\"},\"mode\":\"lines\",\"name\":\"Order=2\",\"x\":[2,2],\"y\":[0,-0.1771621015189585],\"type\":\"scattergl\",\"xaxis\":\"x8\",\"yaxis\":\"y8\",\"showlegend\":false},{\"line\":{\"color\":\"#3f3f3f\"},\"mode\":\"lines\",\"name\":\"Order=2\",\"x\":[3,3],\"y\":[0,0.18660388388173751],\"type\":\"scattergl\",\"xaxis\":\"x8\",\"yaxis\":\"y8\",\"showlegend\":false},{\"line\":{\"color\":\"#3f3f3f\"},\"mode\":\"lines\",\"name\":\"Order=2\",\"x\":[4,4],\"y\":[0,-0.21429652840181376],\"type\":\"scattergl\",\"xaxis\":\"x8\",\"yaxis\":\"y8\",\"showlegend\":false},{\"line\":{\"color\":\"#3f3f3f\"},\"mode\":\"lines\",\"name\":\"Order=2\",\"x\":[5,5],\"y\":[0,0.06444471039935433],\"type\":\"scattergl\",\"xaxis\":\"x8\",\"yaxis\":\"y8\",\"showlegend\":false},{\"line\":{\"color\":\"#3f3f3f\"},\"mode\":\"lines\",\"name\":\"Order=2\",\"x\":[6,6],\"y\":[0,0.08574993944898088],\"type\":\"scattergl\",\"xaxis\":\"x8\",\"yaxis\":\"y8\",\"showlegend\":false},{\"line\":{\"color\":\"#3f3f3f\"},\"mode\":\"lines\",\"name\":\"Order=2\",\"x\":[7,7],\"y\":[0,-0.11671670156844308],\"type\":\"scattergl\",\"xaxis\":\"x8\",\"yaxis\":\"y8\",\"showlegend\":false},{\"line\":{\"color\":\"#3f3f3f\"},\"mode\":\"lines\",\"name\":\"Order=2\",\"x\":[8,8],\"y\":[0,-0.009598943207427761],\"type\":\"scattergl\",\"xaxis\":\"x8\",\"yaxis\":\"y8\",\"showlegend\":false},{\"line\":{\"color\":\"#3f3f3f\"},\"mode\":\"lines\",\"name\":\"Order=2\",\"x\":[9,9],\"y\":[0,0.1637508365636434],\"type\":\"scattergl\",\"xaxis\":\"x8\",\"yaxis\":\"y8\",\"showlegend\":false},{\"line\":{\"color\":\"#3f3f3f\"},\"mode\":\"lines\",\"name\":\"Order=2\",\"x\":[10,10],\"y\":[0,-0.193960253388673],\"type\":\"scattergl\",\"xaxis\":\"x8\",\"yaxis\":\"y8\",\"showlegend\":false},{\"line\":{\"color\":\"#3f3f3f\"},\"mode\":\"lines\",\"name\":\"Order=2\",\"x\":[11,11],\"y\":[0,0.19084317038704796],\"type\":\"scattergl\",\"xaxis\":\"x8\",\"yaxis\":\"y8\",\"showlegend\":false},{\"line\":{\"color\":\"#3f3f3f\"},\"mode\":\"lines\",\"name\":\"Order=2\",\"x\":[12,12],\"y\":[0,-0.06879753717605709],\"type\":\"scattergl\",\"xaxis\":\"x8\",\"yaxis\":\"y8\",\"showlegend\":false},{\"line\":{\"color\":\"#3f3f3f\"},\"mode\":\"lines\",\"name\":\"Order=2\",\"x\":[13,13],\"y\":[0,-0.11249142707419212],\"type\":\"scattergl\",\"xaxis\":\"x8\",\"yaxis\":\"y8\",\"showlegend\":false},{\"line\":{\"color\":\"#3f3f3f\"},\"mode\":\"lines\",\"name\":\"Order=2\",\"x\":[14,14],\"y\":[0,0.13028079150049887],\"type\":\"scattergl\",\"xaxis\":\"x8\",\"yaxis\":\"y8\",\"showlegend\":false},{\"line\":{\"color\":\"#3f3f3f\"},\"mode\":\"lines\",\"name\":\"Order=2\",\"x\":[15,15],\"y\":[0,-0.10437696096035026],\"type\":\"scattergl\",\"xaxis\":\"x8\",\"yaxis\":\"y8\",\"showlegend\":false},{\"line\":{\"color\":\"#3f3f3f\"},\"mode\":\"lines\",\"name\":\"Order=2\",\"x\":[16,16],\"y\":[0,0.053936331360693],\"type\":\"scattergl\",\"xaxis\":\"x8\",\"yaxis\":\"y8\",\"showlegend\":false},{\"line\":{\"color\":\"#3f3f3f\"},\"mode\":\"lines\",\"name\":\"Order=2\",\"x\":[17,17],\"y\":[0,0.028708061389116205],\"type\":\"scattergl\",\"xaxis\":\"x8\",\"yaxis\":\"y8\",\"showlegend\":false},{\"line\":{\"color\":\"#3f3f3f\"},\"mode\":\"lines\",\"name\":\"Order=2\",\"x\":[18,18],\"y\":[0,-0.0812734837879233],\"type\":\"scattergl\",\"xaxis\":\"x8\",\"yaxis\":\"y8\",\"showlegend\":false},{\"line\":{\"color\":\"#3f3f3f\"},\"mode\":\"lines\",\"name\":\"Order=2\",\"x\":[19,19],\"y\":[0,0.05978860509166672],\"type\":\"scattergl\",\"xaxis\":\"x8\",\"yaxis\":\"y8\",\"showlegend\":false},{\"line\":{\"color\":\"#3f3f3f\"},\"mode\":\"lines\",\"name\":\"Order=2\",\"x\":[20,20],\"y\":[0,-0.027755487445528373],\"type\":\"scattergl\",\"xaxis\":\"x8\",\"yaxis\":\"y8\",\"showlegend\":false},{\"line\":{\"color\":\"#3f3f3f\"},\"mode\":\"lines\",\"name\":\"Order=2\",\"x\":[21,21],\"y\":[0,-0.010811431657880103],\"type\":\"scattergl\",\"xaxis\":\"x8\",\"yaxis\":\"y8\",\"showlegend\":false},{\"line\":{\"color\":\"#3f3f3f\"},\"mode\":\"lines\",\"name\":\"Order=2\",\"x\":[22,22],\"y\":[0,0.059729477162523886],\"type\":\"scattergl\",\"xaxis\":\"x8\",\"yaxis\":\"y8\",\"showlegend\":false},{\"line\":{\"color\":\"#3f3f3f\"},\"mode\":\"lines\",\"name\":\"Order=2\",\"x\":[23,23],\"y\":[0,-0.009690519346909895],\"type\":\"scattergl\",\"xaxis\":\"x8\",\"yaxis\":\"y8\",\"showlegend\":false},{\"line\":{\"color\":\"#3f3f3f\"},\"mode\":\"lines\",\"name\":\"Order=2\",\"x\":[24,24],\"y\":[0,-0.012472304571182318],\"type\":\"scattergl\",\"xaxis\":\"x8\",\"yaxis\":\"y8\",\"showlegend\":false},{\"line\":{\"color\":\"#3f3f3f\"},\"mode\":\"lines\",\"name\":\"Order=2\",\"x\":[25,25],\"y\":[0,0.002156480401162446],\"type\":\"scattergl\",\"xaxis\":\"x8\",\"yaxis\":\"y8\",\"showlegend\":false},{\"line\":{\"color\":\"#3f3f3f\"},\"mode\":\"lines\",\"name\":\"Order=2\",\"x\":[26,26],\"y\":[0,-0.029664221573235318],\"type\":\"scattergl\",\"xaxis\":\"x8\",\"yaxis\":\"y8\",\"showlegend\":false},{\"line\":{\"color\":\"#3f3f3f\"},\"mode\":\"lines\",\"name\":\"Order=2\",\"x\":[27,27],\"y\":[0,-0.026970768225563053],\"type\":\"scattergl\",\"xaxis\":\"x8\",\"yaxis\":\"y8\",\"showlegend\":false},{\"line\":{\"color\":\"#3f3f3f\"},\"mode\":\"lines\",\"name\":\"Order=2\",\"x\":[28,28],\"y\":[0,0.06347324052220357],\"type\":\"scattergl\",\"xaxis\":\"x8\",\"yaxis\":\"y8\",\"showlegend\":false},{\"line\":{\"color\":\"#3f3f3f\"},\"mode\":\"lines\",\"name\":\"Order=2\",\"x\":[29,29],\"y\":[0,-0.007802564775001046],\"type\":\"scattergl\",\"xaxis\":\"x8\",\"yaxis\":\"y8\",\"showlegend\":false},{\"line\":{\"color\":\"#3f3f3f\"},\"mode\":\"lines\",\"name\":\"Order=2\",\"x\":[30,30],\"y\":[0,-0.0020771614608185228],\"type\":\"scattergl\",\"xaxis\":\"x8\",\"yaxis\":\"y8\",\"showlegend\":false},{\"line\":{\"color\":\"#3f3f3f\"},\"mode\":\"lines\",\"name\":\"Order=2\",\"x\":[31,31],\"y\":[0,0.010567343196601646],\"type\":\"scattergl\",\"xaxis\":\"x8\",\"yaxis\":\"y8\",\"showlegend\":false},{\"line\":{\"color\":\"#3f3f3f\"},\"mode\":\"lines\",\"name\":\"Order=2\",\"x\":[32,32],\"y\":[0,-0.01671891347189458],\"type\":\"scattergl\",\"xaxis\":\"x8\",\"yaxis\":\"y8\",\"showlegend\":false},{\"line\":{\"color\":\"#3f3f3f\"},\"mode\":\"lines\",\"name\":\"Order=2\",\"x\":[33,33],\"y\":[0,0.0031386318991600843],\"type\":\"scattergl\",\"xaxis\":\"x8\",\"yaxis\":\"y8\",\"showlegend\":false},{\"line\":{\"color\":\"#3f3f3f\"},\"mode\":\"lines\",\"name\":\"Order=2\",\"x\":[34,34],\"y\":[0,-0.013785961247240956],\"type\":\"scattergl\",\"xaxis\":\"x8\",\"yaxis\":\"y8\",\"showlegend\":false},{\"line\":{\"color\":\"#3f3f3f\"},\"mode\":\"lines\",\"name\":\"Order=2\",\"x\":[35,35],\"y\":[0,0.01566485617749427],\"type\":\"scattergl\",\"xaxis\":\"x8\",\"yaxis\":\"y8\",\"showlegend\":false},{\"line\":{\"color\":\"#3f3f3f\"},\"mode\":\"lines\",\"name\":\"Order=2\",\"x\":[36,36],\"y\":[0,-0.052983359539327514],\"type\":\"scattergl\",\"xaxis\":\"x8\",\"yaxis\":\"y8\",\"showlegend\":false},{\"line\":{\"color\":\"#3f3f3f\"},\"mode\":\"lines\",\"name\":\"Order=2\",\"x\":[37,37],\"y\":[0,0.04147584578222901],\"type\":\"scattergl\",\"xaxis\":\"x8\",\"yaxis\":\"y8\",\"showlegend\":false},{\"line\":{\"color\":\"#3f3f3f\"},\"mode\":\"lines\",\"name\":\"Order=2\",\"x\":[38,38],\"y\":[0,0.02654682003985709],\"type\":\"scattergl\",\"xaxis\":\"x8\",\"yaxis\":\"y8\",\"showlegend\":false},{\"line\":{\"color\":\"#3f3f3f\"},\"mode\":\"lines\",\"name\":\"Order=2\",\"x\":[39,39],\"y\":[0,-0.05020732385808702],\"type\":\"scattergl\",\"xaxis\":\"x8\",\"yaxis\":\"y8\",\"showlegend\":false},{\"line\":{\"color\":\"#3f3f3f\"},\"mode\":\"lines\",\"name\":\"Order=2\",\"x\":[40,40],\"y\":[0,0.03551929372946463],\"type\":\"scattergl\",\"xaxis\":\"x8\",\"yaxis\":\"y8\",\"showlegend\":false},{\"marker\":{\"color\":\"#1f77b4\",\"size\":6},\"mode\":\"markers\",\"name\":\"Order=2\",\"x\":[0,1,2,3,4,5,6,7,8,9,10,11,12,13,14,15,16,17,18,19,20,21,22,23,24,25,26,27,28,29,30,31,32,33,34,35,36,37,38,39,40],\"y\":[1.0,-0.37292492470514155,-0.1771621015189585,0.18660388388173751,-0.21429652840181376,0.06444471039935433,0.08574993944898088,-0.11671670156844308,-0.009598943207427761,0.1637508365636434,-0.193960253388673,0.19084317038704796,-0.06879753717605709,-0.11249142707419212,0.13028079150049887,-0.10437696096035026,0.053936331360693,0.028708061389116205,-0.0812734837879233,0.05978860509166672,-0.027755487445528373,-0.010811431657880103,0.059729477162523886,-0.009690519346909895,-0.012472304571182318,0.002156480401162446,-0.029664221573235318,-0.026970768225563053,0.06347324052220357,-0.007802564775001046,-0.0020771614608185228,0.010567343196601646,-0.01671891347189458,0.0031386318991600843,-0.013785961247240956,0.01566485617749427,-0.052983359539327514,0.04147584578222901,0.02654682003985709,-0.05020732385808702,0.03551929372946463],\"type\":\"scattergl\",\"xaxis\":\"x8\",\"yaxis\":\"y8\",\"showlegend\":false},{\"line\":{\"color\":\"rgba(255,255,255,0)\"},\"mode\":\"lines\",\"name\":\"UC\",\"x\":[0,1,2,3,4,5,6,7,8,9,10,11,12,13,14,15,16,17,18,19,20,21,22,23,24,25,26,27,28,29,30,31,32,33,34,35,36,37,38,39,40],\"y\":[0.0,0.13824520037360766,0.15629327614403282,0.1600852451159799,0.16418972423618164,0.1694508839647037,0.16991865337385595,0.17074369076952678,0.17226177229407466,0.17227199451286881,0.1752215086744181,0.1792779022668471,0.1831193809921464,0.1836126990371498,0.18492516141381343,0.1866710623790215,0.18778315431182868,0.18807899937665523,0.18816272741066897,0.1888324455825413,0.18919389281428223,0.18927169672715988,0.18928349904547528,0.18964337442854703,0.18965283779636674,0.18966851311029229,0.1896689817028422,0.18975762956079914,0.18983087889775332,0.19023606203902207,0.19024217814583752,0.19024261159017386,0.19025382947936612,0.19028190648395973,0.19028289590757125,0.19030198356786,0.19032662588347748,0.19060830736997095,0.19078071339368843,0.190851298055046,0.19110356028378633],\"type\":\"scatter\",\"xaxis\":\"x8\",\"yaxis\":\"y8\",\"showlegend\":false},{\"fill\":\"tonexty\",\"fillcolor\":\"rgba(32, 146, 230,0.3)\",\"line\":{\"color\":\"rgba(255,255,255,0)\"},\"mode\":\"lines\",\"name\":\"LC\",\"x\":[0,1,2,3,4,5,6,7,8,9,10,11,12,13,14,15,16,17,18,19,20,21,22,23,24,25,26,27,28,29,30,31,32,33,34,35,36,37,38,39,40],\"y\":[0.0,-0.1382452003736077,-0.15629327614403282,-0.16008524511597994,-0.16418972423618164,-0.16945088396470373,-0.16991865337385595,-0.17074369076952675,-0.17226177229407466,-0.17227199451286884,-0.1752215086744181,-0.17927790226684712,-0.18311938099214642,-0.18361269903714977,-0.18492516141381343,-0.18667106237902148,-0.18778315431182868,-0.18807899937665523,-0.18816272741066897,-0.1888324455825413,-0.18919389281428223,-0.18927169672715988,-0.18928349904547528,-0.18964337442854703,-0.18965283779636674,-0.18966851311029229,-0.1896689817028422,-0.18975762956079914,-0.1898308788977533,-0.19023606203902207,-0.19024217814583752,-0.19024261159017386,-0.19025382947936612,-0.19028190648395973,-0.19028289590757125,-0.19030198356786,-0.19032662588347748,-0.19060830736997095,-0.19078071339368843,-0.190851298055046,-0.19110356028378633],\"type\":\"scatter\",\"xaxis\":\"x8\",\"yaxis\":\"y8\",\"showlegend\":false},{\"line\":{\"color\":\"#3f3f3f\"},\"mode\":\"lines\",\"name\":\"Order=2\",\"x\":[0,0],\"y\":[0,1.0],\"type\":\"scattergl\",\"xaxis\":\"x9\",\"yaxis\":\"y9\",\"showlegend\":false},{\"line\":{\"color\":\"#3f3f3f\"},\"mode\":\"lines\",\"name\":\"Order=2\",\"x\":[1,1],\"y\":[0,-0.37478954932866715],\"type\":\"scattergl\",\"xaxis\":\"x9\",\"yaxis\":\"y9\",\"showlegend\":false},{\"line\":{\"color\":\"#3f3f3f\"},\"mode\":\"lines\",\"name\":\"Order=2\",\"x\":[2,2],\"y\":[0,-0.3716086620245638],\"type\":\"scattergl\",\"xaxis\":\"x9\",\"yaxis\":\"y9\",\"showlegend\":false},{\"line\":{\"color\":\"#3f3f3f\"},\"mode\":\"lines\",\"name\":\"Order=2\",\"x\":[3,3],\"y\":[0,-0.056465695310136566],\"type\":\"scattergl\",\"xaxis\":\"x9\",\"yaxis\":\"y9\",\"showlegend\":false},{\"line\":{\"color\":\"#3f3f3f\"},\"mode\":\"lines\",\"name\":\"Order=2\",\"x\":[4,4],\"y\":[0,-0.2845681448438712],\"type\":\"scattergl\",\"xaxis\":\"x9\",\"yaxis\":\"y9\",\"showlegend\":false},{\"line\":{\"color\":\"#3f3f3f\"},\"mode\":\"lines\",\"name\":\"Order=2\",\"x\":[5,5],\"y\":[0,-0.1487084740271832],\"type\":\"scattergl\",\"xaxis\":\"x9\",\"yaxis\":\"y9\",\"showlegend\":false},{\"line\":{\"color\":\"#3f3f3f\"},\"mode\":\"lines\",\"name\":\"Order=2\",\"x\":[6,6],\"y\":[0,-0.08888433411828804],\"type\":\"scattergl\",\"xaxis\":\"x9\",\"yaxis\":\"y9\",\"showlegend\":false},{\"line\":{\"color\":\"#3f3f3f\"},\"mode\":\"lines\",\"name\":\"Order=2\",\"x\":[7,7],\"y\":[0,-0.1332695694268778],\"type\":\"scattergl\",\"xaxis\":\"x9\",\"yaxis\":\"y9\",\"showlegend\":false},{\"line\":{\"color\":\"#3f3f3f\"},\"mode\":\"lines\",\"name\":\"Order=2\",\"x\":[8,8],\"y\":[0,-0.2079361501155786],\"type\":\"scattergl\",\"xaxis\":\"x9\",\"yaxis\":\"y9\",\"showlegend\":false},{\"line\":{\"color\":\"#3f3f3f\"},\"mode\":\"lines\",\"name\":\"Order=2\",\"x\":[9,9],\"y\":[0,0.024375306989366893],\"type\":\"scattergl\",\"xaxis\":\"x9\",\"yaxis\":\"y9\",\"showlegend\":false},{\"line\":{\"color\":\"#3f3f3f\"},\"mode\":\"lines\",\"name\":\"Order=2\",\"x\":[10,10],\"y\":[0,-0.1962819230631837],\"type\":\"scattergl\",\"xaxis\":\"x9\",\"yaxis\":\"y9\",\"showlegend\":false},{\"line\":{\"color\":\"#3f3f3f\"},\"mode\":\"lines\",\"name\":\"Order=2\",\"x\":[11,11],\"y\":[0,0.1153915208820521],\"type\":\"scattergl\",\"xaxis\":\"x9\",\"yaxis\":\"y9\",\"showlegend\":false},{\"line\":{\"color\":\"#3f3f3f\"},\"mode\":\"lines\",\"name\":\"Order=2\",\"x\":[12,12],\"y\":[0,-0.07526742595947991],\"type\":\"scattergl\",\"xaxis\":\"x9\",\"yaxis\":\"y9\",\"showlegend\":false},{\"line\":{\"color\":\"#3f3f3f\"},\"mode\":\"lines\",\"name\":\"Order=2\",\"x\":[13,13],\"y\":[0,-0.02793828364661036],\"type\":\"scattergl\",\"xaxis\":\"x9\",\"yaxis\":\"y9\",\"showlegend\":false},{\"line\":{\"color\":\"#3f3f3f\"},\"mode\":\"lines\",\"name\":\"Order=2\",\"x\":[14,14],\"y\":[0,-0.05082056953230288],\"type\":\"scattergl\",\"xaxis\":\"x9\",\"yaxis\":\"y9\",\"showlegend\":false},{\"line\":{\"color\":\"#3f3f3f\"},\"mode\":\"lines\",\"name\":\"Order=2\",\"x\":[15,15],\"y\":[0,-0.0934327800898847],\"type\":\"scattergl\",\"xaxis\":\"x9\",\"yaxis\":\"y9\",\"showlegend\":false},{\"line\":{\"color\":\"#3f3f3f\"},\"mode\":\"lines\",\"name\":\"Order=2\",\"x\":[16,16],\"y\":[0,-0.02597993459044986],\"type\":\"scattergl\",\"xaxis\":\"x9\",\"yaxis\":\"y9\",\"showlegend\":false},{\"line\":{\"color\":\"#3f3f3f\"},\"mode\":\"lines\",\"name\":\"Order=2\",\"x\":[17,17],\"y\":[0,-0.042753878854633685],\"type\":\"scattergl\",\"xaxis\":\"x9\",\"yaxis\":\"y9\",\"showlegend\":false},{\"line\":{\"color\":\"#3f3f3f\"},\"mode\":\"lines\",\"name\":\"Order=2\",\"x\":[18,18],\"y\":[0,-0.11987355497005608],\"type\":\"scattergl\",\"xaxis\":\"x9\",\"yaxis\":\"y9\",\"showlegend\":false},{\"line\":{\"color\":\"#3f3f3f\"},\"mode\":\"lines\",\"name\":\"Order=2\",\"x\":[19,19],\"y\":[0,-0.007779477426821987],\"type\":\"scattergl\",\"xaxis\":\"x9\",\"yaxis\":\"y9\",\"showlegend\":false},{\"line\":{\"color\":\"#3f3f3f\"},\"mode\":\"lines\",\"name\":\"Order=2\",\"x\":[20,20],\"y\":[0,-0.18533223946455513],\"type\":\"scattergl\",\"xaxis\":\"x9\",\"yaxis\":\"y9\",\"showlegend\":false},{\"line\":{\"color\":\"#3f3f3f\"},\"mode\":\"lines\",\"name\":\"Order=2\",\"x\":[21,21],\"y\":[0,-0.04959028839109999],\"type\":\"scattergl\",\"xaxis\":\"x9\",\"yaxis\":\"y9\",\"showlegend\":false},{\"line\":{\"color\":\"#3f3f3f\"},\"mode\":\"lines\",\"name\":\"Order=2\",\"x\":[22,22],\"y\":[0,-0.09515020863464349],\"type\":\"scattergl\",\"xaxis\":\"x9\",\"yaxis\":\"y9\",\"showlegend\":false},{\"line\":{\"color\":\"#3f3f3f\"},\"mode\":\"lines\",\"name\":\"Order=2\",\"x\":[23,23],\"y\":[0,-0.012675407369240676],\"type\":\"scattergl\",\"xaxis\":\"x9\",\"yaxis\":\"y9\",\"showlegend\":false},{\"marker\":{\"color\":\"#1f77b4\",\"size\":6},\"mode\":\"markers\",\"name\":\"Order=2\",\"x\":[0,1,2,3,4,5,6,7,8,9,10,11,12,13,14,15,16,17,18,19,20,21,22,23],\"y\":[1.0,-0.37478954932866715,-0.3716086620245638,-0.056465695310136566,-0.2845681448438712,-0.1487084740271832,-0.08888433411828804,-0.1332695694268778,-0.2079361501155786,0.024375306989366893,-0.1962819230631837,0.1153915208820521,-0.07526742595947991,-0.02793828364661036,-0.05082056953230288,-0.0934327800898847,-0.02597993459044986,-0.042753878854633685,-0.11987355497005608,-0.007779477426821987,-0.18533223946455513,-0.04959028839109999,-0.09515020863464349,-0.012675407369240676],\"type\":\"scattergl\",\"xaxis\":\"x9\",\"yaxis\":\"y9\",\"showlegend\":false},{\"line\":{\"color\":\"rgba(255,255,255,0)\"},\"mode\":\"lines\",\"name\":\"UC\",\"x\":[0,1,2,3,4,5,6,7,8,9,10,11,12,13,14,15,16,17,18,19,20,21,22,23],\"y\":[0.0,0.13824520037360766,0.13824520037360766,0.13824520037360766,0.13824520037360766,0.13824520037360766,0.13824520037360766,0.13824520037360766,0.13824520037360766,0.13824520037360766,0.13824520037360766,0.13824520037360763,0.13824520037360766,0.13824520037360766,0.13824520037360766,0.13824520037360766,0.13824520037360766,0.13824520037360766,0.13824520037360766,0.13824520037360766,0.13824520037360766,0.13824520037360766,0.13824520037360766,0.13824520037360766],\"type\":\"scatter\",\"xaxis\":\"x9\",\"yaxis\":\"y9\",\"showlegend\":false},{\"fill\":\"tonexty\",\"fillcolor\":\"rgba(32, 146, 230,0.3)\",\"line\":{\"color\":\"rgba(255,255,255,0)\"},\"mode\":\"lines\",\"name\":\"LC\",\"x\":[0,1,2,3,4,5,6,7,8,9,10,11,12,13,14,15,16,17,18,19,20,21,22,23],\"y\":[0.0,-0.13824520037360766,-0.13824520037360766,-0.13824520037360766,-0.13824520037360766,-0.13824520037360769,-0.13824520037360766,-0.13824520037360766,-0.13824520037360766,-0.13824520037360766,-0.13824520037360766,-0.13824520037360766,-0.13824520037360766,-0.13824520037360766,-0.13824520037360766,-0.13824520037360766,-0.13824520037360766,-0.13824520037360766,-0.13824520037360766,-0.13824520037360766,-0.13824520037360766,-0.13824520037360766,-0.13824520037360766,-0.13824520037360766],\"type\":\"scatter\",\"xaxis\":\"x9\",\"yaxis\":\"y9\",\"showlegend\":false}],                        {\"template\":{\"data\":{\"barpolar\":[{\"marker\":{\"line\":{\"color\":\"rgb(237,237,237)\",\"width\":0.5},\"pattern\":{\"fillmode\":\"overlay\",\"size\":10,\"solidity\":0.2}},\"type\":\"barpolar\"}],\"bar\":[{\"error_x\":{\"color\":\"rgb(51,51,51)\"},\"error_y\":{\"color\":\"rgb(51,51,51)\"},\"marker\":{\"line\":{\"color\":\"rgb(237,237,237)\",\"width\":0.5},\"pattern\":{\"fillmode\":\"overlay\",\"size\":10,\"solidity\":0.2}},\"type\":\"bar\"}],\"carpet\":[{\"aaxis\":{\"endlinecolor\":\"rgb(51,51,51)\",\"gridcolor\":\"white\",\"linecolor\":\"white\",\"minorgridcolor\":\"white\",\"startlinecolor\":\"rgb(51,51,51)\"},\"baxis\":{\"endlinecolor\":\"rgb(51,51,51)\",\"gridcolor\":\"white\",\"linecolor\":\"white\",\"minorgridcolor\":\"white\",\"startlinecolor\":\"rgb(51,51,51)\"},\"type\":\"carpet\"}],\"choropleth\":[{\"colorbar\":{\"outlinewidth\":0,\"tickcolor\":\"rgb(237,237,237)\",\"ticklen\":6,\"ticks\":\"inside\"},\"type\":\"choropleth\"}],\"contourcarpet\":[{\"colorbar\":{\"outlinewidth\":0,\"tickcolor\":\"rgb(237,237,237)\",\"ticklen\":6,\"ticks\":\"inside\"},\"type\":\"contourcarpet\"}],\"contour\":[{\"colorbar\":{\"outlinewidth\":0,\"tickcolor\":\"rgb(237,237,237)\",\"ticklen\":6,\"ticks\":\"inside\"},\"colorscale\":[[0,\"rgb(20,44,66)\"],[1,\"rgb(90,179,244)\"]],\"type\":\"contour\"}],\"heatmapgl\":[{\"colorbar\":{\"outlinewidth\":0,\"tickcolor\":\"rgb(237,237,237)\",\"ticklen\":6,\"ticks\":\"inside\"},\"colorscale\":[[0,\"rgb(20,44,66)\"],[1,\"rgb(90,179,244)\"]],\"type\":\"heatmapgl\"}],\"heatmap\":[{\"colorbar\":{\"outlinewidth\":0,\"tickcolor\":\"rgb(237,237,237)\",\"ticklen\":6,\"ticks\":\"inside\"},\"colorscale\":[[0,\"rgb(20,44,66)\"],[1,\"rgb(90,179,244)\"]],\"type\":\"heatmap\"}],\"histogram2dcontour\":[{\"colorbar\":{\"outlinewidth\":0,\"tickcolor\":\"rgb(237,237,237)\",\"ticklen\":6,\"ticks\":\"inside\"},\"colorscale\":[[0,\"rgb(20,44,66)\"],[1,\"rgb(90,179,244)\"]],\"type\":\"histogram2dcontour\"}],\"histogram2d\":[{\"colorbar\":{\"outlinewidth\":0,\"tickcolor\":\"rgb(237,237,237)\",\"ticklen\":6,\"ticks\":\"inside\"},\"colorscale\":[[0,\"rgb(20,44,66)\"],[1,\"rgb(90,179,244)\"]],\"type\":\"histogram2d\"}],\"histogram\":[{\"marker\":{\"pattern\":{\"fillmode\":\"overlay\",\"size\":10,\"solidity\":0.2}},\"type\":\"histogram\"}],\"mesh3d\":[{\"colorbar\":{\"outlinewidth\":0,\"tickcolor\":\"rgb(237,237,237)\",\"ticklen\":6,\"ticks\":\"inside\"},\"type\":\"mesh3d\"}],\"parcoords\":[{\"line\":{\"colorbar\":{\"outlinewidth\":0,\"tickcolor\":\"rgb(237,237,237)\",\"ticklen\":6,\"ticks\":\"inside\"}},\"type\":\"parcoords\"}],\"pie\":[{\"automargin\":true,\"type\":\"pie\"}],\"scatter3d\":[{\"line\":{\"colorbar\":{\"outlinewidth\":0,\"tickcolor\":\"rgb(237,237,237)\",\"ticklen\":6,\"ticks\":\"inside\"}},\"marker\":{\"colorbar\":{\"outlinewidth\":0,\"tickcolor\":\"rgb(237,237,237)\",\"ticklen\":6,\"ticks\":\"inside\"}},\"type\":\"scatter3d\"}],\"scattercarpet\":[{\"marker\":{\"colorbar\":{\"outlinewidth\":0,\"tickcolor\":\"rgb(237,237,237)\",\"ticklen\":6,\"ticks\":\"inside\"}},\"type\":\"scattercarpet\"}],\"scattergeo\":[{\"marker\":{\"colorbar\":{\"outlinewidth\":0,\"tickcolor\":\"rgb(237,237,237)\",\"ticklen\":6,\"ticks\":\"inside\"}},\"type\":\"scattergeo\"}],\"scattergl\":[{\"marker\":{\"colorbar\":{\"outlinewidth\":0,\"tickcolor\":\"rgb(237,237,237)\",\"ticklen\":6,\"ticks\":\"inside\"}},\"type\":\"scattergl\"}],\"scattermapbox\":[{\"marker\":{\"colorbar\":{\"outlinewidth\":0,\"tickcolor\":\"rgb(237,237,237)\",\"ticklen\":6,\"ticks\":\"inside\"}},\"type\":\"scattermapbox\"}],\"scatterpolargl\":[{\"marker\":{\"colorbar\":{\"outlinewidth\":0,\"tickcolor\":\"rgb(237,237,237)\",\"ticklen\":6,\"ticks\":\"inside\"}},\"type\":\"scatterpolargl\"}],\"scatterpolar\":[{\"marker\":{\"colorbar\":{\"outlinewidth\":0,\"tickcolor\":\"rgb(237,237,237)\",\"ticklen\":6,\"ticks\":\"inside\"}},\"type\":\"scatterpolar\"}],\"scatter\":[{\"fillpattern\":{\"fillmode\":\"overlay\",\"size\":10,\"solidity\":0.2},\"type\":\"scatter\"}],\"scatterternary\":[{\"marker\":{\"colorbar\":{\"outlinewidth\":0,\"tickcolor\":\"rgb(237,237,237)\",\"ticklen\":6,\"ticks\":\"inside\"}},\"type\":\"scatterternary\"}],\"surface\":[{\"colorbar\":{\"outlinewidth\":0,\"tickcolor\":\"rgb(237,237,237)\",\"ticklen\":6,\"ticks\":\"inside\"},\"colorscale\":[[0,\"rgb(20,44,66)\"],[1,\"rgb(90,179,244)\"]],\"type\":\"surface\"}],\"table\":[{\"cells\":{\"fill\":{\"color\":\"rgb(237,237,237)\"},\"line\":{\"color\":\"white\"}},\"header\":{\"fill\":{\"color\":\"rgb(217,217,217)\"},\"line\":{\"color\":\"white\"}},\"type\":\"table\"}]},\"layout\":{\"annotationdefaults\":{\"arrowhead\":0,\"arrowwidth\":1},\"autotypenumbers\":\"strict\",\"coloraxis\":{\"colorbar\":{\"outlinewidth\":0,\"tickcolor\":\"rgb(237,237,237)\",\"ticklen\":6,\"ticks\":\"inside\"}},\"colorscale\":{\"sequential\":[[0,\"rgb(20,44,66)\"],[1,\"rgb(90,179,244)\"]],\"sequentialminus\":[[0,\"rgb(20,44,66)\"],[1,\"rgb(90,179,244)\"]]},\"colorway\":[\"#F8766D\",\"#A3A500\",\"#00BF7D\",\"#00B0F6\",\"#E76BF3\"],\"font\":{\"color\":\"rgb(51,51,51)\"},\"geo\":{\"bgcolor\":\"white\",\"lakecolor\":\"white\",\"landcolor\":\"rgb(237,237,237)\",\"showlakes\":true,\"showland\":true,\"subunitcolor\":\"white\"},\"hoverlabel\":{\"align\":\"left\"},\"hovermode\":\"closest\",\"paper_bgcolor\":\"white\",\"plot_bgcolor\":\"rgb(237,237,237)\",\"polar\":{\"angularaxis\":{\"gridcolor\":\"white\",\"linecolor\":\"white\",\"showgrid\":true,\"tickcolor\":\"rgb(51,51,51)\",\"ticks\":\"outside\"},\"bgcolor\":\"rgb(237,237,237)\",\"radialaxis\":{\"gridcolor\":\"white\",\"linecolor\":\"white\",\"showgrid\":true,\"tickcolor\":\"rgb(51,51,51)\",\"ticks\":\"outside\"}},\"scene\":{\"xaxis\":{\"backgroundcolor\":\"rgb(237,237,237)\",\"gridcolor\":\"white\",\"gridwidth\":2,\"linecolor\":\"white\",\"showbackground\":true,\"showgrid\":true,\"tickcolor\":\"rgb(51,51,51)\",\"ticks\":\"outside\",\"zerolinecolor\":\"white\"},\"yaxis\":{\"backgroundcolor\":\"rgb(237,237,237)\",\"gridcolor\":\"white\",\"gridwidth\":2,\"linecolor\":\"white\",\"showbackground\":true,\"showgrid\":true,\"tickcolor\":\"rgb(51,51,51)\",\"ticks\":\"outside\",\"zerolinecolor\":\"white\"},\"zaxis\":{\"backgroundcolor\":\"rgb(237,237,237)\",\"gridcolor\":\"white\",\"gridwidth\":2,\"linecolor\":\"white\",\"showbackground\":true,\"showgrid\":true,\"tickcolor\":\"rgb(51,51,51)\",\"ticks\":\"outside\",\"zerolinecolor\":\"white\"}},\"shapedefaults\":{\"fillcolor\":\"black\",\"line\":{\"width\":0},\"opacity\":0.3},\"ternary\":{\"aaxis\":{\"gridcolor\":\"white\",\"linecolor\":\"white\",\"showgrid\":true,\"tickcolor\":\"rgb(51,51,51)\",\"ticks\":\"outside\"},\"baxis\":{\"gridcolor\":\"white\",\"linecolor\":\"white\",\"showgrid\":true,\"tickcolor\":\"rgb(51,51,51)\",\"ticks\":\"outside\"},\"bgcolor\":\"rgb(237,237,237)\",\"caxis\":{\"gridcolor\":\"white\",\"linecolor\":\"white\",\"showgrid\":true,\"tickcolor\":\"rgb(51,51,51)\",\"ticks\":\"outside\"}},\"xaxis\":{\"automargin\":true,\"gridcolor\":\"white\",\"linecolor\":\"white\",\"showgrid\":true,\"tickcolor\":\"rgb(51,51,51)\",\"ticks\":\"outside\",\"title\":{\"standoff\":15},\"zerolinecolor\":\"white\"},\"yaxis\":{\"automargin\":true,\"gridcolor\":\"white\",\"linecolor\":\"white\",\"showgrid\":true,\"tickcolor\":\"rgb(51,51,51)\",\"ticks\":\"outside\",\"title\":{\"standoff\":15},\"zerolinecolor\":\"white\"}}},\"xaxis\":{\"anchor\":\"y\",\"domain\":[0.0,0.2822222222222222],\"matches\":\"x7\",\"showticklabels\":false},\"yaxis\":{\"anchor\":\"x\",\"domain\":[0.7333333333333333,1.0]},\"xaxis2\":{\"anchor\":\"y2\",\"domain\":[0.34888888888888886,0.6311111111111111],\"matches\":\"x8\",\"showticklabels\":false,\"range\":[-1,42]},\"yaxis2\":{\"anchor\":\"x2\",\"domain\":[0.7333333333333333,1.0],\"range\":[-1.1,1.1],\"zerolinecolor\":\"#000000\"},\"xaxis3\":{\"anchor\":\"y3\",\"domain\":[0.6977777777777777,0.98],\"matches\":\"x9\",\"showticklabels\":false,\"range\":[-1,25]},\"yaxis3\":{\"anchor\":\"x3\",\"domain\":[0.7333333333333333,1.0],\"range\":[-1.1,1.1],\"zerolinecolor\":\"#000000\"},\"xaxis4\":{\"anchor\":\"y4\",\"domain\":[0.0,0.2822222222222222],\"matches\":\"x7\",\"showticklabels\":false},\"yaxis4\":{\"anchor\":\"x4\",\"domain\":[0.36666666666666664,0.6333333333333333]},\"xaxis5\":{\"anchor\":\"y5\",\"domain\":[0.34888888888888886,0.6311111111111111],\"matches\":\"x8\",\"showticklabels\":false,\"range\":[-1,42]},\"yaxis5\":{\"anchor\":\"x5\",\"domain\":[0.36666666666666664,0.6333333333333333],\"range\":[-1.1,1.1],\"zerolinecolor\":\"#000000\"},\"xaxis6\":{\"anchor\":\"y6\",\"domain\":[0.6977777777777777,0.98],\"matches\":\"x9\",\"showticklabels\":false,\"range\":[-1,25]},\"yaxis6\":{\"anchor\":\"x6\",\"domain\":[0.36666666666666664,0.6333333333333333],\"range\":[-1.1,1.1],\"zerolinecolor\":\"#000000\"},\"xaxis7\":{\"anchor\":\"y7\",\"domain\":[0.0,0.2822222222222222]},\"yaxis7\":{\"anchor\":\"x7\",\"domain\":[0.0,0.26666666666666666]},\"xaxis8\":{\"anchor\":\"y8\",\"domain\":[0.34888888888888886,0.6311111111111111],\"range\":[-1,42]},\"yaxis8\":{\"anchor\":\"x8\",\"domain\":[0.0,0.26666666666666666],\"range\":[-1.1,1.1],\"zerolinecolor\":\"#000000\"},\"xaxis9\":{\"anchor\":\"y9\",\"domain\":[0.6977777777777777,0.98],\"range\":[-1,25]},\"yaxis9\":{\"anchor\":\"x9\",\"domain\":[0.0,0.26666666666666666],\"range\":[-1.1,1.1],\"zerolinecolor\":\"#000000\"},\"annotations\":[{\"font\":{\"size\":16},\"showarrow\":false,\"text\":\"cpi (transformed)\",\"x\":0.1411111111111111,\"xanchor\":\"center\",\"xref\":\"paper\",\"y\":1.0,\"yanchor\":\"bottom\",\"yref\":\"paper\"},{\"font\":{\"size\":16},\"showarrow\":false,\"text\":\"ACF\",\"x\":0.49,\"xanchor\":\"center\",\"xref\":\"paper\",\"y\":1.0,\"yanchor\":\"bottom\",\"yref\":\"paper\"},{\"font\":{\"size\":16},\"showarrow\":false,\"text\":\"PACF\",\"x\":0.8388888888888888,\"xanchor\":\"center\",\"xref\":\"paper\",\"y\":1.0,\"yanchor\":\"bottom\",\"yref\":\"paper\"},{\"font\":{\"size\":16},\"showarrow\":false,\"text\":\"Actual\",\"textangle\":90,\"x\":0.98,\"xanchor\":\"left\",\"xref\":\"paper\",\"y\":0.8666666666666667,\"yanchor\":\"middle\",\"yref\":\"paper\"},{\"font\":{\"size\":16},\"showarrow\":false,\"text\":\"Order=1\",\"textangle\":90,\"x\":0.98,\"xanchor\":\"left\",\"xref\":\"paper\",\"y\":0.5,\"yanchor\":\"middle\",\"yref\":\"paper\"},{\"font\":{\"size\":16},\"showarrow\":false,\"text\":\"Order=2\",\"textangle\":90,\"x\":0.98,\"xanchor\":\"left\",\"xref\":\"paper\",\"y\":0.13333333333333333,\"yanchor\":\"middle\",\"yref\":\"paper\"}],\"title\":{\"text\":\"Difference Plot | cpi\"},\"showlegend\":false},                        {\"responsive\": true}                    ).then(function(){\n",
              "                            \n",
              "var gd = document.getElementById('13000e2f-26da-471c-9bc0-c165b7f4102f');\n",
              "var x = new MutationObserver(function (mutations, observer) {{\n",
              "        var display = window.getComputedStyle(gd).display;\n",
              "        if (!display || display === 'none') {{\n",
              "            console.log([gd, 'removed!']);\n",
              "            Plotly.purge(gd);\n",
              "            observer.disconnect();\n",
              "        }}\n",
              "}});\n",
              "\n",
              "// Listen for the removal of the full notebook cells\n",
              "var notebookContainer = gd.closest('#notebook-container');\n",
              "if (notebookContainer) {{\n",
              "    x.observe(notebookContainer, {childList: true});\n",
              "}}\n",
              "\n",
              "// Listen for the clearing of the current output cell\n",
              "var outputEl = gd.closest('.output');\n",
              "if (outputEl) {{\n",
              "    x.observe(outputEl, {childList: true});\n",
              "}}\n",
              "\n",
              "                        })                };                            </script>        </div>\n",
              "</body>\n",
              "</html>"
            ]
          },
          "metadata": {}
        }
      ]
    },
    {
      "cell_type": "markdown",
      "source": [
        "Based on the stationarity check and seasonality detection, ARIMA(1,1,1) is a reasonable choice. The differencing plot and ADF test confirmed that one difference (d=1) was enough to make the series stationary. The PACF plot shows a significant spike at lag 1, suggesting an autoregressive process of order p=1. Similarly, the ACF plot shows a strong correlation at lag 1, indicating a moving average process of order q=1. While a seasonal model like SARIMA(1,1,1)(0,1,0,4) may capture seasonality better, the ACF/PACF plots do not show strong seasonal spikes, supporting the use of ARIMA(1,1,1)."
      ],
      "metadata": {
        "id": "pIpaT9XUbk55"
      }
    },
    {
      "cell_type": "code",
      "source": [
        "arima111= exp.create_model('arima', order = (1,1,1), seasonal_order=(0,0,0,12) , with_intercept= True, cross_validation=False)"
      ],
      "metadata": {
        "colab": {
          "base_uri": "https://localhost:8080/",
          "height": 80,
          "referenced_widgets": [
            "132ed248d6984029a5b8a2dfdb668724",
            "59e2d5e9e28b4d208c673ea851897a66",
            "ed5d4bca918a4bc19e406f1995bfafcb",
            "d3b0ecb4f8014a2888f50e007873fd87",
            "7df56f0c369d476798a2651c893cd530",
            "2d4bf5c371804ebb8268a343ca8cd172",
            "76c63bc58b5543b0809441259d24693f",
            "bf9e17691652432cae25b0a3cbf13f10",
            "1cffe38fa52f4af8b1f11a947cfe78f4",
            "66ca676cb6e5400eb3121e6413f4c5ad",
            "72344141c50b45b18d97f0e7fda5870b"
          ]
        },
        "id": "I2E1gxRmWgR5",
        "outputId": "3142e41d-ab0a-4303-e71c-e9120745e6fa"
      },
      "execution_count": null,
      "outputs": [
        {
          "output_type": "display_data",
          "data": {
            "text/plain": [
              "<IPython.core.display.HTML object>"
            ],
            "text/html": []
          },
          "metadata": {}
        },
        {
          "output_type": "display_data",
          "data": {
            "text/plain": [
              "<pandas.io.formats.style.Styler at 0x7ca6220f0510>"
            ],
            "text/html": [
              "<style type=\"text/css\">\n",
              "</style>\n",
              "<table id=\"T_7aa45\" class=\"dataframe\">\n",
              "  <thead>\n",
              "    <tr>\n",
              "      <th class=\"blank level0\" >&nbsp;</th>\n",
              "      <th id=\"T_7aa45_level0_col0\" class=\"col_heading level0 col0\" >MASE</th>\n",
              "      <th id=\"T_7aa45_level0_col1\" class=\"col_heading level0 col1\" >RMSSE</th>\n",
              "      <th id=\"T_7aa45_level0_col2\" class=\"col_heading level0 col2\" >MAE</th>\n",
              "      <th id=\"T_7aa45_level0_col3\" class=\"col_heading level0 col3\" >RMSE</th>\n",
              "      <th id=\"T_7aa45_level0_col4\" class=\"col_heading level0 col4\" >MAPE</th>\n",
              "      <th id=\"T_7aa45_level0_col5\" class=\"col_heading level0 col5\" >SMAPE</th>\n",
              "      <th id=\"T_7aa45_level0_col6\" class=\"col_heading level0 col6\" >R2</th>\n",
              "    </tr>\n",
              "  </thead>\n",
              "  <tbody>\n",
              "    <tr>\n",
              "      <th id=\"T_7aa45_level0_row0\" class=\"row_heading level0 row0\" >Test</th>\n",
              "      <td id=\"T_7aa45_row0_col0\" class=\"data row0 col0\" >2.7905</td>\n",
              "      <td id=\"T_7aa45_row0_col1\" class=\"data row0 col1\" >2.7050</td>\n",
              "      <td id=\"T_7aa45_row0_col2\" class=\"data row0 col2\" >7.3620</td>\n",
              "      <td id=\"T_7aa45_row0_col3\" class=\"data row0 col3\" >8.5104</td>\n",
              "      <td id=\"T_7aa45_row0_col4\" class=\"data row0 col4\" >0.0353</td>\n",
              "      <td id=\"T_7aa45_row0_col5\" class=\"data row0 col5\" >0.0361</td>\n",
              "      <td id=\"T_7aa45_row0_col6\" class=\"data row0 col6\" >0.2681</td>\n",
              "    </tr>\n",
              "  </tbody>\n",
              "</table>\n"
            ]
          },
          "metadata": {}
        },
        {
          "output_type": "display_data",
          "data": {
            "text/plain": [
              "Processing:   0%|          | 0/4 [00:00<?, ?it/s]"
            ],
            "application/vnd.jupyter.widget-view+json": {
              "version_major": 2,
              "version_minor": 0,
              "model_id": "132ed248d6984029a5b8a2dfdb668724"
            }
          },
          "metadata": {
            "application/vnd.jupyter.widget-view+json": {
              "colab": {
                "custom_widget_manager": {
                  "url": "https://ssl.gstatic.com/colaboratory-static/widgets/colab-cdn-widget-manager/2b70e893a8ba7c0f/manager.min.js"
                }
              }
            }
          }
        },
        {
          "output_type": "display_data",
          "data": {
            "text/plain": [
              "<IPython.core.display.HTML object>"
            ],
            "text/html": []
          },
          "metadata": {}
        }
      ]
    },
    {
      "cell_type": "markdown",
      "source": [
        "ARMA models assume stationarity. Since CPI is non-stationary (ADF test p-val > .05), we need differencing, making ARIMA more suitable."
      ],
      "metadata": {
        "id": "o7tr5oIjcHbZ"
      }
    },
    {
      "cell_type": "code",
      "source": [
        "sarima1110104= exp.create_model('arima', order = (1,1,1), seasonal_order=(0,1,0,4) , with_intercept= True, cross_validation=False)"
      ],
      "metadata": {
        "colab": {
          "base_uri": "https://localhost:8080/",
          "height": 80,
          "referenced_widgets": [
            "77332e30df86443da49630b3ef60e1b4",
            "da7a2a326dba441bb0c7d12fbdbcef8a",
            "ca6bf7f1fd1f4921aeea14d61c7c35ba",
            "f647b5e603cb48fda18aa99874a47d82",
            "c8196e87189942eca1dd2c7bfd5b9284",
            "9da950484654403ab83507556b78de07",
            "813ea31b8940445d98f7d5778282ab0f",
            "448a05dfcb6a4ece97479548afc1837f",
            "7c69ffc54f7a446595c323fbcfc40dd4",
            "9c60d4da7cd34fff823786f3488fc41a",
            "f99ac8d8771c49f48f896b28565ecab9"
          ]
        },
        "id": "E4tuz9hsWpkZ",
        "outputId": "6d5a8d96-1fb9-433b-c700-c8b6fffb6ca0"
      },
      "execution_count": null,
      "outputs": [
        {
          "output_type": "display_data",
          "data": {
            "text/plain": [
              "<IPython.core.display.HTML object>"
            ],
            "text/html": []
          },
          "metadata": {}
        },
        {
          "output_type": "display_data",
          "data": {
            "text/plain": [
              "<pandas.io.formats.style.Styler at 0x7ca622641490>"
            ],
            "text/html": [
              "<style type=\"text/css\">\n",
              "</style>\n",
              "<table id=\"T_1761e\" class=\"dataframe\">\n",
              "  <thead>\n",
              "    <tr>\n",
              "      <th class=\"blank level0\" >&nbsp;</th>\n",
              "      <th id=\"T_1761e_level0_col0\" class=\"col_heading level0 col0\" >MASE</th>\n",
              "      <th id=\"T_1761e_level0_col1\" class=\"col_heading level0 col1\" >RMSSE</th>\n",
              "      <th id=\"T_1761e_level0_col2\" class=\"col_heading level0 col2\" >MAE</th>\n",
              "      <th id=\"T_1761e_level0_col3\" class=\"col_heading level0 col3\" >RMSE</th>\n",
              "      <th id=\"T_1761e_level0_col4\" class=\"col_heading level0 col4\" >MAPE</th>\n",
              "      <th id=\"T_1761e_level0_col5\" class=\"col_heading level0 col5\" >SMAPE</th>\n",
              "      <th id=\"T_1761e_level0_col6\" class=\"col_heading level0 col6\" >R2</th>\n",
              "    </tr>\n",
              "  </thead>\n",
              "  <tbody>\n",
              "    <tr>\n",
              "      <th id=\"T_1761e_level0_row0\" class=\"row_heading level0 row0\" >Test</th>\n",
              "      <td id=\"T_1761e_row0_col0\" class=\"data row0 col0\" >2.4443</td>\n",
              "      <td id=\"T_1761e_row0_col1\" class=\"data row0 col1\" >2.3811</td>\n",
              "      <td id=\"T_1761e_row0_col2\" class=\"data row0 col2\" >6.4486</td>\n",
              "      <td id=\"T_1761e_row0_col3\" class=\"data row0 col3\" >7.4914</td>\n",
              "      <td id=\"T_1761e_row0_col4\" class=\"data row0 col4\" >0.0309</td>\n",
              "      <td id=\"T_1761e_row0_col5\" class=\"data row0 col5\" >0.0316</td>\n",
              "      <td id=\"T_1761e_row0_col6\" class=\"data row0 col6\" >0.4329</td>\n",
              "    </tr>\n",
              "  </tbody>\n",
              "</table>\n"
            ]
          },
          "metadata": {}
        },
        {
          "output_type": "display_data",
          "data": {
            "text/plain": [
              "Processing:   0%|          | 0/4 [00:00<?, ?it/s]"
            ],
            "application/vnd.jupyter.widget-view+json": {
              "version_major": 2,
              "version_minor": 0,
              "model_id": "77332e30df86443da49630b3ef60e1b4"
            }
          },
          "metadata": {
            "application/vnd.jupyter.widget-view+json": {
              "colab": {
                "custom_widget_manager": {
                  "url": "https://ssl.gstatic.com/colaboratory-static/widgets/colab-cdn-widget-manager/2b70e893a8ba7c0f/manager.min.js"
                }
              }
            }
          }
        },
        {
          "output_type": "display_data",
          "data": {
            "text/plain": [
              "<IPython.core.display.HTML object>"
            ],
            "text/html": []
          },
          "metadata": {}
        }
      ]
    },
    {
      "cell_type": "code",
      "source": [
        "rwwd= exp.create_model('arima', order = (0,1,0), seasonal_order=(0,0,0,24) , with_intercept= True, cross_validation=False)"
      ],
      "metadata": {
        "colab": {
          "base_uri": "https://localhost:8080/",
          "height": 80,
          "referenced_widgets": [
            "8fb20b7991c24ac3968e5c8135c12be7",
            "4448040fdc824bc1b18d7c6b93d79438",
            "b9f9118ab36745c7916ce16268e98cd0",
            "6653e042e8ec44c7ae2dc2a2a343a07b",
            "b24ba1176c124c669d99e015b923e790",
            "e3d660686d9f4544930920bda1955794",
            "f447ebc8e8eb4c059f7865183cfdf6c1",
            "3df75a0ff9de4c39817e7f7a1a0240cf",
            "5b03d55c11904d3ebaea2c3c6041a763",
            "ec0f7fc0bce94be18aba142d69947f9d",
            "f01982fd79a6444f927ba90a85f0a7bd"
          ]
        },
        "id": "Z1mrALQAWxjh",
        "outputId": "e68f113a-06ab-4fad-f6f6-21aa64fdc551"
      },
      "execution_count": null,
      "outputs": [
        {
          "output_type": "display_data",
          "data": {
            "text/plain": [
              "<IPython.core.display.HTML object>"
            ],
            "text/html": []
          },
          "metadata": {}
        },
        {
          "output_type": "display_data",
          "data": {
            "text/plain": [
              "<pandas.io.formats.style.Styler at 0x7ca6234d8bd0>"
            ],
            "text/html": [
              "<style type=\"text/css\">\n",
              "</style>\n",
              "<table id=\"T_2e555\" class=\"dataframe\">\n",
              "  <thead>\n",
              "    <tr>\n",
              "      <th class=\"blank level0\" >&nbsp;</th>\n",
              "      <th id=\"T_2e555_level0_col0\" class=\"col_heading level0 col0\" >MASE</th>\n",
              "      <th id=\"T_2e555_level0_col1\" class=\"col_heading level0 col1\" >RMSSE</th>\n",
              "      <th id=\"T_2e555_level0_col2\" class=\"col_heading level0 col2\" >MAE</th>\n",
              "      <th id=\"T_2e555_level0_col3\" class=\"col_heading level0 col3\" >RMSE</th>\n",
              "      <th id=\"T_2e555_level0_col4\" class=\"col_heading level0 col4\" >MAPE</th>\n",
              "      <th id=\"T_2e555_level0_col5\" class=\"col_heading level0 col5\" >SMAPE</th>\n",
              "      <th id=\"T_2e555_level0_col6\" class=\"col_heading level0 col6\" >R2</th>\n",
              "    </tr>\n",
              "  </thead>\n",
              "  <tbody>\n",
              "    <tr>\n",
              "      <th id=\"T_2e555_level0_row0\" class=\"row_heading level0 row0\" >Test</th>\n",
              "      <td id=\"T_2e555_row0_col0\" class=\"data row0 col0\" >2.8597</td>\n",
              "      <td id=\"T_2e555_row0_col1\" class=\"data row0 col1\" >2.7581</td>\n",
              "      <td id=\"T_2e555_row0_col2\" class=\"data row0 col2\" >7.5445</td>\n",
              "      <td id=\"T_2e555_row0_col3\" class=\"data row0 col3\" >8.6773</td>\n",
              "      <td id=\"T_2e555_row0_col4\" class=\"data row0 col4\" >0.0362</td>\n",
              "      <td id=\"T_2e555_row0_col5\" class=\"data row0 col5\" >0.0371</td>\n",
              "      <td id=\"T_2e555_row0_col6\" class=\"data row0 col6\" >0.2391</td>\n",
              "    </tr>\n",
              "  </tbody>\n",
              "</table>\n"
            ]
          },
          "metadata": {}
        },
        {
          "output_type": "display_data",
          "data": {
            "text/plain": [
              "Processing:   0%|          | 0/4 [00:00<?, ?it/s]"
            ],
            "application/vnd.jupyter.widget-view+json": {
              "version_major": 2,
              "version_minor": 0,
              "model_id": "8fb20b7991c24ac3968e5c8135c12be7"
            }
          },
          "metadata": {
            "application/vnd.jupyter.widget-view+json": {
              "colab": {
                "custom_widget_manager": {
                  "url": "https://ssl.gstatic.com/colaboratory-static/widgets/colab-cdn-widget-manager/2b70e893a8ba7c0f/manager.min.js"
                }
              }
            }
          }
        },
        {
          "output_type": "display_data",
          "data": {
            "text/plain": [
              "<IPython.core.display.HTML object>"
            ],
            "text/html": []
          },
          "metadata": {}
        }
      ]
    },
    {
      "cell_type": "markdown",
      "source": [
        "Because CPI has a clear upward trend. A model without drift probably doesn't capture the pattern well."
      ],
      "metadata": {
        "id": "LqwRVGvncp4h"
      }
    },
    {
      "cell_type": "code",
      "source": [
        "my_models = [rwwd, arima111, sarima1110104]\n",
        "my_model_lables = ['Random Walk with drift', 'ARIMA(1,1,1)', 'SARIMA(1,1,1)(0,1,0,4)']"
      ],
      "metadata": {
        "id": "opZHs6QiXRP1"
      },
      "execution_count": null,
      "outputs": []
    },
    {
      "cell_type": "markdown",
      "source": [
        "### 8"
      ],
      "metadata": {
        "id": "KXZoTubgaSqy"
      }
    },
    {
      "cell_type": "code",
      "source": [
        "exp.compare_models(my_models, cross_validation=False)"
      ],
      "metadata": {
        "colab": {
          "base_uri": "https://localhost:8080/",
          "height": 200,
          "referenced_widgets": [
            "dfa083a5d808420092c2fc5065379cc5",
            "dc591732f0db4833af502c5a50ae7a77",
            "826e08fb905d4a13a2d830ebca011fbb",
            "51022433dbdd4ee18aee720d13b01799",
            "3215d2f543744accb8801cd27a883a2b",
            "73ba6e6e272847a4a29b79f776acf570",
            "f26c6ebd810847db9f89f9f80ebdf2b1",
            "b4bb024679c14f7ab319726a48fc2fba",
            "4e5f07b331a34f76a706b69adc0063b5",
            "8c9c87e6e8fc4fc9a8567d1cc8d52254",
            "8e377b5171cc45c184414d05b756f1ba"
          ]
        },
        "id": "0OfF7PEBXn9P",
        "outputId": "55e8c8f4-a14b-4032-a0d8-840e57d249b3"
      },
      "execution_count": null,
      "outputs": [
        {
          "output_type": "display_data",
          "data": {
            "text/plain": [
              "<IPython.core.display.HTML object>"
            ],
            "text/html": []
          },
          "metadata": {}
        },
        {
          "output_type": "display_data",
          "data": {
            "text/plain": [
              "<pandas.io.formats.style.Styler at 0x7ca623a9ed10>"
            ],
            "text/html": [
              "<style type=\"text/css\">\n",
              "#T_bf3c8 th {\n",
              "  text-align: left;\n",
              "}\n",
              "#T_bf3c8_row0_col0, #T_bf3c8_row1_col0, #T_bf3c8_row1_col1, #T_bf3c8_row1_col2, #T_bf3c8_row1_col3, #T_bf3c8_row1_col4, #T_bf3c8_row1_col5, #T_bf3c8_row1_col6, #T_bf3c8_row1_col7, #T_bf3c8_row2_col0, #T_bf3c8_row2_col1, #T_bf3c8_row2_col2, #T_bf3c8_row2_col3, #T_bf3c8_row2_col4, #T_bf3c8_row2_col5, #T_bf3c8_row2_col6, #T_bf3c8_row2_col7 {\n",
              "  text-align: left;\n",
              "}\n",
              "#T_bf3c8_row0_col1, #T_bf3c8_row0_col2, #T_bf3c8_row0_col3, #T_bf3c8_row0_col4, #T_bf3c8_row0_col5, #T_bf3c8_row0_col6, #T_bf3c8_row0_col7 {\n",
              "  text-align: left;\n",
              "  background-color: yellow;\n",
              "}\n",
              "#T_bf3c8_row0_col8, #T_bf3c8_row1_col8 {\n",
              "  text-align: left;\n",
              "  background-color: lightgrey;\n",
              "}\n",
              "#T_bf3c8_row2_col8 {\n",
              "  text-align: left;\n",
              "  background-color: yellow;\n",
              "  background-color: lightgrey;\n",
              "}\n",
              "</style>\n",
              "<table id=\"T_bf3c8\" class=\"dataframe\">\n",
              "  <thead>\n",
              "    <tr>\n",
              "      <th class=\"blank level0\" >&nbsp;</th>\n",
              "      <th id=\"T_bf3c8_level0_col0\" class=\"col_heading level0 col0\" >Model</th>\n",
              "      <th id=\"T_bf3c8_level0_col1\" class=\"col_heading level0 col1\" >MASE</th>\n",
              "      <th id=\"T_bf3c8_level0_col2\" class=\"col_heading level0 col2\" >RMSSE</th>\n",
              "      <th id=\"T_bf3c8_level0_col3\" class=\"col_heading level0 col3\" >MAE</th>\n",
              "      <th id=\"T_bf3c8_level0_col4\" class=\"col_heading level0 col4\" >RMSE</th>\n",
              "      <th id=\"T_bf3c8_level0_col5\" class=\"col_heading level0 col5\" >MAPE</th>\n",
              "      <th id=\"T_bf3c8_level0_col6\" class=\"col_heading level0 col6\" >SMAPE</th>\n",
              "      <th id=\"T_bf3c8_level0_col7\" class=\"col_heading level0 col7\" >R2</th>\n",
              "      <th id=\"T_bf3c8_level0_col8\" class=\"col_heading level0 col8\" >TT (Sec)</th>\n",
              "    </tr>\n",
              "  </thead>\n",
              "  <tbody>\n",
              "    <tr>\n",
              "      <th id=\"T_bf3c8_level0_row0\" class=\"row_heading level0 row0\" >2</th>\n",
              "      <td id=\"T_bf3c8_row0_col0\" class=\"data row0 col0\" >ARIMA</td>\n",
              "      <td id=\"T_bf3c8_row0_col1\" class=\"data row0 col1\" >2.4443</td>\n",
              "      <td id=\"T_bf3c8_row0_col2\" class=\"data row0 col2\" >2.3811</td>\n",
              "      <td id=\"T_bf3c8_row0_col3\" class=\"data row0 col3\" >6.4486</td>\n",
              "      <td id=\"T_bf3c8_row0_col4\" class=\"data row0 col4\" >7.4914</td>\n",
              "      <td id=\"T_bf3c8_row0_col5\" class=\"data row0 col5\" >0.0309</td>\n",
              "      <td id=\"T_bf3c8_row0_col6\" class=\"data row0 col6\" >0.0316</td>\n",
              "      <td id=\"T_bf3c8_row0_col7\" class=\"data row0 col7\" >0.4329</td>\n",
              "      <td id=\"T_bf3c8_row0_col8\" class=\"data row0 col8\" >0.1100</td>\n",
              "    </tr>\n",
              "    <tr>\n",
              "      <th id=\"T_bf3c8_level0_row1\" class=\"row_heading level0 row1\" >1</th>\n",
              "      <td id=\"T_bf3c8_row1_col0\" class=\"data row1 col0\" >ARIMA</td>\n",
              "      <td id=\"T_bf3c8_row1_col1\" class=\"data row1 col1\" >2.7905</td>\n",
              "      <td id=\"T_bf3c8_row1_col2\" class=\"data row1 col2\" >2.7050</td>\n",
              "      <td id=\"T_bf3c8_row1_col3\" class=\"data row1 col3\" >7.3620</td>\n",
              "      <td id=\"T_bf3c8_row1_col4\" class=\"data row1 col4\" >8.5104</td>\n",
              "      <td id=\"T_bf3c8_row1_col5\" class=\"data row1 col5\" >0.0353</td>\n",
              "      <td id=\"T_bf3c8_row1_col6\" class=\"data row1 col6\" >0.0361</td>\n",
              "      <td id=\"T_bf3c8_row1_col7\" class=\"data row1 col7\" >0.2681</td>\n",
              "      <td id=\"T_bf3c8_row1_col8\" class=\"data row1 col8\" >0.2000</td>\n",
              "    </tr>\n",
              "    <tr>\n",
              "      <th id=\"T_bf3c8_level0_row2\" class=\"row_heading level0 row2\" >0</th>\n",
              "      <td id=\"T_bf3c8_row2_col0\" class=\"data row2 col0\" >ARIMA</td>\n",
              "      <td id=\"T_bf3c8_row2_col1\" class=\"data row2 col1\" >2.8597</td>\n",
              "      <td id=\"T_bf3c8_row2_col2\" class=\"data row2 col2\" >2.7581</td>\n",
              "      <td id=\"T_bf3c8_row2_col3\" class=\"data row2 col3\" >7.5445</td>\n",
              "      <td id=\"T_bf3c8_row2_col4\" class=\"data row2 col4\" >8.6773</td>\n",
              "      <td id=\"T_bf3c8_row2_col5\" class=\"data row2 col5\" >0.0362</td>\n",
              "      <td id=\"T_bf3c8_row2_col6\" class=\"data row2 col6\" >0.0371</td>\n",
              "      <td id=\"T_bf3c8_row2_col7\" class=\"data row2 col7\" >0.2391</td>\n",
              "      <td id=\"T_bf3c8_row2_col8\" class=\"data row2 col8\" >0.0300</td>\n",
              "    </tr>\n",
              "  </tbody>\n",
              "</table>\n"
            ]
          },
          "metadata": {}
        },
        {
          "output_type": "display_data",
          "data": {
            "text/plain": [
              "Processing:   0%|          | 0/17 [00:00<?, ?it/s]"
            ],
            "application/vnd.jupyter.widget-view+json": {
              "version_major": 2,
              "version_minor": 0,
              "model_id": "dfa083a5d808420092c2fc5065379cc5"
            }
          },
          "metadata": {
            "application/vnd.jupyter.widget-view+json": {
              "colab": {
                "custom_widget_manager": {
                  "url": "https://ssl.gstatic.com/colaboratory-static/widgets/colab-cdn-widget-manager/2b70e893a8ba7c0f/manager.min.js"
                }
              }
            }
          }
        },
        {
          "output_type": "display_data",
          "data": {
            "text/plain": [
              "<IPython.core.display.HTML object>"
            ],
            "text/html": []
          },
          "metadata": {}
        },
        {
          "output_type": "execute_result",
          "data": {
            "text/plain": [
              "ARIMA(order=(1, 1, 1), seasonal_order=(0, 1, 0, 4))"
            ],
            "text/html": [
              "<style>#sk-6cf765f1-8fca-43c6-b6c5-a295cfa30c80 {color: black;background-color: white;}#sk-6cf765f1-8fca-43c6-b6c5-a295cfa30c80 pre{padding: 0;}#sk-6cf765f1-8fca-43c6-b6c5-a295cfa30c80 div.sk-toggleable {background-color: white;}#sk-6cf765f1-8fca-43c6-b6c5-a295cfa30c80 label.sk-toggleable__label {cursor: pointer;display: block;width: 100%;margin-bottom: 0;padding: 0.3em;box-sizing: border-box;text-align: center;}#sk-6cf765f1-8fca-43c6-b6c5-a295cfa30c80 label.sk-toggleable__label-arrow:before {content: \"▸\";float: left;margin-right: 0.25em;color: #696969;}#sk-6cf765f1-8fca-43c6-b6c5-a295cfa30c80 label.sk-toggleable__label-arrow:hover:before {color: black;}#sk-6cf765f1-8fca-43c6-b6c5-a295cfa30c80 div.sk-estimator:hover label.sk-toggleable__label-arrow:before {color: black;}#sk-6cf765f1-8fca-43c6-b6c5-a295cfa30c80 div.sk-toggleable__content {max-height: 0;max-width: 0;overflow: hidden;text-align: left;background-color: #f0f8ff;}#sk-6cf765f1-8fca-43c6-b6c5-a295cfa30c80 div.sk-toggleable__content pre {margin: 0.2em;color: black;border-radius: 0.25em;background-color: #f0f8ff;}#sk-6cf765f1-8fca-43c6-b6c5-a295cfa30c80 input.sk-toggleable__control:checked~div.sk-toggleable__content {max-height: 200px;max-width: 100%;overflow: auto;}#sk-6cf765f1-8fca-43c6-b6c5-a295cfa30c80 input.sk-toggleable__control:checked~label.sk-toggleable__label-arrow:before {content: \"▾\";}#sk-6cf765f1-8fca-43c6-b6c5-a295cfa30c80 div.sk-estimator input.sk-toggleable__control:checked~label.sk-toggleable__label {background-color: #d4ebff;}#sk-6cf765f1-8fca-43c6-b6c5-a295cfa30c80 div.sk-label input.sk-toggleable__control:checked~label.sk-toggleable__label {background-color: #d4ebff;}#sk-6cf765f1-8fca-43c6-b6c5-a295cfa30c80 input.sk-hidden--visually {border: 0;clip: rect(1px 1px 1px 1px);clip: rect(1px, 1px, 1px, 1px);height: 1px;margin: -1px;overflow: hidden;padding: 0;position: absolute;width: 1px;}#sk-6cf765f1-8fca-43c6-b6c5-a295cfa30c80 div.sk-estimator {font-family: monospace;background-color: #f0f8ff;border: 1px dotted black;border-radius: 0.25em;box-sizing: border-box;margin-bottom: 0.5em;}#sk-6cf765f1-8fca-43c6-b6c5-a295cfa30c80 div.sk-estimator:hover {background-color: #d4ebff;}#sk-6cf765f1-8fca-43c6-b6c5-a295cfa30c80 div.sk-parallel-item::after {content: \"\";width: 100%;border-bottom: 1px solid gray;flex-grow: 1;}#sk-6cf765f1-8fca-43c6-b6c5-a295cfa30c80 div.sk-label:hover label.sk-toggleable__label {background-color: #d4ebff;}#sk-6cf765f1-8fca-43c6-b6c5-a295cfa30c80 div.sk-serial::before {content: \"\";position: absolute;border-left: 1px solid gray;box-sizing: border-box;top: 2em;bottom: 0;left: 50%;}#sk-6cf765f1-8fca-43c6-b6c5-a295cfa30c80 div.sk-serial {display: flex;flex-direction: column;align-items: center;background-color: white;padding-right: 0.2em;padding-left: 0.2em;}#sk-6cf765f1-8fca-43c6-b6c5-a295cfa30c80 div.sk-item {z-index: 1;}#sk-6cf765f1-8fca-43c6-b6c5-a295cfa30c80 div.sk-parallel {display: flex;align-items: stretch;justify-content: center;background-color: white;}#sk-6cf765f1-8fca-43c6-b6c5-a295cfa30c80 div.sk-parallel::before {content: \"\";position: absolute;border-left: 1px solid gray;box-sizing: border-box;top: 2em;bottom: 0;left: 50%;}#sk-6cf765f1-8fca-43c6-b6c5-a295cfa30c80 div.sk-parallel-item {display: flex;flex-direction: column;position: relative;background-color: white;}#sk-6cf765f1-8fca-43c6-b6c5-a295cfa30c80 div.sk-parallel-item:first-child::after {align-self: flex-end;width: 50%;}#sk-6cf765f1-8fca-43c6-b6c5-a295cfa30c80 div.sk-parallel-item:last-child::after {align-self: flex-start;width: 50%;}#sk-6cf765f1-8fca-43c6-b6c5-a295cfa30c80 div.sk-parallel-item:only-child::after {width: 0;}#sk-6cf765f1-8fca-43c6-b6c5-a295cfa30c80 div.sk-dashed-wrapped {border: 1px dashed gray;margin: 0 0.4em 0.5em 0.4em;box-sizing: border-box;padding-bottom: 0.4em;background-color: white;position: relative;}#sk-6cf765f1-8fca-43c6-b6c5-a295cfa30c80 div.sk-label label {font-family: monospace;font-weight: bold;background-color: white;display: inline-block;line-height: 1.2em;}#sk-6cf765f1-8fca-43c6-b6c5-a295cfa30c80 div.sk-label-container {position: relative;z-index: 2;text-align: center;}#sk-6cf765f1-8fca-43c6-b6c5-a295cfa30c80 div.sk-container {/* jupyter's `normalize.less` sets `[hidden] { display: none; }` but bootstrap.min.css set `[hidden] { display: none !important; }` so we also need the `!important` here to be able to override the default hidden behavior on the sphinx rendered scikit-learn.org. See: https://github.com/scikit-learn/scikit-learn/issues/21755 */display: inline-block !important;position: relative;}#sk-6cf765f1-8fca-43c6-b6c5-a295cfa30c80 div.sk-text-repr-fallback {display: none;}</style><div id='sk-6cf765f1-8fca-43c6-b6c5-a295cfa30c80' class=\"sk-top-container\"><div class=\"sk-text-repr-fallback\"><pre>ARIMA(order=(1, 1, 1), seasonal_order=(0, 1, 0, 4))</pre><b>Please rerun this cell to show the HTML repr or trust the notebook.</b></div><div class=\"sk-container\" hidden><div class='sk-item'><div class=\"sk-estimator sk-toggleable\"><input class=\"sk-toggleable__control sk-hidden--visually\" id=UUID('a0058437-0edf-4549-a18e-77cbc780660b') type=\"checkbox\" checked><label for=UUID('a0058437-0edf-4549-a18e-77cbc780660b') class='sk-toggleable__label sk-toggleable__label-arrow'>ARIMA</label><div class=\"sk-toggleable__content\"><pre>ARIMA(order=(1, 1, 1), seasonal_order=(0, 1, 0, 4))</pre></div></div></div></div></div>"
            ]
          },
          "metadata": {},
          "execution_count": 12
        }
      ]
    },
    {
      "cell_type": "markdown",
      "source": [
        "ARIMA(1,1,1) has the highest hold-out R^2 (.4329), making it the best model"
      ],
      "metadata": {
        "id": "1cuxPJ8BdAu4"
      }
    },
    {
      "cell_type": "code",
      "source": [
        "arima111.summary()"
      ],
      "metadata": {
        "colab": {
          "base_uri": "https://localhost:8080/",
          "height": 449
        },
        "id": "NwWNtvbqOsqo",
        "outputId": "b300aa9c-57e5-42a1-fd7d-513f9264f595"
      },
      "execution_count": null,
      "outputs": [
        {
          "output_type": "execute_result",
          "data": {
            "text/plain": [
              "<class 'statsmodels.iolib.summary.Summary'>\n",
              "\"\"\"\n",
              "                               SARIMAX Results                                \n",
              "==============================================================================\n",
              "Dep. Variable:                      y   No. Observations:                  179\n",
              "Model:               SARIMAX(1, 1, 1)   Log Likelihood                -107.775\n",
              "Date:                Mon, 24 Feb 2025   AIC                            223.550\n",
              "Time:                        18:34:23   BIC                            236.277\n",
              "Sample:                    03-31-1959   HQIC                           228.711\n",
              "                         - 09-30-2003                                         \n",
              "Covariance Type:                  opg                                         \n",
              "==============================================================================\n",
              "                 coef    std err          z      P>|z|      [0.025      0.975]\n",
              "------------------------------------------------------------------------------\n",
              "intercept      0.0453      0.038      1.193      0.233      -0.029       0.120\n",
              "ar.L1          0.9452      0.031     30.951      0.000       0.885       1.005\n",
              "ma.L1         -0.5932      0.053    -11.203      0.000      -0.697      -0.489\n",
              "sigma2         0.1954      0.012     16.125      0.000       0.172       0.219\n",
              "===================================================================================\n",
              "Ljung-Box (L1) (Q):                   0.23   Jarque-Bera (JB):               158.69\n",
              "Prob(Q):                              0.63   Prob(JB):                         0.00\n",
              "Heteroskedasticity (H):               5.89   Skew:                            -0.67\n",
              "Prob(H) (two-sided):                  0.00   Kurtosis:                         7.43\n",
              "===================================================================================\n",
              "\n",
              "Warnings:\n",
              "[1] Covariance matrix calculated using the outer product of gradients (complex-step).\n",
              "\"\"\""
            ],
            "text/html": [
              "<table class=\"simpletable\">\n",
              "<caption>SARIMAX Results</caption>\n",
              "<tr>\n",
              "  <th>Dep. Variable:</th>           <td>y</td>        <th>  No. Observations:  </th>    <td>179</td>  \n",
              "</tr>\n",
              "<tr>\n",
              "  <th>Model:</th>           <td>SARIMAX(1, 1, 1)</td> <th>  Log Likelihood     </th> <td>-107.775</td>\n",
              "</tr>\n",
              "<tr>\n",
              "  <th>Date:</th>            <td>Mon, 24 Feb 2025</td> <th>  AIC                </th>  <td>223.550</td>\n",
              "</tr>\n",
              "<tr>\n",
              "  <th>Time:</th>                <td>18:34:23</td>     <th>  BIC                </th>  <td>236.277</td>\n",
              "</tr>\n",
              "<tr>\n",
              "  <th>Sample:</th>             <td>03-31-1959</td>    <th>  HQIC               </th>  <td>228.711</td>\n",
              "</tr>\n",
              "<tr>\n",
              "  <th></th>                   <td>- 09-30-2003</td>   <th>                     </th>     <td> </td>   \n",
              "</tr>\n",
              "<tr>\n",
              "  <th>Covariance Type:</th>        <td>opg</td>       <th>                     </th>     <td> </td>   \n",
              "</tr>\n",
              "</table>\n",
              "<table class=\"simpletable\">\n",
              "<tr>\n",
              "      <td></td>         <th>coef</th>     <th>std err</th>      <th>z</th>      <th>P>|z|</th>  <th>[0.025</th>    <th>0.975]</th>  \n",
              "</tr>\n",
              "<tr>\n",
              "  <th>intercept</th> <td>    0.0453</td> <td>    0.038</td> <td>    1.193</td> <td> 0.233</td> <td>   -0.029</td> <td>    0.120</td>\n",
              "</tr>\n",
              "<tr>\n",
              "  <th>ar.L1</th>     <td>    0.9452</td> <td>    0.031</td> <td>   30.951</td> <td> 0.000</td> <td>    0.885</td> <td>    1.005</td>\n",
              "</tr>\n",
              "<tr>\n",
              "  <th>ma.L1</th>     <td>   -0.5932</td> <td>    0.053</td> <td>  -11.203</td> <td> 0.000</td> <td>   -0.697</td> <td>   -0.489</td>\n",
              "</tr>\n",
              "<tr>\n",
              "  <th>sigma2</th>    <td>    0.1954</td> <td>    0.012</td> <td>   16.125</td> <td> 0.000</td> <td>    0.172</td> <td>    0.219</td>\n",
              "</tr>\n",
              "</table>\n",
              "<table class=\"simpletable\">\n",
              "<tr>\n",
              "  <th>Ljung-Box (L1) (Q):</th>     <td>0.23</td> <th>  Jarque-Bera (JB):  </th> <td>158.69</td>\n",
              "</tr>\n",
              "<tr>\n",
              "  <th>Prob(Q):</th>                <td>0.63</td> <th>  Prob(JB):          </th>  <td>0.00</td> \n",
              "</tr>\n",
              "<tr>\n",
              "  <th>Heteroskedasticity (H):</th> <td>5.89</td> <th>  Skew:              </th>  <td>-0.67</td>\n",
              "</tr>\n",
              "<tr>\n",
              "  <th>Prob(H) (two-sided):</th>    <td>0.00</td> <th>  Kurtosis:          </th>  <td>7.43</td> \n",
              "</tr>\n",
              "</table><br/><br/>Warnings:<br/>[1] Covariance matrix calculated using the outer product of gradients (complex-step)."
            ],
            "text/latex": "\\begin{center}\n\\begin{tabular}{lclc}\n\\toprule\n\\textbf{Dep. Variable:}          &        y         & \\textbf{  No. Observations:  } &    179      \\\\\n\\textbf{Model:}                  & SARIMAX(1, 1, 1) & \\textbf{  Log Likelihood     } &  -107.775   \\\\\n\\textbf{Date:}                   & Mon, 24 Feb 2025 & \\textbf{  AIC                } &  223.550    \\\\\n\\textbf{Time:}                   &     18:34:23     & \\textbf{  BIC                } &  236.277    \\\\\n\\textbf{Sample:}                 &    03-31-1959    & \\textbf{  HQIC               } &  228.711    \\\\\n\\textbf{}                        &   - 09-30-2003   & \\textbf{                     } &             \\\\\n\\textbf{Covariance Type:}        &       opg        & \\textbf{                     } &             \\\\\n\\bottomrule\n\\end{tabular}\n\\begin{tabular}{lcccccc}\n                   & \\textbf{coef} & \\textbf{std err} & \\textbf{z} & \\textbf{P$> |$z$|$} & \\textbf{[0.025} & \\textbf{0.975]}  \\\\\n\\midrule\n\\textbf{intercept} &       0.0453  &        0.038     &     1.193  &         0.233        &       -0.029    &        0.120     \\\\\n\\textbf{ar.L1}     &       0.9452  &        0.031     &    30.951  &         0.000        &        0.885    &        1.005     \\\\\n\\textbf{ma.L1}     &      -0.5932  &        0.053     &   -11.203  &         0.000        &       -0.697    &       -0.489     \\\\\n\\textbf{sigma2}    &       0.1954  &        0.012     &    16.125  &         0.000        &        0.172    &        0.219     \\\\\n\\bottomrule\n\\end{tabular}\n\\begin{tabular}{lclc}\n\\textbf{Ljung-Box (L1) (Q):}     & 0.23 & \\textbf{  Jarque-Bera (JB):  } & 158.69  \\\\\n\\textbf{Prob(Q):}                & 0.63 & \\textbf{  Prob(JB):          } &  0.00   \\\\\n\\textbf{Heteroskedasticity (H):} & 5.89 & \\textbf{  Skew:              } & -0.67   \\\\\n\\textbf{Prob(H) (two-sided):}    & 0.00 & \\textbf{  Kurtosis:          } &  7.43   \\\\\n\\bottomrule\n\\end{tabular}\n%\\caption{SARIMAX Results}\n\\end{center}\n\nWarnings: \\newline\n [1] Covariance matrix calculated using the outer product of gradients (complex-step)."
          },
          "metadata": {},
          "execution_count": 13
        }
      ]
    },
    {
      "cell_type": "code",
      "source": [
        "sarima1110104.summary()"
      ],
      "metadata": {
        "colab": {
          "base_uri": "https://localhost:8080/",
          "height": 449
        },
        "id": "HZaQlKENXvr2",
        "outputId": "61020748-64ff-49a9-f49f-c9aa3e2f240c"
      },
      "execution_count": null,
      "outputs": [
        {
          "output_type": "execute_result",
          "data": {
            "text/plain": [
              "<class 'statsmodels.iolib.summary.Summary'>\n",
              "\"\"\"\n",
              "                                     SARIMAX Results                                      \n",
              "==========================================================================================\n",
              "Dep. Variable:                                  y   No. Observations:                  179\n",
              "Model:             SARIMAX(1, 1, 1)x(0, 1, [], 4)   Log Likelihood                -162.929\n",
              "Date:                            Mon, 24 Feb 2025   AIC                            333.858\n",
              "Time:                                    18:34:30   BIC                            346.495\n",
              "Sample:                                03-31-1959   HQIC                           338.984\n",
              "                                     - 09-30-2003                                         \n",
              "Covariance Type:                              opg                                         \n",
              "==============================================================================\n",
              "                 coef    std err          z      P>|z|      [0.025      0.975]\n",
              "------------------------------------------------------------------------------\n",
              "intercept      0.0078      0.028      0.281      0.778      -0.046       0.062\n",
              "ar.L1          0.5538      0.307      1.802      0.071      -0.048       1.156\n",
              "ma.L1         -0.4175      0.340     -1.229      0.219      -1.083       0.248\n",
              "sigma2         0.3809      0.025     15.209      0.000       0.332       0.430\n",
              "===================================================================================\n",
              "Ljung-Box (L1) (Q):                   0.10   Jarque-Bera (JB):                84.17\n",
              "Prob(Q):                              0.75   Prob(JB):                         0.00\n",
              "Heteroskedasticity (H):               8.42   Skew:                            -0.12\n",
              "Prob(H) (two-sided):                  0.00   Kurtosis:                         6.40\n",
              "===================================================================================\n",
              "\n",
              "Warnings:\n",
              "[1] Covariance matrix calculated using the outer product of gradients (complex-step).\n",
              "\"\"\""
            ],
            "text/html": [
              "<table class=\"simpletable\">\n",
              "<caption>SARIMAX Results</caption>\n",
              "<tr>\n",
              "  <th>Dep. Variable:</th>                  <td>y</td>               <th>  No. Observations:  </th>    <td>179</td>  \n",
              "</tr>\n",
              "<tr>\n",
              "  <th>Model:</th>           <td>SARIMAX(1, 1, 1)x(0, 1, [], 4)</td> <th>  Log Likelihood     </th> <td>-162.929</td>\n",
              "</tr>\n",
              "<tr>\n",
              "  <th>Date:</th>                   <td>Mon, 24 Feb 2025</td>        <th>  AIC                </th>  <td>333.858</td>\n",
              "</tr>\n",
              "<tr>\n",
              "  <th>Time:</th>                       <td>18:34:30</td>            <th>  BIC                </th>  <td>346.495</td>\n",
              "</tr>\n",
              "<tr>\n",
              "  <th>Sample:</th>                    <td>03-31-1959</td>           <th>  HQIC               </th>  <td>338.984</td>\n",
              "</tr>\n",
              "<tr>\n",
              "  <th></th>                          <td>- 09-30-2003</td>          <th>                     </th>     <td> </td>   \n",
              "</tr>\n",
              "<tr>\n",
              "  <th>Covariance Type:</th>               <td>opg</td>              <th>                     </th>     <td> </td>   \n",
              "</tr>\n",
              "</table>\n",
              "<table class=\"simpletable\">\n",
              "<tr>\n",
              "      <td></td>         <th>coef</th>     <th>std err</th>      <th>z</th>      <th>P>|z|</th>  <th>[0.025</th>    <th>0.975]</th>  \n",
              "</tr>\n",
              "<tr>\n",
              "  <th>intercept</th> <td>    0.0078</td> <td>    0.028</td> <td>    0.281</td> <td> 0.778</td> <td>   -0.046</td> <td>    0.062</td>\n",
              "</tr>\n",
              "<tr>\n",
              "  <th>ar.L1</th>     <td>    0.5538</td> <td>    0.307</td> <td>    1.802</td> <td> 0.071</td> <td>   -0.048</td> <td>    1.156</td>\n",
              "</tr>\n",
              "<tr>\n",
              "  <th>ma.L1</th>     <td>   -0.4175</td> <td>    0.340</td> <td>   -1.229</td> <td> 0.219</td> <td>   -1.083</td> <td>    0.248</td>\n",
              "</tr>\n",
              "<tr>\n",
              "  <th>sigma2</th>    <td>    0.3809</td> <td>    0.025</td> <td>   15.209</td> <td> 0.000</td> <td>    0.332</td> <td>    0.430</td>\n",
              "</tr>\n",
              "</table>\n",
              "<table class=\"simpletable\">\n",
              "<tr>\n",
              "  <th>Ljung-Box (L1) (Q):</th>     <td>0.10</td> <th>  Jarque-Bera (JB):  </th> <td>84.17</td>\n",
              "</tr>\n",
              "<tr>\n",
              "  <th>Prob(Q):</th>                <td>0.75</td> <th>  Prob(JB):          </th> <td>0.00</td> \n",
              "</tr>\n",
              "<tr>\n",
              "  <th>Heteroskedasticity (H):</th> <td>8.42</td> <th>  Skew:              </th> <td>-0.12</td>\n",
              "</tr>\n",
              "<tr>\n",
              "  <th>Prob(H) (two-sided):</th>    <td>0.00</td> <th>  Kurtosis:          </th> <td>6.40</td> \n",
              "</tr>\n",
              "</table><br/><br/>Warnings:<br/>[1] Covariance matrix calculated using the outer product of gradients (complex-step)."
            ],
            "text/latex": "\\begin{center}\n\\begin{tabular}{lclc}\n\\toprule\n\\textbf{Dep. Variable:}          &               y                & \\textbf{  No. Observations:  } &    179      \\\\\n\\textbf{Model:}                  & SARIMAX(1, 1, 1)x(0, 1, [], 4) & \\textbf{  Log Likelihood     } &  -162.929   \\\\\n\\textbf{Date:}                   &        Mon, 24 Feb 2025        & \\textbf{  AIC                } &  333.858    \\\\\n\\textbf{Time:}                   &            18:34:30            & \\textbf{  BIC                } &  346.495    \\\\\n\\textbf{Sample:}                 &           03-31-1959           & \\textbf{  HQIC               } &  338.984    \\\\\n\\textbf{}                        &          - 09-30-2003          & \\textbf{                     } &             \\\\\n\\textbf{Covariance Type:}        &              opg               & \\textbf{                     } &             \\\\\n\\bottomrule\n\\end{tabular}\n\\begin{tabular}{lcccccc}\n                   & \\textbf{coef} & \\textbf{std err} & \\textbf{z} & \\textbf{P$> |$z$|$} & \\textbf{[0.025} & \\textbf{0.975]}  \\\\\n\\midrule\n\\textbf{intercept} &       0.0078  &        0.028     &     0.281  &         0.778        &       -0.046    &        0.062     \\\\\n\\textbf{ar.L1}     &       0.5538  &        0.307     &     1.802  &         0.071        &       -0.048    &        1.156     \\\\\n\\textbf{ma.L1}     &      -0.4175  &        0.340     &    -1.229  &         0.219        &       -1.083    &        0.248     \\\\\n\\textbf{sigma2}    &       0.3809  &        0.025     &    15.209  &         0.000        &        0.332    &        0.430     \\\\\n\\bottomrule\n\\end{tabular}\n\\begin{tabular}{lclc}\n\\textbf{Ljung-Box (L1) (Q):}     & 0.10 & \\textbf{  Jarque-Bera (JB):  } & 84.17  \\\\\n\\textbf{Prob(Q):}                & 0.75 & \\textbf{  Prob(JB):          } &  0.00  \\\\\n\\textbf{Heteroskedasticity (H):} & 8.42 & \\textbf{  Skew:              } & -0.12  \\\\\n\\textbf{Prob(H) (two-sided):}    & 0.00 & \\textbf{  Kurtosis:          } &  6.40  \\\\\n\\bottomrule\n\\end{tabular}\n%\\caption{SARIMAX Results}\n\\end{center}\n\nWarnings: \\newline\n [1] Covariance matrix calculated using the outer product of gradients (complex-step)."
          },
          "metadata": {},
          "execution_count": 14
        }
      ]
    },
    {
      "cell_type": "markdown",
      "source": [
        "### 9"
      ],
      "metadata": {
        "id": "lDeh5l6XaXEJ"
      }
    },
    {
      "cell_type": "markdown",
      "source": [
        "Estimated formula for the ARIMA(1,1,1) model:\n",
        "\n",
        "$$ (y_t - y_{t-1}) = 0.0453 + 0.9452 (y_{t-1} - y_{t-2}) - 0.5932 \\varepsilon_{t-1} + \\varepsilon_t $$"
      ],
      "metadata": {
        "id": "bPuwmqyKaboq"
      }
    },
    {
      "cell_type": "markdown",
      "source": [
        "### 10"
      ],
      "metadata": {
        "id": "elNNcl62aZZJ"
      }
    },
    {
      "cell_type": "code",
      "source": [
        "exp.plot_model(my_models, plot='insample', data_kwargs={'labels':my_model_lables}, )"
      ],
      "metadata": {
        "colab": {
          "base_uri": "https://localhost:8080/",
          "height": 542
        },
        "id": "OcSIWdugXw3I",
        "outputId": "2646b803-0a06-482f-ec77-a1ad88376a80"
      },
      "execution_count": null,
      "outputs": [
        {
          "output_type": "display_data",
          "data": {
            "text/html": [
              "<html>\n",
              "<head><meta charset=\"utf-8\" /></head>\n",
              "<body>\n",
              "    <div>            <script src=\"https://cdnjs.cloudflare.com/ajax/libs/mathjax/2.7.5/MathJax.js?config=TeX-AMS-MML_SVG\"></script><script type=\"text/javascript\">if (window.MathJax && window.MathJax.Hub && window.MathJax.Hub.Config) {window.MathJax.Hub.Config({SVG: {font: \"STIX-Web\"}});}</script>                <script type=\"text/javascript\">window.PlotlyConfig = {MathJaxConfig: 'local'};</script>\n",
              "        <script charset=\"utf-8\" src=\"https://cdn.plot.ly/plotly-2.35.2.min.js\"></script>                <div id=\"b8d83781-ef08-4e0b-9be8-108970a897c0\" class=\"plotly-graph-div\" style=\"height:525px; width:100%;\"></div>            <script type=\"text/javascript\">                                    window.PLOTLYENV=window.PLOTLYENV || {};                                    if (document.getElementById(\"b8d83781-ef08-4e0b-9be8-108970a897c0\")) {                    Plotly.newPlot(                        \"b8d83781-ef08-4e0b-9be8-108970a897c0\",                        [{\"line\":{\"color\":\"rgb(31, 119, 180)\",\"width\":2},\"marker\":{\"color\":\"rgb(31, 119, 180)\",\"size\":5},\"mode\":\"lines+markers\",\"name\":\"cpi\",\"x\":[\"1959-01-01T00:00:00\",\"1959-04-01T00:00:00\",\"1959-07-01T00:00:00\",\"1959-10-01T00:00:00\",\"1960-01-01T00:00:00\",\"1960-04-01T00:00:00\",\"1960-07-01T00:00:00\",\"1960-10-01T00:00:00\",\"1961-01-01T00:00:00\",\"1961-04-01T00:00:00\",\"1961-07-01T00:00:00\",\"1961-10-01T00:00:00\",\"1962-01-01T00:00:00\",\"1962-04-01T00:00:00\",\"1962-07-01T00:00:00\",\"1962-10-01T00:00:00\",\"1963-01-01T00:00:00\",\"1963-04-01T00:00:00\",\"1963-07-01T00:00:00\",\"1963-10-01T00:00:00\",\"1964-01-01T00:00:00\",\"1964-04-01T00:00:00\",\"1964-07-01T00:00:00\",\"1964-10-01T00:00:00\",\"1965-01-01T00:00:00\",\"1965-04-01T00:00:00\",\"1965-07-01T00:00:00\",\"1965-10-01T00:00:00\",\"1966-01-01T00:00:00\",\"1966-04-01T00:00:00\",\"1966-07-01T00:00:00\",\"1966-10-01T00:00:00\",\"1967-01-01T00:00:00\",\"1967-04-01T00:00:00\",\"1967-07-01T00:00:00\",\"1967-10-01T00:00:00\",\"1968-01-01T00:00:00\",\"1968-04-01T00:00:00\",\"1968-07-01T00:00:00\",\"1968-10-01T00:00:00\",\"1969-01-01T00:00:00\",\"1969-04-01T00:00:00\",\"1969-07-01T00:00:00\",\"1969-10-01T00:00:00\",\"1970-01-01T00:00:00\",\"1970-04-01T00:00:00\",\"1970-07-01T00:00:00\",\"1970-10-01T00:00:00\",\"1971-01-01T00:00:00\",\"1971-04-01T00:00:00\",\"1971-07-01T00:00:00\",\"1971-10-01T00:00:00\",\"1972-01-01T00:00:00\",\"1972-04-01T00:00:00\",\"1972-07-01T00:00:00\",\"1972-10-01T00:00:00\",\"1973-01-01T00:00:00\",\"1973-04-01T00:00:00\",\"1973-07-01T00:00:00\",\"1973-10-01T00:00:00\",\"1974-01-01T00:00:00\",\"1974-04-01T00:00:00\",\"1974-07-01T00:00:00\",\"1974-10-01T00:00:00\",\"1975-01-01T00:00:00\",\"1975-04-01T00:00:00\",\"1975-07-01T00:00:00\",\"1975-10-01T00:00:00\",\"1976-01-01T00:00:00\",\"1976-04-01T00:00:00\",\"1976-07-01T00:00:00\",\"1976-10-01T00:00:00\",\"1977-01-01T00:00:00\",\"1977-04-01T00:00:00\",\"1977-07-01T00:00:00\",\"1977-10-01T00:00:00\",\"1978-01-01T00:00:00\",\"1978-04-01T00:00:00\",\"1978-07-01T00:00:00\",\"1978-10-01T00:00:00\",\"1979-01-01T00:00:00\",\"1979-04-01T00:00:00\",\"1979-07-01T00:00:00\",\"1979-10-01T00:00:00\",\"1980-01-01T00:00:00\",\"1980-04-01T00:00:00\",\"1980-07-01T00:00:00\",\"1980-10-01T00:00:00\",\"1981-01-01T00:00:00\",\"1981-04-01T00:00:00\",\"1981-07-01T00:00:00\",\"1981-10-01T00:00:00\",\"1982-01-01T00:00:00\",\"1982-04-01T00:00:00\",\"1982-07-01T00:00:00\",\"1982-10-01T00:00:00\",\"1983-01-01T00:00:00\",\"1983-04-01T00:00:00\",\"1983-07-01T00:00:00\",\"1983-10-01T00:00:00\",\"1984-01-01T00:00:00\",\"1984-04-01T00:00:00\",\"1984-07-01T00:00:00\",\"1984-10-01T00:00:00\",\"1985-01-01T00:00:00\",\"1985-04-01T00:00:00\",\"1985-07-01T00:00:00\",\"1985-10-01T00:00:00\",\"1986-01-01T00:00:00\",\"1986-04-01T00:00:00\",\"1986-07-01T00:00:00\",\"1986-10-01T00:00:00\",\"1987-01-01T00:00:00\",\"1987-04-01T00:00:00\",\"1987-07-01T00:00:00\",\"1987-10-01T00:00:00\",\"1988-01-01T00:00:00\",\"1988-04-01T00:00:00\",\"1988-07-01T00:00:00\",\"1988-10-01T00:00:00\",\"1989-01-01T00:00:00\",\"1989-04-01T00:00:00\",\"1989-07-01T00:00:00\",\"1989-10-01T00:00:00\",\"1990-01-01T00:00:00\",\"1990-04-01T00:00:00\",\"1990-07-01T00:00:00\",\"1990-10-01T00:00:00\",\"1991-01-01T00:00:00\",\"1991-04-01T00:00:00\",\"1991-07-01T00:00:00\",\"1991-10-01T00:00:00\",\"1992-01-01T00:00:00\",\"1992-04-01T00:00:00\",\"1992-07-01T00:00:00\",\"1992-10-01T00:00:00\",\"1993-01-01T00:00:00\",\"1993-04-01T00:00:00\",\"1993-07-01T00:00:00\",\"1993-10-01T00:00:00\",\"1994-01-01T00:00:00\",\"1994-04-01T00:00:00\",\"1994-07-01T00:00:00\",\"1994-10-01T00:00:00\",\"1995-01-01T00:00:00\",\"1995-04-01T00:00:00\",\"1995-07-01T00:00:00\",\"1995-10-01T00:00:00\",\"1996-01-01T00:00:00\",\"1996-04-01T00:00:00\",\"1996-07-01T00:00:00\",\"1996-10-01T00:00:00\",\"1997-01-01T00:00:00\",\"1997-04-01T00:00:00\",\"1997-07-01T00:00:00\",\"1997-10-01T00:00:00\",\"1998-01-01T00:00:00\",\"1998-04-01T00:00:00\",\"1998-07-01T00:00:00\",\"1998-10-01T00:00:00\",\"1999-01-01T00:00:00\",\"1999-04-01T00:00:00\",\"1999-07-01T00:00:00\",\"1999-10-01T00:00:00\",\"2000-01-01T00:00:00\",\"2000-04-01T00:00:00\",\"2000-07-01T00:00:00\",\"2000-10-01T00:00:00\",\"2001-01-01T00:00:00\",\"2001-04-01T00:00:00\",\"2001-07-01T00:00:00\",\"2001-10-01T00:00:00\",\"2002-01-01T00:00:00\",\"2002-04-01T00:00:00\",\"2002-07-01T00:00:00\",\"2002-10-01T00:00:00\",\"2003-01-01T00:00:00\",\"2003-04-01T00:00:00\",\"2003-07-01T00:00:00\",\"2003-10-01T00:00:00\",\"2004-01-01T00:00:00\",\"2004-04-01T00:00:00\",\"2004-07-01T00:00:00\",\"2004-10-01T00:00:00\",\"2005-01-01T00:00:00\",\"2005-04-01T00:00:00\",\"2005-07-01T00:00:00\",\"2005-10-01T00:00:00\",\"2006-01-01T00:00:00\",\"2006-04-01T00:00:00\",\"2006-07-01T00:00:00\",\"2006-10-01T00:00:00\",\"2007-01-01T00:00:00\",\"2007-04-01T00:00:00\",\"2007-07-01T00:00:00\",\"2007-10-01T00:00:00\",\"2008-01-01T00:00:00\",\"2008-04-01T00:00:00\",\"2008-07-01T00:00:00\",\"2008-10-01T00:00:00\",\"2009-01-01T00:00:00\",\"2009-04-01T00:00:00\",\"2009-07-01T00:00:00\"],\"y\":[28.98,29.15,29.35,29.37,29.54,29.55,29.75,29.84,29.81,29.92,29.98,30.04,30.21,30.22,30.38,30.44,30.48,30.69,30.75,30.94,30.95,31.02,31.12,31.28,31.38,31.58,31.65,31.88,32.28,32.45,32.85,32.9,33.1,33.4,33.7,34.1,34.4,34.9,35.3,35.7,36.3,36.8,37.3,37.9,38.5,38.9,39.4,39.9,40.1,40.6,40.9,41.2,41.5,41.8,42.2,42.7,43.7,44.2,45.6,46.8,48.1,49.3,51.0,52.3,53.0,54.0,54.9,55.8,56.1,57.0,57.9,58.7,60.0,60.8,61.6,62.7,63.9,65.5,67.1,68.5,70.6,73.0,75.2,78.0,80.9,82.6,84.7,87.2,89.1,91.5,93.4,94.4,95.0,97.5,98.1,97.9,98.8,99.8,100.8,102.1,103.3,104.1,105.1,105.7,107.0,107.7,108.5,109.9,108.7,109.5,110.2,111.4,112.7,113.8,115.0,116.0,117.2,118.5,119.9,121.2,123.1,124.5,125.4,127.5,128.9,130.5,133.4,134.7,135.1,136.2,137.2,138.3,139.4,140.5,141.7,142.8,143.8,144.5,145.6,146.3,147.2,148.4,149.4,150.5,151.8,152.6,153.5,154.7,156.1,157.0,158.2,159.4,159.9,160.4,161.5,162.0,162.2,163.2,163.9,164.7,165.9,166.7,168.1,169.3,170.9,172.7,173.9,175.6,176.4,177.4,177.6,177.7,179.3,180.0,181.2,182.6,183.2,183.7,184.9,186.3,187.4,189.1,190.8,191.8,193.8,194.7,199.2,199.4,200.7,202.7,201.9,203.574,205.92,207.338,209.133,212.495,213.997,218.61,216.889,212.174,212.671,214.469,216.385],\"type\":\"scattergl\",\"xaxis\":\"x\",\"yaxis\":\"y\"},{\"line\":{\"color\":\"rgb(255, 127, 14)\",\"width\":2},\"marker\":{\"color\":\"rgb(255, 127, 14)\",\"size\":5},\"mode\":\"lines+markers\",\"name\":\"Random Walk with drift\",\"x\":[\"1959-01-01T00:00:00\",\"1959-04-01T00:00:00\",\"1959-07-01T00:00:00\",\"1959-10-01T00:00:00\",\"1960-01-01T00:00:00\",\"1960-04-01T00:00:00\",\"1960-07-01T00:00:00\",\"1960-10-01T00:00:00\",\"1961-01-01T00:00:00\",\"1961-04-01T00:00:00\",\"1961-07-01T00:00:00\",\"1961-10-01T00:00:00\",\"1962-01-01T00:00:00\",\"1962-04-01T00:00:00\",\"1962-07-01T00:00:00\",\"1962-10-01T00:00:00\",\"1963-01-01T00:00:00\",\"1963-04-01T00:00:00\",\"1963-07-01T00:00:00\",\"1963-10-01T00:00:00\",\"1964-01-01T00:00:00\",\"1964-04-01T00:00:00\",\"1964-07-01T00:00:00\",\"1964-10-01T00:00:00\",\"1965-01-01T00:00:00\",\"1965-04-01T00:00:00\",\"1965-07-01T00:00:00\",\"1965-10-01T00:00:00\",\"1966-01-01T00:00:00\",\"1966-04-01T00:00:00\",\"1966-07-01T00:00:00\",\"1966-10-01T00:00:00\",\"1967-01-01T00:00:00\",\"1967-04-01T00:00:00\",\"1967-07-01T00:00:00\",\"1967-10-01T00:00:00\",\"1968-01-01T00:00:00\",\"1968-04-01T00:00:00\",\"1968-07-01T00:00:00\",\"1968-10-01T00:00:00\",\"1969-01-01T00:00:00\",\"1969-04-01T00:00:00\",\"1969-07-01T00:00:00\",\"1969-10-01T00:00:00\",\"1970-01-01T00:00:00\",\"1970-04-01T00:00:00\",\"1970-07-01T00:00:00\",\"1970-10-01T00:00:00\",\"1971-01-01T00:00:00\",\"1971-04-01T00:00:00\",\"1971-07-01T00:00:00\",\"1971-10-01T00:00:00\",\"1972-01-01T00:00:00\",\"1972-04-01T00:00:00\",\"1972-07-01T00:00:00\",\"1972-10-01T00:00:00\",\"1973-01-01T00:00:00\",\"1973-04-01T00:00:00\",\"1973-07-01T00:00:00\",\"1973-10-01T00:00:00\",\"1974-01-01T00:00:00\",\"1974-04-01T00:00:00\",\"1974-07-01T00:00:00\",\"1974-10-01T00:00:00\",\"1975-01-01T00:00:00\",\"1975-04-01T00:00:00\",\"1975-07-01T00:00:00\",\"1975-10-01T00:00:00\",\"1976-01-01T00:00:00\",\"1976-04-01T00:00:00\",\"1976-07-01T00:00:00\",\"1976-10-01T00:00:00\",\"1977-01-01T00:00:00\",\"1977-04-01T00:00:00\",\"1977-07-01T00:00:00\",\"1977-10-01T00:00:00\",\"1978-01-01T00:00:00\",\"1978-04-01T00:00:00\",\"1978-07-01T00:00:00\",\"1978-10-01T00:00:00\",\"1979-01-01T00:00:00\",\"1979-04-01T00:00:00\",\"1979-07-01T00:00:00\",\"1979-10-01T00:00:00\",\"1980-01-01T00:00:00\",\"1980-04-01T00:00:00\",\"1980-07-01T00:00:00\",\"1980-10-01T00:00:00\",\"1981-01-01T00:00:00\",\"1981-04-01T00:00:00\",\"1981-07-01T00:00:00\",\"1981-10-01T00:00:00\",\"1982-01-01T00:00:00\",\"1982-04-01T00:00:00\",\"1982-07-01T00:00:00\",\"1982-10-01T00:00:00\",\"1983-01-01T00:00:00\",\"1983-04-01T00:00:00\",\"1983-07-01T00:00:00\",\"1983-10-01T00:00:00\",\"1984-01-01T00:00:00\",\"1984-04-01T00:00:00\",\"1984-07-01T00:00:00\",\"1984-10-01T00:00:00\",\"1985-01-01T00:00:00\",\"1985-04-01T00:00:00\",\"1985-07-01T00:00:00\",\"1985-10-01T00:00:00\",\"1986-01-01T00:00:00\",\"1986-04-01T00:00:00\",\"1986-07-01T00:00:00\",\"1986-10-01T00:00:00\",\"1987-01-01T00:00:00\",\"1987-04-01T00:00:00\",\"1987-07-01T00:00:00\",\"1987-10-01T00:00:00\",\"1988-01-01T00:00:00\",\"1988-04-01T00:00:00\",\"1988-07-01T00:00:00\",\"1988-10-01T00:00:00\",\"1989-01-01T00:00:00\",\"1989-04-01T00:00:00\",\"1989-07-01T00:00:00\",\"1989-10-01T00:00:00\",\"1990-01-01T00:00:00\",\"1990-04-01T00:00:00\",\"1990-07-01T00:00:00\",\"1990-10-01T00:00:00\",\"1991-01-01T00:00:00\",\"1991-04-01T00:00:00\",\"1991-07-01T00:00:00\",\"1991-10-01T00:00:00\",\"1992-01-01T00:00:00\",\"1992-04-01T00:00:00\",\"1992-07-01T00:00:00\",\"1992-10-01T00:00:00\",\"1993-01-01T00:00:00\",\"1993-04-01T00:00:00\",\"1993-07-01T00:00:00\",\"1993-10-01T00:00:00\",\"1994-01-01T00:00:00\",\"1994-04-01T00:00:00\",\"1994-07-01T00:00:00\",\"1994-10-01T00:00:00\",\"1995-01-01T00:00:00\",\"1995-04-01T00:00:00\",\"1995-07-01T00:00:00\",\"1995-10-01T00:00:00\",\"1996-01-01T00:00:00\",\"1996-04-01T00:00:00\",\"1996-07-01T00:00:00\",\"1996-10-01T00:00:00\",\"1997-01-01T00:00:00\",\"1997-04-01T00:00:00\",\"1997-07-01T00:00:00\",\"1997-10-01T00:00:00\",\"1998-01-01T00:00:00\",\"1998-04-01T00:00:00\",\"1998-07-01T00:00:00\",\"1998-10-01T00:00:00\",\"1999-01-01T00:00:00\",\"1999-04-01T00:00:00\",\"1999-07-01T00:00:00\",\"1999-10-01T00:00:00\",\"2000-01-01T00:00:00\",\"2000-04-01T00:00:00\",\"2000-07-01T00:00:00\",\"2000-10-01T00:00:00\",\"2001-01-01T00:00:00\",\"2001-04-01T00:00:00\",\"2001-07-01T00:00:00\",\"2001-10-01T00:00:00\",\"2002-01-01T00:00:00\",\"2002-04-01T00:00:00\",\"2002-07-01T00:00:00\",\"2002-10-01T00:00:00\",\"2003-01-01T00:00:00\",\"2003-04-01T00:00:00\",\"2003-07-01T00:00:00\",\"2003-10-01T00:00:00\",\"2004-01-01T00:00:00\",\"2004-04-01T00:00:00\",\"2004-07-01T00:00:00\",\"2004-10-01T00:00:00\",\"2005-01-01T00:00:00\",\"2005-04-01T00:00:00\",\"2005-07-01T00:00:00\",\"2005-10-01T00:00:00\",\"2006-01-01T00:00:00\",\"2006-04-01T00:00:00\",\"2006-07-01T00:00:00\",\"2006-10-01T00:00:00\",\"2007-01-01T00:00:00\",\"2007-04-01T00:00:00\",\"2007-07-01T00:00:00\",\"2007-10-01T00:00:00\",\"2008-01-01T00:00:00\",\"2008-04-01T00:00:00\",\"2008-07-01T00:00:00\",\"2008-10-01T00:00:00\",\"2009-01-01T00:00:00\",\"2009-04-01T00:00:00\",\"2009-07-01T00:00:00\"],\"y\":[null,29.856,30.026,30.226,30.246,30.416,30.426,30.626,30.716,30.686,30.796,30.856,30.916,31.086,31.096,31.256,31.316,31.356,31.566,31.626,31.816,31.826,31.896,31.996,32.156,32.256,32.456,32.526,32.756,33.156,33.326,33.726,33.776,33.976,34.276,34.576,34.976,35.276,35.776,36.176,36.576,37.176,37.676,38.176,38.776,39.376,39.776,40.276,40.776,40.976,41.476,41.776,42.076,42.376,42.676,43.076,43.576,44.576,45.076,46.476,47.676,48.976,50.176,51.876,53.176,53.876,54.876,55.776,56.676,56.976,57.876,58.776,59.576,60.876,61.676,62.476,63.576,64.776,66.376,67.976,69.376,71.476,73.876,76.076,78.876,81.776,83.476,85.576,88.076,89.976,92.376,94.276,95.276,95.876,98.376,98.976,98.776,99.676,100.676,101.676,102.976,104.176,104.976,105.976,106.576,107.876,108.576,109.376,110.776,109.576,110.376,111.076,112.276,113.576,114.676,115.876,116.876,118.076,119.376,120.776,122.076,123.976,125.376,126.276,128.376,129.776,131.376,134.276,135.576,135.976,137.076,138.076,139.176,140.276,141.376,142.576,143.676,144.676,145.376,146.476,147.176,148.076,149.276,150.276,151.376,152.676,153.476,154.376,155.576,156.976,157.876,159.076,160.276,160.776,161.276,162.376,162.876,163.076,164.076,164.776,165.576,166.776,167.576,168.976,170.176,171.776,173.576,174.776,176.476,177.276,178.276,178.476,178.576,180.176,180.876,182.076,183.476,184.076,184.576,null,null,null,null,null,null,null,null,null,null,null,null,null,null,null,null,null,null,null,null,null,null,null,null],\"type\":\"scattergl\",\"xaxis\":\"x\",\"yaxis\":\"y\"},{\"line\":{\"color\":\"rgb(44, 160, 44)\",\"width\":2},\"marker\":{\"color\":\"rgb(44, 160, 44)\",\"size\":5},\"mode\":\"lines+markers\",\"name\":\"ARIMA(1,1,1)\",\"x\":[\"1959-01-01T00:00:00\",\"1959-04-01T00:00:00\",\"1959-07-01T00:00:00\",\"1959-10-01T00:00:00\",\"1960-01-01T00:00:00\",\"1960-04-01T00:00:00\",\"1960-07-01T00:00:00\",\"1960-10-01T00:00:00\",\"1961-01-01T00:00:00\",\"1961-04-01T00:00:00\",\"1961-07-01T00:00:00\",\"1961-10-01T00:00:00\",\"1962-01-01T00:00:00\",\"1962-04-01T00:00:00\",\"1962-07-01T00:00:00\",\"1962-10-01T00:00:00\",\"1963-01-01T00:00:00\",\"1963-04-01T00:00:00\",\"1963-07-01T00:00:00\",\"1963-10-01T00:00:00\",\"1964-01-01T00:00:00\",\"1964-04-01T00:00:00\",\"1964-07-01T00:00:00\",\"1964-10-01T00:00:00\",\"1965-01-01T00:00:00\",\"1965-04-01T00:00:00\",\"1965-07-01T00:00:00\",\"1965-10-01T00:00:00\",\"1966-01-01T00:00:00\",\"1966-04-01T00:00:00\",\"1966-07-01T00:00:00\",\"1966-10-01T00:00:00\",\"1967-01-01T00:00:00\",\"1967-04-01T00:00:00\",\"1967-07-01T00:00:00\",\"1967-10-01T00:00:00\",\"1968-01-01T00:00:00\",\"1968-04-01T00:00:00\",\"1968-07-01T00:00:00\",\"1968-10-01T00:00:00\",\"1969-01-01T00:00:00\",\"1969-04-01T00:00:00\",\"1969-07-01T00:00:00\",\"1969-10-01T00:00:00\",\"1970-01-01T00:00:00\",\"1970-04-01T00:00:00\",\"1970-07-01T00:00:00\",\"1970-10-01T00:00:00\",\"1971-01-01T00:00:00\",\"1971-04-01T00:00:00\",\"1971-07-01T00:00:00\",\"1971-10-01T00:00:00\",\"1972-01-01T00:00:00\",\"1972-04-01T00:00:00\",\"1972-07-01T00:00:00\",\"1972-10-01T00:00:00\",\"1973-01-01T00:00:00\",\"1973-04-01T00:00:00\",\"1973-07-01T00:00:00\",\"1973-10-01T00:00:00\",\"1974-01-01T00:00:00\",\"1974-04-01T00:00:00\",\"1974-07-01T00:00:00\",\"1974-10-01T00:00:00\",\"1975-01-01T00:00:00\",\"1975-04-01T00:00:00\",\"1975-07-01T00:00:00\",\"1975-10-01T00:00:00\",\"1976-01-01T00:00:00\",\"1976-04-01T00:00:00\",\"1976-07-01T00:00:00\",\"1976-10-01T00:00:00\",\"1977-01-01T00:00:00\",\"1977-04-01T00:00:00\",\"1977-07-01T00:00:00\",\"1977-10-01T00:00:00\",\"1978-01-01T00:00:00\",\"1978-04-01T00:00:00\",\"1978-07-01T00:00:00\",\"1978-10-01T00:00:00\",\"1979-01-01T00:00:00\",\"1979-04-01T00:00:00\",\"1979-07-01T00:00:00\",\"1979-10-01T00:00:00\",\"1980-01-01T00:00:00\",\"1980-04-01T00:00:00\",\"1980-07-01T00:00:00\",\"1980-10-01T00:00:00\",\"1981-01-01T00:00:00\",\"1981-04-01T00:00:00\",\"1981-07-01T00:00:00\",\"1981-10-01T00:00:00\",\"1982-01-01T00:00:00\",\"1982-04-01T00:00:00\",\"1982-07-01T00:00:00\",\"1982-10-01T00:00:00\",\"1983-01-01T00:00:00\",\"1983-04-01T00:00:00\",\"1983-07-01T00:00:00\",\"1983-10-01T00:00:00\",\"1984-01-01T00:00:00\",\"1984-04-01T00:00:00\",\"1984-07-01T00:00:00\",\"1984-10-01T00:00:00\",\"1985-01-01T00:00:00\",\"1985-04-01T00:00:00\",\"1985-07-01T00:00:00\",\"1985-10-01T00:00:00\",\"1986-01-01T00:00:00\",\"1986-04-01T00:00:00\",\"1986-07-01T00:00:00\",\"1986-10-01T00:00:00\",\"1987-01-01T00:00:00\",\"1987-04-01T00:00:00\",\"1987-07-01T00:00:00\",\"1987-10-01T00:00:00\",\"1988-01-01T00:00:00\",\"1988-04-01T00:00:00\",\"1988-07-01T00:00:00\",\"1988-10-01T00:00:00\",\"1989-01-01T00:00:00\",\"1989-04-01T00:00:00\",\"1989-07-01T00:00:00\",\"1989-10-01T00:00:00\",\"1990-01-01T00:00:00\",\"1990-04-01T00:00:00\",\"1990-07-01T00:00:00\",\"1990-10-01T00:00:00\",\"1991-01-01T00:00:00\",\"1991-04-01T00:00:00\",\"1991-07-01T00:00:00\",\"1991-10-01T00:00:00\",\"1992-01-01T00:00:00\",\"1992-04-01T00:00:00\",\"1992-07-01T00:00:00\",\"1992-10-01T00:00:00\",\"1993-01-01T00:00:00\",\"1993-04-01T00:00:00\",\"1993-07-01T00:00:00\",\"1993-10-01T00:00:00\",\"1994-01-01T00:00:00\",\"1994-04-01T00:00:00\",\"1994-07-01T00:00:00\",\"1994-10-01T00:00:00\",\"1995-01-01T00:00:00\",\"1995-04-01T00:00:00\",\"1995-07-01T00:00:00\",\"1995-10-01T00:00:00\",\"1996-01-01T00:00:00\",\"1996-04-01T00:00:00\",\"1996-07-01T00:00:00\",\"1996-10-01T00:00:00\",\"1997-01-01T00:00:00\",\"1997-04-01T00:00:00\",\"1997-07-01T00:00:00\",\"1997-10-01T00:00:00\",\"1998-01-01T00:00:00\",\"1998-04-01T00:00:00\",\"1998-07-01T00:00:00\",\"1998-10-01T00:00:00\",\"1999-01-01T00:00:00\",\"1999-04-01T00:00:00\",\"1999-07-01T00:00:00\",\"1999-10-01T00:00:00\",\"2000-01-01T00:00:00\",\"2000-04-01T00:00:00\",\"2000-07-01T00:00:00\",\"2000-10-01T00:00:00\",\"2001-01-01T00:00:00\",\"2001-04-01T00:00:00\",\"2001-07-01T00:00:00\",\"2001-10-01T00:00:00\",\"2002-01-01T00:00:00\",\"2002-04-01T00:00:00\",\"2002-07-01T00:00:00\",\"2002-10-01T00:00:00\",\"2003-01-01T00:00:00\",\"2003-04-01T00:00:00\",\"2003-07-01T00:00:00\",\"2003-10-01T00:00:00\",\"2004-01-01T00:00:00\",\"2004-04-01T00:00:00\",\"2004-07-01T00:00:00\",\"2004-10-01T00:00:00\",\"2005-01-01T00:00:00\",\"2005-04-01T00:00:00\",\"2005-07-01T00:00:00\",\"2005-10-01T00:00:00\",\"2006-01-01T00:00:00\",\"2006-04-01T00:00:00\",\"2006-07-01T00:00:00\",\"2006-10-01T00:00:00\",\"2007-01-01T00:00:00\",\"2007-04-01T00:00:00\",\"2007-07-01T00:00:00\",\"2007-10-01T00:00:00\",\"2008-01-01T00:00:00\",\"2008-04-01T00:00:00\",\"2008-07-01T00:00:00\",\"2008-10-01T00:00:00\",\"2009-01-01T00:00:00\",\"2009-04-01T00:00:00\",\"2009-07-01T00:00:00\"],\"y\":[null,29.8053,29.5358,29.677,29.6066,29.7847,29.7431,29.9802,30.0534,29.9713,30.0996,30.1529,30.209,30.4153,30.3906,30.5828,30.6267,30.6501,30.9101,30.9469,31.1689,31.1346,31.1994,31.3069,31.4924,31.5865,31.8181,31.8612,32.1315,32.6152,32.754,33.2164,33.1802,33.3819,33.718,34.0395,34.4874,34.7807,35.3471,35.7512,36.1537,36.8256,37.333,37.8374,38.4752,39.0977,39.4406,39.9419,40.4427,40.5376,41.0808,41.3361,41.6095,41.8938,42.1844,42.6141,43.1669,44.3742,44.8212,46.5065,47.8053,49.1992,50.4196,52.3078,53.5786,54.0501,55.0201,55.8672,56.7357,56.8059,57.7808,58.7252,59.5163,60.9871,61.7124,62.468,63.6473,64.9296,66.7191,68.4316,69.8279,72.1721,74.8225,77.1007,80.1582,83.2462,84.6354,86.6917,89.3067,91.0637,93.5548,95.3329,95.9438,96.1722,99.1205,99.3177,98.5972,99.5756,100.6573,101.7058,103.1401,104.3846,105.0702,106.0728,106.5335,107.9972,108.5832,109.3507,110.9427,108.9414,109.97,110.7705,112.206,113.6809,114.8143,116.0693,117.0315,118.2795,119.6432,121.1161,122.4242,124.5402,125.8923,126.588,128.9891,130.3213,131.9515,135.327,136.3459,136.2624,137.3219,138.2628,139.3628,140.4629,141.5629,142.7981,143.8838,144.8402,145.4087,146.5714,147.1679,148.0769,149.3878,150.3832,151.5156,152.9053,153.5825,154.4448,155.7281,157.2479,158.0429,159.2863,160.512,160.7809,161.1438,162.3736,162.7395,162.7543,163.926,164.6223,165.4553,166.8157,167.57,169.1541,170.3929,172.1567,174.1243,175.2125,177.0222,177.5705,178.4915,178.3632,178.2332,180.2247,180.8401,182.166,183.711,184.1155,184.4643,null,null,null,null,null,null,null,null,null,null,null,null,null,null,null,null,null,null,null,null,null,null,null,null],\"type\":\"scattergl\",\"xaxis\":\"x\",\"yaxis\":\"y\"},{\"line\":{\"color\":\"rgb(214, 39, 40)\",\"width\":2},\"marker\":{\"color\":\"rgb(214, 39, 40)\",\"size\":5},\"mode\":\"lines+markers\",\"name\":\"SARIMA(1,1,1)(0,1,0,4)\",\"x\":[\"1959-01-01T00:00:00\",\"1959-04-01T00:00:00\",\"1959-07-01T00:00:00\",\"1959-10-01T00:00:00\",\"1960-01-01T00:00:00\",\"1960-04-01T00:00:00\",\"1960-07-01T00:00:00\",\"1960-10-01T00:00:00\",\"1961-01-01T00:00:00\",\"1961-04-01T00:00:00\",\"1961-07-01T00:00:00\",\"1961-10-01T00:00:00\",\"1962-01-01T00:00:00\",\"1962-04-01T00:00:00\",\"1962-07-01T00:00:00\",\"1962-10-01T00:00:00\",\"1963-01-01T00:00:00\",\"1963-04-01T00:00:00\",\"1963-07-01T00:00:00\",\"1963-10-01T00:00:00\",\"1964-01-01T00:00:00\",\"1964-04-01T00:00:00\",\"1964-07-01T00:00:00\",\"1964-10-01T00:00:00\",\"1965-01-01T00:00:00\",\"1965-04-01T00:00:00\",\"1965-07-01T00:00:00\",\"1965-10-01T00:00:00\",\"1966-01-01T00:00:00\",\"1966-04-01T00:00:00\",\"1966-07-01T00:00:00\",\"1966-10-01T00:00:00\",\"1967-01-01T00:00:00\",\"1967-04-01T00:00:00\",\"1967-07-01T00:00:00\",\"1967-10-01T00:00:00\",\"1968-01-01T00:00:00\",\"1968-04-01T00:00:00\",\"1968-07-01T00:00:00\",\"1968-10-01T00:00:00\",\"1969-01-01T00:00:00\",\"1969-04-01T00:00:00\",\"1969-07-01T00:00:00\",\"1969-10-01T00:00:00\",\"1970-01-01T00:00:00\",\"1970-04-01T00:00:00\",\"1970-07-01T00:00:00\",\"1970-10-01T00:00:00\",\"1971-01-01T00:00:00\",\"1971-04-01T00:00:00\",\"1971-07-01T00:00:00\",\"1971-10-01T00:00:00\",\"1972-01-01T00:00:00\",\"1972-04-01T00:00:00\",\"1972-07-01T00:00:00\",\"1972-10-01T00:00:00\",\"1973-01-01T00:00:00\",\"1973-04-01T00:00:00\",\"1973-07-01T00:00:00\",\"1973-10-01T00:00:00\",\"1974-01-01T00:00:00\",\"1974-04-01T00:00:00\",\"1974-07-01T00:00:00\",\"1974-10-01T00:00:00\",\"1975-01-01T00:00:00\",\"1975-04-01T00:00:00\",\"1975-07-01T00:00:00\",\"1975-10-01T00:00:00\",\"1976-01-01T00:00:00\",\"1976-04-01T00:00:00\",\"1976-07-01T00:00:00\",\"1976-10-01T00:00:00\",\"1977-01-01T00:00:00\",\"1977-04-01T00:00:00\",\"1977-07-01T00:00:00\",\"1977-10-01T00:00:00\",\"1978-01-01T00:00:00\",\"1978-04-01T00:00:00\",\"1978-07-01T00:00:00\",\"1978-10-01T00:00:00\",\"1979-01-01T00:00:00\",\"1979-04-01T00:00:00\",\"1979-07-01T00:00:00\",\"1979-10-01T00:00:00\",\"1980-01-01T00:00:00\",\"1980-04-01T00:00:00\",\"1980-07-01T00:00:00\",\"1980-10-01T00:00:00\",\"1981-01-01T00:00:00\",\"1981-04-01T00:00:00\",\"1981-07-01T00:00:00\",\"1981-10-01T00:00:00\",\"1982-01-01T00:00:00\",\"1982-04-01T00:00:00\",\"1982-07-01T00:00:00\",\"1982-10-01T00:00:00\",\"1983-01-01T00:00:00\",\"1983-04-01T00:00:00\",\"1983-07-01T00:00:00\",\"1983-10-01T00:00:00\",\"1984-01-01T00:00:00\",\"1984-04-01T00:00:00\",\"1984-07-01T00:00:00\",\"1984-10-01T00:00:00\",\"1985-01-01T00:00:00\",\"1985-04-01T00:00:00\",\"1985-07-01T00:00:00\",\"1985-10-01T00:00:00\",\"1986-01-01T00:00:00\",\"1986-04-01T00:00:00\",\"1986-07-01T00:00:00\",\"1986-10-01T00:00:00\",\"1987-01-01T00:00:00\",\"1987-04-01T00:00:00\",\"1987-07-01T00:00:00\",\"1987-10-01T00:00:00\",\"1988-01-01T00:00:00\",\"1988-04-01T00:00:00\",\"1988-07-01T00:00:00\",\"1988-10-01T00:00:00\",\"1989-01-01T00:00:00\",\"1989-04-01T00:00:00\",\"1989-07-01T00:00:00\",\"1989-10-01T00:00:00\",\"1990-01-01T00:00:00\",\"1990-04-01T00:00:00\",\"1990-07-01T00:00:00\",\"1990-10-01T00:00:00\",\"1991-01-01T00:00:00\",\"1991-04-01T00:00:00\",\"1991-07-01T00:00:00\",\"1991-10-01T00:00:00\",\"1992-01-01T00:00:00\",\"1992-04-01T00:00:00\",\"1992-07-01T00:00:00\",\"1992-10-01T00:00:00\",\"1993-01-01T00:00:00\",\"1993-04-01T00:00:00\",\"1993-07-01T00:00:00\",\"1993-10-01T00:00:00\",\"1994-01-01T00:00:00\",\"1994-04-01T00:00:00\",\"1994-07-01T00:00:00\",\"1994-10-01T00:00:00\",\"1995-01-01T00:00:00\",\"1995-04-01T00:00:00\",\"1995-07-01T00:00:00\",\"1995-10-01T00:00:00\",\"1996-01-01T00:00:00\",\"1996-04-01T00:00:00\",\"1996-07-01T00:00:00\",\"1996-10-01T00:00:00\",\"1997-01-01T00:00:00\",\"1997-04-01T00:00:00\",\"1997-07-01T00:00:00\",\"1997-10-01T00:00:00\",\"1998-01-01T00:00:00\",\"1998-04-01T00:00:00\",\"1998-07-01T00:00:00\",\"1998-10-01T00:00:00\",\"1999-01-01T00:00:00\",\"1999-04-01T00:00:00\",\"1999-07-01T00:00:00\",\"1999-10-01T00:00:00\",\"2000-01-01T00:00:00\",\"2000-04-01T00:00:00\",\"2000-07-01T00:00:00\",\"2000-10-01T00:00:00\",\"2001-01-01T00:00:00\",\"2001-04-01T00:00:00\",\"2001-07-01T00:00:00\",\"2001-10-01T00:00:00\",\"2002-01-01T00:00:00\",\"2002-04-01T00:00:00\",\"2002-07-01T00:00:00\",\"2002-10-01T00:00:00\",\"2003-01-01T00:00:00\",\"2003-04-01T00:00:00\",\"2003-07-01T00:00:00\",\"2003-10-01T00:00:00\",\"2004-01-01T00:00:00\",\"2004-04-01T00:00:00\",\"2004-07-01T00:00:00\",\"2004-10-01T00:00:00\",\"2005-01-01T00:00:00\",\"2005-04-01T00:00:00\",\"2005-07-01T00:00:00\",\"2005-10-01T00:00:00\",\"2006-01-01T00:00:00\",\"2006-04-01T00:00:00\",\"2006-07-01T00:00:00\",\"2006-10-01T00:00:00\",\"2007-01-01T00:00:00\",\"2007-04-01T00:00:00\",\"2007-07-01T00:00:00\",\"2007-10-01T00:00:00\",\"2008-01-01T00:00:00\",\"2008-04-01T00:00:00\",\"2008-07-01T00:00:00\",\"2008-10-01T00:00:00\",\"2009-01-01T00:00:00\",\"2009-04-01T00:00:00\",\"2009-07-01T00:00:00\"],\"y\":[null,28.9974,29.1674,29.3674,43.8861,29.7274,29.7413,29.7741,30.0291,29.8085,30.1366,30.0656,30.0118,30.3558,30.2891,30.4652,30.6283,30.4877,30.8841,30.8184,31.009,31.1758,31.0753,31.3212,31.2984,31.4735,31.7153,31.8284,32.005,32.5391,32.5483,33.1446,33.3102,33.2548,33.8191,33.7521,34.3564,34.7449,35.2538,35.7438,36.0261,36.8595,37.2326,37.735,38.5496,39.0285,39.406,40.0103,40.4984,40.4526,41.1016,41.3812,41.3727,42.01,42.0847,42.515,43.0413,44.1204,44.6853,46.2797,47.9782,48.723,50.8545,52.3132,53.6686,54.1546,55.6616,56.0827,56.4043,57.0133,57.8579,58.7902,58.99,61.0399,61.7525,62.4161,64.0554,64.7173,66.424,68.3686,69.819,72.3801,74.792,76.7697,80.3694,83.5293,84.8081,87.4975,90.0658,90.6572,93.6436,95.8987,96.1028,97.1482,99.3163,98.8956,98.2589,101.248,100.1816,100.5711,103.2002,104.4322,105.1357,106.4227,106.8218,107.7888,108.6894,109.0761,111.3068,109.1116,110.201,111.5528,110.1608,113.8321,114.6873,116.3541,117.3448,118.3129,119.7404,120.9519,122.4703,124.5325,125.9767,126.6716,129.505,130.2834,131.4281,135.7921,136.1207,136.5801,138.9896,138.2027,138.5564,140.5432,141.5258,142.8458,143.9269,144.9054,145.6555,146.6756,147.243,147.8704,149.5635,150.1207,151.4709,153.0919,153.5916,154.5906,156.0175,156.9287,157.9334,159.4626,160.8339,160.6993,161.5112,162.6571,162.3944,162.6228,164.3437,164.3715,164.9368,167.0594,167.4471,169.0228,170.6136,171.8097,174.2899,175.1598,177.3009,178.1408,178.474,179.1189,178.2141,180.2974,180.1658,181.4298,184.4391,183.8713,184.8685,null,null,null,null,null,null,null,null,null,null,null,null,null,null,null,null,null,null,null,null,null,null,null,null],\"type\":\"scattergl\",\"xaxis\":\"x\",\"yaxis\":\"y\"}],                        {\"template\":{\"data\":{\"barpolar\":[{\"marker\":{\"line\":{\"color\":\"rgb(237,237,237)\",\"width\":0.5},\"pattern\":{\"fillmode\":\"overlay\",\"size\":10,\"solidity\":0.2}},\"type\":\"barpolar\"}],\"bar\":[{\"error_x\":{\"color\":\"rgb(51,51,51)\"},\"error_y\":{\"color\":\"rgb(51,51,51)\"},\"marker\":{\"line\":{\"color\":\"rgb(237,237,237)\",\"width\":0.5},\"pattern\":{\"fillmode\":\"overlay\",\"size\":10,\"solidity\":0.2}},\"type\":\"bar\"}],\"carpet\":[{\"aaxis\":{\"endlinecolor\":\"rgb(51,51,51)\",\"gridcolor\":\"white\",\"linecolor\":\"white\",\"minorgridcolor\":\"white\",\"startlinecolor\":\"rgb(51,51,51)\"},\"baxis\":{\"endlinecolor\":\"rgb(51,51,51)\",\"gridcolor\":\"white\",\"linecolor\":\"white\",\"minorgridcolor\":\"white\",\"startlinecolor\":\"rgb(51,51,51)\"},\"type\":\"carpet\"}],\"choropleth\":[{\"colorbar\":{\"outlinewidth\":0,\"tickcolor\":\"rgb(237,237,237)\",\"ticklen\":6,\"ticks\":\"inside\"},\"type\":\"choropleth\"}],\"contourcarpet\":[{\"colorbar\":{\"outlinewidth\":0,\"tickcolor\":\"rgb(237,237,237)\",\"ticklen\":6,\"ticks\":\"inside\"},\"type\":\"contourcarpet\"}],\"contour\":[{\"colorbar\":{\"outlinewidth\":0,\"tickcolor\":\"rgb(237,237,237)\",\"ticklen\":6,\"ticks\":\"inside\"},\"colorscale\":[[0,\"rgb(20,44,66)\"],[1,\"rgb(90,179,244)\"]],\"type\":\"contour\"}],\"heatmapgl\":[{\"colorbar\":{\"outlinewidth\":0,\"tickcolor\":\"rgb(237,237,237)\",\"ticklen\":6,\"ticks\":\"inside\"},\"colorscale\":[[0,\"rgb(20,44,66)\"],[1,\"rgb(90,179,244)\"]],\"type\":\"heatmapgl\"}],\"heatmap\":[{\"colorbar\":{\"outlinewidth\":0,\"tickcolor\":\"rgb(237,237,237)\",\"ticklen\":6,\"ticks\":\"inside\"},\"colorscale\":[[0,\"rgb(20,44,66)\"],[1,\"rgb(90,179,244)\"]],\"type\":\"heatmap\"}],\"histogram2dcontour\":[{\"colorbar\":{\"outlinewidth\":0,\"tickcolor\":\"rgb(237,237,237)\",\"ticklen\":6,\"ticks\":\"inside\"},\"colorscale\":[[0,\"rgb(20,44,66)\"],[1,\"rgb(90,179,244)\"]],\"type\":\"histogram2dcontour\"}],\"histogram2d\":[{\"colorbar\":{\"outlinewidth\":0,\"tickcolor\":\"rgb(237,237,237)\",\"ticklen\":6,\"ticks\":\"inside\"},\"colorscale\":[[0,\"rgb(20,44,66)\"],[1,\"rgb(90,179,244)\"]],\"type\":\"histogram2d\"}],\"histogram\":[{\"marker\":{\"pattern\":{\"fillmode\":\"overlay\",\"size\":10,\"solidity\":0.2}},\"type\":\"histogram\"}],\"mesh3d\":[{\"colorbar\":{\"outlinewidth\":0,\"tickcolor\":\"rgb(237,237,237)\",\"ticklen\":6,\"ticks\":\"inside\"},\"type\":\"mesh3d\"}],\"parcoords\":[{\"line\":{\"colorbar\":{\"outlinewidth\":0,\"tickcolor\":\"rgb(237,237,237)\",\"ticklen\":6,\"ticks\":\"inside\"}},\"type\":\"parcoords\"}],\"pie\":[{\"automargin\":true,\"type\":\"pie\"}],\"scatter3d\":[{\"line\":{\"colorbar\":{\"outlinewidth\":0,\"tickcolor\":\"rgb(237,237,237)\",\"ticklen\":6,\"ticks\":\"inside\"}},\"marker\":{\"colorbar\":{\"outlinewidth\":0,\"tickcolor\":\"rgb(237,237,237)\",\"ticklen\":6,\"ticks\":\"inside\"}},\"type\":\"scatter3d\"}],\"scattercarpet\":[{\"marker\":{\"colorbar\":{\"outlinewidth\":0,\"tickcolor\":\"rgb(237,237,237)\",\"ticklen\":6,\"ticks\":\"inside\"}},\"type\":\"scattercarpet\"}],\"scattergeo\":[{\"marker\":{\"colorbar\":{\"outlinewidth\":0,\"tickcolor\":\"rgb(237,237,237)\",\"ticklen\":6,\"ticks\":\"inside\"}},\"type\":\"scattergeo\"}],\"scattergl\":[{\"marker\":{\"colorbar\":{\"outlinewidth\":0,\"tickcolor\":\"rgb(237,237,237)\",\"ticklen\":6,\"ticks\":\"inside\"}},\"type\":\"scattergl\"}],\"scattermapbox\":[{\"marker\":{\"colorbar\":{\"outlinewidth\":0,\"tickcolor\":\"rgb(237,237,237)\",\"ticklen\":6,\"ticks\":\"inside\"}},\"type\":\"scattermapbox\"}],\"scatterpolargl\":[{\"marker\":{\"colorbar\":{\"outlinewidth\":0,\"tickcolor\":\"rgb(237,237,237)\",\"ticklen\":6,\"ticks\":\"inside\"}},\"type\":\"scatterpolargl\"}],\"scatterpolar\":[{\"marker\":{\"colorbar\":{\"outlinewidth\":0,\"tickcolor\":\"rgb(237,237,237)\",\"ticklen\":6,\"ticks\":\"inside\"}},\"type\":\"scatterpolar\"}],\"scatter\":[{\"fillpattern\":{\"fillmode\":\"overlay\",\"size\":10,\"solidity\":0.2},\"type\":\"scatter\"}],\"scatterternary\":[{\"marker\":{\"colorbar\":{\"outlinewidth\":0,\"tickcolor\":\"rgb(237,237,237)\",\"ticklen\":6,\"ticks\":\"inside\"}},\"type\":\"scatterternary\"}],\"surface\":[{\"colorbar\":{\"outlinewidth\":0,\"tickcolor\":\"rgb(237,237,237)\",\"ticklen\":6,\"ticks\":\"inside\"},\"colorscale\":[[0,\"rgb(20,44,66)\"],[1,\"rgb(90,179,244)\"]],\"type\":\"surface\"}],\"table\":[{\"cells\":{\"fill\":{\"color\":\"rgb(237,237,237)\"},\"line\":{\"color\":\"white\"}},\"header\":{\"fill\":{\"color\":\"rgb(217,217,217)\"},\"line\":{\"color\":\"white\"}},\"type\":\"table\"}]},\"layout\":{\"annotationdefaults\":{\"arrowhead\":0,\"arrowwidth\":1},\"autotypenumbers\":\"strict\",\"coloraxis\":{\"colorbar\":{\"outlinewidth\":0,\"tickcolor\":\"rgb(237,237,237)\",\"ticklen\":6,\"ticks\":\"inside\"}},\"colorscale\":{\"sequential\":[[0,\"rgb(20,44,66)\"],[1,\"rgb(90,179,244)\"]],\"sequentialminus\":[[0,\"rgb(20,44,66)\"],[1,\"rgb(90,179,244)\"]]},\"colorway\":[\"#F8766D\",\"#A3A500\",\"#00BF7D\",\"#00B0F6\",\"#E76BF3\"],\"font\":{\"color\":\"rgb(51,51,51)\"},\"geo\":{\"bgcolor\":\"white\",\"lakecolor\":\"white\",\"landcolor\":\"rgb(237,237,237)\",\"showlakes\":true,\"showland\":true,\"subunitcolor\":\"white\"},\"hoverlabel\":{\"align\":\"left\"},\"hovermode\":\"closest\",\"paper_bgcolor\":\"white\",\"plot_bgcolor\":\"rgb(237,237,237)\",\"polar\":{\"angularaxis\":{\"gridcolor\":\"white\",\"linecolor\":\"white\",\"showgrid\":true,\"tickcolor\":\"rgb(51,51,51)\",\"ticks\":\"outside\"},\"bgcolor\":\"rgb(237,237,237)\",\"radialaxis\":{\"gridcolor\":\"white\",\"linecolor\":\"white\",\"showgrid\":true,\"tickcolor\":\"rgb(51,51,51)\",\"ticks\":\"outside\"}},\"scene\":{\"xaxis\":{\"backgroundcolor\":\"rgb(237,237,237)\",\"gridcolor\":\"white\",\"gridwidth\":2,\"linecolor\":\"white\",\"showbackground\":true,\"showgrid\":true,\"tickcolor\":\"rgb(51,51,51)\",\"ticks\":\"outside\",\"zerolinecolor\":\"white\"},\"yaxis\":{\"backgroundcolor\":\"rgb(237,237,237)\",\"gridcolor\":\"white\",\"gridwidth\":2,\"linecolor\":\"white\",\"showbackground\":true,\"showgrid\":true,\"tickcolor\":\"rgb(51,51,51)\",\"ticks\":\"outside\",\"zerolinecolor\":\"white\"},\"zaxis\":{\"backgroundcolor\":\"rgb(237,237,237)\",\"gridcolor\":\"white\",\"gridwidth\":2,\"linecolor\":\"white\",\"showbackground\":true,\"showgrid\":true,\"tickcolor\":\"rgb(51,51,51)\",\"ticks\":\"outside\",\"zerolinecolor\":\"white\"}},\"shapedefaults\":{\"fillcolor\":\"black\",\"line\":{\"width\":0},\"opacity\":0.3},\"ternary\":{\"aaxis\":{\"gridcolor\":\"white\",\"linecolor\":\"white\",\"showgrid\":true,\"tickcolor\":\"rgb(51,51,51)\",\"ticks\":\"outside\"},\"baxis\":{\"gridcolor\":\"white\",\"linecolor\":\"white\",\"showgrid\":true,\"tickcolor\":\"rgb(51,51,51)\",\"ticks\":\"outside\"},\"bgcolor\":\"rgb(237,237,237)\",\"caxis\":{\"gridcolor\":\"white\",\"linecolor\":\"white\",\"showgrid\":true,\"tickcolor\":\"rgb(51,51,51)\",\"ticks\":\"outside\"}},\"xaxis\":{\"automargin\":true,\"gridcolor\":\"white\",\"linecolor\":\"white\",\"showgrid\":true,\"tickcolor\":\"rgb(51,51,51)\",\"ticks\":\"outside\",\"title\":{\"standoff\":15},\"zerolinecolor\":\"white\"},\"yaxis\":{\"automargin\":true,\"gridcolor\":\"white\",\"linecolor\":\"white\",\"showgrid\":true,\"tickcolor\":\"rgb(51,51,51)\",\"ticks\":\"outside\",\"title\":{\"standoff\":15},\"zerolinecolor\":\"white\"}}},\"xaxis\":{\"anchor\":\"y\",\"domain\":[0.0,1.0]},\"yaxis\":{\"anchor\":\"x\",\"domain\":[0.0,1.0]},\"showlegend\":true,\"title\":{\"text\":\"Actual vs. Forecast (In-Sample)\"}},                        {\"responsive\": true}                    ).then(function(){\n",
              "                            \n",
              "var gd = document.getElementById('b8d83781-ef08-4e0b-9be8-108970a897c0');\n",
              "var x = new MutationObserver(function (mutations, observer) {{\n",
              "        var display = window.getComputedStyle(gd).display;\n",
              "        if (!display || display === 'none') {{\n",
              "            console.log([gd, 'removed!']);\n",
              "            Plotly.purge(gd);\n",
              "            observer.disconnect();\n",
              "        }}\n",
              "}});\n",
              "\n",
              "// Listen for the removal of the full notebook cells\n",
              "var notebookContainer = gd.closest('#notebook-container');\n",
              "if (notebookContainer) {{\n",
              "    x.observe(notebookContainer, {childList: true});\n",
              "}}\n",
              "\n",
              "// Listen for the clearing of the current output cell\n",
              "var outputEl = gd.closest('.output');\n",
              "if (outputEl) {{\n",
              "    x.observe(outputEl, {childList: true});\n",
              "}}\n",
              "\n",
              "                        })                };                            </script>        </div>\n",
              "</body>\n",
              "</html>"
            ]
          },
          "metadata": {}
        }
      ]
    },
    {
      "cell_type": "markdown",
      "source": [
        "### 11"
      ],
      "metadata": {
        "id": "t2hZHieUawqJ"
      }
    },
    {
      "cell_type": "code",
      "source": [
        "exp.plot_model(my_models, plot='forecast', data_kwargs={'fh':36, 'labels':my_model_lables})"
      ],
      "metadata": {
        "colab": {
          "base_uri": "https://localhost:8080/",
          "height": 542
        },
        "id": "CK_NMNgGax7B",
        "outputId": "d74c9020-2e15-40e2-9ec2-ddd3d91ce9e6"
      },
      "execution_count": null,
      "outputs": [
        {
          "output_type": "display_data",
          "data": {
            "text/html": [
              "<html>\n",
              "<head><meta charset=\"utf-8\" /></head>\n",
              "<body>\n",
              "    <div>            <script src=\"https://cdnjs.cloudflare.com/ajax/libs/mathjax/2.7.5/MathJax.js?config=TeX-AMS-MML_SVG\"></script><script type=\"text/javascript\">if (window.MathJax && window.MathJax.Hub && window.MathJax.Hub.Config) {window.MathJax.Hub.Config({SVG: {font: \"STIX-Web\"}});}</script>                <script type=\"text/javascript\">window.PlotlyConfig = {MathJaxConfig: 'local'};</script>\n",
              "        <script charset=\"utf-8\" src=\"https://cdn.plot.ly/plotly-2.35.2.min.js\"></script>                <div id=\"9b973e63-f071-4fc2-8c6a-02f811146b54\" class=\"plotly-graph-div\" style=\"height:525px; width:100%;\"></div>            <script type=\"text/javascript\">                                    window.PLOTLYENV=window.PLOTLYENV || {};                                    if (document.getElementById(\"9b973e63-f071-4fc2-8c6a-02f811146b54\")) {                    Plotly.newPlot(                        \"9b973e63-f071-4fc2-8c6a-02f811146b54\",                        [{\"line\":{\"color\":\"rgb(31, 119, 180)\",\"width\":2},\"marker\":{\"color\":\"rgb(31, 119, 180)\",\"size\":5},\"mode\":\"lines+markers\",\"name\":\"cpi\",\"x\":[\"1959-01-01T00:00:00\",\"1959-04-01T00:00:00\",\"1959-07-01T00:00:00\",\"1959-10-01T00:00:00\",\"1960-01-01T00:00:00\",\"1960-04-01T00:00:00\",\"1960-07-01T00:00:00\",\"1960-10-01T00:00:00\",\"1961-01-01T00:00:00\",\"1961-04-01T00:00:00\",\"1961-07-01T00:00:00\",\"1961-10-01T00:00:00\",\"1962-01-01T00:00:00\",\"1962-04-01T00:00:00\",\"1962-07-01T00:00:00\",\"1962-10-01T00:00:00\",\"1963-01-01T00:00:00\",\"1963-04-01T00:00:00\",\"1963-07-01T00:00:00\",\"1963-10-01T00:00:00\",\"1964-01-01T00:00:00\",\"1964-04-01T00:00:00\",\"1964-07-01T00:00:00\",\"1964-10-01T00:00:00\",\"1965-01-01T00:00:00\",\"1965-04-01T00:00:00\",\"1965-07-01T00:00:00\",\"1965-10-01T00:00:00\",\"1966-01-01T00:00:00\",\"1966-04-01T00:00:00\",\"1966-07-01T00:00:00\",\"1966-10-01T00:00:00\",\"1967-01-01T00:00:00\",\"1967-04-01T00:00:00\",\"1967-07-01T00:00:00\",\"1967-10-01T00:00:00\",\"1968-01-01T00:00:00\",\"1968-04-01T00:00:00\",\"1968-07-01T00:00:00\",\"1968-10-01T00:00:00\",\"1969-01-01T00:00:00\",\"1969-04-01T00:00:00\",\"1969-07-01T00:00:00\",\"1969-10-01T00:00:00\",\"1970-01-01T00:00:00\",\"1970-04-01T00:00:00\",\"1970-07-01T00:00:00\",\"1970-10-01T00:00:00\",\"1971-01-01T00:00:00\",\"1971-04-01T00:00:00\",\"1971-07-01T00:00:00\",\"1971-10-01T00:00:00\",\"1972-01-01T00:00:00\",\"1972-04-01T00:00:00\",\"1972-07-01T00:00:00\",\"1972-10-01T00:00:00\",\"1973-01-01T00:00:00\",\"1973-04-01T00:00:00\",\"1973-07-01T00:00:00\",\"1973-10-01T00:00:00\",\"1974-01-01T00:00:00\",\"1974-04-01T00:00:00\",\"1974-07-01T00:00:00\",\"1974-10-01T00:00:00\",\"1975-01-01T00:00:00\",\"1975-04-01T00:00:00\",\"1975-07-01T00:00:00\",\"1975-10-01T00:00:00\",\"1976-01-01T00:00:00\",\"1976-04-01T00:00:00\",\"1976-07-01T00:00:00\",\"1976-10-01T00:00:00\",\"1977-01-01T00:00:00\",\"1977-04-01T00:00:00\",\"1977-07-01T00:00:00\",\"1977-10-01T00:00:00\",\"1978-01-01T00:00:00\",\"1978-04-01T00:00:00\",\"1978-07-01T00:00:00\",\"1978-10-01T00:00:00\",\"1979-01-01T00:00:00\",\"1979-04-01T00:00:00\",\"1979-07-01T00:00:00\",\"1979-10-01T00:00:00\",\"1980-01-01T00:00:00\",\"1980-04-01T00:00:00\",\"1980-07-01T00:00:00\",\"1980-10-01T00:00:00\",\"1981-01-01T00:00:00\",\"1981-04-01T00:00:00\",\"1981-07-01T00:00:00\",\"1981-10-01T00:00:00\",\"1982-01-01T00:00:00\",\"1982-04-01T00:00:00\",\"1982-07-01T00:00:00\",\"1982-10-01T00:00:00\",\"1983-01-01T00:00:00\",\"1983-04-01T00:00:00\",\"1983-07-01T00:00:00\",\"1983-10-01T00:00:00\",\"1984-01-01T00:00:00\",\"1984-04-01T00:00:00\",\"1984-07-01T00:00:00\",\"1984-10-01T00:00:00\",\"1985-01-01T00:00:00\",\"1985-04-01T00:00:00\",\"1985-07-01T00:00:00\",\"1985-10-01T00:00:00\",\"1986-01-01T00:00:00\",\"1986-04-01T00:00:00\",\"1986-07-01T00:00:00\",\"1986-10-01T00:00:00\",\"1987-01-01T00:00:00\",\"1987-04-01T00:00:00\",\"1987-07-01T00:00:00\",\"1987-10-01T00:00:00\",\"1988-01-01T00:00:00\",\"1988-04-01T00:00:00\",\"1988-07-01T00:00:00\",\"1988-10-01T00:00:00\",\"1989-01-01T00:00:00\",\"1989-04-01T00:00:00\",\"1989-07-01T00:00:00\",\"1989-10-01T00:00:00\",\"1990-01-01T00:00:00\",\"1990-04-01T00:00:00\",\"1990-07-01T00:00:00\",\"1990-10-01T00:00:00\",\"1991-01-01T00:00:00\",\"1991-04-01T00:00:00\",\"1991-07-01T00:00:00\",\"1991-10-01T00:00:00\",\"1992-01-01T00:00:00\",\"1992-04-01T00:00:00\",\"1992-07-01T00:00:00\",\"1992-10-01T00:00:00\",\"1993-01-01T00:00:00\",\"1993-04-01T00:00:00\",\"1993-07-01T00:00:00\",\"1993-10-01T00:00:00\",\"1994-01-01T00:00:00\",\"1994-04-01T00:00:00\",\"1994-07-01T00:00:00\",\"1994-10-01T00:00:00\",\"1995-01-01T00:00:00\",\"1995-04-01T00:00:00\",\"1995-07-01T00:00:00\",\"1995-10-01T00:00:00\",\"1996-01-01T00:00:00\",\"1996-04-01T00:00:00\",\"1996-07-01T00:00:00\",\"1996-10-01T00:00:00\",\"1997-01-01T00:00:00\",\"1997-04-01T00:00:00\",\"1997-07-01T00:00:00\",\"1997-10-01T00:00:00\",\"1998-01-01T00:00:00\",\"1998-04-01T00:00:00\",\"1998-07-01T00:00:00\",\"1998-10-01T00:00:00\",\"1999-01-01T00:00:00\",\"1999-04-01T00:00:00\",\"1999-07-01T00:00:00\",\"1999-10-01T00:00:00\",\"2000-01-01T00:00:00\",\"2000-04-01T00:00:00\",\"2000-07-01T00:00:00\",\"2000-10-01T00:00:00\",\"2001-01-01T00:00:00\",\"2001-04-01T00:00:00\",\"2001-07-01T00:00:00\",\"2001-10-01T00:00:00\",\"2002-01-01T00:00:00\",\"2002-04-01T00:00:00\",\"2002-07-01T00:00:00\",\"2002-10-01T00:00:00\",\"2003-01-01T00:00:00\",\"2003-04-01T00:00:00\",\"2003-07-01T00:00:00\",\"2003-10-01T00:00:00\",\"2004-01-01T00:00:00\",\"2004-04-01T00:00:00\",\"2004-07-01T00:00:00\",\"2004-10-01T00:00:00\",\"2005-01-01T00:00:00\",\"2005-04-01T00:00:00\",\"2005-07-01T00:00:00\",\"2005-10-01T00:00:00\",\"2006-01-01T00:00:00\",\"2006-04-01T00:00:00\",\"2006-07-01T00:00:00\",\"2006-10-01T00:00:00\",\"2007-01-01T00:00:00\",\"2007-04-01T00:00:00\",\"2007-07-01T00:00:00\",\"2007-10-01T00:00:00\",\"2008-01-01T00:00:00\",\"2008-04-01T00:00:00\",\"2008-07-01T00:00:00\",\"2008-10-01T00:00:00\",\"2009-01-01T00:00:00\",\"2009-04-01T00:00:00\",\"2009-07-01T00:00:00\",\"2009-10-01T00:00:00\",\"2010-01-01T00:00:00\",\"2010-04-01T00:00:00\",\"2010-07-01T00:00:00\",\"2010-10-01T00:00:00\",\"2011-01-01T00:00:00\",\"2011-04-01T00:00:00\",\"2011-07-01T00:00:00\",\"2011-10-01T00:00:00\",\"2012-01-01T00:00:00\",\"2012-04-01T00:00:00\",\"2012-07-01T00:00:00\"],\"y\":[28.98,29.15,29.35,29.37,29.54,29.55,29.75,29.84,29.81,29.92,29.98,30.04,30.21,30.22,30.38,30.44,30.48,30.69,30.75,30.94,30.95,31.02,31.12,31.28,31.38,31.58,31.65,31.88,32.28,32.45,32.85,32.9,33.1,33.4,33.7,34.1,34.4,34.9,35.3,35.7,36.3,36.8,37.3,37.9,38.5,38.9,39.4,39.9,40.1,40.6,40.9,41.2,41.5,41.8,42.2,42.7,43.7,44.2,45.6,46.8,48.1,49.3,51.0,52.3,53.0,54.0,54.9,55.8,56.1,57.0,57.9,58.7,60.0,60.8,61.6,62.7,63.9,65.5,67.1,68.5,70.6,73.0,75.2,78.0,80.9,82.6,84.7,87.2,89.1,91.5,93.4,94.4,95.0,97.5,98.1,97.9,98.8,99.8,100.8,102.1,103.3,104.1,105.1,105.7,107.0,107.7,108.5,109.9,108.7,109.5,110.2,111.4,112.7,113.8,115.0,116.0,117.2,118.5,119.9,121.2,123.1,124.5,125.4,127.5,128.9,130.5,133.4,134.7,135.1,136.2,137.2,138.3,139.4,140.5,141.7,142.8,143.8,144.5,145.6,146.3,147.2,148.4,149.4,150.5,151.8,152.6,153.5,154.7,156.1,157.0,158.2,159.4,159.9,160.4,161.5,162.0,162.2,163.2,163.9,164.7,165.9,166.7,168.1,169.3,170.9,172.7,173.9,175.6,176.4,177.4,177.6,177.7,179.3,180.0,181.2,182.6,183.2,183.7,184.9,186.3,187.4,189.1,190.8,191.8,193.8,194.7,199.2,199.4,200.7,202.7,201.9,203.574,205.92,207.338,209.133,212.495,213.997,218.61,216.889,212.174,212.671,214.469,216.385,null,null,null,null,null,null,null,null,null,null,null,null],\"type\":\"scattergl\",\"xaxis\":\"x\",\"yaxis\":\"y\"},{\"line\":{\"color\":\"rgb(255, 127, 14)\",\"width\":2},\"marker\":{\"color\":\"rgb(255, 127, 14)\",\"size\":5},\"mode\":\"lines+markers\",\"name\":\"Random Walk with drift\",\"x\":[\"1959-01-01T00:00:00\",\"1959-04-01T00:00:00\",\"1959-07-01T00:00:00\",\"1959-10-01T00:00:00\",\"1960-01-01T00:00:00\",\"1960-04-01T00:00:00\",\"1960-07-01T00:00:00\",\"1960-10-01T00:00:00\",\"1961-01-01T00:00:00\",\"1961-04-01T00:00:00\",\"1961-07-01T00:00:00\",\"1961-10-01T00:00:00\",\"1962-01-01T00:00:00\",\"1962-04-01T00:00:00\",\"1962-07-01T00:00:00\",\"1962-10-01T00:00:00\",\"1963-01-01T00:00:00\",\"1963-04-01T00:00:00\",\"1963-07-01T00:00:00\",\"1963-10-01T00:00:00\",\"1964-01-01T00:00:00\",\"1964-04-01T00:00:00\",\"1964-07-01T00:00:00\",\"1964-10-01T00:00:00\",\"1965-01-01T00:00:00\",\"1965-04-01T00:00:00\",\"1965-07-01T00:00:00\",\"1965-10-01T00:00:00\",\"1966-01-01T00:00:00\",\"1966-04-01T00:00:00\",\"1966-07-01T00:00:00\",\"1966-10-01T00:00:00\",\"1967-01-01T00:00:00\",\"1967-04-01T00:00:00\",\"1967-07-01T00:00:00\",\"1967-10-01T00:00:00\",\"1968-01-01T00:00:00\",\"1968-04-01T00:00:00\",\"1968-07-01T00:00:00\",\"1968-10-01T00:00:00\",\"1969-01-01T00:00:00\",\"1969-04-01T00:00:00\",\"1969-07-01T00:00:00\",\"1969-10-01T00:00:00\",\"1970-01-01T00:00:00\",\"1970-04-01T00:00:00\",\"1970-07-01T00:00:00\",\"1970-10-01T00:00:00\",\"1971-01-01T00:00:00\",\"1971-04-01T00:00:00\",\"1971-07-01T00:00:00\",\"1971-10-01T00:00:00\",\"1972-01-01T00:00:00\",\"1972-04-01T00:00:00\",\"1972-07-01T00:00:00\",\"1972-10-01T00:00:00\",\"1973-01-01T00:00:00\",\"1973-04-01T00:00:00\",\"1973-07-01T00:00:00\",\"1973-10-01T00:00:00\",\"1974-01-01T00:00:00\",\"1974-04-01T00:00:00\",\"1974-07-01T00:00:00\",\"1974-10-01T00:00:00\",\"1975-01-01T00:00:00\",\"1975-04-01T00:00:00\",\"1975-07-01T00:00:00\",\"1975-10-01T00:00:00\",\"1976-01-01T00:00:00\",\"1976-04-01T00:00:00\",\"1976-07-01T00:00:00\",\"1976-10-01T00:00:00\",\"1977-01-01T00:00:00\",\"1977-04-01T00:00:00\",\"1977-07-01T00:00:00\",\"1977-10-01T00:00:00\",\"1978-01-01T00:00:00\",\"1978-04-01T00:00:00\",\"1978-07-01T00:00:00\",\"1978-10-01T00:00:00\",\"1979-01-01T00:00:00\",\"1979-04-01T00:00:00\",\"1979-07-01T00:00:00\",\"1979-10-01T00:00:00\",\"1980-01-01T00:00:00\",\"1980-04-01T00:00:00\",\"1980-07-01T00:00:00\",\"1980-10-01T00:00:00\",\"1981-01-01T00:00:00\",\"1981-04-01T00:00:00\",\"1981-07-01T00:00:00\",\"1981-10-01T00:00:00\",\"1982-01-01T00:00:00\",\"1982-04-01T00:00:00\",\"1982-07-01T00:00:00\",\"1982-10-01T00:00:00\",\"1983-01-01T00:00:00\",\"1983-04-01T00:00:00\",\"1983-07-01T00:00:00\",\"1983-10-01T00:00:00\",\"1984-01-01T00:00:00\",\"1984-04-01T00:00:00\",\"1984-07-01T00:00:00\",\"1984-10-01T00:00:00\",\"1985-01-01T00:00:00\",\"1985-04-01T00:00:00\",\"1985-07-01T00:00:00\",\"1985-10-01T00:00:00\",\"1986-01-01T00:00:00\",\"1986-04-01T00:00:00\",\"1986-07-01T00:00:00\",\"1986-10-01T00:00:00\",\"1987-01-01T00:00:00\",\"1987-04-01T00:00:00\",\"1987-07-01T00:00:00\",\"1987-10-01T00:00:00\",\"1988-01-01T00:00:00\",\"1988-04-01T00:00:00\",\"1988-07-01T00:00:00\",\"1988-10-01T00:00:00\",\"1989-01-01T00:00:00\",\"1989-04-01T00:00:00\",\"1989-07-01T00:00:00\",\"1989-10-01T00:00:00\",\"1990-01-01T00:00:00\",\"1990-04-01T00:00:00\",\"1990-07-01T00:00:00\",\"1990-10-01T00:00:00\",\"1991-01-01T00:00:00\",\"1991-04-01T00:00:00\",\"1991-07-01T00:00:00\",\"1991-10-01T00:00:00\",\"1992-01-01T00:00:00\",\"1992-04-01T00:00:00\",\"1992-07-01T00:00:00\",\"1992-10-01T00:00:00\",\"1993-01-01T00:00:00\",\"1993-04-01T00:00:00\",\"1993-07-01T00:00:00\",\"1993-10-01T00:00:00\",\"1994-01-01T00:00:00\",\"1994-04-01T00:00:00\",\"1994-07-01T00:00:00\",\"1994-10-01T00:00:00\",\"1995-01-01T00:00:00\",\"1995-04-01T00:00:00\",\"1995-07-01T00:00:00\",\"1995-10-01T00:00:00\",\"1996-01-01T00:00:00\",\"1996-04-01T00:00:00\",\"1996-07-01T00:00:00\",\"1996-10-01T00:00:00\",\"1997-01-01T00:00:00\",\"1997-04-01T00:00:00\",\"1997-07-01T00:00:00\",\"1997-10-01T00:00:00\",\"1998-01-01T00:00:00\",\"1998-04-01T00:00:00\",\"1998-07-01T00:00:00\",\"1998-10-01T00:00:00\",\"1999-01-01T00:00:00\",\"1999-04-01T00:00:00\",\"1999-07-01T00:00:00\",\"1999-10-01T00:00:00\",\"2000-01-01T00:00:00\",\"2000-04-01T00:00:00\",\"2000-07-01T00:00:00\",\"2000-10-01T00:00:00\",\"2001-01-01T00:00:00\",\"2001-04-01T00:00:00\",\"2001-07-01T00:00:00\",\"2001-10-01T00:00:00\",\"2002-01-01T00:00:00\",\"2002-04-01T00:00:00\",\"2002-07-01T00:00:00\",\"2002-10-01T00:00:00\",\"2003-01-01T00:00:00\",\"2003-04-01T00:00:00\",\"2003-07-01T00:00:00\",\"2003-10-01T00:00:00\",\"2004-01-01T00:00:00\",\"2004-04-01T00:00:00\",\"2004-07-01T00:00:00\",\"2004-10-01T00:00:00\",\"2005-01-01T00:00:00\",\"2005-04-01T00:00:00\",\"2005-07-01T00:00:00\",\"2005-10-01T00:00:00\",\"2006-01-01T00:00:00\",\"2006-04-01T00:00:00\",\"2006-07-01T00:00:00\",\"2006-10-01T00:00:00\",\"2007-01-01T00:00:00\",\"2007-04-01T00:00:00\",\"2007-07-01T00:00:00\",\"2007-10-01T00:00:00\",\"2008-01-01T00:00:00\",\"2008-04-01T00:00:00\",\"2008-07-01T00:00:00\",\"2008-10-01T00:00:00\",\"2009-01-01T00:00:00\",\"2009-04-01T00:00:00\",\"2009-07-01T00:00:00\",\"2009-10-01T00:00:00\",\"2010-01-01T00:00:00\",\"2010-04-01T00:00:00\",\"2010-07-01T00:00:00\",\"2010-10-01T00:00:00\",\"2011-01-01T00:00:00\",\"2011-04-01T00:00:00\",\"2011-07-01T00:00:00\",\"2011-10-01T00:00:00\",\"2012-01-01T00:00:00\",\"2012-04-01T00:00:00\",\"2012-07-01T00:00:00\"],\"y\":[null,null,null,null,null,null,null,null,null,null,null,null,null,null,null,null,null,null,null,null,null,null,null,null,null,null,null,null,null,null,null,null,null,null,null,null,null,null,null,null,null,null,null,null,null,null,null,null,null,null,null,null,null,null,null,null,null,null,null,null,null,null,null,null,null,null,null,null,null,null,null,null,null,null,null,null,null,null,null,null,null,null,null,null,null,null,null,null,null,null,null,null,null,null,null,null,null,null,null,null,null,null,null,null,null,null,null,null,null,null,null,null,null,null,null,null,null,null,null,null,null,null,null,null,null,null,null,null,null,null,null,null,null,null,null,null,null,null,null,null,null,null,null,null,null,null,null,null,null,null,null,null,null,null,null,null,null,null,null,null,null,null,null,null,null,null,null,null,null,null,null,null,null,null,null,null,null,null,null,185.776,186.6519,187.5279,188.4038,189.2798,190.1557,191.0317,191.9076,192.7836,193.6596,194.5355,195.4115,196.2874,197.1634,198.0393,198.9153,199.7912,200.6672,201.5431,202.4191,203.2951,204.171,205.047,205.9229,206.7989,207.6748,208.5508,209.4267,210.3027,211.1787,212.0546,212.9306,213.8065,214.6825,215.5584,216.4344],\"type\":\"scattergl\",\"xaxis\":\"x\",\"yaxis\":\"y\"},{\"line\":{\"color\":\"rgb(44, 160, 44)\",\"width\":2},\"marker\":{\"color\":\"rgb(44, 160, 44)\",\"size\":5},\"mode\":\"lines+markers\",\"name\":\"ARIMA(1,1,1)\",\"x\":[\"1959-01-01T00:00:00\",\"1959-04-01T00:00:00\",\"1959-07-01T00:00:00\",\"1959-10-01T00:00:00\",\"1960-01-01T00:00:00\",\"1960-04-01T00:00:00\",\"1960-07-01T00:00:00\",\"1960-10-01T00:00:00\",\"1961-01-01T00:00:00\",\"1961-04-01T00:00:00\",\"1961-07-01T00:00:00\",\"1961-10-01T00:00:00\",\"1962-01-01T00:00:00\",\"1962-04-01T00:00:00\",\"1962-07-01T00:00:00\",\"1962-10-01T00:00:00\",\"1963-01-01T00:00:00\",\"1963-04-01T00:00:00\",\"1963-07-01T00:00:00\",\"1963-10-01T00:00:00\",\"1964-01-01T00:00:00\",\"1964-04-01T00:00:00\",\"1964-07-01T00:00:00\",\"1964-10-01T00:00:00\",\"1965-01-01T00:00:00\",\"1965-04-01T00:00:00\",\"1965-07-01T00:00:00\",\"1965-10-01T00:00:00\",\"1966-01-01T00:00:00\",\"1966-04-01T00:00:00\",\"1966-07-01T00:00:00\",\"1966-10-01T00:00:00\",\"1967-01-01T00:00:00\",\"1967-04-01T00:00:00\",\"1967-07-01T00:00:00\",\"1967-10-01T00:00:00\",\"1968-01-01T00:00:00\",\"1968-04-01T00:00:00\",\"1968-07-01T00:00:00\",\"1968-10-01T00:00:00\",\"1969-01-01T00:00:00\",\"1969-04-01T00:00:00\",\"1969-07-01T00:00:00\",\"1969-10-01T00:00:00\",\"1970-01-01T00:00:00\",\"1970-04-01T00:00:00\",\"1970-07-01T00:00:00\",\"1970-10-01T00:00:00\",\"1971-01-01T00:00:00\",\"1971-04-01T00:00:00\",\"1971-07-01T00:00:00\",\"1971-10-01T00:00:00\",\"1972-01-01T00:00:00\",\"1972-04-01T00:00:00\",\"1972-07-01T00:00:00\",\"1972-10-01T00:00:00\",\"1973-01-01T00:00:00\",\"1973-04-01T00:00:00\",\"1973-07-01T00:00:00\",\"1973-10-01T00:00:00\",\"1974-01-01T00:00:00\",\"1974-04-01T00:00:00\",\"1974-07-01T00:00:00\",\"1974-10-01T00:00:00\",\"1975-01-01T00:00:00\",\"1975-04-01T00:00:00\",\"1975-07-01T00:00:00\",\"1975-10-01T00:00:00\",\"1976-01-01T00:00:00\",\"1976-04-01T00:00:00\",\"1976-07-01T00:00:00\",\"1976-10-01T00:00:00\",\"1977-01-01T00:00:00\",\"1977-04-01T00:00:00\",\"1977-07-01T00:00:00\",\"1977-10-01T00:00:00\",\"1978-01-01T00:00:00\",\"1978-04-01T00:00:00\",\"1978-07-01T00:00:00\",\"1978-10-01T00:00:00\",\"1979-01-01T00:00:00\",\"1979-04-01T00:00:00\",\"1979-07-01T00:00:00\",\"1979-10-01T00:00:00\",\"1980-01-01T00:00:00\",\"1980-04-01T00:00:00\",\"1980-07-01T00:00:00\",\"1980-10-01T00:00:00\",\"1981-01-01T00:00:00\",\"1981-04-01T00:00:00\",\"1981-07-01T00:00:00\",\"1981-10-01T00:00:00\",\"1982-01-01T00:00:00\",\"1982-04-01T00:00:00\",\"1982-07-01T00:00:00\",\"1982-10-01T00:00:00\",\"1983-01-01T00:00:00\",\"1983-04-01T00:00:00\",\"1983-07-01T00:00:00\",\"1983-10-01T00:00:00\",\"1984-01-01T00:00:00\",\"1984-04-01T00:00:00\",\"1984-07-01T00:00:00\",\"1984-10-01T00:00:00\",\"1985-01-01T00:00:00\",\"1985-04-01T00:00:00\",\"1985-07-01T00:00:00\",\"1985-10-01T00:00:00\",\"1986-01-01T00:00:00\",\"1986-04-01T00:00:00\",\"1986-07-01T00:00:00\",\"1986-10-01T00:00:00\",\"1987-01-01T00:00:00\",\"1987-04-01T00:00:00\",\"1987-07-01T00:00:00\",\"1987-10-01T00:00:00\",\"1988-01-01T00:00:00\",\"1988-04-01T00:00:00\",\"1988-07-01T00:00:00\",\"1988-10-01T00:00:00\",\"1989-01-01T00:00:00\",\"1989-04-01T00:00:00\",\"1989-07-01T00:00:00\",\"1989-10-01T00:00:00\",\"1990-01-01T00:00:00\",\"1990-04-01T00:00:00\",\"1990-07-01T00:00:00\",\"1990-10-01T00:00:00\",\"1991-01-01T00:00:00\",\"1991-04-01T00:00:00\",\"1991-07-01T00:00:00\",\"1991-10-01T00:00:00\",\"1992-01-01T00:00:00\",\"1992-04-01T00:00:00\",\"1992-07-01T00:00:00\",\"1992-10-01T00:00:00\",\"1993-01-01T00:00:00\",\"1993-04-01T00:00:00\",\"1993-07-01T00:00:00\",\"1993-10-01T00:00:00\",\"1994-01-01T00:00:00\",\"1994-04-01T00:00:00\",\"1994-07-01T00:00:00\",\"1994-10-01T00:00:00\",\"1995-01-01T00:00:00\",\"1995-04-01T00:00:00\",\"1995-07-01T00:00:00\",\"1995-10-01T00:00:00\",\"1996-01-01T00:00:00\",\"1996-04-01T00:00:00\",\"1996-07-01T00:00:00\",\"1996-10-01T00:00:00\",\"1997-01-01T00:00:00\",\"1997-04-01T00:00:00\",\"1997-07-01T00:00:00\",\"1997-10-01T00:00:00\",\"1998-01-01T00:00:00\",\"1998-04-01T00:00:00\",\"1998-07-01T00:00:00\",\"1998-10-01T00:00:00\",\"1999-01-01T00:00:00\",\"1999-04-01T00:00:00\",\"1999-07-01T00:00:00\",\"1999-10-01T00:00:00\",\"2000-01-01T00:00:00\",\"2000-04-01T00:00:00\",\"2000-07-01T00:00:00\",\"2000-10-01T00:00:00\",\"2001-01-01T00:00:00\",\"2001-04-01T00:00:00\",\"2001-07-01T00:00:00\",\"2001-10-01T00:00:00\",\"2002-01-01T00:00:00\",\"2002-04-01T00:00:00\",\"2002-07-01T00:00:00\",\"2002-10-01T00:00:00\",\"2003-01-01T00:00:00\",\"2003-04-01T00:00:00\",\"2003-07-01T00:00:00\",\"2003-10-01T00:00:00\",\"2004-01-01T00:00:00\",\"2004-04-01T00:00:00\",\"2004-07-01T00:00:00\",\"2004-10-01T00:00:00\",\"2005-01-01T00:00:00\",\"2005-04-01T00:00:00\",\"2005-07-01T00:00:00\",\"2005-10-01T00:00:00\",\"2006-01-01T00:00:00\",\"2006-04-01T00:00:00\",\"2006-07-01T00:00:00\",\"2006-10-01T00:00:00\",\"2007-01-01T00:00:00\",\"2007-04-01T00:00:00\",\"2007-07-01T00:00:00\",\"2007-10-01T00:00:00\",\"2008-01-01T00:00:00\",\"2008-04-01T00:00:00\",\"2008-07-01T00:00:00\",\"2008-10-01T00:00:00\",\"2009-01-01T00:00:00\",\"2009-04-01T00:00:00\",\"2009-07-01T00:00:00\",\"2009-10-01T00:00:00\",\"2010-01-01T00:00:00\",\"2010-04-01T00:00:00\",\"2010-07-01T00:00:00\",\"2010-10-01T00:00:00\",\"2011-01-01T00:00:00\",\"2011-04-01T00:00:00\",\"2011-07-01T00:00:00\",\"2011-10-01T00:00:00\",\"2012-01-01T00:00:00\",\"2012-04-01T00:00:00\",\"2012-07-01T00:00:00\"],\"y\":[null,null,null,null,null,null,null,null,null,null,null,null,null,null,null,null,null,null,null,null,null,null,null,null,null,null,null,null,null,null,null,null,null,null,null,null,null,null,null,null,null,null,null,null,null,null,null,null,null,null,null,null,null,null,null,null,null,null,null,null,null,null,null,null,null,null,null,null,null,null,null,null,null,null,null,null,null,null,null,null,null,null,null,null,null,null,null,null,null,null,null,null,null,null,null,null,null,null,null,null,null,null,null,null,null,null,null,null,null,null,null,null,null,null,null,null,null,null,null,null,null,null,null,null,null,null,null,null,null,null,null,null,null,null,null,null,null,null,null,null,null,null,null,null,null,null,null,null,null,null,null,null,null,null,null,null,null,null,null,null,null,null,null,null,null,null,null,null,null,null,null,null,null,null,null,null,null,null,null,185.821,186.7368,187.6476,188.5537,189.4554,190.3528,191.2464,192.1362,193.0224,193.9054,194.7851,195.6619,196.5358,197.4071,198.2759,199.1423,200.0064,200.8684,201.7284,202.5865,203.4428,204.2974,205.1504,206.0019,206.8519,207.7006,208.548,209.3942,210.2393,211.0832,211.9262,212.7682,213.6092,214.4494,215.2888,216.1274],\"type\":\"scattergl\",\"xaxis\":\"x\",\"yaxis\":\"y\"},{\"line\":{\"color\":\"rgb(214, 39, 40)\",\"width\":2},\"marker\":{\"color\":\"rgb(214, 39, 40)\",\"size\":5},\"mode\":\"lines+markers\",\"name\":\"SARIMA(1,1,1)(0,1,0,4)\",\"x\":[\"1959-01-01T00:00:00\",\"1959-04-01T00:00:00\",\"1959-07-01T00:00:00\",\"1959-10-01T00:00:00\",\"1960-01-01T00:00:00\",\"1960-04-01T00:00:00\",\"1960-07-01T00:00:00\",\"1960-10-01T00:00:00\",\"1961-01-01T00:00:00\",\"1961-04-01T00:00:00\",\"1961-07-01T00:00:00\",\"1961-10-01T00:00:00\",\"1962-01-01T00:00:00\",\"1962-04-01T00:00:00\",\"1962-07-01T00:00:00\",\"1962-10-01T00:00:00\",\"1963-01-01T00:00:00\",\"1963-04-01T00:00:00\",\"1963-07-01T00:00:00\",\"1963-10-01T00:00:00\",\"1964-01-01T00:00:00\",\"1964-04-01T00:00:00\",\"1964-07-01T00:00:00\",\"1964-10-01T00:00:00\",\"1965-01-01T00:00:00\",\"1965-04-01T00:00:00\",\"1965-07-01T00:00:00\",\"1965-10-01T00:00:00\",\"1966-01-01T00:00:00\",\"1966-04-01T00:00:00\",\"1966-07-01T00:00:00\",\"1966-10-01T00:00:00\",\"1967-01-01T00:00:00\",\"1967-04-01T00:00:00\",\"1967-07-01T00:00:00\",\"1967-10-01T00:00:00\",\"1968-01-01T00:00:00\",\"1968-04-01T00:00:00\",\"1968-07-01T00:00:00\",\"1968-10-01T00:00:00\",\"1969-01-01T00:00:00\",\"1969-04-01T00:00:00\",\"1969-07-01T00:00:00\",\"1969-10-01T00:00:00\",\"1970-01-01T00:00:00\",\"1970-04-01T00:00:00\",\"1970-07-01T00:00:00\",\"1970-10-01T00:00:00\",\"1971-01-01T00:00:00\",\"1971-04-01T00:00:00\",\"1971-07-01T00:00:00\",\"1971-10-01T00:00:00\",\"1972-01-01T00:00:00\",\"1972-04-01T00:00:00\",\"1972-07-01T00:00:00\",\"1972-10-01T00:00:00\",\"1973-01-01T00:00:00\",\"1973-04-01T00:00:00\",\"1973-07-01T00:00:00\",\"1973-10-01T00:00:00\",\"1974-01-01T00:00:00\",\"1974-04-01T00:00:00\",\"1974-07-01T00:00:00\",\"1974-10-01T00:00:00\",\"1975-01-01T00:00:00\",\"1975-04-01T00:00:00\",\"1975-07-01T00:00:00\",\"1975-10-01T00:00:00\",\"1976-01-01T00:00:00\",\"1976-04-01T00:00:00\",\"1976-07-01T00:00:00\",\"1976-10-01T00:00:00\",\"1977-01-01T00:00:00\",\"1977-04-01T00:00:00\",\"1977-07-01T00:00:00\",\"1977-10-01T00:00:00\",\"1978-01-01T00:00:00\",\"1978-04-01T00:00:00\",\"1978-07-01T00:00:00\",\"1978-10-01T00:00:00\",\"1979-01-01T00:00:00\",\"1979-04-01T00:00:00\",\"1979-07-01T00:00:00\",\"1979-10-01T00:00:00\",\"1980-01-01T00:00:00\",\"1980-04-01T00:00:00\",\"1980-07-01T00:00:00\",\"1980-10-01T00:00:00\",\"1981-01-01T00:00:00\",\"1981-04-01T00:00:00\",\"1981-07-01T00:00:00\",\"1981-10-01T00:00:00\",\"1982-01-01T00:00:00\",\"1982-04-01T00:00:00\",\"1982-07-01T00:00:00\",\"1982-10-01T00:00:00\",\"1983-01-01T00:00:00\",\"1983-04-01T00:00:00\",\"1983-07-01T00:00:00\",\"1983-10-01T00:00:00\",\"1984-01-01T00:00:00\",\"1984-04-01T00:00:00\",\"1984-07-01T00:00:00\",\"1984-10-01T00:00:00\",\"1985-01-01T00:00:00\",\"1985-04-01T00:00:00\",\"1985-07-01T00:00:00\",\"1985-10-01T00:00:00\",\"1986-01-01T00:00:00\",\"1986-04-01T00:00:00\",\"1986-07-01T00:00:00\",\"1986-10-01T00:00:00\",\"1987-01-01T00:00:00\",\"1987-04-01T00:00:00\",\"1987-07-01T00:00:00\",\"1987-10-01T00:00:00\",\"1988-01-01T00:00:00\",\"1988-04-01T00:00:00\",\"1988-07-01T00:00:00\",\"1988-10-01T00:00:00\",\"1989-01-01T00:00:00\",\"1989-04-01T00:00:00\",\"1989-07-01T00:00:00\",\"1989-10-01T00:00:00\",\"1990-01-01T00:00:00\",\"1990-04-01T00:00:00\",\"1990-07-01T00:00:00\",\"1990-10-01T00:00:00\",\"1991-01-01T00:00:00\",\"1991-04-01T00:00:00\",\"1991-07-01T00:00:00\",\"1991-10-01T00:00:00\",\"1992-01-01T00:00:00\",\"1992-04-01T00:00:00\",\"1992-07-01T00:00:00\",\"1992-10-01T00:00:00\",\"1993-01-01T00:00:00\",\"1993-04-01T00:00:00\",\"1993-07-01T00:00:00\",\"1993-10-01T00:00:00\",\"1994-01-01T00:00:00\",\"1994-04-01T00:00:00\",\"1994-07-01T00:00:00\",\"1994-10-01T00:00:00\",\"1995-01-01T00:00:00\",\"1995-04-01T00:00:00\",\"1995-07-01T00:00:00\",\"1995-10-01T00:00:00\",\"1996-01-01T00:00:00\",\"1996-04-01T00:00:00\",\"1996-07-01T00:00:00\",\"1996-10-01T00:00:00\",\"1997-01-01T00:00:00\",\"1997-04-01T00:00:00\",\"1997-07-01T00:00:00\",\"1997-10-01T00:00:00\",\"1998-01-01T00:00:00\",\"1998-04-01T00:00:00\",\"1998-07-01T00:00:00\",\"1998-10-01T00:00:00\",\"1999-01-01T00:00:00\",\"1999-04-01T00:00:00\",\"1999-07-01T00:00:00\",\"1999-10-01T00:00:00\",\"2000-01-01T00:00:00\",\"2000-04-01T00:00:00\",\"2000-07-01T00:00:00\",\"2000-10-01T00:00:00\",\"2001-01-01T00:00:00\",\"2001-04-01T00:00:00\",\"2001-07-01T00:00:00\",\"2001-10-01T00:00:00\",\"2002-01-01T00:00:00\",\"2002-04-01T00:00:00\",\"2002-07-01T00:00:00\",\"2002-10-01T00:00:00\",\"2003-01-01T00:00:00\",\"2003-04-01T00:00:00\",\"2003-07-01T00:00:00\",\"2003-10-01T00:00:00\",\"2004-01-01T00:00:00\",\"2004-04-01T00:00:00\",\"2004-07-01T00:00:00\",\"2004-10-01T00:00:00\",\"2005-01-01T00:00:00\",\"2005-04-01T00:00:00\",\"2005-07-01T00:00:00\",\"2005-10-01T00:00:00\",\"2006-01-01T00:00:00\",\"2006-04-01T00:00:00\",\"2006-07-01T00:00:00\",\"2006-10-01T00:00:00\",\"2007-01-01T00:00:00\",\"2007-04-01T00:00:00\",\"2007-07-01T00:00:00\",\"2007-10-01T00:00:00\",\"2008-01-01T00:00:00\",\"2008-04-01T00:00:00\",\"2008-07-01T00:00:00\",\"2008-10-01T00:00:00\",\"2009-01-01T00:00:00\",\"2009-04-01T00:00:00\",\"2009-07-01T00:00:00\",\"2009-10-01T00:00:00\",\"2010-01-01T00:00:00\",\"2010-04-01T00:00:00\",\"2010-07-01T00:00:00\",\"2010-10-01T00:00:00\",\"2011-01-01T00:00:00\",\"2011-04-01T00:00:00\",\"2011-07-01T00:00:00\",\"2011-10-01T00:00:00\",\"2012-01-01T00:00:00\",\"2012-04-01T00:00:00\",\"2012-07-01T00:00:00\"],\"y\":[null,null,null,null,null,null,null,null,null,null,null,null,null,null,null,null,null,null,null,null,null,null,null,null,null,null,null,null,null,null,null,null,null,null,null,null,null,null,null,null,null,null,null,null,null,null,null,null,null,null,null,null,null,null,null,null,null,null,null,null,null,null,null,null,null,null,null,null,null,null,null,null,null,null,null,null,null,null,null,null,null,null,null,null,null,null,null,null,null,null,null,null,null,null,null,null,null,null,null,null,null,null,null,null,null,null,null,null,null,null,null,null,null,null,null,null,null,null,null,null,null,null,null,null,null,null,null,null,null,null,null,null,null,null,null,null,null,null,null,null,null,null,null,null,null,null,null,null,null,null,null,null,null,null,null,null,null,null,null,null,null,null,null,null,null,null,null,null,null,null,null,null,null,null,null,null,null,null,null,186.2946,186.8994,187.4098,188.6234,190.0333,190.6543,191.1815,192.412,193.8391,194.4774,195.022,196.2699,197.7144,198.3701,198.932,200.1974,201.6593,202.3324,202.9117,204.1945,205.6738,206.3643,206.961,208.2612,209.7579,210.4658,211.0799,212.3975,213.9116,214.637,215.2685,216.6035,218.135,218.8777,219.5267,220.8791],\"type\":\"scattergl\",\"xaxis\":\"x\",\"yaxis\":\"y\"}],                        {\"template\":{\"data\":{\"barpolar\":[{\"marker\":{\"line\":{\"color\":\"rgb(237,237,237)\",\"width\":0.5},\"pattern\":{\"fillmode\":\"overlay\",\"size\":10,\"solidity\":0.2}},\"type\":\"barpolar\"}],\"bar\":[{\"error_x\":{\"color\":\"rgb(51,51,51)\"},\"error_y\":{\"color\":\"rgb(51,51,51)\"},\"marker\":{\"line\":{\"color\":\"rgb(237,237,237)\",\"width\":0.5},\"pattern\":{\"fillmode\":\"overlay\",\"size\":10,\"solidity\":0.2}},\"type\":\"bar\"}],\"carpet\":[{\"aaxis\":{\"endlinecolor\":\"rgb(51,51,51)\",\"gridcolor\":\"white\",\"linecolor\":\"white\",\"minorgridcolor\":\"white\",\"startlinecolor\":\"rgb(51,51,51)\"},\"baxis\":{\"endlinecolor\":\"rgb(51,51,51)\",\"gridcolor\":\"white\",\"linecolor\":\"white\",\"minorgridcolor\":\"white\",\"startlinecolor\":\"rgb(51,51,51)\"},\"type\":\"carpet\"}],\"choropleth\":[{\"colorbar\":{\"outlinewidth\":0,\"tickcolor\":\"rgb(237,237,237)\",\"ticklen\":6,\"ticks\":\"inside\"},\"type\":\"choropleth\"}],\"contourcarpet\":[{\"colorbar\":{\"outlinewidth\":0,\"tickcolor\":\"rgb(237,237,237)\",\"ticklen\":6,\"ticks\":\"inside\"},\"type\":\"contourcarpet\"}],\"contour\":[{\"colorbar\":{\"outlinewidth\":0,\"tickcolor\":\"rgb(237,237,237)\",\"ticklen\":6,\"ticks\":\"inside\"},\"colorscale\":[[0,\"rgb(20,44,66)\"],[1,\"rgb(90,179,244)\"]],\"type\":\"contour\"}],\"heatmapgl\":[{\"colorbar\":{\"outlinewidth\":0,\"tickcolor\":\"rgb(237,237,237)\",\"ticklen\":6,\"ticks\":\"inside\"},\"colorscale\":[[0,\"rgb(20,44,66)\"],[1,\"rgb(90,179,244)\"]],\"type\":\"heatmapgl\"}],\"heatmap\":[{\"colorbar\":{\"outlinewidth\":0,\"tickcolor\":\"rgb(237,237,237)\",\"ticklen\":6,\"ticks\":\"inside\"},\"colorscale\":[[0,\"rgb(20,44,66)\"],[1,\"rgb(90,179,244)\"]],\"type\":\"heatmap\"}],\"histogram2dcontour\":[{\"colorbar\":{\"outlinewidth\":0,\"tickcolor\":\"rgb(237,237,237)\",\"ticklen\":6,\"ticks\":\"inside\"},\"colorscale\":[[0,\"rgb(20,44,66)\"],[1,\"rgb(90,179,244)\"]],\"type\":\"histogram2dcontour\"}],\"histogram2d\":[{\"colorbar\":{\"outlinewidth\":0,\"tickcolor\":\"rgb(237,237,237)\",\"ticklen\":6,\"ticks\":\"inside\"},\"colorscale\":[[0,\"rgb(20,44,66)\"],[1,\"rgb(90,179,244)\"]],\"type\":\"histogram2d\"}],\"histogram\":[{\"marker\":{\"pattern\":{\"fillmode\":\"overlay\",\"size\":10,\"solidity\":0.2}},\"type\":\"histogram\"}],\"mesh3d\":[{\"colorbar\":{\"outlinewidth\":0,\"tickcolor\":\"rgb(237,237,237)\",\"ticklen\":6,\"ticks\":\"inside\"},\"type\":\"mesh3d\"}],\"parcoords\":[{\"line\":{\"colorbar\":{\"outlinewidth\":0,\"tickcolor\":\"rgb(237,237,237)\",\"ticklen\":6,\"ticks\":\"inside\"}},\"type\":\"parcoords\"}],\"pie\":[{\"automargin\":true,\"type\":\"pie\"}],\"scatter3d\":[{\"line\":{\"colorbar\":{\"outlinewidth\":0,\"tickcolor\":\"rgb(237,237,237)\",\"ticklen\":6,\"ticks\":\"inside\"}},\"marker\":{\"colorbar\":{\"outlinewidth\":0,\"tickcolor\":\"rgb(237,237,237)\",\"ticklen\":6,\"ticks\":\"inside\"}},\"type\":\"scatter3d\"}],\"scattercarpet\":[{\"marker\":{\"colorbar\":{\"outlinewidth\":0,\"tickcolor\":\"rgb(237,237,237)\",\"ticklen\":6,\"ticks\":\"inside\"}},\"type\":\"scattercarpet\"}],\"scattergeo\":[{\"marker\":{\"colorbar\":{\"outlinewidth\":0,\"tickcolor\":\"rgb(237,237,237)\",\"ticklen\":6,\"ticks\":\"inside\"}},\"type\":\"scattergeo\"}],\"scattergl\":[{\"marker\":{\"colorbar\":{\"outlinewidth\":0,\"tickcolor\":\"rgb(237,237,237)\",\"ticklen\":6,\"ticks\":\"inside\"}},\"type\":\"scattergl\"}],\"scattermapbox\":[{\"marker\":{\"colorbar\":{\"outlinewidth\":0,\"tickcolor\":\"rgb(237,237,237)\",\"ticklen\":6,\"ticks\":\"inside\"}},\"type\":\"scattermapbox\"}],\"scatterpolargl\":[{\"marker\":{\"colorbar\":{\"outlinewidth\":0,\"tickcolor\":\"rgb(237,237,237)\",\"ticklen\":6,\"ticks\":\"inside\"}},\"type\":\"scatterpolargl\"}],\"scatterpolar\":[{\"marker\":{\"colorbar\":{\"outlinewidth\":0,\"tickcolor\":\"rgb(237,237,237)\",\"ticklen\":6,\"ticks\":\"inside\"}},\"type\":\"scatterpolar\"}],\"scatter\":[{\"fillpattern\":{\"fillmode\":\"overlay\",\"size\":10,\"solidity\":0.2},\"type\":\"scatter\"}],\"scatterternary\":[{\"marker\":{\"colorbar\":{\"outlinewidth\":0,\"tickcolor\":\"rgb(237,237,237)\",\"ticklen\":6,\"ticks\":\"inside\"}},\"type\":\"scatterternary\"}],\"surface\":[{\"colorbar\":{\"outlinewidth\":0,\"tickcolor\":\"rgb(237,237,237)\",\"ticklen\":6,\"ticks\":\"inside\"},\"colorscale\":[[0,\"rgb(20,44,66)\"],[1,\"rgb(90,179,244)\"]],\"type\":\"surface\"}],\"table\":[{\"cells\":{\"fill\":{\"color\":\"rgb(237,237,237)\"},\"line\":{\"color\":\"white\"}},\"header\":{\"fill\":{\"color\":\"rgb(217,217,217)\"},\"line\":{\"color\":\"white\"}},\"type\":\"table\"}]},\"layout\":{\"annotationdefaults\":{\"arrowhead\":0,\"arrowwidth\":1},\"autotypenumbers\":\"strict\",\"coloraxis\":{\"colorbar\":{\"outlinewidth\":0,\"tickcolor\":\"rgb(237,237,237)\",\"ticklen\":6,\"ticks\":\"inside\"}},\"colorscale\":{\"sequential\":[[0,\"rgb(20,44,66)\"],[1,\"rgb(90,179,244)\"]],\"sequentialminus\":[[0,\"rgb(20,44,66)\"],[1,\"rgb(90,179,244)\"]]},\"colorway\":[\"#F8766D\",\"#A3A500\",\"#00BF7D\",\"#00B0F6\",\"#E76BF3\"],\"font\":{\"color\":\"rgb(51,51,51)\"},\"geo\":{\"bgcolor\":\"white\",\"lakecolor\":\"white\",\"landcolor\":\"rgb(237,237,237)\",\"showlakes\":true,\"showland\":true,\"subunitcolor\":\"white\"},\"hoverlabel\":{\"align\":\"left\"},\"hovermode\":\"closest\",\"paper_bgcolor\":\"white\",\"plot_bgcolor\":\"rgb(237,237,237)\",\"polar\":{\"angularaxis\":{\"gridcolor\":\"white\",\"linecolor\":\"white\",\"showgrid\":true,\"tickcolor\":\"rgb(51,51,51)\",\"ticks\":\"outside\"},\"bgcolor\":\"rgb(237,237,237)\",\"radialaxis\":{\"gridcolor\":\"white\",\"linecolor\":\"white\",\"showgrid\":true,\"tickcolor\":\"rgb(51,51,51)\",\"ticks\":\"outside\"}},\"scene\":{\"xaxis\":{\"backgroundcolor\":\"rgb(237,237,237)\",\"gridcolor\":\"white\",\"gridwidth\":2,\"linecolor\":\"white\",\"showbackground\":true,\"showgrid\":true,\"tickcolor\":\"rgb(51,51,51)\",\"ticks\":\"outside\",\"zerolinecolor\":\"white\"},\"yaxis\":{\"backgroundcolor\":\"rgb(237,237,237)\",\"gridcolor\":\"white\",\"gridwidth\":2,\"linecolor\":\"white\",\"showbackground\":true,\"showgrid\":true,\"tickcolor\":\"rgb(51,51,51)\",\"ticks\":\"outside\",\"zerolinecolor\":\"white\"},\"zaxis\":{\"backgroundcolor\":\"rgb(237,237,237)\",\"gridcolor\":\"white\",\"gridwidth\":2,\"linecolor\":\"white\",\"showbackground\":true,\"showgrid\":true,\"tickcolor\":\"rgb(51,51,51)\",\"ticks\":\"outside\",\"zerolinecolor\":\"white\"}},\"shapedefaults\":{\"fillcolor\":\"black\",\"line\":{\"width\":0},\"opacity\":0.3},\"ternary\":{\"aaxis\":{\"gridcolor\":\"white\",\"linecolor\":\"white\",\"showgrid\":true,\"tickcolor\":\"rgb(51,51,51)\",\"ticks\":\"outside\"},\"baxis\":{\"gridcolor\":\"white\",\"linecolor\":\"white\",\"showgrid\":true,\"tickcolor\":\"rgb(51,51,51)\",\"ticks\":\"outside\"},\"bgcolor\":\"rgb(237,237,237)\",\"caxis\":{\"gridcolor\":\"white\",\"linecolor\":\"white\",\"showgrid\":true,\"tickcolor\":\"rgb(51,51,51)\",\"ticks\":\"outside\"}},\"xaxis\":{\"automargin\":true,\"gridcolor\":\"white\",\"linecolor\":\"white\",\"showgrid\":true,\"tickcolor\":\"rgb(51,51,51)\",\"ticks\":\"outside\",\"title\":{\"standoff\":15},\"zerolinecolor\":\"white\"},\"yaxis\":{\"automargin\":true,\"gridcolor\":\"white\",\"linecolor\":\"white\",\"showgrid\":true,\"tickcolor\":\"rgb(51,51,51)\",\"ticks\":\"outside\",\"title\":{\"standoff\":15},\"zerolinecolor\":\"white\"}}},\"xaxis\":{\"anchor\":\"y\",\"domain\":[0.0,1.0]},\"yaxis\":{\"anchor\":\"x\",\"domain\":[0.0,1.0]},\"showlegend\":true,\"title\":{\"text\":\"Actual vs. Forecast (Out-of-Sample)\"}},                        {\"responsive\": true}                    ).then(function(){\n",
              "                            \n",
              "var gd = document.getElementById('9b973e63-f071-4fc2-8c6a-02f811146b54');\n",
              "var x = new MutationObserver(function (mutations, observer) {{\n",
              "        var display = window.getComputedStyle(gd).display;\n",
              "        if (!display || display === 'none') {{\n",
              "            console.log([gd, 'removed!']);\n",
              "            Plotly.purge(gd);\n",
              "            observer.disconnect();\n",
              "        }}\n",
              "}});\n",
              "\n",
              "// Listen for the removal of the full notebook cells\n",
              "var notebookContainer = gd.closest('#notebook-container');\n",
              "if (notebookContainer) {{\n",
              "    x.observe(notebookContainer, {childList: true});\n",
              "}}\n",
              "\n",
              "// Listen for the clearing of the current output cell\n",
              "var outputEl = gd.closest('.output');\n",
              "if (outputEl) {{\n",
              "    x.observe(outputEl, {childList: true});\n",
              "}}\n",
              "\n",
              "                        })                };                            </script>        </div>\n",
              "</body>\n",
              "</html>"
            ]
          },
          "metadata": {}
        }
      ]
    },
    {
      "cell_type": "markdown",
      "source": [
        "### 12"
      ],
      "metadata": {
        "id": "7vojPEFbdV_A"
      }
    },
    {
      "cell_type": "code",
      "source": [
        "exp.plot_model(arima111, plot='diagnostics')"
      ],
      "metadata": {
        "colab": {
          "base_uri": "https://localhost:8080/",
          "height": 542
        },
        "id": "CG4M0O99YhYl",
        "outputId": "355e3397-9274-4006-8205-13b49d76f921"
      },
      "execution_count": null,
      "outputs": [
        {
          "output_type": "display_data",
          "data": {
            "text/html": [
              "<html>\n",
              "<head><meta charset=\"utf-8\" /></head>\n",
              "<body>\n",
              "    <div>            <script src=\"https://cdnjs.cloudflare.com/ajax/libs/mathjax/2.7.5/MathJax.js?config=TeX-AMS-MML_SVG\"></script><script type=\"text/javascript\">if (window.MathJax && window.MathJax.Hub && window.MathJax.Hub.Config) {window.MathJax.Hub.Config({SVG: {font: \"STIX-Web\"}});}</script>                <script type=\"text/javascript\">window.PlotlyConfig = {MathJaxConfig: 'local'};</script>\n",
              "        <script charset=\"utf-8\" src=\"https://cdn.plot.ly/plotly-2.35.2.min.js\"></script>                <div id=\"ed33a35e-a572-4fb0-8d1d-69e43f58f698\" class=\"plotly-graph-div\" style=\"height:525px; width:100%;\"></div>            <script type=\"text/javascript\">                                    window.PLOTLYENV=window.PLOTLYENV || {};                                    if (document.getElementById(\"ed33a35e-a572-4fb0-8d1d-69e43f58f698\")) {                    Plotly.newPlot(                        \"ed33a35e-a572-4fb0-8d1d-69e43f58f698\",                        [{\"line\":{\"color\":\"rgb(31, 119, 180)\",\"width\":2},\"marker\":{\"color\":\"rgb(31, 119, 180)\",\"size\":5},\"mode\":\"lines+markers\",\"name\":\"ARIMA\",\"x\":[\"1959-04-01T00:00:00\",\"1959-07-01T00:00:00\",\"1959-10-01T00:00:00\",\"1960-01-01T00:00:00\",\"1960-04-01T00:00:00\",\"1960-07-01T00:00:00\",\"1960-10-01T00:00:00\",\"1961-01-01T00:00:00\",\"1961-04-01T00:00:00\",\"1961-07-01T00:00:00\",\"1961-10-01T00:00:00\",\"1962-01-01T00:00:00\",\"1962-04-01T00:00:00\",\"1962-07-01T00:00:00\",\"1962-10-01T00:00:00\",\"1963-01-01T00:00:00\",\"1963-04-01T00:00:00\",\"1963-07-01T00:00:00\",\"1963-10-01T00:00:00\",\"1964-01-01T00:00:00\",\"1964-04-01T00:00:00\",\"1964-07-01T00:00:00\",\"1964-10-01T00:00:00\",\"1965-01-01T00:00:00\",\"1965-04-01T00:00:00\",\"1965-07-01T00:00:00\",\"1965-10-01T00:00:00\",\"1966-01-01T00:00:00\",\"1966-04-01T00:00:00\",\"1966-07-01T00:00:00\",\"1966-10-01T00:00:00\",\"1967-01-01T00:00:00\",\"1967-04-01T00:00:00\",\"1967-07-01T00:00:00\",\"1967-10-01T00:00:00\",\"1968-01-01T00:00:00\",\"1968-04-01T00:00:00\",\"1968-07-01T00:00:00\",\"1968-10-01T00:00:00\",\"1969-01-01T00:00:00\",\"1969-04-01T00:00:00\",\"1969-07-01T00:00:00\",\"1969-10-01T00:00:00\",\"1970-01-01T00:00:00\",\"1970-04-01T00:00:00\",\"1970-07-01T00:00:00\",\"1970-10-01T00:00:00\",\"1971-01-01T00:00:00\",\"1971-04-01T00:00:00\",\"1971-07-01T00:00:00\",\"1971-10-01T00:00:00\",\"1972-01-01T00:00:00\",\"1972-04-01T00:00:00\",\"1972-07-01T00:00:00\",\"1972-10-01T00:00:00\",\"1973-01-01T00:00:00\",\"1973-04-01T00:00:00\",\"1973-07-01T00:00:00\",\"1973-10-01T00:00:00\",\"1974-01-01T00:00:00\",\"1974-04-01T00:00:00\",\"1974-07-01T00:00:00\",\"1974-10-01T00:00:00\",\"1975-01-01T00:00:00\",\"1975-04-01T00:00:00\",\"1975-07-01T00:00:00\",\"1975-10-01T00:00:00\",\"1976-01-01T00:00:00\",\"1976-04-01T00:00:00\",\"1976-07-01T00:00:00\",\"1976-10-01T00:00:00\",\"1977-01-01T00:00:00\",\"1977-04-01T00:00:00\",\"1977-07-01T00:00:00\",\"1977-10-01T00:00:00\",\"1978-01-01T00:00:00\",\"1978-04-01T00:00:00\",\"1978-07-01T00:00:00\",\"1978-10-01T00:00:00\",\"1979-01-01T00:00:00\",\"1979-04-01T00:00:00\",\"1979-07-01T00:00:00\",\"1979-10-01T00:00:00\",\"1980-01-01T00:00:00\",\"1980-04-01T00:00:00\",\"1980-07-01T00:00:00\",\"1980-10-01T00:00:00\",\"1981-01-01T00:00:00\",\"1981-04-01T00:00:00\",\"1981-07-01T00:00:00\",\"1981-10-01T00:00:00\",\"1982-01-01T00:00:00\",\"1982-04-01T00:00:00\",\"1982-07-01T00:00:00\",\"1982-10-01T00:00:00\",\"1983-01-01T00:00:00\",\"1983-04-01T00:00:00\",\"1983-07-01T00:00:00\",\"1983-10-01T00:00:00\",\"1984-01-01T00:00:00\",\"1984-04-01T00:00:00\",\"1984-07-01T00:00:00\",\"1984-10-01T00:00:00\",\"1985-01-01T00:00:00\",\"1985-04-01T00:00:00\",\"1985-07-01T00:00:00\",\"1985-10-01T00:00:00\",\"1986-01-01T00:00:00\",\"1986-04-01T00:00:00\",\"1986-07-01T00:00:00\",\"1986-10-01T00:00:00\",\"1987-01-01T00:00:00\",\"1987-04-01T00:00:00\",\"1987-07-01T00:00:00\",\"1987-10-01T00:00:00\",\"1988-01-01T00:00:00\",\"1988-04-01T00:00:00\",\"1988-07-01T00:00:00\",\"1988-10-01T00:00:00\",\"1989-01-01T00:00:00\",\"1989-04-01T00:00:00\",\"1989-07-01T00:00:00\",\"1989-10-01T00:00:00\",\"1990-01-01T00:00:00\",\"1990-04-01T00:00:00\",\"1990-07-01T00:00:00\",\"1990-10-01T00:00:00\",\"1991-01-01T00:00:00\",\"1991-04-01T00:00:00\",\"1991-07-01T00:00:00\",\"1991-10-01T00:00:00\",\"1992-01-01T00:00:00\",\"1992-04-01T00:00:00\",\"1992-07-01T00:00:00\",\"1992-10-01T00:00:00\",\"1993-01-01T00:00:00\",\"1993-04-01T00:00:00\",\"1993-07-01T00:00:00\",\"1993-10-01T00:00:00\",\"1994-01-01T00:00:00\",\"1994-04-01T00:00:00\",\"1994-07-01T00:00:00\",\"1994-10-01T00:00:00\",\"1995-01-01T00:00:00\",\"1995-04-01T00:00:00\",\"1995-07-01T00:00:00\",\"1995-10-01T00:00:00\",\"1996-01-01T00:00:00\",\"1996-04-01T00:00:00\",\"1996-07-01T00:00:00\",\"1996-10-01T00:00:00\",\"1997-01-01T00:00:00\",\"1997-04-01T00:00:00\",\"1997-07-01T00:00:00\",\"1997-10-01T00:00:00\",\"1998-01-01T00:00:00\",\"1998-04-01T00:00:00\",\"1998-07-01T00:00:00\",\"1998-10-01T00:00:00\",\"1999-01-01T00:00:00\",\"1999-04-01T00:00:00\",\"1999-07-01T00:00:00\",\"1999-10-01T00:00:00\",\"2000-01-01T00:00:00\",\"2000-04-01T00:00:00\",\"2000-07-01T00:00:00\",\"2000-10-01T00:00:00\",\"2001-01-01T00:00:00\",\"2001-04-01T00:00:00\",\"2001-07-01T00:00:00\",\"2001-10-01T00:00:00\",\"2002-01-01T00:00:00\",\"2002-04-01T00:00:00\",\"2002-07-01T00:00:00\",\"2002-10-01T00:00:00\",\"2003-01-01T00:00:00\",\"2003-04-01T00:00:00\",\"2003-07-01T00:00:00\"],\"y\":[-0.6553000000000004,-0.18579999999999686,-0.3069999999999986,-0.0666000000000011,-0.23470000000000013,0.0069000000000016826,-0.1402000000000001,-0.24340000000000117,-0.05129999999999768,-0.11959999999999837,-0.11289999999999978,0.0010000000000012221,-0.19529999999999959,-0.010600000000000165,-0.1427999999999976,-0.14669999999999916,0.03990000000000293,-0.1600999999999999,-0.00689999999999813,-0.21890000000000143,-0.11459999999999937,-0.07939999999999969,-0.026899999999997704,-0.11240000000000094,-0.006500000000002615,-0.16810000000000258,0.018799999999998818,0.14849999999999852,-0.16519999999999868,0.09600000000000364,-0.31640000000000157,-0.08019999999999783,0.018099999999996896,-0.018000000000000682,0.06050000000000466,-0.08740000000000236,0.11929999999999552,-0.047100000000000364,-0.05119999999999436,0.14629999999999654,-0.025600000000004286,-0.03300000000000125,0.06259999999999621,0.024799999999999045,-0.19770000000000465,-0.040600000000004854,-0.04189999999999827,-0.34270000000000067,0.062400000000003786,-0.18080000000000496,-0.136099999999999,-0.10949999999999704,-0.09380000000000166,0.015600000000006276,0.08590000000000231,0.5331000000000046,-0.17419999999999902,0.7788000000000039,0.29349999999999454,0.29469999999999885,0.10079999999999956,0.5803999999999974,-0.007800000000003138,-0.5786000000000016,-0.05010000000000048,-0.12010000000000076,-0.0671999999999997,-0.6356999999999999,0.19409999999999883,0.1191999999999993,-0.025199999999998113,0.4836999999999989,-0.18710000000000093,-0.11240000000000094,0.23199999999999932,0.25269999999999726,0.5704000000000065,0.3808999999999969,0.06839999999999691,0.7720999999999947,0.8278999999999996,0.3774999999999977,0.8992999999999967,0.741800000000012,-0.6462000000000074,0.06459999999999866,0.5083000000000055,-0.2067000000000121,0.4363000000000028,-0.1547999999999945,-0.9328999999999894,-0.943799999999996,1.3277999999999963,-1.0205000000000126,-1.4176999999999964,0.20279999999999632,0.22440000000000282,0.14269999999999072,0.3941999999999979,0.15989999999999327,-0.28460000000001173,0.029799999999994498,-0.372799999999998,0.46649999999999636,-0.2972000000000037,-0.08320000000000505,0.5493000000000023,-2.2426999999999992,0.5585999999999984,0.23000000000000398,0.6295000000000073,0.4939999999999998,0.11910000000000309,0.1856999999999971,-0.06929999999999836,0.16850000000000875,0.22050000000000125,0.2568000000000126,0.08389999999999986,0.6757999999999953,-0.04019999999999868,-0.4923000000000002,0.9120000000000061,-0.08910000000000196,0.1786999999999921,1.4484999999999957,-0.6270000000000095,-1.245900000000006,-0.0624000000000251,-0.12190000000001078,0.03720000000001278,0.03720000000001278,0.03710000000000946,0.13709999999997535,0.00190000000000623,-0.08379999999999654,-0.34020000000001005,0.19129999999998404,-0.27139999999999986,0.032099999999985585,0.3231000000000108,0.012200000000007094,0.116800000000012,0.2844000000000051,-0.3053000000000168,-0.08250000000001023,0.2552000000000021,0.37189999999998236,-0.24789999999998713,0.15709999999998558,0.11369999999999436,-0.6119999999999948,-0.3808999999999969,0.3562000000000012,-0.37360000000001037,-0.5395000000000039,0.445699999999988,-0.025999999999982037,0.077699999999993,0.44470000000001164,-0.11570000000000391,0.5300000000000011,0.1459000000000117,0.5071000000000083,0.5432999999999879,-0.2242999999999995,0.38749999999998863,-0.6221999999999923,-0.1705000000000041,-0.8915000000000077,-0.6632000000000176,1.0668000000000006,-0.22470000000001278,0.3598999999999819,0.4339999999999975,-0.5110000000000241,-0.41550000000000864,0.4356999999999971],\"type\":\"scattergl\",\"xaxis\":\"x\",\"yaxis\":\"y\",\"showlegend\":false},{\"hoverinfo\":\"text\",\"hovertext\":[\"Freq: 0.0056\\u003cbr\\u003eAmpl: -5.1625\\u003cbr\\u003eTime period: 178.0\",\"Freq: 0.0112\\u003cbr\\u003eAmpl: -5.5155\\u003cbr\\u003eTime period: 89.0\",\"Freq: 0.0169\\u003cbr\\u003eAmpl: -1.1362\\u003cbr\\u003eTime period: 59.3333\",\"Freq: 0.0225\\u003cbr\\u003eAmpl: 1.3187\\u003cbr\\u003eTime period: 44.5\",\"Freq: 0.0281\\u003cbr\\u003eAmpl: 2.0836\\u003cbr\\u003eTime period: 35.6\",\"Freq: 0.0337\\u003cbr\\u003eAmpl: 1.4964\\u003cbr\\u003eTime period: 29.6667\",\"Freq: 0.0393\\u003cbr\\u003eAmpl: -0.2345\\u003cbr\\u003eTime period: 25.4286\",\"Freq: 0.0449\\u003cbr\\u003eAmpl: 1.6596\\u003cbr\\u003eTime period: 22.25\",\"Freq: 0.0506\\u003cbr\\u003eAmpl: 2.3259\\u003cbr\\u003eTime period: 19.7778\",\"Freq: 0.0562\\u003cbr\\u003eAmpl: -1.1276\\u003cbr\\u003eTime period: 17.8\",\"Freq: 0.0618\\u003cbr\\u003eAmpl: -5.9086\\u003cbr\\u003eTime period: 16.1818\",\"Freq: 0.0674\\u003cbr\\u003eAmpl: -3.9521\\u003cbr\\u003eTime period: 14.8333\",\"Freq: 0.073\\u003cbr\\u003eAmpl: -1.9484\\u003cbr\\u003eTime period: 13.6923\",\"Freq: 0.0787\\u003cbr\\u003eAmpl: -3.1587\\u003cbr\\u003eTime period: 12.7143\",\"Freq: 0.0843\\u003cbr\\u003eAmpl: -9.7705\\u003cbr\\u003eTime period: 11.8667\",\"Freq: 0.0899\\u003cbr\\u003eAmpl: -4.7093\\u003cbr\\u003eTime period: 11.125\",\"Freq: 0.0955\\u003cbr\\u003eAmpl: -2.6239\\u003cbr\\u003eTime period: 10.4706\",\"Freq: 0.1011\\u003cbr\\u003eAmpl: -6.5603\\u003cbr\\u003eTime period: 9.8889\",\"Freq: 0.1067\\u003cbr\\u003eAmpl: -11.3652\\u003cbr\\u003eTime period: 9.3684\",\"Freq: 0.1124\\u003cbr\\u003eAmpl: -8.0801\\u003cbr\\u003eTime period: 8.9\",\"Freq: 0.118\\u003cbr\\u003eAmpl: -10.1503\\u003cbr\\u003eTime period: 8.4762\",\"Freq: 0.1236\\u003cbr\\u003eAmpl: -13.3826\\u003cbr\\u003eTime period: 8.0909\",\"Freq: 0.1292\\u003cbr\\u003eAmpl: -6.828\\u003cbr\\u003eTime period: 7.7391\",\"Freq: 0.1348\\u003cbr\\u003eAmpl: -2.7416\\u003cbr\\u003eTime period: 7.4167\",\"Freq: 0.1404\\u003cbr\\u003eAmpl: -0.788\\u003cbr\\u003eTime period: 7.12\",\"Freq: 0.1461\\u003cbr\\u003eAmpl: -1.3799\\u003cbr\\u003eTime period: 6.8462\",\"Freq: 0.1517\\u003cbr\\u003eAmpl: -4.3243\\u003cbr\\u003eTime period: 6.5926\",\"Freq: 0.1573\\u003cbr\\u003eAmpl: -4.0844\\u003cbr\\u003eTime period: 6.3571\",\"Freq: 0.1629\\u003cbr\\u003eAmpl: -2.1273\\u003cbr\\u003eTime period: 6.1379\",\"Freq: 0.1685\\u003cbr\\u003eAmpl: -1.5582\\u003cbr\\u003eTime period: 5.9333\",\"Freq: 0.1742\\u003cbr\\u003eAmpl: -1.2701\\u003cbr\\u003eTime period: 5.7419\",\"Freq: 0.1798\\u003cbr\\u003eAmpl: 0.5219\\u003cbr\\u003eTime period: 5.5625\",\"Freq: 0.1854\\u003cbr\\u003eAmpl: 0.9179\\u003cbr\\u003eTime period: 5.3939\",\"Freq: 0.191\\u003cbr\\u003eAmpl: -2.3932\\u003cbr\\u003eTime period: 5.2353\",\"Freq: 0.1966\\u003cbr\\u003eAmpl: -9.9747\\u003cbr\\u003eTime period: 5.0857\",\"Freq: 0.2022\\u003cbr\\u003eAmpl: -7.8931\\u003cbr\\u003eTime period: 4.9444\",\"Freq: 0.2079\\u003cbr\\u003eAmpl: -4.6498\\u003cbr\\u003eTime period: 4.8108\",\"Freq: 0.2135\\u003cbr\\u003eAmpl: -2.444\\u003cbr\\u003eTime period: 4.6842\",\"Freq: 0.2191\\u003cbr\\u003eAmpl: -0.5136\\u003cbr\\u003eTime period: 4.5641\",\"Freq: 0.2247\\u003cbr\\u003eAmpl: -0.1756\\u003cbr\\u003eTime period: 4.45\",\"Freq: 0.2303\\u003cbr\\u003eAmpl: -0.4059\\u003cbr\\u003eTime period: 4.3415\",\"Freq: 0.236\\u003cbr\\u003eAmpl: -0.8293\\u003cbr\\u003eTime period: 4.2381\",\"Freq: 0.2416\\u003cbr\\u003eAmpl: -2.6094\\u003cbr\\u003eTime period: 4.1395\",\"Freq: 0.2472\\u003cbr\\u003eAmpl: -4.5374\\u003cbr\\u003eTime period: 4.0455\",\"Freq: 0.2528\\u003cbr\\u003eAmpl: -7.65\\u003cbr\\u003eTime period: 3.9556\",\"Freq: 0.2584\\u003cbr\\u003eAmpl: -9.2127\\u003cbr\\u003eTime period: 3.8696\",\"Freq: 0.264\\u003cbr\\u003eAmpl: -5.0098\\u003cbr\\u003eTime period: 3.7872\",\"Freq: 0.2697\\u003cbr\\u003eAmpl: -6.5347\\u003cbr\\u003eTime period: 3.7083\",\"Freq: 0.2753\\u003cbr\\u003eAmpl: -10.9762\\u003cbr\\u003eTime period: 3.6327\",\"Freq: 0.2809\\u003cbr\\u003eAmpl: -5.4824\\u003cbr\\u003eTime period: 3.56\",\"Freq: 0.2865\\u003cbr\\u003eAmpl: -1.3821\\u003cbr\\u003eTime period: 3.4902\",\"Freq: 0.2921\\u003cbr\\u003eAmpl: 3.5572\\u003cbr\\u003eTime period: 3.4231\",\"Freq: 0.2978\\u003cbr\\u003eAmpl: 5.3626\\u003cbr\\u003eTime period: 3.3585\",\"Freq: 0.3034\\u003cbr\\u003eAmpl: 4.3833\\u003cbr\\u003eTime period: 3.2963\",\"Freq: 0.309\\u003cbr\\u003eAmpl: 2.8178\\u003cbr\\u003eTime period: 3.2364\",\"Freq: 0.3146\\u003cbr\\u003eAmpl: 1.4038\\u003cbr\\u003eTime period: 3.1786\",\"Freq: 0.3202\\u003cbr\\u003eAmpl: -1.4427\\u003cbr\\u003eTime period: 3.1228\",\"Freq: 0.3258\\u003cbr\\u003eAmpl: 1.1127\\u003cbr\\u003eTime period: 3.069\",\"Freq: 0.3315\\u003cbr\\u003eAmpl: 1.8377\\u003cbr\\u003eTime period: 3.0169\",\"Freq: 0.3371\\u003cbr\\u003eAmpl: -0.8788\\u003cbr\\u003eTime period: 2.9667\",\"Freq: 0.3427\\u003cbr\\u003eAmpl: -3.5385\\u003cbr\\u003eTime period: 2.918\",\"Freq: 0.3483\\u003cbr\\u003eAmpl: -0.0485\\u003cbr\\u003eTime period: 2.871\",\"Freq: 0.3539\\u003cbr\\u003eAmpl: 1.2176\\u003cbr\\u003eTime period: 2.8254\",\"Freq: 0.3596\\u003cbr\\u003eAmpl: -0.6759\\u003cbr\\u003eTime period: 2.7812\",\"Freq: 0.3652\\u003cbr\\u003eAmpl: -0.5958\\u003cbr\\u003eTime period: 2.7385\",\"Freq: 0.3708\\u003cbr\\u003eAmpl: 1.1667\\u003cbr\\u003eTime period: 2.697\",\"Freq: 0.3764\\u003cbr\\u003eAmpl: 1.4888\\u003cbr\\u003eTime period: 2.6567\",\"Freq: 0.382\\u003cbr\\u003eAmpl: -0.9506\\u003cbr\\u003eTime period: 2.6176\",\"Freq: 0.3876\\u003cbr\\u003eAmpl: -5.2637\\u003cbr\\u003eTime period: 2.5797\",\"Freq: 0.3933\\u003cbr\\u003eAmpl: -7.235\\u003cbr\\u003eTime period: 2.5429\",\"Freq: 0.3989\\u003cbr\\u003eAmpl: -5.8425\\u003cbr\\u003eTime period: 2.507\",\"Freq: 0.4045\\u003cbr\\u003eAmpl: -3.9291\\u003cbr\\u003eTime period: 2.4722\",\"Freq: 0.4101\\u003cbr\\u003eAmpl: -4.983\\u003cbr\\u003eTime period: 2.4384\",\"Freq: 0.4157\\u003cbr\\u003eAmpl: -9.5919\\u003cbr\\u003eTime period: 2.4054\",\"Freq: 0.4213\\u003cbr\\u003eAmpl: -4.4128\\u003cbr\\u003eTime period: 2.3733\",\"Freq: 0.427\\u003cbr\\u003eAmpl: 1.0329\\u003cbr\\u003eTime period: 2.3421\",\"Freq: 0.4326\\u003cbr\\u003eAmpl: 1.8295\\u003cbr\\u003eTime period: 2.3117\",\"Freq: 0.4382\\u003cbr\\u003eAmpl: -1.0057\\u003cbr\\u003eTime period: 2.2821\",\"Freq: 0.4438\\u003cbr\\u003eAmpl: -1.376\\u003cbr\\u003eTime period: 2.2532\",\"Freq: 0.4494\\u003cbr\\u003eAmpl: 0.767\\u003cbr\\u003eTime period: 2.225\",\"Freq: 0.4551\\u003cbr\\u003eAmpl: -0.3038\\u003cbr\\u003eTime period: 2.1975\",\"Freq: 0.4607\\u003cbr\\u003eAmpl: -6.3266\\u003cbr\\u003eTime period: 2.1707\",\"Freq: 0.4663\\u003cbr\\u003eAmpl: -26.1122\\u003cbr\\u003eTime period: 2.1446\",\"Freq: 0.4719\\u003cbr\\u003eAmpl: -17.7704\\u003cbr\\u003eTime period: 2.119\",\"Freq: 0.4775\\u003cbr\\u003eAmpl: -20.8864\\u003cbr\\u003eTime period: 2.0941\",\"Freq: 0.4831\\u003cbr\\u003eAmpl: -8.7948\\u003cbr\\u003eTime period: 2.0698\",\"Freq: 0.4888\\u003cbr\\u003eAmpl: -4.5498\\u003cbr\\u003eTime period: 2.046\",\"Freq: 0.4944\\u003cbr\\u003eAmpl: -5.0531\\u003cbr\\u003eTime period: 2.0227\",\"Freq: 0.5\\u003cbr\\u003eAmpl: -9.5187\\u003cbr\\u003eTime period: 2.0\"],\"line\":{\"color\":\"#1f77b4\",\"width\":2},\"marker\":{\"size\":5},\"mode\":\"lines+markers\",\"name\":\"ARIMA\",\"showlegend\":false,\"x\":[0.0056179775280898875,0.011235955056179775,0.016853932584269662,0.02247191011235955,0.028089887640449437,0.033707865168539325,0.03932584269662921,0.0449438202247191,0.05056179775280899,0.056179775280898875,0.06179775280898876,0.06741573033707865,0.07303370786516854,0.07865168539325842,0.08426966292134831,0.0898876404494382,0.09550561797752809,0.10112359550561797,0.10674157303370786,0.11235955056179775,0.11797752808988764,0.12359550561797752,0.1292134831460674,0.1348314606741573,0.1404494382022472,0.14606741573033707,0.15168539325842695,0.15730337078651685,0.16292134831460675,0.16853932584269662,0.1741573033707865,0.1797752808988764,0.1853932584269663,0.19101123595505617,0.19662921348314605,0.20224719101123595,0.20786516853932585,0.21348314606741572,0.2191011235955056,0.2247191011235955,0.2303370786516854,0.23595505617977527,0.24157303370786515,0.24719101123595505,0.25280898876404495,0.2584269662921348,0.2640449438202247,0.2696629213483146,0.2752808988764045,0.2808988764044944,0.28651685393258425,0.29213483146067415,0.29775280898876405,0.3033707865168539,0.3089887640449438,0.3146067415730337,0.3202247191011236,0.3258426966292135,0.33146067415730335,0.33707865168539325,0.34269662921348315,0.348314606741573,0.3539325842696629,0.3595505617977528,0.3651685393258427,0.3707865168539326,0.37640449438202245,0.38202247191011235,0.38764044943820225,0.3932584269662921,0.398876404494382,0.4044943820224719,0.4101123595505618,0.4157303370786517,0.42134831460674155,0.42696629213483145,0.43258426966292135,0.4382022471910112,0.4438202247191011,0.449438202247191,0.4550561797752809,0.4606741573033708,0.46629213483146065,0.47191011235955055,0.47752808988764045,0.4831460674157303,0.4887640449438202,0.4943820224719101,0.5],\"y\":[-5.162452803096896,-5.515462814213143,-1.1362262980620943,1.3187420736879303,2.0835655892660094,1.496393767901558,-0.23452553118051458,1.6595645418791503,2.325947699608191,-1.1276155065955011,-5.908593387237921,-3.9520620161828712,-1.948350445676677,-3.1586520276094268,-9.770477977450687,-4.7092512616611675,-2.623908160700368,-6.560262823984585,-11.365190750726722,-8.080064673008065,-10.15031620454877,-13.382625065239665,-6.828019788246759,-2.7416456047768403,-0.7880105956052832,-1.3798590516818519,-4.324293854526072,-4.084411128061099,-2.1272941343328764,-1.5582273129959532,-1.2701369024983182,0.5218675981843173,0.917874088654021,-2.393187613773691,-9.974668158952792,-7.893141633426355,-4.649848410275431,-2.444033013008566,-0.5135576744349931,-0.17557216202585563,-0.4059120168272561,-0.8293267417920775,-2.609438494146097,-4.537398641150249,-7.650018982207372,-9.21274279022031,-5.00977628947871,-6.534735203797145,-10.97618461803095,-5.4824020921608945,-1.3820902378840132,3.5572342381890025,5.3626356595526845,4.383330097634795,2.817803661327476,1.4037774196501596,-1.4427182958846752,1.1127184132988344,1.837711472346065,-0.8788361767083694,-3.538500490527872,-0.048510463907756256,1.2175595949613836,-0.6759114571339951,-0.5957505325809889,1.1667303713661805,1.4888014280832793,-0.9506200908189476,-5.263681050772231,-7.234982376030935,-5.8425317572777775,-3.9291088101392067,-4.983019480585132,-9.591878639119344,-4.412824581988974,1.032906965011491,1.8294766167576464,-1.0057394988585748,-1.3760455390806328,0.7669583835604848,-0.3038135493940799,-6.32662283507306,-26.112198734737255,-17.770449842719135,-20.88639411958493,-8.794814051108945,-4.549839202111567,-5.0531196801170655,-9.5186795993395],\"type\":\"scattergl\",\"xaxis\":\"x2\",\"yaxis\":\"y2\"},{\"alignmentgroup\":\"True\",\"bingroup\":\"x\",\"hovertemplate\":\"variable=ARIMA\\u003cbr\\u003evalue=%{x}\\u003cbr\\u003ecount=%{y}\\u003cextra\\u003e\\u003c\\u002fextra\\u003e\",\"legendgroup\":\"ARIMA\",\"marker\":{\"color\":\"#1f77b4\",\"pattern\":{\"shape\":\"\"}},\"name\":\"ARIMA\",\"offsetgroup\":\"ARIMA\",\"orientation\":\"v\",\"showlegend\":false,\"x\":[-0.6553000000000004,-0.18579999999999686,-0.3069999999999986,-0.0666000000000011,-0.23470000000000013,0.0069000000000016826,-0.1402000000000001,-0.24340000000000117,-0.05129999999999768,-0.11959999999999837,-0.11289999999999978,0.0010000000000012221,-0.19529999999999959,-0.010600000000000165,-0.1427999999999976,-0.14669999999999916,0.03990000000000293,-0.1600999999999999,-0.00689999999999813,-0.21890000000000143,-0.11459999999999937,-0.07939999999999969,-0.026899999999997704,-0.11240000000000094,-0.006500000000002615,-0.16810000000000258,0.018799999999998818,0.14849999999999852,-0.16519999999999868,0.09600000000000364,-0.31640000000000157,-0.08019999999999783,0.018099999999996896,-0.018000000000000682,0.06050000000000466,-0.08740000000000236,0.11929999999999552,-0.047100000000000364,-0.05119999999999436,0.14629999999999654,-0.025600000000004286,-0.03300000000000125,0.06259999999999621,0.024799999999999045,-0.19770000000000465,-0.040600000000004854,-0.04189999999999827,-0.34270000000000067,0.062400000000003786,-0.18080000000000496,-0.136099999999999,-0.10949999999999704,-0.09380000000000166,0.015600000000006276,0.08590000000000231,0.5331000000000046,-0.17419999999999902,0.7788000000000039,0.29349999999999454,0.29469999999999885,0.10079999999999956,0.5803999999999974,-0.007800000000003138,-0.5786000000000016,-0.05010000000000048,-0.12010000000000076,-0.0671999999999997,-0.6356999999999999,0.19409999999999883,0.1191999999999993,-0.025199999999998113,0.4836999999999989,-0.18710000000000093,-0.11240000000000094,0.23199999999999932,0.25269999999999726,0.5704000000000065,0.3808999999999969,0.06839999999999691,0.7720999999999947,0.8278999999999996,0.3774999999999977,0.8992999999999967,0.741800000000012,-0.6462000000000074,0.06459999999999866,0.5083000000000055,-0.2067000000000121,0.4363000000000028,-0.1547999999999945,-0.9328999999999894,-0.943799999999996,1.3277999999999963,-1.0205000000000126,-1.4176999999999964,0.20279999999999632,0.22440000000000282,0.14269999999999072,0.3941999999999979,0.15989999999999327,-0.28460000000001173,0.029799999999994498,-0.372799999999998,0.46649999999999636,-0.2972000000000037,-0.08320000000000505,0.5493000000000023,-2.2426999999999992,0.5585999999999984,0.23000000000000398,0.6295000000000073,0.4939999999999998,0.11910000000000309,0.1856999999999971,-0.06929999999999836,0.16850000000000875,0.22050000000000125,0.2568000000000126,0.08389999999999986,0.6757999999999953,-0.04019999999999868,-0.4923000000000002,0.9120000000000061,-0.08910000000000196,0.1786999999999921,1.4484999999999957,-0.6270000000000095,-1.245900000000006,-0.0624000000000251,-0.12190000000001078,0.03720000000001278,0.03720000000001278,0.03710000000000946,0.13709999999997535,0.00190000000000623,-0.08379999999999654,-0.34020000000001005,0.19129999999998404,-0.27139999999999986,0.032099999999985585,0.3231000000000108,0.012200000000007094,0.116800000000012,0.2844000000000051,-0.3053000000000168,-0.08250000000001023,0.2552000000000021,0.37189999999998236,-0.24789999999998713,0.15709999999998558,0.11369999999999436,-0.6119999999999948,-0.3808999999999969,0.3562000000000012,-0.37360000000001037,-0.5395000000000039,0.445699999999988,-0.025999999999982037,0.077699999999993,0.44470000000001164,-0.11570000000000391,0.5300000000000011,0.1459000000000117,0.5071000000000083,0.5432999999999879,-0.2242999999999995,0.38749999999998863,-0.6221999999999923,-0.1705000000000041,-0.8915000000000077,-0.6632000000000176,1.0668000000000006,-0.22470000000001278,0.3598999999999819,0.4339999999999975,-0.5110000000000241,-0.41550000000000864,0.4356999999999971],\"xaxis\":\"x3\",\"yaxis\":\"y3\",\"type\":\"histogram\"},{\"marker\":{\"color\":\"#1f77b4\"},\"mode\":\"markers\",\"name\":\"ARIMA\",\"x\":[-2.537235250394012,-2.284428355119872,-2.1258043573124437,-2.0075349091671035,-1.9120800929233375,-1.8314117679648856,-1.7611543004560126,-1.6986482745438747,-1.6421512672307004,-1.5904569433456335,-1.542694042954707,-1.498211871283548,-1.4565110520024178,-1.4171995921598977,-1.379963883144763,-1.3445489157093282,-1.3107443958091674,-1.2783747620677244,-1.2472918552198844,-1.2173694341324872,-1.1884990052137798,-1.160586603775009,-1.1335502771146808,-1.107318092783904,-1.08182654534094,-1.0570192692634173,-1.0328459897764093,-1.0092616605071927,-0.9862257492652906,-0.9637016423102523,-0.9416561441817515,-0.9200590551927113,-0.8988828124889383,-0.878102183483636,-0.8576940027142459,-0.8376369449093877,-0.8179113284170922,-0.7984989442215016,-0.7793829066303491,-0.7605475223995504,-0.7419781756118172,-0.7236612260719694,-0.7055839193445022,-0.6877343068559866,-0.6701011747291373,-0.6526739802172861,-0.6354427947755682,-0.6183982529448792,-0.6015315063416264,-0.5848341821446204,-0.5682983455534018,-0.5519164657625226,-0.5356813850559679,-0.5195862906767582,-0.503624689170271,-0.487790382937105,-0.4720774487634068,-0.4564802181242457,-0.44099325907956294,-0.42561135960297136,-0.41032951220172426,-0.3951428997018882,-0.3800468820864791,-0.3650369842863302,-0.35010888483399594,-0.33525840530024226,-0.3204815004408222,-0.3057742489884122,-0.29113284503092673,-0.27655358992303447,-0.26203288468266284,-0.24756722282868124,-0.2331531836198543,-0.21878742565862955,-0.20446668082640068,-0.1901877485196279,-0.17594749015863034,-0.16174282394302666,-0.14757071982971892,-0.13342819471101391,-0.11931230777198107,-0.10522015600747055,-0.0911488698803767,-0.07709560910375257,-0.06305755853025585,-0.04903192413316351,-0.03501592906382971,-0.02100680977098822,-0.00700181216772545,0.00700181216772545,0.021006809770988077,0.03501592906382971,0.049031924133163374,0.06305755853025585,0.07709560910375271,0.0911488698803767,0.10522015600747069,0.11931230777198107,0.13342819471101391,0.14757071982971878,0.16174282394302666,0.1759474901586302,0.1901877485196279,0.20446668082640082,0.21878742565862955,0.23315318361985443,0.24756722282868124,0.26203288468266295,0.2765535899230343,0.29113284503092673,0.30577424898841205,0.3204815004408222,0.33525840530024215,0.35010888483399594,0.3650369842863303,0.3800468820864791,0.39514289970188843,0.41032951220172414,0.42561135960297136,0.4409932590795628,0.4564802181242457,0.4720774487634066,0.487790382937105,0.5036246891702711,0.5195862906767582,0.535681385055968,0.5519164657625226,0.5682983455534018,0.5848341821446201,0.6015315063416264,0.618398252944879,0.6354427947755682,0.6526739802172862,0.6701011747291373,0.6877343068559866,0.7055839193445022,0.7236612260719694,0.7419781756118172,0.7605475223995504,0.779382906630349,0.7984989442215016,0.8179113284170925,0.8376369449093877,0.8576940027142459,0.878102183483636,0.8988828124889383,0.9200590551927113,0.9416561441817515,0.9637016423102523,0.9862257492652906,1.009261660507193,1.0328459897764093,1.0570192692634173,1.08182654534094,1.1073180927839048,1.1335502771146808,1.160586603775009,1.1884990052137798,1.2173694341324872,1.2472918552198842,1.2783747620677244,1.3107443958091678,1.3445489157093282,1.3799638831447636,1.4171995921598977,1.4565110520024183,1.4982118712835475,1.542694042954707,1.5904569433456328,1.6421512672307004,1.6986482745438747,1.7611543004560126,1.831411767964886,1.912080092923337,2.007534909167104,2.125804357312443,2.2844283551198723,2.5372352503940094],\"y\":[-2.2426999999999992,-1.4176999999999964,-1.245900000000006,-1.0205000000000126,-0.943799999999996,-0.9328999999999894,-0.8915000000000077,-0.6632000000000176,-0.6553000000000004,-0.6462000000000074,-0.6356999999999999,-0.6270000000000095,-0.6221999999999923,-0.6119999999999948,-0.5786000000000016,-0.5395000000000039,-0.5110000000000241,-0.4923000000000002,-0.41550000000000864,-0.3808999999999969,-0.37360000000001037,-0.372799999999998,-0.34270000000000067,-0.34020000000001005,-0.31640000000000157,-0.3069999999999986,-0.3053000000000168,-0.2972000000000037,-0.28460000000001173,-0.27139999999999986,-0.24789999999998713,-0.24340000000000117,-0.23470000000000013,-0.22470000000001278,-0.2242999999999995,-0.21890000000000143,-0.2067000000000121,-0.19770000000000465,-0.19529999999999959,-0.18710000000000093,-0.18579999999999686,-0.18080000000000496,-0.17419999999999902,-0.1705000000000041,-0.16810000000000258,-0.16519999999999868,-0.1600999999999999,-0.1547999999999945,-0.14669999999999916,-0.1427999999999976,-0.1402000000000001,-0.136099999999999,-0.12190000000001078,-0.12010000000000076,-0.11959999999999837,-0.11570000000000391,-0.11459999999999937,-0.11289999999999978,-0.11240000000000094,-0.11240000000000094,-0.10949999999999704,-0.09380000000000166,-0.08910000000000196,-0.08740000000000236,-0.08379999999999654,-0.08320000000000505,-0.08250000000001023,-0.08019999999999783,-0.07939999999999969,-0.06929999999999836,-0.0671999999999997,-0.0666000000000011,-0.0624000000000251,-0.05129999999999768,-0.05119999999999436,-0.05010000000000048,-0.047100000000000364,-0.04189999999999827,-0.040600000000004854,-0.04019999999999868,-0.03300000000000125,-0.026899999999997704,-0.025999999999982037,-0.025600000000004286,-0.025199999999998113,-0.018000000000000682,-0.010600000000000165,-0.007800000000003138,-0.00689999999999813,-0.006500000000002615,0.0010000000000012221,0.00190000000000623,0.0069000000000016826,0.012200000000007094,0.015600000000006276,0.018099999999996896,0.018799999999998818,0.024799999999999045,0.029799999999994498,0.032099999999985585,0.03710000000000946,0.03720000000001278,0.03720000000001278,0.03990000000000293,0.06050000000000466,0.062400000000003786,0.06259999999999621,0.06459999999999866,0.06839999999999691,0.077699999999993,0.08389999999999986,0.08590000000000231,0.09600000000000364,0.10079999999999956,0.11369999999999436,0.116800000000012,0.11910000000000309,0.1191999999999993,0.11929999999999552,0.13709999999997535,0.14269999999999072,0.1459000000000117,0.14629999999999654,0.14849999999999852,0.15709999999998558,0.15989999999999327,0.16850000000000875,0.1786999999999921,0.1856999999999971,0.19129999999998404,0.19409999999999883,0.20279999999999632,0.22050000000000125,0.22440000000000282,0.23000000000000398,0.23199999999999932,0.25269999999999726,0.2552000000000021,0.2568000000000126,0.2844000000000051,0.29349999999999454,0.29469999999999885,0.3231000000000108,0.3562000000000012,0.3598999999999819,0.37189999999998236,0.3774999999999977,0.3808999999999969,0.38749999999998863,0.3941999999999979,0.4339999999999975,0.4356999999999971,0.4363000000000028,0.44470000000001164,0.445699999999988,0.46649999999999636,0.4836999999999989,0.4939999999999998,0.5071000000000083,0.5083000000000055,0.5300000000000011,0.5331000000000046,0.5432999999999879,0.5493000000000023,0.5585999999999984,0.5704000000000065,0.5803999999999974,0.6295000000000073,0.6757999999999953,0.741800000000012,0.7720999999999947,0.7788000000000039,0.8278999999999996,0.8992999999999967,0.9120000000000061,1.0668000000000006,1.3277999999999963,1.4484999999999957],\"type\":\"scattergl\",\"xaxis\":\"x4\",\"yaxis\":\"y4\",\"showlegend\":false},{\"line\":{\"color\":\"#3f3f3f\"},\"mode\":\"lines\",\"name\":\"ARIMA\",\"x\":[-2.537235250394012,-2.284428355119872,-2.1258043573124437,-2.0075349091671035,-1.9120800929233375,-1.8314117679648856,-1.7611543004560126,-1.6986482745438747,-1.6421512672307004,-1.5904569433456335,-1.542694042954707,-1.498211871283548,-1.4565110520024178,-1.4171995921598977,-1.379963883144763,-1.3445489157093282,-1.3107443958091674,-1.2783747620677244,-1.2472918552198844,-1.2173694341324872,-1.1884990052137798,-1.160586603775009,-1.1335502771146808,-1.107318092783904,-1.08182654534094,-1.0570192692634173,-1.0328459897764093,-1.0092616605071927,-0.9862257492652906,-0.9637016423102523,-0.9416561441817515,-0.9200590551927113,-0.8988828124889383,-0.878102183483636,-0.8576940027142459,-0.8376369449093877,-0.8179113284170922,-0.7984989442215016,-0.7793829066303491,-0.7605475223995504,-0.7419781756118172,-0.7236612260719694,-0.7055839193445022,-0.6877343068559866,-0.6701011747291373,-0.6526739802172861,-0.6354427947755682,-0.6183982529448792,-0.6015315063416264,-0.5848341821446204,-0.5682983455534018,-0.5519164657625226,-0.5356813850559679,-0.5195862906767582,-0.503624689170271,-0.487790382937105,-0.4720774487634068,-0.4564802181242457,-0.44099325907956294,-0.42561135960297136,-0.41032951220172426,-0.3951428997018882,-0.3800468820864791,-0.3650369842863302,-0.35010888483399594,-0.33525840530024226,-0.3204815004408222,-0.3057742489884122,-0.29113284503092673,-0.27655358992303447,-0.26203288468266284,-0.24756722282868124,-0.2331531836198543,-0.21878742565862955,-0.20446668082640068,-0.1901877485196279,-0.17594749015863034,-0.16174282394302666,-0.14757071982971892,-0.13342819471101391,-0.11931230777198107,-0.10522015600747055,-0.0911488698803767,-0.07709560910375257,-0.06305755853025585,-0.04903192413316351,-0.03501592906382971,-0.02100680977098822,-0.00700181216772545,0.00700181216772545,0.021006809770988077,0.03501592906382971,0.049031924133163374,0.06305755853025585,0.07709560910375271,0.0911488698803767,0.10522015600747069,0.11931230777198107,0.13342819471101391,0.14757071982971878,0.16174282394302666,0.1759474901586302,0.1901877485196279,0.20446668082640082,0.21878742565862955,0.23315318361985443,0.24756722282868124,0.26203288468266295,0.2765535899230343,0.29113284503092673,0.30577424898841205,0.3204815004408222,0.33525840530024215,0.35010888483399594,0.3650369842863303,0.3800468820864791,0.39514289970188843,0.41032951220172414,0.42561135960297136,0.4409932590795628,0.4564802181242457,0.4720774487634066,0.487790382937105,0.5036246891702711,0.5195862906767582,0.535681385055968,0.5519164657625226,0.5682983455534018,0.5848341821446201,0.6015315063416264,0.618398252944879,0.6354427947755682,0.6526739802172862,0.6701011747291373,0.6877343068559866,0.7055839193445022,0.7236612260719694,0.7419781756118172,0.7605475223995504,0.779382906630349,0.7984989442215016,0.8179113284170925,0.8376369449093877,0.8576940027142459,0.878102183483636,0.8988828124889383,0.9200590551927113,0.9416561441817515,0.9637016423102523,0.9862257492652906,1.009261660507193,1.0328459897764093,1.0570192692634173,1.08182654534094,1.1073180927839048,1.1335502771146808,1.160586603775009,1.1884990052137798,1.2173694341324872,1.2472918552198842,1.2783747620677244,1.3107443958091678,1.3445489157093282,1.3799638831447636,1.4171995921598977,1.4565110520024183,1.4982118712835475,1.542694042954707,1.5904569433456328,1.6421512672307004,1.6986482745438747,1.7611543004560126,1.831411767964886,1.912080092923337,2.007534909167104,2.125804357312443,2.2844283551198723,2.5372352503940094],\"y\":[-1.1136627707173772,-1.001560035514015,-0.9312210362401937,-0.8787765464895969,-0.8364488007306976,-0.8006778623537604,-0.7695234341184651,-0.741806245218833,-0.7167536490713138,-0.6938307177338581,-0.6726511064370126,-0.6529262761205172,-0.6344347872053652,-0.6170028173676563,-0.6004913024293211,-0.5847871630610294,-0.5697971480974932,-0.5554434079591481,-0.5416602440468836,-0.5283916769685746,-0.5155895971646524,-0.5032123376599724,-0.49122355798215644,-0.47959136096217403,-0.4682875862378979,-0.45728723951784667,-0.4465680273444985,-0.43610997470258417,-0.4258951083109108,-0.4159071924554719,-0.40613150719797275,-0.39655466102264825,-0.38716443167052184,-0.37794963019837613,-0.3688999842925854,-0.3600060376396733,-0.35125906276004837,-0.3426509851884917,-0.3341743172641667,-0.32582210009624046,-0.3175878525153455,-0.30946552601878274,-0.30144946487827595,-0.29353437071079747,-0.2857152709212979,-0.27798749051569993,-0.270346626856826,-0.26278852699789457,-0.25530926728009185,-0.24790513492431934,-0.2405726113840049,-0.23330835725700091,-0.22610919858105366,-0.21897211435987726,-0.21189422518615442,-0.20487278284431998,-0.19790516079021483,-0.1909888454169668,-0.18412142802707024,-0.17730059743983798,-0.17052413317139906,-0.16378989913138578,-0.1570958377865384,-0.1504399647467822,-0.14382036373400214,-0.1372351818978419,-0.13068262544646614,-0.12416095556340806,-0.11766848458443574,-0.11120357241085749,-0.10476462313788659,-0.09835008187863893,-0.09195843176606666,-0.08558819111667128,-0.07923791074120368,-0.07290617138877384,-0.0665915813118723,-0.0602927739407632,-0.054008405656560274,-0.04773715365305031,-0.04147771387799579,-0.03522879904523604,-0.028989136709421187,-0.022757467395665573,-0.016532542776795483,-0.010313123891201335,-0.004097979394587288,0.0021141161608552762,0.008324384026135622,0.014534042940154136,0.020744310805434416,0.026956406360877046,0.03317155085749103,0.039390969743085244,0.045615894361955386,0.051847563675710945,0.05808722601152586,0.06433614084428554,0.07059558061934007,0.07686683262284996,0.08315120090705296,0.08945000827816199,0.0957645983550636,0.10209633770749349,0.10844661808296104,0.11481685873235647,0.12120850884492869,0.1276230501041764,0.1340619993771472,0.1405269115507255,0.14701938252969773,0.1535410524127559,0.1600936088641316,0.1666787907002919,0.17329839171307201,0.17995426475282816,0.18664832609767562,0.19338256013768876,0.20015902440612773,0.20697985499335997,0.21384727238325657,0.2207635877565045,0.22773120981060974,0.23475265215244423,0.24183054132616702,0.24896762554734345,0.25616678422329064,0.2634310383502947,0.270763561890609,0.27816769424638166,0.28564695396418427,0.2932050538231158,0.30084591748198974,0.3085736978875876,0.31639279767708717,0.32430789184456565,0.33232395298507245,0.3404462794816352,0.34868052706253017,0.3570327442304564,0.3655094121547814,0.3741174897263383,0.38286446460596313,0.3917584112588752,0.40080805716466594,0.41002285863681154,0.41941308798893795,0.42898993416426257,0.43876561942176173,0.4487535352772005,0.458968401668874,0.46942645431078833,0.4801456664841365,0.4911460132041877,0.5024497879284642,0.5140819849484461,0.5260707646262621,0.5384480241309421,0.5512501039348643,0.5645186710131732,0.5783018349254379,0.592655575063783,0.6076455900273191,0.6233497293956112,0.639861244333946,0.6572932141716551,0.6757847030868068,0.6955095334033023,0.7166891447001474,0.7396120760376035,0.7646646721851227,0.7923818610847548,0.8235362893200503,0.8593072276969872,0.9016349734558868,0.9540794632064832,1.024418462480305,1.1365211976836658],\"type\":\"scattergl\",\"xaxis\":\"x4\",\"yaxis\":\"y4\",\"showlegend\":false},{\"line\":{\"color\":\"#3f3f3f\"},\"mode\":\"lines\",\"name\":\"ACF\",\"x\":[0,0],\"y\":[0,1.0],\"type\":\"scattergl\",\"xaxis\":\"x5\",\"yaxis\":\"y5\",\"showlegend\":false},{\"line\":{\"color\":\"#3f3f3f\"},\"mode\":\"lines\",\"name\":\"ACF\",\"x\":[1,1],\"y\":[0,-0.0338439668511928],\"type\":\"scattergl\",\"xaxis\":\"x5\",\"yaxis\":\"y5\",\"showlegend\":false},{\"line\":{\"color\":\"#3f3f3f\"},\"mode\":\"lines\",\"name\":\"ACF\",\"x\":[2,2],\"y\":[0,-0.060911214385865074],\"type\":\"scattergl\",\"xaxis\":\"x5\",\"yaxis\":\"y5\",\"showlegend\":false},{\"line\":{\"color\":\"#3f3f3f\"},\"mode\":\"lines\",\"name\":\"ACF\",\"x\":[3,3],\"y\":[0,0.23958959383763526],\"type\":\"scattergl\",\"xaxis\":\"x5\",\"yaxis\":\"y5\",\"showlegend\":false},{\"line\":{\"color\":\"#3f3f3f\"},\"mode\":\"lines\",\"name\":\"ACF\",\"x\":[4,4],\"y\":[0,-0.08479530916954182],\"type\":\"scattergl\",\"xaxis\":\"x5\",\"yaxis\":\"y5\",\"showlegend\":false},{\"line\":{\"color\":\"#3f3f3f\"},\"mode\":\"lines\",\"name\":\"ACF\",\"x\":[5,5],\"y\":[0,-0.029296881383322135],\"type\":\"scattergl\",\"xaxis\":\"x5\",\"yaxis\":\"y5\",\"showlegend\":false},{\"line\":{\"color\":\"#3f3f3f\"},\"mode\":\"lines\",\"name\":\"ACF\",\"x\":[6,6],\"y\":[0,0.086253997523455],\"type\":\"scattergl\",\"xaxis\":\"x5\",\"yaxis\":\"y5\",\"showlegend\":false},{\"line\":{\"color\":\"#3f3f3f\"},\"mode\":\"lines\",\"name\":\"ACF\",\"x\":[7,7],\"y\":[0,0.07016170757343843],\"type\":\"scattergl\",\"xaxis\":\"x5\",\"yaxis\":\"y5\",\"showlegend\":false},{\"line\":{\"color\":\"#3f3f3f\"},\"mode\":\"lines\",\"name\":\"ACF\",\"x\":[8,8],\"y\":[0,-0.15947843115936744],\"type\":\"scattergl\",\"xaxis\":\"x5\",\"yaxis\":\"y5\",\"showlegend\":false},{\"line\":{\"color\":\"#3f3f3f\"},\"mode\":\"lines\",\"name\":\"ACF\",\"x\":[9,9],\"y\":[0,-0.01638892161622785],\"type\":\"scattergl\",\"xaxis\":\"x5\",\"yaxis\":\"y5\",\"showlegend\":false},{\"line\":{\"color\":\"#3f3f3f\"},\"mode\":\"lines\",\"name\":\"ACF\",\"x\":[10,10],\"y\":[0,-0.019771711249603606],\"type\":\"scattergl\",\"xaxis\":\"x5\",\"yaxis\":\"y5\",\"showlegend\":false},{\"line\":{\"color\":\"#3f3f3f\"},\"mode\":\"lines\",\"name\":\"ACF\",\"x\":[11,11],\"y\":[0,-0.08522925952811201],\"type\":\"scattergl\",\"xaxis\":\"x5\",\"yaxis\":\"y5\",\"showlegend\":false},{\"line\":{\"color\":\"#3f3f3f\"},\"mode\":\"lines\",\"name\":\"ACF\",\"x\":[12,12],\"y\":[0,-0.10189959447323227],\"type\":\"scattergl\",\"xaxis\":\"x5\",\"yaxis\":\"y5\",\"showlegend\":false},{\"line\":{\"color\":\"#3f3f3f\"},\"mode\":\"lines\",\"name\":\"ACF\",\"x\":[13,13],\"y\":[0,0.04721017131332212],\"type\":\"scattergl\",\"xaxis\":\"x5\",\"yaxis\":\"y5\",\"showlegend\":false},{\"line\":{\"color\":\"#3f3f3f\"},\"mode\":\"lines\",\"name\":\"ACF\",\"x\":[14,14],\"y\":[0,0.05316089347930902],\"type\":\"scattergl\",\"xaxis\":\"x5\",\"yaxis\":\"y5\",\"showlegend\":false},{\"line\":{\"color\":\"#3f3f3f\"},\"mode\":\"lines\",\"name\":\"ACF\",\"x\":[15,15],\"y\":[0,-0.14369579175156433],\"type\":\"scattergl\",\"xaxis\":\"x5\",\"yaxis\":\"y5\",\"showlegend\":false},{\"line\":{\"color\":\"#3f3f3f\"},\"mode\":\"lines\",\"name\":\"ACF\",\"x\":[16,16],\"y\":[0,0.05276211564027902],\"type\":\"scattergl\",\"xaxis\":\"x5\",\"yaxis\":\"y5\",\"showlegend\":false},{\"line\":{\"color\":\"#3f3f3f\"},\"mode\":\"lines\",\"name\":\"ACF\",\"x\":[17,17],\"y\":[0,0.011054808624658434],\"type\":\"scattergl\",\"xaxis\":\"x5\",\"yaxis\":\"y5\",\"showlegend\":false},{\"line\":{\"color\":\"#3f3f3f\"},\"mode\":\"lines\",\"name\":\"ACF\",\"x\":[18,18],\"y\":[0,-0.03227349983914155],\"type\":\"scattergl\",\"xaxis\":\"x5\",\"yaxis\":\"y5\",\"showlegend\":false},{\"line\":{\"color\":\"#3f3f3f\"},\"mode\":\"lines\",\"name\":\"ACF\",\"x\":[19,19],\"y\":[0,-0.03569129110224863],\"type\":\"scattergl\",\"xaxis\":\"x5\",\"yaxis\":\"y5\",\"showlegend\":false},{\"line\":{\"color\":\"#3f3f3f\"},\"mode\":\"lines\",\"name\":\"ACF\",\"x\":[20,20],\"y\":[0,0.017498291128407017],\"type\":\"scattergl\",\"xaxis\":\"x5\",\"yaxis\":\"y5\",\"showlegend\":false},{\"line\":{\"color\":\"#3f3f3f\"},\"mode\":\"lines\",\"name\":\"ACF\",\"x\":[21,21],\"y\":[0,0.07411414278780672],\"type\":\"scattergl\",\"xaxis\":\"x5\",\"yaxis\":\"y5\",\"showlegend\":false},{\"line\":{\"color\":\"#3f3f3f\"},\"mode\":\"lines\",\"name\":\"ACF\",\"x\":[22,22],\"y\":[0,0.02150789953926802],\"type\":\"scattergl\",\"xaxis\":\"x5\",\"yaxis\":\"y5\",\"showlegend\":false},{\"line\":{\"color\":\"#3f3f3f\"},\"mode\":\"lines\",\"name\":\"ACF\",\"x\":[23,23],\"y\":[0,0.013539413548465823],\"type\":\"scattergl\",\"xaxis\":\"x5\",\"yaxis\":\"y5\",\"showlegend\":false},{\"line\":{\"color\":\"#3f3f3f\"},\"mode\":\"lines\",\"name\":\"ACF\",\"x\":[24,24],\"y\":[0,0.08170709793688036],\"type\":\"scattergl\",\"xaxis\":\"x5\",\"yaxis\":\"y5\",\"showlegend\":false},{\"line\":{\"color\":\"#3f3f3f\"},\"mode\":\"lines\",\"name\":\"ACF\",\"x\":[25,25],\"y\":[0,-0.04374486289236029],\"type\":\"scattergl\",\"xaxis\":\"x5\",\"yaxis\":\"y5\",\"showlegend\":false},{\"line\":{\"color\":\"#3f3f3f\"},\"mode\":\"lines\",\"name\":\"ACF\",\"x\":[26,26],\"y\":[0,-0.06241472191734553],\"type\":\"scattergl\",\"xaxis\":\"x5\",\"yaxis\":\"y5\",\"showlegend\":false},{\"line\":{\"color\":\"#3f3f3f\"},\"mode\":\"lines\",\"name\":\"ACF\",\"x\":[27,27],\"y\":[0,0.06804684005102477],\"type\":\"scattergl\",\"xaxis\":\"x5\",\"yaxis\":\"y5\",\"showlegend\":false},{\"line\":{\"color\":\"#3f3f3f\"},\"mode\":\"lines\",\"name\":\"ACF\",\"x\":[28,28],\"y\":[0,0.021251930034451555],\"type\":\"scattergl\",\"xaxis\":\"x5\",\"yaxis\":\"y5\",\"showlegend\":false},{\"line\":{\"color\":\"#3f3f3f\"},\"mode\":\"lines\",\"name\":\"ACF\",\"x\":[29,29],\"y\":[0,-0.09872422969000895],\"type\":\"scattergl\",\"xaxis\":\"x5\",\"yaxis\":\"y5\",\"showlegend\":false},{\"line\":{\"color\":\"#3f3f3f\"},\"mode\":\"lines\",\"name\":\"ACF\",\"x\":[30,30],\"y\":[0,-0.005513869329910138],\"type\":\"scattergl\",\"xaxis\":\"x5\",\"yaxis\":\"y5\",\"showlegend\":false},{\"line\":{\"color\":\"#3f3f3f\"},\"mode\":\"lines\",\"name\":\"ACF\",\"x\":[31,31],\"y\":[0,0.03447615660625195],\"type\":\"scattergl\",\"xaxis\":\"x5\",\"yaxis\":\"y5\",\"showlegend\":false},{\"line\":{\"color\":\"#3f3f3f\"},\"mode\":\"lines\",\"name\":\"ACF\",\"x\":[32,32],\"y\":[0,-0.10901423100749988],\"type\":\"scattergl\",\"xaxis\":\"x5\",\"yaxis\":\"y5\",\"showlegend\":false},{\"line\":{\"color\":\"#3f3f3f\"},\"mode\":\"lines\",\"name\":\"ACF\",\"x\":[33,33],\"y\":[0,0.021449025452185813],\"type\":\"scattergl\",\"xaxis\":\"x5\",\"yaxis\":\"y5\",\"showlegend\":false},{\"line\":{\"color\":\"#3f3f3f\"},\"mode\":\"lines\",\"name\":\"ACF\",\"x\":[34,34],\"y\":[0,0.050298047141151915],\"type\":\"scattergl\",\"xaxis\":\"x5\",\"yaxis\":\"y5\",\"showlegend\":false},{\"line\":{\"color\":\"#3f3f3f\"},\"mode\":\"lines\",\"name\":\"ACF\",\"x\":[35,35],\"y\":[0,-0.10488204503682831],\"type\":\"scattergl\",\"xaxis\":\"x5\",\"yaxis\":\"y5\",\"showlegend\":false},{\"line\":{\"color\":\"#3f3f3f\"},\"mode\":\"lines\",\"name\":\"ACF\",\"x\":[36,36],\"y\":[0,-0.06239192571185208],\"type\":\"scattergl\",\"xaxis\":\"x5\",\"yaxis\":\"y5\",\"showlegend\":false},{\"line\":{\"color\":\"#3f3f3f\"},\"mode\":\"lines\",\"name\":\"ACF\",\"x\":[37,37],\"y\":[0,0.1483679593932189],\"type\":\"scattergl\",\"xaxis\":\"x5\",\"yaxis\":\"y5\",\"showlegend\":false},{\"line\":{\"color\":\"#3f3f3f\"},\"mode\":\"lines\",\"name\":\"ACF\",\"x\":[38,38],\"y\":[0,-0.02400162377121688],\"type\":\"scattergl\",\"xaxis\":\"x5\",\"yaxis\":\"y5\",\"showlegend\":false},{\"line\":{\"color\":\"#3f3f3f\"},\"mode\":\"lines\",\"name\":\"ACF\",\"x\":[39,39],\"y\":[0,0.016134314842040778],\"type\":\"scattergl\",\"xaxis\":\"x5\",\"yaxis\":\"y5\",\"showlegend\":false},{\"line\":{\"color\":\"#3f3f3f\"},\"mode\":\"lines\",\"name\":\"ACF\",\"x\":[40,40],\"y\":[0,0.07987359664021289],\"type\":\"scattergl\",\"xaxis\":\"x5\",\"yaxis\":\"y5\",\"showlegend\":false},{\"marker\":{\"color\":\"#1f77b4\",\"size\":6},\"mode\":\"markers\",\"name\":\"ACF\",\"x\":[0,1,2,3,4,5,6,7,8,9,10,11,12,13,14,15,16,17,18,19,20,21,22,23,24,25,26,27,28,29,30,31,32,33,34,35,36,37,38,39,40],\"y\":[1.0,-0.0338439668511928,-0.060911214385865074,0.23958959383763526,-0.08479530916954182,-0.029296881383322135,0.086253997523455,0.07016170757343843,-0.15947843115936744,-0.01638892161622785,-0.019771711249603606,-0.08522925952811201,-0.10189959447323227,0.04721017131332212,0.05316089347930902,-0.14369579175156433,0.05276211564027902,0.011054808624658434,-0.03227349983914155,-0.03569129110224863,0.017498291128407017,0.07411414278780672,0.02150789953926802,0.013539413548465823,0.08170709793688036,-0.04374486289236029,-0.06241472191734553,0.06804684005102477,0.021251930034451555,-0.09872422969000895,-0.005513869329910138,0.03447615660625195,-0.10901423100749988,0.021449025452185813,0.050298047141151915,-0.10488204503682831,-0.06239192571185208,0.1483679593932189,-0.02400162377121688,0.016134314842040778,0.07987359664021289],\"type\":\"scattergl\",\"xaxis\":\"x5\",\"yaxis\":\"y5\",\"showlegend\":false},{\"line\":{\"color\":\"rgba(255,255,255,0)\"},\"mode\":\"lines\",\"name\":\"UC\",\"x\":[0,1,2,3,4,5,6,7,8,9,10,11,12,13,14,15,16,17,18,19,20,21,22,23,24,25,26,27,28,29,30,31,32,33,34,35,36,37,38,39,40],\"y\":[0.0,0.14690551157033652,0.1470736829556733,0.1476171011028323,0.15578340938641036,0.15677633516952616,0.15689444196899455,0.1579144829099941,0.15858580720334198,0.16200995348357466,0.16204572911355364,0.16209778350335638,0.1630620270570846,0.16443054229100446,0.16472280879666434,0.16509265375762447,0.16777015084213842,0.16812787076823438,0.16814355700135294,0.16827719055954013,0.1684404825116136,0.16847970818548813,0.16918185306163666,0.16924085179415196,0.1692642262061399,0.17011329459793428,0.17035588995464288,0.17084868395397412,0.1714325846152492,0.17148943161672575,0.172711629362214,0.1727154283050766,0.17286388374943565,0.1743412440889492,0.17439818445476568,0.1747109703674037,0.17606453565800667,0.17654104758029665,0.1792118268995378,0.17928118652300784,0.1793125197097733],\"type\":\"scatter\",\"xaxis\":\"x5\",\"yaxis\":\"y5\",\"showlegend\":false},{\"fill\":\"tonexty\",\"fillcolor\":\"rgba(32, 146, 230,0.3)\",\"line\":{\"color\":\"rgba(255,255,255,0)\"},\"mode\":\"lines\",\"name\":\"LC\",\"x\":[0,1,2,3,4,5,6,7,8,9,10,11,12,13,14,15,16,17,18,19,20,21,22,23,24,25,26,27,28,29,30,31,32,33,34,35,36,37,38,39,40],\"y\":[0.0,-0.14690551157033654,-0.1470736829556733,-0.14761710110283227,-0.1557834093864104,-0.15677633516952616,-0.15689444196899455,-0.1579144829099941,-0.15858580720334198,-0.16200995348357466,-0.16204572911355364,-0.1620977835033564,-0.1630620270570846,-0.16443054229100446,-0.16472280879666434,-0.1650926537576245,-0.16777015084213842,-0.16812787076823438,-0.16814355700135294,-0.16827719055954013,-0.1684404825116136,-0.16847970818548813,-0.16918185306163666,-0.16924085179415196,-0.1692642262061399,-0.17011329459793428,-0.17035588995464288,-0.17084868395397412,-0.1714325846152492,-0.17148943161672575,-0.172711629362214,-0.1727154283050766,-0.17286388374943565,-0.17434124408894913,-0.17439818445476568,-0.17471097036740374,-0.17606453565800667,-0.17654104758029668,-0.17921182689953774,-0.17928118652300784,-0.1793125197097733],\"type\":\"scatter\",\"xaxis\":\"x5\",\"yaxis\":\"y5\",\"showlegend\":false},{\"line\":{\"color\":\"#3f3f3f\"},\"mode\":\"lines\",\"name\":\"PACF\",\"x\":[0,0],\"y\":[0,1.0],\"type\":\"scattergl\",\"xaxis\":\"x6\",\"yaxis\":\"y6\",\"showlegend\":false},{\"line\":{\"color\":\"#3f3f3f\"},\"mode\":\"lines\",\"name\":\"PACF\",\"x\":[1,1],\"y\":[0,-0.03403517570345942],\"type\":\"scattergl\",\"xaxis\":\"x6\",\"yaxis\":\"y6\",\"showlegend\":false},{\"line\":{\"color\":\"#3f3f3f\"},\"mode\":\"lines\",\"name\":\"PACF\",\"x\":[2,2],\"y\":[0,-0.0628345675966757],\"type\":\"scattergl\",\"xaxis\":\"x6\",\"yaxis\":\"y6\",\"showlegend\":false},{\"line\":{\"color\":\"#3f3f3f\"},\"mode\":\"lines\",\"name\":\"PACF\",\"x\":[3,3],\"y\":[0,0.24055715545951353],\"type\":\"scattergl\",\"xaxis\":\"x6\",\"yaxis\":\"y6\",\"showlegend\":false},{\"line\":{\"color\":\"#3f3f3f\"},\"mode\":\"lines\",\"name\":\"PACF\",\"x\":[4,4],\"y\":[0,-0.08189268406517808],\"type\":\"scattergl\",\"xaxis\":\"x6\",\"yaxis\":\"y6\",\"showlegend\":false},{\"line\":{\"color\":\"#3f3f3f\"},\"mode\":\"lines\",\"name\":\"PACF\",\"x\":[5,5],\"y\":[0,-0.004364475673022245],\"type\":\"scattergl\",\"xaxis\":\"x6\",\"yaxis\":\"y6\",\"showlegend\":false},{\"line\":{\"color\":\"#3f3f3f\"},\"mode\":\"lines\",\"name\":\"PACF\",\"x\":[6,6],\"y\":[0,0.022434539393786417],\"type\":\"scattergl\",\"xaxis\":\"x6\",\"yaxis\":\"y6\",\"showlegend\":false},{\"line\":{\"color\":\"#3f3f3f\"},\"mode\":\"lines\",\"name\":\"PACF\",\"x\":[7,7],\"y\":[0,0.12022062732124983],\"type\":\"scattergl\",\"xaxis\":\"x6\",\"yaxis\":\"y6\",\"showlegend\":false},{\"line\":{\"color\":\"#3f3f3f\"},\"mode\":\"lines\",\"name\":\"PACF\",\"x\":[8,8],\"y\":[0,-0.17330371714105025],\"type\":\"scattergl\",\"xaxis\":\"x6\",\"yaxis\":\"y6\",\"showlegend\":false},{\"line\":{\"color\":\"#3f3f3f\"},\"mode\":\"lines\",\"name\":\"PACF\",\"x\":[9,9],\"y\":[0,-0.038433870090344616],\"type\":\"scattergl\",\"xaxis\":\"x6\",\"yaxis\":\"y6\",\"showlegend\":false},{\"line\":{\"color\":\"#3f3f3f\"},\"mode\":\"lines\",\"name\":\"PACF\",\"x\":[10,10],\"y\":[0,-0.08172600665952315],\"type\":\"scattergl\",\"xaxis\":\"x6\",\"yaxis\":\"y6\",\"showlegend\":false},{\"line\":{\"color\":\"#3f3f3f\"},\"mode\":\"lines\",\"name\":\"PACF\",\"x\":[11,11],\"y\":[0,0.006793569059499741],\"type\":\"scattergl\",\"xaxis\":\"x6\",\"yaxis\":\"y6\",\"showlegend\":false},{\"line\":{\"color\":\"#3f3f3f\"},\"mode\":\"lines\",\"name\":\"PACF\",\"x\":[12,12],\"y\":[0,-0.15588508127591832],\"type\":\"scattergl\",\"xaxis\":\"x6\",\"yaxis\":\"y6\",\"showlegend\":false},{\"line\":{\"color\":\"#3f3f3f\"},\"mode\":\"lines\",\"name\":\"PACF\",\"x\":[13,13],\"y\":[0,0.06531298340948748],\"type\":\"scattergl\",\"xaxis\":\"x6\",\"yaxis\":\"y6\",\"showlegend\":false},{\"line\":{\"color\":\"#3f3f3f\"},\"mode\":\"lines\",\"name\":\"PACF\",\"x\":[14,14],\"y\":[0,0.06850636564496453],\"type\":\"scattergl\",\"xaxis\":\"x6\",\"yaxis\":\"y6\",\"showlegend\":false},{\"line\":{\"color\":\"#3f3f3f\"},\"mode\":\"lines\",\"name\":\"PACF\",\"x\":[15,15],\"y\":[0,-0.0723387006637989],\"type\":\"scattergl\",\"xaxis\":\"x6\",\"yaxis\":\"y6\",\"showlegend\":false},{\"line\":{\"color\":\"#3f3f3f\"},\"mode\":\"lines\",\"name\":\"PACF\",\"x\":[16,16],\"y\":[0,-0.0052935394542506335],\"type\":\"scattergl\",\"xaxis\":\"x6\",\"yaxis\":\"y6\",\"showlegend\":false},{\"line\":{\"color\":\"#3f3f3f\"},\"mode\":\"lines\",\"name\":\"PACF\",\"x\":[17,17],\"y\":[0,-0.008136250577985154],\"type\":\"scattergl\",\"xaxis\":\"x6\",\"yaxis\":\"y6\",\"showlegend\":false},{\"line\":{\"color\":\"#3f3f3f\"},\"mode\":\"lines\",\"name\":\"PACF\",\"x\":[18,18],\"y\":[0,0.04984217146607415],\"type\":\"scattergl\",\"xaxis\":\"x6\",\"yaxis\":\"y6\",\"showlegend\":false},{\"line\":{\"color\":\"#3f3f3f\"},\"mode\":\"lines\",\"name\":\"PACF\",\"x\":[19,19],\"y\":[0,-0.10480498143483906],\"type\":\"scattergl\",\"xaxis\":\"x6\",\"yaxis\":\"y6\",\"showlegend\":false},{\"line\":{\"color\":\"#3f3f3f\"},\"mode\":\"lines\",\"name\":\"PACF\",\"x\":[20,20],\"y\":[0,-0.02882041840704257],\"type\":\"scattergl\",\"xaxis\":\"x6\",\"yaxis\":\"y6\",\"showlegend\":false},{\"line\":{\"color\":\"#3f3f3f\"},\"mode\":\"lines\",\"name\":\"PACF\",\"x\":[21,21],\"y\":[0,0.09466438795485058],\"type\":\"scattergl\",\"xaxis\":\"x6\",\"yaxis\":\"y6\",\"showlegend\":false},{\"line\":{\"color\":\"#3f3f3f\"},\"mode\":\"lines\",\"name\":\"PACF\",\"x\":[22,22],\"y\":[0,0.10242572087138145],\"type\":\"scattergl\",\"xaxis\":\"x6\",\"yaxis\":\"y6\",\"showlegend\":false},{\"marker\":{\"color\":\"#1f77b4\",\"size\":6},\"mode\":\"markers\",\"name\":\"PACF\",\"x\":[0,1,2,3,4,5,6,7,8,9,10,11,12,13,14,15,16,17,18,19,20,21,22],\"y\":[1.0,-0.03403517570345942,-0.0628345675966757,0.24055715545951353,-0.08189268406517808,-0.004364475673022245,0.022434539393786417,0.12022062732124983,-0.17330371714105025,-0.038433870090344616,-0.08172600665952315,0.006793569059499741,-0.15588508127591832,0.06531298340948748,0.06850636564496453,-0.0723387006637989,-0.0052935394542506335,-0.008136250577985154,0.04984217146607415,-0.10480498143483906,-0.02882041840704257,0.09466438795485058,0.10242572087138145],\"type\":\"scattergl\",\"xaxis\":\"x6\",\"yaxis\":\"y6\",\"showlegend\":false},{\"line\":{\"color\":\"rgba(255,255,255,0)\"},\"mode\":\"lines\",\"name\":\"UC\",\"x\":[0,1,2,3,4,5,6,7,8,9,10,11,12,13,14,15,16,17,18,19,20,21,22],\"y\":[0.0,0.14690551157033652,0.14690551157033652,0.14690551157033652,0.14690551157033652,0.14690551157033652,0.14690551157033652,0.1469055115703365,0.14690551157033652,0.14690551157033652,0.14690551157033652,0.14690551157033652,0.14690551157033652,0.1469055115703365,0.1469055115703365,0.14690551157033652,0.14690551157033652,0.14690551157033652,0.14690551157033652,0.14690551157033652,0.14690551157033652,0.14690551157033652,0.1469055115703365],\"type\":\"scatter\",\"xaxis\":\"x6\",\"yaxis\":\"y6\",\"showlegend\":false},{\"fill\":\"tonexty\",\"fillcolor\":\"rgba(32, 146, 230,0.3)\",\"line\":{\"color\":\"rgba(255,255,255,0)\"},\"mode\":\"lines\",\"name\":\"LC\",\"x\":[0,1,2,3,4,5,6,7,8,9,10,11,12,13,14,15,16,17,18,19,20,21,22],\"y\":[0.0,-0.1469055115703365,-0.1469055115703365,-0.14690551157033652,-0.14690551157033652,-0.14690551157033652,-0.14690551157033652,-0.14690551157033652,-0.14690551157033654,-0.14690551157033654,-0.14690551157033652,-0.14690551157033652,-0.14690551157033654,-0.14690551157033652,-0.14690551157033652,-0.14690551157033654,-0.14690551157033652,-0.14690551157033652,-0.14690551157033652,-0.1469055115703365,-0.14690551157033652,-0.14690551157033652,-0.14690551157033652],\"type\":\"scatter\",\"xaxis\":\"x6\",\"yaxis\":\"y6\",\"showlegend\":false}],                        {\"template\":{\"data\":{\"barpolar\":[{\"marker\":{\"line\":{\"color\":\"rgb(237,237,237)\",\"width\":0.5},\"pattern\":{\"fillmode\":\"overlay\",\"size\":10,\"solidity\":0.2}},\"type\":\"barpolar\"}],\"bar\":[{\"error_x\":{\"color\":\"rgb(51,51,51)\"},\"error_y\":{\"color\":\"rgb(51,51,51)\"},\"marker\":{\"line\":{\"color\":\"rgb(237,237,237)\",\"width\":0.5},\"pattern\":{\"fillmode\":\"overlay\",\"size\":10,\"solidity\":0.2}},\"type\":\"bar\"}],\"carpet\":[{\"aaxis\":{\"endlinecolor\":\"rgb(51,51,51)\",\"gridcolor\":\"white\",\"linecolor\":\"white\",\"minorgridcolor\":\"white\",\"startlinecolor\":\"rgb(51,51,51)\"},\"baxis\":{\"endlinecolor\":\"rgb(51,51,51)\",\"gridcolor\":\"white\",\"linecolor\":\"white\",\"minorgridcolor\":\"white\",\"startlinecolor\":\"rgb(51,51,51)\"},\"type\":\"carpet\"}],\"choropleth\":[{\"colorbar\":{\"outlinewidth\":0,\"tickcolor\":\"rgb(237,237,237)\",\"ticklen\":6,\"ticks\":\"inside\"},\"type\":\"choropleth\"}],\"contourcarpet\":[{\"colorbar\":{\"outlinewidth\":0,\"tickcolor\":\"rgb(237,237,237)\",\"ticklen\":6,\"ticks\":\"inside\"},\"type\":\"contourcarpet\"}],\"contour\":[{\"colorbar\":{\"outlinewidth\":0,\"tickcolor\":\"rgb(237,237,237)\",\"ticklen\":6,\"ticks\":\"inside\"},\"colorscale\":[[0,\"rgb(20,44,66)\"],[1,\"rgb(90,179,244)\"]],\"type\":\"contour\"}],\"heatmapgl\":[{\"colorbar\":{\"outlinewidth\":0,\"tickcolor\":\"rgb(237,237,237)\",\"ticklen\":6,\"ticks\":\"inside\"},\"colorscale\":[[0,\"rgb(20,44,66)\"],[1,\"rgb(90,179,244)\"]],\"type\":\"heatmapgl\"}],\"heatmap\":[{\"colorbar\":{\"outlinewidth\":0,\"tickcolor\":\"rgb(237,237,237)\",\"ticklen\":6,\"ticks\":\"inside\"},\"colorscale\":[[0,\"rgb(20,44,66)\"],[1,\"rgb(90,179,244)\"]],\"type\":\"heatmap\"}],\"histogram2dcontour\":[{\"colorbar\":{\"outlinewidth\":0,\"tickcolor\":\"rgb(237,237,237)\",\"ticklen\":6,\"ticks\":\"inside\"},\"colorscale\":[[0,\"rgb(20,44,66)\"],[1,\"rgb(90,179,244)\"]],\"type\":\"histogram2dcontour\"}],\"histogram2d\":[{\"colorbar\":{\"outlinewidth\":0,\"tickcolor\":\"rgb(237,237,237)\",\"ticklen\":6,\"ticks\":\"inside\"},\"colorscale\":[[0,\"rgb(20,44,66)\"],[1,\"rgb(90,179,244)\"]],\"type\":\"histogram2d\"}],\"histogram\":[{\"marker\":{\"pattern\":{\"fillmode\":\"overlay\",\"size\":10,\"solidity\":0.2}},\"type\":\"histogram\"}],\"mesh3d\":[{\"colorbar\":{\"outlinewidth\":0,\"tickcolor\":\"rgb(237,237,237)\",\"ticklen\":6,\"ticks\":\"inside\"},\"type\":\"mesh3d\"}],\"parcoords\":[{\"line\":{\"colorbar\":{\"outlinewidth\":0,\"tickcolor\":\"rgb(237,237,237)\",\"ticklen\":6,\"ticks\":\"inside\"}},\"type\":\"parcoords\"}],\"pie\":[{\"automargin\":true,\"type\":\"pie\"}],\"scatter3d\":[{\"line\":{\"colorbar\":{\"outlinewidth\":0,\"tickcolor\":\"rgb(237,237,237)\",\"ticklen\":6,\"ticks\":\"inside\"}},\"marker\":{\"colorbar\":{\"outlinewidth\":0,\"tickcolor\":\"rgb(237,237,237)\",\"ticklen\":6,\"ticks\":\"inside\"}},\"type\":\"scatter3d\"}],\"scattercarpet\":[{\"marker\":{\"colorbar\":{\"outlinewidth\":0,\"tickcolor\":\"rgb(237,237,237)\",\"ticklen\":6,\"ticks\":\"inside\"}},\"type\":\"scattercarpet\"}],\"scattergeo\":[{\"marker\":{\"colorbar\":{\"outlinewidth\":0,\"tickcolor\":\"rgb(237,237,237)\",\"ticklen\":6,\"ticks\":\"inside\"}},\"type\":\"scattergeo\"}],\"scattergl\":[{\"marker\":{\"colorbar\":{\"outlinewidth\":0,\"tickcolor\":\"rgb(237,237,237)\",\"ticklen\":6,\"ticks\":\"inside\"}},\"type\":\"scattergl\"}],\"scattermapbox\":[{\"marker\":{\"colorbar\":{\"outlinewidth\":0,\"tickcolor\":\"rgb(237,237,237)\",\"ticklen\":6,\"ticks\":\"inside\"}},\"type\":\"scattermapbox\"}],\"scatterpolargl\":[{\"marker\":{\"colorbar\":{\"outlinewidth\":0,\"tickcolor\":\"rgb(237,237,237)\",\"ticklen\":6,\"ticks\":\"inside\"}},\"type\":\"scatterpolargl\"}],\"scatterpolar\":[{\"marker\":{\"colorbar\":{\"outlinewidth\":0,\"tickcolor\":\"rgb(237,237,237)\",\"ticklen\":6,\"ticks\":\"inside\"}},\"type\":\"scatterpolar\"}],\"scatter\":[{\"fillpattern\":{\"fillmode\":\"overlay\",\"size\":10,\"solidity\":0.2},\"type\":\"scatter\"}],\"scatterternary\":[{\"marker\":{\"colorbar\":{\"outlinewidth\":0,\"tickcolor\":\"rgb(237,237,237)\",\"ticklen\":6,\"ticks\":\"inside\"}},\"type\":\"scatterternary\"}],\"surface\":[{\"colorbar\":{\"outlinewidth\":0,\"tickcolor\":\"rgb(237,237,237)\",\"ticklen\":6,\"ticks\":\"inside\"},\"colorscale\":[[0,\"rgb(20,44,66)\"],[1,\"rgb(90,179,244)\"]],\"type\":\"surface\"}],\"table\":[{\"cells\":{\"fill\":{\"color\":\"rgb(237,237,237)\"},\"line\":{\"color\":\"white\"}},\"header\":{\"fill\":{\"color\":\"rgb(217,217,217)\"},\"line\":{\"color\":\"white\"}},\"type\":\"table\"}]},\"layout\":{\"annotationdefaults\":{\"arrowhead\":0,\"arrowwidth\":1},\"autotypenumbers\":\"strict\",\"coloraxis\":{\"colorbar\":{\"outlinewidth\":0,\"tickcolor\":\"rgb(237,237,237)\",\"ticklen\":6,\"ticks\":\"inside\"}},\"colorscale\":{\"sequential\":[[0,\"rgb(20,44,66)\"],[1,\"rgb(90,179,244)\"]],\"sequentialminus\":[[0,\"rgb(20,44,66)\"],[1,\"rgb(90,179,244)\"]]},\"colorway\":[\"#F8766D\",\"#A3A500\",\"#00BF7D\",\"#00B0F6\",\"#E76BF3\"],\"font\":{\"color\":\"rgb(51,51,51)\"},\"geo\":{\"bgcolor\":\"white\",\"lakecolor\":\"white\",\"landcolor\":\"rgb(237,237,237)\",\"showlakes\":true,\"showland\":true,\"subunitcolor\":\"white\"},\"hoverlabel\":{\"align\":\"left\"},\"hovermode\":\"closest\",\"paper_bgcolor\":\"white\",\"plot_bgcolor\":\"rgb(237,237,237)\",\"polar\":{\"angularaxis\":{\"gridcolor\":\"white\",\"linecolor\":\"white\",\"showgrid\":true,\"tickcolor\":\"rgb(51,51,51)\",\"ticks\":\"outside\"},\"bgcolor\":\"rgb(237,237,237)\",\"radialaxis\":{\"gridcolor\":\"white\",\"linecolor\":\"white\",\"showgrid\":true,\"tickcolor\":\"rgb(51,51,51)\",\"ticks\":\"outside\"}},\"scene\":{\"xaxis\":{\"backgroundcolor\":\"rgb(237,237,237)\",\"gridcolor\":\"white\",\"gridwidth\":2,\"linecolor\":\"white\",\"showbackground\":true,\"showgrid\":true,\"tickcolor\":\"rgb(51,51,51)\",\"ticks\":\"outside\",\"zerolinecolor\":\"white\"},\"yaxis\":{\"backgroundcolor\":\"rgb(237,237,237)\",\"gridcolor\":\"white\",\"gridwidth\":2,\"linecolor\":\"white\",\"showbackground\":true,\"showgrid\":true,\"tickcolor\":\"rgb(51,51,51)\",\"ticks\":\"outside\",\"zerolinecolor\":\"white\"},\"zaxis\":{\"backgroundcolor\":\"rgb(237,237,237)\",\"gridcolor\":\"white\",\"gridwidth\":2,\"linecolor\":\"white\",\"showbackground\":true,\"showgrid\":true,\"tickcolor\":\"rgb(51,51,51)\",\"ticks\":\"outside\",\"zerolinecolor\":\"white\"}},\"shapedefaults\":{\"fillcolor\":\"black\",\"line\":{\"width\":0},\"opacity\":0.3},\"ternary\":{\"aaxis\":{\"gridcolor\":\"white\",\"linecolor\":\"white\",\"showgrid\":true,\"tickcolor\":\"rgb(51,51,51)\",\"ticks\":\"outside\"},\"baxis\":{\"gridcolor\":\"white\",\"linecolor\":\"white\",\"showgrid\":true,\"tickcolor\":\"rgb(51,51,51)\",\"ticks\":\"outside\"},\"bgcolor\":\"rgb(237,237,237)\",\"caxis\":{\"gridcolor\":\"white\",\"linecolor\":\"white\",\"showgrid\":true,\"tickcolor\":\"rgb(51,51,51)\",\"ticks\":\"outside\"}},\"xaxis\":{\"automargin\":true,\"gridcolor\":\"white\",\"linecolor\":\"white\",\"showgrid\":true,\"tickcolor\":\"rgb(51,51,51)\",\"ticks\":\"outside\",\"title\":{\"standoff\":15},\"zerolinecolor\":\"white\"},\"yaxis\":{\"automargin\":true,\"gridcolor\":\"white\",\"linecolor\":\"white\",\"showgrid\":true,\"tickcolor\":\"rgb(51,51,51)\",\"ticks\":\"outside\",\"title\":{\"standoff\":15},\"zerolinecolor\":\"white\"}}},\"xaxis\":{\"anchor\":\"y\",\"domain\":[0.0,0.45]},\"yaxis\":{\"anchor\":\"x\",\"domain\":[0.7777777777777779,1.0]},\"xaxis2\":{\"anchor\":\"y2\",\"domain\":[0.55,1.0],\"range\":[0,0.5]},\"yaxis2\":{\"anchor\":\"x2\",\"domain\":[0.7777777777777779,1.0]},\"xaxis3\":{\"anchor\":\"y3\",\"domain\":[0.0,0.45],\"title\":{\"text\":\"Range of Values\"}},\"yaxis3\":{\"anchor\":\"x3\",\"domain\":[0.38888888888888895,0.6111111111111112],\"title\":{\"text\":\"PDF\"}},\"xaxis4\":{\"anchor\":\"y4\",\"domain\":[0.55,1.0],\"title\":{\"text\":\"Theoretical Quantities\"}},\"yaxis4\":{\"anchor\":\"x4\",\"domain\":[0.38888888888888895,0.6111111111111112],\"title\":{\"text\":\"Sample Quantities\"}},\"xaxis5\":{\"anchor\":\"y5\",\"domain\":[0.0,0.45],\"range\":[-1,42]},\"yaxis5\":{\"anchor\":\"x5\",\"domain\":[0.0,0.22222222222222227],\"range\":[-1.1,1.1],\"zerolinecolor\":\"#000000\"},\"xaxis6\":{\"anchor\":\"y6\",\"domain\":[0.55,1.0],\"range\":[-1,24]},\"yaxis6\":{\"anchor\":\"x6\",\"domain\":[0.0,0.22222222222222227],\"range\":[-1.1,1.1],\"zerolinecolor\":\"#000000\"},\"annotations\":[{\"font\":{\"size\":16},\"showarrow\":false,\"text\":\"ARIMA Residuals\",\"x\":0.225,\"xanchor\":\"center\",\"xref\":\"paper\",\"y\":1.0,\"yanchor\":\"bottom\",\"yref\":\"paper\"},{\"font\":{\"size\":16},\"showarrow\":false,\"text\":\"Periodogram\",\"x\":0.775,\"xanchor\":\"center\",\"xref\":\"paper\",\"y\":1.0,\"yanchor\":\"bottom\",\"yref\":\"paper\"},{\"font\":{\"size\":16},\"showarrow\":false,\"text\":\"Histogram\",\"x\":0.225,\"xanchor\":\"center\",\"xref\":\"paper\",\"y\":0.6111111111111112,\"yanchor\":\"bottom\",\"yref\":\"paper\"},{\"font\":{\"size\":16},\"showarrow\":false,\"text\":\"Q-Q Plot\",\"x\":0.775,\"xanchor\":\"center\",\"xref\":\"paper\",\"y\":0.6111111111111112,\"yanchor\":\"bottom\",\"yref\":\"paper\"},{\"font\":{\"size\":16},\"showarrow\":false,\"text\":\"ACF\",\"x\":0.225,\"xanchor\":\"center\",\"xref\":\"paper\",\"y\":0.22222222222222227,\"yanchor\":\"bottom\",\"yref\":\"paper\"},{\"font\":{\"size\":16},\"showarrow\":false,\"text\":\"PACF\",\"x\":0.775,\"xanchor\":\"center\",\"xref\":\"paper\",\"y\":0.22222222222222227,\"yanchor\":\"bottom\",\"yref\":\"paper\"}],\"title\":{\"text\":\"Diagnostics | Model Residuals\"},\"showlegend\":false},                        {\"responsive\": true}                    ).then(function(){\n",
              "                            \n",
              "var gd = document.getElementById('ed33a35e-a572-4fb0-8d1d-69e43f58f698');\n",
              "var x = new MutationObserver(function (mutations, observer) {{\n",
              "        var display = window.getComputedStyle(gd).display;\n",
              "        if (!display || display === 'none') {{\n",
              "            console.log([gd, 'removed!']);\n",
              "            Plotly.purge(gd);\n",
              "            observer.disconnect();\n",
              "        }}\n",
              "}});\n",
              "\n",
              "// Listen for the removal of the full notebook cells\n",
              "var notebookContainer = gd.closest('#notebook-container');\n",
              "if (notebookContainer) {{\n",
              "    x.observe(notebookContainer, {childList: true});\n",
              "}}\n",
              "\n",
              "// Listen for the clearing of the current output cell\n",
              "var outputEl = gd.closest('.output');\n",
              "if (outputEl) {{\n",
              "    x.observe(outputEl, {childList: true});\n",
              "}}\n",
              "\n",
              "                        })                };                            </script>        </div>\n",
              "</body>\n",
              "</html>"
            ]
          },
          "metadata": {}
        }
      ]
    },
    {
      "cell_type": "code",
      "source": [
        "exp.check_stats(arima111, test = 'adf')"
      ],
      "metadata": {
        "colab": {
          "base_uri": "https://localhost:8080/",
          "height": 237
        },
        "id": "X2HcfYqTfeE3",
        "outputId": "8764cc3d-8441-4e82-a562-b75bd21f4082"
      },
      "execution_count": null,
      "outputs": [
        {
          "output_type": "execute_result",
          "data": {
            "text/plain": [
              "           Test Test Name      Data            Property          Setting  \\\n",
              "0  Stationarity       ADF  Residual        Stationarity  {'alpha': 0.05}   \n",
              "1  Stationarity       ADF  Residual             p-value  {'alpha': 0.05}   \n",
              "2  Stationarity       ADF  Residual      Test Statistic  {'alpha': 0.05}   \n",
              "3  Stationarity       ADF  Residual   Critical Value 1%  {'alpha': 0.05}   \n",
              "4  Stationarity       ADF  Residual   Critical Value 5%  {'alpha': 0.05}   \n",
              "5  Stationarity       ADF  Residual  Critical Value 10%  {'alpha': 0.05}   \n",
              "\n",
              "      Value  \n",
              "0      True  \n",
              "1       0.0  \n",
              "2 -6.338817  \n",
              "3  -3.46828  \n",
              "4 -2.878202  \n",
              "5 -2.575653  "
            ],
            "text/html": [
              "\n",
              "  <div id=\"df-1b36f715-673e-4642-b3af-e7900e2c1c56\" class=\"colab-df-container\">\n",
              "    <div>\n",
              "<style scoped>\n",
              "    .dataframe tbody tr th:only-of-type {\n",
              "        vertical-align: middle;\n",
              "    }\n",
              "\n",
              "    .dataframe tbody tr th {\n",
              "        vertical-align: top;\n",
              "    }\n",
              "\n",
              "    .dataframe thead th {\n",
              "        text-align: right;\n",
              "    }\n",
              "</style>\n",
              "<table border=\"1\" class=\"dataframe\">\n",
              "  <thead>\n",
              "    <tr style=\"text-align: right;\">\n",
              "      <th></th>\n",
              "      <th>Test</th>\n",
              "      <th>Test Name</th>\n",
              "      <th>Data</th>\n",
              "      <th>Property</th>\n",
              "      <th>Setting</th>\n",
              "      <th>Value</th>\n",
              "    </tr>\n",
              "  </thead>\n",
              "  <tbody>\n",
              "    <tr>\n",
              "      <th>0</th>\n",
              "      <td>Stationarity</td>\n",
              "      <td>ADF</td>\n",
              "      <td>Residual</td>\n",
              "      <td>Stationarity</td>\n",
              "      <td>{'alpha': 0.05}</td>\n",
              "      <td>True</td>\n",
              "    </tr>\n",
              "    <tr>\n",
              "      <th>1</th>\n",
              "      <td>Stationarity</td>\n",
              "      <td>ADF</td>\n",
              "      <td>Residual</td>\n",
              "      <td>p-value</td>\n",
              "      <td>{'alpha': 0.05}</td>\n",
              "      <td>0.0</td>\n",
              "    </tr>\n",
              "    <tr>\n",
              "      <th>2</th>\n",
              "      <td>Stationarity</td>\n",
              "      <td>ADF</td>\n",
              "      <td>Residual</td>\n",
              "      <td>Test Statistic</td>\n",
              "      <td>{'alpha': 0.05}</td>\n",
              "      <td>-6.338817</td>\n",
              "    </tr>\n",
              "    <tr>\n",
              "      <th>3</th>\n",
              "      <td>Stationarity</td>\n",
              "      <td>ADF</td>\n",
              "      <td>Residual</td>\n",
              "      <td>Critical Value 1%</td>\n",
              "      <td>{'alpha': 0.05}</td>\n",
              "      <td>-3.46828</td>\n",
              "    </tr>\n",
              "    <tr>\n",
              "      <th>4</th>\n",
              "      <td>Stationarity</td>\n",
              "      <td>ADF</td>\n",
              "      <td>Residual</td>\n",
              "      <td>Critical Value 5%</td>\n",
              "      <td>{'alpha': 0.05}</td>\n",
              "      <td>-2.878202</td>\n",
              "    </tr>\n",
              "    <tr>\n",
              "      <th>5</th>\n",
              "      <td>Stationarity</td>\n",
              "      <td>ADF</td>\n",
              "      <td>Residual</td>\n",
              "      <td>Critical Value 10%</td>\n",
              "      <td>{'alpha': 0.05}</td>\n",
              "      <td>-2.575653</td>\n",
              "    </tr>\n",
              "  </tbody>\n",
              "</table>\n",
              "</div>\n",
              "    <div class=\"colab-df-buttons\">\n",
              "\n",
              "  <div class=\"colab-df-container\">\n",
              "    <button class=\"colab-df-convert\" onclick=\"convertToInteractive('df-1b36f715-673e-4642-b3af-e7900e2c1c56')\"\n",
              "            title=\"Convert this dataframe to an interactive table.\"\n",
              "            style=\"display:none;\">\n",
              "\n",
              "  <svg xmlns=\"http://www.w3.org/2000/svg\" height=\"24px\" viewBox=\"0 -960 960 960\">\n",
              "    <path d=\"M120-120v-720h720v720H120Zm60-500h600v-160H180v160Zm220 220h160v-160H400v160Zm0 220h160v-160H400v160ZM180-400h160v-160H180v160Zm440 0h160v-160H620v160ZM180-180h160v-160H180v160Zm440 0h160v-160H620v160Z\"/>\n",
              "  </svg>\n",
              "    </button>\n",
              "\n",
              "  <style>\n",
              "    .colab-df-container {\n",
              "      display:flex;\n",
              "      gap: 12px;\n",
              "    }\n",
              "\n",
              "    .colab-df-convert {\n",
              "      background-color: #E8F0FE;\n",
              "      border: none;\n",
              "      border-radius: 50%;\n",
              "      cursor: pointer;\n",
              "      display: none;\n",
              "      fill: #1967D2;\n",
              "      height: 32px;\n",
              "      padding: 0 0 0 0;\n",
              "      width: 32px;\n",
              "    }\n",
              "\n",
              "    .colab-df-convert:hover {\n",
              "      background-color: #E2EBFA;\n",
              "      box-shadow: 0px 1px 2px rgba(60, 64, 67, 0.3), 0px 1px 3px 1px rgba(60, 64, 67, 0.15);\n",
              "      fill: #174EA6;\n",
              "    }\n",
              "\n",
              "    .colab-df-buttons div {\n",
              "      margin-bottom: 4px;\n",
              "    }\n",
              "\n",
              "    [theme=dark] .colab-df-convert {\n",
              "      background-color: #3B4455;\n",
              "      fill: #D2E3FC;\n",
              "    }\n",
              "\n",
              "    [theme=dark] .colab-df-convert:hover {\n",
              "      background-color: #434B5C;\n",
              "      box-shadow: 0px 1px 3px 1px rgba(0, 0, 0, 0.15);\n",
              "      filter: drop-shadow(0px 1px 2px rgba(0, 0, 0, 0.3));\n",
              "      fill: #FFFFFF;\n",
              "    }\n",
              "  </style>\n",
              "\n",
              "    <script>\n",
              "      const buttonEl =\n",
              "        document.querySelector('#df-1b36f715-673e-4642-b3af-e7900e2c1c56 button.colab-df-convert');\n",
              "      buttonEl.style.display =\n",
              "        google.colab.kernel.accessAllowed ? 'block' : 'none';\n",
              "\n",
              "      async function convertToInteractive(key) {\n",
              "        const element = document.querySelector('#df-1b36f715-673e-4642-b3af-e7900e2c1c56');\n",
              "        const dataTable =\n",
              "          await google.colab.kernel.invokeFunction('convertToInteractive',\n",
              "                                                    [key], {});\n",
              "        if (!dataTable) return;\n",
              "\n",
              "        const docLinkHtml = 'Like what you see? Visit the ' +\n",
              "          '<a target=\"_blank\" href=https://colab.research.google.com/notebooks/data_table.ipynb>data table notebook</a>'\n",
              "          + ' to learn more about interactive tables.';\n",
              "        element.innerHTML = '';\n",
              "        dataTable['output_type'] = 'display_data';\n",
              "        await google.colab.output.renderOutput(dataTable, element);\n",
              "        const docLink = document.createElement('div');\n",
              "        docLink.innerHTML = docLinkHtml;\n",
              "        element.appendChild(docLink);\n",
              "      }\n",
              "    </script>\n",
              "  </div>\n",
              "\n",
              "\n",
              "<div id=\"df-d327304f-79c1-46e7-ab3d-a649cf9cc6ce\">\n",
              "  <button class=\"colab-df-quickchart\" onclick=\"quickchart('df-d327304f-79c1-46e7-ab3d-a649cf9cc6ce')\"\n",
              "            title=\"Suggest charts\"\n",
              "            style=\"display:none;\">\n",
              "\n",
              "<svg xmlns=\"http://www.w3.org/2000/svg\" height=\"24px\"viewBox=\"0 0 24 24\"\n",
              "     width=\"24px\">\n",
              "    <g>\n",
              "        <path d=\"M19 3H5c-1.1 0-2 .9-2 2v14c0 1.1.9 2 2 2h14c1.1 0 2-.9 2-2V5c0-1.1-.9-2-2-2zM9 17H7v-7h2v7zm4 0h-2V7h2v10zm4 0h-2v-4h2v4z\"/>\n",
              "    </g>\n",
              "</svg>\n",
              "  </button>\n",
              "\n",
              "<style>\n",
              "  .colab-df-quickchart {\n",
              "      --bg-color: #E8F0FE;\n",
              "      --fill-color: #1967D2;\n",
              "      --hover-bg-color: #E2EBFA;\n",
              "      --hover-fill-color: #174EA6;\n",
              "      --disabled-fill-color: #AAA;\n",
              "      --disabled-bg-color: #DDD;\n",
              "  }\n",
              "\n",
              "  [theme=dark] .colab-df-quickchart {\n",
              "      --bg-color: #3B4455;\n",
              "      --fill-color: #D2E3FC;\n",
              "      --hover-bg-color: #434B5C;\n",
              "      --hover-fill-color: #FFFFFF;\n",
              "      --disabled-bg-color: #3B4455;\n",
              "      --disabled-fill-color: #666;\n",
              "  }\n",
              "\n",
              "  .colab-df-quickchart {\n",
              "    background-color: var(--bg-color);\n",
              "    border: none;\n",
              "    border-radius: 50%;\n",
              "    cursor: pointer;\n",
              "    display: none;\n",
              "    fill: var(--fill-color);\n",
              "    height: 32px;\n",
              "    padding: 0;\n",
              "    width: 32px;\n",
              "  }\n",
              "\n",
              "  .colab-df-quickchart:hover {\n",
              "    background-color: var(--hover-bg-color);\n",
              "    box-shadow: 0 1px 2px rgba(60, 64, 67, 0.3), 0 1px 3px 1px rgba(60, 64, 67, 0.15);\n",
              "    fill: var(--button-hover-fill-color);\n",
              "  }\n",
              "\n",
              "  .colab-df-quickchart-complete:disabled,\n",
              "  .colab-df-quickchart-complete:disabled:hover {\n",
              "    background-color: var(--disabled-bg-color);\n",
              "    fill: var(--disabled-fill-color);\n",
              "    box-shadow: none;\n",
              "  }\n",
              "\n",
              "  .colab-df-spinner {\n",
              "    border: 2px solid var(--fill-color);\n",
              "    border-color: transparent;\n",
              "    border-bottom-color: var(--fill-color);\n",
              "    animation:\n",
              "      spin 1s steps(1) infinite;\n",
              "  }\n",
              "\n",
              "  @keyframes spin {\n",
              "    0% {\n",
              "      border-color: transparent;\n",
              "      border-bottom-color: var(--fill-color);\n",
              "      border-left-color: var(--fill-color);\n",
              "    }\n",
              "    20% {\n",
              "      border-color: transparent;\n",
              "      border-left-color: var(--fill-color);\n",
              "      border-top-color: var(--fill-color);\n",
              "    }\n",
              "    30% {\n",
              "      border-color: transparent;\n",
              "      border-left-color: var(--fill-color);\n",
              "      border-top-color: var(--fill-color);\n",
              "      border-right-color: var(--fill-color);\n",
              "    }\n",
              "    40% {\n",
              "      border-color: transparent;\n",
              "      border-right-color: var(--fill-color);\n",
              "      border-top-color: var(--fill-color);\n",
              "    }\n",
              "    60% {\n",
              "      border-color: transparent;\n",
              "      border-right-color: var(--fill-color);\n",
              "    }\n",
              "    80% {\n",
              "      border-color: transparent;\n",
              "      border-right-color: var(--fill-color);\n",
              "      border-bottom-color: var(--fill-color);\n",
              "    }\n",
              "    90% {\n",
              "      border-color: transparent;\n",
              "      border-bottom-color: var(--fill-color);\n",
              "    }\n",
              "  }\n",
              "</style>\n",
              "\n",
              "  <script>\n",
              "    async function quickchart(key) {\n",
              "      const quickchartButtonEl =\n",
              "        document.querySelector('#' + key + ' button');\n",
              "      quickchartButtonEl.disabled = true;  // To prevent multiple clicks.\n",
              "      quickchartButtonEl.classList.add('colab-df-spinner');\n",
              "      try {\n",
              "        const charts = await google.colab.kernel.invokeFunction(\n",
              "            'suggestCharts', [key], {});\n",
              "      } catch (error) {\n",
              "        console.error('Error during call to suggestCharts:', error);\n",
              "      }\n",
              "      quickchartButtonEl.classList.remove('colab-df-spinner');\n",
              "      quickchartButtonEl.classList.add('colab-df-quickchart-complete');\n",
              "    }\n",
              "    (() => {\n",
              "      let quickchartButtonEl =\n",
              "        document.querySelector('#df-d327304f-79c1-46e7-ab3d-a649cf9cc6ce button');\n",
              "      quickchartButtonEl.style.display =\n",
              "        google.colab.kernel.accessAllowed ? 'block' : 'none';\n",
              "    })();\n",
              "  </script>\n",
              "</div>\n",
              "\n",
              "    </div>\n",
              "  </div>\n"
            ],
            "application/vnd.google.colaboratory.intrinsic+json": {
              "type": "dataframe",
              "summary": "{\n  \"name\": \"exp\",\n  \"rows\": 6,\n  \"fields\": [\n    {\n      \"column\": \"Test\",\n      \"properties\": {\n        \"dtype\": \"category\",\n        \"num_unique_values\": 1,\n        \"samples\": [\n          \"Stationarity\"\n        ],\n        \"semantic_type\": \"\",\n        \"description\": \"\"\n      }\n    },\n    {\n      \"column\": \"Test Name\",\n      \"properties\": {\n        \"dtype\": \"category\",\n        \"num_unique_values\": 1,\n        \"samples\": [\n          \"ADF\"\n        ],\n        \"semantic_type\": \"\",\n        \"description\": \"\"\n      }\n    },\n    {\n      \"column\": \"Data\",\n      \"properties\": {\n        \"dtype\": \"category\",\n        \"num_unique_values\": 1,\n        \"samples\": [\n          \"Residual\"\n        ],\n        \"semantic_type\": \"\",\n        \"description\": \"\"\n      }\n    },\n    {\n      \"column\": \"Property\",\n      \"properties\": {\n        \"dtype\": \"string\",\n        \"num_unique_values\": 6,\n        \"samples\": [\n          \"Stationarity\"\n        ],\n        \"semantic_type\": \"\",\n        \"description\": \"\"\n      }\n    },\n    {\n      \"column\": \"Setting\",\n      \"properties\": {\n        \"dtype\": \"object\",\n        \"semantic_type\": \"\",\n        \"description\": \"\"\n      }\n    },\n    {\n      \"column\": \"Value\",\n      \"properties\": {\n        \"dtype\": \"string\",\n        \"num_unique_values\": 6,\n        \"samples\": [\n          true\n        ],\n        \"semantic_type\": \"\",\n        \"description\": \"\"\n      }\n    }\n  ]\n}"
            }
          },
          "metadata": {},
          "execution_count": 18
        }
      ]
    },
    {
      "cell_type": "markdown",
      "source": [
        "The residuals are stationry. The p-val for the adf test is 0.0, which is below our .05 significance threshold."
      ],
      "metadata": {
        "id": "AdN4tOTwfyzP"
      }
    },
    {
      "cell_type": "markdown",
      "source": [
        "## Question 2\n",
        "### 1"
      ],
      "metadata": {
        "id": "IywLBnZQa4MB"
      }
    },
    {
      "cell_type": "code",
      "source": [
        "auto_arima = exp.create_model('auto_arima', cross_validation=False, information_criterion='aic', start_p=0, start_q=0, max_p=2, max_q=2, seasonal=True, stepwise=False)\n",
        "auto_ets = exp.create_model('ets', cross_validation=False)"
      ],
      "metadata": {
        "colab": {
          "base_uri": "https://localhost:8080/",
          "height": 144,
          "referenced_widgets": [
            "de7a923ebaf04c2bac73891c5042e8e0",
            "fd60727bea41492ca67d89da17a89b6d",
            "7d4212aa1b0b41dea1a93a2453d95d92",
            "c87073c030f7480a94e52a346ac449f5",
            "a94ae21aa4cd459a92b031854553068e",
            "ffaf3867b247423a925822f25a22841a",
            "e1f2b40c39fb44e2a91c2ee6d80571a3",
            "fd92529ac6684cfa947872e1c0327063",
            "ed60d82a530148ccb1df3bf0216c2f19",
            "5765593985f0488fb5123ba1a14b6db4",
            "1b15be741c0543a4bc1ac1e7843616a0",
            "c058d3961c9a4e8aad740a7170eb2387",
            "6a8587ba351f441d8c72890f497a359c",
            "4c04a50d3bea4a3aa393dc8d4316e0aa",
            "d7c12ab7ae0a433580d967f2f166388d",
            "272c31a5dbfb43869747b0203a7c5858",
            "3da808fe3b144eecb0528eaf47cc1d98",
            "c1014a1fe2ec4c118ef382c40322b0ad",
            "4b0edefa90674471aa0d3c93b8acc65e",
            "d36740aaccdb4319a1ffac919f0334af",
            "ba5969b73482467fba15ab03c13929e7",
            "0308d7ad0d4a43f291e274af15eb3f38"
          ]
        },
        "id": "ZixxzEAjcFij",
        "outputId": "afbdee88-e5b1-4ec4-af79-bfcf0269f2d5"
      },
      "execution_count": null,
      "outputs": [
        {
          "output_type": "display_data",
          "data": {
            "text/plain": [
              "<IPython.core.display.HTML object>"
            ],
            "text/html": []
          },
          "metadata": {}
        },
        {
          "output_type": "display_data",
          "data": {
            "text/plain": [
              "<pandas.io.formats.style.Styler at 0x7f2cdf4d5710>"
            ],
            "text/html": [
              "<style type=\"text/css\">\n",
              "</style>\n",
              "<table id=\"T_55da2\" class=\"dataframe\">\n",
              "  <thead>\n",
              "    <tr>\n",
              "      <th class=\"blank level0\" >&nbsp;</th>\n",
              "      <th id=\"T_55da2_level0_col0\" class=\"col_heading level0 col0\" >MASE</th>\n",
              "      <th id=\"T_55da2_level0_col1\" class=\"col_heading level0 col1\" >RMSSE</th>\n",
              "      <th id=\"T_55da2_level0_col2\" class=\"col_heading level0 col2\" >MAE</th>\n",
              "      <th id=\"T_55da2_level0_col3\" class=\"col_heading level0 col3\" >RMSE</th>\n",
              "      <th id=\"T_55da2_level0_col4\" class=\"col_heading level0 col4\" >MAPE</th>\n",
              "      <th id=\"T_55da2_level0_col5\" class=\"col_heading level0 col5\" >SMAPE</th>\n",
              "      <th id=\"T_55da2_level0_col6\" class=\"col_heading level0 col6\" >R2</th>\n",
              "    </tr>\n",
              "  </thead>\n",
              "  <tbody>\n",
              "    <tr>\n",
              "      <th id=\"T_55da2_level0_row0\" class=\"row_heading level0 row0\" >Test</th>\n",
              "      <td id=\"T_55da2_row0_col0\" class=\"data row0 col0\" >2.3312</td>\n",
              "      <td id=\"T_55da2_row0_col1\" class=\"data row0 col1\" >2.2491</td>\n",
              "      <td id=\"T_55da2_row0_col2\" class=\"data row0 col2\" >6.1501</td>\n",
              "      <td id=\"T_55da2_row0_col3\" class=\"data row0 col3\" >7.0761</td>\n",
              "      <td id=\"T_55da2_row0_col4\" class=\"data row0 col4\" >0.0296</td>\n",
              "      <td id=\"T_55da2_row0_col5\" class=\"data row0 col5\" >0.0301</td>\n",
              "      <td id=\"T_55da2_row0_col6\" class=\"data row0 col6\" >0.4940</td>\n",
              "    </tr>\n",
              "  </tbody>\n",
              "</table>\n"
            ]
          },
          "metadata": {}
        },
        {
          "output_type": "display_data",
          "data": {
            "text/plain": [
              "Processing:   0%|          | 0/4 [00:00<?, ?it/s]"
            ],
            "application/vnd.jupyter.widget-view+json": {
              "version_major": 2,
              "version_minor": 0,
              "model_id": "de7a923ebaf04c2bac73891c5042e8e0"
            }
          },
          "metadata": {
            "application/vnd.jupyter.widget-view+json": {
              "colab": {
                "custom_widget_manager": {
                  "url": "https://ssl.gstatic.com/colaboratory-static/widgets/colab-cdn-widget-manager/2b70e893a8ba7c0f/manager.min.js"
                }
              }
            }
          }
        },
        {
          "output_type": "display_data",
          "data": {
            "text/plain": [
              "<IPython.core.display.HTML object>"
            ],
            "text/html": []
          },
          "metadata": {}
        },
        {
          "output_type": "display_data",
          "data": {
            "text/plain": [
              "<IPython.core.display.HTML object>"
            ],
            "text/html": []
          },
          "metadata": {}
        },
        {
          "output_type": "display_data",
          "data": {
            "text/plain": [
              "<pandas.io.formats.style.Styler at 0x7f2cdc978650>"
            ],
            "text/html": [
              "<style type=\"text/css\">\n",
              "</style>\n",
              "<table id=\"T_fb728\" class=\"dataframe\">\n",
              "  <thead>\n",
              "    <tr>\n",
              "      <th class=\"blank level0\" >&nbsp;</th>\n",
              "      <th id=\"T_fb728_level0_col0\" class=\"col_heading level0 col0\" >MASE</th>\n",
              "      <th id=\"T_fb728_level0_col1\" class=\"col_heading level0 col1\" >RMSSE</th>\n",
              "      <th id=\"T_fb728_level0_col2\" class=\"col_heading level0 col2\" >MAE</th>\n",
              "      <th id=\"T_fb728_level0_col3\" class=\"col_heading level0 col3\" >RMSE</th>\n",
              "      <th id=\"T_fb728_level0_col4\" class=\"col_heading level0 col4\" >MAPE</th>\n",
              "      <th id=\"T_fb728_level0_col5\" class=\"col_heading level0 col5\" >SMAPE</th>\n",
              "      <th id=\"T_fb728_level0_col6\" class=\"col_heading level0 col6\" >R2</th>\n",
              "    </tr>\n",
              "  </thead>\n",
              "  <tbody>\n",
              "    <tr>\n",
              "      <th id=\"T_fb728_level0_row0\" class=\"row_heading level0 row0\" >Test</th>\n",
              "      <td id=\"T_fb728_row0_col0\" class=\"data row0 col0\" >2.8143</td>\n",
              "      <td id=\"T_fb728_row0_col1\" class=\"data row0 col1\" >2.7095</td>\n",
              "      <td id=\"T_fb728_row0_col2\" class=\"data row0 col2\" >7.4246</td>\n",
              "      <td id=\"T_fb728_row0_col3\" class=\"data row0 col3\" >8.5244</td>\n",
              "      <td id=\"T_fb728_row0_col4\" class=\"data row0 col4\" >0.0356</td>\n",
              "      <td id=\"T_fb728_row0_col5\" class=\"data row0 col5\" >0.0365</td>\n",
              "      <td id=\"T_fb728_row0_col6\" class=\"data row0 col6\" >0.2657</td>\n",
              "    </tr>\n",
              "  </tbody>\n",
              "</table>\n"
            ]
          },
          "metadata": {}
        },
        {
          "output_type": "display_data",
          "data": {
            "text/plain": [
              "Processing:   0%|          | 0/4 [00:00<?, ?it/s]"
            ],
            "application/vnd.jupyter.widget-view+json": {
              "version_major": 2,
              "version_minor": 0,
              "model_id": "0308d7ad0d4a43f291e274af15eb3f38"
            }
          },
          "metadata": {
            "application/vnd.jupyter.widget-view+json": {
              "colab": {
                "custom_widget_manager": {
                  "url": "https://ssl.gstatic.com/colaboratory-static/widgets/colab-cdn-widget-manager/2b70e893a8ba7c0f/manager.min.js"
                }
              }
            }
          }
        },
        {
          "output_type": "display_data",
          "data": {
            "text/plain": [
              "<IPython.core.display.HTML object>"
            ],
            "text/html": []
          },
          "metadata": {}
        }
      ]
    },
    {
      "cell_type": "markdown",
      "source": [
        "### 2"
      ],
      "metadata": {
        "id": "q9AEY1cLPJg8"
      }
    },
    {
      "cell_type": "code",
      "source": [
        "my_models = [auto_ets, auto_arima, sarima1110104]\n",
        "my_model_lables = ['Auto ETS', 'Auto ARIMA', 'SARIMA(1,1,1)(0,1,0,4)']"
      ],
      "metadata": {
        "id": "QkEuOr0Ldzd-"
      },
      "execution_count": null,
      "outputs": []
    },
    {
      "cell_type": "code",
      "source": [
        "exp.compare_models(my_models, cross_validation=False)"
      ],
      "metadata": {
        "colab": {
          "base_uri": "https://localhost:8080/",
          "height": 217,
          "referenced_widgets": [
            "b0e5510a451a4d4d8f0aa8957064eb02",
            "8a279112d2e04e15a34df7442afd9b2b",
            "1c12d0f363e94cd380620f51766723ad",
            "a3c6c66fbcbe4d2f9499fbe5ce37b3b6",
            "65bc7388fb89421c9c53f6793dde545e",
            "4f81827cad124fd3932c546ac2d4cc9b",
            "01403f855b2b40b8ad6fd7b9d2d31a10",
            "3613c635476243fdb800cf5bd7148d68",
            "ddd33e89e5624a42800fcb9167a25828",
            "d9ff9e2d9c0c4c2a9974a1248cd5a2fd",
            "92592e0504d04a5eb06430b47f609620"
          ]
        },
        "id": "JjnVv_eOd8oX",
        "outputId": "65578d2a-66ae-463e-f85a-332a67135de7"
      },
      "execution_count": null,
      "outputs": [
        {
          "output_type": "display_data",
          "data": {
            "text/plain": [
              "<IPython.core.display.HTML object>"
            ],
            "text/html": []
          },
          "metadata": {}
        },
        {
          "output_type": "display_data",
          "data": {
            "text/plain": [
              "<pandas.io.formats.style.Styler at 0x7f2cdc754910>"
            ],
            "text/html": [
              "<style type=\"text/css\">\n",
              "#T_54962 th {\n",
              "  text-align: left;\n",
              "}\n",
              "#T_54962_row0_col0, #T_54962_row1_col0, #T_54962_row1_col1, #T_54962_row1_col2, #T_54962_row1_col3, #T_54962_row1_col4, #T_54962_row1_col5, #T_54962_row1_col6, #T_54962_row1_col7, #T_54962_row2_col0, #T_54962_row2_col1, #T_54962_row2_col2, #T_54962_row2_col3, #T_54962_row2_col4, #T_54962_row2_col5, #T_54962_row2_col6, #T_54962_row2_col7 {\n",
              "  text-align: left;\n",
              "}\n",
              "#T_54962_row0_col1, #T_54962_row0_col2, #T_54962_row0_col3, #T_54962_row0_col4, #T_54962_row0_col5, #T_54962_row0_col6, #T_54962_row0_col7 {\n",
              "  text-align: left;\n",
              "  background-color: yellow;\n",
              "}\n",
              "#T_54962_row0_col8, #T_54962_row1_col8 {\n",
              "  text-align: left;\n",
              "  background-color: lightgrey;\n",
              "}\n",
              "#T_54962_row2_col8 {\n",
              "  text-align: left;\n",
              "  background-color: yellow;\n",
              "  background-color: lightgrey;\n",
              "}\n",
              "</style>\n",
              "<table id=\"T_54962\" class=\"dataframe\">\n",
              "  <thead>\n",
              "    <tr>\n",
              "      <th class=\"blank level0\" >&nbsp;</th>\n",
              "      <th id=\"T_54962_level0_col0\" class=\"col_heading level0 col0\" >Model</th>\n",
              "      <th id=\"T_54962_level0_col1\" class=\"col_heading level0 col1\" >MASE</th>\n",
              "      <th id=\"T_54962_level0_col2\" class=\"col_heading level0 col2\" >RMSSE</th>\n",
              "      <th id=\"T_54962_level0_col3\" class=\"col_heading level0 col3\" >MAE</th>\n",
              "      <th id=\"T_54962_level0_col4\" class=\"col_heading level0 col4\" >RMSE</th>\n",
              "      <th id=\"T_54962_level0_col5\" class=\"col_heading level0 col5\" >MAPE</th>\n",
              "      <th id=\"T_54962_level0_col6\" class=\"col_heading level0 col6\" >SMAPE</th>\n",
              "      <th id=\"T_54962_level0_col7\" class=\"col_heading level0 col7\" >R2</th>\n",
              "      <th id=\"T_54962_level0_col8\" class=\"col_heading level0 col8\" >TT (Sec)</th>\n",
              "    </tr>\n",
              "  </thead>\n",
              "  <tbody>\n",
              "    <tr>\n",
              "      <th id=\"T_54962_level0_row0\" class=\"row_heading level0 row0\" >1</th>\n",
              "      <td id=\"T_54962_row0_col0\" class=\"data row0 col0\" >Auto ARIMA</td>\n",
              "      <td id=\"T_54962_row0_col1\" class=\"data row0 col1\" >2.3312</td>\n",
              "      <td id=\"T_54962_row0_col2\" class=\"data row0 col2\" >2.2491</td>\n",
              "      <td id=\"T_54962_row0_col3\" class=\"data row0 col3\" >6.1501</td>\n",
              "      <td id=\"T_54962_row0_col4\" class=\"data row0 col4\" >7.0761</td>\n",
              "      <td id=\"T_54962_row0_col5\" class=\"data row0 col5\" >0.0296</td>\n",
              "      <td id=\"T_54962_row0_col6\" class=\"data row0 col6\" >0.0301</td>\n",
              "      <td id=\"T_54962_row0_col7\" class=\"data row0 col7\" >0.4940</td>\n",
              "      <td id=\"T_54962_row0_col8\" class=\"data row0 col8\" >29.2600</td>\n",
              "    </tr>\n",
              "    <tr>\n",
              "      <th id=\"T_54962_level0_row1\" class=\"row_heading level0 row1\" >2</th>\n",
              "      <td id=\"T_54962_row1_col0\" class=\"data row1 col0\" >ARIMA</td>\n",
              "      <td id=\"T_54962_row1_col1\" class=\"data row1 col1\" >2.4443</td>\n",
              "      <td id=\"T_54962_row1_col2\" class=\"data row1 col2\" >2.3811</td>\n",
              "      <td id=\"T_54962_row1_col3\" class=\"data row1 col3\" >6.4486</td>\n",
              "      <td id=\"T_54962_row1_col4\" class=\"data row1 col4\" >7.4914</td>\n",
              "      <td id=\"T_54962_row1_col5\" class=\"data row1 col5\" >0.0309</td>\n",
              "      <td id=\"T_54962_row1_col6\" class=\"data row1 col6\" >0.0316</td>\n",
              "      <td id=\"T_54962_row1_col7\" class=\"data row1 col7\" >0.4329</td>\n",
              "      <td id=\"T_54962_row1_col8\" class=\"data row1 col8\" >0.1800</td>\n",
              "    </tr>\n",
              "    <tr>\n",
              "      <th id=\"T_54962_level0_row2\" class=\"row_heading level0 row2\" >0</th>\n",
              "      <td id=\"T_54962_row2_col0\" class=\"data row2 col0\" >ETS</td>\n",
              "      <td id=\"T_54962_row2_col1\" class=\"data row2 col1\" >2.8143</td>\n",
              "      <td id=\"T_54962_row2_col2\" class=\"data row2 col2\" >2.7095</td>\n",
              "      <td id=\"T_54962_row2_col3\" class=\"data row2 col3\" >7.4246</td>\n",
              "      <td id=\"T_54962_row2_col4\" class=\"data row2 col4\" >8.5244</td>\n",
              "      <td id=\"T_54962_row2_col5\" class=\"data row2 col5\" >0.0356</td>\n",
              "      <td id=\"T_54962_row2_col6\" class=\"data row2 col6\" >0.0365</td>\n",
              "      <td id=\"T_54962_row2_col7\" class=\"data row2 col7\" >0.2657</td>\n",
              "      <td id=\"T_54962_row2_col8\" class=\"data row2 col8\" >0.1400</td>\n",
              "    </tr>\n",
              "  </tbody>\n",
              "</table>\n"
            ]
          },
          "metadata": {}
        },
        {
          "output_type": "display_data",
          "data": {
            "text/plain": [
              "Processing:   0%|          | 0/17 [00:00<?, ?it/s]"
            ],
            "application/vnd.jupyter.widget-view+json": {
              "version_major": 2,
              "version_minor": 0,
              "model_id": "b0e5510a451a4d4d8f0aa8957064eb02"
            }
          },
          "metadata": {
            "application/vnd.jupyter.widget-view+json": {
              "colab": {
                "custom_widget_manager": {
                  "url": "https://ssl.gstatic.com/colaboratory-static/widgets/colab-cdn-widget-manager/2b70e893a8ba7c0f/manager.min.js"
                }
              }
            }
          }
        },
        {
          "output_type": "display_data",
          "data": {
            "text/plain": [
              "<IPython.core.display.HTML object>"
            ],
            "text/html": []
          },
          "metadata": {}
        },
        {
          "output_type": "execute_result",
          "data": {
            "text/plain": [
              "AutoARIMA(max_p=2, max_q=2, random_state=8623, sp=3, start_p=0, start_q=0,\n",
              "          stepwise=False, suppress_warnings=True)"
            ],
            "text/html": [
              "<style>#sk-a0ed689a-ace8-47b5-96fc-23ad1fc792b2 {color: black;background-color: white;}#sk-a0ed689a-ace8-47b5-96fc-23ad1fc792b2 pre{padding: 0;}#sk-a0ed689a-ace8-47b5-96fc-23ad1fc792b2 div.sk-toggleable {background-color: white;}#sk-a0ed689a-ace8-47b5-96fc-23ad1fc792b2 label.sk-toggleable__label {cursor: pointer;display: block;width: 100%;margin-bottom: 0;padding: 0.3em;box-sizing: border-box;text-align: center;}#sk-a0ed689a-ace8-47b5-96fc-23ad1fc792b2 label.sk-toggleable__label-arrow:before {content: \"▸\";float: left;margin-right: 0.25em;color: #696969;}#sk-a0ed689a-ace8-47b5-96fc-23ad1fc792b2 label.sk-toggleable__label-arrow:hover:before {color: black;}#sk-a0ed689a-ace8-47b5-96fc-23ad1fc792b2 div.sk-estimator:hover label.sk-toggleable__label-arrow:before {color: black;}#sk-a0ed689a-ace8-47b5-96fc-23ad1fc792b2 div.sk-toggleable__content {max-height: 0;max-width: 0;overflow: hidden;text-align: left;background-color: #f0f8ff;}#sk-a0ed689a-ace8-47b5-96fc-23ad1fc792b2 div.sk-toggleable__content pre {margin: 0.2em;color: black;border-radius: 0.25em;background-color: #f0f8ff;}#sk-a0ed689a-ace8-47b5-96fc-23ad1fc792b2 input.sk-toggleable__control:checked~div.sk-toggleable__content {max-height: 200px;max-width: 100%;overflow: auto;}#sk-a0ed689a-ace8-47b5-96fc-23ad1fc792b2 input.sk-toggleable__control:checked~label.sk-toggleable__label-arrow:before {content: \"▾\";}#sk-a0ed689a-ace8-47b5-96fc-23ad1fc792b2 div.sk-estimator input.sk-toggleable__control:checked~label.sk-toggleable__label {background-color: #d4ebff;}#sk-a0ed689a-ace8-47b5-96fc-23ad1fc792b2 div.sk-label input.sk-toggleable__control:checked~label.sk-toggleable__label {background-color: #d4ebff;}#sk-a0ed689a-ace8-47b5-96fc-23ad1fc792b2 input.sk-hidden--visually {border: 0;clip: rect(1px 1px 1px 1px);clip: rect(1px, 1px, 1px, 1px);height: 1px;margin: -1px;overflow: hidden;padding: 0;position: absolute;width: 1px;}#sk-a0ed689a-ace8-47b5-96fc-23ad1fc792b2 div.sk-estimator {font-family: monospace;background-color: #f0f8ff;border: 1px dotted black;border-radius: 0.25em;box-sizing: border-box;margin-bottom: 0.5em;}#sk-a0ed689a-ace8-47b5-96fc-23ad1fc792b2 div.sk-estimator:hover {background-color: #d4ebff;}#sk-a0ed689a-ace8-47b5-96fc-23ad1fc792b2 div.sk-parallel-item::after {content: \"\";width: 100%;border-bottom: 1px solid gray;flex-grow: 1;}#sk-a0ed689a-ace8-47b5-96fc-23ad1fc792b2 div.sk-label:hover label.sk-toggleable__label {background-color: #d4ebff;}#sk-a0ed689a-ace8-47b5-96fc-23ad1fc792b2 div.sk-serial::before {content: \"\";position: absolute;border-left: 1px solid gray;box-sizing: border-box;top: 2em;bottom: 0;left: 50%;}#sk-a0ed689a-ace8-47b5-96fc-23ad1fc792b2 div.sk-serial {display: flex;flex-direction: column;align-items: center;background-color: white;padding-right: 0.2em;padding-left: 0.2em;}#sk-a0ed689a-ace8-47b5-96fc-23ad1fc792b2 div.sk-item {z-index: 1;}#sk-a0ed689a-ace8-47b5-96fc-23ad1fc792b2 div.sk-parallel {display: flex;align-items: stretch;justify-content: center;background-color: white;}#sk-a0ed689a-ace8-47b5-96fc-23ad1fc792b2 div.sk-parallel::before {content: \"\";position: absolute;border-left: 1px solid gray;box-sizing: border-box;top: 2em;bottom: 0;left: 50%;}#sk-a0ed689a-ace8-47b5-96fc-23ad1fc792b2 div.sk-parallel-item {display: flex;flex-direction: column;position: relative;background-color: white;}#sk-a0ed689a-ace8-47b5-96fc-23ad1fc792b2 div.sk-parallel-item:first-child::after {align-self: flex-end;width: 50%;}#sk-a0ed689a-ace8-47b5-96fc-23ad1fc792b2 div.sk-parallel-item:last-child::after {align-self: flex-start;width: 50%;}#sk-a0ed689a-ace8-47b5-96fc-23ad1fc792b2 div.sk-parallel-item:only-child::after {width: 0;}#sk-a0ed689a-ace8-47b5-96fc-23ad1fc792b2 div.sk-dashed-wrapped {border: 1px dashed gray;margin: 0 0.4em 0.5em 0.4em;box-sizing: border-box;padding-bottom: 0.4em;background-color: white;position: relative;}#sk-a0ed689a-ace8-47b5-96fc-23ad1fc792b2 div.sk-label label {font-family: monospace;font-weight: bold;background-color: white;display: inline-block;line-height: 1.2em;}#sk-a0ed689a-ace8-47b5-96fc-23ad1fc792b2 div.sk-label-container {position: relative;z-index: 2;text-align: center;}#sk-a0ed689a-ace8-47b5-96fc-23ad1fc792b2 div.sk-container {/* jupyter's `normalize.less` sets `[hidden] { display: none; }` but bootstrap.min.css set `[hidden] { display: none !important; }` so we also need the `!important` here to be able to override the default hidden behavior on the sphinx rendered scikit-learn.org. See: https://github.com/scikit-learn/scikit-learn/issues/21755 */display: inline-block !important;position: relative;}#sk-a0ed689a-ace8-47b5-96fc-23ad1fc792b2 div.sk-text-repr-fallback {display: none;}</style><div id='sk-a0ed689a-ace8-47b5-96fc-23ad1fc792b2' class=\"sk-top-container\"><div class=\"sk-text-repr-fallback\"><pre>AutoARIMA(max_p=2, max_q=2, random_state=8623, sp=3, start_p=0, start_q=0,\n",
              "          stepwise=False, suppress_warnings=True)</pre><b>Please rerun this cell to show the HTML repr or trust the notebook.</b></div><div class=\"sk-container\" hidden><div class='sk-item'><div class=\"sk-estimator sk-toggleable\"><input class=\"sk-toggleable__control sk-hidden--visually\" id=UUID('71b6dca0-3521-48ec-b8dd-7fa65ad87696') type=\"checkbox\" checked><label for=UUID('71b6dca0-3521-48ec-b8dd-7fa65ad87696') class='sk-toggleable__label sk-toggleable__label-arrow'>AutoARIMA</label><div class=\"sk-toggleable__content\"><pre>AutoARIMA(max_p=2, max_q=2, random_state=8623, sp=3, start_p=0, start_q=0,\n",
              "          stepwise=False, suppress_warnings=True)</pre></div></div></div></div></div>"
            ]
          },
          "metadata": {},
          "execution_count": 21
        }
      ]
    },
    {
      "cell_type": "markdown",
      "source": [
        "Auto ARIMA is our best model."
      ],
      "metadata": {
        "id": "2AG0qCa2hINe"
      }
    },
    {
      "cell_type": "code",
      "source": [
        "exp.plot_model(auto_arima, plot='forecast', data_kwargs={'fh':36})\n"
      ],
      "metadata": {
        "colab": {
          "base_uri": "https://localhost:8080/",
          "height": 542
        },
        "id": "xUWKmI4fg3B-",
        "outputId": "bfab5bd8-1529-42cb-f968-bd36380628fd"
      },
      "execution_count": null,
      "outputs": [
        {
          "output_type": "display_data",
          "data": {
            "text/html": [
              "<html>\n",
              "<head><meta charset=\"utf-8\" /></head>\n",
              "<body>\n",
              "    <div>            <script src=\"https://cdnjs.cloudflare.com/ajax/libs/mathjax/2.7.5/MathJax.js?config=TeX-AMS-MML_SVG\"></script><script type=\"text/javascript\">if (window.MathJax && window.MathJax.Hub && window.MathJax.Hub.Config) {window.MathJax.Hub.Config({SVG: {font: \"STIX-Web\"}});}</script>                <script type=\"text/javascript\">window.PlotlyConfig = {MathJaxConfig: 'local'};</script>\n",
              "        <script charset=\"utf-8\" src=\"https://cdn.plot.ly/plotly-2.35.2.min.js\"></script>                <div id=\"7b605d08-46d4-49b8-9e22-a40b95394f49\" class=\"plotly-graph-div\" style=\"height:525px; width:100%;\"></div>            <script type=\"text/javascript\">                                    window.PLOTLYENV=window.PLOTLYENV || {};                                    if (document.getElementById(\"7b605d08-46d4-49b8-9e22-a40b95394f49\")) {                    Plotly.newPlot(                        \"7b605d08-46d4-49b8-9e22-a40b95394f49\",                        [{\"line\":{\"color\":\"#1f77b4\"},\"marker\":{\"size\":5},\"mode\":\"lines+markers\",\"name\":\"Forecast | Auto ARIMA\",\"showlegend\":true,\"x\":[\"2003-10-01T00:00:00\",\"2004-01-01T00:00:00\",\"2004-04-01T00:00:00\",\"2004-07-01T00:00:00\",\"2004-10-01T00:00:00\",\"2005-01-01T00:00:00\",\"2005-04-01T00:00:00\",\"2005-07-01T00:00:00\",\"2005-10-01T00:00:00\",\"2006-01-01T00:00:00\",\"2006-04-01T00:00:00\",\"2006-07-01T00:00:00\",\"2006-10-01T00:00:00\",\"2007-01-01T00:00:00\",\"2007-04-01T00:00:00\",\"2007-07-01T00:00:00\",\"2007-10-01T00:00:00\",\"2008-01-01T00:00:00\",\"2008-04-01T00:00:00\",\"2008-07-01T00:00:00\",\"2008-10-01T00:00:00\",\"2009-01-01T00:00:00\",\"2009-04-01T00:00:00\",\"2009-07-01T00:00:00\",\"2009-10-01T00:00:00\",\"2010-01-01T00:00:00\",\"2010-04-01T00:00:00\",\"2010-07-01T00:00:00\",\"2010-10-01T00:00:00\",\"2011-01-01T00:00:00\",\"2011-04-01T00:00:00\",\"2011-07-01T00:00:00\",\"2011-10-01T00:00:00\",\"2012-01-01T00:00:00\",\"2012-04-01T00:00:00\",\"2012-07-01T00:00:00\"],\"y\":[185.7633,186.5791,187.6457,188.5931,189.5264,190.5528,191.5395,192.5242,193.5456,194.5559,195.5685,196.5976,197.6257,198.6579,199.6991,200.7431,201.7917,202.8467,203.9059,204.9698,206.0392,207.1132,208.1922,209.2762,210.365,211.4587,212.5574,213.661,214.7694,215.8828,217.0012,218.1244,219.2525,220.3855,221.5235,222.6664],\"type\":\"scatter\"},{\"line\":{\"width\":0},\"marker\":{\"color\":\"#68BBE3\"},\"mode\":\"lines\",\"name\":\"Lower Interval\",\"showlegend\":false,\"x\":[\"2003-10-01T00:00:00\",\"2004-01-01T00:00:00\",\"2004-04-01T00:00:00\",\"2004-07-01T00:00:00\",\"2004-10-01T00:00:00\",\"2005-01-01T00:00:00\",\"2005-04-01T00:00:00\",\"2005-07-01T00:00:00\",\"2005-10-01T00:00:00\",\"2006-01-01T00:00:00\",\"2006-04-01T00:00:00\",\"2006-07-01T00:00:00\",\"2006-10-01T00:00:00\",\"2007-01-01T00:00:00\",\"2007-04-01T00:00:00\",\"2007-07-01T00:00:00\",\"2007-10-01T00:00:00\",\"2008-01-01T00:00:00\",\"2008-04-01T00:00:00\",\"2008-07-01T00:00:00\",\"2008-10-01T00:00:00\",\"2009-01-01T00:00:00\",\"2009-04-01T00:00:00\",\"2009-07-01T00:00:00\",\"2009-10-01T00:00:00\",\"2010-01-01T00:00:00\",\"2010-04-01T00:00:00\",\"2010-07-01T00:00:00\",\"2010-10-01T00:00:00\",\"2011-01-01T00:00:00\",\"2011-04-01T00:00:00\",\"2011-07-01T00:00:00\",\"2011-10-01T00:00:00\",\"2012-01-01T00:00:00\",\"2012-04-01T00:00:00\",\"2012-07-01T00:00:00\"],\"y\":[185.0548,185.368,185.9865,186.3524,186.7064,187.1682,187.5513,187.9266,188.3365,188.7167,189.0901,189.4716,189.8386,190.1987,190.5572,190.9062,191.2481,191.585,191.914,192.236,192.5518,192.8605,193.1623,193.4577,193.7463,194.0284,194.3041,194.5735,194.8365,195.0935,195.3443,195.5892,195.8283,196.0615,196.2892,196.5112],\"type\":\"scatter\"},{\"fill\":\"tonexty\",\"fillcolor\":\"rgba(104,187,227,0.5)\",\"line\":{\"width\":0},\"marker\":{\"color\":\"#68BBE3\"},\"mode\":\"lines\",\"name\":\"Prediction Interval | Auto ARIMA\",\"showlegend\":true,\"x\":[\"2003-10-01T00:00:00\",\"2004-01-01T00:00:00\",\"2004-04-01T00:00:00\",\"2004-07-01T00:00:00\",\"2004-10-01T00:00:00\",\"2005-01-01T00:00:00\",\"2005-04-01T00:00:00\",\"2005-07-01T00:00:00\",\"2005-10-01T00:00:00\",\"2006-01-01T00:00:00\",\"2006-04-01T00:00:00\",\"2006-07-01T00:00:00\",\"2006-10-01T00:00:00\",\"2007-01-01T00:00:00\",\"2007-04-01T00:00:00\",\"2007-07-01T00:00:00\",\"2007-10-01T00:00:00\",\"2008-01-01T00:00:00\",\"2008-04-01T00:00:00\",\"2008-07-01T00:00:00\",\"2008-10-01T00:00:00\",\"2009-01-01T00:00:00\",\"2009-04-01T00:00:00\",\"2009-07-01T00:00:00\",\"2009-10-01T00:00:00\",\"2010-01-01T00:00:00\",\"2010-04-01T00:00:00\",\"2010-07-01T00:00:00\",\"2010-10-01T00:00:00\",\"2011-01-01T00:00:00\",\"2011-04-01T00:00:00\",\"2011-07-01T00:00:00\",\"2011-10-01T00:00:00\",\"2012-01-01T00:00:00\",\"2012-04-01T00:00:00\",\"2012-07-01T00:00:00\"],\"y\":[186.4718,187.7903,189.3048,190.8339,192.3463,193.9373,195.5276,197.1219,198.7548,200.395,202.047,203.7236,205.4128,207.1171,208.8409,210.58,212.3353,214.1084,215.8977,217.7036,219.5266,221.366,223.222,225.0946,226.9836,228.889,230.8106,232.7485,234.7023,236.6722,238.658,240.6595,242.6767,244.7095,246.7578,248.8215],\"type\":\"scatter\"},{\"marker\":{\"color\":\"#3f3f3f\",\"size\":5},\"mode\":\"lines+markers\",\"name\":\"Original\",\"showlegend\":true,\"x\":[\"1959-01-01T00:00:00\",\"1959-04-01T00:00:00\",\"1959-07-01T00:00:00\",\"1959-10-01T00:00:00\",\"1960-01-01T00:00:00\",\"1960-04-01T00:00:00\",\"1960-07-01T00:00:00\",\"1960-10-01T00:00:00\",\"1961-01-01T00:00:00\",\"1961-04-01T00:00:00\",\"1961-07-01T00:00:00\",\"1961-10-01T00:00:00\",\"1962-01-01T00:00:00\",\"1962-04-01T00:00:00\",\"1962-07-01T00:00:00\",\"1962-10-01T00:00:00\",\"1963-01-01T00:00:00\",\"1963-04-01T00:00:00\",\"1963-07-01T00:00:00\",\"1963-10-01T00:00:00\",\"1964-01-01T00:00:00\",\"1964-04-01T00:00:00\",\"1964-07-01T00:00:00\",\"1964-10-01T00:00:00\",\"1965-01-01T00:00:00\",\"1965-04-01T00:00:00\",\"1965-07-01T00:00:00\",\"1965-10-01T00:00:00\",\"1966-01-01T00:00:00\",\"1966-04-01T00:00:00\",\"1966-07-01T00:00:00\",\"1966-10-01T00:00:00\",\"1967-01-01T00:00:00\",\"1967-04-01T00:00:00\",\"1967-07-01T00:00:00\",\"1967-10-01T00:00:00\",\"1968-01-01T00:00:00\",\"1968-04-01T00:00:00\",\"1968-07-01T00:00:00\",\"1968-10-01T00:00:00\",\"1969-01-01T00:00:00\",\"1969-04-01T00:00:00\",\"1969-07-01T00:00:00\",\"1969-10-01T00:00:00\",\"1970-01-01T00:00:00\",\"1970-04-01T00:00:00\",\"1970-07-01T00:00:00\",\"1970-10-01T00:00:00\",\"1971-01-01T00:00:00\",\"1971-04-01T00:00:00\",\"1971-07-01T00:00:00\",\"1971-10-01T00:00:00\",\"1972-01-01T00:00:00\",\"1972-04-01T00:00:00\",\"1972-07-01T00:00:00\",\"1972-10-01T00:00:00\",\"1973-01-01T00:00:00\",\"1973-04-01T00:00:00\",\"1973-07-01T00:00:00\",\"1973-10-01T00:00:00\",\"1974-01-01T00:00:00\",\"1974-04-01T00:00:00\",\"1974-07-01T00:00:00\",\"1974-10-01T00:00:00\",\"1975-01-01T00:00:00\",\"1975-04-01T00:00:00\",\"1975-07-01T00:00:00\",\"1975-10-01T00:00:00\",\"1976-01-01T00:00:00\",\"1976-04-01T00:00:00\",\"1976-07-01T00:00:00\",\"1976-10-01T00:00:00\",\"1977-01-01T00:00:00\",\"1977-04-01T00:00:00\",\"1977-07-01T00:00:00\",\"1977-10-01T00:00:00\",\"1978-01-01T00:00:00\",\"1978-04-01T00:00:00\",\"1978-07-01T00:00:00\",\"1978-10-01T00:00:00\",\"1979-01-01T00:00:00\",\"1979-04-01T00:00:00\",\"1979-07-01T00:00:00\",\"1979-10-01T00:00:00\",\"1980-01-01T00:00:00\",\"1980-04-01T00:00:00\",\"1980-07-01T00:00:00\",\"1980-10-01T00:00:00\",\"1981-01-01T00:00:00\",\"1981-04-01T00:00:00\",\"1981-07-01T00:00:00\",\"1981-10-01T00:00:00\",\"1982-01-01T00:00:00\",\"1982-04-01T00:00:00\",\"1982-07-01T00:00:00\",\"1982-10-01T00:00:00\",\"1983-01-01T00:00:00\",\"1983-04-01T00:00:00\",\"1983-07-01T00:00:00\",\"1983-10-01T00:00:00\",\"1984-01-01T00:00:00\",\"1984-04-01T00:00:00\",\"1984-07-01T00:00:00\",\"1984-10-01T00:00:00\",\"1985-01-01T00:00:00\",\"1985-04-01T00:00:00\",\"1985-07-01T00:00:00\",\"1985-10-01T00:00:00\",\"1986-01-01T00:00:00\",\"1986-04-01T00:00:00\",\"1986-07-01T00:00:00\",\"1986-10-01T00:00:00\",\"1987-01-01T00:00:00\",\"1987-04-01T00:00:00\",\"1987-07-01T00:00:00\",\"1987-10-01T00:00:00\",\"1988-01-01T00:00:00\",\"1988-04-01T00:00:00\",\"1988-07-01T00:00:00\",\"1988-10-01T00:00:00\",\"1989-01-01T00:00:00\",\"1989-04-01T00:00:00\",\"1989-07-01T00:00:00\",\"1989-10-01T00:00:00\",\"1990-01-01T00:00:00\",\"1990-04-01T00:00:00\",\"1990-07-01T00:00:00\",\"1990-10-01T00:00:00\",\"1991-01-01T00:00:00\",\"1991-04-01T00:00:00\",\"1991-07-01T00:00:00\",\"1991-10-01T00:00:00\",\"1992-01-01T00:00:00\",\"1992-04-01T00:00:00\",\"1992-07-01T00:00:00\",\"1992-10-01T00:00:00\",\"1993-01-01T00:00:00\",\"1993-04-01T00:00:00\",\"1993-07-01T00:00:00\",\"1993-10-01T00:00:00\",\"1994-01-01T00:00:00\",\"1994-04-01T00:00:00\",\"1994-07-01T00:00:00\",\"1994-10-01T00:00:00\",\"1995-01-01T00:00:00\",\"1995-04-01T00:00:00\",\"1995-07-01T00:00:00\",\"1995-10-01T00:00:00\",\"1996-01-01T00:00:00\",\"1996-04-01T00:00:00\",\"1996-07-01T00:00:00\",\"1996-10-01T00:00:00\",\"1997-01-01T00:00:00\",\"1997-04-01T00:00:00\",\"1997-07-01T00:00:00\",\"1997-10-01T00:00:00\",\"1998-01-01T00:00:00\",\"1998-04-01T00:00:00\",\"1998-07-01T00:00:00\",\"1998-10-01T00:00:00\",\"1999-01-01T00:00:00\",\"1999-04-01T00:00:00\",\"1999-07-01T00:00:00\",\"1999-10-01T00:00:00\",\"2000-01-01T00:00:00\",\"2000-04-01T00:00:00\",\"2000-07-01T00:00:00\",\"2000-10-01T00:00:00\",\"2001-01-01T00:00:00\",\"2001-04-01T00:00:00\",\"2001-07-01T00:00:00\",\"2001-10-01T00:00:00\",\"2002-01-01T00:00:00\",\"2002-04-01T00:00:00\",\"2002-07-01T00:00:00\",\"2002-10-01T00:00:00\",\"2003-01-01T00:00:00\",\"2003-04-01T00:00:00\",\"2003-07-01T00:00:00\",\"2003-10-01T00:00:00\",\"2004-01-01T00:00:00\",\"2004-04-01T00:00:00\",\"2004-07-01T00:00:00\",\"2004-10-01T00:00:00\",\"2005-01-01T00:00:00\",\"2005-04-01T00:00:00\",\"2005-07-01T00:00:00\",\"2005-10-01T00:00:00\",\"2006-01-01T00:00:00\",\"2006-04-01T00:00:00\",\"2006-07-01T00:00:00\",\"2006-10-01T00:00:00\",\"2007-01-01T00:00:00\",\"2007-04-01T00:00:00\",\"2007-07-01T00:00:00\",\"2007-10-01T00:00:00\",\"2008-01-01T00:00:00\",\"2008-04-01T00:00:00\",\"2008-07-01T00:00:00\",\"2008-10-01T00:00:00\",\"2009-01-01T00:00:00\",\"2009-04-01T00:00:00\",\"2009-07-01T00:00:00\"],\"y\":[28.98,29.15,29.35,29.37,29.54,29.55,29.75,29.84,29.81,29.92,29.98,30.04,30.21,30.22,30.38,30.44,30.48,30.69,30.75,30.94,30.95,31.02,31.12,31.28,31.38,31.58,31.65,31.88,32.28,32.45,32.85,32.9,33.1,33.4,33.7,34.1,34.4,34.9,35.3,35.7,36.3,36.8,37.3,37.9,38.5,38.9,39.4,39.9,40.1,40.6,40.9,41.2,41.5,41.8,42.2,42.7,43.7,44.2,45.6,46.8,48.1,49.3,51.0,52.3,53.0,54.0,54.9,55.8,56.1,57.0,57.9,58.7,60.0,60.8,61.6,62.7,63.9,65.5,67.1,68.5,70.6,73.0,75.2,78.0,80.9,82.6,84.7,87.2,89.1,91.5,93.4,94.4,95.0,97.5,98.1,97.9,98.8,99.8,100.8,102.1,103.3,104.1,105.1,105.7,107.0,107.7,108.5,109.9,108.7,109.5,110.2,111.4,112.7,113.8,115.0,116.0,117.2,118.5,119.9,121.2,123.1,124.5,125.4,127.5,128.9,130.5,133.4,134.7,135.1,136.2,137.2,138.3,139.4,140.5,141.7,142.8,143.8,144.5,145.6,146.3,147.2,148.4,149.4,150.5,151.8,152.6,153.5,154.7,156.1,157.0,158.2,159.4,159.9,160.4,161.5,162.0,162.2,163.2,163.9,164.7,165.9,166.7,168.1,169.3,170.9,172.7,173.9,175.6,176.4,177.4,177.6,177.7,179.3,180.0,181.2,182.6,183.2,183.7,184.9,186.3,187.4,189.1,190.8,191.8,193.8,194.7,199.2,199.4,200.7,202.7,201.9,203.574,205.92,207.338,209.133,212.495,213.997,218.61,216.889,212.174,212.671,214.469,216.385],\"type\":\"scatter\"}],                        {\"title\":{\"text\":\"Actual vs. 'Out-of-Sample' Forecast | cpi\"},\"xaxis\":{\"title\":{\"text\":\"Time\"}},\"yaxis\":{\"title\":{\"text\":\"Values\"}},\"template\":{\"data\":{\"barpolar\":[{\"marker\":{\"line\":{\"color\":\"rgb(237,237,237)\",\"width\":0.5},\"pattern\":{\"fillmode\":\"overlay\",\"size\":10,\"solidity\":0.2}},\"type\":\"barpolar\"}],\"bar\":[{\"error_x\":{\"color\":\"rgb(51,51,51)\"},\"error_y\":{\"color\":\"rgb(51,51,51)\"},\"marker\":{\"line\":{\"color\":\"rgb(237,237,237)\",\"width\":0.5},\"pattern\":{\"fillmode\":\"overlay\",\"size\":10,\"solidity\":0.2}},\"type\":\"bar\"}],\"carpet\":[{\"aaxis\":{\"endlinecolor\":\"rgb(51,51,51)\",\"gridcolor\":\"white\",\"linecolor\":\"white\",\"minorgridcolor\":\"white\",\"startlinecolor\":\"rgb(51,51,51)\"},\"baxis\":{\"endlinecolor\":\"rgb(51,51,51)\",\"gridcolor\":\"white\",\"linecolor\":\"white\",\"minorgridcolor\":\"white\",\"startlinecolor\":\"rgb(51,51,51)\"},\"type\":\"carpet\"}],\"choropleth\":[{\"colorbar\":{\"outlinewidth\":0,\"tickcolor\":\"rgb(237,237,237)\",\"ticklen\":6,\"ticks\":\"inside\"},\"type\":\"choropleth\"}],\"contourcarpet\":[{\"colorbar\":{\"outlinewidth\":0,\"tickcolor\":\"rgb(237,237,237)\",\"ticklen\":6,\"ticks\":\"inside\"},\"type\":\"contourcarpet\"}],\"contour\":[{\"colorbar\":{\"outlinewidth\":0,\"tickcolor\":\"rgb(237,237,237)\",\"ticklen\":6,\"ticks\":\"inside\"},\"colorscale\":[[0,\"rgb(20,44,66)\"],[1,\"rgb(90,179,244)\"]],\"type\":\"contour\"}],\"heatmapgl\":[{\"colorbar\":{\"outlinewidth\":0,\"tickcolor\":\"rgb(237,237,237)\",\"ticklen\":6,\"ticks\":\"inside\"},\"colorscale\":[[0,\"rgb(20,44,66)\"],[1,\"rgb(90,179,244)\"]],\"type\":\"heatmapgl\"}],\"heatmap\":[{\"colorbar\":{\"outlinewidth\":0,\"tickcolor\":\"rgb(237,237,237)\",\"ticklen\":6,\"ticks\":\"inside\"},\"colorscale\":[[0,\"rgb(20,44,66)\"],[1,\"rgb(90,179,244)\"]],\"type\":\"heatmap\"}],\"histogram2dcontour\":[{\"colorbar\":{\"outlinewidth\":0,\"tickcolor\":\"rgb(237,237,237)\",\"ticklen\":6,\"ticks\":\"inside\"},\"colorscale\":[[0,\"rgb(20,44,66)\"],[1,\"rgb(90,179,244)\"]],\"type\":\"histogram2dcontour\"}],\"histogram2d\":[{\"colorbar\":{\"outlinewidth\":0,\"tickcolor\":\"rgb(237,237,237)\",\"ticklen\":6,\"ticks\":\"inside\"},\"colorscale\":[[0,\"rgb(20,44,66)\"],[1,\"rgb(90,179,244)\"]],\"type\":\"histogram2d\"}],\"histogram\":[{\"marker\":{\"pattern\":{\"fillmode\":\"overlay\",\"size\":10,\"solidity\":0.2}},\"type\":\"histogram\"}],\"mesh3d\":[{\"colorbar\":{\"outlinewidth\":0,\"tickcolor\":\"rgb(237,237,237)\",\"ticklen\":6,\"ticks\":\"inside\"},\"type\":\"mesh3d\"}],\"parcoords\":[{\"line\":{\"colorbar\":{\"outlinewidth\":0,\"tickcolor\":\"rgb(237,237,237)\",\"ticklen\":6,\"ticks\":\"inside\"}},\"type\":\"parcoords\"}],\"pie\":[{\"automargin\":true,\"type\":\"pie\"}],\"scatter3d\":[{\"line\":{\"colorbar\":{\"outlinewidth\":0,\"tickcolor\":\"rgb(237,237,237)\",\"ticklen\":6,\"ticks\":\"inside\"}},\"marker\":{\"colorbar\":{\"outlinewidth\":0,\"tickcolor\":\"rgb(237,237,237)\",\"ticklen\":6,\"ticks\":\"inside\"}},\"type\":\"scatter3d\"}],\"scattercarpet\":[{\"marker\":{\"colorbar\":{\"outlinewidth\":0,\"tickcolor\":\"rgb(237,237,237)\",\"ticklen\":6,\"ticks\":\"inside\"}},\"type\":\"scattercarpet\"}],\"scattergeo\":[{\"marker\":{\"colorbar\":{\"outlinewidth\":0,\"tickcolor\":\"rgb(237,237,237)\",\"ticklen\":6,\"ticks\":\"inside\"}},\"type\":\"scattergeo\"}],\"scattergl\":[{\"marker\":{\"colorbar\":{\"outlinewidth\":0,\"tickcolor\":\"rgb(237,237,237)\",\"ticklen\":6,\"ticks\":\"inside\"}},\"type\":\"scattergl\"}],\"scattermapbox\":[{\"marker\":{\"colorbar\":{\"outlinewidth\":0,\"tickcolor\":\"rgb(237,237,237)\",\"ticklen\":6,\"ticks\":\"inside\"}},\"type\":\"scattermapbox\"}],\"scatterpolargl\":[{\"marker\":{\"colorbar\":{\"outlinewidth\":0,\"tickcolor\":\"rgb(237,237,237)\",\"ticklen\":6,\"ticks\":\"inside\"}},\"type\":\"scatterpolargl\"}],\"scatterpolar\":[{\"marker\":{\"colorbar\":{\"outlinewidth\":0,\"tickcolor\":\"rgb(237,237,237)\",\"ticklen\":6,\"ticks\":\"inside\"}},\"type\":\"scatterpolar\"}],\"scatter\":[{\"fillpattern\":{\"fillmode\":\"overlay\",\"size\":10,\"solidity\":0.2},\"type\":\"scatter\"}],\"scatterternary\":[{\"marker\":{\"colorbar\":{\"outlinewidth\":0,\"tickcolor\":\"rgb(237,237,237)\",\"ticklen\":6,\"ticks\":\"inside\"}},\"type\":\"scatterternary\"}],\"surface\":[{\"colorbar\":{\"outlinewidth\":0,\"tickcolor\":\"rgb(237,237,237)\",\"ticklen\":6,\"ticks\":\"inside\"},\"colorscale\":[[0,\"rgb(20,44,66)\"],[1,\"rgb(90,179,244)\"]],\"type\":\"surface\"}],\"table\":[{\"cells\":{\"fill\":{\"color\":\"rgb(237,237,237)\"},\"line\":{\"color\":\"white\"}},\"header\":{\"fill\":{\"color\":\"rgb(217,217,217)\"},\"line\":{\"color\":\"white\"}},\"type\":\"table\"}]},\"layout\":{\"annotationdefaults\":{\"arrowhead\":0,\"arrowwidth\":1},\"autotypenumbers\":\"strict\",\"coloraxis\":{\"colorbar\":{\"outlinewidth\":0,\"tickcolor\":\"rgb(237,237,237)\",\"ticklen\":6,\"ticks\":\"inside\"}},\"colorscale\":{\"sequential\":[[0,\"rgb(20,44,66)\"],[1,\"rgb(90,179,244)\"]],\"sequentialminus\":[[0,\"rgb(20,44,66)\"],[1,\"rgb(90,179,244)\"]]},\"colorway\":[\"#F8766D\",\"#A3A500\",\"#00BF7D\",\"#00B0F6\",\"#E76BF3\"],\"font\":{\"color\":\"rgb(51,51,51)\"},\"geo\":{\"bgcolor\":\"white\",\"lakecolor\":\"white\",\"landcolor\":\"rgb(237,237,237)\",\"showlakes\":true,\"showland\":true,\"subunitcolor\":\"white\"},\"hoverlabel\":{\"align\":\"left\"},\"hovermode\":\"closest\",\"paper_bgcolor\":\"white\",\"plot_bgcolor\":\"rgb(237,237,237)\",\"polar\":{\"angularaxis\":{\"gridcolor\":\"white\",\"linecolor\":\"white\",\"showgrid\":true,\"tickcolor\":\"rgb(51,51,51)\",\"ticks\":\"outside\"},\"bgcolor\":\"rgb(237,237,237)\",\"radialaxis\":{\"gridcolor\":\"white\",\"linecolor\":\"white\",\"showgrid\":true,\"tickcolor\":\"rgb(51,51,51)\",\"ticks\":\"outside\"}},\"scene\":{\"xaxis\":{\"backgroundcolor\":\"rgb(237,237,237)\",\"gridcolor\":\"white\",\"gridwidth\":2,\"linecolor\":\"white\",\"showbackground\":true,\"showgrid\":true,\"tickcolor\":\"rgb(51,51,51)\",\"ticks\":\"outside\",\"zerolinecolor\":\"white\"},\"yaxis\":{\"backgroundcolor\":\"rgb(237,237,237)\",\"gridcolor\":\"white\",\"gridwidth\":2,\"linecolor\":\"white\",\"showbackground\":true,\"showgrid\":true,\"tickcolor\":\"rgb(51,51,51)\",\"ticks\":\"outside\",\"zerolinecolor\":\"white\"},\"zaxis\":{\"backgroundcolor\":\"rgb(237,237,237)\",\"gridcolor\":\"white\",\"gridwidth\":2,\"linecolor\":\"white\",\"showbackground\":true,\"showgrid\":true,\"tickcolor\":\"rgb(51,51,51)\",\"ticks\":\"outside\",\"zerolinecolor\":\"white\"}},\"shapedefaults\":{\"fillcolor\":\"black\",\"line\":{\"width\":0},\"opacity\":0.3},\"ternary\":{\"aaxis\":{\"gridcolor\":\"white\",\"linecolor\":\"white\",\"showgrid\":true,\"tickcolor\":\"rgb(51,51,51)\",\"ticks\":\"outside\"},\"baxis\":{\"gridcolor\":\"white\",\"linecolor\":\"white\",\"showgrid\":true,\"tickcolor\":\"rgb(51,51,51)\",\"ticks\":\"outside\"},\"bgcolor\":\"rgb(237,237,237)\",\"caxis\":{\"gridcolor\":\"white\",\"linecolor\":\"white\",\"showgrid\":true,\"tickcolor\":\"rgb(51,51,51)\",\"ticks\":\"outside\"}},\"xaxis\":{\"automargin\":true,\"gridcolor\":\"white\",\"linecolor\":\"white\",\"showgrid\":true,\"tickcolor\":\"rgb(51,51,51)\",\"ticks\":\"outside\",\"title\":{\"standoff\":15},\"zerolinecolor\":\"white\"},\"yaxis\":{\"automargin\":true,\"gridcolor\":\"white\",\"linecolor\":\"white\",\"showgrid\":true,\"tickcolor\":\"rgb(51,51,51)\",\"ticks\":\"outside\",\"title\":{\"standoff\":15},\"zerolinecolor\":\"white\"}}},\"showlegend\":true},                        {\"responsive\": true}                    ).then(function(){\n",
              "                            \n",
              "var gd = document.getElementById('7b605d08-46d4-49b8-9e22-a40b95394f49');\n",
              "var x = new MutationObserver(function (mutations, observer) {{\n",
              "        var display = window.getComputedStyle(gd).display;\n",
              "        if (!display || display === 'none') {{\n",
              "            console.log([gd, 'removed!']);\n",
              "            Plotly.purge(gd);\n",
              "            observer.disconnect();\n",
              "        }}\n",
              "}});\n",
              "\n",
              "// Listen for the removal of the full notebook cells\n",
              "var notebookContainer = gd.closest('#notebook-container');\n",
              "if (notebookContainer) {{\n",
              "    x.observe(notebookContainer, {childList: true});\n",
              "}}\n",
              "\n",
              "// Listen for the clearing of the current output cell\n",
              "var outputEl = gd.closest('.output');\n",
              "if (outputEl) {{\n",
              "    x.observe(outputEl, {childList: true});\n",
              "}}\n",
              "\n",
              "                        })                };                            </script>        </div>\n",
              "</body>\n",
              "</html>"
            ]
          },
          "metadata": {}
        }
      ]
    },
    {
      "cell_type": "code",
      "source": [
        "r2_score(df['cpi'][-24:], auto_ets.predict(df.index[-24:]))"
      ],
      "metadata": {
        "colab": {
          "base_uri": "https://localhost:8080/"
        },
        "id": "CT08a6E7eiyp",
        "outputId": "62bcc59a-197d-4bfc-ab7b-df4f1e6d62ee"
      },
      "execution_count": null,
      "outputs": [
        {
          "output_type": "execute_result",
          "data": {
            "text/plain": [
              "0.26565383420026445"
            ]
          },
          "metadata": {},
          "execution_count": 23
        }
      ]
    },
    {
      "cell_type": "code",
      "source": [
        "r2_score(df['cpi'][-24:], auto_arima.predict(df.index[-24:]))"
      ],
      "metadata": {
        "colab": {
          "base_uri": "https://localhost:8080/"
        },
        "id": "mYIuRYKXeo77",
        "outputId": "8ae5251e-4855-44d5-cc88-e926a617e9f4"
      },
      "execution_count": null,
      "outputs": [
        {
          "output_type": "execute_result",
          "data": {
            "text/plain": [
              "0.4939919303818502"
            ]
          },
          "metadata": {},
          "execution_count": 24
        }
      ]
    },
    {
      "cell_type": "code",
      "source": [
        "r2_score(df['cpi'][-24:], sarima1110104.predict(df.index[-24:]))"
      ],
      "metadata": {
        "colab": {
          "base_uri": "https://localhost:8080/"
        },
        "id": "XBD-w_8_epFN",
        "outputId": "6429f7c8-eca6-49b9-c127-e0b196e47ed8"
      },
      "execution_count": null,
      "outputs": [
        {
          "output_type": "execute_result",
          "data": {
            "text/plain": [
              "0.4328493313417414"
            ]
          },
          "metadata": {},
          "execution_count": 25
        }
      ]
    },
    {
      "cell_type": "markdown",
      "source": [
        "### 3"
      ],
      "metadata": {
        "id": "vGTZW2vXPOKV"
      }
    },
    {
      "cell_type": "code",
      "source": [
        "my_best_model = exp.finalize_model(auto_arima)"
      ],
      "metadata": {
        "id": "iIvs1DTve8u5"
      },
      "execution_count": null,
      "outputs": []
    },
    {
      "cell_type": "markdown",
      "source": [
        "### 4"
      ],
      "metadata": {
        "id": "tfH0ZNYEPRyS"
      }
    },
    {
      "cell_type": "code",
      "source": [
        "my_best_model.predict(pd.period_range(start='2025Q1', periods=1, freq='Q'))"
      ],
      "metadata": {
        "colab": {
          "base_uri": "https://localhost:8080/",
          "height": 115
        },
        "id": "icXcB91PfMYi",
        "outputId": "9d7a4c2a-a379-40ee-e070-476dcb38a3d1"
      },
      "execution_count": null,
      "outputs": [
        {
          "output_type": "execute_result",
          "data": {
            "text/plain": [
              "2025Q1    281.755391\n",
              "Freq: Q-DEC, Name: cpi, dtype: float64"
            ],
            "text/html": [
              "<div>\n",
              "<style scoped>\n",
              "    .dataframe tbody tr th:only-of-type {\n",
              "        vertical-align: middle;\n",
              "    }\n",
              "\n",
              "    .dataframe tbody tr th {\n",
              "        vertical-align: top;\n",
              "    }\n",
              "\n",
              "    .dataframe thead th {\n",
              "        text-align: right;\n",
              "    }\n",
              "</style>\n",
              "<table border=\"1\" class=\"dataframe\">\n",
              "  <thead>\n",
              "    <tr style=\"text-align: right;\">\n",
              "      <th></th>\n",
              "      <th>cpi</th>\n",
              "    </tr>\n",
              "  </thead>\n",
              "  <tbody>\n",
              "    <tr>\n",
              "      <th>2025Q1</th>\n",
              "      <td>281.755391</td>\n",
              "    </tr>\n",
              "  </tbody>\n",
              "</table>\n",
              "</div><br><label><b>dtype:</b> float64</label>"
            ]
          },
          "metadata": {},
          "execution_count": 27
        }
      ]
    },
    {
      "cell_type": "markdown",
      "source": [
        "Using our best model, the forecast for 'cpi' in 2025, quarter 1 is 281.755"
      ],
      "metadata": {
        "id": "X65wpAyiPTut"
      }
    }
  ]
}